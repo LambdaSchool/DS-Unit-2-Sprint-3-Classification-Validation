{
  "nbformat": 4,
  "nbformat_minor": 0,
  "metadata": {
    "colab": {
      "name": "Tuesday Assignment",
      "version": "0.3.2",
      "provenance": [],
      "include_colab_link": true
    },
    "kernelspec": {
      "name": "python3",
      "display_name": "Python 3"
    }
  },
  "cells": [
    {
      "cell_type": "markdown",
      "metadata": {
        "id": "view-in-github",
        "colab_type": "text"
      },
      "source": [
        "<a href=\"https://colab.research.google.com/github/Nolanole/DS-Unit-2-Sprint-3-Classification-Validation/blob/master/Tuesday_Assignment.ipynb\" target=\"_parent\"><img src=\"https://colab.research.google.com/assets/colab-badge.svg\" alt=\"Open In Colab\"/></a>"
      ]
    },
    {
      "cell_type": "markdown",
      "metadata": {
        "id": "GX3UdDDNItnw",
        "colab_type": "text"
      },
      "source": [
        "# ASSIGNMENT options\n",
        "\n",
        "- **Replicate the lesson code.** [Do it \"the hard way\" or with the \"Benjamin Franklin method.\"](https://docs.google.com/document/d/1ubOw9B3Hfip27hF2ZFnW3a3z9xAgrUDRReOEo-FHCVs/edit)\n",
        "- Apply the lesson to other datasets you've worked with before, and compare results.\n",
        "- Iterate and improve your **Bank Marketing** model. Engineer new features.\n",
        "- Get **weather** data for your own area and calculate both baselines.  _\"One (persistence) predicts that the weather tomorrow is going to be whatever it was today. The other (climatology) predicts whatever the average historical weather has been on this day from prior years.\"_ What is the mean absolute error for each baseline? What if you average the two together? \n",
        "- [This example from scikit-learn documentation](https://scikit-learn.org/stable/auto_examples/compose/plot_column_transformer_mixed_types.html) demonstrates its improved `OneHotEncoder` and new `ColumnTransformer` objects, which can replace functionality from [third-party libraries](https://github.com/scikit-learn-contrib) like category_encoders and sklearn-pandas. Adapt this example, which uses Titanic data, to work with Bank Marketing or another dataset.\n",
        "- When would this notebook's pipelines fail? How could you fix them? Add more [preprocessing](https://scikit-learn.org/stable/modules/preprocessing.html) and [imputation](https://scikit-learn.org/stable/modules/impute.html) to your [pipelines](https://scikit-learn.org/stable/modules/compose.html) with scikit-learn."
      ]
    },
    {
      "cell_type": "code",
      "metadata": {
        "id": "9FlK5QLKyFhK",
        "colab_type": "code",
        "colab": {}
      },
      "source": [
        "# Imports\n",
        "%matplotlib inline\n",
        "import warnings\n",
        "import category_encoders as ce\n",
        "import matplotlib.pyplot as plt\n",
        "import seaborn as sns\n",
        "import pandas as pd\n",
        "import numpy as np\n",
        "import graphviz\n",
        "from sklearn.impute import SimpleImputer\n",
        "from sklearn.tree import DecisionTreeClassifier, export_graphviz\n",
        "from sklearn.linear_model import LinearRegression, LogisticRegression\n",
        "from sklearn.model_selection import cross_val_score, train_test_split\n",
        "from sklearn.pipeline import make_pipeline\n",
        "from sklearn.metrics import roc_auc_score, accuracy_score\n",
        "from sklearn.preprocessing import StandardScaler\n",
        "from sklearn.exceptions import DataConversionWarning\n",
        "warnings.filterwarnings(action='ignore', category=DataConversionWarning)"
      ],
      "execution_count": 0,
      "outputs": []
    },
    {
      "cell_type": "code",
      "metadata": {
        "id": "7zMHDJlBd3Gx",
        "colab_type": "code",
        "colab": {}
      },
      "source": [
        "df = sns.load_dataset('titanic').drop(columns= ['alive', 'class', 'embark_town'])"
      ],
      "execution_count": 0,
      "outputs": []
    },
    {
      "cell_type": "code",
      "metadata": {
        "id": "7p-Mdy6G7rNx",
        "colab_type": "code",
        "colab": {}
      },
      "source": [
        "#fillna for 2 missing rows of embarked, using most frequent embarkation:\n",
        "df['embarked'] = df['embarked'].fillna(df['embarked'].mode()[0])\n",
        "\n",
        "#fillna for age w/ ~mean age of 30:\n",
        "df['age'] = df['age'].fillna(30)"
      ],
      "execution_count": 0,
      "outputs": []
    },
    {
      "cell_type": "code",
      "metadata": {
        "id": "CjYGQpmMH-9U",
        "colab_type": "code",
        "colab": {}
      },
      "source": [
        "#try a lil extra feature_engineering:\n",
        "\n",
        "df['num_companions'] = df['sibsp'] + df['parch'] "
      ],
      "execution_count": 0,
      "outputs": []
    },
    {
      "cell_type": "code",
      "metadata": {
        "id": "zqDl2gje9TtG",
        "colab_type": "code",
        "colab": {
          "base_uri": "https://localhost:8080/",
          "height": 198
        },
        "outputId": "1a1b25b5-30dc-4387-afdb-6fccf4887c3c"
      },
      "source": [
        "#convert categorical cols to numeric cat codes:\n",
        "\n",
        "cat_cols = ['pclass', 'sex', 'embarked', 'who', 'deck', 'adult_male', 'alone']\n",
        "\n",
        "def convert_categoricals(df, cat_cols):\n",
        "  copy = df.copy()\n",
        "  for col in cat_cols:\n",
        "    copy[col] = pd.Categorical(copy[col])\n",
        "    copy[col] = copy[col].cat.codes\n",
        "  return copy\n",
        "\n",
        "df = convert_categoricals(df, cat_cols)\n",
        "df.head()"
      ],
      "execution_count": 5,
      "outputs": [
        {
          "output_type": "execute_result",
          "data": {
            "text/html": [
              "<div>\n",
              "<style scoped>\n",
              "    .dataframe tbody tr th:only-of-type {\n",
              "        vertical-align: middle;\n",
              "    }\n",
              "\n",
              "    .dataframe tbody tr th {\n",
              "        vertical-align: top;\n",
              "    }\n",
              "\n",
              "    .dataframe thead th {\n",
              "        text-align: right;\n",
              "    }\n",
              "</style>\n",
              "<table border=\"1\" class=\"dataframe\">\n",
              "  <thead>\n",
              "    <tr style=\"text-align: right;\">\n",
              "      <th></th>\n",
              "      <th>survived</th>\n",
              "      <th>pclass</th>\n",
              "      <th>sex</th>\n",
              "      <th>age</th>\n",
              "      <th>sibsp</th>\n",
              "      <th>parch</th>\n",
              "      <th>fare</th>\n",
              "      <th>embarked</th>\n",
              "      <th>who</th>\n",
              "      <th>adult_male</th>\n",
              "      <th>deck</th>\n",
              "      <th>alone</th>\n",
              "      <th>num_companions</th>\n",
              "    </tr>\n",
              "  </thead>\n",
              "  <tbody>\n",
              "    <tr>\n",
              "      <th>0</th>\n",
              "      <td>0</td>\n",
              "      <td>2</td>\n",
              "      <td>1</td>\n",
              "      <td>22.0</td>\n",
              "      <td>1</td>\n",
              "      <td>0</td>\n",
              "      <td>7.2500</td>\n",
              "      <td>2</td>\n",
              "      <td>1</td>\n",
              "      <td>1</td>\n",
              "      <td>-1</td>\n",
              "      <td>0</td>\n",
              "      <td>1</td>\n",
              "    </tr>\n",
              "    <tr>\n",
              "      <th>1</th>\n",
              "      <td>1</td>\n",
              "      <td>0</td>\n",
              "      <td>0</td>\n",
              "      <td>38.0</td>\n",
              "      <td>1</td>\n",
              "      <td>0</td>\n",
              "      <td>71.2833</td>\n",
              "      <td>0</td>\n",
              "      <td>2</td>\n",
              "      <td>0</td>\n",
              "      <td>2</td>\n",
              "      <td>0</td>\n",
              "      <td>1</td>\n",
              "    </tr>\n",
              "    <tr>\n",
              "      <th>2</th>\n",
              "      <td>1</td>\n",
              "      <td>2</td>\n",
              "      <td>0</td>\n",
              "      <td>26.0</td>\n",
              "      <td>0</td>\n",
              "      <td>0</td>\n",
              "      <td>7.9250</td>\n",
              "      <td>2</td>\n",
              "      <td>2</td>\n",
              "      <td>0</td>\n",
              "      <td>-1</td>\n",
              "      <td>1</td>\n",
              "      <td>0</td>\n",
              "    </tr>\n",
              "    <tr>\n",
              "      <th>3</th>\n",
              "      <td>1</td>\n",
              "      <td>0</td>\n",
              "      <td>0</td>\n",
              "      <td>35.0</td>\n",
              "      <td>1</td>\n",
              "      <td>0</td>\n",
              "      <td>53.1000</td>\n",
              "      <td>2</td>\n",
              "      <td>2</td>\n",
              "      <td>0</td>\n",
              "      <td>2</td>\n",
              "      <td>0</td>\n",
              "      <td>1</td>\n",
              "    </tr>\n",
              "    <tr>\n",
              "      <th>4</th>\n",
              "      <td>0</td>\n",
              "      <td>2</td>\n",
              "      <td>1</td>\n",
              "      <td>35.0</td>\n",
              "      <td>0</td>\n",
              "      <td>0</td>\n",
              "      <td>8.0500</td>\n",
              "      <td>2</td>\n",
              "      <td>1</td>\n",
              "      <td>1</td>\n",
              "      <td>-1</td>\n",
              "      <td>1</td>\n",
              "      <td>0</td>\n",
              "    </tr>\n",
              "  </tbody>\n",
              "</table>\n",
              "</div>"
            ],
            "text/plain": [
              "   survived  pclass  sex   age  sibsp  parch     fare  embarked  who  \\\n",
              "0         0       2    1  22.0      1      0   7.2500         2    1   \n",
              "1         1       0    0  38.0      1      0  71.2833         0    2   \n",
              "2         1       2    0  26.0      0      0   7.9250         2    2   \n",
              "3         1       0    0  35.0      1      0  53.1000         2    2   \n",
              "4         0       2    1  35.0      0      0   8.0500         2    1   \n",
              "\n",
              "   adult_male  deck  alone  num_companions  \n",
              "0           1    -1      0               1  \n",
              "1           0     2      0               1  \n",
              "2           0    -1      1               0  \n",
              "3           0     2      0               1  \n",
              "4           1    -1      1               0  "
            ]
          },
          "metadata": {
            "tags": []
          },
          "execution_count": 5
        }
      ]
    },
    {
      "cell_type": "code",
      "metadata": {
        "id": "towR8IUiAGSK",
        "colab_type": "code",
        "colab": {}
      },
      "source": [
        "def test_pipeline(pipeline, X, y):\n",
        "  X_train, X_test, y_train, y_test = train_test_split(X, y, test_size=0.2, random_state=42)\n",
        "  \n",
        "  pipeline.fit(X_train, y_train)\n",
        "  y_pred = pipeline.predict(X_test)\n",
        "  print('Accuracy score: ' + str(accuracy_score(y_pred, y_test)))\n",
        "  y_pred_proba = pipeline.predict_proba(X_test)[:,1]\n",
        "  print('Roc_auc_score: ' + str(roc_auc_score(y_test, y_pred_proba)))"
      ],
      "execution_count": 0,
      "outputs": []
    },
    {
      "cell_type": "code",
      "metadata": {
        "id": "gwKnBcKE13_V",
        "colab_type": "code",
        "colab": {}
      },
      "source": [
        "tree_pipe = make_pipeline(\n",
        "    ce.OneHotEncoder(use_cat_names=True),\n",
        "    StandardScaler(),\n",
        "    DecisionTreeClassifier()\n",
        ")\n",
        "\n",
        "log_reg_pipe = make_pipeline(\n",
        "    ce.OneHotEncoder(use_cat_names=True),\n",
        "    StandardScaler(),\n",
        "    LogisticRegression(solver='lbfgs', max_iter=1000)\n",
        ")"
      ],
      "execution_count": 0,
      "outputs": []
    },
    {
      "cell_type": "code",
      "metadata": {
        "id": "-ygzhroxEKmz",
        "colab_type": "code",
        "colab": {}
      },
      "source": [
        "target = 'survived'\n",
        "X = df.drop(columns=target)\n",
        "y = df[target]"
      ],
      "execution_count": 0,
      "outputs": []
    },
    {
      "cell_type": "code",
      "metadata": {
        "id": "RzCSoEEuFsWL",
        "colab_type": "code",
        "colab": {
          "base_uri": "https://localhost:8080/",
          "height": 54
        },
        "outputId": "172545a3-fd89-4b8a-a783-1bf2035509fc"
      },
      "source": [
        "test_pipeline(tree_pipe, X, y)"
      ],
      "execution_count": 9,
      "outputs": [
        {
          "output_type": "stream",
          "text": [
            "Accuracy score: 0.7597765363128491\n",
            "Roc_auc_score: 0.7601673101673102\n"
          ],
          "name": "stdout"
        }
      ]
    },
    {
      "cell_type": "code",
      "metadata": {
        "id": "yXZzAOEBFvP0",
        "colab_type": "code",
        "colab": {
          "base_uri": "https://localhost:8080/",
          "height": 54
        },
        "outputId": "75ba09bf-6244-492a-b238-bf3dbbdf59f2"
      },
      "source": [
        "test_pipeline(log_reg_pipe, X, y)"
      ],
      "execution_count": 10,
      "outputs": [
        {
          "output_type": "stream",
          "text": [
            "Accuracy score: 0.8100558659217877\n",
            "Roc_auc_score: 0.8794079794079794\n"
          ],
          "name": "stdout"
        }
      ]
    },
    {
      "cell_type": "code",
      "metadata": {
        "id": "P-JGQRfBI5Vt",
        "colab_type": "code",
        "colab": {}
      },
      "source": [
        "#Use cross-validation w/ training data instead:\n",
        "\n",
        "def test_pipeline_cross_val(pipeline, X, y):\n",
        "  X_train, X_test, y_train, y_test = train_test_split(X, y, test_size=0.2, random_state=42)\n",
        "  scores = cross_val_score(pipeline, X_train, y_train, scoring='roc_auc', cv=10, n_jobs=-1, verbose=10)\n",
        "  print('Cross-Validation ROC AUC scores:', scores)\n",
        "  print('Average:', scores.mean())"
      ],
      "execution_count": 0,
      "outputs": []
    },
    {
      "cell_type": "code",
      "metadata": {
        "id": "iydgdBqVKa7a",
        "colab_type": "code",
        "colab": {
          "base_uri": "https://localhost:8080/",
          "height": 145
        },
        "outputId": "aabbd46f-ba1c-447b-deb9-91fa3b7a2de3"
      },
      "source": [
        "test_pipeline_cross_val(tree_pipe, X, y)"
      ],
      "execution_count": 12,
      "outputs": [
        {
          "output_type": "stream",
          "text": [
            "[Parallel(n_jobs=-1)]: Using backend LokyBackend with 2 concurrent workers.\n"
          ],
          "name": "stderr"
        },
        {
          "output_type": "stream",
          "text": [
            "Cross-Validation ROC AUC scores: [0.70246914 0.71851852 0.69835391 0.81481481 0.78661616 0.74242424\n",
            " 0.69276094 0.79292929 0.74519231 0.8361014 ]\n",
            "Average: 0.753018072462517\n"
          ],
          "name": "stdout"
        },
        {
          "output_type": "stream",
          "text": [
            "[Parallel(n_jobs=-1)]: Done   1 tasks      | elapsed:    1.9s\n",
            "[Parallel(n_jobs=-1)]: Done   4 tasks      | elapsed:    2.0s\n",
            "[Parallel(n_jobs=-1)]: Done  10 out of  10 | elapsed:    2.1s finished\n"
          ],
          "name": "stderr"
        }
      ]
    },
    {
      "cell_type": "code",
      "metadata": {
        "id": "E8dy61N1KigU",
        "colab_type": "code",
        "colab": {
          "base_uri": "https://localhost:8080/",
          "height": 163
        },
        "outputId": "d45a4ed2-613f-46df-c953-e89af9e44c8e"
      },
      "source": [
        "test_pipeline_cross_val(log_reg_pipe, X, y)"
      ],
      "execution_count": 13,
      "outputs": [
        {
          "output_type": "stream",
          "text": [
            "[Parallel(n_jobs=-1)]: Using backend LokyBackend with 2 concurrent workers.\n"
          ],
          "name": "stderr"
        },
        {
          "output_type": "stream",
          "text": [
            "Cross-Validation ROC AUC scores: [0.92345679 0.83786008 0.70452675 0.94650206 0.88468013 0.8047138\n",
            " 0.76346801 0.8973064  0.8277972  0.96328671]\n",
            "Average: 0.8553597945264613\n"
          ],
          "name": "stdout"
        },
        {
          "output_type": "stream",
          "text": [
            "[Parallel(n_jobs=-1)]: Done   1 tasks      | elapsed:    0.1s\n",
            "[Parallel(n_jobs=-1)]: Batch computation too fast (0.0546s.) Setting batch_size=6.\n",
            "[Parallel(n_jobs=-1)]: Done   3 out of  10 | elapsed:    0.1s remaining:    0.2s\n",
            "[Parallel(n_jobs=-1)]: Done  10 out of  10 | elapsed:    0.2s finished\n"
          ],
          "name": "stderr"
        }
      ]
    }
  ]
}