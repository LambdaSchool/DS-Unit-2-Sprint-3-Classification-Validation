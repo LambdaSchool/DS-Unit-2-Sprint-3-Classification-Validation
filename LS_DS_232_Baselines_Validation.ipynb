{
  "nbformat": 4,
  "nbformat_minor": 0,
  "metadata": {
    "colab": {
      "name": "LS_DS_232_Baselines_Validation.ipynb",
      "version": "0.3.2",
      "provenance": [],
      "include_colab_link": true
    },
    "kernelspec": {
      "name": "python3",
      "display_name": "Python 3"
    }
  },
  "cells": [
    {
      "cell_type": "markdown",
      "metadata": {
        "id": "view-in-github",
        "colab_type": "text"
      },
      "source": [
        "<a href=\"https://colab.research.google.com/github/LilySu/DS-Unit-2-Sprint-3-Classification-Validation/blob/master/LS_DS_232_Baselines_Validation.ipynb\" target=\"_parent\"><img src=\"https://colab.research.google.com/assets/colab-badge.svg\" alt=\"Open In Colab\"/></a>"
      ]
    },
    {
      "cell_type": "code",
      "metadata": {
        "id": "GVIGTHDAyKmd",
        "colab_type": "code",
        "colab": {}
      },
      "source": [
        "%matplotlib inline\n",
        "import matplotlib.pyplot as plt\n",
        "import pandas as pd \n",
        "\n",
        "url = 'https://raw.githubusercontent.com/LambdaSchool/DS-Unit-2-Sprint-3-Classification-Validation/master/module2-baselines-validation/weather-normal-il.csv'\n",
        "weather = pd.read_csv(url, parse_dates=['DATE']).set_index('DATE')\n",
        "# weather['2014-05':'2019-05'].plot(y='TMAX')\n",
        "# plt.title('Daily high temperature in Normal, IL');"
      ],
      "execution_count": 0,
      "outputs": []
    },
    {
      "cell_type": "code",
      "metadata": {
        "id": "wAPx8L43yV8x",
        "colab_type": "code",
        "colab": {
          "base_uri": "https://localhost:8080/",
          "height": 233
        },
        "outputId": "d5c2d599-870a-4917-eb0a-07ad2001b8d8"
      },
      "source": [
        "weather.head()"
      ],
      "execution_count": 45,
      "outputs": [
        {
          "output_type": "execute_result",
          "data": {
            "text/html": [
              "<div>\n",
              "<style scoped>\n",
              "    .dataframe tbody tr th:only-of-type {\n",
              "        vertical-align: middle;\n",
              "    }\n",
              "\n",
              "    .dataframe tbody tr th {\n",
              "        vertical-align: top;\n",
              "    }\n",
              "\n",
              "    .dataframe thead th {\n",
              "        text-align: right;\n",
              "    }\n",
              "</style>\n",
              "<table border=\"1\" class=\"dataframe\">\n",
              "  <thead>\n",
              "    <tr style=\"text-align: right;\">\n",
              "      <th></th>\n",
              "      <th>STATION</th>\n",
              "      <th>LATITUDE</th>\n",
              "      <th>LONGITUDE</th>\n",
              "      <th>PRCP</th>\n",
              "      <th>TMAX</th>\n",
              "      <th>TMIN</th>\n",
              "    </tr>\n",
              "    <tr>\n",
              "      <th>DATE</th>\n",
              "      <th></th>\n",
              "      <th></th>\n",
              "      <th></th>\n",
              "      <th></th>\n",
              "      <th></th>\n",
              "      <th></th>\n",
              "    </tr>\n",
              "  </thead>\n",
              "  <tbody>\n",
              "    <tr>\n",
              "      <th>1945-03-30</th>\n",
              "      <td>USC00110766</td>\n",
              "      <td>40.51667</td>\n",
              "      <td>-89.0</td>\n",
              "      <td>0.00</td>\n",
              "      <td>64.0</td>\n",
              "      <td>37.0</td>\n",
              "    </tr>\n",
              "    <tr>\n",
              "      <th>1945-03-31</th>\n",
              "      <td>USC00110766</td>\n",
              "      <td>40.51667</td>\n",
              "      <td>-89.0</td>\n",
              "      <td>0.31</td>\n",
              "      <td>68.0</td>\n",
              "      <td>38.0</td>\n",
              "    </tr>\n",
              "    <tr>\n",
              "      <th>1945-04-01</th>\n",
              "      <td>USC00110766</td>\n",
              "      <td>40.51667</td>\n",
              "      <td>-89.0</td>\n",
              "      <td>0.00</td>\n",
              "      <td>68.0</td>\n",
              "      <td>50.0</td>\n",
              "    </tr>\n",
              "    <tr>\n",
              "      <th>1945-04-02</th>\n",
              "      <td>USC00110766</td>\n",
              "      <td>40.51667</td>\n",
              "      <td>-89.0</td>\n",
              "      <td>1.01</td>\n",
              "      <td>62.0</td>\n",
              "      <td>49.0</td>\n",
              "    </tr>\n",
              "    <tr>\n",
              "      <th>1945-04-03</th>\n",
              "      <td>USC00110766</td>\n",
              "      <td>40.51667</td>\n",
              "      <td>-89.0</td>\n",
              "      <td>0.00</td>\n",
              "      <td>58.0</td>\n",
              "      <td>39.0</td>\n",
              "    </tr>\n",
              "  </tbody>\n",
              "</table>\n",
              "</div>"
            ],
            "text/plain": [
              "                STATION  LATITUDE  LONGITUDE  PRCP  TMAX  TMIN\n",
              "DATE                                                          \n",
              "1945-03-30  USC00110766  40.51667      -89.0  0.00  64.0  37.0\n",
              "1945-03-31  USC00110766  40.51667      -89.0  0.31  68.0  38.0\n",
              "1945-04-01  USC00110766  40.51667      -89.0  0.00  68.0  50.0\n",
              "1945-04-02  USC00110766  40.51667      -89.0  1.01  62.0  49.0\n",
              "1945-04-03  USC00110766  40.51667      -89.0  0.00  58.0  39.0"
            ]
          },
          "metadata": {
            "tags": []
          },
          "execution_count": 45
        }
      ]
    },
    {
      "cell_type": "code",
      "metadata": {
        "id": "KewlM-iLwA-P",
        "colab_type": "code",
        "colab": {
          "base_uri": "https://localhost:8080/",
          "height": 34
        },
        "outputId": "f254a549-c4a8-4836-bbee-6cd58072e703"
      },
      "source": [
        "weather['TMIN'].max()"
      ],
      "execution_count": 46,
      "outputs": [
        {
          "output_type": "execute_result",
          "data": {
            "text/plain": [
              "86.0"
            ]
          },
          "metadata": {
            "tags": []
          },
          "execution_count": 46
        }
      ]
    },
    {
      "cell_type": "code",
      "metadata": {
        "id": "Fmw6Pk2MyblQ",
        "colab_type": "code",
        "colab": {
          "base_uri": "https://localhost:8080/",
          "height": 34
        },
        "outputId": "abedb2ea-ce8c-4464-d9b4-b7ebd127a85b"
      },
      "source": [
        "weather.shape"
      ],
      "execution_count": 47,
      "outputs": [
        {
          "output_type": "execute_result",
          "data": {
            "text/plain": [
              "(26651, 6)"
            ]
          },
          "metadata": {
            "tags": []
          },
          "execution_count": 47
        }
      ]
    },
    {
      "cell_type": "code",
      "metadata": {
        "id": "xocGH1UYqZus",
        "colab_type": "code",
        "colab": {
          "base_uri": "https://localhost:8080/",
          "height": 34
        },
        "outputId": "bba0415f-cc88-4bbe-8c72-c3b4755a9409"
      },
      "source": [
        "from sklearn.metrics import mean_absolute_error\n",
        "predicted = [weather['TMIN'].mean()] * len(weather)\n",
        "mean_absolute_error(weather['TMIN'], predicted)"
      ],
      "execution_count": 48,
      "outputs": [
        {
          "output_type": "execute_result",
          "data": {
            "text/plain": [
              "16.467622280714586"
            ]
          },
          "metadata": {
            "tags": []
          },
          "execution_count": 48
        }
      ]
    },
    {
      "cell_type": "code",
      "metadata": {
        "id": "miQ0QuKrq5sU",
        "colab_type": "code",
        "colab": {
          "base_uri": "https://localhost:8080/",
          "height": 34
        },
        "outputId": "f4dca801-8aca-450f-83e5-04646477a51b"
      },
      "source": [
        "weather['TMIN_yesterday'] = weather.TMIN.shift(1)\n",
        "weather = weather.dropna()\n",
        "mean_absolute_error(weather.TMIN, weather.TMIN_yesterday)"
      ],
      "execution_count": 49,
      "outputs": [
        {
          "output_type": "execute_result",
          "data": {
            "text/plain": [
              "5.988405253283302"
            ]
          },
          "metadata": {
            "tags": []
          },
          "execution_count": 49
        }
      ]
    },
    {
      "cell_type": "code",
      "metadata": {
        "id": "XuVNJSmav0g4",
        "colab_type": "code",
        "colab": {}
      },
      "source": [
        "def above55(row):\n",
        "    if row['TMIN'] >= 55:\n",
        "        val = 'y'\n",
        "    else:\n",
        "        val = 'n'\n",
        "    return val\n",
        "\n",
        "weather['above55']=weather.apply(above55, axis=1)"
      ],
      "execution_count": 0,
      "outputs": []
    },
    {
      "cell_type": "code",
      "metadata": {
        "id": "FIRNpmblyqrK",
        "colab_type": "code",
        "colab": {}
      },
      "source": [
        "test = weather['above55'] == 'y'"
      ],
      "execution_count": 0,
      "outputs": []
    },
    {
      "cell_type": "code",
      "metadata": {
        "id": "1acNeNScwy83",
        "colab_type": "code",
        "colab": {
          "base_uri": "https://localhost:8080/",
          "height": 233
        },
        "outputId": "767a8dd8-1844-48dc-d095-0e8d811636cd"
      },
      "source": [
        "weather.head()"
      ],
      "execution_count": 82,
      "outputs": [
        {
          "output_type": "execute_result",
          "data": {
            "text/html": [
              "<div>\n",
              "<style scoped>\n",
              "    .dataframe tbody tr th:only-of-type {\n",
              "        vertical-align: middle;\n",
              "    }\n",
              "\n",
              "    .dataframe tbody tr th {\n",
              "        vertical-align: top;\n",
              "    }\n",
              "\n",
              "    .dataframe thead th {\n",
              "        text-align: right;\n",
              "    }\n",
              "</style>\n",
              "<table border=\"1\" class=\"dataframe\">\n",
              "  <thead>\n",
              "    <tr style=\"text-align: right;\">\n",
              "      <th></th>\n",
              "      <th>STATION</th>\n",
              "      <th>LATITUDE</th>\n",
              "      <th>LONGITUDE</th>\n",
              "      <th>PRCP</th>\n",
              "      <th>TMAX</th>\n",
              "      <th>TMIN</th>\n",
              "      <th>TMIN_yesterday</th>\n",
              "      <th>above55</th>\n",
              "    </tr>\n",
              "    <tr>\n",
              "      <th>DATE</th>\n",
              "      <th></th>\n",
              "      <th></th>\n",
              "      <th></th>\n",
              "      <th></th>\n",
              "      <th></th>\n",
              "      <th></th>\n",
              "      <th></th>\n",
              "      <th></th>\n",
              "    </tr>\n",
              "  </thead>\n",
              "  <tbody>\n",
              "    <tr>\n",
              "      <th>1945-03-31</th>\n",
              "      <td>USC00110766</td>\n",
              "      <td>40.51667</td>\n",
              "      <td>-89.0</td>\n",
              "      <td>0.31</td>\n",
              "      <td>68.0</td>\n",
              "      <td>38.0</td>\n",
              "      <td>37.0</td>\n",
              "      <td>n</td>\n",
              "    </tr>\n",
              "    <tr>\n",
              "      <th>1945-04-01</th>\n",
              "      <td>USC00110766</td>\n",
              "      <td>40.51667</td>\n",
              "      <td>-89.0</td>\n",
              "      <td>0.00</td>\n",
              "      <td>68.0</td>\n",
              "      <td>50.0</td>\n",
              "      <td>38.0</td>\n",
              "      <td>n</td>\n",
              "    </tr>\n",
              "    <tr>\n",
              "      <th>1945-04-02</th>\n",
              "      <td>USC00110766</td>\n",
              "      <td>40.51667</td>\n",
              "      <td>-89.0</td>\n",
              "      <td>1.01</td>\n",
              "      <td>62.0</td>\n",
              "      <td>49.0</td>\n",
              "      <td>50.0</td>\n",
              "      <td>n</td>\n",
              "    </tr>\n",
              "    <tr>\n",
              "      <th>1945-04-03</th>\n",
              "      <td>USC00110766</td>\n",
              "      <td>40.51667</td>\n",
              "      <td>-89.0</td>\n",
              "      <td>0.00</td>\n",
              "      <td>58.0</td>\n",
              "      <td>39.0</td>\n",
              "      <td>49.0</td>\n",
              "      <td>n</td>\n",
              "    </tr>\n",
              "    <tr>\n",
              "      <th>1945-04-04</th>\n",
              "      <td>USC00110766</td>\n",
              "      <td>40.51667</td>\n",
              "      <td>-89.0</td>\n",
              "      <td>0.13</td>\n",
              "      <td>63.0</td>\n",
              "      <td>36.0</td>\n",
              "      <td>39.0</td>\n",
              "      <td>n</td>\n",
              "    </tr>\n",
              "  </tbody>\n",
              "</table>\n",
              "</div>"
            ],
            "text/plain": [
              "                STATION  LATITUDE  LONGITUDE  PRCP  TMAX  TMIN  \\\n",
              "DATE                                                             \n",
              "1945-03-31  USC00110766  40.51667      -89.0  0.31  68.0  38.0   \n",
              "1945-04-01  USC00110766  40.51667      -89.0  0.00  68.0  50.0   \n",
              "1945-04-02  USC00110766  40.51667      -89.0  1.01  62.0  49.0   \n",
              "1945-04-03  USC00110766  40.51667      -89.0  0.00  58.0  39.0   \n",
              "1945-04-04  USC00110766  40.51667      -89.0  0.13  63.0  36.0   \n",
              "\n",
              "            TMIN_yesterday above55  \n",
              "DATE                                \n",
              "1945-03-31            37.0       n  \n",
              "1945-04-01            38.0       n  \n",
              "1945-04-02            50.0       n  \n",
              "1945-04-03            49.0       n  \n",
              "1945-04-04            39.0       n  "
            ]
          },
          "metadata": {
            "tags": []
          },
          "execution_count": 82
        }
      ]
    },
    {
      "cell_type": "code",
      "metadata": {
        "id": "R3k0KGf_w1Un",
        "colab_type": "code",
        "colab": {
          "base_uri": "https://localhost:8080/",
          "height": 67
        },
        "outputId": "aab43d5a-afaa-47df-c07b-41e5c5a65cf8"
      },
      "source": [
        "weather['above55'].value_counts()"
      ],
      "execution_count": 83,
      "outputs": [
        {
          "output_type": "execute_result",
          "data": {
            "text/plain": [
              "n    18223\n",
              "y     8427\n",
              "Name: above55, dtype: int64"
            ]
          },
          "metadata": {
            "tags": []
          },
          "execution_count": 83
        }
      ]
    },
    {
      "cell_type": "code",
      "metadata": {
        "id": "oZLr-hKPrm7v",
        "colab_type": "code",
        "colab": {}
      },
      "source": [
        "X = weather.drop(columns='above55')\n",
        "y = weather['above55'] =='y'"
      ],
      "execution_count": 0,
      "outputs": []
    },
    {
      "cell_type": "code",
      "metadata": {
        "id": "oPoyJNS6sDfo",
        "colab_type": "code",
        "colab": {}
      },
      "source": [
        "from sklearn.model_selection import train_test_split\n",
        "\n",
        "X_train, X_test, y_train, y_test = train_test_split(X, y, test_size=0.2, random_state=42, stratify=y)"
      ],
      "execution_count": 0,
      "outputs": []
    },
    {
      "cell_type": "code",
      "metadata": {
        "id": "VmEN4D8fsV8Y",
        "colab_type": "code",
        "colab": {}
      },
      "source": [
        "X_train, X_val, y_train, y_val = train_test_split(\n",
        "    X_train, y_train, test_size=0.3, random_state=42)"
      ],
      "execution_count": 0,
      "outputs": []
    },
    {
      "cell_type": "code",
      "metadata": {
        "id": "2L9cXKHetDJw",
        "colab_type": "code",
        "colab": {
          "base_uri": "https://localhost:8080/",
          "height": 34
        },
        "outputId": "dffafccf-a170-421f-c754-2f889035804a"
      },
      "source": [
        "X_train.shape, X_val.shape, X_test.shape, y_train.shape, y_val.shape, y_test.shape"
      ],
      "execution_count": 87,
      "outputs": [
        {
          "output_type": "execute_result",
          "data": {
            "text/plain": [
              "((14924, 7), (6396, 7), (5330, 7), (14924,), (6396,), (5330,))"
            ]
          },
          "metadata": {
            "tags": []
          },
          "execution_count": 87
        }
      ]
    },
    {
      "cell_type": "code",
      "metadata": {
        "id": "ZMf4Jo91tHeX",
        "colab_type": "code",
        "colab": {
          "base_uri": "https://localhost:8080/",
          "height": 67
        },
        "outputId": "715a2ae2-feb9-4e01-ceab-63cfd1e67a8f"
      },
      "source": [
        "y_train.value_counts(normalize=True)"
      ],
      "execution_count": 88,
      "outputs": [
        {
          "output_type": "execute_result",
          "data": {
            "text/plain": [
              "False    0.684401\n",
              "True     0.315599\n",
              "Name: above55, dtype: float64"
            ]
          },
          "metadata": {
            "tags": []
          },
          "execution_count": 88
        }
      ]
    },
    {
      "cell_type": "code",
      "metadata": {
        "id": "ZsXrsHDCtML4",
        "colab_type": "code",
        "colab": {}
      },
      "source": [
        "majority_class = y_train.mode()[0]\n",
        "y_pred = [majority_class] * len(y_val)"
      ],
      "execution_count": 0,
      "outputs": []
    },
    {
      "cell_type": "code",
      "metadata": {
        "id": "FHPIUfd_tZ0w",
        "colab_type": "code",
        "colab": {
          "base_uri": "https://localhost:8080/",
          "height": 34
        },
        "outputId": "f08b1c12-99b6-456c-8199-628e4559389d"
      },
      "source": [
        "from sklearn.metrics import accuracy_score\n",
        "accuracy_score(y_val, y_pred)# there isn't really a majority class, similar temperatures occur 2% time"
      ],
      "execution_count": 90,
      "outputs": [
        {
          "output_type": "execute_result",
          "data": {
            "text/plain": [
              "0.6823014383989994"
            ]
          },
          "metadata": {
            "tags": []
          },
          "execution_count": 90
        }
      ]
    },
    {
      "cell_type": "code",
      "metadata": {
        "id": "RApO9fT9u8-S",
        "colab_type": "code",
        "colab": {
          "base_uri": "https://localhost:8080/",
          "height": 34
        },
        "outputId": "c8a84206-8525-4fb5-81ad-da341189578b"
      },
      "source": [
        "X_train_numeric = X_train.select_dtypes('number')\n",
        "X_val_numeric   = X_val.select_dtypes('number')\n",
        "\n",
        "from sklearn.tree import DecisionTreeClassifier\n",
        "tree = DecisionTreeClassifier(max_depth=2)\n",
        "tree.fit(X_train_numeric, y_train)\n",
        "y_pred_proba = tree.predict_proba(X_val_numeric)[:,1]\n",
        "roc_auc_score(y_val, y_pred_proba)"
      ],
      "execution_count": 101,
      "outputs": [
        {
          "output_type": "execute_result",
          "data": {
            "text/plain": [
              "1.0"
            ]
          },
          "metadata": {
            "tags": []
          },
          "execution_count": 101
        }
      ]
    },
    {
      "cell_type": "code",
      "metadata": {
        "id": "tpI8KWRgtr9o",
        "colab_type": "code",
        "colab": {
          "base_uri": "https://localhost:8080/",
          "height": 241
        },
        "outputId": "da244be8-51cb-4049-f400-5e1f2b5770cc"
      },
      "source": [
        "\n",
        "import graphviz\n",
        "from sklearn.tree import export_graphviz\n",
        "\n",
        "dot_data = export_graphviz(tree, out_file=None, feature_names=X_train_numeric.columns, class_names=['n', 'y'], filled=True, impurity=False, proportion=True)\n",
        "\n",
        "graphviz.Source(dot_data)"
      ],
      "execution_count": 102,
      "outputs": [
        {
          "output_type": "execute_result",
          "data": {
            "text/plain": [
              "<graphviz.files.Source at 0x7f843bb237f0>"
            ],
            "image/svg+xml": "<?xml version=\"1.0\" encoding=\"UTF-8\" standalone=\"no\"?>\n<!DOCTYPE svg PUBLIC \"-//W3C//DTD SVG 1.1//EN\"\n \"http://www.w3.org/Graphics/SVG/1.1/DTD/svg11.dtd\">\n<!-- Generated by graphviz version 2.40.1 (20161225.0304)\n -->\n<!-- Title: Tree Pages: 1 -->\n<svg width=\"260pt\" height=\"165pt\"\n viewBox=\"0.00 0.00 260.00 165.00\" xmlns=\"http://www.w3.org/2000/svg\" xmlns:xlink=\"http://www.w3.org/1999/xlink\">\n<g id=\"graph0\" class=\"graph\" transform=\"scale(1 1) rotate(0) translate(4 161)\">\n<title>Tree</title>\n<polygon fill=\"#ffffff\" stroke=\"transparent\" points=\"-4,4 -4,-161 256,-161 256,4 -4,4\"/>\n<!-- 0 -->\n<g id=\"node1\" class=\"node\">\n<title>0</title>\n<polygon fill=\"#e58139\" fill-opacity=\"0.537255\" stroke=\"#000000\" points=\"199,-157 52,-157 52,-89 199,-89 199,-157\"/>\n<text text-anchor=\"middle\" x=\"125.5\" y=\"-141.8\" font-family=\"Times,serif\" font-size=\"14.00\" fill=\"#000000\">TMIN &lt;= 54.5</text>\n<text text-anchor=\"middle\" x=\"125.5\" y=\"-126.8\" font-family=\"Times,serif\" font-size=\"14.00\" fill=\"#000000\">samples = 100.0%</text>\n<text text-anchor=\"middle\" x=\"125.5\" y=\"-111.8\" font-family=\"Times,serif\" font-size=\"14.00\" fill=\"#000000\">value = [0.684, 0.316]</text>\n<text text-anchor=\"middle\" x=\"125.5\" y=\"-96.8\" font-family=\"Times,serif\" font-size=\"14.00\" fill=\"#000000\">class = n</text>\n</g>\n<!-- 1 -->\n<g id=\"node2\" class=\"node\">\n<title>1</title>\n<polygon fill=\"#e58139\" stroke=\"#000000\" points=\"117,-53 0,-53 0,0 117,0 117,-53\"/>\n<text text-anchor=\"middle\" x=\"58.5\" y=\"-37.8\" font-family=\"Times,serif\" font-size=\"14.00\" fill=\"#000000\">samples = 68.4%</text>\n<text text-anchor=\"middle\" x=\"58.5\" y=\"-22.8\" font-family=\"Times,serif\" font-size=\"14.00\" fill=\"#000000\">value = [1.0, 0.0]</text>\n<text text-anchor=\"middle\" x=\"58.5\" y=\"-7.8\" font-family=\"Times,serif\" font-size=\"14.00\" fill=\"#000000\">class = n</text>\n</g>\n<!-- 0&#45;&gt;1 -->\n<g id=\"edge1\" class=\"edge\">\n<title>0&#45;&gt;1</title>\n<path fill=\"none\" stroke=\"#000000\" d=\"M101.8783,-88.9777C95.7113,-80.0954 89.0539,-70.5067 82.8499,-61.5711\"/>\n<polygon fill=\"#000000\" stroke=\"#000000\" points=\"85.6497,-59.4666 77.0715,-53.2485 79.8997,-63.4589 85.6497,-59.4666\"/>\n<text text-anchor=\"middle\" x=\"72.6325\" y=\"-74.1512\" font-family=\"Times,serif\" font-size=\"14.00\" fill=\"#000000\">True</text>\n</g>\n<!-- 2 -->\n<g id=\"node3\" class=\"node\">\n<title>2</title>\n<polygon fill=\"#399de5\" stroke=\"#000000\" points=\"252,-53 135,-53 135,0 252,0 252,-53\"/>\n<text text-anchor=\"middle\" x=\"193.5\" y=\"-37.8\" font-family=\"Times,serif\" font-size=\"14.00\" fill=\"#000000\">samples = 31.6%</text>\n<text text-anchor=\"middle\" x=\"193.5\" y=\"-22.8\" font-family=\"Times,serif\" font-size=\"14.00\" fill=\"#000000\">value = [0.0, 1.0]</text>\n<text text-anchor=\"middle\" x=\"193.5\" y=\"-7.8\" font-family=\"Times,serif\" font-size=\"14.00\" fill=\"#000000\">class = y</text>\n</g>\n<!-- 0&#45;&gt;2 -->\n<g id=\"edge2\" class=\"edge\">\n<title>0&#45;&gt;2</title>\n<path fill=\"none\" stroke=\"#000000\" d=\"M149.4743,-88.9777C155.7333,-80.0954 162.4901,-70.5067 168.7867,-61.5711\"/>\n<polygon fill=\"#000000\" stroke=\"#000000\" points=\"171.7521,-63.4389 174.6513,-53.2485 166.0301,-59.4068 171.7521,-63.4389\"/>\n<text text-anchor=\"middle\" x=\"178.9191\" y=\"-74.1815\" font-family=\"Times,serif\" font-size=\"14.00\" fill=\"#000000\">False</text>\n</g>\n</g>\n</svg>\n"
          },
          "metadata": {
            "tags": []
          },
          "execution_count": 102
        }
      ]
    },
    {
      "cell_type": "code",
      "metadata": {
        "id": "7kLayBFttxCQ",
        "colab_type": "code",
        "colab": {
          "base_uri": "https://localhost:8080/",
          "height": 34
        },
        "outputId": "f117d0b9-9f5a-45b3-98ff-5ca86ea568ed"
      },
      "source": [
        "from sklearn.linear_model import LogisticRegression\n",
        "\n",
        "model = LogisticRegression(solver='lbfgs', max_iter=1000)\n",
        "model.fit(X_train_numeric, y_train)\n",
        "y_pred_proba = model.predict_proba(X_val_numeric)[:,1]\n",
        "roc_auc_score(y_val, y_pred_proba)"
      ],
      "execution_count": 103,
      "outputs": [
        {
          "output_type": "execute_result",
          "data": {
            "text/plain": [
              "1.0"
            ]
          },
          "metadata": {
            "tags": []
          },
          "execution_count": 103
        }
      ]
    },
    {
      "cell_type": "code",
      "metadata": {
        "id": "C7Zk_7S0vQPQ",
        "colab_type": "code",
        "colab": {}
      },
      "source": [
        "import warnings\n",
        "from sklearn.exceptions import DataConversionWarning\n",
        "warnings.filterwarnings(action='ignore', category=DataConversionWarning)"
      ],
      "execution_count": 0,
      "outputs": []
    },
    {
      "cell_type": "code",
      "metadata": {
        "id": "1HEGZ9ISvbr3",
        "colab_type": "code",
        "colab": {
          "base_uri": "https://localhost:8080/",
          "height": 34
        },
        "outputId": "1fccdf24-8f00-47fa-db38-1700a051582b"
      },
      "source": [
        "from sklearn.preprocessing import StandardScaler\n",
        "\n",
        "scaler = StandardScaler()\n",
        "X_train_scaled = scaler.fit_transform(X_train_numeric)\n",
        "X_val_scaled   = scaler.transform(X_val_numeric)\n",
        "\n",
        "model = LogisticRegression(solver='lbfgs', max_iter=1000)\n",
        "model.fit(X_train_scaled, y_train)\n",
        "y_pred_proba = model.predict_proba(X_val_scaled)[:,1]\n",
        "roc_auc_score(y_val, y_pred_proba)"
      ],
      "execution_count": 105,
      "outputs": [
        {
          "output_type": "execute_result",
          "data": {
            "text/plain": [
              "0.9999950381431468"
            ]
          },
          "metadata": {
            "tags": []
          },
          "execution_count": 105
        }
      ]
    },
    {
      "cell_type": "code",
      "metadata": {
        "id": "1iGamovAveSf",
        "colab_type": "code",
        "colab": {
          "base_uri": "https://localhost:8080/",
          "height": 34
        },
        "outputId": "e7da93cb-0831-4f69-89ae-ec4264bea55a"
      },
      "source": [
        "from sklearn.pipeline import make_pipeline\n",
        "\n",
        "pipeline = make_pipeline(\n",
        "    StandardScaler(), \n",
        "    LogisticRegression(solver='lbfgs', max_iter=1000)\n",
        ")\n",
        "\n",
        "pipeline.fit(X_train_numeric, y_train)\n",
        "y_pred_proba = pipeline.predict_proba(X_val_numeric)[:,1]\n",
        "roc_auc_score(y_val, y_pred_proba)"
      ],
      "execution_count": 106,
      "outputs": [
        {
          "output_type": "execute_result",
          "data": {
            "text/plain": [
              "0.9999950381431468"
            ]
          },
          "metadata": {
            "tags": []
          },
          "execution_count": 106
        }
      ]
    },
    {
      "cell_type": "code",
      "metadata": {
        "id": "TUXd_soCvj-4",
        "colab_type": "code",
        "colab": {
          "base_uri": "https://localhost:8080/",
          "height": 84
        },
        "outputId": "56cebcb6-930e-4ac8-d02a-9fcc43f81079"
      },
      "source": [
        "# Imports\n",
        "%matplotlib inline\n",
        "import warnings\n",
        "import category_encoders as ce\n",
        "import matplotlib.pyplot as plt\n",
        "import pandas as pd\n",
        "from sklearn.linear_model import LogisticRegression\n",
        "from sklearn.model_selection import cross_val_score\n",
        "from sklearn.pipeline import make_pipeline\n",
        "from sklearn.exceptions import DataConversionWarning\n",
        "from sklearn.preprocessing import StandardScaler\n",
        "warnings.filterwarnings(action='ignore', category=DataConversionWarning)\n",
        "\n",
        "# Load data\n",
        "bank = pd.read_csv('bank-additional/bank-additional-full.csv', sep=';')\n",
        "\n",
        "# Assign to X, y\n",
        "X = weather.drop(columns='above55')\n",
        "y = weather['above55'] == 'y'\n",
        "\n",
        "# Split Train, Test\n",
        "X_train, X_test, y_train, y_test = train_test_split(\n",
        "    X, y, test_size=0.2, random_state=42, stratify=y)\n",
        "\n",
        "# Make pipeline\n",
        "pipeline = make_pipeline(\n",
        "    ce.OneHotEncoder(use_cat_names=True), \n",
        "    StandardScaler(), \n",
        "    LogisticRegression(solver='lbfgs', max_iter=1000)\n",
        ")\n",
        "\n",
        "# Cross-validate with training data\n",
        "scores = cross_val_score(pipeline, X_train, y_train, scoring='roc_auc', cv=10, \n",
        "                         n_jobs=-1, verbose=10)"
      ],
      "execution_count": 107,
      "outputs": [
        {
          "output_type": "stream",
          "text": [
            "[Parallel(n_jobs=-1)]: Using backend LokyBackend with 2 concurrent workers.\n",
            "[Parallel(n_jobs=-1)]: Done   1 tasks      | elapsed:    0.2s\n",
            "[Parallel(n_jobs=-1)]: Done   4 tasks      | elapsed:    0.7s\n",
            "[Parallel(n_jobs=-1)]: Done  10 out of  10 | elapsed:    1.6s finished\n"
          ],
          "name": "stderr"
        }
      ]
    },
    {
      "cell_type": "code",
      "metadata": {
        "id": "N2YlRm8tzwlm",
        "colab_type": "code",
        "colab": {
          "base_uri": "https://localhost:8080/",
          "height": 67
        },
        "outputId": "1f72f08c-a095-4bb6-da05-c42bbe5db753"
      },
      "source": [
        "print('Cross-Validation ROC AUC scores:', scores)\n",
        "print('Average:', scores.mean())"
      ],
      "execution_count": 108,
      "outputs": [
        {
          "output_type": "stream",
          "text": [
            "Cross-Validation ROC AUC scores: [0.99999594 1.         0.99999796 0.99997456 0.99994607 0.99999288\n",
            " 1.         0.99999796 1.         1.        ]\n",
            "Average: 0.9999905368035892\n"
          ],
          "name": "stdout"
        }
      ]
    },
    {
      "cell_type": "code",
      "metadata": {
        "id": "3KMUR7cA0xQO",
        "colab_type": "code",
        "colab": {
          "base_uri": "https://localhost:8080/",
          "height": 1695
        },
        "outputId": "3dff880b-ac78-43d8-aa97-a26e716a5d85"
      },
      "source": [
        "# (Re)fit on training data\n",
        "pipeline.fit(X_train, y_train)\n",
        "\n",
        "# Visualize coefficients\n",
        "plt.figure(figsize=(10,30))\n",
        "plt.title('Coefficients')\n",
        "coefficients = pipeline.named_steps['logisticregression'].coef_[0]\n",
        "feature_names = pipeline.named_steps['onehotencoder'].transform(X_train).columns\n",
        "pd.Series(coefficients, feature_names).sort_values().plot.barh(color='gray');"
      ],
      "execution_count": 109,
      "outputs": [
        {
          "output_type": "display_data",
          "data": {
            "image/png": "[encoded data removed]",
            "text/plain": [
              "<Figure size 720x2160 with 1 Axes>"
            ]
          },
          "metadata": {
            "tags": []
          }
        }
      ]
    },
    {
      "cell_type": "code",
      "metadata": {
        "id": "TsBAKs2q00DW",
        "colab_type": "code",
        "colab": {}
      },
      "source": [
        ""
      ],
      "execution_count": 0,
      "outputs": []
    }
  ]
}