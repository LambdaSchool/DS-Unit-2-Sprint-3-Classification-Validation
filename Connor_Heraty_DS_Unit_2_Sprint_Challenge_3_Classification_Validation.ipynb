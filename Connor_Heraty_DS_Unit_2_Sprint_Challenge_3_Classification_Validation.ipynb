{
  "nbformat": 4,
  "nbformat_minor": 0,
  "metadata": {
    "colab": {
      "name": "Connor Heraty - DS_Unit_2_Sprint_Challenge_3_Classification_Validation.ipynb",
      "version": "0.3.2",
      "provenance": [],
      "collapsed_sections": [
        "2-Jku5tCQpfj",
        "rqzwoDi5Qpfm",
        "ShhXoswEQpfv",
        "mgJY0qAxQpfx",
        "IKbWTxiRsis4",
        "jkyHoRIbEgRR"
      ],
      "include_colab_link": true
    },
    "language_info": {
      "codemirror_mode": {
        "name": "ipython",
        "version": 3
      },
      "file_extension": ".py",
      "mimetype": "text/x-python",
      "name": "python",
      "nbconvert_exporter": "python",
      "pygments_lexer": "ipython3",
      "version": "3.7.1"
    },
    "kernelspec": {
      "display_name": "Python 3",
      "language": "python",
      "name": "python3"
    }
  },
  "cells": [
    {
      "cell_type": "markdown",
      "metadata": {
        "id": "view-in-github",
        "colab_type": "text"
      },
      "source": [
        "<a href=\"https://colab.research.google.com/github/connorpheraty/DS-Unit-2-Sprint-3-Classification-Validation/blob/master/Connor_Heraty_DS_Unit_2_Sprint_Challenge_3_Classification_Validation.ipynb\" target=\"_parent\"><img src=\"https://colab.research.google.com/assets/colab-badge.svg\" alt=\"Open In Colab\"/></a>"
      ]
    },
    {
      "cell_type": "markdown",
      "metadata": {
        "colab_type": "text",
        "id": "PC9RfopIWrc9"
      },
      "source": [
        " _Lambda School Data Science Unit 2_\n",
        " \n",
        " # Classification & Validation Sprint Challenge"
      ]
    },
    {
      "cell_type": "markdown",
      "metadata": {
        "colab_type": "text",
        "id": "UV7ArLFQN84W"
      },
      "source": [
        "Follow the instructions for each numbered part to earn a score of 2. See the bottom of the notebook for a list of ways you can earn a score of 3."
      ]
    },
    {
      "cell_type": "markdown",
      "metadata": {
        "colab_type": "text",
        "id": "bAZcbTtiUlkI"
      },
      "source": [
        "#### For this Sprint Challenge, you'll predict whether a person's income exceeds $50k/yr, based on census data.\n",
        "\n",
        "You can read more about the Adult Census Income dataset at the UCI Machine Learning Repository: https://archive.ics.uci.edu/ml/datasets/adult"
      ]
    },
    {
      "cell_type": "markdown",
      "metadata": {
        "id": "2-Jku5tCQpfj",
        "colab_type": "text"
      },
      "source": [
        "#### Run this cell to load the data:"
      ]
    },
    {
      "cell_type": "code",
      "metadata": {
        "colab_type": "code",
        "id": "gvV9VORbxyvu",
        "colab": {}
      },
      "source": [
        "import pandas as pd\n",
        "\n",
        "columns = ['age', \n",
        "           'workclass', \n",
        "           'fnlwgt', \n",
        "           'education', \n",
        "           'education-num', \n",
        "           'marital-status', \n",
        "           'occupation', \n",
        "           'relationship', \n",
        "           'race', \n",
        "           'sex', \n",
        "           'capital-gain', \n",
        "           'capital-loss', \n",
        "           'hours-per-week', \n",
        "           'native-country', \n",
        "           'income']\n",
        "\n",
        "df = pd.read_csv('https://archive.ics.uci.edu/ml/machine-learning-databases/adult/adult.data', \n",
        "                 header=None, names=columns)\n",
        "\n",
        "df['income'] = df['income'].str.strip()"
      ],
      "execution_count": 0,
      "outputs": []
    },
    {
      "cell_type": "code",
      "metadata": {
        "id": "r4w9qV8RQ6kD",
        "colab_type": "code",
        "outputId": "b0075b89-4710-47c7-e11f-1914edb363b6",
        "colab": {
          "base_uri": "https://localhost:8080/",
          "height": 359
        }
      },
      "source": [
        "df.head(10)"
      ],
      "execution_count": 42,
      "outputs": [
        {
          "output_type": "execute_result",
          "data": {
            "text/html": [
              "<div>\n",
              "<style scoped>\n",
              "    .dataframe tbody tr th:only-of-type {\n",
              "        vertical-align: middle;\n",
              "    }\n",
              "\n",
              "    .dataframe tbody tr th {\n",
              "        vertical-align: top;\n",
              "    }\n",
              "\n",
              "    .dataframe thead th {\n",
              "        text-align: right;\n",
              "    }\n",
              "</style>\n",
              "<table border=\"1\" class=\"dataframe\">\n",
              "  <thead>\n",
              "    <tr style=\"text-align: right;\">\n",
              "      <th></th>\n",
              "      <th>age</th>\n",
              "      <th>workclass</th>\n",
              "      <th>fnlwgt</th>\n",
              "      <th>education</th>\n",
              "      <th>education-num</th>\n",
              "      <th>marital-status</th>\n",
              "      <th>occupation</th>\n",
              "      <th>relationship</th>\n",
              "      <th>race</th>\n",
              "      <th>sex</th>\n",
              "      <th>capital-gain</th>\n",
              "      <th>capital-loss</th>\n",
              "      <th>hours-per-week</th>\n",
              "      <th>native-country</th>\n",
              "      <th>income</th>\n",
              "    </tr>\n",
              "  </thead>\n",
              "  <tbody>\n",
              "    <tr>\n",
              "      <th>0</th>\n",
              "      <td>39</td>\n",
              "      <td>State-gov</td>\n",
              "      <td>77516</td>\n",
              "      <td>Bachelors</td>\n",
              "      <td>13</td>\n",
              "      <td>Never-married</td>\n",
              "      <td>Adm-clerical</td>\n",
              "      <td>Not-in-family</td>\n",
              "      <td>White</td>\n",
              "      <td>Male</td>\n",
              "      <td>2174</td>\n",
              "      <td>0</td>\n",
              "      <td>40</td>\n",
              "      <td>United-States</td>\n",
              "      <td>&lt;=50K</td>\n",
              "    </tr>\n",
              "    <tr>\n",
              "      <th>1</th>\n",
              "      <td>50</td>\n",
              "      <td>Self-emp-not-inc</td>\n",
              "      <td>83311</td>\n",
              "      <td>Bachelors</td>\n",
              "      <td>13</td>\n",
              "      <td>Married-civ-spouse</td>\n",
              "      <td>Exec-managerial</td>\n",
              "      <td>Husband</td>\n",
              "      <td>White</td>\n",
              "      <td>Male</td>\n",
              "      <td>0</td>\n",
              "      <td>0</td>\n",
              "      <td>13</td>\n",
              "      <td>United-States</td>\n",
              "      <td>&lt;=50K</td>\n",
              "    </tr>\n",
              "    <tr>\n",
              "      <th>2</th>\n",
              "      <td>38</td>\n",
              "      <td>Private</td>\n",
              "      <td>215646</td>\n",
              "      <td>HS-grad</td>\n",
              "      <td>9</td>\n",
              "      <td>Divorced</td>\n",
              "      <td>Handlers-cleaners</td>\n",
              "      <td>Not-in-family</td>\n",
              "      <td>White</td>\n",
              "      <td>Male</td>\n",
              "      <td>0</td>\n",
              "      <td>0</td>\n",
              "      <td>40</td>\n",
              "      <td>United-States</td>\n",
              "      <td>&lt;=50K</td>\n",
              "    </tr>\n",
              "    <tr>\n",
              "      <th>3</th>\n",
              "      <td>53</td>\n",
              "      <td>Private</td>\n",
              "      <td>234721</td>\n",
              "      <td>11th</td>\n",
              "      <td>7</td>\n",
              "      <td>Married-civ-spouse</td>\n",
              "      <td>Handlers-cleaners</td>\n",
              "      <td>Husband</td>\n",
              "      <td>Black</td>\n",
              "      <td>Male</td>\n",
              "      <td>0</td>\n",
              "      <td>0</td>\n",
              "      <td>40</td>\n",
              "      <td>United-States</td>\n",
              "      <td>&lt;=50K</td>\n",
              "    </tr>\n",
              "    <tr>\n",
              "      <th>4</th>\n",
              "      <td>28</td>\n",
              "      <td>Private</td>\n",
              "      <td>338409</td>\n",
              "      <td>Bachelors</td>\n",
              "      <td>13</td>\n",
              "      <td>Married-civ-spouse</td>\n",
              "      <td>Prof-specialty</td>\n",
              "      <td>Wife</td>\n",
              "      <td>Black</td>\n",
              "      <td>Female</td>\n",
              "      <td>0</td>\n",
              "      <td>0</td>\n",
              "      <td>40</td>\n",
              "      <td>Cuba</td>\n",
              "      <td>&lt;=50K</td>\n",
              "    </tr>\n",
              "    <tr>\n",
              "      <th>5</th>\n",
              "      <td>37</td>\n",
              "      <td>Private</td>\n",
              "      <td>284582</td>\n",
              "      <td>Masters</td>\n",
              "      <td>14</td>\n",
              "      <td>Married-civ-spouse</td>\n",
              "      <td>Exec-managerial</td>\n",
              "      <td>Wife</td>\n",
              "      <td>White</td>\n",
              "      <td>Female</td>\n",
              "      <td>0</td>\n",
              "      <td>0</td>\n",
              "      <td>40</td>\n",
              "      <td>United-States</td>\n",
              "      <td>&lt;=50K</td>\n",
              "    </tr>\n",
              "    <tr>\n",
              "      <th>6</th>\n",
              "      <td>49</td>\n",
              "      <td>Private</td>\n",
              "      <td>160187</td>\n",
              "      <td>9th</td>\n",
              "      <td>5</td>\n",
              "      <td>Married-spouse-absent</td>\n",
              "      <td>Other-service</td>\n",
              "      <td>Not-in-family</td>\n",
              "      <td>Black</td>\n",
              "      <td>Female</td>\n",
              "      <td>0</td>\n",
              "      <td>0</td>\n",
              "      <td>16</td>\n",
              "      <td>Jamaica</td>\n",
              "      <td>&lt;=50K</td>\n",
              "    </tr>\n",
              "    <tr>\n",
              "      <th>7</th>\n",
              "      <td>52</td>\n",
              "      <td>Self-emp-not-inc</td>\n",
              "      <td>209642</td>\n",
              "      <td>HS-grad</td>\n",
              "      <td>9</td>\n",
              "      <td>Married-civ-spouse</td>\n",
              "      <td>Exec-managerial</td>\n",
              "      <td>Husband</td>\n",
              "      <td>White</td>\n",
              "      <td>Male</td>\n",
              "      <td>0</td>\n",
              "      <td>0</td>\n",
              "      <td>45</td>\n",
              "      <td>United-States</td>\n",
              "      <td>&gt;50K</td>\n",
              "    </tr>\n",
              "    <tr>\n",
              "      <th>8</th>\n",
              "      <td>31</td>\n",
              "      <td>Private</td>\n",
              "      <td>45781</td>\n",
              "      <td>Masters</td>\n",
              "      <td>14</td>\n",
              "      <td>Never-married</td>\n",
              "      <td>Prof-specialty</td>\n",
              "      <td>Not-in-family</td>\n",
              "      <td>White</td>\n",
              "      <td>Female</td>\n",
              "      <td>14084</td>\n",
              "      <td>0</td>\n",
              "      <td>50</td>\n",
              "      <td>United-States</td>\n",
              "      <td>&gt;50K</td>\n",
              "    </tr>\n",
              "    <tr>\n",
              "      <th>9</th>\n",
              "      <td>42</td>\n",
              "      <td>Private</td>\n",
              "      <td>159449</td>\n",
              "      <td>Bachelors</td>\n",
              "      <td>13</td>\n",
              "      <td>Married-civ-spouse</td>\n",
              "      <td>Exec-managerial</td>\n",
              "      <td>Husband</td>\n",
              "      <td>White</td>\n",
              "      <td>Male</td>\n",
              "      <td>5178</td>\n",
              "      <td>0</td>\n",
              "      <td>40</td>\n",
              "      <td>United-States</td>\n",
              "      <td>&gt;50K</td>\n",
              "    </tr>\n",
              "  </tbody>\n",
              "</table>\n",
              "</div>"
            ],
            "text/plain": [
              "   age          workclass  fnlwgt   education  education-num  \\\n",
              "0   39          State-gov   77516   Bachelors             13   \n",
              "1   50   Self-emp-not-inc   83311   Bachelors             13   \n",
              "2   38            Private  215646     HS-grad              9   \n",
              "3   53            Private  234721        11th              7   \n",
              "4   28            Private  338409   Bachelors             13   \n",
              "5   37            Private  284582     Masters             14   \n",
              "6   49            Private  160187         9th              5   \n",
              "7   52   Self-emp-not-inc  209642     HS-grad              9   \n",
              "8   31            Private   45781     Masters             14   \n",
              "9   42            Private  159449   Bachelors             13   \n",
              "\n",
              "           marital-status          occupation    relationship    race  \\\n",
              "0           Never-married        Adm-clerical   Not-in-family   White   \n",
              "1      Married-civ-spouse     Exec-managerial         Husband   White   \n",
              "2                Divorced   Handlers-cleaners   Not-in-family   White   \n",
              "3      Married-civ-spouse   Handlers-cleaners         Husband   Black   \n",
              "4      Married-civ-spouse      Prof-specialty            Wife   Black   \n",
              "5      Married-civ-spouse     Exec-managerial            Wife   White   \n",
              "6   Married-spouse-absent       Other-service   Not-in-family   Black   \n",
              "7      Married-civ-spouse     Exec-managerial         Husband   White   \n",
              "8           Never-married      Prof-specialty   Not-in-family   White   \n",
              "9      Married-civ-spouse     Exec-managerial         Husband   White   \n",
              "\n",
              "       sex  capital-gain  capital-loss  hours-per-week  native-country income  \n",
              "0     Male          2174             0              40   United-States  <=50K  \n",
              "1     Male             0             0              13   United-States  <=50K  \n",
              "2     Male             0             0              40   United-States  <=50K  \n",
              "3     Male             0             0              40   United-States  <=50K  \n",
              "4   Female             0             0              40            Cuba  <=50K  \n",
              "5   Female             0             0              40   United-States  <=50K  \n",
              "6   Female             0             0              16         Jamaica  <=50K  \n",
              "7     Male             0             0              45   United-States   >50K  \n",
              "8   Female         14084             0              50   United-States   >50K  \n",
              "9     Male          5178             0              40   United-States   >50K  "
            ]
          },
          "metadata": {
            "tags": []
          },
          "execution_count": 42
        }
      ]
    },
    {
      "cell_type": "code",
      "metadata": {
        "id": "uAudafq311io",
        "colab_type": "code",
        "colab": {}
      },
      "source": [
        "# Feature Engineering\n",
        "df['net-capital-gain'] = df['capital-gain'] - df['capital-loss']"
      ],
      "execution_count": 0,
      "outputs": []
    },
    {
      "cell_type": "markdown",
      "metadata": {
        "id": "rqzwoDi5Qpfm",
        "colab_type": "text"
      },
      "source": [
        "## Part 1 — Begin with baselines\n",
        "\n",
        "Split the data into an **X matrix** (all the features) and **y vector** (the target).\n",
        "\n",
        "(You _don't_ need to split the data into train and test sets here. You'll be asked to do that at the _end_ of Part 1.)"
      ]
    },
    {
      "cell_type": "code",
      "metadata": {
        "id": "MNWPq7SbQpfm",
        "colab_type": "code",
        "colab": {}
      },
      "source": [
        "# Split into X,y\n",
        "y = df['income'] == '>50K'\n",
        "X = df.drop(columns ='income')"
      ],
      "execution_count": 0,
      "outputs": []
    },
    {
      "cell_type": "code",
      "metadata": {
        "id": "a8dqjmuERmND",
        "colab_type": "code",
        "outputId": "defdd01d-076a-48a1-e888-d48e6e473c9f",
        "colab": {
          "base_uri": "https://localhost:8080/",
          "height": 68
        }
      },
      "source": [
        "# Raw value counts for income > 50K\n",
        "y.value_counts(normalize=True)"
      ],
      "execution_count": 61,
      "outputs": [
        {
          "output_type": "execute_result",
          "data": {
            "text/plain": [
              "False    0.75919\n",
              "True     0.24081\n",
              "Name: income, dtype: float64"
            ]
          },
          "metadata": {
            "tags": []
          },
          "execution_count": 61
        }
      ]
    },
    {
      "cell_type": "code",
      "metadata": {
        "id": "1I6dKYLIRyIO",
        "colab_type": "code",
        "colab": {}
      },
      "source": [
        "majority_class = y.mode()[0]\n",
        "y_pred = [majority_class] * len(y)"
      ],
      "execution_count": 0,
      "outputs": []
    },
    {
      "cell_type": "markdown",
      "metadata": {
        "colab_type": "text",
        "id": "IxKfgx4ycb3c"
      },
      "source": [
        "What **accuracy score** would you get here with a **\"majority class baseline\"?** \n",
        " \n",
        "(You can answer this question either with a scikit-learn function or with a pandas function.)"
      ]
    },
    {
      "cell_type": "code",
      "metadata": {
        "colab_type": "code",
        "id": "3oo31Remcq-x",
        "outputId": "dc71dbdb-687f-4295-a337-d11290f4c0e4",
        "colab": {
          "base_uri": "https://localhost:8080/",
          "height": 34
        }
      },
      "source": [
        "# Majority class baseline is 75.9\n",
        "from sklearn.metrics import accuracy_score\n",
        "accuracy_score(y, y_pred)"
      ],
      "execution_count": 63,
      "outputs": [
        {
          "output_type": "execute_result",
          "data": {
            "text/plain": [
              "0.7591904425539756"
            ]
          },
          "metadata": {
            "tags": []
          },
          "execution_count": 63
        }
      ]
    },
    {
      "cell_type": "markdown",
      "metadata": {
        "colab_type": "text",
        "id": "_KdxE1TrcriI"
      },
      "source": [
        "What **ROC AUC score** would you get here with a **majority class baseline?**\n",
        "\n",
        "(You can answer this question either with a scikit-learn function or with no code, just your understanding of ROC AUC.)"
      ]
    },
    {
      "cell_type": "code",
      "metadata": {
        "colab_type": "code",
        "id": "ILS0fN0Cctyc",
        "outputId": "e61e0d08-5a33-4b6c-d6d1-1ef4117f9586",
        "colab": {
          "base_uri": "https://localhost:8080/",
          "height": 34
        }
      },
      "source": [
        "from sklearn.metrics import roc_auc_score\n",
        "roc_auc_score(y, y_pred)"
      ],
      "execution_count": 64,
      "outputs": [
        {
          "output_type": "execute_result",
          "data": {
            "text/plain": [
              "0.5"
            ]
          },
          "metadata": {
            "tags": []
          },
          "execution_count": 64
        }
      ]
    },
    {
      "cell_type": "markdown",
      "metadata": {
        "colab_type": "text",
        "id": "QqYNDtwKYhji"
      },
      "source": [
        "In this Sprint Challenge, you will use **\"Cross-Validation with Independent Test Set\"** for your model validaton method.\n",
        "\n",
        "First, **split the data into `X_train, X_test, y_train, y_test`**. You can include 80% of the data in the train set, and hold out 20% for the test set."
      ]
    },
    {
      "cell_type": "code",
      "metadata": {
        "colab_type": "code",
        "id": "mPKf86yDYf0t",
        "colab": {}
      },
      "source": [
        "# train_test_split function for splitting dataset\n",
        "from sklearn.model_selection import train_test_split\n",
        "\n",
        "X_train, X_test, y_train, y_test = train_test_split(\n",
        "    X, y, test_size=0.2, random_state=42, stratify=y)"
      ],
      "execution_count": 0,
      "outputs": []
    },
    {
      "cell_type": "code",
      "metadata": {
        "id": "WLFWYkHeVq3-",
        "colab_type": "code",
        "colab": {}
      },
      "source": [
        "X_train, X_val, y_train, y_val = train_test_split(\n",
        "    X_train, y_train, test_size=0.3, random_state=42, stratify=y_train)"
      ],
      "execution_count": 0,
      "outputs": []
    },
    {
      "cell_type": "code",
      "metadata": {
        "id": "Lud_xwdSVtfM",
        "colab_type": "code",
        "outputId": "b355a377-c9aa-445d-8330-4abb4364c3f4",
        "colab": {
          "base_uri": "https://localhost:8080/",
          "height": 34
        }
      },
      "source": [
        "# View shapes of newly created data sets\n",
        "X_train.shape, X_val.shape, X_test.shape, y_train.shape, y_val.shape, y_test.shape"
      ],
      "execution_count": 51,
      "outputs": [
        {
          "output_type": "execute_result",
          "data": {
            "text/plain": [
              "((18233, 15), (7815, 15), (6513, 15), (18233,), (7815,), (6513,))"
            ]
          },
          "metadata": {
            "tags": []
          },
          "execution_count": 51
        }
      ]
    },
    {
      "cell_type": "markdown",
      "metadata": {
        "id": "ShhXoswEQpfv",
        "colab_type": "text"
      },
      "source": [
        "## Part 2 — Modeling with Logistic Regression!"
      ]
    },
    {
      "cell_type": "markdown",
      "metadata": {
        "colab_type": "text",
        "id": "E_ATNJdqTCuZ"
      },
      "source": [
        "- You may do exploratory data analysis and visualization, but it is not required.\n",
        "- You may **use all the features, or select any features** of your choice, as long as you select at least one numeric feature and one categorical feature.\n",
        "- **Scale your numeric features**, using any scikit-learn [Scaler](https://scikit-learn.org/stable/modules/classes.html#module-sklearn.preprocessing) of your choice.\n",
        "- **Encode your categorical features**. You may use any encoding (One-Hot, Ordinal, etc) and any library (category_encoders, scikit-learn, pandas, etc) of your choice.\n",
        "- You may choose to use a pipeline, but it is not required.\n",
        "- Use a **Logistic Regression** model.\n",
        "- Use scikit-learn's [**cross_val_score**](https://scikit-learn.org/stable/modules/generated/sklearn.model_selection.cross_val_score.html) function. For [scoring](https://scikit-learn.org/stable/modules/model_evaluation.html#the-scoring-parameter-defining-model-evaluation-rules), use **accuracy**.\n",
        "- **Print your model's cross-validation accuracy score.**"
      ]
    },
    {
      "cell_type": "code",
      "metadata": {
        "id": "6GT3Ht6FUm46",
        "colab_type": "code",
        "outputId": "679ff7e2-e76f-4ffb-ca48-185545ab50fc",
        "colab": {
          "base_uri": "https://localhost:8080/",
          "height": 187
        }
      },
      "source": [
        "! pip install category_encoders"
      ],
      "execution_count": 52,
      "outputs": [
        {
          "output_type": "stream",
          "text": [
            "Requirement already satisfied: category_encoders in /usr/local/lib/python3.6/dist-packages (2.0.0)\n",
            "Requirement already satisfied: pandas>=0.21.1 in /usr/local/lib/python3.6/dist-packages (from category_encoders) (0.24.2)\n",
            "Requirement already satisfied: scipy>=0.19.0 in /usr/local/lib/python3.6/dist-packages (from category_encoders) (1.2.1)\n",
            "Requirement already satisfied: numpy>=1.11.3 in /usr/local/lib/python3.6/dist-packages (from category_encoders) (1.16.3)\n",
            "Requirement already satisfied: statsmodels>=0.6.1 in /usr/local/lib/python3.6/dist-packages (from category_encoders) (0.9.0)\n",
            "Requirement already satisfied: scikit-learn>=0.20.0 in /usr/local/lib/python3.6/dist-packages (from category_encoders) (0.20.3)\n",
            "Requirement already satisfied: patsy>=0.4.1 in /usr/local/lib/python3.6/dist-packages (from category_encoders) (0.5.1)\n",
            "Requirement already satisfied: python-dateutil>=2.5.0 in /usr/local/lib/python3.6/dist-packages (from pandas>=0.21.1->category_encoders) (2.5.3)\n",
            "Requirement already satisfied: pytz>=2011k in /usr/local/lib/python3.6/dist-packages (from pandas>=0.21.1->category_encoders) (2018.9)\n",
            "Requirement already satisfied: six in /usr/local/lib/python3.6/dist-packages (from patsy>=0.4.1->category_encoders) (1.12.0)\n"
          ],
          "name": "stdout"
        }
      ]
    },
    {
      "cell_type": "code",
      "metadata": {
        "id": "xXpXwmPrUkuD",
        "colab_type": "code",
        "colab": {}
      },
      "source": [
        "import warnings\n",
        "import category_encoders as ce\n",
        "import matplotlib.pyplot as plt\n",
        "import pandas as pd\n",
        "from sklearn.linear_model import LogisticRegression\n",
        "from sklearn.model_selection import cross_val_score, train_test_split\n",
        "from sklearn.pipeline import make_pipeline\n",
        "from sklearn.exceptions import DataConversionWarning\n",
        "from sklearn.preprocessing import StandardScaler"
      ],
      "execution_count": 0,
      "outputs": []
    },
    {
      "cell_type": "code",
      "metadata": {
        "id": "0iIqf4VGQpfw",
        "colab_type": "code",
        "outputId": "deb1041a-d7a4-4f6f-e19c-1bc3f8c88a6e",
        "colab": {
          "base_uri": "https://localhost:8080/",
          "height": 297
        }
      },
      "source": [
        "# Examine stats for numerical data\n",
        "df.describe(include='number')"
      ],
      "execution_count": 54,
      "outputs": [
        {
          "output_type": "execute_result",
          "data": {
            "text/html": [
              "<div>\n",
              "<style scoped>\n",
              "    .dataframe tbody tr th:only-of-type {\n",
              "        vertical-align: middle;\n",
              "    }\n",
              "\n",
              "    .dataframe tbody tr th {\n",
              "        vertical-align: top;\n",
              "    }\n",
              "\n",
              "    .dataframe thead th {\n",
              "        text-align: right;\n",
              "    }\n",
              "</style>\n",
              "<table border=\"1\" class=\"dataframe\">\n",
              "  <thead>\n",
              "    <tr style=\"text-align: right;\">\n",
              "      <th></th>\n",
              "      <th>age</th>\n",
              "      <th>fnlwgt</th>\n",
              "      <th>education-num</th>\n",
              "      <th>capital-gain</th>\n",
              "      <th>capital-loss</th>\n",
              "      <th>hours-per-week</th>\n",
              "      <th>net-capital-gain</th>\n",
              "    </tr>\n",
              "  </thead>\n",
              "  <tbody>\n",
              "    <tr>\n",
              "      <th>count</th>\n",
              "      <td>32561.000000</td>\n",
              "      <td>3.256100e+04</td>\n",
              "      <td>32561.000000</td>\n",
              "      <td>32561.000000</td>\n",
              "      <td>32561.000000</td>\n",
              "      <td>32561.000000</td>\n",
              "      <td>32561.000000</td>\n",
              "    </tr>\n",
              "    <tr>\n",
              "      <th>mean</th>\n",
              "      <td>38.581647</td>\n",
              "      <td>1.897784e+05</td>\n",
              "      <td>10.080679</td>\n",
              "      <td>1077.648844</td>\n",
              "      <td>87.303830</td>\n",
              "      <td>40.437456</td>\n",
              "      <td>990.345014</td>\n",
              "    </tr>\n",
              "    <tr>\n",
              "      <th>std</th>\n",
              "      <td>13.640433</td>\n",
              "      <td>1.055500e+05</td>\n",
              "      <td>2.572720</td>\n",
              "      <td>7385.292085</td>\n",
              "      <td>402.960219</td>\n",
              "      <td>12.347429</td>\n",
              "      <td>7408.986951</td>\n",
              "    </tr>\n",
              "    <tr>\n",
              "      <th>min</th>\n",
              "      <td>17.000000</td>\n",
              "      <td>1.228500e+04</td>\n",
              "      <td>1.000000</td>\n",
              "      <td>0.000000</td>\n",
              "      <td>0.000000</td>\n",
              "      <td>1.000000</td>\n",
              "      <td>-4356.000000</td>\n",
              "    </tr>\n",
              "    <tr>\n",
              "      <th>25%</th>\n",
              "      <td>28.000000</td>\n",
              "      <td>1.178270e+05</td>\n",
              "      <td>9.000000</td>\n",
              "      <td>0.000000</td>\n",
              "      <td>0.000000</td>\n",
              "      <td>40.000000</td>\n",
              "      <td>0.000000</td>\n",
              "    </tr>\n",
              "    <tr>\n",
              "      <th>50%</th>\n",
              "      <td>37.000000</td>\n",
              "      <td>1.783560e+05</td>\n",
              "      <td>10.000000</td>\n",
              "      <td>0.000000</td>\n",
              "      <td>0.000000</td>\n",
              "      <td>40.000000</td>\n",
              "      <td>0.000000</td>\n",
              "    </tr>\n",
              "    <tr>\n",
              "      <th>75%</th>\n",
              "      <td>48.000000</td>\n",
              "      <td>2.370510e+05</td>\n",
              "      <td>12.000000</td>\n",
              "      <td>0.000000</td>\n",
              "      <td>0.000000</td>\n",
              "      <td>45.000000</td>\n",
              "      <td>0.000000</td>\n",
              "    </tr>\n",
              "    <tr>\n",
              "      <th>max</th>\n",
              "      <td>90.000000</td>\n",
              "      <td>1.484705e+06</td>\n",
              "      <td>16.000000</td>\n",
              "      <td>99999.000000</td>\n",
              "      <td>4356.000000</td>\n",
              "      <td>99.000000</td>\n",
              "      <td>99999.000000</td>\n",
              "    </tr>\n",
              "  </tbody>\n",
              "</table>\n",
              "</div>"
            ],
            "text/plain": [
              "                age        fnlwgt  education-num  capital-gain  capital-loss  \\\n",
              "count  32561.000000  3.256100e+04   32561.000000  32561.000000  32561.000000   \n",
              "mean      38.581647  1.897784e+05      10.080679   1077.648844     87.303830   \n",
              "std       13.640433  1.055500e+05       2.572720   7385.292085    402.960219   \n",
              "min       17.000000  1.228500e+04       1.000000      0.000000      0.000000   \n",
              "25%       28.000000  1.178270e+05       9.000000      0.000000      0.000000   \n",
              "50%       37.000000  1.783560e+05      10.000000      0.000000      0.000000   \n",
              "75%       48.000000  2.370510e+05      12.000000      0.000000      0.000000   \n",
              "max       90.000000  1.484705e+06      16.000000  99999.000000   4356.000000   \n",
              "\n",
              "       hours-per-week  net-capital-gain  \n",
              "count    32561.000000      32561.000000  \n",
              "mean        40.437456        990.345014  \n",
              "std         12.347429       7408.986951  \n",
              "min          1.000000      -4356.000000  \n",
              "25%         40.000000          0.000000  \n",
              "50%         40.000000          0.000000  \n",
              "75%         45.000000          0.000000  \n",
              "max         99.000000      99999.000000  "
            ]
          },
          "metadata": {
            "tags": []
          },
          "execution_count": 54
        }
      ]
    },
    {
      "cell_type": "code",
      "metadata": {
        "id": "-GN-TzxBUOGJ",
        "colab_type": "code",
        "outputId": "cbca25b7-34e5-4d86-fb86-774c79101b18",
        "colab": {
          "base_uri": "https://localhost:8080/",
          "height": 173
        }
      },
      "source": [
        "# Note: native-country is a high cardinality categorical variable\n",
        "df.describe(exclude='number')"
      ],
      "execution_count": 55,
      "outputs": [
        {
          "output_type": "execute_result",
          "data": {
            "text/html": [
              "<div>\n",
              "<style scoped>\n",
              "    .dataframe tbody tr th:only-of-type {\n",
              "        vertical-align: middle;\n",
              "    }\n",
              "\n",
              "    .dataframe tbody tr th {\n",
              "        vertical-align: top;\n",
              "    }\n",
              "\n",
              "    .dataframe thead th {\n",
              "        text-align: right;\n",
              "    }\n",
              "</style>\n",
              "<table border=\"1\" class=\"dataframe\">\n",
              "  <thead>\n",
              "    <tr style=\"text-align: right;\">\n",
              "      <th></th>\n",
              "      <th>workclass</th>\n",
              "      <th>education</th>\n",
              "      <th>marital-status</th>\n",
              "      <th>occupation</th>\n",
              "      <th>relationship</th>\n",
              "      <th>race</th>\n",
              "      <th>sex</th>\n",
              "      <th>native-country</th>\n",
              "      <th>income</th>\n",
              "    </tr>\n",
              "  </thead>\n",
              "  <tbody>\n",
              "    <tr>\n",
              "      <th>count</th>\n",
              "      <td>32561</td>\n",
              "      <td>32561</td>\n",
              "      <td>32561</td>\n",
              "      <td>32561</td>\n",
              "      <td>32561</td>\n",
              "      <td>32561</td>\n",
              "      <td>32561</td>\n",
              "      <td>32561</td>\n",
              "      <td>32561</td>\n",
              "    </tr>\n",
              "    <tr>\n",
              "      <th>unique</th>\n",
              "      <td>9</td>\n",
              "      <td>16</td>\n",
              "      <td>7</td>\n",
              "      <td>15</td>\n",
              "      <td>6</td>\n",
              "      <td>5</td>\n",
              "      <td>2</td>\n",
              "      <td>42</td>\n",
              "      <td>2</td>\n",
              "    </tr>\n",
              "    <tr>\n",
              "      <th>top</th>\n",
              "      <td>Private</td>\n",
              "      <td>HS-grad</td>\n",
              "      <td>Married-civ-spouse</td>\n",
              "      <td>Prof-specialty</td>\n",
              "      <td>Husband</td>\n",
              "      <td>White</td>\n",
              "      <td>Male</td>\n",
              "      <td>United-States</td>\n",
              "      <td>&lt;=50K</td>\n",
              "    </tr>\n",
              "    <tr>\n",
              "      <th>freq</th>\n",
              "      <td>22696</td>\n",
              "      <td>10501</td>\n",
              "      <td>14976</td>\n",
              "      <td>4140</td>\n",
              "      <td>13193</td>\n",
              "      <td>27816</td>\n",
              "      <td>21790</td>\n",
              "      <td>29170</td>\n",
              "      <td>24720</td>\n",
              "    </tr>\n",
              "  </tbody>\n",
              "</table>\n",
              "</div>"
            ],
            "text/plain": [
              "       workclass education       marital-status       occupation relationship  \\\n",
              "count      32561     32561                32561            32561        32561   \n",
              "unique         9        16                    7               15            6   \n",
              "top      Private   HS-grad   Married-civ-spouse   Prof-specialty      Husband   \n",
              "freq       22696     10501                14976             4140        13193   \n",
              "\n",
              "          race    sex  native-country income  \n",
              "count    32561  32561           32561  32561  \n",
              "unique       5      2              42      2  \n",
              "top      White   Male   United-States  <=50K  \n",
              "freq     27816  21790           29170  24720  "
            ]
          },
          "metadata": {
            "tags": []
          },
          "execution_count": 55
        }
      ]
    },
    {
      "cell_type": "code",
      "metadata": {
        "id": "FG6IS6ZHUd0l",
        "colab_type": "code",
        "colab": {}
      },
      "source": [
        "# Make Pipeline\n",
        "# OneHotEncoder for low cardinality categorical columns\n",
        "# BinaryEncoder for high cardinality categorical columns\n",
        "\n",
        "pipeline = make_pipeline(\n",
        "    ce.OneHotEncoder(cols=['relationship', 'race', 'sex','marital-status','workclass', 'occupation','education'], use_cat_names=True),\n",
        "    ce.BinaryEncoder(cols=['native-country']),\n",
        "    StandardScaler(), \n",
        "    LogisticRegression(solver='lbfgs', max_iter=1000)\n",
        ")"
      ],
      "execution_count": 0,
      "outputs": []
    },
    {
      "cell_type": "code",
      "metadata": {
        "id": "oiYIAXhuWQd-",
        "colab_type": "code",
        "outputId": "37bb4a20-303a-49a1-aa9c-0bf91adc91c2",
        "colab": {
          "base_uri": "https://localhost:8080/",
          "height": 85
        }
      },
      "source": [
        "# Cross-validate with training data\n",
        "scores = cross_val_score(pipeline, X_train, y_train, scoring='accuracy', cv=10, \n",
        "                         n_jobs=-1, verbose=10)"
      ],
      "execution_count": 57,
      "outputs": [
        {
          "output_type": "stream",
          "text": [
            "[Parallel(n_jobs=-1)]: Using backend LokyBackend with 2 concurrent workers.\n",
            "[Parallel(n_jobs=-1)]: Done   1 tasks      | elapsed:    1.4s\n",
            "[Parallel(n_jobs=-1)]: Done   4 tasks      | elapsed:    3.1s\n",
            "[Parallel(n_jobs=-1)]: Done  10 out of  10 | elapsed:    7.5s finished\n"
          ],
          "name": "stderr"
        }
      ]
    },
    {
      "cell_type": "code",
      "metadata": {
        "id": "ro7-Lf_NXJfd",
        "colab_type": "code",
        "outputId": "11b13bb4-1d9f-4ad0-e5d1-b1f8100e695b",
        "colab": {
          "base_uri": "https://localhost:8080/",
          "height": 68
        }
      },
      "source": [
        "# Our model is scoring higher than our above baseline of .7591\n",
        "\n",
        "print('Cross-Validation Accuracy Scores:', scores)\n",
        "print('Average:', scores.mean())"
      ],
      "execution_count": 58,
      "outputs": [
        {
          "output_type": "stream",
          "text": [
            "Cross-Validation Accuracy Scores: [0.86082192 0.84539474 0.8425672  0.85298958 0.84640702 0.85353812\n",
            " 0.85134394 0.84421284 0.85189248 0.85024685]\n",
            "Average: 0.8499414679883456\n"
          ],
          "name": "stdout"
        }
      ]
    },
    {
      "cell_type": "markdown",
      "metadata": {
        "id": "mgJY0qAxQpfx",
        "colab_type": "text"
      },
      "source": [
        "## Part 3 — Modeling with Tree Ensembles!\n",
        "\n",
        "Part 3 is the same as Part 2, except this time, use a **Random Forest** or **Gradient Boosting** classifier. You may use scikit-learn, xgboost, or any other library. Then, print your model's cross-validation accuracy score."
      ]
    },
    {
      "cell_type": "code",
      "metadata": {
        "colab_type": "code",
        "id": "qAxxkjG7gACP",
        "colab": {}
      },
      "source": [
        "from sklearn.ensemble import RandomForestClassifier\n",
        "from sklearn.tree import DecisionTreeClassifier\n",
        "from xgboost import XGBClassifier\n",
        "\n",
        "from sklearn.impute import SimpleImputer\n",
        "from sklearn.preprocessing import MinMaxScaler"
      ],
      "execution_count": 0,
      "outputs": []
    },
    {
      "cell_type": "code",
      "metadata": {
        "id": "ml8qKLG4bIfm",
        "colab_type": "code",
        "outputId": "e1fa94d3-d355-41ae-8d64-0eac19f49849",
        "colab": {
          "base_uri": "https://localhost:8080/",
          "height": 233
        }
      },
      "source": [
        "features = ['age', 'workclass', 'fnlwgt', 'education', 'education-num', 'marital-status', 'occupation', 'relationship', 'race', 'capital-gain', 'capital-loss', 'hours-per-week', 'native-country']\n",
        "target = 'income'\n",
        "\n",
        "preprocessor = make_pipeline(ce.BaseNEncoder(), SimpleImputer(), StandardScaler())\n",
        "income_X = preprocessor.fit_transform(df[features])\n",
        "income_X = pd.DataFrame(income_X)\n",
        "income_y = df[target]\n",
        "\n",
        "income_X.head()"
      ],
      "execution_count": 24,
      "outputs": [
        {
          "output_type": "execute_result",
          "data": {
            "text/html": [
              "<div>\n",
              "<style scoped>\n",
              "    .dataframe tbody tr th:only-of-type {\n",
              "        vertical-align: middle;\n",
              "    }\n",
              "\n",
              "    .dataframe tbody tr th {\n",
              "        vertical-align: top;\n",
              "    }\n",
              "\n",
              "    .dataframe thead th {\n",
              "        text-align: right;\n",
              "    }\n",
              "</style>\n",
              "<table border=\"1\" class=\"dataframe\">\n",
              "  <thead>\n",
              "    <tr style=\"text-align: right;\">\n",
              "      <th></th>\n",
              "      <th>0</th>\n",
              "      <th>1</th>\n",
              "      <th>2</th>\n",
              "      <th>3</th>\n",
              "      <th>4</th>\n",
              "      <th>5</th>\n",
              "      <th>6</th>\n",
              "      <th>7</th>\n",
              "      <th>8</th>\n",
              "      <th>9</th>\n",
              "      <th>...</th>\n",
              "      <th>30</th>\n",
              "      <th>31</th>\n",
              "      <th>32</th>\n",
              "      <th>33</th>\n",
              "      <th>34</th>\n",
              "      <th>35</th>\n",
              "      <th>36</th>\n",
              "      <th>37</th>\n",
              "      <th>38</th>\n",
              "      <th>39</th>\n",
              "    </tr>\n",
              "  </thead>\n",
              "  <tbody>\n",
              "    <tr>\n",
              "      <th>0</th>\n",
              "      <td>0.030671</td>\n",
              "      <td>0.0</td>\n",
              "      <td>-0.025404</td>\n",
              "      <td>-0.475527</td>\n",
              "      <td>-2.539217</td>\n",
              "      <td>0.443459</td>\n",
              "      <td>-1.063611</td>\n",
              "      <td>-0.116092</td>\n",
              "      <td>-0.400559</td>\n",
              "      <td>-0.767994</td>\n",
              "      <td>...</td>\n",
              "      <td>0.148453</td>\n",
              "      <td>-0.21666</td>\n",
              "      <td>-0.035429</td>\n",
              "      <td>0.0</td>\n",
              "      <td>-0.090411</td>\n",
              "      <td>-0.154175</td>\n",
              "      <td>-0.202778</td>\n",
              "      <td>-0.27986</td>\n",
              "      <td>-0.245085</td>\n",
              "      <td>0.253631</td>\n",
              "    </tr>\n",
              "    <tr>\n",
              "      <th>1</th>\n",
              "      <td>0.837109</td>\n",
              "      <td>0.0</td>\n",
              "      <td>-0.025404</td>\n",
              "      <td>-0.475527</td>\n",
              "      <td>0.393822</td>\n",
              "      <td>-2.255001</td>\n",
              "      <td>-1.008707</td>\n",
              "      <td>-0.116092</td>\n",
              "      <td>-0.400559</td>\n",
              "      <td>-0.767994</td>\n",
              "      <td>...</td>\n",
              "      <td>-0.145920</td>\n",
              "      <td>-0.21666</td>\n",
              "      <td>-2.222153</td>\n",
              "      <td>0.0</td>\n",
              "      <td>-0.090411</td>\n",
              "      <td>-0.154175</td>\n",
              "      <td>-0.202778</td>\n",
              "      <td>-0.27986</td>\n",
              "      <td>-0.245085</td>\n",
              "      <td>0.253631</td>\n",
              "    </tr>\n",
              "    <tr>\n",
              "      <th>2</th>\n",
              "      <td>-0.042642</td>\n",
              "      <td>0.0</td>\n",
              "      <td>-0.025404</td>\n",
              "      <td>-0.475527</td>\n",
              "      <td>0.393822</td>\n",
              "      <td>0.443459</td>\n",
              "      <td>0.245079</td>\n",
              "      <td>-0.116092</td>\n",
              "      <td>-0.400559</td>\n",
              "      <td>-0.767994</td>\n",
              "      <td>...</td>\n",
              "      <td>-0.145920</td>\n",
              "      <td>-0.21666</td>\n",
              "      <td>-0.035429</td>\n",
              "      <td>0.0</td>\n",
              "      <td>-0.090411</td>\n",
              "      <td>-0.154175</td>\n",
              "      <td>-0.202778</td>\n",
              "      <td>-0.27986</td>\n",
              "      <td>-0.245085</td>\n",
              "      <td>0.253631</td>\n",
              "    </tr>\n",
              "    <tr>\n",
              "      <th>3</th>\n",
              "      <td>1.057047</td>\n",
              "      <td>0.0</td>\n",
              "      <td>-0.025404</td>\n",
              "      <td>-0.475527</td>\n",
              "      <td>0.393822</td>\n",
              "      <td>0.443459</td>\n",
              "      <td>0.425801</td>\n",
              "      <td>-0.116092</td>\n",
              "      <td>-0.400559</td>\n",
              "      <td>-0.767994</td>\n",
              "      <td>...</td>\n",
              "      <td>-0.145920</td>\n",
              "      <td>-0.21666</td>\n",
              "      <td>-0.035429</td>\n",
              "      <td>0.0</td>\n",
              "      <td>-0.090411</td>\n",
              "      <td>-0.154175</td>\n",
              "      <td>-0.202778</td>\n",
              "      <td>-0.27986</td>\n",
              "      <td>-0.245085</td>\n",
              "      <td>0.253631</td>\n",
              "    </tr>\n",
              "    <tr>\n",
              "      <th>4</th>\n",
              "      <td>-0.775768</td>\n",
              "      <td>0.0</td>\n",
              "      <td>-0.025404</td>\n",
              "      <td>-0.475527</td>\n",
              "      <td>0.393822</td>\n",
              "      <td>0.443459</td>\n",
              "      <td>1.408176</td>\n",
              "      <td>-0.116092</td>\n",
              "      <td>-0.400559</td>\n",
              "      <td>-0.767994</td>\n",
              "      <td>...</td>\n",
              "      <td>-0.145920</td>\n",
              "      <td>-0.21666</td>\n",
              "      <td>-0.035429</td>\n",
              "      <td>0.0</td>\n",
              "      <td>-0.090411</td>\n",
              "      <td>-0.154175</td>\n",
              "      <td>-0.202778</td>\n",
              "      <td>-0.27986</td>\n",
              "      <td>4.080225</td>\n",
              "      <td>-3.942743</td>\n",
              "    </tr>\n",
              "  </tbody>\n",
              "</table>\n",
              "<p>5 rows × 40 columns</p>\n",
              "</div>"
            ],
            "text/plain": [
              "         0    1         2         3         4         5         6         7   \\\n",
              "0  0.030671  0.0 -0.025404 -0.475527 -2.539217  0.443459 -1.063611 -0.116092   \n",
              "1  0.837109  0.0 -0.025404 -0.475527  0.393822 -2.255001 -1.008707 -0.116092   \n",
              "2 -0.042642  0.0 -0.025404 -0.475527  0.393822  0.443459  0.245079 -0.116092   \n",
              "3  1.057047  0.0 -0.025404 -0.475527  0.393822  0.443459  0.425801 -0.116092   \n",
              "4 -0.775768  0.0 -0.025404 -0.475527  0.393822  0.443459  1.408176 -0.116092   \n",
              "\n",
              "         8         9   ...        30       31        32   33        34  \\\n",
              "0 -0.400559 -0.767994  ...  0.148453 -0.21666 -0.035429  0.0 -0.090411   \n",
              "1 -0.400559 -0.767994  ... -0.145920 -0.21666 -2.222153  0.0 -0.090411   \n",
              "2 -0.400559 -0.767994  ... -0.145920 -0.21666 -0.035429  0.0 -0.090411   \n",
              "3 -0.400559 -0.767994  ... -0.145920 -0.21666 -0.035429  0.0 -0.090411   \n",
              "4 -0.400559 -0.767994  ... -0.145920 -0.21666 -0.035429  0.0 -0.090411   \n",
              "\n",
              "         35        36       37        38        39  \n",
              "0 -0.154175 -0.202778 -0.27986 -0.245085  0.253631  \n",
              "1 -0.154175 -0.202778 -0.27986 -0.245085  0.253631  \n",
              "2 -0.154175 -0.202778 -0.27986 -0.245085  0.253631  \n",
              "3 -0.154175 -0.202778 -0.27986 -0.245085  0.253631  \n",
              "4 -0.154175 -0.202778 -0.27986  4.080225 -3.942743  \n",
              "\n",
              "[5 rows x 40 columns]"
            ]
          },
          "metadata": {
            "tags": []
          },
          "execution_count": 24
        }
      ]
    },
    {
      "cell_type": "code",
      "metadata": {
        "id": "F5Ff3ZvYYiG3",
        "colab_type": "code",
        "outputId": "963d7102-76fc-4b7e-86f7-8b6c9b131b52",
        "colab": {
          "base_uri": "https://localhost:8080/",
          "height": 527
        }
      },
      "source": [
        "# The second XGB Classifier model has the highest cross-validation score, however it may be overfit\n",
        "models = [RandomForestClassifier(max_depth=None, n_estimators=100, n_jobs=-1, random_state=42),\n",
        "          XGBClassifier(max_depth=3, n_estimators=100, n_jobs=-1, random_state=42),\n",
        "          XGBClassifier(max_depth=5, n_estimators=200, n_jobs=-1, random_state=42)]\n",
        "\n",
        "for model in models:\n",
        "    print(model, '\\n')\n",
        "    score = cross_val_score(model, income_X, income_y, scoring='accuracy', cv=5).mean()\n",
        "    print('Cross-Validation Accuracy:', score, '\\n', '\\n')"
      ],
      "execution_count": 22,
      "outputs": [
        {
          "output_type": "stream",
          "text": [
            "RandomForestClassifier(bootstrap=True, class_weight=None, criterion='gini',\n",
            "            max_depth=None, max_features='auto', max_leaf_nodes=None,\n",
            "            min_impurity_decrease=0.0, min_impurity_split=None,\n",
            "            min_samples_leaf=1, min_samples_split=2,\n",
            "            min_weight_fraction_leaf=0.0, n_estimators=100, n_jobs=-1,\n",
            "            oob_score=False, random_state=42, verbose=0, warm_start=False) \n",
            "\n",
            "Cross-Validation Accuracy: 0.854580712889096 \n",
            " \n",
            "\n",
            "XGBClassifier(base_score=0.5, booster='gbtree', colsample_bylevel=1,\n",
            "       colsample_bytree=1, gamma=0, learning_rate=0.1, max_delta_step=0,\n",
            "       max_depth=3, min_child_weight=1, missing=None, n_estimators=100,\n",
            "       n_jobs=-1, nthread=None, objective='binary:logistic',\n",
            "       random_state=42, reg_alpha=0, reg_lambda=1, scale_pos_weight=1,\n",
            "       seed=None, silent=True, subsample=1) \n",
            "\n",
            "Cross-Validation Accuracy: 0.8639785209395988 \n",
            " \n",
            "\n",
            "XGBClassifier(base_score=0.5, booster='gbtree', colsample_bylevel=1,\n",
            "       colsample_bytree=1, gamma=0, learning_rate=0.1, max_delta_step=0,\n",
            "       max_depth=5, min_child_weight=1, missing=None, n_estimators=200,\n",
            "       n_jobs=-1, nthread=None, objective='binary:logistic',\n",
            "       random_state=42, reg_alpha=0, reg_lambda=1, scale_pos_weight=1,\n",
            "       seed=None, silent=True, subsample=1) \n",
            "\n",
            "Cross-Validation Accuracy: 0.8704894029744329 \n",
            " \n",
            "\n"
          ],
          "name": "stdout"
        }
      ]
    },
    {
      "cell_type": "markdown",
      "metadata": {
        "id": "IKbWTxiRsis4",
        "colab_type": "text"
      },
      "source": [
        "### Train Set"
      ]
    },
    {
      "cell_type": "code",
      "metadata": {
        "id": "UyJzRRVktpBW",
        "colab_type": "code",
        "colab": {}
      },
      "source": [
        "# Incomplete\n",
        "features = ['age', 'workclass', 'fnlwgt', 'education', 'education-num', 'marital-status', 'occupation', 'relationship', 'race', 'capital-gain', 'capital-loss', 'hours-per-week', 'native-country']\n",
        "target = 'income'\n",
        "\n",
        "X = df[features]\n",
        "y = df[[target]]\n",
        "\n",
        "X_train, X_test, y_train, y_test = train_test_split(\n",
        "    X, y, test_size=0.2, random_state=42, stratify=y)\n",
        "\n",
        "X_train, X_val, y_train, y_val = train_test_split(\n",
        "    X_train, y_train, test_size=0.3, random_state=42, stratify=y_train)"
      ],
      "execution_count": 0,
      "outputs": []
    },
    {
      "cell_type": "code",
      "metadata": {
        "id": "AlgbDjbHsbq5",
        "colab_type": "code",
        "colab": {}
      },
      "source": [
        "features = ['age', 'workclass', 'fnlwgt', 'education', 'education-num', 'marital-status', 'occupation', 'relationship', 'race', 'capital-gain', 'capital-loss', 'hours-per-week', 'native-country']\n",
        "target = 'income'\n",
        "\n",
        "preprocessor = make_pipeline(ce.BaseNEncoder(), SimpleImputer(), StandardScaler())\n",
        "income_X = preprocessor.fit_transform(X_train[features])\n",
        "income_train_X = pd.DataFrame(income_X)\n",
        "income_test_y = y_test[target]\n",
        "\n",
        "income_train_X.head()"
      ],
      "execution_count": 0,
      "outputs": []
    },
    {
      "cell_type": "code",
      "metadata": {
        "id": "URpdnuRusRux",
        "colab_type": "code",
        "colab": {}
      },
      "source": [
        "models = [RandomForestClassifier(max_depth=None, n_estimators=200, n_jobs=-1, random_state=42),\n",
        "          XGBClassifier(max_depth=3, n_estimators=100, n_jobs=-1, random_state=42),\n",
        "          XGBClassifier(max_depth=5, n_estimators=200, n_jobs=-1, random_state=42)]\n",
        "\n",
        "for model in models:\n",
        "    print(model, '\\n')\n",
        "    y_pred = cross_val_predict()\n",
        "    score = cross_val_score(model, income_train_X, income_test_y, scoring='accuracy', cv=5).mean()\n",
        "    print('Cross-Validation Accuracy:', score, '\\n', '\\n')"
      ],
      "execution_count": 0,
      "outputs": []
    },
    {
      "cell_type": "markdown",
      "metadata": {
        "colab_type": "text",
        "id": "jkyHoRIbEgRR"
      },
      "source": [
        "## Part 4 — Calculate classification metrics from a confusion matrix\n",
        "\n",
        "Suppose this is the confusion matrix for your binary classification model:\n",
        "\n",
        "<table>\n",
        "  <tr>\n",
        "    <td colspan=\"2\" rowspan=\"2\"></td>\n",
        "    <td colspan=\"2\">Predicted</td>\n",
        "  </tr>\n",
        "  <tr>\n",
        "    <td>Negative</td>\n",
        "    <td>Positive</td>\n",
        "  </tr>\n",
        "  <tr>\n",
        "    <td rowspan=\"2\">Actual</td>\n",
        "    <td>Negative</td>\n",
        "    <td style=\"border: solid\">85</td>\n",
        "    <td style=\"border: solid\">58</td>\n",
        "  </tr>\n",
        "  <tr>\n",
        "    <td>Positive</td>\n",
        "    <td style=\"border: solid\">8</td>\n",
        "    <td style=\"border: solid\"> 36</td>\n",
        "  </tr>\n",
        "</table>"
      ]
    },
    {
      "cell_type": "code",
      "metadata": {
        "id": "niveMjcGcQHn",
        "colab_type": "code",
        "colab": {}
      },
      "source": [
        "# Assign matrix values to variables\n",
        "true_negative  = 85\n",
        "false_positive = 58\n",
        "false_negative = 8\n",
        "true_positive  = 36\n",
        "\n",
        "# Assign actual and predicted values to variables\n",
        "actual_negative = 85 + 58\n",
        "actual_positive = 8 + 36\n",
        "predicted_negative = 85 + 8\n",
        "predicted_positive = 58 + 36"
      ],
      "execution_count": 0,
      "outputs": []
    },
    {
      "cell_type": "markdown",
      "metadata": {
        "colab_type": "text",
        "id": "LhyMM5H-JpVB"
      },
      "source": [
        "Calculate accuracy"
      ]
    },
    {
      "cell_type": "code",
      "metadata": {
        "colab_type": "code",
        "id": "TZPwqdh2KUcB",
        "colab": {}
      },
      "source": [
        "# Accuracy Score\n",
        "accuracy = (true_positive + true_negative) / (predicted_negative + predicted_positive)\n",
        "print('Accuracy: ', accuracy)"
      ],
      "execution_count": 0,
      "outputs": []
    },
    {
      "cell_type": "markdown",
      "metadata": {
        "colab_type": "text",
        "id": "BRWLfGcGKeQw"
      },
      "source": [
        "Calculate precision"
      ]
    },
    {
      "cell_type": "code",
      "metadata": {
        "colab_type": "code",
        "id": "A-FEZ4i_Kf_n",
        "colab": {}
      },
      "source": [
        "# Precision Score\n",
        "precision = true_positive / predicted_positive\n",
        "print('Precision: ', precision)"
      ],
      "execution_count": 0,
      "outputs": []
    },
    {
      "cell_type": "markdown",
      "metadata": {
        "colab_type": "text",
        "id": "h_mH2NYDKi2C"
      },
      "source": [
        "Calculate recall"
      ]
    },
    {
      "cell_type": "code",
      "metadata": {
        "colab_type": "code",
        "id": "U4_wJGyjKkXJ",
        "colab": {}
      },
      "source": [
        "# Recall score\n",
        "recall = true_positive / actual_positive\n",
        "print('Recall: ', recall)"
      ],
      "execution_count": 0,
      "outputs": []
    },
    {
      "cell_type": "markdown",
      "metadata": {
        "id": "V2BzJqtpdN8_",
        "colab_type": "text"
      },
      "source": [
        "F1 Score and False Positive Rate"
      ]
    },
    {
      "cell_type": "code",
      "metadata": {
        "id": "xCNSkEhzdQYk",
        "colab_type": "code",
        "colab": {}
      },
      "source": [
        "# F1 Score\n",
        "f1 = 2 * precision * recall / (precision + recall) \n",
        "print('F1 score: ', f1)\n",
        "\n",
        "# False Positive Rate\n",
        "false_positive_rate = false_positive / (false_positive + true_negative)\n",
        "print('False Positive Rate: ', false_positive_rate)"
      ],
      "execution_count": 0,
      "outputs": []
    },
    {
      "cell_type": "markdown",
      "metadata": {
        "colab_type": "text",
        "id": "9KEaWsk5Kk9W"
      },
      "source": [
        "## BONUS — How you can earn a score of 3\n",
        "\n",
        "### Part 1\n",
        "Do feature engineering, to try improving your cross-validation score.\n",
        "\n",
        "### Part 2\n",
        "Experiment with feature selection, preprocessing, categorical encoding, and hyperparameter optimization, to try improving your cross-validation score.\n",
        "\n",
        "### Part 3\n",
        "Which model had the best cross-validation score? Refit this model on the train set and do a final evaluation on the held out test set — what is the test score? \n",
        "\n",
        "### Part 4\n",
        "Calculate F1 score and False Positive Rate. "
      ]
    }
  ]
}