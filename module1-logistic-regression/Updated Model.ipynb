{
 "cells": [
  {
   "cell_type": "code",
   "execution_count": 78,
   "metadata": {},
   "outputs": [],
   "source": [
    "import pandas as pd"
   ]
  },
  {
   "cell_type": "code",
   "execution_count": 79,
   "metadata": {},
   "outputs": [],
   "source": [
    "feature_df = pd.read_csv('features.csv', skiprows=[1,2,3], low_memory=False)"
   ]
  },
  {
   "cell_type": "code",
   "execution_count": 80,
   "metadata": {},
   "outputs": [],
   "source": [
    "feature_df = feature_df.rename(columns={'feature':'track_id'})"
   ]
  },
  {
   "cell_type": "code",
   "execution_count": 81,
   "metadata": {},
   "outputs": [
    {
     "name": "stderr",
     "output_type": "stream",
     "text": [
      "Skipping line 53396: unexpected end of data\n"
     ]
    }
   ],
   "source": [
    "core_df = pd.read_csv('tracks.csv', skiprows=1, index_col=0, engine='python', error_bad_lines=False)"
   ]
  },
  {
   "cell_type": "code",
   "execution_count": 82,
   "metadata": {},
   "outputs": [],
   "source": [
    "tracks = core_df[ ['producer', 'location', 'composer','type','id','genre_top'] ]\n",
    "tracks = tracks.drop('track_id', axis=0)"
   ]
  },
  {
   "cell_type": "code",
   "execution_count": 83,
   "metadata": {},
   "outputs": [],
   "source": [
    "tracks = tracks.reset_index()\n",
    "tracks = tracks.rename(columns={'index':'track_id'})"
   ]
  },
  {
   "cell_type": "code",
   "execution_count": 84,
   "metadata": {},
   "outputs": [],
   "source": [
    "tracks['track_id'] = tracks['track_id'].astype(int)"
   ]
  },
  {
   "cell_type": "code",
   "execution_count": 85,
   "metadata": {},
   "outputs": [],
   "source": [
    "tracks = tracks.dropna(subset=['genre_top'])"
   ]
  },
  {
   "cell_type": "code",
   "execution_count": 86,
   "metadata": {},
   "outputs": [],
   "source": [
    "merged = pd.merge(tracks, feature_df, on='track_id', how='left')"
   ]
  },
  {
   "cell_type": "code",
   "execution_count": 87,
   "metadata": {},
   "outputs": [],
   "source": [
    "merged = merged.drop(columns={'track_id', 'id'})"
   ]
  },
  {
   "cell_type": "code",
   "execution_count": 88,
   "metadata": {},
   "outputs": [
    {
     "data": {
      "text/plain": [
       "((22740, 522), (5686, 522), (22740,), (5686,))"
      ]
     },
     "execution_count": 88,
     "metadata": {},
     "output_type": "execute_result"
    }
   ],
   "source": [
    "from sklearn.model_selection import train_test_split\n",
    "\n",
    "X = merged.drop(columns='genre_top', axis=1)\n",
    "y = merged['genre_top']\n",
    "\n",
    "X_train, X_test, y_train, y_test = train_test_split(X, y, test_size = 0.2, random_state = 42)\n",
    "X_train.shape, X_test.shape, y_train.shape, y_test.shape"
   ]
  },
  {
   "cell_type": "code",
   "execution_count": 89,
   "metadata": {},
   "outputs": [
    {
     "data": {
      "text/html": [
       "<div>\n",
       "<style scoped>\n",
       "    .dataframe tbody tr th:only-of-type {\n",
       "        vertical-align: middle;\n",
       "    }\n",
       "\n",
       "    .dataframe tbody tr th {\n",
       "        vertical-align: top;\n",
       "    }\n",
       "\n",
       "    .dataframe thead th {\n",
       "        text-align: right;\n",
       "    }\n",
       "</style>\n",
       "<table border=\"1\" class=\"dataframe\">\n",
       "  <thead>\n",
       "    <tr style=\"text-align: right;\">\n",
       "      <th></th>\n",
       "      <th>producer</th>\n",
       "      <th>location</th>\n",
       "      <th>composer</th>\n",
       "      <th>type</th>\n",
       "      <th>chroma_cens</th>\n",
       "      <th>chroma_cens.1</th>\n",
       "      <th>chroma_cens.2</th>\n",
       "      <th>chroma_cens.3</th>\n",
       "      <th>chroma_cens.4</th>\n",
       "      <th>chroma_cens.5</th>\n",
       "      <th>...</th>\n",
       "      <th>tonnetz.39</th>\n",
       "      <th>tonnetz.40</th>\n",
       "      <th>tonnetz.41</th>\n",
       "      <th>zcr</th>\n",
       "      <th>zcr.1</th>\n",
       "      <th>zcr.2</th>\n",
       "      <th>zcr.3</th>\n",
       "      <th>zcr.4</th>\n",
       "      <th>zcr.5</th>\n",
       "      <th>zcr.6</th>\n",
       "    </tr>\n",
       "  </thead>\n",
       "  <tbody>\n",
       "    <tr>\n",
       "      <th>5070</th>\n",
       "      <td>NaN</td>\n",
       "      <td>Stuttgart - Germany</td>\n",
       "      <td>NaN</td>\n",
       "      <td>Album</td>\n",
       "      <td>0.228840</td>\n",
       "      <td>-0.512770</td>\n",
       "      <td>-0.777282</td>\n",
       "      <td>-0.490554</td>\n",
       "      <td>-0.377102</td>\n",
       "      <td>-0.038641</td>\n",
       "      <td>...</td>\n",
       "      <td>0.087990</td>\n",
       "      <td>0.015597</td>\n",
       "      <td>0.016914</td>\n",
       "      <td>5.482908</td>\n",
       "      <td>0.164062</td>\n",
       "      <td>0.04251</td>\n",
       "      <td>0.040039</td>\n",
       "      <td>0.0</td>\n",
       "      <td>1.681478</td>\n",
       "      <td>0.019171</td>\n",
       "    </tr>\n",
       "    <tr>\n",
       "      <th>27666</th>\n",
       "      <td>NaN</td>\n",
       "      <td>New York, NY</td>\n",
       "      <td>NaN</td>\n",
       "      <td>Album</td>\n",
       "      <td>NaN</td>\n",
       "      <td>NaN</td>\n",
       "      <td>NaN</td>\n",
       "      <td>NaN</td>\n",
       "      <td>NaN</td>\n",
       "      <td>NaN</td>\n",
       "      <td>...</td>\n",
       "      <td>NaN</td>\n",
       "      <td>NaN</td>\n",
       "      <td>NaN</td>\n",
       "      <td>NaN</td>\n",
       "      <td>NaN</td>\n",
       "      <td>NaN</td>\n",
       "      <td>NaN</td>\n",
       "      <td>NaN</td>\n",
       "      <td>NaN</td>\n",
       "      <td>NaN</td>\n",
       "    </tr>\n",
       "    <tr>\n",
       "      <th>2859</th>\n",
       "      <td>Terre T</td>\n",
       "      <td>Atlanta, GA</td>\n",
       "      <td>NaN</td>\n",
       "      <td>Radio Program</td>\n",
       "      <td>-0.458388</td>\n",
       "      <td>0.279253</td>\n",
       "      <td>1.447103</td>\n",
       "      <td>1.007605</td>\n",
       "      <td>0.182779</td>\n",
       "      <td>0.190900</td>\n",
       "      <td>...</td>\n",
       "      <td>0.056364</td>\n",
       "      <td>0.012418</td>\n",
       "      <td>0.012510</td>\n",
       "      <td>0.445951</td>\n",
       "      <td>0.300781</td>\n",
       "      <td>0.09109</td>\n",
       "      <td>0.084961</td>\n",
       "      <td>0.0</td>\n",
       "      <td>0.628830</td>\n",
       "      <td>0.037491</td>\n",
       "    </tr>\n",
       "    <tr>\n",
       "      <th>25798</th>\n",
       "      <td>Joe Belock</td>\n",
       "      <td>Brooklyn, NY</td>\n",
       "      <td>NaN</td>\n",
       "      <td>Album</td>\n",
       "      <td>NaN</td>\n",
       "      <td>NaN</td>\n",
       "      <td>NaN</td>\n",
       "      <td>NaN</td>\n",
       "      <td>NaN</td>\n",
       "      <td>NaN</td>\n",
       "      <td>...</td>\n",
       "      <td>NaN</td>\n",
       "      <td>NaN</td>\n",
       "      <td>NaN</td>\n",
       "      <td>NaN</td>\n",
       "      <td>NaN</td>\n",
       "      <td>NaN</td>\n",
       "      <td>NaN</td>\n",
       "      <td>NaN</td>\n",
       "      <td>NaN</td>\n",
       "      <td>NaN</td>\n",
       "    </tr>\n",
       "    <tr>\n",
       "      <th>17578</th>\n",
       "      <td>NaN</td>\n",
       "      <td>NaN</td>\n",
       "      <td>NaN</td>\n",
       "      <td>Album</td>\n",
       "      <td>NaN</td>\n",
       "      <td>NaN</td>\n",
       "      <td>NaN</td>\n",
       "      <td>NaN</td>\n",
       "      <td>NaN</td>\n",
       "      <td>NaN</td>\n",
       "      <td>...</td>\n",
       "      <td>NaN</td>\n",
       "      <td>NaN</td>\n",
       "      <td>NaN</td>\n",
       "      <td>NaN</td>\n",
       "      <td>NaN</td>\n",
       "      <td>NaN</td>\n",
       "      <td>NaN</td>\n",
       "      <td>NaN</td>\n",
       "      <td>NaN</td>\n",
       "      <td>NaN</td>\n",
       "    </tr>\n",
       "  </tbody>\n",
       "</table>\n",
       "<p>5 rows × 522 columns</p>\n",
       "</div>"
      ],
      "text/plain": [
       "         producer             location composer           type  chroma_cens  \\\n",
       "5070          NaN  Stuttgart - Germany      NaN          Album     0.228840   \n",
       "27666         NaN         New York, NY      NaN          Album          NaN   \n",
       "2859      Terre T          Atlanta, GA      NaN  Radio Program    -0.458388   \n",
       "25798  Joe Belock         Brooklyn, NY      NaN          Album          NaN   \n",
       "17578         NaN                  NaN      NaN          Album          NaN   \n",
       "\n",
       "       chroma_cens.1  chroma_cens.2  chroma_cens.3  chroma_cens.4  \\\n",
       "5070       -0.512770      -0.777282      -0.490554      -0.377102   \n",
       "27666            NaN            NaN            NaN            NaN   \n",
       "2859        0.279253       1.447103       1.007605       0.182779   \n",
       "25798            NaN            NaN            NaN            NaN   \n",
       "17578            NaN            NaN            NaN            NaN   \n",
       "\n",
       "       chroma_cens.5    ...     tonnetz.39  tonnetz.40  tonnetz.41       zcr  \\\n",
       "5070       -0.038641    ...       0.087990    0.015597    0.016914  5.482908   \n",
       "27666            NaN    ...            NaN         NaN         NaN       NaN   \n",
       "2859        0.190900    ...       0.056364    0.012418    0.012510  0.445951   \n",
       "25798            NaN    ...            NaN         NaN         NaN       NaN   \n",
       "17578            NaN    ...            NaN         NaN         NaN       NaN   \n",
       "\n",
       "          zcr.1    zcr.2     zcr.3  zcr.4     zcr.5     zcr.6  \n",
       "5070   0.164062  0.04251  0.040039    0.0  1.681478  0.019171  \n",
       "27666       NaN      NaN       NaN    NaN       NaN       NaN  \n",
       "2859   0.300781  0.09109  0.084961    0.0  0.628830  0.037491  \n",
       "25798       NaN      NaN       NaN    NaN       NaN       NaN  \n",
       "17578       NaN      NaN       NaN    NaN       NaN       NaN  \n",
       "\n",
       "[5 rows x 522 columns]"
      ]
     },
     "execution_count": 89,
     "metadata": {},
     "output_type": "execute_result"
    }
   ],
   "source": [
    "X_train.head()"
   ]
  },
  {
   "cell_type": "code",
   "execution_count": 90,
   "metadata": {},
   "outputs": [],
   "source": [
    "import category_encoders as ce\n",
    "\n",
    "\n",
    "dummy_encoder = ce.OneHotEncoder(use_cat_names=True)\n",
    "dummy_encoder = dummy_encoder.fit(X_train['type'])\n",
    "\n",
    "dummy_train = dummy_encoder.transform(X_train.loc[:,'type'])\n",
    "dummy_test = dummy_encoder.transform(X_test.loc[:,'type'])\n",
    "\n",
    "X_train = pd.concat([X_train, dummy_train], axis=1)\n",
    "X_test = pd.concat([X_test, dummy_test], axis=1)"
   ]
  },
  {
   "cell_type": "code",
   "execution_count": 91,
   "metadata": {},
   "outputs": [],
   "source": [
    "hash_features = ['producer', 'location', 'composer']\n",
    "\n",
    "for feature in hash_features:\n",
    "    hasher = ce.HashingEncoder(n_components=10, cols=feature)\n",
    "\n",
    "    hasher = hasher.fit(X_train[feature])\n",
    "\n",
    "    hasher_train = hasher.transform(X_train.loc[:,feature])\n",
    "    hasher_test = hasher.transform(X_test.loc[:,feature])\n",
    "\n",
    "    X_train = pd.concat([X_train, hasher_train], axis=1)\n",
    "    X_test = pd.concat([X_test, hasher_test], axis=1)"
   ]
  },
  {
   "cell_type": "code",
   "execution_count": 92,
   "metadata": {},
   "outputs": [
    {
     "data": {
      "text/plain": [
       "((22740, 557), (5686, 557))"
      ]
     },
     "execution_count": 92,
     "metadata": {},
     "output_type": "execute_result"
    }
   ],
   "source": [
    "X_train.shape, X_test.shape"
   ]
  },
  {
   "cell_type": "code",
   "execution_count": 93,
   "metadata": {},
   "outputs": [],
   "source": [
    "X_train = X_train.drop(columns={'producer', 'location','composer','type'}, axis=1)"
   ]
  },
  {
   "cell_type": "code",
   "execution_count": 94,
   "metadata": {},
   "outputs": [],
   "source": [
    "X_test = X_test.drop(columns={'producer', 'location','composer','type'}, axis=1)"
   ]
  },
  {
   "cell_type": "code",
   "execution_count": 95,
   "metadata": {},
   "outputs": [],
   "source": [
    "from sklearn.impute import SimpleImputer\n",
    "\n",
    "imputer = SimpleImputer()\n",
    "X_train = pd.DataFrame( imputer.fit_transform(X_train) )\n",
    "X_test = pd.DataFrame( imputer.transform(X_test) )"
   ]
  },
  {
   "cell_type": "code",
   "execution_count": 96,
   "metadata": {},
   "outputs": [
    {
     "data": {
      "text/plain": [
       "0"
      ]
     },
     "execution_count": 96,
     "metadata": {},
     "output_type": "execute_result"
    }
   ],
   "source": [
    "X_train.isnull().sum().sum()"
   ]
  },
  {
   "cell_type": "code",
   "execution_count": 97,
   "metadata": {},
   "outputs": [
    {
     "name": "stdout",
     "output_type": "stream",
     "text": [
      "Train Accuracy Score: 0.38007915567282324\n",
      "Train Accuracy Score: 0.3760112557157932\n"
     ]
    },
    {
     "name": "stderr",
     "output_type": "stream",
     "text": [
      "/anaconda3/lib/python3.6/site-packages/sklearn/linear_model/logistic.py:758: ConvergenceWarning: lbfgs failed to converge. Increase the number of iterations.\n",
      "  \"of iterations.\", ConvergenceWarning)\n"
     ]
    }
   ],
   "source": [
    "from sklearn.linear_model import LogisticRegression\n",
    "\n",
    "log_reg = LogisticRegression(solver='lbfgs', max_iter=2000, multi_class='auto')\n",
    "log_reg = log_reg.fit(X_train, y_train)\n",
    "\n",
    "score = log_reg.score(X_train, y_train)\n",
    "print('Train Accuracy Score:', score)\n",
    "score = log_reg.score(X_test, y_test)\n",
    "print('Train Accuracy Score:', score)"
   ]
  }
 ],
 "metadata": {
  "kernelspec": {
   "display_name": "Python 3",
   "language": "python",
   "name": "python3"
  },
  "language_info": {
   "codemirror_mode": {
    "name": "ipython",
    "version": 3
   },
   "file_extension": ".py",
   "mimetype": "text/x-python",
   "name": "python",
   "nbconvert_exporter": "python",
   "pygments_lexer": "ipython3",
   "version": "3.6.8"
  }
 },
 "nbformat": 4,
 "nbformat_minor": 2
}
