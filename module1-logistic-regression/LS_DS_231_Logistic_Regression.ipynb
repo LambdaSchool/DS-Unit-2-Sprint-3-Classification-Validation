{
  "nbformat": 4,
  "nbformat_minor": 0,
  "metadata": {
    "colab": {
      "name": "LS_DS_231_Logistic_Regression.ipynb",
      "version": "0.3.2",
      "provenance": [],
      "include_colab_link": true
    },
    "language_info": {
      "codemirror_mode": {
        "name": "ipython",
        "version": 3
      },
      "file_extension": ".py",
      "mimetype": "text/x-python",
      "name": "python",
      "nbconvert_exporter": "python",
      "pygments_lexer": "ipython3",
      "version": "3.7.1"
    },
    "kernelspec": {
      "display_name": "Python 3",
      "language": "python",
      "name": "python3"
    }
  },
  "cells": [
    {
      "cell_type": "markdown",
      "metadata": {
        "id": "view-in-github",
        "colab_type": "text"
      },
      "source": [
        "<a href=\"https://colab.research.google.com/github/Higgins2718/DS-Unit-2-Sprint-3-Classification-Validation/blob/master/module1-logistic-regression/LS_DS_231_Logistic_Regression.ipynb\" target=\"_parent\"><img src=\"https://colab.research.google.com/assets/colab-badge.svg\" alt=\"Open In Colab\"/></a>"
      ]
    },
    {
      "cell_type": "markdown",
      "metadata": {
        "colab_type": "text",
        "id": "N7SXF6jEBd5_"
      },
      "source": [
        "# Lambda School Data Science - Logistic Regression\n",
        "\n",
        "Logistic regression is the baseline for classification models, as well as a handy way to predict probabilities (since those too live in the unit interval). While relatively simple, it is also the foundation for more sophisticated classification techniques such as neural networks (many of which can effectively be thought of as networks of logistic models)."
      ]
    },
    {
      "cell_type": "markdown",
      "metadata": {
        "colab_type": "text",
        "id": "E7-AOngjadRN"
      },
      "source": [
        "## Lecture - Where Linear goes Wrong\n",
        "### Return of the Titanic 🚢\n",
        "\n",
        "You've likely already explored the rich dataset that is the Titanic - let's use regression and try to predict survival with it. The data is [available from Kaggle](https://www.kaggle.com/c/titanic/data), so we'll also play a bit with [the Kaggle API](https://github.com/Kaggle/kaggle-api)."
      ]
    },
    {
      "cell_type": "markdown",
      "metadata": {
        "id": "o6Ihg6xbRlAf",
        "colab_type": "text"
      },
      "source": [
        "### Get data, option 1: Kaggle API\n",
        "\n",
        "#### Sign up for Kaggle and get an API token\n",
        "1. [Sign up for a Kaggle account](https://www.kaggle.com/), if you don’t already have one. \n",
        "2. [Follow these instructions](https://github.com/Kaggle/kaggle-api#api-credentials) to create a Kaggle “API Token” and download your `kaggle.json` file. If you are using Anaconda, put the file in the directory specified in the instructions.\n",
        "\n",
        "_This will enable you to download data directly from Kaggle. If you run into problems, don’t worry — I’ll give you an easy alternative way to download today’s data, so you can still follow along with the lecture hands-on. And then we’ll help you through the Kaggle process after the lecture._"
      ]
    },
    {
      "cell_type": "markdown",
      "metadata": {
        "id": "UF14fDgdRlAg",
        "colab_type": "text"
      },
      "source": [
        "#### Put `kaggle.json` in the correct location\n",
        "\n",
        "- ***If you're using Anaconda,*** put the file in the directory specified in the [instructions](https://github.com/Kaggle/kaggle-api#api-credentials).\n",
        "\n",
        "- ***If you're using Google Colab,*** upload the file to your Google Drive, and run this cell:"
      ]
    },
    {
      "cell_type": "code",
      "metadata": {
        "id": "ZNprr8UeRlAh",
        "colab_type": "code",
        "colab": {}
      },
      "source": [
        "from google.colab import drive\n",
        "drive.mount('/content/drive')\n",
        "%env KAGGLE_CONFIG_DIR=/content/drive/My Drive/"
      ],
      "execution_count": 0,
      "outputs": []
    },
    {
      "cell_type": "markdown",
      "metadata": {
        "id": "JbVya_E1RlAl",
        "colab_type": "text"
      },
      "source": [
        "#### Install the Kaggle API package and use it to get the data\n",
        "\n",
        "You also have to join the Titanic competition to have access to the data"
      ]
    },
    {
      "cell_type": "code",
      "metadata": {
        "colab_type": "code",
        "id": "MnHLWPYDcyIe",
        "colab": {}
      },
      "source": [
        "!pip install kaggle"
      ],
      "execution_count": 0,
      "outputs": []
    },
    {
      "cell_type": "code",
      "metadata": {
        "id": "P2IWuxSsRlAp",
        "colab_type": "code",
        "colab": {}
      },
      "source": [
        "!kaggle competitions download -c titanic"
      ],
      "execution_count": 0,
      "outputs": []
    },
    {
      "cell_type": "markdown",
      "metadata": {
        "id": "mf_bn-boRlAr",
        "colab_type": "text"
      },
      "source": [
        "### Get data, option 2: Download from the competition page\n",
        "1. [Sign up for a Kaggle account](https://www.kaggle.com/), if you don’t already have one. \n",
        "2. [Go to the Titanic competition page](https://www.kaggle.com/c/titanic) to download the [data](https://www.kaggle.com/c/titanic/data)."
      ]
    },
    {
      "cell_type": "markdown",
      "metadata": {
        "id": "Sz5w76mLRlAs",
        "colab_type": "text"
      },
      "source": [
        "### Get data, option 3: Use Seaborn\n",
        "\n",
        "```\n",
        "import seaborn as sns\n",
        "train = sns.load_dataset('titanic')\n",
        "```\n",
        "\n",
        "But Seaborn's version of the Titanic dataset is not identical to Kaggle's version, as we'll see during this lesson!"
      ]
    },
    {
      "cell_type": "markdown",
      "metadata": {
        "id": "JSTWjLNwRlAs",
        "colab_type": "text"
      },
      "source": [
        "### Read data"
      ]
    },
    {
      "cell_type": "code",
      "metadata": {
        "id": "XZzkGv-8RlAt",
        "colab_type": "code",
        "colab": {}
      },
      "source": [
        ""
      ],
      "execution_count": 0,
      "outputs": []
    },
    {
      "cell_type": "markdown",
      "metadata": {
        "id": "z7fI037NRlAv",
        "colab_type": "text"
      },
      "source": [
        "### How would we try to do this with linear regression?"
      ]
    },
    {
      "cell_type": "markdown",
      "metadata": {
        "id": "PFLx_aadRlAw",
        "colab_type": "text"
      },
      "source": [
        "https://scikit-learn.org/stable/modules/impute.html"
      ]
    },
    {
      "cell_type": "code",
      "metadata": {
        "colab_type": "code",
        "id": "fcxfpsjdFJwM",
        "colab": {}
      },
      "source": [
        ""
      ],
      "execution_count": 0,
      "outputs": []
    },
    {
      "cell_type": "markdown",
      "metadata": {
        "id": "Hwag9EN0RlAz",
        "colab_type": "text"
      },
      "source": [
        "### How would we do this with Logistic Regression?"
      ]
    },
    {
      "cell_type": "code",
      "metadata": {
        "colab_type": "code",
        "id": "dpUm8Dl-u2aB",
        "colab": {}
      },
      "source": [
        ""
      ],
      "execution_count": 0,
      "outputs": []
    },
    {
      "cell_type": "markdown",
      "metadata": {
        "id": "8SQh_mBHRlA3",
        "colab_type": "text"
      },
      "source": [
        "### How accurate is the Logistic Regression?"
      ]
    },
    {
      "cell_type": "code",
      "metadata": {
        "id": "0dpRbdgwRlA4",
        "colab_type": "code",
        "colab": {}
      },
      "source": [
        ""
      ],
      "execution_count": 0,
      "outputs": []
    },
    {
      "cell_type": "markdown",
      "metadata": {
        "id": "dHdvDoWBRlA7",
        "colab_type": "text"
      },
      "source": [
        "### What's the math for the Logistic Regression?\n",
        "\n",
        "https://en.wikipedia.org/wiki/Logistic_function\n",
        "\n",
        "https://en.wikipedia.org/wiki/Logistic_regression#Probability_of_passing_an_exam_versus_hours_of_study"
      ]
    },
    {
      "cell_type": "code",
      "metadata": {
        "colab_type": "code",
        "id": "9Bq-54noR1uE",
        "colab": {}
      },
      "source": [
        ""
      ],
      "execution_count": 0,
      "outputs": []
    },
    {
      "cell_type": "markdown",
      "metadata": {
        "id": "bBOO19zaRlBA",
        "colab_type": "text"
      },
      "source": [
        "## Feature Engineering\n",
        "\n",
        "Get the [Category Encoder](http://contrib.scikit-learn.org/categorical-encoding/) library\n",
        "\n",
        "If you're running on Google Colab:\n",
        "\n",
        "```\n",
        "!pip install category_encoders\n",
        "```\n",
        "\n",
        "If you're running locally with Anaconda:\n",
        "\n",
        "```\n",
        "!conda install -c conda-forge category_encoders\n",
        "```"
      ]
    },
    {
      "cell_type": "code",
      "metadata": {
        "id": "TEjcSoDsRlBC",
        "colab_type": "code",
        "colab": {}
      },
      "source": [
        ""
      ],
      "execution_count": 0,
      "outputs": []
    },
    {
      "cell_type": "markdown",
      "metadata": {
        "colab_type": "text",
        "id": "iblW74C8afuR"
      },
      "source": [
        "## Assignment: real-world classification\n",
        "\n",
        "We're going to check out a larger dataset - the [FMA Free Music Archive data](https://github.com/mdeff/fma). It has a selection of CSVs with metadata and calculated audio features that you can load and try to use to classify genre of tracks. To get you started:"
      ]
    },
    {
      "cell_type": "markdown",
      "metadata": {
        "id": "QU8IfS6jRlBI",
        "colab_type": "text"
      },
      "source": [
        "### Get and unzip the data"
      ]
    },
    {
      "cell_type": "markdown",
      "metadata": {
        "id": "XFy0sPruRlBI",
        "colab_type": "text"
      },
      "source": [
        "#### Google Colab"
      ]
    },
    {
      "cell_type": "code",
      "metadata": {
        "colab_type": "code",
        "id": "SsySnuKaKtQf",
        "outputId": "518029e9-dff8-457a-8073-8a4b25ebaedd",
        "colab": {
          "base_uri": "https://localhost:8080/",
          "height": 449
        }
      },
      "source": [
        "!wget https://os.unil.cloud.switch.ch/fma/fma_metadata.zip\n",
        "!unzip fma_metadata.zip"
      ],
      "execution_count": 1,
      "outputs": [
        {
          "output_type": "stream",
          "text": [
            "--2019-05-06 22:32:41--  https://os.unil.cloud.switch.ch/fma/fma_metadata.zip\n",
            "Resolving os.unil.cloud.switch.ch (os.unil.cloud.switch.ch)... 86.119.28.13, 2001:620:5ca1:2ff::ce53\n",
            "Connecting to os.unil.cloud.switch.ch (os.unil.cloud.switch.ch)|86.119.28.13|:443... connected.\n",
            "HTTP request sent, awaiting response... 200 OK\n",
            "Length: 358412441 (342M) [application/zip]\n",
            "Saving to: ‘fma_metadata.zip’\n",
            "\n",
            "fma_metadata.zip    100%[===================>] 341.81M  18.8MB/s    in 20s     \n",
            "\n",
            "2019-05-06 22:33:01 (17.5 MB/s) - ‘fma_metadata.zip’ saved [358412441/358412441]\n",
            "\n",
            "Archive:  fma_metadata.zip\n",
            " bunzipping: fma_metadata/README.txt  \n",
            " bunzipping: fma_metadata/checksums  \n",
            " bunzipping: fma_metadata/not_found.pickle  \n",
            " bunzipping: fma_metadata/raw_genres.csv  \n",
            " bunzipping: fma_metadata/raw_albums.csv  \n",
            " bunzipping: fma_metadata/raw_artists.csv  \n",
            " bunzipping: fma_metadata/raw_tracks.csv  \n",
            " bunzipping: fma_metadata/tracks.csv  \n",
            " bunzipping: fma_metadata/genres.csv  \n",
            " bunzipping: fma_metadata/raw_echonest.csv  \n",
            " bunzipping: fma_metadata/echonest.csv  \n",
            " bunzipping: fma_metadata/features.csv  \n"
          ],
          "name": "stdout"
        }
      ]
    },
    {
      "cell_type": "markdown",
      "metadata": {
        "id": "VX007-8yRlBK",
        "colab_type": "text"
      },
      "source": [
        "#### Windows\n",
        "- Download the [zip file](https://os.unil.cloud.switch.ch/fma/fma_metadata.zip)\n",
        "- You may need to use [7zip](https://www.7-zip.org/download.html) to unzip it\n",
        "\n",
        "\n",
        "#### Mac\n",
        "- Download the [zip file](https://os.unil.cloud.switch.ch/fma/fma_metadata.zip)\n",
        "- You may need to use [p7zip](https://superuser.com/a/626731) to unzip it"
      ]
    },
    {
      "cell_type": "markdown",
      "metadata": {
        "id": "-ATQ_03ERlBL",
        "colab_type": "text"
      },
      "source": [
        "### Look at first 3 lines of raw file"
      ]
    },
    {
      "cell_type": "code",
      "metadata": {
        "id": "ZfFVQ8BrRlBL",
        "colab_type": "code",
        "colab": {
          "base_uri": "https://localhost:8080/",
          "height": 91
        },
        "outputId": "15d02cad-3284-4047-af22-2e7561351328"
      },
      "source": [
        "!head -n 3 fma_metadata/tracks.csv"
      ],
      "execution_count": 9,
      "outputs": [
        {
          "output_type": "stream",
          "text": [
            ",album,album,album,album,album,album,album,album,album,album,album,album,album,artist,artist,artist,artist,artist,artist,artist,artist,artist,artist,artist,artist,artist,artist,artist,artist,artist,set,set,track,track,track,track,track,track,track,track,track,track,track,track,track,track,track,track,track,track,track,track\n",
            ",comments,date_created,date_released,engineer,favorites,id,information,listens,producer,tags,title,tracks,type,active_year_begin,active_year_end,associated_labels,bio,comments,date_created,favorites,id,latitude,location,longitude,members,name,related_projects,tags,website,wikipedia_page,split,subset,bit_rate,comments,composer,date_created,date_recorded,duration,favorites,genre_top,genres,genres_all,information,interest,language_code,license,listens,lyricist,number,publisher,tags,title\n",
            "track_id,,,,,,,,,,,,,,,,,,,,,,,,,,,,,,,,,,,,,,,,,,,,,,,,,,,,\n"
          ],
          "name": "stdout"
        }
      ]
    },
    {
      "cell_type": "markdown",
      "metadata": {
        "id": "50d9KkY4RlBN",
        "colab_type": "text"
      },
      "source": [
        "### Read with pandas\n",
        "https://pandas.pydata.org/pandas-docs/stable/reference/api/pandas.read_csv.html"
      ]
    },
    {
      "cell_type": "code",
      "metadata": {
        "id": "uSZoiOUwS2uL",
        "colab_type": "code",
        "colab": {}
      },
      "source": [
        "import pandas as pd\n",
        "import numpy as np\n",
        "import matplotlib.pyplot as plt"
      ],
      "execution_count": 0,
      "outputs": []
    },
    {
      "cell_type": "code",
      "metadata": {
        "id": "fNRF4FUKRlBO",
        "colab_type": "code",
        "colab": {}
      },
      "source": [
        "df = pd.read_csv(\"fma_metadata/tracks.csv\", header=[0,1], index_col=0)"
      ],
      "execution_count": 0,
      "outputs": []
    },
    {
      "cell_type": "code",
      "metadata": {
        "id": "tvV_tzrBUABe",
        "colab_type": "code",
        "colab": {
          "base_uri": "https://localhost:8080/",
          "height": 35
        },
        "outputId": "d6c3a22e-ee41-456d-848d-d9099508e92f"
      },
      "source": [
        "df.shape"
      ],
      "execution_count": 19,
      "outputs": [
        {
          "output_type": "execute_result",
          "data": {
            "text/plain": [
              "(106574, 52)"
            ]
          },
          "metadata": {
            "tags": []
          },
          "execution_count": 19
        }
      ]
    },
    {
      "cell_type": "code",
      "metadata": {
        "id": "Fab2lB6XTgAK",
        "colab_type": "code",
        "colab": {
          "base_uri": "https://localhost:8080/",
          "height": 541
        },
        "outputId": "77e24f39-99a8-4e2f-ac5a-6b1e506f5b59"
      },
      "source": [
        "#pd.set_option('display.max_rows', 500)\n",
        "pd.set_option('display.max_columns', 500)\n",
        "pd.set_option('display.width', 1000)\n",
        "df.head()"
      ],
      "execution_count": 20,
      "outputs": [
        {
          "output_type": "execute_result",
          "data": {
            "text/html": [
              "<div>\n",
              "<style scoped>\n",
              "    .dataframe tbody tr th:only-of-type {\n",
              "        vertical-align: middle;\n",
              "    }\n",
              "\n",
              "    .dataframe tbody tr th {\n",
              "        vertical-align: top;\n",
              "    }\n",
              "\n",
              "    .dataframe thead tr th {\n",
              "        text-align: left;\n",
              "    }\n",
              "\n",
              "    .dataframe thead tr:last-of-type th {\n",
              "        text-align: right;\n",
              "    }\n",
              "</style>\n",
              "<table border=\"1\" class=\"dataframe\">\n",
              "  <thead>\n",
              "    <tr>\n",
              "      <th></th>\n",
              "      <th colspan=\"13\" halign=\"left\">album</th>\n",
              "      <th colspan=\"17\" halign=\"left\">artist</th>\n",
              "      <th colspan=\"2\" halign=\"left\">set</th>\n",
              "      <th colspan=\"20\" halign=\"left\">track</th>\n",
              "    </tr>\n",
              "    <tr>\n",
              "      <th></th>\n",
              "      <th>comments</th>\n",
              "      <th>date_created</th>\n",
              "      <th>date_released</th>\n",
              "      <th>engineer</th>\n",
              "      <th>favorites</th>\n",
              "      <th>id</th>\n",
              "      <th>information</th>\n",
              "      <th>listens</th>\n",
              "      <th>producer</th>\n",
              "      <th>tags</th>\n",
              "      <th>title</th>\n",
              "      <th>tracks</th>\n",
              "      <th>type</th>\n",
              "      <th>active_year_begin</th>\n",
              "      <th>active_year_end</th>\n",
              "      <th>associated_labels</th>\n",
              "      <th>bio</th>\n",
              "      <th>comments</th>\n",
              "      <th>date_created</th>\n",
              "      <th>favorites</th>\n",
              "      <th>id</th>\n",
              "      <th>latitude</th>\n",
              "      <th>location</th>\n",
              "      <th>longitude</th>\n",
              "      <th>members</th>\n",
              "      <th>name</th>\n",
              "      <th>related_projects</th>\n",
              "      <th>tags</th>\n",
              "      <th>website</th>\n",
              "      <th>wikipedia_page</th>\n",
              "      <th>split</th>\n",
              "      <th>subset</th>\n",
              "      <th>bit_rate</th>\n",
              "      <th>comments</th>\n",
              "      <th>composer</th>\n",
              "      <th>date_created</th>\n",
              "      <th>date_recorded</th>\n",
              "      <th>duration</th>\n",
              "      <th>favorites</th>\n",
              "      <th>genre_top</th>\n",
              "      <th>genres</th>\n",
              "      <th>genres_all</th>\n",
              "      <th>information</th>\n",
              "      <th>interest</th>\n",
              "      <th>language_code</th>\n",
              "      <th>license</th>\n",
              "      <th>listens</th>\n",
              "      <th>lyricist</th>\n",
              "      <th>number</th>\n",
              "      <th>publisher</th>\n",
              "      <th>tags</th>\n",
              "      <th>title</th>\n",
              "    </tr>\n",
              "    <tr>\n",
              "      <th>track_id</th>\n",
              "      <th></th>\n",
              "      <th></th>\n",
              "      <th></th>\n",
              "      <th></th>\n",
              "      <th></th>\n",
              "      <th></th>\n",
              "      <th></th>\n",
              "      <th></th>\n",
              "      <th></th>\n",
              "      <th></th>\n",
              "      <th></th>\n",
              "      <th></th>\n",
              "      <th></th>\n",
              "      <th></th>\n",
              "      <th></th>\n",
              "      <th></th>\n",
              "      <th></th>\n",
              "      <th></th>\n",
              "      <th></th>\n",
              "      <th></th>\n",
              "      <th></th>\n",
              "      <th></th>\n",
              "      <th></th>\n",
              "      <th></th>\n",
              "      <th></th>\n",
              "      <th></th>\n",
              "      <th></th>\n",
              "      <th></th>\n",
              "      <th></th>\n",
              "      <th></th>\n",
              "      <th></th>\n",
              "      <th></th>\n",
              "      <th></th>\n",
              "      <th></th>\n",
              "      <th></th>\n",
              "      <th></th>\n",
              "      <th></th>\n",
              "      <th></th>\n",
              "      <th></th>\n",
              "      <th></th>\n",
              "      <th></th>\n",
              "      <th></th>\n",
              "      <th></th>\n",
              "      <th></th>\n",
              "      <th></th>\n",
              "      <th></th>\n",
              "      <th></th>\n",
              "      <th></th>\n",
              "      <th></th>\n",
              "      <th></th>\n",
              "      <th></th>\n",
              "      <th></th>\n",
              "    </tr>\n",
              "  </thead>\n",
              "  <tbody>\n",
              "    <tr>\n",
              "      <th>2</th>\n",
              "      <td>0</td>\n",
              "      <td>2008-11-26 01:44:45</td>\n",
              "      <td>2009-01-05 00:00:00</td>\n",
              "      <td>NaN</td>\n",
              "      <td>4</td>\n",
              "      <td>1</td>\n",
              "      <td>&lt;p&gt;&lt;/p&gt;</td>\n",
              "      <td>6073</td>\n",
              "      <td>NaN</td>\n",
              "      <td>[]</td>\n",
              "      <td>AWOL - A Way Of Life</td>\n",
              "      <td>7</td>\n",
              "      <td>Album</td>\n",
              "      <td>2006-01-01 00:00:00</td>\n",
              "      <td>NaN</td>\n",
              "      <td>NaN</td>\n",
              "      <td>&lt;p&gt;A Way Of Life, A Collective of Hip-Hop from...</td>\n",
              "      <td>0</td>\n",
              "      <td>2008-11-26 01:42:32</td>\n",
              "      <td>9</td>\n",
              "      <td>1</td>\n",
              "      <td>40.058324</td>\n",
              "      <td>New Jersey</td>\n",
              "      <td>-74.405661</td>\n",
              "      <td>Sajje Morocco,Brownbum,ZawidaGod,Custodian of ...</td>\n",
              "      <td>AWOL</td>\n",
              "      <td>The list of past projects is 2 long but every1...</td>\n",
              "      <td>['awol']</td>\n",
              "      <td>http://www.AzillionRecords.blogspot.com</td>\n",
              "      <td>NaN</td>\n",
              "      <td>training</td>\n",
              "      <td>small</td>\n",
              "      <td>256000</td>\n",
              "      <td>0</td>\n",
              "      <td>NaN</td>\n",
              "      <td>2008-11-26 01:48:12</td>\n",
              "      <td>2008-11-26 00:00:00</td>\n",
              "      <td>168</td>\n",
              "      <td>2</td>\n",
              "      <td>Hip-Hop</td>\n",
              "      <td>[21]</td>\n",
              "      <td>[21]</td>\n",
              "      <td>NaN</td>\n",
              "      <td>4656</td>\n",
              "      <td>en</td>\n",
              "      <td>Attribution-NonCommercial-ShareAlike 3.0 Inter...</td>\n",
              "      <td>1293</td>\n",
              "      <td>NaN</td>\n",
              "      <td>3</td>\n",
              "      <td>NaN</td>\n",
              "      <td>[]</td>\n",
              "      <td>Food</td>\n",
              "    </tr>\n",
              "    <tr>\n",
              "      <th>3</th>\n",
              "      <td>0</td>\n",
              "      <td>2008-11-26 01:44:45</td>\n",
              "      <td>2009-01-05 00:00:00</td>\n",
              "      <td>NaN</td>\n",
              "      <td>4</td>\n",
              "      <td>1</td>\n",
              "      <td>&lt;p&gt;&lt;/p&gt;</td>\n",
              "      <td>6073</td>\n",
              "      <td>NaN</td>\n",
              "      <td>[]</td>\n",
              "      <td>AWOL - A Way Of Life</td>\n",
              "      <td>7</td>\n",
              "      <td>Album</td>\n",
              "      <td>2006-01-01 00:00:00</td>\n",
              "      <td>NaN</td>\n",
              "      <td>NaN</td>\n",
              "      <td>&lt;p&gt;A Way Of Life, A Collective of Hip-Hop from...</td>\n",
              "      <td>0</td>\n",
              "      <td>2008-11-26 01:42:32</td>\n",
              "      <td>9</td>\n",
              "      <td>1</td>\n",
              "      <td>40.058324</td>\n",
              "      <td>New Jersey</td>\n",
              "      <td>-74.405661</td>\n",
              "      <td>Sajje Morocco,Brownbum,ZawidaGod,Custodian of ...</td>\n",
              "      <td>AWOL</td>\n",
              "      <td>The list of past projects is 2 long but every1...</td>\n",
              "      <td>['awol']</td>\n",
              "      <td>http://www.AzillionRecords.blogspot.com</td>\n",
              "      <td>NaN</td>\n",
              "      <td>training</td>\n",
              "      <td>medium</td>\n",
              "      <td>256000</td>\n",
              "      <td>0</td>\n",
              "      <td>NaN</td>\n",
              "      <td>2008-11-26 01:48:14</td>\n",
              "      <td>2008-11-26 00:00:00</td>\n",
              "      <td>237</td>\n",
              "      <td>1</td>\n",
              "      <td>Hip-Hop</td>\n",
              "      <td>[21]</td>\n",
              "      <td>[21]</td>\n",
              "      <td>NaN</td>\n",
              "      <td>1470</td>\n",
              "      <td>en</td>\n",
              "      <td>Attribution-NonCommercial-ShareAlike 3.0 Inter...</td>\n",
              "      <td>514</td>\n",
              "      <td>NaN</td>\n",
              "      <td>4</td>\n",
              "      <td>NaN</td>\n",
              "      <td>[]</td>\n",
              "      <td>Electric Ave</td>\n",
              "    </tr>\n",
              "    <tr>\n",
              "      <th>5</th>\n",
              "      <td>0</td>\n",
              "      <td>2008-11-26 01:44:45</td>\n",
              "      <td>2009-01-05 00:00:00</td>\n",
              "      <td>NaN</td>\n",
              "      <td>4</td>\n",
              "      <td>1</td>\n",
              "      <td>&lt;p&gt;&lt;/p&gt;</td>\n",
              "      <td>6073</td>\n",
              "      <td>NaN</td>\n",
              "      <td>[]</td>\n",
              "      <td>AWOL - A Way Of Life</td>\n",
              "      <td>7</td>\n",
              "      <td>Album</td>\n",
              "      <td>2006-01-01 00:00:00</td>\n",
              "      <td>NaN</td>\n",
              "      <td>NaN</td>\n",
              "      <td>&lt;p&gt;A Way Of Life, A Collective of Hip-Hop from...</td>\n",
              "      <td>0</td>\n",
              "      <td>2008-11-26 01:42:32</td>\n",
              "      <td>9</td>\n",
              "      <td>1</td>\n",
              "      <td>40.058324</td>\n",
              "      <td>New Jersey</td>\n",
              "      <td>-74.405661</td>\n",
              "      <td>Sajje Morocco,Brownbum,ZawidaGod,Custodian of ...</td>\n",
              "      <td>AWOL</td>\n",
              "      <td>The list of past projects is 2 long but every1...</td>\n",
              "      <td>['awol']</td>\n",
              "      <td>http://www.AzillionRecords.blogspot.com</td>\n",
              "      <td>NaN</td>\n",
              "      <td>training</td>\n",
              "      <td>small</td>\n",
              "      <td>256000</td>\n",
              "      <td>0</td>\n",
              "      <td>NaN</td>\n",
              "      <td>2008-11-26 01:48:20</td>\n",
              "      <td>2008-11-26 00:00:00</td>\n",
              "      <td>206</td>\n",
              "      <td>6</td>\n",
              "      <td>Hip-Hop</td>\n",
              "      <td>[21]</td>\n",
              "      <td>[21]</td>\n",
              "      <td>NaN</td>\n",
              "      <td>1933</td>\n",
              "      <td>en</td>\n",
              "      <td>Attribution-NonCommercial-ShareAlike 3.0 Inter...</td>\n",
              "      <td>1151</td>\n",
              "      <td>NaN</td>\n",
              "      <td>6</td>\n",
              "      <td>NaN</td>\n",
              "      <td>[]</td>\n",
              "      <td>This World</td>\n",
              "    </tr>\n",
              "    <tr>\n",
              "      <th>10</th>\n",
              "      <td>0</td>\n",
              "      <td>2008-11-26 01:45:08</td>\n",
              "      <td>2008-02-06 00:00:00</td>\n",
              "      <td>NaN</td>\n",
              "      <td>4</td>\n",
              "      <td>6</td>\n",
              "      <td>NaN</td>\n",
              "      <td>47632</td>\n",
              "      <td>NaN</td>\n",
              "      <td>[]</td>\n",
              "      <td>Constant Hitmaker</td>\n",
              "      <td>2</td>\n",
              "      <td>Album</td>\n",
              "      <td>NaN</td>\n",
              "      <td>NaN</td>\n",
              "      <td>Mexican Summer, Richie Records, Woodsist, Skul...</td>\n",
              "      <td>&lt;p&gt;&lt;span style=\"font-family:Verdana, Geneva, A...</td>\n",
              "      <td>3</td>\n",
              "      <td>2008-11-26 01:42:55</td>\n",
              "      <td>74</td>\n",
              "      <td>6</td>\n",
              "      <td>NaN</td>\n",
              "      <td>NaN</td>\n",
              "      <td>NaN</td>\n",
              "      <td>Kurt Vile, the Violators</td>\n",
              "      <td>Kurt Vile</td>\n",
              "      <td>NaN</td>\n",
              "      <td>['philly', 'kurt vile']</td>\n",
              "      <td>http://kurtvile.com</td>\n",
              "      <td>NaN</td>\n",
              "      <td>training</td>\n",
              "      <td>small</td>\n",
              "      <td>192000</td>\n",
              "      <td>0</td>\n",
              "      <td>Kurt Vile</td>\n",
              "      <td>2008-11-25 17:49:06</td>\n",
              "      <td>2008-11-26 00:00:00</td>\n",
              "      <td>161</td>\n",
              "      <td>178</td>\n",
              "      <td>Pop</td>\n",
              "      <td>[10]</td>\n",
              "      <td>[10]</td>\n",
              "      <td>NaN</td>\n",
              "      <td>54881</td>\n",
              "      <td>en</td>\n",
              "      <td>Attribution-NonCommercial-NoDerivatives (aka M...</td>\n",
              "      <td>50135</td>\n",
              "      <td>NaN</td>\n",
              "      <td>1</td>\n",
              "      <td>NaN</td>\n",
              "      <td>[]</td>\n",
              "      <td>Freeway</td>\n",
              "    </tr>\n",
              "    <tr>\n",
              "      <th>20</th>\n",
              "      <td>0</td>\n",
              "      <td>2008-11-26 01:45:05</td>\n",
              "      <td>2009-01-06 00:00:00</td>\n",
              "      <td>NaN</td>\n",
              "      <td>2</td>\n",
              "      <td>4</td>\n",
              "      <td>&lt;p&gt; \"spiritual songs\" from Nicky Cook&lt;/p&gt;</td>\n",
              "      <td>2710</td>\n",
              "      <td>NaN</td>\n",
              "      <td>[]</td>\n",
              "      <td>Niris</td>\n",
              "      <td>13</td>\n",
              "      <td>Album</td>\n",
              "      <td>1990-01-01 00:00:00</td>\n",
              "      <td>2011-01-01 00:00:00</td>\n",
              "      <td>NaN</td>\n",
              "      <td>&lt;p&gt;Songs written by: Nicky Cook&lt;/p&gt;\\n&lt;p&gt;VOCALS...</td>\n",
              "      <td>2</td>\n",
              "      <td>2008-11-26 01:42:52</td>\n",
              "      <td>10</td>\n",
              "      <td>4</td>\n",
              "      <td>51.895927</td>\n",
              "      <td>Colchester England</td>\n",
              "      <td>0.891874</td>\n",
              "      <td>Nicky Cook\\n</td>\n",
              "      <td>Nicky Cook</td>\n",
              "      <td>NaN</td>\n",
              "      <td>['instrumentals', 'experimental pop', 'post pu...</td>\n",
              "      <td>NaN</td>\n",
              "      <td>NaN</td>\n",
              "      <td>training</td>\n",
              "      <td>large</td>\n",
              "      <td>256000</td>\n",
              "      <td>0</td>\n",
              "      <td>NaN</td>\n",
              "      <td>2008-11-26 01:48:56</td>\n",
              "      <td>2008-01-01 00:00:00</td>\n",
              "      <td>311</td>\n",
              "      <td>0</td>\n",
              "      <td>NaN</td>\n",
              "      <td>[76, 103]</td>\n",
              "      <td>[17, 10, 76, 103]</td>\n",
              "      <td>NaN</td>\n",
              "      <td>978</td>\n",
              "      <td>en</td>\n",
              "      <td>Attribution-NonCommercial-NoDerivatives (aka M...</td>\n",
              "      <td>361</td>\n",
              "      <td>NaN</td>\n",
              "      <td>3</td>\n",
              "      <td>NaN</td>\n",
              "      <td>[]</td>\n",
              "      <td>Spiritual Level</td>\n",
              "    </tr>\n",
              "  </tbody>\n",
              "</table>\n",
              "</div>"
            ],
            "text/plain": [
              "            album                                                                                                                                                                                    artist                                                                                                                                                                                                                                                                                                                                                                                                                                                    set            track                                                                                                                                                                                                                                                                       \n",
              "         comments         date_created        date_released engineer favorites id                                information listens producer tags                 title tracks   type    active_year_begin      active_year_end                                  associated_labels                                                bio comments         date_created favorites id   latitude            location  longitude                                            members        name                                   related_projects                                               tags                                  website wikipedia_page     split  subset bit_rate comments   composer         date_created        date_recorded duration favorites genre_top     genres         genres_all information interest language_code                                            license listens lyricist number publisher tags            title\n",
              "track_id                                                                                                                                                                                                                                                                                                                                                                                                                                                                                                                                                                                                                                                                                                                                                                                                                                                                                                                                                  \n",
              "2               0  2008-11-26 01:44:45  2009-01-05 00:00:00      NaN         4  1                                    <p></p>    6073      NaN   []  AWOL - A Way Of Life      7  Album  2006-01-01 00:00:00                  NaN                                                NaN  <p>A Way Of Life, A Collective of Hip-Hop from...        0  2008-11-26 01:42:32         9  1  40.058324          New Jersey -74.405661  Sajje Morocco,Brownbum,ZawidaGod,Custodian of ...        AWOL  The list of past projects is 2 long but every1...                                           ['awol']  http://www.AzillionRecords.blogspot.com            NaN  training   small   256000        0        NaN  2008-11-26 01:48:12  2008-11-26 00:00:00      168         2   Hip-Hop       [21]               [21]         NaN     4656            en  Attribution-NonCommercial-ShareAlike 3.0 Inter...    1293      NaN      3       NaN   []             Food\n",
              "3               0  2008-11-26 01:44:45  2009-01-05 00:00:00      NaN         4  1                                    <p></p>    6073      NaN   []  AWOL - A Way Of Life      7  Album  2006-01-01 00:00:00                  NaN                                                NaN  <p>A Way Of Life, A Collective of Hip-Hop from...        0  2008-11-26 01:42:32         9  1  40.058324          New Jersey -74.405661  Sajje Morocco,Brownbum,ZawidaGod,Custodian of ...        AWOL  The list of past projects is 2 long but every1...                                           ['awol']  http://www.AzillionRecords.blogspot.com            NaN  training  medium   256000        0        NaN  2008-11-26 01:48:14  2008-11-26 00:00:00      237         1   Hip-Hop       [21]               [21]         NaN     1470            en  Attribution-NonCommercial-ShareAlike 3.0 Inter...     514      NaN      4       NaN   []     Electric Ave\n",
              "5               0  2008-11-26 01:44:45  2009-01-05 00:00:00      NaN         4  1                                    <p></p>    6073      NaN   []  AWOL - A Way Of Life      7  Album  2006-01-01 00:00:00                  NaN                                                NaN  <p>A Way Of Life, A Collective of Hip-Hop from...        0  2008-11-26 01:42:32         9  1  40.058324          New Jersey -74.405661  Sajje Morocco,Brownbum,ZawidaGod,Custodian of ...        AWOL  The list of past projects is 2 long but every1...                                           ['awol']  http://www.AzillionRecords.blogspot.com            NaN  training   small   256000        0        NaN  2008-11-26 01:48:20  2008-11-26 00:00:00      206         6   Hip-Hop       [21]               [21]         NaN     1933            en  Attribution-NonCommercial-ShareAlike 3.0 Inter...    1151      NaN      6       NaN   []       This World\n",
              "10              0  2008-11-26 01:45:08  2008-02-06 00:00:00      NaN         4  6                                        NaN   47632      NaN   []     Constant Hitmaker      2  Album                  NaN                  NaN  Mexican Summer, Richie Records, Woodsist, Skul...  <p><span style=\"font-family:Verdana, Geneva, A...        3  2008-11-26 01:42:55        74  6        NaN                 NaN        NaN                           Kurt Vile, the Violators   Kurt Vile                                                NaN                            ['philly', 'kurt vile']                      http://kurtvile.com            NaN  training   small   192000        0  Kurt Vile  2008-11-25 17:49:06  2008-11-26 00:00:00      161       178       Pop       [10]               [10]         NaN    54881            en  Attribution-NonCommercial-NoDerivatives (aka M...   50135      NaN      1       NaN   []          Freeway\n",
              "20              0  2008-11-26 01:45:05  2009-01-06 00:00:00      NaN         2  4  <p> \"spiritual songs\" from Nicky Cook</p>    2710      NaN   []                 Niris     13  Album  1990-01-01 00:00:00  2011-01-01 00:00:00                                                NaN  <p>Songs written by: Nicky Cook</p>\\n<p>VOCALS...        2  2008-11-26 01:42:52        10  4  51.895927  Colchester England   0.891874                                       Nicky Cook\\n  Nicky Cook                                                NaN  ['instrumentals', 'experimental pop', 'post pu...                                      NaN            NaN  training   large   256000        0        NaN  2008-11-26 01:48:56  2008-01-01 00:00:00      311         0       NaN  [76, 103]  [17, 10, 76, 103]         NaN      978            en  Attribution-NonCommercial-NoDerivatives (aka M...     361      NaN      3       NaN   []  Spiritual Level"
            ]
          },
          "metadata": {
            "tags": []
          },
          "execution_count": 20
        }
      ]
    },
    {
      "cell_type": "markdown",
      "metadata": {
        "id": "d-DDzrlQRlBP",
        "colab_type": "text"
      },
      "source": [
        "### Fit Logistic Regression!"
      ]
    },
    {
      "cell_type": "code",
      "metadata": {
        "id": "B0zQsvPGRlBQ",
        "colab_type": "code",
        "colab": {}
      },
      "source": [
        ""
      ],
      "execution_count": 0,
      "outputs": []
    },
    {
      "cell_type": "markdown",
      "metadata": {
        "colab_type": "text",
        "id": "kQUVlUKQMPPW"
      },
      "source": [
        "This dataset is bigger than many you've worked with so far, and while it should fit in Colab, it can take awhile to run. That's part of the challenge!\n",
        "\n",
        "Your tasks:\n",
        "- Clean up the variable names in the dataframe\n",
        "- Use logistic regression to fit a model predicting (primary/top) genre\n",
        "- Inspect, iterate, and improve your model\n",
        "- Answer the following questions (written, ~paragraph each):\n",
        "  - What are the best predictors of genre?\n",
        "  - What information isn't very useful for predicting genre?\n",
        "  - What surprised you the most about your results?\n",
        "\n",
        "*Important caveats*:\n",
        "- This is going to be difficult data to work with - don't let the perfect be the enemy of the good!\n",
        "- Be creative in cleaning it up - if the best way you know how to do it is download it locally and edit as a spreadsheet, that's OK!\n",
        "- If the data size becomes problematic, consider sampling/subsetting, or [downcasting numeric datatypes](https://www.dataquest.io/blog/pandas-big-data/).\n",
        "- You do not need perfect or complete results - just something plausible that runs, and that supports the reasoning in your written answers\n",
        "\n",
        "If you find that fitting a model to classify *all* genres isn't very good, it's totally OK to limit to the most frequent genres, or perhaps trying to combine or cluster genres as a preprocessing step. Even then, there will be limits to how good a model can be with just this metadata - if you really want to train an effective genre classifier, you'll have to involve the other data (see stretch goals).\n",
        "\n",
        "This is real data - there is no \"one correct answer\", so you can take this in a variety of directions. Just make sure to support your findings, and feel free to share them as well! This is meant to be practice for dealing with other \"messy\" data, a common task in data science."
      ]
    },
    {
      "cell_type": "markdown",
      "metadata": {
        "colab_type": "text",
        "id": "wlI5OXfSag9C"
      },
      "source": [
        "## Resources and stretch goals\n",
        "\n",
        "- Check out the other .csv files from the FMA dataset, and see if you can join them or otherwise fit interesting models with them\n",
        "- [Logistic regression from scratch in numpy](https://blog.goodaudience.com/logistic-regression-from-scratch-in-numpy-5841c09e425f) - if you want to dig in a bit more to both the code and math (also takes a gradient descent approach, introducing the logistic loss function)\n",
        "- Create a visualization to show predictions of your model - ideally show a confidence interval based on error!\n",
        "- Check out and compare classification models from scikit-learn, such as [SVM](https://scikit-learn.org/stable/modules/svm.html#classification), [decision trees](https://scikit-learn.org/stable/modules/tree.html#classification), and [naive Bayes](https://scikit-learn.org/stable/modules/naive_bayes.html). The underlying math will vary significantly, but the API (how you write the code) and interpretation will actually be fairly similar.\n",
        "- Sign up for [Kaggle](https://kaggle.com), and find a competition to try logistic regression with\n",
        "- (Not logistic regression related) If you enjoyed the assignment, you may want to read up on [music informatics](https://en.wikipedia.org/wiki/Music_informatics), which is how those audio features were actually calculated. The FMA includes the actual raw audio, so (while this is more of a longterm project than a stretch goal, and won't fit in Colab) if you'd like you can check those out and see what sort of deeper analysis you can do."
      ]
    }
  ]
}