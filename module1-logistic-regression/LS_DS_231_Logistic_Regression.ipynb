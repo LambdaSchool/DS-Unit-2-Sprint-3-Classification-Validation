{
 "cells": [
  {
   "cell_type": "markdown",
   "metadata": {
    "colab_type": "text",
    "id": "N7SXF6jEBd5_"
   },
   "source": [
    "# Lambda School Data Science - Logistic Regression\n",
    "\n",
    "Logistic regression is the baseline for classification models, as well as a handy way to predict probabilities (since those too live in the unit interval). While relatively simple, it is also the foundation for more sophisticated classification techniques such as neural networks (many of which can effectively be thought of as networks of logistic models)."
   ]
  },
  {
   "cell_type": "markdown",
   "metadata": {
    "colab_type": "text",
    "id": "E7-AOngjadRN"
   },
   "source": [
    "## Lecture - Where Linear goes Wrong\n",
    "### Return of the Titanic 🚢\n",
    "\n",
    "You've likely already explored the rich dataset that is the Titanic - let's use regression and try to predict survival with it. The data is [available from Kaggle](https://www.kaggle.com/c/titanic/data), so we'll also play a bit with [the Kaggle API](https://github.com/Kaggle/kaggle-api)."
   ]
  },
  {
   "cell_type": "markdown",
   "metadata": {
    "colab_type": "text",
    "id": "ZFwzpgVJ5efV"
   },
   "source": [
    "### Get data, option 1: Kaggle API\n",
    "\n",
    "#### Sign up for Kaggle and get an API token\n",
    "1. [Sign up for a Kaggle account](https://www.kaggle.com/), if you don’t already have one. \n",
    "2. [Follow these instructions](https://github.com/Kaggle/kaggle-api#api-credentials) to create a Kaggle “API Token” and download your `kaggle.json` file. If you are using Anaconda, put the file in the directory specified in the instructions.\n",
    "\n",
    "_This will enable you to download data directly from Kaggle. If you run into problems, don’t worry — I’ll give you an easy alternative way to download today’s data, so you can still follow along with the lecture hands-on. And then we’ll help you through the Kaggle process after the lecture._"
   ]
  },
  {
   "cell_type": "markdown",
   "metadata": {
    "colab_type": "text",
    "id": "ytXdhJWS5efl"
   },
   "source": [
    "#### Put `kaggle.json` in the correct location\n",
    "\n",
    "- ***If you're using Anaconda,*** put the file in the directory specified in the [instructions](https://github.com/Kaggle/kaggle-api#api-credentials).\n",
    "\n",
    "- ***If you're using Google Colab,*** upload the file to your Google Drive, and run this cell:"
   ]
  },
  {
   "cell_type": "code",
   "execution_count": 0,
   "metadata": {
    "colab": {},
    "colab_type": "code",
    "id": "zSmANNi45efu"
   },
   "outputs": [],
   "source": [
    "from google.colab import drive\n",
    "drive.mount('/content/drive')\n",
    "%env KAGGLE_CONFIG_DIR=/content/drive/My Drive/"
   ]
  },
  {
   "cell_type": "markdown",
   "metadata": {
    "colab_type": "text",
    "id": "tzU4Ol0U5eg0"
   },
   "source": [
    "#### Install the Kaggle API package and use it to get the data\n",
    "\n",
    "You also have to join the Titanic competition to have access to the data"
   ]
  },
  {
   "cell_type": "code",
   "execution_count": 0,
   "metadata": {
    "colab": {},
    "colab_type": "code",
    "id": "MnHLWPYDcyIe"
   },
   "outputs": [],
   "source": [
    "!pip install kaggle"
   ]
  },
  {
   "cell_type": "code",
   "execution_count": 0,
   "metadata": {
    "colab": {},
    "colab_type": "code",
    "id": "fSjDvjLp5eh9"
   },
   "outputs": [],
   "source": [
    "!kaggle competitions download -c titanic"
   ]
  },
  {
   "cell_type": "markdown",
   "metadata": {
    "colab_type": "text",
    "id": "7dXpc8qO5eia"
   },
   "source": [
    "### Get data, option 2: Download from the competition page\n",
    "1. [Sign up for a Kaggle account](https://www.kaggle.com/), if you don’t already have one. \n",
    "2. [Go to the Titanic competition page](https://www.kaggle.com/c/titanic) to download the [data](https://www.kaggle.com/c/titanic/data)."
   ]
  },
  {
   "cell_type": "markdown",
   "metadata": {
    "colab_type": "text",
    "id": "GIMUPLuw5eik"
   },
   "source": [
    "### Get data, option 3: Use Seaborn\n",
    "\n",
    "```\n",
    "import seaborn as sns\n",
    "train = sns.load_dataset('titanic')\n",
    "```\n",
    "\n",
    "But Seaborn's version of the Titanic dataset is not identical to Kaggle's version, as we'll see during this lesson!"
   ]
  },
  {
   "cell_type": "markdown",
   "metadata": {
    "colab_type": "text",
    "id": "Sx8eM1Lf5eio"
   },
   "source": [
    "### Read data"
   ]
  },
  {
   "cell_type": "code",
   "execution_count": 1,
   "metadata": {
    "colab": {},
    "colab_type": "code",
    "id": "5S2nXyxw5eiv"
   },
   "outputs": [
    {
     "data": {
      "text/plain": [
       "((891, 12), (418, 11))"
      ]
     },
     "execution_count": 1,
     "metadata": {},
     "output_type": "execute_result"
    }
   ],
   "source": [
    "import pandas as pd\n",
    "train = pd.read_csv('train.csv')\n",
    "test = pd.read_csv('test.csv')\n",
    "train.shape, test.shape"
   ]
  },
  {
   "cell_type": "markdown",
   "metadata": {},
   "source": [
    "### Data Exploration"
   ]
  },
  {
   "cell_type": "code",
   "execution_count": 2,
   "metadata": {},
   "outputs": [
    {
     "data": {
      "text/html": [
       "<div>\n",
       "<style scoped>\n",
       "    .dataframe tbody tr th:only-of-type {\n",
       "        vertical-align: middle;\n",
       "    }\n",
       "\n",
       "    .dataframe tbody tr th {\n",
       "        vertical-align: top;\n",
       "    }\n",
       "\n",
       "    .dataframe thead th {\n",
       "        text-align: right;\n",
       "    }\n",
       "</style>\n",
       "<table border=\"1\" class=\"dataframe\">\n",
       "  <thead>\n",
       "    <tr style=\"text-align: right;\">\n",
       "      <th></th>\n",
       "      <th>PassengerId</th>\n",
       "      <th>Survived</th>\n",
       "      <th>Pclass</th>\n",
       "      <th>Name</th>\n",
       "      <th>Sex</th>\n",
       "      <th>Age</th>\n",
       "      <th>SibSp</th>\n",
       "      <th>Parch</th>\n",
       "      <th>Ticket</th>\n",
       "      <th>Fare</th>\n",
       "      <th>Cabin</th>\n",
       "      <th>Embarked</th>\n",
       "    </tr>\n",
       "  </thead>\n",
       "  <tbody>\n",
       "    <tr>\n",
       "      <th>21</th>\n",
       "      <td>22</td>\n",
       "      <td>1</td>\n",
       "      <td>2</td>\n",
       "      <td>Beesley, Mr. Lawrence</td>\n",
       "      <td>male</td>\n",
       "      <td>34.0</td>\n",
       "      <td>0</td>\n",
       "      <td>0</td>\n",
       "      <td>248698</td>\n",
       "      <td>13.00</td>\n",
       "      <td>D56</td>\n",
       "      <td>S</td>\n",
       "    </tr>\n",
       "    <tr>\n",
       "      <th>873</th>\n",
       "      <td>874</td>\n",
       "      <td>0</td>\n",
       "      <td>3</td>\n",
       "      <td>Vander Cruyssen, Mr. Victor</td>\n",
       "      <td>male</td>\n",
       "      <td>47.0</td>\n",
       "      <td>0</td>\n",
       "      <td>0</td>\n",
       "      <td>345765</td>\n",
       "      <td>9.00</td>\n",
       "      <td>NaN</td>\n",
       "      <td>S</td>\n",
       "    </tr>\n",
       "    <tr>\n",
       "      <th>783</th>\n",
       "      <td>784</td>\n",
       "      <td>0</td>\n",
       "      <td>3</td>\n",
       "      <td>Johnston, Mr. Andrew G</td>\n",
       "      <td>male</td>\n",
       "      <td>NaN</td>\n",
       "      <td>1</td>\n",
       "      <td>2</td>\n",
       "      <td>W./C. 6607</td>\n",
       "      <td>23.45</td>\n",
       "      <td>NaN</td>\n",
       "      <td>S</td>\n",
       "    </tr>\n",
       "    <tr>\n",
       "      <th>450</th>\n",
       "      <td>451</td>\n",
       "      <td>0</td>\n",
       "      <td>2</td>\n",
       "      <td>West, Mr. Edwy Arthur</td>\n",
       "      <td>male</td>\n",
       "      <td>36.0</td>\n",
       "      <td>1</td>\n",
       "      <td>2</td>\n",
       "      <td>C.A. 34651</td>\n",
       "      <td>27.75</td>\n",
       "      <td>NaN</td>\n",
       "      <td>S</td>\n",
       "    </tr>\n",
       "    <tr>\n",
       "      <th>641</th>\n",
       "      <td>642</td>\n",
       "      <td>1</td>\n",
       "      <td>1</td>\n",
       "      <td>Sagesser, Mlle. Emma</td>\n",
       "      <td>female</td>\n",
       "      <td>24.0</td>\n",
       "      <td>0</td>\n",
       "      <td>0</td>\n",
       "      <td>PC 17477</td>\n",
       "      <td>69.30</td>\n",
       "      <td>B35</td>\n",
       "      <td>C</td>\n",
       "    </tr>\n",
       "  </tbody>\n",
       "</table>\n",
       "</div>"
      ],
      "text/plain": [
       "     PassengerId  Survived  Pclass                         Name     Sex   Age  \\\n",
       "21            22         1       2        Beesley, Mr. Lawrence    male  34.0   \n",
       "873          874         0       3  Vander Cruyssen, Mr. Victor    male  47.0   \n",
       "783          784         0       3       Johnston, Mr. Andrew G    male   NaN   \n",
       "450          451         0       2        West, Mr. Edwy Arthur    male  36.0   \n",
       "641          642         1       1         Sagesser, Mlle. Emma  female  24.0   \n",
       "\n",
       "     SibSp  Parch      Ticket   Fare Cabin Embarked  \n",
       "21       0      0      248698  13.00   D56        S  \n",
       "873      0      0      345765   9.00   NaN        S  \n",
       "783      1      2  W./C. 6607  23.45   NaN        S  \n",
       "450      1      2  C.A. 34651  27.75   NaN        S  \n",
       "641      0      0    PC 17477  69.30   B35        C  "
      ]
     },
     "execution_count": 2,
     "metadata": {},
     "output_type": "execute_result"
    }
   ],
   "source": [
    "train.sample(n=5)"
   ]
  },
  {
   "cell_type": "code",
   "execution_count": 3,
   "metadata": {},
   "outputs": [
    {
     "data": {
      "text/html": [
       "<div>\n",
       "<style scoped>\n",
       "    .dataframe tbody tr th:only-of-type {\n",
       "        vertical-align: middle;\n",
       "    }\n",
       "\n",
       "    .dataframe tbody tr th {\n",
       "        vertical-align: top;\n",
       "    }\n",
       "\n",
       "    .dataframe thead th {\n",
       "        text-align: right;\n",
       "    }\n",
       "</style>\n",
       "<table border=\"1\" class=\"dataframe\">\n",
       "  <thead>\n",
       "    <tr style=\"text-align: right;\">\n",
       "      <th></th>\n",
       "      <th>PassengerId</th>\n",
       "      <th>Pclass</th>\n",
       "      <th>Name</th>\n",
       "      <th>Sex</th>\n",
       "      <th>Age</th>\n",
       "      <th>SibSp</th>\n",
       "      <th>Parch</th>\n",
       "      <th>Ticket</th>\n",
       "      <th>Fare</th>\n",
       "      <th>Cabin</th>\n",
       "      <th>Embarked</th>\n",
       "    </tr>\n",
       "  </thead>\n",
       "  <tbody>\n",
       "    <tr>\n",
       "      <th>61</th>\n",
       "      <td>953</td>\n",
       "      <td>2</td>\n",
       "      <td>McCrae, Mr. Arthur Gordon</td>\n",
       "      <td>male</td>\n",
       "      <td>32.0</td>\n",
       "      <td>0</td>\n",
       "      <td>0</td>\n",
       "      <td>237216</td>\n",
       "      <td>13.5000</td>\n",
       "      <td>NaN</td>\n",
       "      <td>S</td>\n",
       "    </tr>\n",
       "    <tr>\n",
       "      <th>70</th>\n",
       "      <td>962</td>\n",
       "      <td>3</td>\n",
       "      <td>Mulvihill, Miss. Bertha E</td>\n",
       "      <td>female</td>\n",
       "      <td>24.0</td>\n",
       "      <td>0</td>\n",
       "      <td>0</td>\n",
       "      <td>382653</td>\n",
       "      <td>7.7500</td>\n",
       "      <td>NaN</td>\n",
       "      <td>Q</td>\n",
       "    </tr>\n",
       "    <tr>\n",
       "      <th>85</th>\n",
       "      <td>977</td>\n",
       "      <td>3</td>\n",
       "      <td>Khalil, Mr. Betros</td>\n",
       "      <td>male</td>\n",
       "      <td>NaN</td>\n",
       "      <td>1</td>\n",
       "      <td>0</td>\n",
       "      <td>2660</td>\n",
       "      <td>14.4542</td>\n",
       "      <td>NaN</td>\n",
       "      <td>C</td>\n",
       "    </tr>\n",
       "    <tr>\n",
       "      <th>246</th>\n",
       "      <td>1138</td>\n",
       "      <td>2</td>\n",
       "      <td>Karnes, Mrs. J Frank (Claire Bennett)</td>\n",
       "      <td>female</td>\n",
       "      <td>22.0</td>\n",
       "      <td>0</td>\n",
       "      <td>0</td>\n",
       "      <td>F.C.C. 13534</td>\n",
       "      <td>21.0000</td>\n",
       "      <td>NaN</td>\n",
       "      <td>S</td>\n",
       "    </tr>\n",
       "    <tr>\n",
       "      <th>2</th>\n",
       "      <td>894</td>\n",
       "      <td>2</td>\n",
       "      <td>Myles, Mr. Thomas Francis</td>\n",
       "      <td>male</td>\n",
       "      <td>62.0</td>\n",
       "      <td>0</td>\n",
       "      <td>0</td>\n",
       "      <td>240276</td>\n",
       "      <td>9.6875</td>\n",
       "      <td>NaN</td>\n",
       "      <td>Q</td>\n",
       "    </tr>\n",
       "  </tbody>\n",
       "</table>\n",
       "</div>"
      ],
      "text/plain": [
       "     PassengerId  Pclass                                   Name     Sex   Age  \\\n",
       "61           953       2              McCrae, Mr. Arthur Gordon    male  32.0   \n",
       "70           962       3              Mulvihill, Miss. Bertha E  female  24.0   \n",
       "85           977       3                     Khalil, Mr. Betros    male   NaN   \n",
       "246         1138       2  Karnes, Mrs. J Frank (Claire Bennett)  female  22.0   \n",
       "2            894       2              Myles, Mr. Thomas Francis    male  62.0   \n",
       "\n",
       "     SibSp  Parch        Ticket     Fare Cabin Embarked  \n",
       "61       0      0        237216  13.5000   NaN        S  \n",
       "70       0      0        382653   7.7500   NaN        Q  \n",
       "85       1      0          2660  14.4542   NaN        C  \n",
       "246      0      0  F.C.C. 13534  21.0000   NaN        S  \n",
       "2        0      0        240276   9.6875   NaN        Q  "
      ]
     },
     "execution_count": 3,
     "metadata": {},
     "output_type": "execute_result"
    }
   ],
   "source": [
    "test.sample(n=5)"
   ]
  },
  {
   "cell_type": "code",
   "execution_count": 4,
   "metadata": {},
   "outputs": [
    {
     "data": {
      "text/plain": [
       "0    0.616162\n",
       "1    0.383838\n",
       "Name: Survived, dtype: float64"
      ]
     },
     "execution_count": 4,
     "metadata": {},
     "output_type": "execute_result"
    }
   ],
   "source": [
    "# Normalize value_counts to get percentages\n",
    "target = 'Survived'\n",
    "train[target].value_counts(normalize=True)"
   ]
  },
  {
   "cell_type": "code",
   "execution_count": 5,
   "metadata": {},
   "outputs": [
    {
     "data": {
      "text/html": [
       "<div>\n",
       "<style scoped>\n",
       "    .dataframe tbody tr th:only-of-type {\n",
       "        vertical-align: middle;\n",
       "    }\n",
       "\n",
       "    .dataframe tbody tr th {\n",
       "        vertical-align: top;\n",
       "    }\n",
       "\n",
       "    .dataframe thead th {\n",
       "        text-align: right;\n",
       "    }\n",
       "</style>\n",
       "<table border=\"1\" class=\"dataframe\">\n",
       "  <thead>\n",
       "    <tr style=\"text-align: right;\">\n",
       "      <th></th>\n",
       "      <th>PassengerId</th>\n",
       "      <th>Survived</th>\n",
       "      <th>Pclass</th>\n",
       "      <th>Age</th>\n",
       "      <th>SibSp</th>\n",
       "      <th>Parch</th>\n",
       "      <th>Fare</th>\n",
       "    </tr>\n",
       "  </thead>\n",
       "  <tbody>\n",
       "    <tr>\n",
       "      <th>count</th>\n",
       "      <td>891.000000</td>\n",
       "      <td>891.000000</td>\n",
       "      <td>891.000000</td>\n",
       "      <td>714.000000</td>\n",
       "      <td>891.000000</td>\n",
       "      <td>891.000000</td>\n",
       "      <td>891.000000</td>\n",
       "    </tr>\n",
       "    <tr>\n",
       "      <th>mean</th>\n",
       "      <td>446.000000</td>\n",
       "      <td>0.383838</td>\n",
       "      <td>2.308642</td>\n",
       "      <td>29.699118</td>\n",
       "      <td>0.523008</td>\n",
       "      <td>0.381594</td>\n",
       "      <td>32.204208</td>\n",
       "    </tr>\n",
       "    <tr>\n",
       "      <th>std</th>\n",
       "      <td>257.353842</td>\n",
       "      <td>0.486592</td>\n",
       "      <td>0.836071</td>\n",
       "      <td>14.526497</td>\n",
       "      <td>1.102743</td>\n",
       "      <td>0.806057</td>\n",
       "      <td>49.693429</td>\n",
       "    </tr>\n",
       "    <tr>\n",
       "      <th>min</th>\n",
       "      <td>1.000000</td>\n",
       "      <td>0.000000</td>\n",
       "      <td>1.000000</td>\n",
       "      <td>0.420000</td>\n",
       "      <td>0.000000</td>\n",
       "      <td>0.000000</td>\n",
       "      <td>0.000000</td>\n",
       "    </tr>\n",
       "    <tr>\n",
       "      <th>25%</th>\n",
       "      <td>223.500000</td>\n",
       "      <td>0.000000</td>\n",
       "      <td>2.000000</td>\n",
       "      <td>20.125000</td>\n",
       "      <td>0.000000</td>\n",
       "      <td>0.000000</td>\n",
       "      <td>7.910400</td>\n",
       "    </tr>\n",
       "    <tr>\n",
       "      <th>50%</th>\n",
       "      <td>446.000000</td>\n",
       "      <td>0.000000</td>\n",
       "      <td>3.000000</td>\n",
       "      <td>28.000000</td>\n",
       "      <td>0.000000</td>\n",
       "      <td>0.000000</td>\n",
       "      <td>14.454200</td>\n",
       "    </tr>\n",
       "    <tr>\n",
       "      <th>75%</th>\n",
       "      <td>668.500000</td>\n",
       "      <td>1.000000</td>\n",
       "      <td>3.000000</td>\n",
       "      <td>38.000000</td>\n",
       "      <td>1.000000</td>\n",
       "      <td>0.000000</td>\n",
       "      <td>31.000000</td>\n",
       "    </tr>\n",
       "    <tr>\n",
       "      <th>max</th>\n",
       "      <td>891.000000</td>\n",
       "      <td>1.000000</td>\n",
       "      <td>3.000000</td>\n",
       "      <td>80.000000</td>\n",
       "      <td>8.000000</td>\n",
       "      <td>6.000000</td>\n",
       "      <td>512.329200</td>\n",
       "    </tr>\n",
       "  </tbody>\n",
       "</table>\n",
       "</div>"
      ],
      "text/plain": [
       "       PassengerId    Survived      Pclass         Age       SibSp  \\\n",
       "count   891.000000  891.000000  891.000000  714.000000  891.000000   \n",
       "mean    446.000000    0.383838    2.308642   29.699118    0.523008   \n",
       "std     257.353842    0.486592    0.836071   14.526497    1.102743   \n",
       "min       1.000000    0.000000    1.000000    0.420000    0.000000   \n",
       "25%     223.500000    0.000000    2.000000   20.125000    0.000000   \n",
       "50%     446.000000    0.000000    3.000000   28.000000    0.000000   \n",
       "75%     668.500000    1.000000    3.000000   38.000000    1.000000   \n",
       "max     891.000000    1.000000    3.000000   80.000000    8.000000   \n",
       "\n",
       "            Parch        Fare  \n",
       "count  891.000000  891.000000  \n",
       "mean     0.381594   32.204208  \n",
       "std      0.806057   49.693429  \n",
       "min      0.000000    0.000000  \n",
       "25%      0.000000    7.910400  \n",
       "50%      0.000000   14.454200  \n",
       "75%      0.000000   31.000000  \n",
       "max      6.000000  512.329200  "
      ]
     },
     "execution_count": 5,
     "metadata": {},
     "output_type": "execute_result"
    }
   ],
   "source": [
    "train.describe(include='number')"
   ]
  },
  {
   "cell_type": "code",
   "execution_count": 6,
   "metadata": {},
   "outputs": [
    {
     "data": {
      "text/html": [
       "<div>\n",
       "<style scoped>\n",
       "    .dataframe tbody tr th:only-of-type {\n",
       "        vertical-align: middle;\n",
       "    }\n",
       "\n",
       "    .dataframe tbody tr th {\n",
       "        vertical-align: top;\n",
       "    }\n",
       "\n",
       "    .dataframe thead th {\n",
       "        text-align: right;\n",
       "    }\n",
       "</style>\n",
       "<table border=\"1\" class=\"dataframe\">\n",
       "  <thead>\n",
       "    <tr style=\"text-align: right;\">\n",
       "      <th></th>\n",
       "      <th>Name</th>\n",
       "      <th>Sex</th>\n",
       "      <th>Ticket</th>\n",
       "      <th>Cabin</th>\n",
       "      <th>Embarked</th>\n",
       "    </tr>\n",
       "  </thead>\n",
       "  <tbody>\n",
       "    <tr>\n",
       "      <th>count</th>\n",
       "      <td>891</td>\n",
       "      <td>891</td>\n",
       "      <td>891</td>\n",
       "      <td>204</td>\n",
       "      <td>889</td>\n",
       "    </tr>\n",
       "    <tr>\n",
       "      <th>unique</th>\n",
       "      <td>891</td>\n",
       "      <td>2</td>\n",
       "      <td>681</td>\n",
       "      <td>147</td>\n",
       "      <td>3</td>\n",
       "    </tr>\n",
       "    <tr>\n",
       "      <th>top</th>\n",
       "      <td>Nasser, Mrs. Nicholas (Adele Achem)</td>\n",
       "      <td>male</td>\n",
       "      <td>CA. 2343</td>\n",
       "      <td>B96 B98</td>\n",
       "      <td>S</td>\n",
       "    </tr>\n",
       "    <tr>\n",
       "      <th>freq</th>\n",
       "      <td>1</td>\n",
       "      <td>577</td>\n",
       "      <td>7</td>\n",
       "      <td>4</td>\n",
       "      <td>644</td>\n",
       "    </tr>\n",
       "  </tbody>\n",
       "</table>\n",
       "</div>"
      ],
      "text/plain": [
       "                                       Name   Sex    Ticket    Cabin Embarked\n",
       "count                                   891   891       891      204      889\n",
       "unique                                  891     2       681      147        3\n",
       "top     Nasser, Mrs. Nicholas (Adele Achem)  male  CA. 2343  B96 B98        S\n",
       "freq                                      1   577         7        4      644"
      ]
     },
     "execution_count": 6,
     "metadata": {},
     "output_type": "execute_result"
    }
   ],
   "source": [
    "train.describe(exclude='number')"
   ]
  },
  {
   "cell_type": "markdown",
   "metadata": {
    "colab_type": "text",
    "id": "tA__0O-d5ei5"
   },
   "source": [
    "### How would we try to do this with linear regression?"
   ]
  },
  {
   "cell_type": "markdown",
   "metadata": {
    "colab_type": "text",
    "id": "Y3WsylUK5ei9"
   },
   "source": [
    "https://scikit-learn.org/stable/modules/impute.html"
   ]
  },
  {
   "cell_type": "code",
   "execution_count": 8,
   "metadata": {
    "colab": {},
    "colab_type": "code",
    "id": "fcxfpsjdFJwM"
   },
   "outputs": [
    {
     "data": {
      "text/plain": [
       "LinearRegression(copy_X=True, fit_intercept=True, n_jobs=None,\n",
       "         normalize=False)"
      ]
     },
     "execution_count": 8,
     "metadata": {},
     "output_type": "execute_result"
    }
   ],
   "source": [
    "from sklearn.linear_model import LinearRegression\n",
    "from sklearn.impute import SimpleImputer\n",
    "\n",
    "# Separate target from features\n",
    "features = ['Pclass', 'Age', 'Fare']\n",
    "target = 'Survived'\n",
    "X_train = train[features]\n",
    "y_train = train[target]\n",
    "X_test = test[features]\n",
    "\n",
    "# Impute missing data\n",
    "imputer = SimpleImputer()\n",
    "X_train_imputed = imputer.fit_transform(X_train)\n",
    "X_test_imputed = imputer.transform(X_test)\n",
    "\n",
    "# Run linear regression\n",
    "lin_reg = LinearRegression()\n",
    "lin_reg.fit(X_train_imputed, y_train)"
   ]
  },
  {
   "cell_type": "code",
   "execution_count": 9,
   "metadata": {},
   "outputs": [
    {
     "data": {
      "text/plain": [
       "((891, 3), (891, 3), (418, 3), (418, 3))"
      ]
     },
     "execution_count": 9,
     "metadata": {},
     "output_type": "execute_result"
    }
   ],
   "source": [
    "X_train.shape, X_train_imputed.shape, X_test.shape, X_test_imputed.shape"
   ]
  },
  {
   "cell_type": "code",
   "execution_count": 17,
   "metadata": {},
   "outputs": [
    {
     "data": {
      "text/html": [
       "<div>\n",
       "<style scoped>\n",
       "    .dataframe tbody tr th:only-of-type {\n",
       "        vertical-align: middle;\n",
       "    }\n",
       "\n",
       "    .dataframe tbody tr th {\n",
       "        vertical-align: top;\n",
       "    }\n",
       "\n",
       "    .dataframe thead th {\n",
       "        text-align: right;\n",
       "    }\n",
       "</style>\n",
       "<table border=\"1\" class=\"dataframe\">\n",
       "  <thead>\n",
       "    <tr style=\"text-align: right;\">\n",
       "      <th></th>\n",
       "      <th>Pclass</th>\n",
       "      <th>Age</th>\n",
       "      <th>Fare</th>\n",
       "    </tr>\n",
       "  </thead>\n",
       "  <tbody>\n",
       "    <tr>\n",
       "      <th>413</th>\n",
       "      <td>3</td>\n",
       "      <td>NaN</td>\n",
       "      <td>8.0500</td>\n",
       "    </tr>\n",
       "    <tr>\n",
       "      <th>414</th>\n",
       "      <td>1</td>\n",
       "      <td>39.0</td>\n",
       "      <td>108.9000</td>\n",
       "    </tr>\n",
       "    <tr>\n",
       "      <th>415</th>\n",
       "      <td>3</td>\n",
       "      <td>38.5</td>\n",
       "      <td>7.2500</td>\n",
       "    </tr>\n",
       "    <tr>\n",
       "      <th>416</th>\n",
       "      <td>3</td>\n",
       "      <td>NaN</td>\n",
       "      <td>8.0500</td>\n",
       "    </tr>\n",
       "    <tr>\n",
       "      <th>417</th>\n",
       "      <td>3</td>\n",
       "      <td>NaN</td>\n",
       "      <td>22.3583</td>\n",
       "    </tr>\n",
       "  </tbody>\n",
       "</table>\n",
       "</div>"
      ],
      "text/plain": [
       "     Pclass   Age      Fare\n",
       "413       3   NaN    8.0500\n",
       "414       1  39.0  108.9000\n",
       "415       3  38.5    7.2500\n",
       "416       3   NaN    8.0500\n",
       "417       3   NaN   22.3583"
      ]
     },
     "execution_count": 17,
     "metadata": {},
     "output_type": "execute_result"
    }
   ],
   "source": [
    "X_test.tail()"
   ]
  },
  {
   "cell_type": "code",
   "execution_count": 18,
   "metadata": {},
   "outputs": [
    {
     "data": {
      "text/plain": [
       "array([[  3.        ,  29.69911765,   8.05      ],\n",
       "       [  1.        ,  39.        , 108.9       ],\n",
       "       [  3.        ,  38.5       ,   7.25      ],\n",
       "       [  3.        ,  29.69911765,   8.05      ],\n",
       "       [  3.        ,  29.69911765,  22.3583    ]])"
      ]
     },
     "execution_count": 18,
     "metadata": {},
     "output_type": "execute_result"
    }
   ],
   "source": [
    "X_test_imputed[-5:]"
   ]
  },
  {
   "cell_type": "code",
   "execution_count": 10,
   "metadata": {},
   "outputs": [
    {
     "data": {
      "text/plain": [
       "array([1.19207871])"
      ]
     },
     "execution_count": 10,
     "metadata": {},
     "output_type": "execute_result"
    }
   ],
   "source": [
    "import numpy as np\n",
    "\n",
    "test_case = np.array([[1, 5, 500]]) # Rich 5-year old in first class\n",
    "lin_reg.predict(test_case)"
   ]
  },
  {
   "cell_type": "code",
   "execution_count": 11,
   "metadata": {},
   "outputs": [
    {
     "data": {
      "text/plain": [
       "count    418.000000\n",
       "mean       0.392117\n",
       "std        0.181876\n",
       "min        0.011755\n",
       "25%        0.227341\n",
       "50%        0.339570\n",
       "75%        0.516439\n",
       "max        0.954827\n",
       "dtype: float64"
      ]
     },
     "execution_count": 11,
     "metadata": {},
     "output_type": "execute_result"
    }
   ],
   "source": [
    "y_pred = lin_reg.predict(X_test_imputed)\n",
    "pd.Series(y_pred).describe()"
   ]
  },
  {
   "cell_type": "code",
   "execution_count": 12,
   "metadata": {},
   "outputs": [
    {
     "data": {
      "text/plain": [
       "Pclass   -0.210390\n",
       "Age      -0.007358\n",
       "Fare      0.000751\n",
       "dtype: float64"
      ]
     },
     "execution_count": 12,
     "metadata": {},
     "output_type": "execute_result"
    }
   ],
   "source": [
    "pd.Series(lin_reg.coef_, X_train.columns)"
   ]
  },
  {
   "cell_type": "code",
   "execution_count": 13,
   "metadata": {},
   "outputs": [
    {
     "data": {
      "text/plain": [
       "1.0638995000035445"
      ]
     },
     "execution_count": 13,
     "metadata": {},
     "output_type": "execute_result"
    }
   ],
   "source": [
    "lin_reg.intercept_"
   ]
  },
  {
   "cell_type": "markdown",
   "metadata": {
    "colab_type": "text",
    "id": "rYyiF9pB5ejW"
   },
   "source": [
    "### How would we do this with Logistic Regression?"
   ]
  },
  {
   "cell_type": "code",
   "execution_count": 20,
   "metadata": {},
   "outputs": [
    {
     "name": "stdout",
     "output_type": "stream",
     "text": [
      "Prediction for rich 5 year old: [1]\n",
      "Predicted probability for rich 5 year old: [[0.02778799 0.97221201]]\n"
     ]
    }
   ],
   "source": [
    "from sklearn.linear_model import LogisticRegression\n",
    "\n",
    "log_reg = LogisticRegression(solver='lbfgs')\n",
    "log_reg.fit(X_train_imputed, y_train)\n",
    "\n",
    "print('Prediction for rich 5 year old:', log_reg.predict(test_case))\n",
    "print('Predicted probability for rich 5 year old:', log_reg.predict_proba(test_case))"
   ]
  },
  {
   "cell_type": "code",
   "execution_count": 21,
   "metadata": {},
   "outputs": [
    {
     "data": {
      "text/plain": [
       "array([0, 0, 0, 0, 0, 0, 0, 0, 0, 0, 0, 1, 1, 0, 1, 0, 0, 0, 0, 0, 0, 0,\n",
       "       1, 1, 1, 0, 1, 0, 1, 0, 0, 0, 0, 0, 1, 0, 0, 0, 0, 0, 0, 1, 0, 0,\n",
       "       1, 0, 1, 0, 0, 0, 1, 0, 1, 1, 0, 0, 0, 0, 0, 1, 0, 0, 0, 0, 1, 0,\n",
       "       0, 1, 1, 1, 0, 0, 0, 1, 1, 1, 0, 0, 0, 0, 0, 1, 0, 0, 0, 0, 0, 0,\n",
       "       0, 1, 0, 0, 1, 0, 1, 0, 0, 0, 0, 0, 1, 0, 0, 0, 0, 0, 0, 0, 0, 1,\n",
       "       0, 0, 1, 0, 1, 0, 0, 0, 1, 0, 1, 0, 1, 0, 0, 0, 0, 0, 0, 0, 0, 0,\n",
       "       0, 0, 0, 0, 0, 0, 0, 0, 0, 1, 1, 0, 1, 0, 1, 0, 1, 0, 1, 0, 0, 0,\n",
       "       0, 0, 1, 0, 1, 0, 0, 0, 0, 0, 0, 0, 1, 0, 1, 0, 0, 0, 0, 0, 0, 1,\n",
       "       1, 0, 0, 0, 0, 1, 1, 0, 1, 0, 1, 0, 0, 0, 0, 1, 0, 0, 1, 0, 1, 0,\n",
       "       0, 0, 0, 0, 1, 1, 0, 1, 0, 0, 1, 0, 0, 0, 1, 0, 0, 1, 0, 1, 1, 0,\n",
       "       0, 0, 0, 0, 0, 0, 0, 0, 0, 0, 1, 1, 0, 0, 1, 0, 0, 0, 1, 1, 0, 0,\n",
       "       1, 0, 0, 1, 0, 0, 0, 0, 1, 0, 1, 0, 0, 0, 0, 0, 1, 0, 0, 0, 0, 0,\n",
       "       0, 0, 1, 0, 0, 0, 1, 0, 1, 0, 0, 1, 0, 0, 0, 0, 0, 0, 0, 0, 0, 0,\n",
       "       0, 1, 0, 0, 1, 0, 0, 1, 0, 0, 1, 0, 1, 0, 0, 0, 0, 0, 0, 0, 1, 0,\n",
       "       1, 0, 0, 0, 0, 0, 1, 0, 1, 1, 0, 1, 0, 0, 0, 1, 1, 0, 1, 1, 0, 0,\n",
       "       0, 1, 0, 0, 0, 1, 0, 0, 0, 0, 1, 0, 0, 1, 0, 0, 0, 0, 0, 0, 1, 0,\n",
       "       1, 0, 0, 0, 0, 0, 0, 0, 0, 0, 0, 0, 1, 0, 0, 0, 1, 0, 0, 1, 0, 0,\n",
       "       1, 1, 0, 0, 0, 0, 0, 0, 0, 0, 0, 1, 0, 0, 0, 0, 1, 0, 0, 0, 0, 1,\n",
       "       0, 1, 0, 0, 1, 0, 1, 1, 1, 1, 0, 1, 0, 0, 0, 1, 0, 0, 1, 0, 0, 0])"
      ]
     },
     "execution_count": 21,
     "metadata": {},
     "output_type": "execute_result"
    }
   ],
   "source": [
    "threshold = 0.5\n",
    "(log_reg.predict_proba(X_test_imputed)[:, 1] > threshold).astype(int)"
   ]
  },
  {
   "cell_type": "code",
   "execution_count": 22,
   "metadata": {},
   "outputs": [
    {
     "data": {
      "text/plain": [
       "True"
      ]
     },
     "execution_count": 22,
     "metadata": {},
     "output_type": "execute_result"
    }
   ],
   "source": [
    "manual_predictions = (log_reg.predict_proba(X_test_imputed)[:,1] > threshold).astype(int)\n",
    "direct_predictions = log_reg.predict(X_test_imputed)\n",
    "\n",
    "all(manual_predictions == direct_predictions)"
   ]
  },
  {
   "cell_type": "markdown",
   "metadata": {
    "colab_type": "text",
    "id": "_YLxF3IN5ekh"
   },
   "source": [
    "### How accurate is the Logistic Regression?"
   ]
  },
  {
   "cell_type": "code",
   "execution_count": 30,
   "metadata": {
    "colab": {},
    "colab_type": "code",
    "id": "UQyiXw995ely"
   },
   "outputs": [
    {
     "name": "stdout",
     "output_type": "stream",
     "text": [
      "Train Accuracy Score: 0.7025813692480359\n"
     ]
    }
   ],
   "source": [
    "score = log_reg.score(X_train_imputed, y_train)\n",
    "print('Train Accuracy Score:', score)"
   ]
  },
  {
   "cell_type": "code",
   "execution_count": 23,
   "metadata": {},
   "outputs": [
    {
     "name": "stdout",
     "output_type": "stream",
     "text": [
      "Cross Validation Accuracy Scores: [0.63333333 0.62222222 0.68539326 0.71910112 0.69662921 0.69662921\n",
      " 0.76404494 0.75280899 0.73033708 0.71590909]\n"
     ]
    }
   ],
   "source": [
    "from sklearn.model_selection import cross_val_score\n",
    "scores = cross_val_score(log_reg, X_train_imputed, y_train, cv=10)\n",
    "print('Cross Validation Accuracy Scores:', scores)"
   ]
  },
  {
   "cell_type": "code",
   "execution_count": 24,
   "metadata": {},
   "outputs": [
    {
     "data": {
      "text/plain": [
       "(0.6222222222222222, 0.7016408466689366, 0.7640449438202247)"
      ]
     },
     "execution_count": 24,
     "metadata": {},
     "output_type": "execute_result"
    }
   ],
   "source": [
    "scores = pd.Series(scores)\n",
    "scores.min(), scores.mean(), scores.max()"
   ]
  },
  {
   "cell_type": "markdown",
   "metadata": {
    "colab_type": "text",
    "id": "LeNqZSrB5elR"
   },
   "source": [
    "### What's the math for the Logistic Regression?\n",
    "\n",
    "https://en.wikipedia.org/wiki/Logistic_function\n",
    "\n",
    "https://en.wikipedia.org/wiki/Logistic_regression#Probability_of_passing_an_exam_versus_hours_of_study"
   ]
  },
  {
   "cell_type": "code",
   "execution_count": 31,
   "metadata": {
    "colab": {},
    "colab_type": "code",
    "id": "9Bq-54noR1uE"
   },
   "outputs": [
    {
     "data": {
      "text/plain": [
       "array([[-0.9345267 , -0.03569729,  0.00422069]])"
      ]
     },
     "execution_count": 31,
     "metadata": {},
     "output_type": "execute_result"
    }
   ],
   "source": [
    "log_reg.coef_"
   ]
  },
  {
   "cell_type": "code",
   "execution_count": 33,
   "metadata": {},
   "outputs": [
    {
     "data": {
      "text/plain": [
       "array([2.55763985])"
      ]
     },
     "execution_count": 33,
     "metadata": {},
     "output_type": "execute_result"
    }
   ],
   "source": [
    "log_reg.intercept_"
   ]
  },
  {
   "cell_type": "code",
   "execution_count": 25,
   "metadata": {},
   "outputs": [],
   "source": [
    "# The logistic sigmoid \"squishing\" function,\n",
    "# implemented to work with numpy arrays\n",
    "def sigmoid(x):\n",
    "    return 1 / (1 + np.e**(-x))"
   ]
  },
  {
   "cell_type": "code",
   "execution_count": 26,
   "metadata": {},
   "outputs": [
    {
     "data": {
      "text/plain": [
       "array([[0.97221201]])"
      ]
     },
     "execution_count": 26,
     "metadata": {},
     "output_type": "execute_result"
    }
   ],
   "source": [
    "sigmoid(np.dot(log_reg.coef_, test_case.T) + log_reg.intercept_)"
   ]
  },
  {
   "cell_type": "code",
   "execution_count": 27,
   "metadata": {},
   "outputs": [
    {
     "data": {
      "text/plain": [
       "array([[0.02778799, 0.97221201]])"
      ]
     },
     "execution_count": 27,
     "metadata": {},
     "output_type": "execute_result"
    }
   ],
   "source": [
    "log_reg.predict_proba(test_case)"
   ]
  },
  {
   "cell_type": "markdown",
   "metadata": {
    "colab_type": "text",
    "id": "QVIM7i9Z5elr"
   },
   "source": [
    "## Feature Engineering\n",
    "\n",
    "Get the [Category Encoder](http://contrib.scikit-learn.org/categorical-encoding/) library\n",
    "\n",
    "If you're running on Google Colab:\n",
    "\n",
    "```\n",
    "!pip install category_encoders\n",
    "```\n",
    "\n",
    "If you're running locally with Anaconda:\n",
    "\n",
    "```\n",
    "!conda install -c conda-forge category_encoders\n",
    "```"
   ]
  },
  {
   "cell_type": "code",
   "execution_count": null,
   "metadata": {},
   "outputs": [],
   "source": []
  },
  {
   "cell_type": "markdown",
   "metadata": {
    "colab_type": "text",
    "id": "iblW74C8afuR"
   },
   "source": [
    "## Assignment: real-world classification\n",
    "\n",
    "We're going to check out a larger dataset - the [FMA Free Music Archive data](https://github.com/mdeff/fma). It has a selection of CSVs with metadata and calculated audio features that you can load and try to use to classify genre of tracks. To get you started:"
   ]
  },
  {
   "cell_type": "markdown",
   "metadata": {
    "colab_type": "text",
    "id": "0D2X63vz5emI"
   },
   "source": [
    "### Get and unzip the data"
   ]
  },
  {
   "cell_type": "markdown",
   "metadata": {
    "colab_type": "text",
    "id": "AT0ZRa2A5emY"
   },
   "source": [
    "#### Google Colab"
   ]
  },
  {
   "cell_type": "code",
   "execution_count": 0,
   "metadata": {
    "colab": {},
    "colab_type": "code",
    "id": "SsySnuKaKtQf"
   },
   "outputs": [],
   "source": [
    "!wget https://os.unil.cloud.switch.ch/fma/fma_metadata.zip\n",
    "!unzip fma_metadata.zip"
   ]
  },
  {
   "cell_type": "markdown",
   "metadata": {
    "colab_type": "text",
    "id": "O2wrJun-5enV"
   },
   "source": [
    "#### Windows\n",
    "- Download the [zip file](https://os.unil.cloud.switch.ch/fma/fma_metadata.zip)\n",
    "- You may need to use [7zip](https://www.7-zip.org/download.html) to unzip it\n",
    "\n",
    "\n",
    "#### Mac\n",
    "- Download the [zip file](https://os.unil.cloud.switch.ch/fma/fma_metadata.zip)\n",
    "- You may need to use [p7zip](https://superuser.com/a/626731) to unzip it"
   ]
  },
  {
   "cell_type": "markdown",
   "metadata": {
    "colab_type": "text",
    "id": "C6nSIQRf5ene"
   },
   "source": [
    "### Look at first 3 lines of raw file"
   ]
  },
  {
   "cell_type": "code",
   "execution_count": 49,
   "metadata": {
    "colab": {},
    "colab_type": "code",
    "id": "CBPth7Gl5enh"
   },
   "outputs": [
    {
     "name": "stdout",
     "output_type": "stream",
     "text": [
      ",album,album,album,album,album,album,album,album,album,album,album,album,album,artist,artist,artist,artist,artist,artist,artist,artist,artist,artist,artist,artist,artist,artist,artist,artist,artist,set,set,track,track,track,track,track,track,track,track,track,track,track,track,track,track,track,track,track,track,track,track\n",
      ",comments,date_created,date_released,engineer,favorites,id,information,listens,producer,tags,title,tracks,type,active_year_begin,active_year_end,associated_labels,bio,comments,date_created,favorites,id,latitude,location,longitude,members,name,related_projects,tags,website,wikipedia_page,split,subset,bit_rate,comments,composer,date_created,date_recorded,duration,favorites,genre_top,genres,genres_all,information,interest,language_code,license,listens,lyricist,number,publisher,tags,title\n",
      "track_id,,,,,,,,,,,,,,,,,,,,,,,,,,,,,,,,,,,,,,,,,,,,,,,,,,,,\n"
     ]
    }
   ],
   "source": [
    "!head -n 3 fma_metadata/tracks.csv"
   ]
  },
  {
   "cell_type": "markdown",
   "metadata": {
    "colab_type": "text",
    "id": "7oiwPecx5ent"
   },
   "source": [
    "### Read with pandas\n",
    "https://pandas.pydata.org/pandas-docs/stable/reference/api/pandas.read_csv.html"
   ]
  },
  {
   "cell_type": "code",
   "execution_count": 332,
   "metadata": {
    "colab": {},
    "colab_type": "code",
    "id": "udqpCxLx5en1"
   },
   "outputs": [],
   "source": [
    "tracks = pd.read_csv('fma_metadata/tracks.csv', index_col=0)\n",
    "df = tracks.sample(n=5000, random_state=42)"
   ]
  },
  {
   "cell_type": "code",
   "execution_count": 333,
   "metadata": {},
   "outputs": [
    {
     "name": "stdout",
     "output_type": "stream",
     "text": [
      "(5000, 52)\n"
     ]
    },
    {
     "data": {
      "text/html": [
       "<div>\n",
       "<style scoped>\n",
       "    .dataframe tbody tr th:only-of-type {\n",
       "        vertical-align: middle;\n",
       "    }\n",
       "\n",
       "    .dataframe tbody tr th {\n",
       "        vertical-align: top;\n",
       "    }\n",
       "\n",
       "    .dataframe thead th {\n",
       "        text-align: right;\n",
       "    }\n",
       "</style>\n",
       "<table border=\"1\" class=\"dataframe\">\n",
       "  <thead>\n",
       "    <tr style=\"text-align: right;\">\n",
       "      <th></th>\n",
       "      <th>album_comments</th>\n",
       "      <th>album_date_created</th>\n",
       "      <th>album_date_released</th>\n",
       "      <th>album_engineer</th>\n",
       "      <th>album_favorites</th>\n",
       "      <th>album_id</th>\n",
       "      <th>album_information</th>\n",
       "      <th>album_listens</th>\n",
       "      <th>album_producer</th>\n",
       "      <th>album_tags</th>\n",
       "      <th>album_title</th>\n",
       "      <th>album_tracks</th>\n",
       "      <th>album_type</th>\n",
       "      <th>artist_active_year_begin</th>\n",
       "      <th>artist_active_year_end</th>\n",
       "      <th>artist_associated_labels</th>\n",
       "      <th>artist_bio</th>\n",
       "      <th>artist_comments</th>\n",
       "      <th>artist_date_created</th>\n",
       "      <th>artist_favorites</th>\n",
       "      <th>artist_id</th>\n",
       "      <th>artist_latitude</th>\n",
       "      <th>artist_location</th>\n",
       "      <th>artist_longitude</th>\n",
       "      <th>artist_members</th>\n",
       "      <th>artist_name</th>\n",
       "      <th>artist_related_projects</th>\n",
       "      <th>artist_tags</th>\n",
       "      <th>artist_website</th>\n",
       "      <th>artist_wikipedia_page</th>\n",
       "      <th>set_split</th>\n",
       "      <th>set_subset</th>\n",
       "      <th>track_bit_rate</th>\n",
       "      <th>track_comments</th>\n",
       "      <th>track_composer</th>\n",
       "      <th>track_date_created</th>\n",
       "      <th>track_date_recorded</th>\n",
       "      <th>track_duration</th>\n",
       "      <th>track_favorites</th>\n",
       "      <th>track_genre_top</th>\n",
       "      <th>track_genres</th>\n",
       "      <th>track_genres_all</th>\n",
       "      <th>track_information</th>\n",
       "      <th>track_interest</th>\n",
       "      <th>track_language_code</th>\n",
       "      <th>track_license</th>\n",
       "      <th>track_listens</th>\n",
       "      <th>track_lyricist</th>\n",
       "      <th>track_number</th>\n",
       "      <th>track_publisher</th>\n",
       "      <th>track_tags</th>\n",
       "      <th>track_title</th>\n",
       "    </tr>\n",
       "  </thead>\n",
       "  <tbody>\n",
       "    <tr>\n",
       "      <th>43742</th>\n",
       "      <td>-1</td>\n",
       "      <td>NaN</td>\n",
       "      <td>NaN</td>\n",
       "      <td>NaN</td>\n",
       "      <td>-1</td>\n",
       "      <td>8578</td>\n",
       "      <td>NaN</td>\n",
       "      <td>-1</td>\n",
       "      <td>NaN</td>\n",
       "      <td>[]</td>\n",
       "      <td>Second Spring</td>\n",
       "      <td>-1</td>\n",
       "      <td>NaN</td>\n",
       "      <td>NaN</td>\n",
       "      <td>NaN</td>\n",
       "      <td>NaN</td>\n",
       "      <td>NaN</td>\n",
       "      <td>4</td>\n",
       "      <td>8/12/2010 1:22</td>\n",
       "      <td>82</td>\n",
       "      <td>8390</td>\n",
       "      <td>39.263517</td>\n",
       "      <td>Lutherville, MD; Woodbine, MD</td>\n",
       "      <td>-76.623942</td>\n",
       "      <td>NaN</td>\n",
       "      <td>The New Mystikal Troubadours</td>\n",
       "      <td>Bad Liquor Pond\\nDr. Tuborg</td>\n",
       "      <td>['the new mystikal troubadours', 'the agrarians']</td>\n",
       "      <td>http://thenewmystikaltroubadours.bandcamp.com/</td>\n",
       "      <td>NaN</td>\n",
       "      <td>validation</td>\n",
       "      <td>large</td>\n",
       "      <td>160000</td>\n",
       "      <td>0</td>\n",
       "      <td>NaN</td>\n",
       "      <td>2/17/2011 21:33</td>\n",
       "      <td>NaN</td>\n",
       "      <td>325</td>\n",
       "      <td>2</td>\n",
       "      <td>NaN</td>\n",
       "      <td>[3, 33, 38, 250]</td>\n",
       "      <td>[33, 3, 38, 17, 250]</td>\n",
       "      <td>NaN</td>\n",
       "      <td>2629</td>\n",
       "      <td>NaN</td>\n",
       "      <td>Attribution-Noncommercial-Share Alike 3.0 Unit...</td>\n",
       "      <td>850</td>\n",
       "      <td>NaN</td>\n",
       "      <td>8</td>\n",
       "      <td>NaN</td>\n",
       "      <td>[]</td>\n",
       "      <td>A Parody</td>\n",
       "    </tr>\n",
       "    <tr>\n",
       "      <th>31941</th>\n",
       "      <td>0</td>\n",
       "      <td>6/23/2010 12:17</td>\n",
       "      <td>2/12/2009 0:00</td>\n",
       "      <td>NaN</td>\n",
       "      <td>1</td>\n",
       "      <td>6655</td>\n",
       "      <td>NaN</td>\n",
       "      <td>19141</td>\n",
       "      <td>NaN</td>\n",
       "      <td>[]</td>\n",
       "      <td>La Fantaisie des Biches</td>\n",
       "      <td>14</td>\n",
       "      <td>Album</td>\n",
       "      <td>NaN</td>\n",
       "      <td>NaN</td>\n",
       "      <td>NaN</td>\n",
       "      <td>&lt;p&gt;&lt;span class=\"long_text\"&gt;&lt;span style=\"backgr...</td>\n",
       "      <td>1</td>\n",
       "      <td>6/23/2010 12:18</td>\n",
       "      <td>15</td>\n",
       "      <td>7888</td>\n",
       "      <td>46.211401</td>\n",
       "      <td>France</td>\n",
       "      <td>2.209360</td>\n",
       "      <td>NaN</td>\n",
       "      <td>Misiaczek</td>\n",
       "      <td>NaN</td>\n",
       "      <td>['misiaczek', 'super moyen', 'misiaczek mczk']</td>\n",
       "      <td>www.misiaczek.net</td>\n",
       "      <td>NaN</td>\n",
       "      <td>test</td>\n",
       "      <td>large</td>\n",
       "      <td>320000</td>\n",
       "      <td>0</td>\n",
       "      <td>NaN</td>\n",
       "      <td>6/23/2010 12:15</td>\n",
       "      <td>NaN</td>\n",
       "      <td>168</td>\n",
       "      <td>2</td>\n",
       "      <td>NaN</td>\n",
       "      <td>[66, 77]</td>\n",
       "      <td>[66, 2, 12, 77]</td>\n",
       "      <td>NaN</td>\n",
       "      <td>2105</td>\n",
       "      <td>NaN</td>\n",
       "      <td>Attribution 2.0 France</td>\n",
       "      <td>1320</td>\n",
       "      <td>NaN</td>\n",
       "      <td>9</td>\n",
       "      <td>NaN</td>\n",
       "      <td>[]</td>\n",
       "      <td>safari truites</td>\n",
       "    </tr>\n",
       "    <tr>\n",
       "      <th>50985</th>\n",
       "      <td>3</td>\n",
       "      <td>7/15/2011 14:40</td>\n",
       "      <td>NaN</td>\n",
       "      <td>NaN</td>\n",
       "      <td>10</td>\n",
       "      <td>9619</td>\n",
       "      <td>&lt;p&gt;Great Jazz selections from Kevin MacLeod's ...</td>\n",
       "      <td>458874</td>\n",
       "      <td>NaN</td>\n",
       "      <td>[]</td>\n",
       "      <td>Jazz Sampler</td>\n",
       "      <td>20</td>\n",
       "      <td>Album</td>\n",
       "      <td>1/1/1998 0:00</td>\n",
       "      <td>1/1/2014 0:00</td>\n",
       "      <td>NaN</td>\n",
       "      <td>&lt;p&gt;For information about usage, please see my ...</td>\n",
       "      <td>32</td>\n",
       "      <td>7/15/2011 10:50</td>\n",
       "      <td>431</td>\n",
       "      <td>11431</td>\n",
       "      <td>40.692455</td>\n",
       "      <td>New York, NY</td>\n",
       "      <td>-73.990364</td>\n",
       "      <td>Kevin Macleod</td>\n",
       "      <td>Kevin MacLeod</td>\n",
       "      <td>freepd.com</td>\n",
       "      <td>['kevin macleod']</td>\n",
       "      <td>http://incompetech.com</td>\n",
       "      <td>http://en.wikipedia.org/wiki/Kevin_MacLeod_(mu...</td>\n",
       "      <td>training</td>\n",
       "      <td>large</td>\n",
       "      <td>267146</td>\n",
       "      <td>0</td>\n",
       "      <td>NaN</td>\n",
       "      <td>7/15/2011 10:19</td>\n",
       "      <td>NaN</td>\n",
       "      <td>174</td>\n",
       "      <td>26</td>\n",
       "      <td>NaN</td>\n",
       "      <td>[4, 13]</td>\n",
       "      <td>[4, 13]</td>\n",
       "      <td>NaN</td>\n",
       "      <td>31224</td>\n",
       "      <td>NaN</td>\n",
       "      <td>Creative Commons Attribution</td>\n",
       "      <td>19783</td>\n",
       "      <td>NaN</td>\n",
       "      <td>0</td>\n",
       "      <td>NaN</td>\n",
       "      <td>[]</td>\n",
       "      <td>Night on the Docks - Sax</td>\n",
       "    </tr>\n",
       "    <tr>\n",
       "      <th>146981</th>\n",
       "      <td>0</td>\n",
       "      <td>11/28/2016 12:37</td>\n",
       "      <td>11/18/2016 0:00</td>\n",
       "      <td>NaN</td>\n",
       "      <td>0</td>\n",
       "      <td>21917</td>\n",
       "      <td>NaN</td>\n",
       "      <td>19158</td>\n",
       "      <td>NaN</td>\n",
       "      <td>[]</td>\n",
       "      <td>не знаю</td>\n",
       "      <td>11</td>\n",
       "      <td>Album</td>\n",
       "      <td>NaN</td>\n",
       "      <td>NaN</td>\n",
       "      <td>NaN</td>\n",
       "      <td>&lt;p&gt;&lt;span style=\"color: #333333; font-family: G...</td>\n",
       "      <td>4</td>\n",
       "      <td>3/31/2013 2:17</td>\n",
       "      <td>110</td>\n",
       "      <td>15891</td>\n",
       "      <td>58.007359</td>\n",
       "      <td>Perm, Russia</td>\n",
       "      <td>56.228149</td>\n",
       "      <td>Konstantin Trokay</td>\n",
       "      <td>Kosta T</td>\n",
       "      <td>NaN</td>\n",
       "      <td>['skripka', 'improv', 'ambient', 'reverb', 'ac...</td>\n",
       "      <td>https://soundcloud.com/konstantin-trokay</td>\n",
       "      <td>NaN</td>\n",
       "      <td>training</td>\n",
       "      <td>large</td>\n",
       "      <td>320000</td>\n",
       "      <td>0</td>\n",
       "      <td>konstantin trokai</td>\n",
       "      <td>11/28/2016 12:37</td>\n",
       "      <td>NaN</td>\n",
       "      <td>308</td>\n",
       "      <td>0</td>\n",
       "      <td>NaN</td>\n",
       "      <td>[1, 18, 38, 94, 107, 125, 250, 514, 659, 1235]</td>\n",
       "      <td>[1, 514, 5, 38, 107, 17, 18, 1235, 659, 250, 1...</td>\n",
       "      <td>NaN</td>\n",
       "      <td>3491</td>\n",
       "      <td>NaN</td>\n",
       "      <td>Attribution</td>\n",
       "      <td>2908</td>\n",
       "      <td>NaN</td>\n",
       "      <td>10</td>\n",
       "      <td>NaN</td>\n",
       "      <td>[]</td>\n",
       "      <td>печально всё как-то ...</td>\n",
       "    </tr>\n",
       "    <tr>\n",
       "      <th>20461</th>\n",
       "      <td>0</td>\n",
       "      <td>11/4/2009 2:19</td>\n",
       "      <td>NaN</td>\n",
       "      <td>NaN</td>\n",
       "      <td>1</td>\n",
       "      <td>4611</td>\n",
       "      <td>&lt;p&gt;ZONA MC, from Italy is the lone Artist to c...</td>\n",
       "      <td>3139</td>\n",
       "      <td>NaN</td>\n",
       "      <td>[]</td>\n",
       "      <td>QUELLO ROTTO</td>\n",
       "      <td>5</td>\n",
       "      <td>Album</td>\n",
       "      <td>NaN</td>\n",
       "      <td>NaN</td>\n",
       "      <td>NaN</td>\n",
       "      <td>&lt;p&gt;ZONA MC, from Italy is the lone Artist to c...</td>\n",
       "      <td>1</td>\n",
       "      <td>11/4/2009 2:24</td>\n",
       "      <td>6</td>\n",
       "      <td>5443</td>\n",
       "      <td>41.871940</td>\n",
       "      <td>Italy</td>\n",
       "      <td>12.567380</td>\n",
       "      <td>NaN</td>\n",
       "      <td>ZONA MC</td>\n",
       "      <td>NaN</td>\n",
       "      <td>['zona mc']</td>\n",
       "      <td>http://www.myspace.com/lamjula</td>\n",
       "      <td>NaN</td>\n",
       "      <td>training</td>\n",
       "      <td>medium</td>\n",
       "      <td>171259</td>\n",
       "      <td>0</td>\n",
       "      <td>NaN</td>\n",
       "      <td>11/4/2009 2:20</td>\n",
       "      <td>NaN</td>\n",
       "      <td>86</td>\n",
       "      <td>0</td>\n",
       "      <td>Hip-Hop</td>\n",
       "      <td>[21]</td>\n",
       "      <td>[21]</td>\n",
       "      <td>NaN</td>\n",
       "      <td>722</td>\n",
       "      <td>en</td>\n",
       "      <td>Attribution-Noncommercial-Share Alike 2.5 Italy</td>\n",
       "      <td>385</td>\n",
       "      <td>NaN</td>\n",
       "      <td>6</td>\n",
       "      <td>NaN</td>\n",
       "      <td>[]</td>\n",
       "      <td>Non mi e venuta una buona idea per il titolo</td>\n",
       "    </tr>\n",
       "  </tbody>\n",
       "</table>\n",
       "</div>"
      ],
      "text/plain": [
       "        album_comments album_date_created album_date_released album_engineer  \\\n",
       "43742               -1                NaN                 NaN            NaN   \n",
       "31941                0    6/23/2010 12:17      2/12/2009 0:00            NaN   \n",
       "50985                3    7/15/2011 14:40                 NaN            NaN   \n",
       "146981               0   11/28/2016 12:37     11/18/2016 0:00            NaN   \n",
       "20461                0     11/4/2009 2:19                 NaN            NaN   \n",
       "\n",
       "        album_favorites  album_id  \\\n",
       "43742                -1      8578   \n",
       "31941                 1      6655   \n",
       "50985                10      9619   \n",
       "146981                0     21917   \n",
       "20461                 1      4611   \n",
       "\n",
       "                                        album_information  album_listens  \\\n",
       "43742                                                 NaN             -1   \n",
       "31941                                                 NaN          19141   \n",
       "50985   <p>Great Jazz selections from Kevin MacLeod's ...         458874   \n",
       "146981                                                NaN          19158   \n",
       "20461   <p>ZONA MC, from Italy is the lone Artist to c...           3139   \n",
       "\n",
       "       album_producer album_tags              album_title  album_tracks  \\\n",
       "43742             NaN         []            Second Spring            -1   \n",
       "31941             NaN         []  La Fantaisie des Biches            14   \n",
       "50985             NaN         []             Jazz Sampler            20   \n",
       "146981            NaN         []                  не знаю            11   \n",
       "20461             NaN         []             QUELLO ROTTO             5   \n",
       "\n",
       "       album_type artist_active_year_begin artist_active_year_end  \\\n",
       "43742         NaN                      NaN                    NaN   \n",
       "31941       Album                      NaN                    NaN   \n",
       "50985       Album            1/1/1998 0:00          1/1/2014 0:00   \n",
       "146981      Album                      NaN                    NaN   \n",
       "20461       Album                      NaN                    NaN   \n",
       "\n",
       "       artist_associated_labels  \\\n",
       "43742                       NaN   \n",
       "31941                       NaN   \n",
       "50985                       NaN   \n",
       "146981                      NaN   \n",
       "20461                       NaN   \n",
       "\n",
       "                                               artist_bio  artist_comments  \\\n",
       "43742                                                 NaN                4   \n",
       "31941   <p><span class=\"long_text\"><span style=\"backgr...                1   \n",
       "50985   <p>For information about usage, please see my ...               32   \n",
       "146981  <p><span style=\"color: #333333; font-family: G...                4   \n",
       "20461   <p>ZONA MC, from Italy is the lone Artist to c...                1   \n",
       "\n",
       "       artist_date_created  artist_favorites  artist_id  artist_latitude  \\\n",
       "43742       8/12/2010 1:22                82       8390        39.263517   \n",
       "31941      6/23/2010 12:18                15       7888        46.211401   \n",
       "50985      7/15/2011 10:50               431      11431        40.692455   \n",
       "146981      3/31/2013 2:17               110      15891        58.007359   \n",
       "20461       11/4/2009 2:24                 6       5443        41.871940   \n",
       "\n",
       "                      artist_location  artist_longitude     artist_members  \\\n",
       "43742   Lutherville, MD; Woodbine, MD        -76.623942                NaN   \n",
       "31941                          France          2.209360                NaN   \n",
       "50985                    New York, NY        -73.990364      Kevin Macleod   \n",
       "146981                   Perm, Russia         56.228149  Konstantin Trokay   \n",
       "20461                           Italy         12.567380                NaN   \n",
       "\n",
       "                         artist_name      artist_related_projects  \\\n",
       "43742   The New Mystikal Troubadours  Bad Liquor Pond\\nDr. Tuborg   \n",
       "31941                      Misiaczek                          NaN   \n",
       "50985                  Kevin MacLeod                   freepd.com   \n",
       "146981                       Kosta T                          NaN   \n",
       "20461                        ZONA MC                          NaN   \n",
       "\n",
       "                                              artist_tags  \\\n",
       "43742   ['the new mystikal troubadours', 'the agrarians']   \n",
       "31941      ['misiaczek', 'super moyen', 'misiaczek mczk']   \n",
       "50985                                   ['kevin macleod']   \n",
       "146981  ['skripka', 'improv', 'ambient', 'reverb', 'ac...   \n",
       "20461                                         ['zona mc']   \n",
       "\n",
       "                                        artist_website  \\\n",
       "43742   http://thenewmystikaltroubadours.bandcamp.com/   \n",
       "31941                                www.misiaczek.net   \n",
       "50985                           http://incompetech.com   \n",
       "146981        https://soundcloud.com/konstantin-trokay   \n",
       "20461                   http://www.myspace.com/lamjula   \n",
       "\n",
       "                                    artist_wikipedia_page   set_split  \\\n",
       "43742                                                 NaN  validation   \n",
       "31941                                                 NaN        test   \n",
       "50985   http://en.wikipedia.org/wiki/Kevin_MacLeod_(mu...    training   \n",
       "146981                                                NaN    training   \n",
       "20461                                                 NaN    training   \n",
       "\n",
       "       set_subset  track_bit_rate  track_comments     track_composer  \\\n",
       "43742       large          160000               0                NaN   \n",
       "31941       large          320000               0                NaN   \n",
       "50985       large          267146               0                NaN   \n",
       "146981      large          320000               0  konstantin trokai   \n",
       "20461      medium          171259               0                NaN   \n",
       "\n",
       "       track_date_created track_date_recorded  track_duration  \\\n",
       "43742     2/17/2011 21:33                 NaN             325   \n",
       "31941     6/23/2010 12:15                 NaN             168   \n",
       "50985     7/15/2011 10:19                 NaN             174   \n",
       "146981   11/28/2016 12:37                 NaN             308   \n",
       "20461      11/4/2009 2:20                 NaN              86   \n",
       "\n",
       "        track_favorites track_genre_top  \\\n",
       "43742                 2             NaN   \n",
       "31941                 2             NaN   \n",
       "50985                26             NaN   \n",
       "146981                0             NaN   \n",
       "20461                 0         Hip-Hop   \n",
       "\n",
       "                                          track_genres  \\\n",
       "43742                                 [3, 33, 38, 250]   \n",
       "31941                                         [66, 77]   \n",
       "50985                                          [4, 13]   \n",
       "146981  [1, 18, 38, 94, 107, 125, 250, 514, 659, 1235]   \n",
       "20461                                             [21]   \n",
       "\n",
       "                                         track_genres_all track_information  \\\n",
       "43742                                [33, 3, 38, 17, 250]               NaN   \n",
       "31941                                     [66, 2, 12, 77]               NaN   \n",
       "50985                                             [4, 13]               NaN   \n",
       "146981  [1, 514, 5, 38, 107, 17, 18, 1235, 659, 250, 1...               NaN   \n",
       "20461                                                [21]               NaN   \n",
       "\n",
       "        track_interest track_language_code  \\\n",
       "43742             2629                 NaN   \n",
       "31941             2105                 NaN   \n",
       "50985            31224                 NaN   \n",
       "146981            3491                 NaN   \n",
       "20461              722                  en   \n",
       "\n",
       "                                            track_license  track_listens  \\\n",
       "43742   Attribution-Noncommercial-Share Alike 3.0 Unit...            850   \n",
       "31941                              Attribution 2.0 France           1320   \n",
       "50985                        Creative Commons Attribution          19783   \n",
       "146981                                        Attribution           2908   \n",
       "20461     Attribution-Noncommercial-Share Alike 2.5 Italy            385   \n",
       "\n",
       "       track_lyricist  track_number track_publisher track_tags  \\\n",
       "43742             NaN             8             NaN         []   \n",
       "31941             NaN             9             NaN         []   \n",
       "50985             NaN             0             NaN         []   \n",
       "146981            NaN            10             NaN         []   \n",
       "20461             NaN             6             NaN         []   \n",
       "\n",
       "                                         track_title  \n",
       "43742                                       A Parody  \n",
       "31941                                 safari truites  \n",
       "50985                       Night on the Docks - Sax  \n",
       "146981                       печально всё как-то ...  \n",
       "20461   Non mi e venuta una buona idea per il titolo  "
      ]
     },
     "execution_count": 333,
     "metadata": {},
     "output_type": "execute_result"
    }
   ],
   "source": [
    "pd.set_option('display.max_rows', 500)\n",
    "pd.set_option('display.max_columns', 500)\n",
    "print(df.shape)\n",
    "df.head(5)"
   ]
  },
  {
   "cell_type": "code",
   "execution_count": 334,
   "metadata": {
    "scrolled": false
   },
   "outputs": [
    {
     "name": "stdout",
     "output_type": "stream",
     "text": [
      "<class 'pandas.core.frame.DataFrame'>\n",
      "Int64Index: 5000 entries, 43742 to 76049\n",
      "Data columns (total 52 columns):\n",
      "album_comments              5000 non-null int64\n",
      "album_date_created          4844 non-null object\n",
      "album_date_released         3290 non-null object\n",
      "album_engineer              689 non-null object\n",
      "album_favorites             5000 non-null int64\n",
      "album_id                    5000 non-null int64\n",
      "album_information           3888 non-null object\n",
      "album_listens               5000 non-null int64\n",
      "album_producer              811 non-null object\n",
      "album_tags                  5000 non-null object\n",
      "album_title                 4953 non-null object\n",
      "album_tracks                5000 non-null int64\n",
      "album_type                  4710 non-null object\n",
      "artist_active_year_begin    1051 non-null object\n",
      "artist_active_year_end      232 non-null object\n",
      "artist_associated_labels    704 non-null object\n",
      "artist_bio                  3368 non-null object\n",
      "artist_comments             5000 non-null int64\n",
      "artist_date_created         4968 non-null object\n",
      "artist_favorites            5000 non-null int64\n",
      "artist_id                   5000 non-null int64\n",
      "artist_latitude             2115 non-null float64\n",
      "artist_location             3314 non-null object\n",
      "artist_longitude            2115 non-null float64\n",
      "artist_members              2202 non-null object\n",
      "artist_name                 5000 non-null object\n",
      "artist_related_projects     624 non-null object\n",
      "artist_tags                 5000 non-null object\n",
      "artist_website              3693 non-null object\n",
      "artist_wikipedia_page       255 non-null object\n",
      "set_split                   5000 non-null object\n",
      "set_subset                  5000 non-null object\n",
      "track_bit_rate              5000 non-null int64\n",
      "track_comments              5000 non-null int64\n",
      "track_composer              177 non-null object\n",
      "track_date_created          5000 non-null object\n",
      "track_date_recorded         312 non-null object\n",
      "track_duration              5000 non-null int64\n",
      "track_favorites             5000 non-null int64\n",
      "track_genre_top             2309 non-null object\n",
      "track_genres                5000 non-null object\n",
      "track_genres_all            5000 non-null object\n",
      "track_information           122 non-null object\n",
      "track_interest              5000 non-null int64\n",
      "track_language_code         710 non-null object\n",
      "track_license               4996 non-null object\n",
      "track_listens               5000 non-null int64\n",
      "track_lyricist              19 non-null object\n",
      "track_number                5000 non-null int64\n",
      "track_publisher             54 non-null object\n",
      "track_tags                  5000 non-null object\n",
      "track_title                 5000 non-null object\n",
      "dtypes: float64(2), int64(15), object(35)\n",
      "memory usage: 2.0+ MB\n"
     ]
    }
   ],
   "source": [
    "df.info()"
   ]
  },
  {
   "cell_type": "code",
   "execution_count": 335,
   "metadata": {},
   "outputs": [
    {
     "data": {
      "text/html": [
       "<div>\n",
       "<style scoped>\n",
       "    .dataframe tbody tr th:only-of-type {\n",
       "        vertical-align: middle;\n",
       "    }\n",
       "\n",
       "    .dataframe tbody tr th {\n",
       "        vertical-align: top;\n",
       "    }\n",
       "\n",
       "    .dataframe thead th {\n",
       "        text-align: right;\n",
       "    }\n",
       "</style>\n",
       "<table border=\"1\" class=\"dataframe\">\n",
       "  <thead>\n",
       "    <tr style=\"text-align: right;\">\n",
       "      <th></th>\n",
       "      <th>album_comments</th>\n",
       "      <th>album_favorites</th>\n",
       "      <th>album_id</th>\n",
       "      <th>album_listens</th>\n",
       "      <th>album_tracks</th>\n",
       "      <th>artist_comments</th>\n",
       "      <th>artist_favorites</th>\n",
       "      <th>artist_id</th>\n",
       "      <th>artist_latitude</th>\n",
       "      <th>artist_longitude</th>\n",
       "      <th>track_bit_rate</th>\n",
       "      <th>track_comments</th>\n",
       "      <th>track_duration</th>\n",
       "      <th>track_favorites</th>\n",
       "      <th>track_interest</th>\n",
       "      <th>track_listens</th>\n",
       "      <th>track_number</th>\n",
       "    </tr>\n",
       "  </thead>\n",
       "  <tbody>\n",
       "    <tr>\n",
       "      <th>count</th>\n",
       "      <td>5000.000000</td>\n",
       "      <td>5000.000000</td>\n",
       "      <td>5000.000000</td>\n",
       "      <td>5.000000e+03</td>\n",
       "      <td>5000.000000</td>\n",
       "      <td>5000.000000</td>\n",
       "      <td>5000.000000</td>\n",
       "      <td>5000.000000</td>\n",
       "      <td>2115.000000</td>\n",
       "      <td>2115.000000</td>\n",
       "      <td>5000.000000</td>\n",
       "      <td>5000.000000</td>\n",
       "      <td>5000.000000</td>\n",
       "      <td>5000.000000</td>\n",
       "      <td>5.000000e+03</td>\n",
       "      <td>5000.000000</td>\n",
       "      <td>5000.000000</td>\n",
       "    </tr>\n",
       "    <tr>\n",
       "      <th>mean</th>\n",
       "      <td>0.424200</td>\n",
       "      <td>1.326200</td>\n",
       "      <td>12783.029600</td>\n",
       "      <td>3.498557e+04</td>\n",
       "      <td>19.977800</td>\n",
       "      <td>2.099400</td>\n",
       "      <td>32.007400</td>\n",
       "      <td>11938.534400</td>\n",
       "      <td>39.237138</td>\n",
       "      <td>-36.995743</td>\n",
       "      <td>264248.616000</td>\n",
       "      <td>0.033600</td>\n",
       "      <td>278.516600</td>\n",
       "      <td>3.063800</td>\n",
       "      <td>3.690291e+03</td>\n",
       "      <td>2394.281200</td>\n",
       "      <td>8.237000</td>\n",
       "    </tr>\n",
       "    <tr>\n",
       "      <th>std</th>\n",
       "      <td>2.639403</td>\n",
       "      <td>3.455052</td>\n",
       "      <td>6325.693078</td>\n",
       "      <td>1.758514e+05</td>\n",
       "      <td>40.000046</td>\n",
       "      <td>6.820852</td>\n",
       "      <td>105.984695</td>\n",
       "      <td>6900.847278</td>\n",
       "      <td>19.606598</td>\n",
       "      <td>66.444585</td>\n",
       "      <td>67765.834004</td>\n",
       "      <td>0.306741</td>\n",
       "      <td>297.209732</td>\n",
       "      <td>12.507414</td>\n",
       "      <td>2.226234e+04</td>\n",
       "      <td>9151.499846</td>\n",
       "      <td>14.672569</td>\n",
       "    </tr>\n",
       "    <tr>\n",
       "      <th>min</th>\n",
       "      <td>-1.000000</td>\n",
       "      <td>-1.000000</td>\n",
       "      <td>-1.000000</td>\n",
       "      <td>-1.000000e+00</td>\n",
       "      <td>-1.000000</td>\n",
       "      <td>-1.000000</td>\n",
       "      <td>-1.000000</td>\n",
       "      <td>1.000000</td>\n",
       "      <td>-45.878760</td>\n",
       "      <td>-156.331925</td>\n",
       "      <td>-1.000000</td>\n",
       "      <td>0.000000</td>\n",
       "      <td>1.000000</td>\n",
       "      <td>0.000000</td>\n",
       "      <td>4.000000e+00</td>\n",
       "      <td>2.000000</td>\n",
       "      <td>0.000000</td>\n",
       "    </tr>\n",
       "    <tr>\n",
       "      <th>25%</th>\n",
       "      <td>0.000000</td>\n",
       "      <td>0.000000</td>\n",
       "      <td>7729.750000</td>\n",
       "      <td>3.343250e+03</td>\n",
       "      <td>7.000000</td>\n",
       "      <td>0.000000</td>\n",
       "      <td>1.000000</td>\n",
       "      <td>6323.750000</td>\n",
       "      <td>39.271398</td>\n",
       "      <td>-79.385324</td>\n",
       "      <td>196190.250000</td>\n",
       "      <td>0.000000</td>\n",
       "      <td>151.000000</td>\n",
       "      <td>0.000000</td>\n",
       "      <td>5.767500e+02</td>\n",
       "      <td>270.000000</td>\n",
       "      <td>2.000000</td>\n",
       "    </tr>\n",
       "    <tr>\n",
       "      <th>50%</th>\n",
       "      <td>0.000000</td>\n",
       "      <td>0.000000</td>\n",
       "      <td>13320.000000</td>\n",
       "      <td>8.931000e+03</td>\n",
       "      <td>11.000000</td>\n",
       "      <td>0.000000</td>\n",
       "      <td>5.000000</td>\n",
       "      <td>12094.000000</td>\n",
       "      <td>41.515476</td>\n",
       "      <td>-73.326524</td>\n",
       "      <td>319720.000000</td>\n",
       "      <td>0.000000</td>\n",
       "      <td>218.000000</td>\n",
       "      <td>1.000000</td>\n",
       "      <td>1.266000e+03</td>\n",
       "      <td>725.000000</td>\n",
       "      <td>5.000000</td>\n",
       "    </tr>\n",
       "    <tr>\n",
       "      <th>75%</th>\n",
       "      <td>0.000000</td>\n",
       "      <td>1.000000</td>\n",
       "      <td>18193.500000</td>\n",
       "      <td>2.391900e+04</td>\n",
       "      <td>18.000000</td>\n",
       "      <td>1.000000</td>\n",
       "      <td>17.000000</td>\n",
       "      <td>17784.000000</td>\n",
       "      <td>48.872076</td>\n",
       "      <td>4.476770</td>\n",
       "      <td>320000.000000</td>\n",
       "      <td>0.000000</td>\n",
       "      <td>304.000000</td>\n",
       "      <td>3.000000</td>\n",
       "      <td>3.075250e+03</td>\n",
       "      <td>1983.250000</td>\n",
       "      <td>9.000000</td>\n",
       "    </tr>\n",
       "    <tr>\n",
       "      <th>max</th>\n",
       "      <td>53.000000</td>\n",
       "      <td>61.000000</td>\n",
       "      <td>22917.000000</td>\n",
       "      <td>3.564243e+06</td>\n",
       "      <td>652.000000</td>\n",
       "      <td>79.000000</td>\n",
       "      <td>963.000000</td>\n",
       "      <td>24349.000000</td>\n",
       "      <td>65.010300</td>\n",
       "      <td>174.885971</td>\n",
       "      <td>333035.000000</td>\n",
       "      <td>11.000000</td>\n",
       "      <td>3710.000000</td>\n",
       "      <td>599.000000</td>\n",
       "      <td>1.314156e+06</td>\n",
       "      <td>429168.000000</td>\n",
       "      <td>255.000000</td>\n",
       "    </tr>\n",
       "  </tbody>\n",
       "</table>\n",
       "</div>"
      ],
      "text/plain": [
       "       album_comments  album_favorites      album_id  album_listens  \\\n",
       "count     5000.000000      5000.000000   5000.000000   5.000000e+03   \n",
       "mean         0.424200         1.326200  12783.029600   3.498557e+04   \n",
       "std          2.639403         3.455052   6325.693078   1.758514e+05   \n",
       "min         -1.000000        -1.000000     -1.000000  -1.000000e+00   \n",
       "25%          0.000000         0.000000   7729.750000   3.343250e+03   \n",
       "50%          0.000000         0.000000  13320.000000   8.931000e+03   \n",
       "75%          0.000000         1.000000  18193.500000   2.391900e+04   \n",
       "max         53.000000        61.000000  22917.000000   3.564243e+06   \n",
       "\n",
       "       album_tracks  artist_comments  artist_favorites     artist_id  \\\n",
       "count   5000.000000      5000.000000       5000.000000   5000.000000   \n",
       "mean      19.977800         2.099400         32.007400  11938.534400   \n",
       "std       40.000046         6.820852        105.984695   6900.847278   \n",
       "min       -1.000000        -1.000000         -1.000000      1.000000   \n",
       "25%        7.000000         0.000000          1.000000   6323.750000   \n",
       "50%       11.000000         0.000000          5.000000  12094.000000   \n",
       "75%       18.000000         1.000000         17.000000  17784.000000   \n",
       "max      652.000000        79.000000        963.000000  24349.000000   \n",
       "\n",
       "       artist_latitude  artist_longitude  track_bit_rate  track_comments  \\\n",
       "count      2115.000000       2115.000000     5000.000000     5000.000000   \n",
       "mean         39.237138        -36.995743   264248.616000        0.033600   \n",
       "std          19.606598         66.444585    67765.834004        0.306741   \n",
       "min         -45.878760       -156.331925       -1.000000        0.000000   \n",
       "25%          39.271398        -79.385324   196190.250000        0.000000   \n",
       "50%          41.515476        -73.326524   319720.000000        0.000000   \n",
       "75%          48.872076          4.476770   320000.000000        0.000000   \n",
       "max          65.010300        174.885971   333035.000000       11.000000   \n",
       "\n",
       "       track_duration  track_favorites  track_interest  track_listens  \\\n",
       "count     5000.000000      5000.000000    5.000000e+03    5000.000000   \n",
       "mean       278.516600         3.063800    3.690291e+03    2394.281200   \n",
       "std        297.209732        12.507414    2.226234e+04    9151.499846   \n",
       "min          1.000000         0.000000    4.000000e+00       2.000000   \n",
       "25%        151.000000         0.000000    5.767500e+02     270.000000   \n",
       "50%        218.000000         1.000000    1.266000e+03     725.000000   \n",
       "75%        304.000000         3.000000    3.075250e+03    1983.250000   \n",
       "max       3710.000000       599.000000    1.314156e+06  429168.000000   \n",
       "\n",
       "       track_number  \n",
       "count   5000.000000  \n",
       "mean       8.237000  \n",
       "std       14.672569  \n",
       "min        0.000000  \n",
       "25%        2.000000  \n",
       "50%        5.000000  \n",
       "75%        9.000000  \n",
       "max      255.000000  "
      ]
     },
     "execution_count": 335,
     "metadata": {},
     "output_type": "execute_result"
    }
   ],
   "source": [
    "df.describe(include='number')"
   ]
  },
  {
   "cell_type": "code",
   "execution_count": 336,
   "metadata": {},
   "outputs": [
    {
     "data": {
      "text/html": [
       "<div>\n",
       "<style scoped>\n",
       "    .dataframe tbody tr th:only-of-type {\n",
       "        vertical-align: middle;\n",
       "    }\n",
       "\n",
       "    .dataframe tbody tr th {\n",
       "        vertical-align: top;\n",
       "    }\n",
       "\n",
       "    .dataframe thead th {\n",
       "        text-align: right;\n",
       "    }\n",
       "</style>\n",
       "<table border=\"1\" class=\"dataframe\">\n",
       "  <thead>\n",
       "    <tr style=\"text-align: right;\">\n",
       "      <th></th>\n",
       "      <th>album_date_created</th>\n",
       "      <th>album_date_released</th>\n",
       "      <th>album_engineer</th>\n",
       "      <th>album_information</th>\n",
       "      <th>album_producer</th>\n",
       "      <th>album_tags</th>\n",
       "      <th>album_title</th>\n",
       "      <th>album_type</th>\n",
       "      <th>artist_active_year_begin</th>\n",
       "      <th>artist_active_year_end</th>\n",
       "      <th>artist_associated_labels</th>\n",
       "      <th>artist_bio</th>\n",
       "      <th>artist_date_created</th>\n",
       "      <th>artist_location</th>\n",
       "      <th>artist_members</th>\n",
       "      <th>artist_name</th>\n",
       "      <th>artist_related_projects</th>\n",
       "      <th>artist_tags</th>\n",
       "      <th>artist_website</th>\n",
       "      <th>artist_wikipedia_page</th>\n",
       "      <th>set_split</th>\n",
       "      <th>set_subset</th>\n",
       "      <th>track_composer</th>\n",
       "      <th>track_date_created</th>\n",
       "      <th>track_date_recorded</th>\n",
       "      <th>track_genre_top</th>\n",
       "      <th>track_genres</th>\n",
       "      <th>track_genres_all</th>\n",
       "      <th>track_information</th>\n",
       "      <th>track_language_code</th>\n",
       "      <th>track_license</th>\n",
       "      <th>track_lyricist</th>\n",
       "      <th>track_publisher</th>\n",
       "      <th>track_tags</th>\n",
       "      <th>track_title</th>\n",
       "    </tr>\n",
       "  </thead>\n",
       "  <tbody>\n",
       "    <tr>\n",
       "      <th>count</th>\n",
       "      <td>4844</td>\n",
       "      <td>3290</td>\n",
       "      <td>689</td>\n",
       "      <td>3888</td>\n",
       "      <td>811</td>\n",
       "      <td>5000</td>\n",
       "      <td>4953</td>\n",
       "      <td>4710</td>\n",
       "      <td>1051</td>\n",
       "      <td>232</td>\n",
       "      <td>704</td>\n",
       "      <td>3368</td>\n",
       "      <td>4968</td>\n",
       "      <td>3314</td>\n",
       "      <td>2202</td>\n",
       "      <td>5000</td>\n",
       "      <td>624</td>\n",
       "      <td>5000</td>\n",
       "      <td>3693</td>\n",
       "      <td>255</td>\n",
       "      <td>5000</td>\n",
       "      <td>5000</td>\n",
       "      <td>177</td>\n",
       "      <td>5000</td>\n",
       "      <td>312</td>\n",
       "      <td>2309</td>\n",
       "      <td>5000</td>\n",
       "      <td>5000</td>\n",
       "      <td>122</td>\n",
       "      <td>710</td>\n",
       "      <td>4996</td>\n",
       "      <td>19</td>\n",
       "      <td>54</td>\n",
       "      <td>5000</td>\n",
       "      <td>5000</td>\n",
       "    </tr>\n",
       "    <tr>\n",
       "      <th>unique</th>\n",
       "      <td>3621</td>\n",
       "      <td>1725</td>\n",
       "      <td>242</td>\n",
       "      <td>2941</td>\n",
       "      <td>273</td>\n",
       "      <td>742</td>\n",
       "      <td>3730</td>\n",
       "      <td>4</td>\n",
       "      <td>52</td>\n",
       "      <td>35</td>\n",
       "      <td>281</td>\n",
       "      <td>1883</td>\n",
       "      <td>2918</td>\n",
       "      <td>985</td>\n",
       "      <td>1286</td>\n",
       "      <td>3104</td>\n",
       "      <td>278</td>\n",
       "      <td>3013</td>\n",
       "      <td>2038</td>\n",
       "      <td>136</td>\n",
       "      <td>3</td>\n",
       "      <td>3</td>\n",
       "      <td>87</td>\n",
       "      <td>4153</td>\n",
       "      <td>176</td>\n",
       "      <td>16</td>\n",
       "      <td>1708</td>\n",
       "      <td>1519</td>\n",
       "      <td>109</td>\n",
       "      <td>13</td>\n",
       "      <td>66</td>\n",
       "      <td>14</td>\n",
       "      <td>23</td>\n",
       "      <td>755</td>\n",
       "      <td>4917</td>\n",
       "    </tr>\n",
       "    <tr>\n",
       "      <th>top</th>\n",
       "      <td>12/4/2008 9:27</td>\n",
       "      <td>1/1/2009 0:00</td>\n",
       "      <td>Ernie Indradat</td>\n",
       "      <td>&lt;p&gt;Now you will be able to hear this unique an...</td>\n",
       "      <td>Terre T</td>\n",
       "      <td>[]</td>\n",
       "      <td>The Conet Project</td>\n",
       "      <td>Album</td>\n",
       "      <td>1/1/2007 0:00</td>\n",
       "      <td>1/1/2014 0:00</td>\n",
       "      <td>Care in the Community Recordings, Gagarin Reco...</td>\n",
       "      <td>&lt;p&gt;&lt;span style=\"color: #333333; font-family: G...</td>\n",
       "      <td>12/4/2008 9:23</td>\n",
       "      <td>Brooklyn, NY</td>\n",
       "      <td>Konstantin Trokay</td>\n",
       "      <td>Kosta T</td>\n",
       "      <td>Ratatat, Lullatone, Nightmares On Wax, Air, Mo...</td>\n",
       "      <td>[]</td>\n",
       "      <td>https://soundcloud.com/konstantin-trokay</td>\n",
       "      <td>http://translate.google.com/translate?hl=en&amp;am...</td>\n",
       "      <td>training</td>\n",
       "      <td>large</td>\n",
       "      <td>konstantin trokai</td>\n",
       "      <td>4/5/2013 20:29</td>\n",
       "      <td>11/26/2008 0:00</td>\n",
       "      <td>Rock</td>\n",
       "      <td>[21]</td>\n",
       "      <td>[21]</td>\n",
       "      <td>&lt;p&gt;&lt;span style=\"font-family: Verdana,Geneva,Ar...</td>\n",
       "      <td>en</td>\n",
       "      <td>Attribution-Noncommercial-Share Alike 3.0 Unit...</td>\n",
       "      <td>Wayne Myers</td>\n",
       "      <td>Victrola Dog (ASCAP)</td>\n",
       "      <td>[]</td>\n",
       "      <td>Untitled</td>\n",
       "    </tr>\n",
       "    <tr>\n",
       "      <th>freq</th>\n",
       "      <td>32</td>\n",
       "      <td>25</td>\n",
       "      <td>47</td>\n",
       "      <td>13</td>\n",
       "      <td>40</td>\n",
       "      <td>3898</td>\n",
       "      <td>13</td>\n",
       "      <td>4113</td>\n",
       "      <td>93</td>\n",
       "      <td>26</td>\n",
       "      <td>31</td>\n",
       "      <td>38</td>\n",
       "      <td>40</td>\n",
       "      <td>107</td>\n",
       "      <td>38</td>\n",
       "      <td>38</td>\n",
       "      <td>30</td>\n",
       "      <td>133</td>\n",
       "      <td>38</td>\n",
       "      <td>11</td>\n",
       "      <td>3961</td>\n",
       "      <td>3853</td>\n",
       "      <td>25</td>\n",
       "      <td>6</td>\n",
       "      <td>46</td>\n",
       "      <td>665</td>\n",
       "      <td>147</td>\n",
       "      <td>147</td>\n",
       "      <td>3</td>\n",
       "      <td>674</td>\n",
       "      <td>899</td>\n",
       "      <td>5</td>\n",
       "      <td>19</td>\n",
       "      <td>3879</td>\n",
       "      <td>14</td>\n",
       "    </tr>\n",
       "  </tbody>\n",
       "</table>\n",
       "</div>"
      ],
      "text/plain": [
       "       album_date_created album_date_released  album_engineer  \\\n",
       "count                4844                3290             689   \n",
       "unique               3621                1725             242   \n",
       "top        12/4/2008 9:27       1/1/2009 0:00  Ernie Indradat   \n",
       "freq                   32                  25              47   \n",
       "\n",
       "                                        album_information album_producer  \\\n",
       "count                                                3888            811   \n",
       "unique                                               2941            273   \n",
       "top     <p>Now you will be able to hear this unique an...        Terre T   \n",
       "freq                                                   13             40   \n",
       "\n",
       "       album_tags        album_title album_type artist_active_year_begin  \\\n",
       "count        5000               4953       4710                     1051   \n",
       "unique        742               3730          4                       52   \n",
       "top            []  The Conet Project      Album            1/1/2007 0:00   \n",
       "freq         3898                 13       4113                       93   \n",
       "\n",
       "       artist_active_year_end  \\\n",
       "count                     232   \n",
       "unique                     35   \n",
       "top             1/1/2014 0:00   \n",
       "freq                       26   \n",
       "\n",
       "                                 artist_associated_labels  \\\n",
       "count                                                 704   \n",
       "unique                                                281   \n",
       "top     Care in the Community Recordings, Gagarin Reco...   \n",
       "freq                                                   31   \n",
       "\n",
       "                                               artist_bio artist_date_created  \\\n",
       "count                                                3368                4968   \n",
       "unique                                               1883                2918   \n",
       "top     <p><span style=\"color: #333333; font-family: G...      12/4/2008 9:23   \n",
       "freq                                                   38                  40   \n",
       "\n",
       "       artist_location     artist_members artist_name  \\\n",
       "count             3314               2202        5000   \n",
       "unique             985               1286        3104   \n",
       "top       Brooklyn, NY  Konstantin Trokay     Kosta T   \n",
       "freq               107                 38          38   \n",
       "\n",
       "                                  artist_related_projects artist_tags  \\\n",
       "count                                                 624        5000   \n",
       "unique                                                278        3013   \n",
       "top     Ratatat, Lullatone, Nightmares On Wax, Air, Mo...          []   \n",
       "freq                                                   30         133   \n",
       "\n",
       "                                  artist_website  \\\n",
       "count                                       3693   \n",
       "unique                                      2038   \n",
       "top     https://soundcloud.com/konstantin-trokay   \n",
       "freq                                          38   \n",
       "\n",
       "                                    artist_wikipedia_page set_split  \\\n",
       "count                                                 255      5000   \n",
       "unique                                                136         3   \n",
       "top     http://translate.google.com/translate?hl=en&am...  training   \n",
       "freq                                                   11      3961   \n",
       "\n",
       "       set_subset     track_composer track_date_created track_date_recorded  \\\n",
       "count        5000                177               5000                 312   \n",
       "unique          3                 87               4153                 176   \n",
       "top         large  konstantin trokai     4/5/2013 20:29     11/26/2008 0:00   \n",
       "freq         3853                 25                  6                  46   \n",
       "\n",
       "       track_genre_top track_genres track_genres_all  \\\n",
       "count             2309         5000             5000   \n",
       "unique              16         1708             1519   \n",
       "top               Rock         [21]             [21]   \n",
       "freq               665          147              147   \n",
       "\n",
       "                                        track_information track_language_code  \\\n",
       "count                                                 122                 710   \n",
       "unique                                                109                  13   \n",
       "top     <p><span style=\"font-family: Verdana,Geneva,Ar...                  en   \n",
       "freq                                                    3                 674   \n",
       "\n",
       "                                            track_license track_lyricist  \\\n",
       "count                                                4996             19   \n",
       "unique                                                 66             14   \n",
       "top     Attribution-Noncommercial-Share Alike 3.0 Unit...    Wayne Myers   \n",
       "freq                                                  899              5   \n",
       "\n",
       "             track_publisher track_tags track_title  \n",
       "count                     54       5000        5000  \n",
       "unique                    23        755        4917  \n",
       "top     Victrola Dog (ASCAP)         []    Untitled  \n",
       "freq                      19       3879          14  "
      ]
     },
     "execution_count": 336,
     "metadata": {},
     "output_type": "execute_result"
    }
   ],
   "source": [
    "df.describe(exclude='number')"
   ]
  },
  {
   "cell_type": "code",
   "execution_count": 337,
   "metadata": {},
   "outputs": [
    {
     "data": {
      "text/plain": [
       "Index(['album_comments', 'album_date_created', 'album_date_released',\n",
       "       'album_engineer', 'album_favorites', 'album_id', 'album_information',\n",
       "       'album_listens', 'album_producer', 'album_tags', 'album_title',\n",
       "       'album_tracks', 'album_type', 'artist_active_year_begin',\n",
       "       'artist_active_year_end', 'artist_associated_labels', 'artist_bio',\n",
       "       'artist_comments', 'artist_date_created', 'artist_favorites',\n",
       "       'artist_id', 'artist_latitude', 'artist_location', 'artist_longitude',\n",
       "       'artist_members', 'artist_name', 'artist_related_projects',\n",
       "       'artist_tags', 'artist_website', 'artist_wikipedia_page', 'set_split',\n",
       "       'set_subset', 'track_bit_rate', 'track_comments', 'track_composer',\n",
       "       'track_date_created', 'track_date_recorded', 'track_duration',\n",
       "       'track_favorites', 'track_genre_top', 'track_genres',\n",
       "       'track_genres_all', 'track_information', 'track_interest',\n",
       "       'track_language_code', 'track_license', 'track_listens',\n",
       "       'track_lyricist', 'track_number', 'track_publisher', 'track_tags',\n",
       "       'track_title'],\n",
       "      dtype='object')"
      ]
     },
     "execution_count": 337,
     "metadata": {},
     "output_type": "execute_result"
    }
   ],
   "source": [
    "df.columns"
   ]
  },
  {
   "cell_type": "markdown",
   "metadata": {},
   "source": [
    "### Data Cleaning"
   ]
  },
  {
   "cell_type": "code",
   "execution_count": 338,
   "metadata": {},
   "outputs": [
    {
     "name": "stdout",
     "output_type": "stream",
     "text": [
      "0\n"
     ]
    }
   ],
   "source": [
    "# Drop rows with NaN values in target column\n",
    "df = df.dropna(subset=['track_genre_top'])\n",
    "print(df['track_genre_top'].isnull().sum())"
   ]
  },
  {
   "cell_type": "code",
   "execution_count": 339,
   "metadata": {},
   "outputs": [
    {
     "data": {
      "text/plain": [
       "(2309, 52)"
      ]
     },
     "execution_count": 339,
     "metadata": {},
     "output_type": "execute_result"
    }
   ],
   "source": [
    "df.shape"
   ]
  },
  {
   "cell_type": "code",
   "execution_count": 340,
   "metadata": {},
   "outputs": [
    {
     "data": {
      "text/plain": [
       "((2309, 17), (2309,))"
      ]
     },
     "execution_count": 340,
     "metadata": {},
     "output_type": "execute_result"
    }
   ],
   "source": [
    "# Separate the target from the features\n",
    "target = 'track_genre_top'\n",
    "features = ['album_comments', 'album_favorites', 'album_id', 'album_listens', 'album_tracks', 'artist_comments', \n",
    "            'artist_favorites', 'artist_id', 'artist_latitude', 'artist_longitude', 'track_bit_rate', 'track_comments', \n",
    "            'track_duration', 'track_favorites', 'track_interest', 'track_listens', 'track_number']\n",
    "\n",
    "X = df[features]\n",
    "y = df[target]\n",
    "\n",
    "X.shape, y.shape"
   ]
  },
  {
   "cell_type": "code",
   "execution_count": 341,
   "metadata": {},
   "outputs": [
    {
     "data": {
      "text/plain": [
       "((1847, 17), (1847,), (462, 17), (462,))"
      ]
     },
     "execution_count": 341,
     "metadata": {},
     "output_type": "execute_result"
    }
   ],
   "source": [
    "from sklearn.model_selection import train_test_split\n",
    "\n",
    "# Split the data\n",
    "X_train, X_test, y_train, y_test = train_test_split(X, y, test_size=0.2, random_state=42)\n",
    "\n",
    "X_train.shape, y_train.shape, X_test.shape, y_test.shape"
   ]
  },
  {
   "cell_type": "code",
   "execution_count": 342,
   "metadata": {},
   "outputs": [],
   "source": [
    "# Impute missing values\n",
    "imputer = SimpleImputer()\n",
    "X_train_imputed = imputer.fit_transform(X_train)\n",
    "X_test_imputed = imputer.transform(X_test)"
   ]
  },
  {
   "cell_type": "markdown",
   "metadata": {
    "colab_type": "text",
    "id": "FrP-JyKQ5eoB"
   },
   "source": [
    "### Fit Logistic Regression!"
   ]
  },
  {
   "cell_type": "code",
   "execution_count": 343,
   "metadata": {},
   "outputs": [
    {
     "name": "stderr",
     "output_type": "stream",
     "text": [
      "C:\\Users\\theta\\Anaconda3\\lib\\site-packages\\sklearn\\linear_model\\logistic.py:758: ConvergenceWarning: lbfgs failed to converge. Increase the number of iterations.\n",
      "  \"of iterations.\", ConvergenceWarning)\n"
     ]
    },
    {
     "data": {
      "text/plain": [
       "LogisticRegression(C=1.0, class_weight=None, dual=False, fit_intercept=True,\n",
       "          intercept_scaling=1, max_iter=1000, multi_class='multinomial',\n",
       "          n_jobs=None, penalty='l2', random_state=None, solver='lbfgs',\n",
       "          tol=0.0001, verbose=0, warm_start=False)"
      ]
     },
     "execution_count": 343,
     "metadata": {},
     "output_type": "execute_result"
    }
   ],
   "source": [
    "# Fit the model\n",
    "model = LogisticRegression(solver='lbfgs', multi_class='multinomial', max_iter=1000)\n",
    "model.fit(X_train_imputed, y_train)"
   ]
  },
  {
   "cell_type": "code",
   "execution_count": 344,
   "metadata": {},
   "outputs": [
    {
     "name": "stdout",
     "output_type": "stream",
     "text": [
      "Train Accuracy Score: 0.3638332430969139\n",
      "Test Accuracy Score: 0.329004329004329\n"
     ]
    }
   ],
   "source": [
    "# Accuracy scores\n",
    "train_score = model.score(X_train_imputed, y_train)\n",
    "print('Train Accuracy Score:', train_score)\n",
    "\n",
    "test_score = model.score(X_test_imputed, y_test)\n",
    "print('Test Accuracy Score:', test_score)"
   ]
  },
  {
   "cell_type": "markdown",
   "metadata": {},
   "source": [
    "### Improve Model"
   ]
  },
  {
   "cell_type": "code",
   "execution_count": 345,
   "metadata": {},
   "outputs": [
    {
     "data": {
      "text/plain": [
       "Index(['album_comments', 'album_favorites', 'album_id', 'album_listens',\n",
       "       'album_tracks', 'artist_comments', 'artist_favorites', 'artist_id',\n",
       "       'artist_latitude', 'artist_longitude', 'track_bit_rate',\n",
       "       'track_comments', 'track_duration', 'track_favorites', 'track_interest',\n",
       "       'track_listens', 'track_number'],\n",
       "      dtype='object')"
      ]
     },
     "execution_count": 345,
     "metadata": {},
     "output_type": "execute_result"
    }
   ],
   "source": [
    "df.select_dtypes(include='number').columns"
   ]
  },
  {
   "cell_type": "code",
   "execution_count": 404,
   "metadata": {},
   "outputs": [],
   "source": [
    "# Separate the target and features\n",
    "new_target = 'track_genre_top'\n",
    "new_features = ['album_comments', 'album_favorites', 'album_listens', 'album_tracks',\n",
    "                'artist_latitude', 'artist_longitude', 'track_comments', 'track_duration', \n",
    "                'track_favorites', 'track_number']\n",
    "\n",
    "X = df[new_features]\n",
    "y = df[new_target]\n",
    "\n",
    "# Split the data\n",
    "X_train, X_test, y_train, y_test = train_test_split(X, y, test_size=0.2, random_state=42)"
   ]
  },
  {
   "cell_type": "code",
   "execution_count": 405,
   "metadata": {},
   "outputs": [],
   "source": [
    "# Impute missing values\n",
    "imputer = SimpleImputer()\n",
    "X_train_imputed = imputer.fit_transform(X_train)\n",
    "X_test_imputed = imputer.transform(X_test)"
   ]
  },
  {
   "cell_type": "code",
   "execution_count": 406,
   "metadata": {},
   "outputs": [
    {
     "name": "stdout",
     "output_type": "stream",
     "text": [
      "Train Accuracy Score: 0.376285868976719\n",
      "Test Accuracy Score: 0.36363636363636365\n"
     ]
    },
    {
     "name": "stderr",
     "output_type": "stream",
     "text": [
      "C:\\Users\\theta\\Anaconda3\\lib\\site-packages\\sklearn\\linear_model\\logistic.py:758: ConvergenceWarning: lbfgs failed to converge. Increase the number of iterations.\n",
      "  \"of iterations.\", ConvergenceWarning)\n"
     ]
    }
   ],
   "source": [
    "# Fit the model\n",
    "model2 = LogisticRegression(solver='lbfgs', multi_class='multinomial', max_iter=1000)\n",
    "model2.fit(X_train_imputed, y_train)\n",
    "\n",
    "# Accuracy scores\n",
    "train_score = model2.score(X_train_imputed, y_train)\n",
    "print('Train Accuracy Score:', train_score)\n",
    "\n",
    "test_score = model2.score(X_test_imputed, y_test)\n",
    "print('Test Accuracy Score:', test_score)"
   ]
  },
  {
   "cell_type": "markdown",
   "metadata": {},
   "source": [
    "### Analysis"
   ]
  },
  {
   "cell_type": "markdown",
   "metadata": {},
   "source": [
    "**What are the best predictors of genre?**\n",
    "\n",
    "- The best predictors were album_comments, album_favorites, album_listens, album_tracks, artist_latitude, artist_longitude, track_comments, track_duration, track_favorites, and track_number. It was interesting that removing all of the artist predictors (except for longitude and latitude) made the score go up. If there had been more values, location might have been a good categorical variable to encode. I would have needed to drop the NaN values for location, since there's really no way to deal with them, but that would have significantly reduced my observations.\n",
    "\n",
    "**What information isn't very useful for predicting genre?**\n",
    "\n",
    "- I thought the tags might be nice to encode, but most of them were empty lists. As far as the numerical data, the album id, artist id, and track listens were not useful. \n",
    "\n",
    "**What surprised you the most about your results?**\n",
    "\n",
    "- It was really difficult to improve the test score. I was also surprised that improving the test score usually lowered the train score."
   ]
  },
  {
   "cell_type": "markdown",
   "metadata": {
    "colab_type": "text",
    "id": "kQUVlUKQMPPW"
   },
   "source": [
    "This dataset is bigger than many you've worked with so far, and while it should fit in Colab, it can take awhile to run. That's part of the challenge!\n",
    "\n",
    "Your tasks:\n",
    "- Clean up the variable names in the dataframe\n",
    "- Use logistic regression to fit a model predicting (primary/top) genre\n",
    "- Inspect, iterate, and improve your model\n",
    "- Answer the following questions (written, ~paragraph each):\n",
    "  - What are the best predictors of genre?\n",
    "  - What information isn't very useful for predicting genre?\n",
    "  - What surprised you the most about your results?\n",
    "\n",
    "*Important caveats*:\n",
    "- This is going to be difficult data to work with - don't let the perfect be the enemy of the good!\n",
    "- Be creative in cleaning it up - if the best way you know how to do it is download it locally and edit as a spreadsheet, that's OK!\n",
    "- If the data size becomes problematic, consider sampling/subsetting, or [downcasting numeric datatypes](https://www.dataquest.io/blog/pandas-big-data/).\n",
    "- You do not need perfect or complete results - just something plausible that runs, and that supports the reasoning in your written answers\n",
    "\n",
    "If you find that fitting a model to classify *all* genres isn't very good, it's totally OK to limit to the most frequent genres, or perhaps trying to combine or cluster genres as a preprocessing step. Even then, there will be limits to how good a model can be with just this metadata - if you really want to train an effective genre classifier, you'll have to involve the other data (see stretch goals).\n",
    "\n",
    "This is real data - there is no \"one correct answer\", so you can take this in a variety of directions. Just make sure to support your findings, and feel free to share them as well! This is meant to be practice for dealing with other \"messy\" data, a common task in data science."
   ]
  },
  {
   "cell_type": "markdown",
   "metadata": {
    "colab_type": "text",
    "id": "wlI5OXfSag9C"
   },
   "source": [
    "## Resources and stretch goals\n",
    "\n",
    "- Check out the other .csv files from the FMA dataset, and see if you can join them or otherwise fit interesting models with them\n",
    "- [Logistic regression from scratch in numpy](https://blog.goodaudience.com/logistic-regression-from-scratch-in-numpy-5841c09e425f) - if you want to dig in a bit more to both the code and math (also takes a gradient descent approach, introducing the logistic loss function)\n",
    "- Create a visualization to show predictions of your model - ideally show a confidence interval based on error!\n",
    "- Check out and compare classification models from scikit-learn, such as [SVM](https://scikit-learn.org/stable/modules/svm.html#classification), [decision trees](https://scikit-learn.org/stable/modules/tree.html#classification), and [naive Bayes](https://scikit-learn.org/stable/modules/naive_bayes.html). The underlying math will vary significantly, but the API (how you write the code) and interpretation will actually be fairly similar.\n",
    "- Sign up for [Kaggle](https://kaggle.com), and find a competition to try logistic regression with\n",
    "- (Not logistic regression related) If you enjoyed the assignment, you may want to read up on [music informatics](https://en.wikipedia.org/wiki/Music_informatics), which is how those audio features were actually calculated. The FMA includes the actual raw audio, so (while this is more of a longterm project than a stretch goal, and won't fit in Colab) if you'd like you can check those out and see what sort of deeper analysis you can do."
   ]
  }
 ],
 "metadata": {
  "colab": {
   "name": "LS_DS_231_Logistic_Regression.ipynb",
   "provenance": [],
   "version": "0.3.2"
  },
  "kernelspec": {
   "display_name": "lambda",
   "language": "python",
   "name": "lambda"
  },
  "language_info": {
   "codemirror_mode": {
    "name": "ipython",
    "version": 3
   },
   "file_extension": ".py",
   "mimetype": "text/x-python",
   "name": "python",
   "nbconvert_exporter": "python",
   "pygments_lexer": "ipython3",
   "version": "3.7.3"
  }
 },
 "nbformat": 4,
 "nbformat_minor": 1
}
