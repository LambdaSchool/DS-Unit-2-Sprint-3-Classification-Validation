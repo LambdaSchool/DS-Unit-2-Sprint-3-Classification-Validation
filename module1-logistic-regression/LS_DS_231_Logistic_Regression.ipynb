{
  "nbformat": 4,
  "nbformat_minor": 0,
  "metadata": {
    "colab": {
      "name": "LS_DS_231_Logistic_Regression.ipynb",
      "version": "0.3.2",
      "provenance": [],
      "include_colab_link": true
    },
    "language_info": {
      "codemirror_mode": {
        "name": "ipython",
        "version": 3
      },
      "file_extension": ".py",
      "mimetype": "text/x-python",
      "name": "python",
      "nbconvert_exporter": "python",
      "pygments_lexer": "ipython3",
      "version": "3.7.1"
    },
    "kernelspec": {
      "display_name": "Python 3",
      "language": "python",
      "name": "python3"
    }
  },
  "cells": [
    {
      "cell_type": "markdown",
      "metadata": {
        "id": "view-in-github",
        "colab_type": "text"
      },
      "source": [
        "<a href=\"https://colab.research.google.com/github/livjab/DS-Unit-2-Sprint-3-Classification-Validation/blob/master/module1-logistic-regression/LS_DS_231_Logistic_Regression.ipynb\" target=\"_parent\"><img src=\"https://colab.research.google.com/assets/colab-badge.svg\" alt=\"Open In Colab\"/></a>"
      ]
    },
    {
      "cell_type": "markdown",
      "metadata": {
        "colab_type": "text",
        "id": "N7SXF6jEBd5_"
      },
      "source": [
        "# Lambda School Data Science - Logistic Regression\n",
        "\n",
        "Logistic regression is the baseline for classification models, as well as a handy way to predict probabilities (since those too live in the unit interval). While relatively simple, it is also the foundation for more sophisticated classification techniques such as neural networks (many of which can effectively be thought of as networks of logistic models)."
      ]
    },
    {
      "cell_type": "markdown",
      "metadata": {
        "colab_type": "text",
        "id": "E7-AOngjadRN"
      },
      "source": [
        "## Lecture - Where Linear goes Wrong\n",
        "### Return of the Titanic 🚢\n",
        "\n",
        "You've likely already explored the rich dataset that is the Titanic - let's use regression and try to predict survival with it. The data is [available from Kaggle](https://www.kaggle.com/c/titanic/data), so we'll also play a bit with [the Kaggle API](https://github.com/Kaggle/kaggle-api)."
      ]
    },
    {
      "cell_type": "markdown",
      "metadata": {
        "id": "z5rmklQp9gWO",
        "colab_type": "text"
      },
      "source": [
        "### Get data, option 1: Kaggle API\n",
        "\n",
        "#### Sign up for Kaggle and get an API token\n",
        "1. [Sign up for a Kaggle account](https://www.kaggle.com/), if you don’t already have one. \n",
        "2. [Follow these instructions](https://github.com/Kaggle/kaggle-api#api-credentials) to create a Kaggle “API Token” and download your `kaggle.json` file. If you are using Anaconda, put the file in the directory specified in the instructions.\n",
        "\n",
        "_This will enable you to download data directly from Kaggle. If you run into problems, don’t worry — I’ll give you an easy alternative way to download today’s data, so you can still follow along with the lecture hands-on. And then we’ll help you through the Kaggle process after the lecture._"
      ]
    },
    {
      "cell_type": "markdown",
      "metadata": {
        "id": "CChbkArG9gWP",
        "colab_type": "text"
      },
      "source": [
        "#### Put `kaggle.json` in the correct location\n",
        "\n",
        "- ***If you're using Anaconda,*** put the file in the directory specified in the [instructions](https://github.com/Kaggle/kaggle-api#api-credentials).\n",
        "\n",
        "- ***If you're using Google Colab,*** upload the file to your Google Drive, and run this cell:"
      ]
    },
    {
      "cell_type": "code",
      "metadata": {
        "id": "tRfnRpyz9gWQ",
        "colab_type": "code",
        "colab": {
          "base_uri": "https://localhost:8080/",
          "height": 143
        },
        "outputId": "abc31657-e170-4f07-fbea-47faa76addef"
      },
      "source": [
        "from google.colab import drive\n",
        "drive.mount('/content/drive')\n",
        "%env KAGGLE_CONFIG_DIR=/content/drive/My Drive/"
      ],
      "execution_count": 1,
      "outputs": [
        {
          "output_type": "stream",
          "text": [
            "Go to this URL in a browser: https://accounts.google.com/o/oauth2/auth?client_id=947318989803-6bn6qk8qdgf4n4g3pfee6491hc0brc4i.apps.googleusercontent.com&redirect_uri=urn%3Aietf%3Awg%3Aoauth%3A2.0%3Aoob&scope=email%20https%3A%2F%2Fwww.googleapis.com%2Fauth%2Fdocs.test%20https%3A%2F%2Fwww.googleapis.com%2Fauth%2Fdrive%20https%3A%2F%2Fwww.googleapis.com%2Fauth%2Fdrive.photos.readonly%20https%3A%2F%2Fwww.googleapis.com%2Fauth%2Fpeopleapi.readonly&response_type=code\n",
            "\n",
            "Enter your authorization code:\n",
            "··········\n",
            "Mounted at /content/drive\n",
            "env: KAGGLE_CONFIG_DIR=/content/drive/My Drive/\n"
          ],
          "name": "stdout"
        }
      ]
    },
    {
      "cell_type": "markdown",
      "metadata": {
        "id": "ttTqCgrB9gWY",
        "colab_type": "text"
      },
      "source": [
        "#### Install the Kaggle API package and use it to get the data\n",
        "\n",
        "You also have to join the Titanic competition to have access to the data"
      ]
    },
    {
      "cell_type": "code",
      "metadata": {
        "colab_type": "code",
        "id": "MnHLWPYDcyIe",
        "outputId": "774015c8-a63f-44d2-94af-d2016e135232",
        "colab": {
          "base_uri": "https://localhost:8080/",
          "height": 232
        }
      },
      "source": [
        "!pip install kaggle"
      ],
      "execution_count": 2,
      "outputs": [
        {
          "output_type": "stream",
          "text": [
            "Requirement already satisfied: kaggle in /usr/local/lib/python3.6/dist-packages (1.5.3)\n",
            "Requirement already satisfied: tqdm in /usr/local/lib/python3.6/dist-packages (from kaggle) (4.28.1)\n",
            "Requirement already satisfied: python-dateutil in /usr/local/lib/python3.6/dist-packages (from kaggle) (2.5.3)\n",
            "Requirement already satisfied: python-slugify in /usr/local/lib/python3.6/dist-packages (from kaggle) (3.0.2)\n",
            "Requirement already satisfied: requests in /usr/local/lib/python3.6/dist-packages (from kaggle) (2.21.0)\n",
            "Requirement already satisfied: urllib3<1.25,>=1.21.1 in /usr/local/lib/python3.6/dist-packages (from kaggle) (1.24.2)\n",
            "Requirement already satisfied: six>=1.10 in /usr/local/lib/python3.6/dist-packages (from kaggle) (1.12.0)\n",
            "Requirement already satisfied: certifi in /usr/local/lib/python3.6/dist-packages (from kaggle) (2019.3.9)\n",
            "Requirement already satisfied: text-unidecode==1.2 in /usr/local/lib/python3.6/dist-packages (from python-slugify->kaggle) (1.2)\n",
            "Requirement already satisfied: chardet<3.1.0,>=3.0.2 in /usr/local/lib/python3.6/dist-packages (from requests->kaggle) (3.0.4)\n",
            "Requirement already satisfied: idna<2.9,>=2.5 in /usr/local/lib/python3.6/dist-packages (from requests->kaggle) (2.8)\n"
          ],
          "name": "stdout"
        }
      ]
    },
    {
      "cell_type": "code",
      "metadata": {
        "id": "qXFsws0H9gWd",
        "colab_type": "code",
        "colab": {
          "base_uri": "https://localhost:8080/",
          "height": 176
        },
        "outputId": "835baef6-0bcc-4ecf-f8c1-4c28a8e25683"
      },
      "source": [
        "!kaggle competitions download -c titanic"
      ],
      "execution_count": 6,
      "outputs": [
        {
          "output_type": "stream",
          "text": [
            "Downloading train.csv to /content\n",
            "\r  0% 0.00/59.8k [00:00<?, ?B/s]\n",
            "100% 59.8k/59.8k [00:00<00:00, 57.0MB/s]\n",
            "Downloading test.csv to /content\n",
            "  0% 0.00/28.0k [00:00<?, ?B/s]\n",
            "100% 28.0k/28.0k [00:00<00:00, 28.5MB/s]\n",
            "Downloading gender_submission.csv to /content\n",
            "  0% 0.00/3.18k [00:00<?, ?B/s]\n",
            "100% 3.18k/3.18k [00:00<00:00, 2.79MB/s]\n"
          ],
          "name": "stdout"
        }
      ]
    },
    {
      "cell_type": "markdown",
      "metadata": {
        "id": "75GJ5-fW9gWf",
        "colab_type": "text"
      },
      "source": [
        "### Get data, option 2: Download from the competition page\n",
        "1. [Sign up for a Kaggle account](https://www.kaggle.com/), if you don’t already have one. \n",
        "2. [Go to the Titanic competition page](https://www.kaggle.com/c/titanic) to download the [data](https://www.kaggle.com/c/titanic/data)."
      ]
    },
    {
      "cell_type": "markdown",
      "metadata": {
        "id": "Z5NddMil9gWg",
        "colab_type": "text"
      },
      "source": [
        "### Get data, option 3: Use Seaborn\n",
        "\n",
        "```\n",
        "import seaborn as sns\n",
        "train = sns.load_dataset('titanic')\n",
        "```\n",
        "\n",
        "But Seaborn's version of the Titanic dataset is not identical to Kaggle's version, as we'll see during this lesson!"
      ]
    },
    {
      "cell_type": "markdown",
      "metadata": {
        "id": "HeQGsDcL9gWh",
        "colab_type": "text"
      },
      "source": [
        "### Read data"
      ]
    },
    {
      "cell_type": "code",
      "metadata": {
        "id": "Zi26d3xt9gWh",
        "colab_type": "code",
        "colab": {
          "base_uri": "https://localhost:8080/",
          "height": 34
        },
        "outputId": "8150cc7d-e2cc-4a42-ed59-56c05674cb24"
      },
      "source": [
        "import pandas as pd\n",
        "train = pd.read_csv(\"train.csv\")\n",
        "test = pd.read_csv(\"test.csv\")\n",
        "train.shape, test.shape"
      ],
      "execution_count": 7,
      "outputs": [
        {
          "output_type": "execute_result",
          "data": {
            "text/plain": [
              "((891, 12), (418, 11))"
            ]
          },
          "metadata": {
            "tags": []
          },
          "execution_count": 7
        }
      ]
    },
    {
      "cell_type": "code",
      "metadata": {
        "id": "pxmyNUuqjn0p",
        "colab_type": "code",
        "colab": {
          "base_uri": "https://localhost:8080/",
          "height": 70
        },
        "outputId": "09a6c23a-3ae2-4676-bdb9-2f8d8c4400d7"
      },
      "source": [
        "target = 'Survived'\n",
        "train[target].value_counts()"
      ],
      "execution_count": 9,
      "outputs": [
        {
          "output_type": "execute_result",
          "data": {
            "text/plain": [
              "0    549\n",
              "1    342\n",
              "Name: Survived, dtype: int64"
            ]
          },
          "metadata": {
            "tags": []
          },
          "execution_count": 9
        }
      ]
    },
    {
      "cell_type": "markdown",
      "metadata": {
        "id": "YWtenAuZ9gWp",
        "colab_type": "text"
      },
      "source": [
        "### How would we try to do this with linear regression?"
      ]
    },
    {
      "cell_type": "markdown",
      "metadata": {
        "id": "Cc-0JHCr9gWr",
        "colab_type": "text"
      },
      "source": [
        "https://scikit-learn.org/stable/modules/impute.html"
      ]
    },
    {
      "cell_type": "code",
      "metadata": {
        "colab_type": "code",
        "id": "fcxfpsjdFJwM",
        "colab": {}
      },
      "source": [
        "from sklearn.linear_model import LinearRegression\n",
        "from sklearn.impute import SimpleImputer"
      ],
      "execution_count": 0,
      "outputs": []
    },
    {
      "cell_type": "code",
      "metadata": {
        "id": "8cSUWiZ9kaKp",
        "colab_type": "code",
        "colab": {
          "base_uri": "https://localhost:8080/",
          "height": 52
        },
        "outputId": "35063a07-c667-479a-e0f5-2aa7721153c8"
      },
      "source": [
        "features = [\"Pclass\", \"Age\", \"Fare\"]\n",
        "target = \"Survived\"\n",
        "X_train = train[features]\n",
        "y_train = train[target]\n",
        "X_test = test[features]\n",
        "\n",
        "imputer = SimpleImputer()\n",
        "X_train_imputed = imputer.fit_transform(X_train)\n",
        "X_test_imputed = imputer.transform(X_test)\n",
        "\n",
        "lin_reg = LinearRegression()\n",
        "lin_reg.fit(X_train_imputed, y_train)"
      ],
      "execution_count": 12,
      "outputs": [
        {
          "output_type": "execute_result",
          "data": {
            "text/plain": [
              "LinearRegression(copy_X=True, fit_intercept=True, n_jobs=None,\n",
              "         normalize=False)"
            ]
          },
          "metadata": {
            "tags": []
          },
          "execution_count": 12
        }
      ]
    },
    {
      "cell_type": "code",
      "metadata": {
        "id": "fTJuzV0GmBiQ",
        "colab_type": "code",
        "colab": {
          "base_uri": "https://localhost:8080/",
          "height": 34
        },
        "outputId": "6f845dc4-b7df-4979-da63-696fe7c021ca"
      },
      "source": [
        "import numpy as np\n",
        "test_case = np.array([[1, 5, 500]])\n",
        "\n",
        "lin_reg.predict(test_case)"
      ],
      "execution_count": 13,
      "outputs": [
        {
          "output_type": "execute_result",
          "data": {
            "text/plain": [
              "array([1.19207871])"
            ]
          },
          "metadata": {
            "tags": []
          },
          "execution_count": 13
        }
      ]
    },
    {
      "cell_type": "code",
      "metadata": {
        "id": "lbYA2nLJmXgh",
        "colab_type": "code",
        "colab": {
          "base_uri": "https://localhost:8080/",
          "height": 87
        },
        "outputId": "ca84b3ad-3d8d-4142-af2b-375ca67d44c1"
      },
      "source": [
        "pd.Series(lin_reg.coef_, X_train.columns)"
      ],
      "execution_count": 15,
      "outputs": [
        {
          "output_type": "execute_result",
          "data": {
            "text/plain": [
              "Pclass   -0.210390\n",
              "Age      -0.007358\n",
              "Fare      0.000751\n",
              "dtype: float64"
            ]
          },
          "metadata": {
            "tags": []
          },
          "execution_count": 15
        }
      ]
    },
    {
      "cell_type": "code",
      "metadata": {
        "id": "SWw-lz3dmm3C",
        "colab_type": "code",
        "colab": {
          "base_uri": "https://localhost:8080/",
          "height": 34
        },
        "outputId": "1140333c-e2f3-4226-bc89-e673bccd7b93"
      },
      "source": [
        "lin_reg.intercept_"
      ],
      "execution_count": 16,
      "outputs": [
        {
          "output_type": "execute_result",
          "data": {
            "text/plain": [
              "1.063899500003544"
            ]
          },
          "metadata": {
            "tags": []
          },
          "execution_count": 16
        }
      ]
    },
    {
      "cell_type": "markdown",
      "metadata": {
        "id": "qGnmpSdS9gWv",
        "colab_type": "text"
      },
      "source": [
        "### How would we do this with Logistic Regression?"
      ]
    },
    {
      "cell_type": "code",
      "metadata": {
        "colab_type": "code",
        "id": "dpUm8Dl-u2aB",
        "colab": {}
      },
      "source": [
        "from sklearn.linear_model import LogisticRegression"
      ],
      "execution_count": 0,
      "outputs": []
    },
    {
      "cell_type": "code",
      "metadata": {
        "id": "bID-GwzgnDbB",
        "colab_type": "code",
        "colab": {
          "base_uri": "https://localhost:8080/",
          "height": 52
        },
        "outputId": "aee64013-975f-4c55-ecde-be4c5915bc8f"
      },
      "source": [
        "log_reg = LogisticRegression(solver='lbfgs')\n",
        "log_reg.fit(X_train_imputed, y_train)\n",
        "\n",
        "print(log_reg.predict(test_case))\n",
        "print(log_reg.predict_proba(test_case))"
      ],
      "execution_count": 24,
      "outputs": [
        {
          "output_type": "stream",
          "text": [
            "[1]\n",
            "[[0.02778799 0.97221201]]\n"
          ],
          "name": "stdout"
        }
      ]
    },
    {
      "cell_type": "markdown",
      "metadata": {
        "id": "Q4Bk3w659gWz",
        "colab_type": "text"
      },
      "source": [
        "### How accurate is the Logistic Regression?"
      ]
    },
    {
      "cell_type": "code",
      "metadata": {
        "id": "aiWVVG8C9gW1",
        "colab_type": "code",
        "colab": {
          "base_uri": "https://localhost:8080/",
          "height": 34
        },
        "outputId": "c654278b-2903-4dcc-fe03-e0c8ea8e74a8"
      },
      "source": [
        "log_reg.score(X_train_imputed, y_train)"
      ],
      "execution_count": 25,
      "outputs": [
        {
          "output_type": "execute_result",
          "data": {
            "text/plain": [
              "0.7025813692480359"
            ]
          },
          "metadata": {
            "tags": []
          },
          "execution_count": 25
        }
      ]
    },
    {
      "cell_type": "code",
      "metadata": {
        "id": "Nk0LlIPon-vV",
        "colab_type": "code",
        "colab": {
          "base_uri": "https://localhost:8080/",
          "height": 52
        },
        "outputId": "8bb43291-fc77-4724-be07-fc31b62a8f7b"
      },
      "source": [
        "from sklearn.model_selection import cross_val_score\n",
        "\n",
        "scores = cross_val_score(log_reg, X_train_imputed, y_train, cv=10)\n",
        "scores"
      ],
      "execution_count": 26,
      "outputs": [
        {
          "output_type": "execute_result",
          "data": {
            "text/plain": [
              "array([0.63333333, 0.62222222, 0.68539326, 0.71910112, 0.69662921,\n",
              "       0.69662921, 0.76404494, 0.75280899, 0.73033708, 0.71590909])"
            ]
          },
          "metadata": {
            "tags": []
          },
          "execution_count": 26
        }
      ]
    },
    {
      "cell_type": "code",
      "metadata": {
        "id": "CR2kaWdspBFZ",
        "colab_type": "code",
        "colab": {
          "base_uri": "https://localhost:8080/",
          "height": 34
        },
        "outputId": "0d6347a5-ba17-41b3-d170-6793f0cc0f62"
      },
      "source": [
        "from sklearn.metrics import accuracy_score\n",
        "\n",
        "y_pred = log_reg.predict(X_train_imputed)\n",
        "\n",
        "accuracy_score(y_train, y_pred)"
      ],
      "execution_count": 28,
      "outputs": [
        {
          "output_type": "execute_result",
          "data": {
            "text/plain": [
              "0.7025813692480359"
            ]
          },
          "metadata": {
            "tags": []
          },
          "execution_count": 28
        }
      ]
    },
    {
      "cell_type": "markdown",
      "metadata": {
        "id": "oQvkseO19gW5",
        "colab_type": "text"
      },
      "source": [
        "### What's the math for the Logistic Regression?\n",
        "\n",
        "https://en.wikipedia.org/wiki/Logistic_function\n",
        "\n",
        "https://en.wikipedia.org/wiki/Logistic_regression#Probability_of_passing_an_exam_versus_hours_of_study"
      ]
    },
    {
      "cell_type": "code",
      "metadata": {
        "colab_type": "code",
        "id": "9Bq-54noR1uE",
        "outputId": "a7b44775-f95a-433d-e76d-844d227bbcce",
        "colab": {
          "base_uri": "https://localhost:8080/",
          "height": 34
        }
      },
      "source": [
        "log_reg.coef_, log_reg.intercept_"
      ],
      "execution_count": 29,
      "outputs": [
        {
          "output_type": "execute_result",
          "data": {
            "text/plain": [
              "(array([[-0.9345267 , -0.03569729,  0.00422069]]), array([2.55763985]))"
            ]
          },
          "metadata": {
            "tags": []
          },
          "execution_count": 29
        }
      ]
    },
    {
      "cell_type": "code",
      "metadata": {
        "id": "NbpYnA5hqwyb",
        "colab_type": "code",
        "colab": {}
      },
      "source": [
        "def sigmoid(x):\n",
        "    return 1 / (1 + np.e**(-x))"
      ],
      "execution_count": 0,
      "outputs": []
    },
    {
      "cell_type": "code",
      "metadata": {
        "id": "Z-KuJv6UqxnS",
        "colab_type": "code",
        "colab": {
          "base_uri": "https://localhost:8080/",
          "height": 34
        },
        "outputId": "1f640051-f58c-4931-ddc2-e8822d9057ca"
      },
      "source": [
        "sigmoid(np.dot(log_reg.coef_, test_case.T) + log_reg.intercept_)"
      ],
      "execution_count": 31,
      "outputs": [
        {
          "output_type": "execute_result",
          "data": {
            "text/plain": [
              "array([[0.97221201]])"
            ]
          },
          "metadata": {
            "tags": []
          },
          "execution_count": 31
        }
      ]
    },
    {
      "cell_type": "code",
      "metadata": {
        "id": "WNH4fZUiq1O_",
        "colab_type": "code",
        "colab": {
          "base_uri": "https://localhost:8080/",
          "height": 34
        },
        "outputId": "c85b9d15-1787-4433-9850-9a21eac1eb61"
      },
      "source": [
        "sigmoid(log_reg.coef_ @ test_case.T + log_reg.intercept_)"
      ],
      "execution_count": 32,
      "outputs": [
        {
          "output_type": "execute_result",
          "data": {
            "text/plain": [
              "array([[0.97221201]])"
            ]
          },
          "metadata": {
            "tags": []
          },
          "execution_count": 32
        }
      ]
    },
    {
      "cell_type": "code",
      "metadata": {
        "id": "2wCmCuyFq5rQ",
        "colab_type": "code",
        "colab": {
          "base_uri": "https://localhost:8080/",
          "height": 34
        },
        "outputId": "ec155ded-fe9c-494d-f7e6-0b059d5edaa4"
      },
      "source": [
        "log_reg.predict_proba(test_case)"
      ],
      "execution_count": 33,
      "outputs": [
        {
          "output_type": "execute_result",
          "data": {
            "text/plain": [
              "array([[0.02778799, 0.97221201]])"
            ]
          },
          "metadata": {
            "tags": []
          },
          "execution_count": 33
        }
      ]
    },
    {
      "cell_type": "markdown",
      "metadata": {
        "id": "GFzqJOZh9gW_",
        "colab_type": "text"
      },
      "source": [
        "## Feature Engineering\n",
        "\n",
        "Get the [Category Encoder](http://contrib.scikit-learn.org/categorical-encoding/) library\n",
        "\n",
        "If you're running on Google Colab:\n",
        "\n",
        "```\n",
        "!pip install category_encoders\n",
        "```\n",
        "\n",
        "If you're running locally with Anaconda:\n",
        "\n",
        "```\n",
        "!conda install -c conda-forge category_encoders\n",
        "```"
      ]
    },
    {
      "cell_type": "code",
      "metadata": {
        "id": "pysPezzG9gXB",
        "colab_type": "code",
        "colab": {}
      },
      "source": [
        "import seaborn as sns\n",
        "\n",
        "sns_titanic = sns.load_dataset(\"titanic\")"
      ],
      "execution_count": 0,
      "outputs": []
    },
    {
      "cell_type": "code",
      "metadata": {
        "id": "kl_skc_Hrawk",
        "colab_type": "code",
        "colab": {}
      },
      "source": [
        "def make_features(X):\n",
        "    X = X.copy()\n",
        "    X['adult_male'] = (X['Sex'] == 'male') & (X['Age'] >= 16)\n",
        "    X['alone'] = (X['SibSp'] == 0) & (X['Parch'] == 0)\n",
        "    X['last_name'] = X['Name'].str.split(',').str[0]\n",
        "    X['title'] = X['Name'].str.split(',').str[1].str.split('.').str[0]\n",
        "    return X"
      ],
      "execution_count": 0,
      "outputs": []
    },
    {
      "cell_type": "code",
      "metadata": {
        "id": "l9eWv6surcDF",
        "colab_type": "code",
        "colab": {}
      },
      "source": [
        "train = make_features(train)\n",
        "test = make_features(test)"
      ],
      "execution_count": 0,
      "outputs": []
    },
    {
      "cell_type": "code",
      "metadata": {
        "id": "GR8L1G3crnm-",
        "colab_type": "code",
        "colab": {
          "base_uri": "https://localhost:8080/",
          "height": 70
        },
        "outputId": "93e231dc-10ab-4797-aebd-912dd7d7601e"
      },
      "source": [
        "train[\"adult_male\"].value_counts()"
      ],
      "execution_count": 37,
      "outputs": [
        {
          "output_type": "execute_result",
          "data": {
            "text/plain": [
              "False    478\n",
              "True     413\n",
              "Name: adult_male, dtype: int64"
            ]
          },
          "metadata": {
            "tags": []
          },
          "execution_count": 37
        }
      ]
    },
    {
      "cell_type": "markdown",
      "metadata": {
        "colab_type": "text",
        "id": "iblW74C8afuR"
      },
      "source": [
        "## Assignment: real-world classification\n",
        "\n",
        "We're going to check out a larger dataset - the [FMA Free Music Archive data](https://github.com/mdeff/fma). It has a selection of CSVs with metadata and calculated audio features that you can load and try to use to classify genre of tracks. To get you started:"
      ]
    },
    {
      "cell_type": "markdown",
      "metadata": {
        "id": "5MRlNLP-9gXN",
        "colab_type": "text"
      },
      "source": [
        "### Get and unzip the data"
      ]
    },
    {
      "cell_type": "markdown",
      "metadata": {
        "id": "Ny9gbLDb9gXO",
        "colab_type": "text"
      },
      "source": [
        "#### Google Colab"
      ]
    },
    {
      "cell_type": "code",
      "metadata": {
        "colab_type": "code",
        "id": "SsySnuKaKtQf",
        "outputId": "53f78781-3b5c-46df-cbcf-4b8b5ed46e22",
        "colab": {
          "base_uri": "https://localhost:8080/",
          "height": 443
        }
      },
      "source": [
        "!wget https://os.unil.cloud.switch.ch/fma/fma_metadata.zip\n",
        "!unzip fma_metadata.zip"
      ],
      "execution_count": 38,
      "outputs": [
        {
          "output_type": "stream",
          "text": [
            "--2019-05-06 19:46:53--  https://os.unil.cloud.switch.ch/fma/fma_metadata.zip\n",
            "Resolving os.unil.cloud.switch.ch (os.unil.cloud.switch.ch)... 86.119.28.13, 2001:620:5ca1:2ff::ce53\n",
            "Connecting to os.unil.cloud.switch.ch (os.unil.cloud.switch.ch)|86.119.28.13|:443... connected.\n",
            "HTTP request sent, awaiting response... 200 OK\n",
            "Length: 358412441 (342M) [application/zip]\n",
            "Saving to: ‘fma_metadata.zip.1’\n",
            "\n",
            "fma_metadata.zip.1  100%[===================>] 341.81M  18.5MB/s    in 19s     \n",
            "\n",
            "2019-05-06 19:47:13 (17.5 MB/s) - ‘fma_metadata.zip.1’ saved [358412441/358412441]\n",
            "\n",
            "Archive:  fma_metadata.zip\n",
            "replace fma_metadata/README.txt? [y]es, [n]o, [A]ll, [N]one, [r]ename: n\n",
            "replace fma_metadata/checksums? [y]es, [n]o, [A]ll, [N]one, [r]ename: n\n",
            "replace fma_metadata/not_found.pickle? [y]es, [n]o, [A]ll, [N]one, [r]ename: n\n",
            "replace fma_metadata/raw_genres.csv? [y]es, [n]o, [A]ll, [N]one, [r]ename: n\n",
            "replace fma_metadata/raw_albums.csv? [y]es, [n]o, [A]ll, [N]one, [r]ename: n\n",
            "replace fma_metadata/raw_artists.csv? [y]es, [n]o, [A]ll, [N]one, [r]ename: n\n",
            "replace fma_metadata/raw_tracks.csv? [y]es, [n]o, [A]ll, [N]one, [r]ename: n\n",
            "replace fma_metadata/tracks.csv? [y]es, [n]o, [A]ll, [N]one, [r]ename: n\n",
            "replace fma_metadata/genres.csv? [y]es, [n]o, [A]ll, [N]one, [r]ename: n\n",
            "replace fma_metadata/raw_echonest.csv? [y]es, [n]o, [A]ll, [N]one, [r]ename: n\n",
            "replace fma_metadata/echonest.csv? [y]es, [n]o, [A]ll, [N]one, [r]ename: n\n",
            "replace fma_metadata/features.csv? [y]es, [n]o, [A]ll, [N]one, [r]ename: n\n"
          ],
          "name": "stdout"
        }
      ]
    },
    {
      "cell_type": "code",
      "metadata": {
        "id": "040yHL63sBsG",
        "colab_type": "code",
        "colab": {
          "base_uri": "https://localhost:8080/",
          "height": 107
        },
        "outputId": "83269060-42d1-4231-c477-654dfe70130c"
      },
      "source": [
        "!head -n 4 fma_metadata/tracks.csv"
      ],
      "execution_count": 40,
      "outputs": [
        {
          "output_type": "stream",
          "text": [
            ",album,album,album,album,album,album,album,album,album,album,album,album,album,artist,artist,artist,artist,artist,artist,artist,artist,artist,artist,artist,artist,artist,artist,artist,artist,artist,set,set,track,track,track,track,track,track,track,track,track,track,track,track,track,track,track,track,track,track,track,track\n",
            ",comments,date_created,date_released,engineer,favorites,id,information,listens,producer,tags,title,tracks,type,active_year_begin,active_year_end,associated_labels,bio,comments,date_created,favorites,id,latitude,location,longitude,members,name,related_projects,tags,website,wikipedia_page,split,subset,bit_rate,comments,composer,date_created,date_recorded,duration,favorites,genre_top,genres,genres_all,information,interest,language_code,license,listens,lyricist,number,publisher,tags,title\n",
            "track_id,,,,,,,,,,,,,,,,,,,,,,,,,,,,,,,,,,,,,,,,,,,,,,,,,,,,\n",
            "2,0,2008-11-26 01:44:45,2009-01-05 00:00:00,,4,1,<p></p>,6073,,[],AWOL - A Way Of Life,7,Album,2006-01-01 00:00:00,,,\"<p>A Way Of Life, A Collective of Hip-Hop from NJ...................</p>\",0,2008-11-26 01:42:32,9,1,40.0583238,New Jersey,-74.4056612,\"Sajje Morocco,Brownbum,ZawidaGod,Custodian of Records,Zooberelli the Don,F.A.H,MadSicka,Damien Omenicci..and a van load more...\",AWOL,The list of past projects is 2 long but every1 and every style from Tabby Bonet 2 M.O.P..Azillion Records Flagship trackmaster DJ BrownBum is a beat Wizard.....A-2-Z..illion....(right now working with JerseyBlock Ent),['awol'],http://www.AzillionRecords.blogspot.com,,training,small,256000,0,,2008-11-26 01:48:12,2008-11-26 00:00:00,168,2,Hip-Hop,[21],[21],,4656,en,Attribution-NonCommercial-ShareAlike 3.0 International,1293,,3,,[],Food\n"
          ],
          "name": "stdout"
        }
      ]
    },
    {
      "cell_type": "markdown",
      "metadata": {
        "id": "otjD2P829gXb",
        "colab_type": "text"
      },
      "source": [
        "#### Windows\n",
        "- Download the [zip file](https://os.unil.cloud.switch.ch/fma/fma_metadata.zip)\n",
        "- You may need to use [7zip](https://www.7-zip.org/download.html) to unzip it\n",
        "\n",
        "\n",
        "#### Mac\n",
        "- Download the [zip file](https://os.unil.cloud.switch.ch/fma/fma_metadata.zip)\n",
        "- You may need to use [p7zip](https://superuser.com/a/626731) to unzip it"
      ]
    },
    {
      "cell_type": "markdown",
      "metadata": {
        "id": "XyLZCcQN9gXb",
        "colab_type": "text"
      },
      "source": [
        "### Look at first 3 lines of raw file"
      ]
    },
    {
      "cell_type": "code",
      "metadata": {
        "id": "O6qYz95P9gXc",
        "colab_type": "code",
        "colab": {}
      },
      "source": [
        "!head -n 3 fma_metadata/tracks.csv"
      ],
      "execution_count": 0,
      "outputs": []
    },
    {
      "cell_type": "markdown",
      "metadata": {
        "id": "aIli4egz9gXe",
        "colab_type": "text"
      },
      "source": [
        "### Read with pandas\n",
        "https://pandas.pydata.org/pandas-docs/stable/reference/api/pandas.read_csv.html"
      ]
    },
    {
      "cell_type": "code",
      "metadata": {
        "id": "jdGiV3k19gXf",
        "colab_type": "code",
        "colab": {
          "base_uri": "https://localhost:8080/",
          "height": 527
        },
        "outputId": "46618433-cc2d-4a6e-c9de-5aa490410b0a"
      },
      "source": [
        "tracks = pd.read_csv('fma_metadata/tracks.csv', header=[0,1], index_col=0)\n",
        "pd.set_option('display.max_columns', 52)\n",
        "tracks.head()"
      ],
      "execution_count": 45,
      "outputs": [
        {
          "output_type": "execute_result",
          "data": {
            "text/html": [
              "<div>\n",
              "<style scoped>\n",
              "    .dataframe tbody tr th:only-of-type {\n",
              "        vertical-align: middle;\n",
              "    }\n",
              "\n",
              "    .dataframe tbody tr th {\n",
              "        vertical-align: top;\n",
              "    }\n",
              "\n",
              "    .dataframe thead tr th {\n",
              "        text-align: left;\n",
              "    }\n",
              "\n",
              "    .dataframe thead tr:last-of-type th {\n",
              "        text-align: right;\n",
              "    }\n",
              "</style>\n",
              "<table border=\"1\" class=\"dataframe\">\n",
              "  <thead>\n",
              "    <tr>\n",
              "      <th></th>\n",
              "      <th colspan=\"13\" halign=\"left\">album</th>\n",
              "      <th colspan=\"17\" halign=\"left\">artist</th>\n",
              "      <th colspan=\"2\" halign=\"left\">set</th>\n",
              "      <th colspan=\"20\" halign=\"left\">track</th>\n",
              "    </tr>\n",
              "    <tr>\n",
              "      <th></th>\n",
              "      <th>comments</th>\n",
              "      <th>date_created</th>\n",
              "      <th>date_released</th>\n",
              "      <th>engineer</th>\n",
              "      <th>favorites</th>\n",
              "      <th>id</th>\n",
              "      <th>information</th>\n",
              "      <th>listens</th>\n",
              "      <th>producer</th>\n",
              "      <th>tags</th>\n",
              "      <th>title</th>\n",
              "      <th>tracks</th>\n",
              "      <th>type</th>\n",
              "      <th>active_year_begin</th>\n",
              "      <th>active_year_end</th>\n",
              "      <th>associated_labels</th>\n",
              "      <th>bio</th>\n",
              "      <th>comments</th>\n",
              "      <th>date_created</th>\n",
              "      <th>favorites</th>\n",
              "      <th>id</th>\n",
              "      <th>latitude</th>\n",
              "      <th>location</th>\n",
              "      <th>longitude</th>\n",
              "      <th>members</th>\n",
              "      <th>name</th>\n",
              "      <th>related_projects</th>\n",
              "      <th>tags</th>\n",
              "      <th>website</th>\n",
              "      <th>wikipedia_page</th>\n",
              "      <th>split</th>\n",
              "      <th>subset</th>\n",
              "      <th>bit_rate</th>\n",
              "      <th>comments</th>\n",
              "      <th>composer</th>\n",
              "      <th>date_created</th>\n",
              "      <th>date_recorded</th>\n",
              "      <th>duration</th>\n",
              "      <th>favorites</th>\n",
              "      <th>genre_top</th>\n",
              "      <th>genres</th>\n",
              "      <th>genres_all</th>\n",
              "      <th>information</th>\n",
              "      <th>interest</th>\n",
              "      <th>language_code</th>\n",
              "      <th>license</th>\n",
              "      <th>listens</th>\n",
              "      <th>lyricist</th>\n",
              "      <th>number</th>\n",
              "      <th>publisher</th>\n",
              "      <th>tags</th>\n",
              "      <th>title</th>\n",
              "    </tr>\n",
              "    <tr>\n",
              "      <th>track_id</th>\n",
              "      <th></th>\n",
              "      <th></th>\n",
              "      <th></th>\n",
              "      <th></th>\n",
              "      <th></th>\n",
              "      <th></th>\n",
              "      <th></th>\n",
              "      <th></th>\n",
              "      <th></th>\n",
              "      <th></th>\n",
              "      <th></th>\n",
              "      <th></th>\n",
              "      <th></th>\n",
              "      <th></th>\n",
              "      <th></th>\n",
              "      <th></th>\n",
              "      <th></th>\n",
              "      <th></th>\n",
              "      <th></th>\n",
              "      <th></th>\n",
              "      <th></th>\n",
              "      <th></th>\n",
              "      <th></th>\n",
              "      <th></th>\n",
              "      <th></th>\n",
              "      <th></th>\n",
              "      <th></th>\n",
              "      <th></th>\n",
              "      <th></th>\n",
              "      <th></th>\n",
              "      <th></th>\n",
              "      <th></th>\n",
              "      <th></th>\n",
              "      <th></th>\n",
              "      <th></th>\n",
              "      <th></th>\n",
              "      <th></th>\n",
              "      <th></th>\n",
              "      <th></th>\n",
              "      <th></th>\n",
              "      <th></th>\n",
              "      <th></th>\n",
              "      <th></th>\n",
              "      <th></th>\n",
              "      <th></th>\n",
              "      <th></th>\n",
              "      <th></th>\n",
              "      <th></th>\n",
              "      <th></th>\n",
              "      <th></th>\n",
              "      <th></th>\n",
              "      <th></th>\n",
              "    </tr>\n",
              "  </thead>\n",
              "  <tbody>\n",
              "    <tr>\n",
              "      <th>2</th>\n",
              "      <td>0</td>\n",
              "      <td>2008-11-26 01:44:45</td>\n",
              "      <td>2009-01-05 00:00:00</td>\n",
              "      <td>NaN</td>\n",
              "      <td>4</td>\n",
              "      <td>1</td>\n",
              "      <td>&lt;p&gt;&lt;/p&gt;</td>\n",
              "      <td>6073</td>\n",
              "      <td>NaN</td>\n",
              "      <td>[]</td>\n",
              "      <td>AWOL - A Way Of Life</td>\n",
              "      <td>7</td>\n",
              "      <td>Album</td>\n",
              "      <td>2006-01-01 00:00:00</td>\n",
              "      <td>NaN</td>\n",
              "      <td>NaN</td>\n",
              "      <td>&lt;p&gt;A Way Of Life, A Collective of Hip-Hop from...</td>\n",
              "      <td>0</td>\n",
              "      <td>2008-11-26 01:42:32</td>\n",
              "      <td>9</td>\n",
              "      <td>1</td>\n",
              "      <td>40.058324</td>\n",
              "      <td>New Jersey</td>\n",
              "      <td>-74.405661</td>\n",
              "      <td>Sajje Morocco,Brownbum,ZawidaGod,Custodian of ...</td>\n",
              "      <td>AWOL</td>\n",
              "      <td>The list of past projects is 2 long but every1...</td>\n",
              "      <td>['awol']</td>\n",
              "      <td>http://www.AzillionRecords.blogspot.com</td>\n",
              "      <td>NaN</td>\n",
              "      <td>training</td>\n",
              "      <td>small</td>\n",
              "      <td>256000</td>\n",
              "      <td>0</td>\n",
              "      <td>NaN</td>\n",
              "      <td>2008-11-26 01:48:12</td>\n",
              "      <td>2008-11-26 00:00:00</td>\n",
              "      <td>168</td>\n",
              "      <td>2</td>\n",
              "      <td>Hip-Hop</td>\n",
              "      <td>[21]</td>\n",
              "      <td>[21]</td>\n",
              "      <td>NaN</td>\n",
              "      <td>4656</td>\n",
              "      <td>en</td>\n",
              "      <td>Attribution-NonCommercial-ShareAlike 3.0 Inter...</td>\n",
              "      <td>1293</td>\n",
              "      <td>NaN</td>\n",
              "      <td>3</td>\n",
              "      <td>NaN</td>\n",
              "      <td>[]</td>\n",
              "      <td>Food</td>\n",
              "    </tr>\n",
              "    <tr>\n",
              "      <th>3</th>\n",
              "      <td>0</td>\n",
              "      <td>2008-11-26 01:44:45</td>\n",
              "      <td>2009-01-05 00:00:00</td>\n",
              "      <td>NaN</td>\n",
              "      <td>4</td>\n",
              "      <td>1</td>\n",
              "      <td>&lt;p&gt;&lt;/p&gt;</td>\n",
              "      <td>6073</td>\n",
              "      <td>NaN</td>\n",
              "      <td>[]</td>\n",
              "      <td>AWOL - A Way Of Life</td>\n",
              "      <td>7</td>\n",
              "      <td>Album</td>\n",
              "      <td>2006-01-01 00:00:00</td>\n",
              "      <td>NaN</td>\n",
              "      <td>NaN</td>\n",
              "      <td>&lt;p&gt;A Way Of Life, A Collective of Hip-Hop from...</td>\n",
              "      <td>0</td>\n",
              "      <td>2008-11-26 01:42:32</td>\n",
              "      <td>9</td>\n",
              "      <td>1</td>\n",
              "      <td>40.058324</td>\n",
              "      <td>New Jersey</td>\n",
              "      <td>-74.405661</td>\n",
              "      <td>Sajje Morocco,Brownbum,ZawidaGod,Custodian of ...</td>\n",
              "      <td>AWOL</td>\n",
              "      <td>The list of past projects is 2 long but every1...</td>\n",
              "      <td>['awol']</td>\n",
              "      <td>http://www.AzillionRecords.blogspot.com</td>\n",
              "      <td>NaN</td>\n",
              "      <td>training</td>\n",
              "      <td>medium</td>\n",
              "      <td>256000</td>\n",
              "      <td>0</td>\n",
              "      <td>NaN</td>\n",
              "      <td>2008-11-26 01:48:14</td>\n",
              "      <td>2008-11-26 00:00:00</td>\n",
              "      <td>237</td>\n",
              "      <td>1</td>\n",
              "      <td>Hip-Hop</td>\n",
              "      <td>[21]</td>\n",
              "      <td>[21]</td>\n",
              "      <td>NaN</td>\n",
              "      <td>1470</td>\n",
              "      <td>en</td>\n",
              "      <td>Attribution-NonCommercial-ShareAlike 3.0 Inter...</td>\n",
              "      <td>514</td>\n",
              "      <td>NaN</td>\n",
              "      <td>4</td>\n",
              "      <td>NaN</td>\n",
              "      <td>[]</td>\n",
              "      <td>Electric Ave</td>\n",
              "    </tr>\n",
              "    <tr>\n",
              "      <th>5</th>\n",
              "      <td>0</td>\n",
              "      <td>2008-11-26 01:44:45</td>\n",
              "      <td>2009-01-05 00:00:00</td>\n",
              "      <td>NaN</td>\n",
              "      <td>4</td>\n",
              "      <td>1</td>\n",
              "      <td>&lt;p&gt;&lt;/p&gt;</td>\n",
              "      <td>6073</td>\n",
              "      <td>NaN</td>\n",
              "      <td>[]</td>\n",
              "      <td>AWOL - A Way Of Life</td>\n",
              "      <td>7</td>\n",
              "      <td>Album</td>\n",
              "      <td>2006-01-01 00:00:00</td>\n",
              "      <td>NaN</td>\n",
              "      <td>NaN</td>\n",
              "      <td>&lt;p&gt;A Way Of Life, A Collective of Hip-Hop from...</td>\n",
              "      <td>0</td>\n",
              "      <td>2008-11-26 01:42:32</td>\n",
              "      <td>9</td>\n",
              "      <td>1</td>\n",
              "      <td>40.058324</td>\n",
              "      <td>New Jersey</td>\n",
              "      <td>-74.405661</td>\n",
              "      <td>Sajje Morocco,Brownbum,ZawidaGod,Custodian of ...</td>\n",
              "      <td>AWOL</td>\n",
              "      <td>The list of past projects is 2 long but every1...</td>\n",
              "      <td>['awol']</td>\n",
              "      <td>http://www.AzillionRecords.blogspot.com</td>\n",
              "      <td>NaN</td>\n",
              "      <td>training</td>\n",
              "      <td>small</td>\n",
              "      <td>256000</td>\n",
              "      <td>0</td>\n",
              "      <td>NaN</td>\n",
              "      <td>2008-11-26 01:48:20</td>\n",
              "      <td>2008-11-26 00:00:00</td>\n",
              "      <td>206</td>\n",
              "      <td>6</td>\n",
              "      <td>Hip-Hop</td>\n",
              "      <td>[21]</td>\n",
              "      <td>[21]</td>\n",
              "      <td>NaN</td>\n",
              "      <td>1933</td>\n",
              "      <td>en</td>\n",
              "      <td>Attribution-NonCommercial-ShareAlike 3.0 Inter...</td>\n",
              "      <td>1151</td>\n",
              "      <td>NaN</td>\n",
              "      <td>6</td>\n",
              "      <td>NaN</td>\n",
              "      <td>[]</td>\n",
              "      <td>This World</td>\n",
              "    </tr>\n",
              "    <tr>\n",
              "      <th>10</th>\n",
              "      <td>0</td>\n",
              "      <td>2008-11-26 01:45:08</td>\n",
              "      <td>2008-02-06 00:00:00</td>\n",
              "      <td>NaN</td>\n",
              "      <td>4</td>\n",
              "      <td>6</td>\n",
              "      <td>NaN</td>\n",
              "      <td>47632</td>\n",
              "      <td>NaN</td>\n",
              "      <td>[]</td>\n",
              "      <td>Constant Hitmaker</td>\n",
              "      <td>2</td>\n",
              "      <td>Album</td>\n",
              "      <td>NaN</td>\n",
              "      <td>NaN</td>\n",
              "      <td>Mexican Summer, Richie Records, Woodsist, Skul...</td>\n",
              "      <td>&lt;p&gt;&lt;span style=\"font-family:Verdana, Geneva, A...</td>\n",
              "      <td>3</td>\n",
              "      <td>2008-11-26 01:42:55</td>\n",
              "      <td>74</td>\n",
              "      <td>6</td>\n",
              "      <td>NaN</td>\n",
              "      <td>NaN</td>\n",
              "      <td>NaN</td>\n",
              "      <td>Kurt Vile, the Violators</td>\n",
              "      <td>Kurt Vile</td>\n",
              "      <td>NaN</td>\n",
              "      <td>['philly', 'kurt vile']</td>\n",
              "      <td>http://kurtvile.com</td>\n",
              "      <td>NaN</td>\n",
              "      <td>training</td>\n",
              "      <td>small</td>\n",
              "      <td>192000</td>\n",
              "      <td>0</td>\n",
              "      <td>Kurt Vile</td>\n",
              "      <td>2008-11-25 17:49:06</td>\n",
              "      <td>2008-11-26 00:00:00</td>\n",
              "      <td>161</td>\n",
              "      <td>178</td>\n",
              "      <td>Pop</td>\n",
              "      <td>[10]</td>\n",
              "      <td>[10]</td>\n",
              "      <td>NaN</td>\n",
              "      <td>54881</td>\n",
              "      <td>en</td>\n",
              "      <td>Attribution-NonCommercial-NoDerivatives (aka M...</td>\n",
              "      <td>50135</td>\n",
              "      <td>NaN</td>\n",
              "      <td>1</td>\n",
              "      <td>NaN</td>\n",
              "      <td>[]</td>\n",
              "      <td>Freeway</td>\n",
              "    </tr>\n",
              "    <tr>\n",
              "      <th>20</th>\n",
              "      <td>0</td>\n",
              "      <td>2008-11-26 01:45:05</td>\n",
              "      <td>2009-01-06 00:00:00</td>\n",
              "      <td>NaN</td>\n",
              "      <td>2</td>\n",
              "      <td>4</td>\n",
              "      <td>&lt;p&gt; \"spiritual songs\" from Nicky Cook&lt;/p&gt;</td>\n",
              "      <td>2710</td>\n",
              "      <td>NaN</td>\n",
              "      <td>[]</td>\n",
              "      <td>Niris</td>\n",
              "      <td>13</td>\n",
              "      <td>Album</td>\n",
              "      <td>1990-01-01 00:00:00</td>\n",
              "      <td>2011-01-01 00:00:00</td>\n",
              "      <td>NaN</td>\n",
              "      <td>&lt;p&gt;Songs written by: Nicky Cook&lt;/p&gt;\\n&lt;p&gt;VOCALS...</td>\n",
              "      <td>2</td>\n",
              "      <td>2008-11-26 01:42:52</td>\n",
              "      <td>10</td>\n",
              "      <td>4</td>\n",
              "      <td>51.895927</td>\n",
              "      <td>Colchester England</td>\n",
              "      <td>0.891874</td>\n",
              "      <td>Nicky Cook\\n</td>\n",
              "      <td>Nicky Cook</td>\n",
              "      <td>NaN</td>\n",
              "      <td>['instrumentals', 'experimental pop', 'post pu...</td>\n",
              "      <td>NaN</td>\n",
              "      <td>NaN</td>\n",
              "      <td>training</td>\n",
              "      <td>large</td>\n",
              "      <td>256000</td>\n",
              "      <td>0</td>\n",
              "      <td>NaN</td>\n",
              "      <td>2008-11-26 01:48:56</td>\n",
              "      <td>2008-01-01 00:00:00</td>\n",
              "      <td>311</td>\n",
              "      <td>0</td>\n",
              "      <td>NaN</td>\n",
              "      <td>[76, 103]</td>\n",
              "      <td>[17, 10, 76, 103]</td>\n",
              "      <td>NaN</td>\n",
              "      <td>978</td>\n",
              "      <td>en</td>\n",
              "      <td>Attribution-NonCommercial-NoDerivatives (aka M...</td>\n",
              "      <td>361</td>\n",
              "      <td>NaN</td>\n",
              "      <td>3</td>\n",
              "      <td>NaN</td>\n",
              "      <td>[]</td>\n",
              "      <td>Spiritual Level</td>\n",
              "    </tr>\n",
              "  </tbody>\n",
              "</table>\n",
              "</div>"
            ],
            "text/plain": [
              "            album                                                     \\\n",
              "         comments         date_created        date_released engineer   \n",
              "track_id                                                               \n",
              "2               0  2008-11-26 01:44:45  2009-01-05 00:00:00      NaN   \n",
              "3               0  2008-11-26 01:44:45  2009-01-05 00:00:00      NaN   \n",
              "5               0  2008-11-26 01:44:45  2009-01-05 00:00:00      NaN   \n",
              "10              0  2008-11-26 01:45:08  2008-02-06 00:00:00      NaN   \n",
              "20              0  2008-11-26 01:45:05  2009-01-06 00:00:00      NaN   \n",
              "\n",
              "                                                                          \\\n",
              "         favorites id                                information listens   \n",
              "track_id                                                                   \n",
              "2                4  1                                    <p></p>    6073   \n",
              "3                4  1                                    <p></p>    6073   \n",
              "5                4  1                                    <p></p>    6073   \n",
              "10               4  6                                        NaN   47632   \n",
              "20               2  4  <p> \"spiritual songs\" from Nicky Cook</p>    2710   \n",
              "\n",
              "                                                            \\\n",
              "         producer tags                 title tracks   type   \n",
              "track_id                                                     \n",
              "2             NaN   []  AWOL - A Way Of Life      7  Album   \n",
              "3             NaN   []  AWOL - A Way Of Life      7  Album   \n",
              "5             NaN   []  AWOL - A Way Of Life      7  Album   \n",
              "10            NaN   []     Constant Hitmaker      2  Album   \n",
              "20            NaN   []                 Niris     13  Album   \n",
              "\n",
              "                       artist                       \\\n",
              "            active_year_begin      active_year_end   \n",
              "track_id                                             \n",
              "2         2006-01-01 00:00:00                  NaN   \n",
              "3         2006-01-01 00:00:00                  NaN   \n",
              "5         2006-01-01 00:00:00                  NaN   \n",
              "10                        NaN                  NaN   \n",
              "20        1990-01-01 00:00:00  2011-01-01 00:00:00   \n",
              "\n",
              "                                                             \\\n",
              "                                          associated_labels   \n",
              "track_id                                                      \n",
              "2                                                       NaN   \n",
              "3                                                       NaN   \n",
              "5                                                       NaN   \n",
              "10        Mexican Summer, Richie Records, Woodsist, Skul...   \n",
              "20                                                      NaN   \n",
              "\n",
              "                                                                      \\\n",
              "                                                        bio comments   \n",
              "track_id                                                               \n",
              "2         <p>A Way Of Life, A Collective of Hip-Hop from...        0   \n",
              "3         <p>A Way Of Life, A Collective of Hip-Hop from...        0   \n",
              "5         <p>A Way Of Life, A Collective of Hip-Hop from...        0   \n",
              "10        <p><span style=\"font-family:Verdana, Geneva, A...        3   \n",
              "20        <p>Songs written by: Nicky Cook</p>\\n<p>VOCALS...        2   \n",
              "\n",
              "                                                                           \\\n",
              "                 date_created favorites id   latitude            location   \n",
              "track_id                                                                    \n",
              "2         2008-11-26 01:42:32         9  1  40.058324          New Jersey   \n",
              "3         2008-11-26 01:42:32         9  1  40.058324          New Jersey   \n",
              "5         2008-11-26 01:42:32         9  1  40.058324          New Jersey   \n",
              "10        2008-11-26 01:42:55        74  6        NaN                 NaN   \n",
              "20        2008-11-26 01:42:52        10  4  51.895927  Colchester England   \n",
              "\n",
              "                                                                        \\\n",
              "          longitude                                            members   \n",
              "track_id                                                                 \n",
              "2        -74.405661  Sajje Morocco,Brownbum,ZawidaGod,Custodian of ...   \n",
              "3        -74.405661  Sajje Morocco,Brownbum,ZawidaGod,Custodian of ...   \n",
              "5        -74.405661  Sajje Morocco,Brownbum,ZawidaGod,Custodian of ...   \n",
              "10              NaN                           Kurt Vile, the Violators   \n",
              "20         0.891874                                       Nicky Cook\\n   \n",
              "\n",
              "                                                                         \\\n",
              "                name                                   related_projects   \n",
              "track_id                                                                  \n",
              "2               AWOL  The list of past projects is 2 long but every1...   \n",
              "3               AWOL  The list of past projects is 2 long but every1...   \n",
              "5               AWOL  The list of past projects is 2 long but every1...   \n",
              "10         Kurt Vile                                                NaN   \n",
              "20        Nicky Cook                                                NaN   \n",
              "\n",
              "                                                             \\\n",
              "                                                       tags   \n",
              "track_id                                                      \n",
              "2                                                  ['awol']   \n",
              "3                                                  ['awol']   \n",
              "5                                                  ['awol']   \n",
              "10                                  ['philly', 'kurt vile']   \n",
              "20        ['instrumentals', 'experimental pop', 'post pu...   \n",
              "\n",
              "                                                                       set  \\\n",
              "                                          website wikipedia_page     split   \n",
              "track_id                                                                     \n",
              "2         http://www.AzillionRecords.blogspot.com            NaN  training   \n",
              "3         http://www.AzillionRecords.blogspot.com            NaN  training   \n",
              "5         http://www.AzillionRecords.blogspot.com            NaN  training   \n",
              "10                            http://kurtvile.com            NaN  training   \n",
              "20                                            NaN            NaN  training   \n",
              "\n",
              "                    track                                           \\\n",
              "          subset bit_rate comments   composer         date_created   \n",
              "track_id                                                             \n",
              "2          small   256000        0        NaN  2008-11-26 01:48:12   \n",
              "3         medium   256000        0        NaN  2008-11-26 01:48:14   \n",
              "5          small   256000        0        NaN  2008-11-26 01:48:20   \n",
              "10         small   192000        0  Kurt Vile  2008-11-25 17:49:06   \n",
              "20         large   256000        0        NaN  2008-11-26 01:48:56   \n",
              "\n",
              "                                                                       \\\n",
              "                date_recorded duration favorites genre_top     genres   \n",
              "track_id                                                                \n",
              "2         2008-11-26 00:00:00      168         2   Hip-Hop       [21]   \n",
              "3         2008-11-26 00:00:00      237         1   Hip-Hop       [21]   \n",
              "5         2008-11-26 00:00:00      206         6   Hip-Hop       [21]   \n",
              "10        2008-11-26 00:00:00      161       178       Pop       [10]   \n",
              "20        2008-01-01 00:00:00      311         0       NaN  [76, 103]   \n",
              "\n",
              "                                                                \\\n",
              "                 genres_all information interest language_code   \n",
              "track_id                                                         \n",
              "2                      [21]         NaN     4656            en   \n",
              "3                      [21]         NaN     1470            en   \n",
              "5                      [21]         NaN     1933            en   \n",
              "10                     [10]         NaN    54881            en   \n",
              "20        [17, 10, 76, 103]         NaN      978            en   \n",
              "\n",
              "                                                                              \\\n",
              "                                                    license listens lyricist   \n",
              "track_id                                                                       \n",
              "2         Attribution-NonCommercial-ShareAlike 3.0 Inter...    1293      NaN   \n",
              "3         Attribution-NonCommercial-ShareAlike 3.0 Inter...     514      NaN   \n",
              "5         Attribution-NonCommercial-ShareAlike 3.0 Inter...    1151      NaN   \n",
              "10        Attribution-NonCommercial-NoDerivatives (aka M...   50135      NaN   \n",
              "20        Attribution-NonCommercial-NoDerivatives (aka M...     361      NaN   \n",
              "\n",
              "                                                 \n",
              "         number publisher tags            title  \n",
              "track_id                                         \n",
              "2             3       NaN   []             Food  \n",
              "3             4       NaN   []     Electric Ave  \n",
              "5             6       NaN   []       This World  \n",
              "10            1       NaN   []          Freeway  \n",
              "20            3       NaN   []  Spiritual Level  "
            ]
          },
          "metadata": {
            "tags": []
          },
          "execution_count": 45
        }
      ]
    },
    {
      "cell_type": "code",
      "metadata": {
        "id": "D5kwawFu7SRo",
        "colab_type": "code",
        "colab": {
          "base_uri": "https://localhost:8080/",
          "height": 337
        },
        "outputId": "865691ac-78b5-452d-891d-b8550f529358"
      },
      "source": [
        "tracks.describe(include='number')"
      ],
      "execution_count": 46,
      "outputs": [
        {
          "output_type": "execute_result",
          "data": {
            "text/html": [
              "<div>\n",
              "<style scoped>\n",
              "    .dataframe tbody tr th:only-of-type {\n",
              "        vertical-align: middle;\n",
              "    }\n",
              "\n",
              "    .dataframe tbody tr th {\n",
              "        vertical-align: top;\n",
              "    }\n",
              "\n",
              "    .dataframe thead tr th {\n",
              "        text-align: left;\n",
              "    }\n",
              "</style>\n",
              "<table border=\"1\" class=\"dataframe\">\n",
              "  <thead>\n",
              "    <tr>\n",
              "      <th></th>\n",
              "      <th colspan=\"5\" halign=\"left\">album</th>\n",
              "      <th colspan=\"5\" halign=\"left\">artist</th>\n",
              "      <th colspan=\"7\" halign=\"left\">track</th>\n",
              "    </tr>\n",
              "    <tr>\n",
              "      <th></th>\n",
              "      <th>comments</th>\n",
              "      <th>favorites</th>\n",
              "      <th>id</th>\n",
              "      <th>listens</th>\n",
              "      <th>tracks</th>\n",
              "      <th>comments</th>\n",
              "      <th>favorites</th>\n",
              "      <th>id</th>\n",
              "      <th>latitude</th>\n",
              "      <th>longitude</th>\n",
              "      <th>bit_rate</th>\n",
              "      <th>comments</th>\n",
              "      <th>duration</th>\n",
              "      <th>favorites</th>\n",
              "      <th>interest</th>\n",
              "      <th>listens</th>\n",
              "      <th>number</th>\n",
              "    </tr>\n",
              "  </thead>\n",
              "  <tbody>\n",
              "    <tr>\n",
              "      <th>count</th>\n",
              "      <td>106574.000000</td>\n",
              "      <td>106574.000000</td>\n",
              "      <td>106574.000000</td>\n",
              "      <td>1.065740e+05</td>\n",
              "      <td>106574.000000</td>\n",
              "      <td>106574.000000</td>\n",
              "      <td>106574.000000</td>\n",
              "      <td>106574.000000</td>\n",
              "      <td>44544.000000</td>\n",
              "      <td>44544.000000</td>\n",
              "      <td>106574.000000</td>\n",
              "      <td>106574.000000</td>\n",
              "      <td>106574.000000</td>\n",
              "      <td>106574.000000</td>\n",
              "      <td>1.065740e+05</td>\n",
              "      <td>106574.000000</td>\n",
              "      <td>106574.000000</td>\n",
              "    </tr>\n",
              "    <tr>\n",
              "      <th>mean</th>\n",
              "      <td>0.394946</td>\n",
              "      <td>1.286927</td>\n",
              "      <td>12826.933914</td>\n",
              "      <td>3.212031e+04</td>\n",
              "      <td>19.721452</td>\n",
              "      <td>1.894702</td>\n",
              "      <td>30.041915</td>\n",
              "      <td>12036.770404</td>\n",
              "      <td>39.901626</td>\n",
              "      <td>-38.668642</td>\n",
              "      <td>263274.695048</td>\n",
              "      <td>0.031621</td>\n",
              "      <td>277.849100</td>\n",
              "      <td>3.182521</td>\n",
              "      <td>3.541310e+03</td>\n",
              "      <td>2329.353548</td>\n",
              "      <td>8.260945</td>\n",
              "    </tr>\n",
              "    <tr>\n",
              "      <th>std</th>\n",
              "      <td>2.268915</td>\n",
              "      <td>3.133035</td>\n",
              "      <td>6290.261805</td>\n",
              "      <td>1.478532e+05</td>\n",
              "      <td>39.943673</td>\n",
              "      <td>6.297679</td>\n",
              "      <td>100.511408</td>\n",
              "      <td>6881.420867</td>\n",
              "      <td>18.240860</td>\n",
              "      <td>65.237220</td>\n",
              "      <td>67623.443584</td>\n",
              "      <td>0.321993</td>\n",
              "      <td>305.518553</td>\n",
              "      <td>13.513820</td>\n",
              "      <td>1.901743e+04</td>\n",
              "      <td>8028.070647</td>\n",
              "      <td>15.243271</td>\n",
              "    </tr>\n",
              "    <tr>\n",
              "      <th>min</th>\n",
              "      <td>-1.000000</td>\n",
              "      <td>-1.000000</td>\n",
              "      <td>-1.000000</td>\n",
              "      <td>-1.000000e+00</td>\n",
              "      <td>-1.000000</td>\n",
              "      <td>-1.000000</td>\n",
              "      <td>-1.000000</td>\n",
              "      <td>1.000000</td>\n",
              "      <td>-45.878760</td>\n",
              "      <td>-157.526855</td>\n",
              "      <td>-1.000000</td>\n",
              "      <td>0.000000</td>\n",
              "      <td>0.000000</td>\n",
              "      <td>0.000000</td>\n",
              "      <td>2.000000e+00</td>\n",
              "      <td>0.000000</td>\n",
              "      <td>0.000000</td>\n",
              "    </tr>\n",
              "    <tr>\n",
              "      <th>25%</th>\n",
              "      <td>0.000000</td>\n",
              "      <td>0.000000</td>\n",
              "      <td>7793.000000</td>\n",
              "      <td>3.361000e+03</td>\n",
              "      <td>7.000000</td>\n",
              "      <td>0.000000</td>\n",
              "      <td>1.000000</td>\n",
              "      <td>6443.000000</td>\n",
              "      <td>39.271398</td>\n",
              "      <td>-79.997459</td>\n",
              "      <td>192000.000000</td>\n",
              "      <td>0.000000</td>\n",
              "      <td>149.000000</td>\n",
              "      <td>0.000000</td>\n",
              "      <td>5.990000e+02</td>\n",
              "      <td>292.000000</td>\n",
              "      <td>2.000000</td>\n",
              "    </tr>\n",
              "    <tr>\n",
              "      <th>50%</th>\n",
              "      <td>0.000000</td>\n",
              "      <td>0.000000</td>\n",
              "      <td>13374.000000</td>\n",
              "      <td>8.982000e+03</td>\n",
              "      <td>11.000000</td>\n",
              "      <td>0.000000</td>\n",
              "      <td>5.000000</td>\n",
              "      <td>12029.500000</td>\n",
              "      <td>41.387917</td>\n",
              "      <td>-73.554431</td>\n",
              "      <td>299914.000000</td>\n",
              "      <td>0.000000</td>\n",
              "      <td>216.000000</td>\n",
              "      <td>1.000000</td>\n",
              "      <td>1.314000e+03</td>\n",
              "      <td>764.000000</td>\n",
              "      <td>5.000000</td>\n",
              "    </tr>\n",
              "    <tr>\n",
              "      <th>75%</th>\n",
              "      <td>0.000000</td>\n",
              "      <td>1.000000</td>\n",
              "      <td>18203.000000</td>\n",
              "      <td>2.363500e+04</td>\n",
              "      <td>17.000000</td>\n",
              "      <td>1.000000</td>\n",
              "      <td>16.000000</td>\n",
              "      <td>18011.000000</td>\n",
              "      <td>48.856930</td>\n",
              "      <td>4.351710</td>\n",
              "      <td>320000.000000</td>\n",
              "      <td>0.000000</td>\n",
              "      <td>305.000000</td>\n",
              "      <td>3.000000</td>\n",
              "      <td>3.059000e+03</td>\n",
              "      <td>2018.000000</td>\n",
              "      <td>9.000000</td>\n",
              "    </tr>\n",
              "    <tr>\n",
              "      <th>max</th>\n",
              "      <td>53.000000</td>\n",
              "      <td>61.000000</td>\n",
              "      <td>22940.000000</td>\n",
              "      <td>3.564243e+06</td>\n",
              "      <td>652.000000</td>\n",
              "      <td>79.000000</td>\n",
              "      <td>963.000000</td>\n",
              "      <td>24357.000000</td>\n",
              "      <td>67.286005</td>\n",
              "      <td>175.277000</td>\n",
              "      <td>448000.000000</td>\n",
              "      <td>37.000000</td>\n",
              "      <td>18350.000000</td>\n",
              "      <td>1482.000000</td>\n",
              "      <td>3.293557e+06</td>\n",
              "      <td>543252.000000</td>\n",
              "      <td>255.000000</td>\n",
              "    </tr>\n",
              "  </tbody>\n",
              "</table>\n",
              "</div>"
            ],
            "text/plain": [
              "               album                                              \\\n",
              "            comments      favorites             id       listens   \n",
              "count  106574.000000  106574.000000  106574.000000  1.065740e+05   \n",
              "mean        0.394946       1.286927   12826.933914  3.212031e+04   \n",
              "std         2.268915       3.133035    6290.261805  1.478532e+05   \n",
              "min        -1.000000      -1.000000      -1.000000 -1.000000e+00   \n",
              "25%         0.000000       0.000000    7793.000000  3.361000e+03   \n",
              "50%         0.000000       0.000000   13374.000000  8.982000e+03   \n",
              "75%         0.000000       1.000000   18203.000000  2.363500e+04   \n",
              "max        53.000000      61.000000   22940.000000  3.564243e+06   \n",
              "\n",
              "                             artist                                \\\n",
              "              tracks       comments      favorites             id   \n",
              "count  106574.000000  106574.000000  106574.000000  106574.000000   \n",
              "mean       19.721452       1.894702      30.041915   12036.770404   \n",
              "std        39.943673       6.297679     100.511408    6881.420867   \n",
              "min        -1.000000      -1.000000      -1.000000       1.000000   \n",
              "25%         7.000000       0.000000       1.000000    6443.000000   \n",
              "50%        11.000000       0.000000       5.000000   12029.500000   \n",
              "75%        17.000000       1.000000      16.000000   18011.000000   \n",
              "max       652.000000      79.000000     963.000000   24357.000000   \n",
              "\n",
              "                                           track                 \\\n",
              "           latitude     longitude       bit_rate       comments   \n",
              "count  44544.000000  44544.000000  106574.000000  106574.000000   \n",
              "mean      39.901626    -38.668642  263274.695048       0.031621   \n",
              "std       18.240860     65.237220   67623.443584       0.321993   \n",
              "min      -45.878760   -157.526855      -1.000000       0.000000   \n",
              "25%       39.271398    -79.997459  192000.000000       0.000000   \n",
              "50%       41.387917    -73.554431  299914.000000       0.000000   \n",
              "75%       48.856930      4.351710  320000.000000       0.000000   \n",
              "max       67.286005    175.277000  448000.000000      37.000000   \n",
              "\n",
              "                                                                  \\\n",
              "            duration      favorites      interest        listens   \n",
              "count  106574.000000  106574.000000  1.065740e+05  106574.000000   \n",
              "mean      277.849100       3.182521  3.541310e+03    2329.353548   \n",
              "std       305.518553      13.513820  1.901743e+04    8028.070647   \n",
              "min         0.000000       0.000000  2.000000e+00       0.000000   \n",
              "25%       149.000000       0.000000  5.990000e+02     292.000000   \n",
              "50%       216.000000       1.000000  1.314000e+03     764.000000   \n",
              "75%       305.000000       3.000000  3.059000e+03    2018.000000   \n",
              "max     18350.000000    1482.000000  3.293557e+06  543252.000000   \n",
              "\n",
              "                      \n",
              "              number  \n",
              "count  106574.000000  \n",
              "mean        8.260945  \n",
              "std        15.243271  \n",
              "min         0.000000  \n",
              "25%         2.000000  \n",
              "50%         5.000000  \n",
              "75%         9.000000  \n",
              "max       255.000000  "
            ]
          },
          "metadata": {
            "tags": []
          },
          "execution_count": 46
        }
      ]
    },
    {
      "cell_type": "code",
      "metadata": {
        "id": "Dn451dHm8Sg2",
        "colab_type": "code",
        "colab": {
          "base_uri": "https://localhost:8080/",
          "height": 284
        },
        "outputId": "07dee92a-4c6f-419c-fc61-057d95468a93"
      },
      "source": [
        "tracks.describe(exclude='number')"
      ],
      "execution_count": 47,
      "outputs": [
        {
          "output_type": "execute_result",
          "data": {
            "text/html": [
              "<div>\n",
              "<style scoped>\n",
              "    .dataframe tbody tr th:only-of-type {\n",
              "        vertical-align: middle;\n",
              "    }\n",
              "\n",
              "    .dataframe tbody tr th {\n",
              "        vertical-align: top;\n",
              "    }\n",
              "\n",
              "    .dataframe thead tr th {\n",
              "        text-align: left;\n",
              "    }\n",
              "</style>\n",
              "<table border=\"1\" class=\"dataframe\">\n",
              "  <thead>\n",
              "    <tr>\n",
              "      <th></th>\n",
              "      <th colspan=\"8\" halign=\"left\">album</th>\n",
              "      <th colspan=\"12\" halign=\"left\">artist</th>\n",
              "      <th colspan=\"2\" halign=\"left\">set</th>\n",
              "      <th colspan=\"13\" halign=\"left\">track</th>\n",
              "    </tr>\n",
              "    <tr>\n",
              "      <th></th>\n",
              "      <th>date_created</th>\n",
              "      <th>date_released</th>\n",
              "      <th>engineer</th>\n",
              "      <th>information</th>\n",
              "      <th>producer</th>\n",
              "      <th>tags</th>\n",
              "      <th>title</th>\n",
              "      <th>type</th>\n",
              "      <th>active_year_begin</th>\n",
              "      <th>active_year_end</th>\n",
              "      <th>associated_labels</th>\n",
              "      <th>bio</th>\n",
              "      <th>date_created</th>\n",
              "      <th>location</th>\n",
              "      <th>members</th>\n",
              "      <th>name</th>\n",
              "      <th>related_projects</th>\n",
              "      <th>tags</th>\n",
              "      <th>website</th>\n",
              "      <th>wikipedia_page</th>\n",
              "      <th>split</th>\n",
              "      <th>subset</th>\n",
              "      <th>composer</th>\n",
              "      <th>date_created</th>\n",
              "      <th>date_recorded</th>\n",
              "      <th>genre_top</th>\n",
              "      <th>genres</th>\n",
              "      <th>genres_all</th>\n",
              "      <th>information</th>\n",
              "      <th>language_code</th>\n",
              "      <th>license</th>\n",
              "      <th>lyricist</th>\n",
              "      <th>publisher</th>\n",
              "      <th>tags</th>\n",
              "      <th>title</th>\n",
              "    </tr>\n",
              "  </thead>\n",
              "  <tbody>\n",
              "    <tr>\n",
              "      <th>count</th>\n",
              "      <td>103045</td>\n",
              "      <td>70294</td>\n",
              "      <td>15295</td>\n",
              "      <td>83149</td>\n",
              "      <td>18060</td>\n",
              "      <td>106574</td>\n",
              "      <td>105549</td>\n",
              "      <td>100066</td>\n",
              "      <td>22711</td>\n",
              "      <td>5375</td>\n",
              "      <td>14271</td>\n",
              "      <td>71156</td>\n",
              "      <td>105718</td>\n",
              "      <td>70210</td>\n",
              "      <td>46849</td>\n",
              "      <td>106574</td>\n",
              "      <td>13152</td>\n",
              "      <td>106574</td>\n",
              "      <td>79256</td>\n",
              "      <td>5581</td>\n",
              "      <td>106574</td>\n",
              "      <td>106574</td>\n",
              "      <td>3670</td>\n",
              "      <td>106574</td>\n",
              "      <td>6159</td>\n",
              "      <td>49598</td>\n",
              "      <td>106574</td>\n",
              "      <td>106574</td>\n",
              "      <td>2349</td>\n",
              "      <td>15024</td>\n",
              "      <td>106487</td>\n",
              "      <td>311</td>\n",
              "      <td>1263</td>\n",
              "      <td>106574</td>\n",
              "      <td>106573</td>\n",
              "    </tr>\n",
              "    <tr>\n",
              "      <th>unique</th>\n",
              "      <td>14340</td>\n",
              "      <td>3669</td>\n",
              "      <td>622</td>\n",
              "      <td>11075</td>\n",
              "      <td>760</td>\n",
              "      <td>2388</td>\n",
              "      <td>14298</td>\n",
              "      <td>5</td>\n",
              "      <td>76</td>\n",
              "      <td>57</td>\n",
              "      <td>754</td>\n",
              "      <td>6084</td>\n",
              "      <td>15970</td>\n",
              "      <td>2329</td>\n",
              "      <td>4015</td>\n",
              "      <td>16294</td>\n",
              "      <td>752</td>\n",
              "      <td>15660</td>\n",
              "      <td>6642</td>\n",
              "      <td>389</td>\n",
              "      <td>3</td>\n",
              "      <td>3</td>\n",
              "      <td>505</td>\n",
              "      <td>86169</td>\n",
              "      <td>773</td>\n",
              "      <td>16</td>\n",
              "      <td>4768</td>\n",
              "      <td>4151</td>\n",
              "      <td>1586</td>\n",
              "      <td>44</td>\n",
              "      <td>113</td>\n",
              "      <td>66</td>\n",
              "      <td>135</td>\n",
              "      <td>2451</td>\n",
              "      <td>94986</td>\n",
              "    </tr>\n",
              "    <tr>\n",
              "      <th>top</th>\n",
              "      <td>2015-01-26 13:04:57</td>\n",
              "      <td>2008-01-01 00:00:00</td>\n",
              "      <td>Ernie Indradat</td>\n",
              "      <td>&lt;p class=\"p1\" style=\"margin: 0px; padding: 8px...</td>\n",
              "      <td>Joe Belock</td>\n",
              "      <td>[]</td>\n",
              "      <td>microSong Entries</td>\n",
              "      <td>Album</td>\n",
              "      <td>2007-01-01 00:00:00</td>\n",
              "      <td>2016-01-01 00:00:00</td>\n",
              "      <td>HUSH Records</td>\n",
              "      <td>&lt;p&gt;&lt;span style=\"color: #333333; font-family: G...</td>\n",
              "      <td>2013-03-31 02:17:41</td>\n",
              "      <td>Brooklyn, NY</td>\n",
              "      <td>Konstantin Trokay</td>\n",
              "      <td>Kosta T</td>\n",
              "      <td>Ratatat, Lullatone, Nightmares On Wax, Air, Mo...</td>\n",
              "      <td>[]</td>\n",
              "      <td>https://soundcloud.com/konstantin-trokay</td>\n",
              "      <td>http://en.wikipedia.org/wiki/Josh_Woodward</td>\n",
              "      <td>training</td>\n",
              "      <td>large</td>\n",
              "      <td>konstantin trokai</td>\n",
              "      <td>2009-05-05 09:31:42</td>\n",
              "      <td>2008-11-26 00:00:00</td>\n",
              "      <td>Rock</td>\n",
              "      <td>[21]</td>\n",
              "      <td>[21]</td>\n",
              "      <td>&lt;p&gt;&lt;a href=\"http://www.myspace.com/theshambler...</td>\n",
              "      <td>en</td>\n",
              "      <td>Attribution-Noncommercial-Share Alike 3.0 Unit...</td>\n",
              "      <td>Apache Tomcat</td>\n",
              "      <td>Victrola Dog (ASCAP)</td>\n",
              "      <td>[]</td>\n",
              "      <td>Untitled</td>\n",
              "    </tr>\n",
              "    <tr>\n",
              "      <th>freq</th>\n",
              "      <td>310</td>\n",
              "      <td>667</td>\n",
              "      <td>876</td>\n",
              "      <td>310</td>\n",
              "      <td>855</td>\n",
              "      <td>83549</td>\n",
              "      <td>310</td>\n",
              "      <td>87549</td>\n",
              "      <td>1789</td>\n",
              "      <td>479</td>\n",
              "      <td>604</td>\n",
              "      <td>745</td>\n",
              "      <td>745</td>\n",
              "      <td>2327</td>\n",
              "      <td>745</td>\n",
              "      <td>745</td>\n",
              "      <td>604</td>\n",
              "      <td>3061</td>\n",
              "      <td>745</td>\n",
              "      <td>284</td>\n",
              "      <td>84353</td>\n",
              "      <td>81574</td>\n",
              "      <td>541</td>\n",
              "      <td>4</td>\n",
              "      <td>700</td>\n",
              "      <td>14182</td>\n",
              "      <td>2735</td>\n",
              "      <td>2735</td>\n",
              "      <td>22</td>\n",
              "      <td>14255</td>\n",
              "      <td>19250</td>\n",
              "      <td>44</td>\n",
              "      <td>465</td>\n",
              "      <td>83078</td>\n",
              "      <td>298</td>\n",
              "    </tr>\n",
              "  </tbody>\n",
              "</table>\n",
              "</div>"
            ],
            "text/plain": [
              "                      album                                       \\\n",
              "               date_created        date_released        engineer   \n",
              "count                103045                70294           15295   \n",
              "unique                14340                 3669             622   \n",
              "top     2015-01-26 13:04:57  2008-01-01 00:00:00  Ernie Indradat   \n",
              "freq                    310                  667             876   \n",
              "\n",
              "                                                                               \\\n",
              "                                              information    producer    tags   \n",
              "count                                               83149       18060  106574   \n",
              "unique                                              11075         760    2388   \n",
              "top     <p class=\"p1\" style=\"margin: 0px; padding: 8px...  Joe Belock      []   \n",
              "freq                                                  310         855   83549   \n",
              "\n",
              "                                                artist                       \\\n",
              "                    title    type    active_year_begin      active_year_end   \n",
              "count              105549  100066                22711                 5375   \n",
              "unique              14298       5                   76                   57   \n",
              "top     microSong Entries   Album  2007-01-01 00:00:00  2016-01-01 00:00:00   \n",
              "freq                  310   87549                 1789                  479   \n",
              "\n",
              "                                                                             \\\n",
              "       associated_labels                                                bio   \n",
              "count              14271                                              71156   \n",
              "unique               754                                               6084   \n",
              "top         HUSH Records  <p><span style=\"color: #333333; font-family: G...   \n",
              "freq                 604                                                745   \n",
              "\n",
              "                                                                       \\\n",
              "               date_created      location            members     name   \n",
              "count                105718         70210              46849   106574   \n",
              "unique                15970          2329               4015    16294   \n",
              "top     2013-03-31 02:17:41  Brooklyn, NY  Konstantin Trokay  Kosta T   \n",
              "freq                    745          2327                745      745   \n",
              "\n",
              "                                                                   \\\n",
              "                                         related_projects    tags   \n",
              "count                                               13152  106574   \n",
              "unique                                                752   15660   \n",
              "top     Ratatat, Lullatone, Nightmares On Wax, Air, Mo...      []   \n",
              "freq                                                  604    3061   \n",
              "\n",
              "                                                  \\\n",
              "                                         website   \n",
              "count                                      79256   \n",
              "unique                                      6642   \n",
              "top     https://soundcloud.com/konstantin-trokay   \n",
              "freq                                         745   \n",
              "\n",
              "                                                         set          \\\n",
              "                                    wikipedia_page     split  subset   \n",
              "count                                         5581    106574  106574   \n",
              "unique                                         389         3       3   \n",
              "top     http://en.wikipedia.org/wiki/Josh_Woodward  training   large   \n",
              "freq                                           284     84353   81574   \n",
              "\n",
              "                    track                                                      \\\n",
              "                 composer         date_created        date_recorded genre_top   \n",
              "count                3670               106574                 6159     49598   \n",
              "unique                505                86169                  773        16   \n",
              "top     konstantin trokai  2009-05-05 09:31:42  2008-11-26 00:00:00      Rock   \n",
              "freq                  541                    4                  700     14182   \n",
              "\n",
              "                                                                              \\\n",
              "        genres genres_all                                        information   \n",
              "count   106574     106574                                               2349   \n",
              "unique    4768       4151                                               1586   \n",
              "top       [21]       [21]  <p><a href=\"http://www.myspace.com/theshambler...   \n",
              "freq      2735       2735                                                 22   \n",
              "\n",
              "                                                                         \\\n",
              "       language_code                                            license   \n",
              "count          15024                                             106487   \n",
              "unique            44                                                113   \n",
              "top               en  Attribution-Noncommercial-Share Alike 3.0 Unit...   \n",
              "freq           14255                                              19250   \n",
              "\n",
              "                                                               \n",
              "             lyricist             publisher    tags     title  \n",
              "count             311                  1263  106574    106573  \n",
              "unique             66                   135    2451     94986  \n",
              "top     Apache Tomcat  Victrola Dog (ASCAP)      []  Untitled  \n",
              "freq               44                   465   83078       298  "
            ]
          },
          "metadata": {
            "tags": []
          },
          "execution_count": 47
        }
      ]
    },
    {
      "cell_type": "code",
      "metadata": {
        "id": "uSLWs6qhB19V",
        "colab_type": "code",
        "colab": {
          "base_uri": "https://localhost:8080/",
          "height": 87
        },
        "outputId": "6bcf5de5-6c1e-4ddb-9561-e93f0fffc53a"
      },
      "source": [
        "tracks[\"set\", \"split\"].value_counts()"
      ],
      "execution_count": 53,
      "outputs": [
        {
          "output_type": "execute_result",
          "data": {
            "text/plain": [
              "training      84353\n",
              "test          11263\n",
              "validation    10958\n",
              "Name: (set, split), dtype: int64"
            ]
          },
          "metadata": {
            "tags": []
          },
          "execution_count": 53
        }
      ]
    },
    {
      "cell_type": "code",
      "metadata": {
        "id": "k_BHKfWs9pkW",
        "colab_type": "code",
        "colab": {
          "base_uri": "https://localhost:8080/",
          "height": 1030
        },
        "outputId": "b1963e49-07f0-4710-a693-72576b71c94a"
      },
      "source": [
        "tracks.info()"
      ],
      "execution_count": 48,
      "outputs": [
        {
          "output_type": "stream",
          "text": [
            "<class 'pandas.core.frame.DataFrame'>\n",
            "Int64Index: 106574 entries, 2 to 155320\n",
            "Data columns (total 52 columns):\n",
            "(album, comments)              106574 non-null int64\n",
            "(album, date_created)          103045 non-null object\n",
            "(album, date_released)         70294 non-null object\n",
            "(album, engineer)              15295 non-null object\n",
            "(album, favorites)             106574 non-null int64\n",
            "(album, id)                    106574 non-null int64\n",
            "(album, information)           83149 non-null object\n",
            "(album, listens)               106574 non-null int64\n",
            "(album, producer)              18060 non-null object\n",
            "(album, tags)                  106574 non-null object\n",
            "(album, title)                 105549 non-null object\n",
            "(album, tracks)                106574 non-null int64\n",
            "(album, type)                  100066 non-null object\n",
            "(artist, active_year_begin)    22711 non-null object\n",
            "(artist, active_year_end)      5375 non-null object\n",
            "(artist, associated_labels)    14271 non-null object\n",
            "(artist, bio)                  71156 non-null object\n",
            "(artist, comments)             106574 non-null int64\n",
            "(artist, date_created)         105718 non-null object\n",
            "(artist, favorites)            106574 non-null int64\n",
            "(artist, id)                   106574 non-null int64\n",
            "(artist, latitude)             44544 non-null float64\n",
            "(artist, location)             70210 non-null object\n",
            "(artist, longitude)            44544 non-null float64\n",
            "(artist, members)              46849 non-null object\n",
            "(artist, name)                 106574 non-null object\n",
            "(artist, related_projects)     13152 non-null object\n",
            "(artist, tags)                 106574 non-null object\n",
            "(artist, website)              79256 non-null object\n",
            "(artist, wikipedia_page)       5581 non-null object\n",
            "(set, split)                   106574 non-null object\n",
            "(set, subset)                  106574 non-null object\n",
            "(track, bit_rate)              106574 non-null int64\n",
            "(track, comments)              106574 non-null int64\n",
            "(track, composer)              3670 non-null object\n",
            "(track, date_created)          106574 non-null object\n",
            "(track, date_recorded)         6159 non-null object\n",
            "(track, duration)              106574 non-null int64\n",
            "(track, favorites)             106574 non-null int64\n",
            "(track, genre_top)             49598 non-null object\n",
            "(track, genres)                106574 non-null object\n",
            "(track, genres_all)            106574 non-null object\n",
            "(track, information)           2349 non-null object\n",
            "(track, interest)              106574 non-null int64\n",
            "(track, language_code)         15024 non-null object\n",
            "(track, license)               106487 non-null object\n",
            "(track, listens)               106574 non-null int64\n",
            "(track, lyricist)              311 non-null object\n",
            "(track, number)                106574 non-null int64\n",
            "(track, publisher)             1263 non-null object\n",
            "(track, tags)                  106574 non-null object\n",
            "(track, title)                 106573 non-null object\n",
            "dtypes: float64(2), int64(15), object(35)\n",
            "memory usage: 43.1+ MB\n"
          ],
          "name": "stdout"
        }
      ]
    },
    {
      "cell_type": "code",
      "metadata": {
        "id": "k7O-WL7j9889",
        "colab_type": "code",
        "colab": {
          "base_uri": "https://localhost:8080/",
          "height": 318
        },
        "outputId": "fba21ee9-04eb-4fbb-882b-5c2ef0a49477"
      },
      "source": [
        "tracks[\"track\", \"genre_top\"].value_counts()"
      ],
      "execution_count": 52,
      "outputs": [
        {
          "output_type": "execute_result",
          "data": {
            "text/plain": [
              "Rock                   14182\n",
              "Experimental           10608\n",
              "Electronic              9372\n",
              "Hip-Hop                 3552\n",
              "Folk                    2803\n",
              "Pop                     2332\n",
              "Instrumental            2079\n",
              "International           1389\n",
              "Classical               1230\n",
              "Jazz                     571\n",
              "Old-Time / Historic      554\n",
              "Spoken                   423\n",
              "Country                  194\n",
              "Soul-RnB                 175\n",
              "Blues                    110\n",
              "Easy Listening            24\n",
              "Name: (track, genre_top), dtype: int64"
            ]
          },
          "metadata": {
            "tags": []
          },
          "execution_count": 52
        }
      ]
    },
    {
      "cell_type": "code",
      "metadata": {
        "id": "di0Vr9I0Orfy",
        "colab_type": "code",
        "colab": {
          "base_uri": "https://localhost:8080/",
          "height": 133
        },
        "outputId": "0f4356b0-01cc-4f3e-9fe9-436c7616f84a"
      },
      "source": [
        "[\"track\", \"genre_numeric\"] = {\"track\", \"genre_top\": {\"Rock\": 1, \n",
        "                                                           \"Experimental\": 2, \n",
        "                                                           \"Electronic\": 3, \n",
        "                                                           \"Hip-Hop\": 4,\n",
        "                                                           \"Folk\": 5,\n",
        "                                                           \"Pop\": 6,\n",
        "                                                           \"Instrumental\": 7,\n",
        "                                                           \"International\"; 8,\n",
        "                                                           \"Classical\": 9,\n",
        "                                                           \"Jazz\": 10,\n",
        "                                                           \"Old Time / Historic\": 11,\n",
        "                                                           \"Spoken\": 12,\n",
        "                                                           \"Country\": 13,\n",
        "                                                           \"Soul-RnB\": 14,\n",
        "                                                           \"Blues\": 15,\n",
        "                                                           \"Easy Listening\": 16}}\n",
        "\n",
        "pd.merge(tracks, )"
      ],
      "execution_count": 95,
      "outputs": [
        {
          "output_type": "error",
          "ename": "SyntaxError",
          "evalue": "ignored",
          "traceback": [
            "\u001b[0;36m  File \u001b[0;32m\"<ipython-input-95-d22752a4c1a3>\"\u001b[0;36m, line \u001b[0;32m1\u001b[0m\n\u001b[0;31m    tracks[\"track\", \"genre_numeric\"] = {\"track\", \"genre_top\": {\"Rock\": 1,\u001b[0m\n\u001b[0m                                                            ^\u001b[0m\n\u001b[0;31mSyntaxError\u001b[0m\u001b[0;31m:\u001b[0m invalid syntax\n"
          ]
        }
      ]
    },
    {
      "cell_type": "markdown",
      "metadata": {
        "id": "sfx64s8z9gXh",
        "colab_type": "text"
      },
      "source": [
        "### Fit Logistic Regression!"
      ]
    },
    {
      "cell_type": "code",
      "metadata": {
        "id": "AM_YIEsjBcAA",
        "colab_type": "code",
        "colab": {}
      },
      "source": [
        "tracks_train = tracks[tracks[\"set\", \"split\"] == \"training\"]\n",
        "tracks_test = tracks[tracks[\"set\", \"split\"] == \"test\"]"
      ],
      "execution_count": 0,
      "outputs": []
    },
    {
      "cell_type": "code",
      "metadata": {
        "id": "cX6GJCk-LKcu",
        "colab_type": "code",
        "colab": {
          "base_uri": "https://localhost:8080/",
          "height": 72
        },
        "outputId": "f187017b-4b3e-4892-aa42-324067fec4d9"
      },
      "source": [
        "tracks.columns"
      ],
      "execution_count": 74,
      "outputs": [
        {
          "output_type": "execute_result",
          "data": {
            "text/plain": [
              "MultiIndex(levels=[['album', 'artist', 'set', 'track'], ['active_year_begin', 'active_year_end', 'associated_labels', 'bio', 'bit_rate', 'comments', 'composer', 'date_created', 'date_recorded', 'date_released', 'duration', 'engineer', 'favorites', 'genre_top', 'genres', 'genres_all', 'id', 'information', 'interest', 'language_code', 'latitude', 'license', 'listens', 'location', 'longitude', 'lyricist', 'members', 'name', 'number', 'producer', 'publisher', 'related_projects', 'split', 'subset', 'tags', 'title', 'tracks', 'type', 'website', 'wikipedia_page']],\n",
              "           codes=[[0, 0, 0, 0, 0, 0, 0, 0, 0, 0, 0, 0, 0, 1, 1, 1, 1, 1, 1, 1, 1, 1, 1, 1, 1, 1, 1, 1, 1, 1, 2, 2, 3, 3, 3, 3, 3, 3, 3, 3, 3, 3, 3, 3, 3, 3, 3, 3, 3, 3, 3, 3], [5, 7, 9, 11, 12, 16, 17, 22, 29, 34, 35, 36, 37, 0, 1, 2, 3, 5, 7, 12, 16, 20, 23, 24, 26, 27, 31, 34, 38, 39, 32, 33, 4, 5, 6, 7, 8, 10, 12, 13, 14, 15, 17, 18, 19, 21, 22, 25, 28, 30, 34, 35]])"
            ]
          },
          "metadata": {
            "tags": []
          },
          "execution_count": 74
        }
      ]
    },
    {
      "cell_type": "code",
      "metadata": {
        "id": "eoBFrxPS9gXh",
        "colab_type": "code",
        "colab": {}
      },
      "source": [
        "target = \"track\", \"genre_top\"\n",
        "features = [[\"album\", \"track\", \"track\", \"track\"], [\"tracks\", \"duration\", \"bit_rate\", \"listens\"]]\n",
        "\n",
        "X_train = tracks_train[features]\n",
        "y_train = tracks_train[target]\n",
        "X_test = tracks_test[features]\n",
        "y_test = tracks_test[target]"
      ],
      "execution_count": 0,
      "outputs": []
    },
    {
      "cell_type": "code",
      "metadata": {
        "id": "Mg7y0Sm5MKYT",
        "colab_type": "code",
        "colab": {
          "base_uri": "https://localhost:8080/",
          "height": 34
        },
        "outputId": "6a537539-7fa0-46f3-eb4d-f0297ca10c32"
      },
      "source": [
        "y_train.dtypes"
      ],
      "execution_count": 92,
      "outputs": [
        {
          "output_type": "execute_result",
          "data": {
            "text/plain": [
              "dtype('O')"
            ]
          },
          "metadata": {
            "tags": []
          },
          "execution_count": 92
        }
      ]
    },
    {
      "cell_type": "code",
      "metadata": {
        "id": "M6PPwkkCD07-",
        "colab_type": "code",
        "colab": {
          "base_uri": "https://localhost:8080/",
          "height": 373
        },
        "outputId": "d945cd17-3145-4b8d-e000-47decc743b6f"
      },
      "source": [
        "imputer = SimpleImputer()\n",
        "X_train_imputed = imputer.fit_transform(X_train)\n",
        "X_test_imputed = imputer.transform(X_test)\n",
        "\n",
        "logreg = LogisticRegression(solver=\"lbfgs\")\n",
        "logreg.fit(X_train_imputed, y_train)"
      ],
      "execution_count": 94,
      "outputs": [
        {
          "output_type": "error",
          "ename": "TypeError",
          "evalue": "ignored",
          "traceback": [
            "\u001b[0;31m---------------------------------------------------------------------------\u001b[0m",
            "\u001b[0;31mTypeError\u001b[0m                                 Traceback (most recent call last)",
            "\u001b[0;32m<ipython-input-94-97989a3d82ff>\u001b[0m in \u001b[0;36m<module>\u001b[0;34m()\u001b[0m\n\u001b[1;32m      4\u001b[0m \u001b[0;34m\u001b[0m\u001b[0m\n\u001b[1;32m      5\u001b[0m \u001b[0mlogreg\u001b[0m \u001b[0;34m=\u001b[0m \u001b[0mLogisticRegression\u001b[0m\u001b[0;34m(\u001b[0m\u001b[0msolver\u001b[0m\u001b[0;34m=\u001b[0m\u001b[0;34m\"lbfgs\"\u001b[0m\u001b[0;34m)\u001b[0m\u001b[0;34m\u001b[0m\u001b[0;34m\u001b[0m\u001b[0m\n\u001b[0;32m----> 6\u001b[0;31m \u001b[0mlogreg\u001b[0m\u001b[0;34m.\u001b[0m\u001b[0mfit\u001b[0m\u001b[0;34m(\u001b[0m\u001b[0mX_train_imputed\u001b[0m\u001b[0;34m,\u001b[0m \u001b[0my_train\u001b[0m\u001b[0;34m)\u001b[0m\u001b[0;34m\u001b[0m\u001b[0;34m\u001b[0m\u001b[0m\n\u001b[0m",
            "\u001b[0;32m/usr/local/lib/python3.6/dist-packages/sklearn/linear_model/logistic.py\u001b[0m in \u001b[0;36mfit\u001b[0;34m(self, X, y, sample_weight)\u001b[0m\n\u001b[1;32m   1287\u001b[0m         X, y = check_X_y(X, y, accept_sparse='csr', dtype=_dtype, order=\"C\",\n\u001b[1;32m   1288\u001b[0m                          accept_large_sparse=solver != 'liblinear')\n\u001b[0;32m-> 1289\u001b[0;31m         \u001b[0mcheck_classification_targets\u001b[0m\u001b[0;34m(\u001b[0m\u001b[0my\u001b[0m\u001b[0;34m)\u001b[0m\u001b[0;34m\u001b[0m\u001b[0;34m\u001b[0m\u001b[0m\n\u001b[0m\u001b[1;32m   1290\u001b[0m         \u001b[0mself\u001b[0m\u001b[0;34m.\u001b[0m\u001b[0mclasses_\u001b[0m \u001b[0;34m=\u001b[0m \u001b[0mnp\u001b[0m\u001b[0;34m.\u001b[0m\u001b[0munique\u001b[0m\u001b[0;34m(\u001b[0m\u001b[0my\u001b[0m\u001b[0;34m)\u001b[0m\u001b[0;34m\u001b[0m\u001b[0;34m\u001b[0m\u001b[0m\n\u001b[1;32m   1291\u001b[0m         \u001b[0mn_samples\u001b[0m\u001b[0;34m,\u001b[0m \u001b[0mn_features\u001b[0m \u001b[0;34m=\u001b[0m \u001b[0mX\u001b[0m\u001b[0;34m.\u001b[0m\u001b[0mshape\u001b[0m\u001b[0;34m\u001b[0m\u001b[0;34m\u001b[0m\u001b[0m\n",
            "\u001b[0;32m/usr/local/lib/python3.6/dist-packages/sklearn/utils/multiclass.py\u001b[0m in \u001b[0;36mcheck_classification_targets\u001b[0;34m(y)\u001b[0m\n\u001b[1;32m    166\u001b[0m     \u001b[0my\u001b[0m \u001b[0;34m:\u001b[0m \u001b[0marray\u001b[0m\u001b[0;34m-\u001b[0m\u001b[0mlike\u001b[0m\u001b[0;34m\u001b[0m\u001b[0;34m\u001b[0m\u001b[0m\n\u001b[1;32m    167\u001b[0m     \"\"\"\n\u001b[0;32m--> 168\u001b[0;31m     \u001b[0my_type\u001b[0m \u001b[0;34m=\u001b[0m \u001b[0mtype_of_target\u001b[0m\u001b[0;34m(\u001b[0m\u001b[0my\u001b[0m\u001b[0;34m)\u001b[0m\u001b[0;34m\u001b[0m\u001b[0;34m\u001b[0m\u001b[0m\n\u001b[0m\u001b[1;32m    169\u001b[0m     if y_type not in ['binary', 'multiclass', 'multiclass-multioutput',\n\u001b[1;32m    170\u001b[0m                       'multilabel-indicator', 'multilabel-sequences']:\n",
            "\u001b[0;32m/usr/local/lib/python3.6/dist-packages/sklearn/utils/multiclass.py\u001b[0m in \u001b[0;36mtype_of_target\u001b[0;34m(y)\u001b[0m\n\u001b[1;32m    285\u001b[0m         \u001b[0;32mreturn\u001b[0m \u001b[0;34m'continuous'\u001b[0m \u001b[0;34m+\u001b[0m \u001b[0msuffix\u001b[0m\u001b[0;34m\u001b[0m\u001b[0;34m\u001b[0m\u001b[0m\n\u001b[1;32m    286\u001b[0m \u001b[0;34m\u001b[0m\u001b[0m\n\u001b[0;32m--> 287\u001b[0;31m     \u001b[0;32mif\u001b[0m \u001b[0;34m(\u001b[0m\u001b[0mlen\u001b[0m\u001b[0;34m(\u001b[0m\u001b[0mnp\u001b[0m\u001b[0;34m.\u001b[0m\u001b[0munique\u001b[0m\u001b[0;34m(\u001b[0m\u001b[0my\u001b[0m\u001b[0;34m)\u001b[0m\u001b[0;34m)\u001b[0m \u001b[0;34m>\u001b[0m \u001b[0;36m2\u001b[0m\u001b[0;34m)\u001b[0m \u001b[0;32mor\u001b[0m \u001b[0;34m(\u001b[0m\u001b[0my\u001b[0m\u001b[0;34m.\u001b[0m\u001b[0mndim\u001b[0m \u001b[0;34m>=\u001b[0m \u001b[0;36m2\u001b[0m \u001b[0;32mand\u001b[0m \u001b[0mlen\u001b[0m\u001b[0;34m(\u001b[0m\u001b[0my\u001b[0m\u001b[0;34m[\u001b[0m\u001b[0;36m0\u001b[0m\u001b[0;34m]\u001b[0m\u001b[0;34m)\u001b[0m \u001b[0;34m>\u001b[0m \u001b[0;36m1\u001b[0m\u001b[0;34m)\u001b[0m\u001b[0;34m:\u001b[0m\u001b[0;34m\u001b[0m\u001b[0;34m\u001b[0m\u001b[0m\n\u001b[0m\u001b[1;32m    288\u001b[0m         \u001b[0;32mreturn\u001b[0m \u001b[0;34m'multiclass'\u001b[0m \u001b[0;34m+\u001b[0m \u001b[0msuffix\u001b[0m  \u001b[0;31m# [1, 2, 3] or [[1., 2., 3]] or [[1, 2]]\u001b[0m\u001b[0;34m\u001b[0m\u001b[0;34m\u001b[0m\u001b[0m\n\u001b[1;32m    289\u001b[0m     \u001b[0;32melse\u001b[0m\u001b[0;34m:\u001b[0m\u001b[0;34m\u001b[0m\u001b[0;34m\u001b[0m\u001b[0m\n",
            "\u001b[0;32m/usr/local/lib/python3.6/dist-packages/numpy/lib/arraysetops.py\u001b[0m in \u001b[0;36munique\u001b[0;34m(ar, return_index, return_inverse, return_counts, axis)\u001b[0m\n\u001b[1;32m    262\u001b[0m     \u001b[0mar\u001b[0m \u001b[0;34m=\u001b[0m \u001b[0mnp\u001b[0m\u001b[0;34m.\u001b[0m\u001b[0masanyarray\u001b[0m\u001b[0;34m(\u001b[0m\u001b[0mar\u001b[0m\u001b[0;34m)\u001b[0m\u001b[0;34m\u001b[0m\u001b[0;34m\u001b[0m\u001b[0m\n\u001b[1;32m    263\u001b[0m     \u001b[0;32mif\u001b[0m \u001b[0maxis\u001b[0m \u001b[0;32mis\u001b[0m \u001b[0;32mNone\u001b[0m\u001b[0;34m:\u001b[0m\u001b[0;34m\u001b[0m\u001b[0;34m\u001b[0m\u001b[0m\n\u001b[0;32m--> 264\u001b[0;31m         \u001b[0mret\u001b[0m \u001b[0;34m=\u001b[0m \u001b[0m_unique1d\u001b[0m\u001b[0;34m(\u001b[0m\u001b[0mar\u001b[0m\u001b[0;34m,\u001b[0m \u001b[0mreturn_index\u001b[0m\u001b[0;34m,\u001b[0m \u001b[0mreturn_inverse\u001b[0m\u001b[0;34m,\u001b[0m \u001b[0mreturn_counts\u001b[0m\u001b[0;34m)\u001b[0m\u001b[0;34m\u001b[0m\u001b[0;34m\u001b[0m\u001b[0m\n\u001b[0m\u001b[1;32m    265\u001b[0m         \u001b[0;32mreturn\u001b[0m \u001b[0m_unpack_tuple\u001b[0m\u001b[0;34m(\u001b[0m\u001b[0mret\u001b[0m\u001b[0;34m)\u001b[0m\u001b[0;34m\u001b[0m\u001b[0;34m\u001b[0m\u001b[0m\n\u001b[1;32m    266\u001b[0m \u001b[0;34m\u001b[0m\u001b[0m\n",
            "\u001b[0;32m/usr/local/lib/python3.6/dist-packages/numpy/lib/arraysetops.py\u001b[0m in \u001b[0;36m_unique1d\u001b[0;34m(ar, return_index, return_inverse, return_counts)\u001b[0m\n\u001b[1;32m    310\u001b[0m         \u001b[0maux\u001b[0m \u001b[0;34m=\u001b[0m \u001b[0mar\u001b[0m\u001b[0;34m[\u001b[0m\u001b[0mperm\u001b[0m\u001b[0;34m]\u001b[0m\u001b[0;34m\u001b[0m\u001b[0;34m\u001b[0m\u001b[0m\n\u001b[1;32m    311\u001b[0m     \u001b[0;32melse\u001b[0m\u001b[0;34m:\u001b[0m\u001b[0;34m\u001b[0m\u001b[0;34m\u001b[0m\u001b[0m\n\u001b[0;32m--> 312\u001b[0;31m         \u001b[0mar\u001b[0m\u001b[0;34m.\u001b[0m\u001b[0msort\u001b[0m\u001b[0;34m(\u001b[0m\u001b[0;34m)\u001b[0m\u001b[0;34m\u001b[0m\u001b[0;34m\u001b[0m\u001b[0m\n\u001b[0m\u001b[1;32m    313\u001b[0m         \u001b[0maux\u001b[0m \u001b[0;34m=\u001b[0m \u001b[0mar\u001b[0m\u001b[0;34m\u001b[0m\u001b[0;34m\u001b[0m\u001b[0m\n\u001b[1;32m    314\u001b[0m     \u001b[0mmask\u001b[0m \u001b[0;34m=\u001b[0m \u001b[0mnp\u001b[0m\u001b[0;34m.\u001b[0m\u001b[0mempty\u001b[0m\u001b[0;34m(\u001b[0m\u001b[0maux\u001b[0m\u001b[0;34m.\u001b[0m\u001b[0mshape\u001b[0m\u001b[0;34m,\u001b[0m \u001b[0mdtype\u001b[0m\u001b[0;34m=\u001b[0m\u001b[0mnp\u001b[0m\u001b[0;34m.\u001b[0m\u001b[0mbool_\u001b[0m\u001b[0;34m)\u001b[0m\u001b[0;34m\u001b[0m\u001b[0;34m\u001b[0m\u001b[0m\n",
            "\u001b[0;31mTypeError\u001b[0m: '<' not supported between instances of 'float' and 'str'"
          ]
        }
      ]
    },
    {
      "cell_type": "markdown",
      "metadata": {
        "colab_type": "text",
        "id": "kQUVlUKQMPPW"
      },
      "source": [
        "This dataset is bigger than many you've worked with so far, and while it should fit in Colab, it can take awhile to run. That's part of the challenge!\n",
        "\n",
        "Your tasks:\n",
        "- Clean up the variable names in the dataframe\n",
        "- Use logistic regression to fit a model predicting (primary/top) genre\n",
        "- Inspect, iterate, and improve your model\n",
        "- Answer the following questions (written, ~paragraph each):\n",
        "  - What are the best predictors of genre?\n",
        "  - What information isn't very useful for predicting genre?\n",
        "  - What surprised you the most about your results?\n",
        "\n",
        "*Important caveats*:\n",
        "- This is going to be difficult data to work with - don't let the perfect be the enemy of the good!\n",
        "- Be creative in cleaning it up - if the best way you know how to do it is download it locally and edit as a spreadsheet, that's OK!\n",
        "- If the data size becomes problematic, consider sampling/subsetting, or [downcasting numeric datatypes](https://www.dataquest.io/blog/pandas-big-data/).\n",
        "- You do not need perfect or complete results - just something plausible that runs, and that supports the reasoning in your written answers\n",
        "\n",
        "If you find that fitting a model to classify *all* genres isn't very good, it's totally OK to limit to the most frequent genres, or perhaps trying to combine or cluster genres as a preprocessing step. Even then, there will be limits to how good a model can be with just this metadata - if you really want to train an effective genre classifier, you'll have to involve the other data (see stretch goals).\n",
        "\n",
        "This is real data - there is no \"one correct answer\", so you can take this in a variety of directions. Just make sure to support your findings, and feel free to share them as well! This is meant to be practice for dealing with other \"messy\" data, a common task in data science."
      ]
    },
    {
      "cell_type": "markdown",
      "metadata": {
        "colab_type": "text",
        "id": "wlI5OXfSag9C"
      },
      "source": [
        "## Resources and stretch goals\n",
        "\n",
        "- Check out the other .csv files from the FMA dataset, and see if you can join them or otherwise fit interesting models with them\n",
        "- [Logistic regression from scratch in numpy](https://blog.goodaudience.com/logistic-regression-from-scratch-in-numpy-5841c09e425f) - if you want to dig in a bit more to both the code and math (also takes a gradient descent approach, introducing the logistic loss function)\n",
        "- Create a visualization to show predictions of your model - ideally show a confidence interval based on error!\n",
        "- Check out and compare classification models from scikit-learn, such as [SVM](https://scikit-learn.org/stable/modules/svm.html#classification), [decision trees](https://scikit-learn.org/stable/modules/tree.html#classification), and [naive Bayes](https://scikit-learn.org/stable/modules/naive_bayes.html). The underlying math will vary significantly, but the API (how you write the code) and interpretation will actually be fairly similar.\n",
        "- Sign up for [Kaggle](https://kaggle.com), and find a competition to try logistic regression with\n",
        "- (Not logistic regression related) If you enjoyed the assignment, you may want to read up on [music informatics](https://en.wikipedia.org/wiki/Music_informatics), which is how those audio features were actually calculated. The FMA includes the actual raw audio, so (while this is more of a longterm project than a stretch goal, and won't fit in Colab) if you'd like you can check those out and see what sort of deeper analysis you can do."
      ]
    }
  ]
}