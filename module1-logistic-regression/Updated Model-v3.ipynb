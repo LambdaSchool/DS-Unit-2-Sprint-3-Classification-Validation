{
 "cells": [
  {
   "cell_type": "markdown",
   "metadata": {},
   "source": [
    "# Dependencies"
   ]
  },
  {
   "cell_type": "code",
   "execution_count": 122,
   "metadata": {},
   "outputs": [],
   "source": [
    "import pandas as pd\n",
    "import category_encoders as ce\n",
    "\n",
    "from sklearn.compose import ColumnTransformer, make_column_transformer\n",
    "from sklearn.decomposition import PCA\n",
    "from sklearn.impute import SimpleImputer\n",
    "from sklearn.linear_model import LogisticRegression\n",
    "from sklearn.model_selection import train_test_split\n",
    "from sklearn.pipeline import make_pipeline, Pipeline\n",
    "from sklearn.preprocessing import StandardScaler"
   ]
  },
  {
   "cell_type": "markdown",
   "metadata": {},
   "source": [
    "# Import Features Dataframe"
   ]
  },
  {
   "cell_type": "code",
   "execution_count": 123,
   "metadata": {},
   "outputs": [],
   "source": [
    "feature_df = pd.read_csv('features.csv', skiprows=[1,2,3], low_memory=False)"
   ]
  },
  {
   "cell_type": "code",
   "execution_count": 124,
   "metadata": {},
   "outputs": [],
   "source": [
    "feature_df = feature_df.rename(columns={'feature':'track_id'})"
   ]
  },
  {
   "cell_type": "markdown",
   "metadata": {},
   "source": [
    "# Import Core Dataframe"
   ]
  },
  {
   "cell_type": "code",
   "execution_count": 125,
   "metadata": {},
   "outputs": [
    {
     "name": "stderr",
     "output_type": "stream",
     "text": [
      "Skipping line 53396: unexpected end of data\n"
     ]
    }
   ],
   "source": [
    "core_df = pd.read_csv('tracks.csv', skiprows=1, index_col=0, engine='python', error_bad_lines=False)"
   ]
  },
  {
   "cell_type": "markdown",
   "metadata": {},
   "source": [
    "# Subset, Clean, and Merge DataFrames"
   ]
  },
  {
   "cell_type": "code",
   "execution_count": 126,
   "metadata": {},
   "outputs": [],
   "source": [
    "tracks = core_df[ ['producer', 'location', 'composer','type','id','genre_top'] ]\n",
    "tracks = tracks.drop('track_id', axis=0)"
   ]
  },
  {
   "cell_type": "code",
   "execution_count": 127,
   "metadata": {},
   "outputs": [],
   "source": [
    "tracks = tracks.reset_index()\n",
    "tracks = tracks.rename(columns={'index':'track_id'})"
   ]
  },
  {
   "cell_type": "code",
   "execution_count": 128,
   "metadata": {},
   "outputs": [],
   "source": [
    "tracks['track_id'] = tracks['track_id'].astype(int)"
   ]
  },
  {
   "cell_type": "code",
   "execution_count": 129,
   "metadata": {},
   "outputs": [],
   "source": [
    "tracks = tracks.dropna(subset=['genre_top'])"
   ]
  },
  {
   "cell_type": "code",
   "execution_count": 130,
   "metadata": {},
   "outputs": [],
   "source": [
    "merged = pd.merge(tracks, feature_df, on='track_id', how='left')"
   ]
  },
  {
   "cell_type": "code",
   "execution_count": 131,
   "metadata": {},
   "outputs": [],
   "source": [
    "merged = merged.drop(columns={'track_id', 'id'})"
   ]
  },
  {
   "cell_type": "markdown",
   "metadata": {},
   "source": [
    "# Test/Train Split"
   ]
  },
  {
   "cell_type": "code",
   "execution_count": 132,
   "metadata": {},
   "outputs": [
    {
     "data": {
      "text/plain": [
       "((22740, 522), (5686, 522), (22740,), (5686,))"
      ]
     },
     "execution_count": 132,
     "metadata": {},
     "output_type": "execute_result"
    }
   ],
   "source": [
    "X = merged.drop(columns='genre_top', axis=1)\n",
    "y = merged['genre_top']\n",
    "\n",
    "X_train, X_test, y_train, y_test = train_test_split(X, y, test_size = 0.2, random_state = 42)\n",
    "X_train.shape, X_test.shape, y_train.shape, y_test.shape"
   ]
  },
  {
   "cell_type": "markdown",
   "metadata": {},
   "source": [
    "# Reduce the number of categories in y_train"
   ]
  },
  {
   "cell_type": "code",
   "execution_count": 133,
   "metadata": {},
   "outputs": [
    {
     "data": {
      "text/plain": [
       "Rock                   7180\n",
       "Experimental           4684\n",
       "Electronic             4106\n",
       "Hip-Hop                1465\n",
       "Folk                   1211\n",
       "Pop                     934\n",
       "Classical               783\n",
       "International           667\n",
       "Instrumental            501\n",
       "Jazz                    402\n",
       "Old-Time / Historic     322\n",
       "Spoken                  237\n",
       "Country                  89\n",
       "Soul-RnB                 81\n",
       "Blues                    72\n",
       "Easy Listening            6\n",
       "Name: genre_top, dtype: int64"
      ]
     },
     "execution_count": 133,
     "metadata": {},
     "output_type": "execute_result"
    }
   ],
   "source": [
    "y_train.value_counts()"
   ]
  },
  {
   "cell_type": "code",
   "execution_count": 134,
   "metadata": {},
   "outputs": [],
   "source": [
    "def top_genre(track):\n",
    "    top_genres = ['Rock', 'Experimental', 'Electronic', 'Hip-Hop', 'Folk', 'Pop', 'Classical', 'Other']\n",
    "    if track in top_genres:\n",
    "        return track\n",
    "    else: \n",
    "        return 'Other'"
   ]
  },
  {
   "cell_type": "code",
   "execution_count": 135,
   "metadata": {},
   "outputs": [],
   "source": [
    "y_train = y_train.apply(top_genre)\n",
    "y_test = y_test.apply(top_genre)"
   ]
  },
  {
   "cell_type": "markdown",
   "metadata": {},
   "source": [
    "# Build preprocessing pipeline"
   ]
  },
  {
   "cell_type": "code",
   "execution_count": 136,
   "metadata": {},
   "outputs": [],
   "source": [
    "hash_features = X_train.columns.tolist()[:4]\n",
    "pca_features = X_train.columns.tolist()[4:]"
   ]
  },
  {
   "cell_type": "code",
   "execution_count": 141,
   "metadata": {},
   "outputs": [],
   "source": [
    "pca_processing = make_pipeline(\n",
    "    StandardScaler(),\n",
    "    SimpleImputer(strategy='mean'),\n",
    "    PCA(n_components=15)\n",
    ")\n",
    "\n",
    "hash_processing = make_pipeline(\n",
    "    ce.HashingEncoder(n_components=8)\n",
    ")\n",
    "\n",
    "one_hot_processing = make_pipeline(\n",
    "    ce.OneHotEncoder(use_cat_names=True)\n",
    ")\n",
    "\n",
    "preprocess = make_column_transformer(\n",
    "    (hash_processing, 'producer'),\n",
    "    (hash_processing, 'location'),\n",
    "    (hash_processing, 'composer'),\n",
    "    (one_hot_processing, 'type'),\n",
    "    (pca_processing, pca_features)\n",
    ")"
   ]
  },
  {
   "cell_type": "markdown",
   "metadata": {},
   "source": [
    "# Execute Model"
   ]
  },
  {
   "cell_type": "code",
   "execution_count": 142,
   "metadata": {},
   "outputs": [],
   "source": [
    "model = make_pipeline(\n",
    "    preprocess,\n",
    "    LogisticRegression(solver='lbfgs', max_iter=2000, multi_class='auto')\n",
    ")"
   ]
  },
  {
   "cell_type": "code",
   "execution_count": 143,
   "metadata": {},
   "outputs": [
    {
     "name": "stdout",
     "output_type": "stream",
     "text": [
      "Train logistic regression score: 0.4310905892700088\n",
      "Test logistic regression score: 0.42279282448118183\n"
     ]
    }
   ],
   "source": [
    "model = model.fit(X_train, y_train)\n",
    "print('Train logistic regression score:', model.score(X_train, y_train))\n",
    "print('Test logistic regression score:', model.score(X_test, y_test))"
   ]
  }
 ],
 "metadata": {
  "kernelspec": {
   "display_name": "Python 3",
   "language": "python",
   "name": "python3"
  },
  "language_info": {
   "codemirror_mode": {
    "name": "ipython",
    "version": 3
   },
   "file_extension": ".py",
   "mimetype": "text/x-python",
   "name": "python",
   "nbconvert_exporter": "python",
   "pygments_lexer": "ipython3",
   "version": "3.6.8"
  }
 },
 "nbformat": 4,
 "nbformat_minor": 2
}
