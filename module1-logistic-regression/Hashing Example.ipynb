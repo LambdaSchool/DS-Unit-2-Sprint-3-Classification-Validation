{
 "cells": [
  {
   "cell_type": "code",
   "execution_count": 2,
   "metadata": {},
   "outputs": [],
   "source": [
    "import pandas as pd"
   ]
  },
  {
   "cell_type": "code",
   "execution_count": 3,
   "metadata": {},
   "outputs": [
    {
     "name": "stderr",
     "output_type": "stream",
     "text": [
      "Skipping line 53396: unexpected end of data\n"
     ]
    }
   ],
   "source": [
    "df = pd.read_csv('tracks.csv', skiprows=1, index_col=0, engine='python', error_bad_lines=False)"
   ]
  },
  {
   "cell_type": "code",
   "execution_count": 4,
   "metadata": {},
   "outputs": [],
   "source": [
    "tracks = df.copy()"
   ]
  },
  {
   "cell_type": "code",
   "execution_count": 5,
   "metadata": {},
   "outputs": [],
   "source": [
    "tracks = tracks.dropna(subset=['genre_top'])"
   ]
  },
  {
   "cell_type": "code",
   "execution_count": 6,
   "metadata": {},
   "outputs": [],
   "source": [
    "import category_encoders as ce\n",
    "\n",
    "cat_encoder = ce.OrdinalEncoder(return_df=False)\n",
    "tracks['genre_top_encoded'] = cat_encoder.fit_transform(tracks['genre_top'])"
   ]
  },
  {
   "cell_type": "code",
   "execution_count": 7,
   "metadata": {},
   "outputs": [
    {
     "data": {
      "text/plain": [
       "((28426, 47), (28426,))"
      ]
     },
     "execution_count": 7,
     "metadata": {},
     "output_type": "execute_result"
    }
   ],
   "source": [
    "X = tracks.drop(columns=['genre_top', 'genre_top_encoded', 'id', 'id.1', 'genres', 'genres_all'], axis=1)\n",
    "y = tracks['genre_top_encoded']\n",
    "X.shape, y.shape"
   ]
  },
  {
   "cell_type": "code",
   "execution_count": 8,
   "metadata": {},
   "outputs": [],
   "source": [
    "from sklearn.model_selection import train_test_split\n",
    "\n",
    "X_train, X_test, y_train, y_test = train_test_split(X, y, test_size = 0.2, random_state = 42)"
   ]
  },
  {
   "cell_type": "code",
   "execution_count": 12,
   "metadata": {},
   "outputs": [
    {
     "data": {
      "text/plain": [
       "Index(['comments', 'date_created', 'date_released', 'engineer', 'favorites',\n",
       "       'information', 'listens', 'producer', 'tags', 'title', 'tracks', 'type',\n",
       "       'active_year_begin', 'active_year_end', 'associated_labels', 'bio',\n",
       "       'comments.1', 'date_created.1', 'favorites.1', 'latitude', 'location',\n",
       "       'longitude', 'members', 'name', 'related_projects', 'tags.1', 'website',\n",
       "       'wikipedia_page', 'split', 'subset', 'bit_rate', 'comments.2',\n",
       "       'composer', 'date_created.2', 'date_recorded', 'duration',\n",
       "       'favorites.2', 'information.1', 'interest', 'language_code', 'license',\n",
       "       'listens.1', 'lyricist', 'number', 'publisher', 'tags.2', 'title.1'],\n",
       "      dtype='object')"
      ]
     },
     "execution_count": 12,
     "metadata": {},
     "output_type": "execute_result"
    }
   ],
   "source": [
    "X_train.columns"
   ]
  },
  {
   "cell_type": "code",
   "execution_count": 14,
   "metadata": {},
   "outputs": [
    {
     "data": {
      "text/plain": [
       "(22740, 47)"
      ]
     },
     "execution_count": 14,
     "metadata": {},
     "output_type": "execute_result"
    }
   ],
   "source": [
    "X_train.shape"
   ]
  },
  {
   "cell_type": "code",
   "execution_count": 20,
   "metadata": {},
   "outputs": [],
   "source": [
    "hash_features = ['producer', 'location', 'composer']\n",
    "X_train_features = pd.DataFrame()\n",
    "X_test_features = pd.DataFrame()\n",
    "for hash_feature in hash_features:\n",
    "    hasher = ce.HashingEncoder(n_components=10)\n",
    "    hasher = hasher.fit(X_train[hash_feature])\n",
    "    hasher_train = hasher.transform(X_train.loc[:,hash_feature])\n",
    "    hasher_test = hasher.transform(X_test.loc[:,hash_feature])\n",
    "    X_train_features = pd.concat([X_train_features, hasher_train], axis=1)\n",
    "    X_test_features = pd.concat([X_test_features, hasher_test], axis=1)"
   ]
  },
  {
   "cell_type": "code",
   "execution_count": 22,
   "metadata": {},
   "outputs": [
    {
     "data": {
      "text/plain": [
       "((22740, 30), (5686, 30))"
      ]
     },
     "execution_count": 22,
     "metadata": {},
     "output_type": "execute_result"
    }
   ],
   "source": [
    "X_train_features.shape, X_test_features.shape"
   ]
  }
 ],
 "metadata": {
  "kernelspec": {
   "display_name": "Python 3",
   "language": "python",
   "name": "python3"
  },
  "language_info": {
   "codemirror_mode": {
    "name": "ipython",
    "version": 3
   },
   "file_extension": ".py",
   "mimetype": "text/x-python",
   "name": "python",
   "nbconvert_exporter": "python",
   "pygments_lexer": "ipython3",
   "version": "3.6.8"
  }
 },
 "nbformat": 4,
 "nbformat_minor": 2
}
