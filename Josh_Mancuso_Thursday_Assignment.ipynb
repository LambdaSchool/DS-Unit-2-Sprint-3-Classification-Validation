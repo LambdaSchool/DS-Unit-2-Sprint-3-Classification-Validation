{
  "nbformat": 4,
  "nbformat_minor": 0,
  "metadata": {
    "colab": {
      "name": "Josh Mancuso - Thursday Assignment",
      "version": "0.3.2",
      "provenance": [],
      "include_colab_link": true
    },
    "kernelspec": {
      "name": "python3",
      "display_name": "Python 3"
    }
  },
  "cells": [
    {
      "cell_type": "markdown",
      "metadata": {
        "id": "view-in-github",
        "colab_type": "text"
      },
      "source": [
        "<a href=\"https://colab.research.google.com/github/Nolanole/DS-Unit-2-Sprint-3-Classification-Validation/blob/master/Josh_Mancuso_Thursday_Assignment.ipynb\" target=\"_parent\"><img src=\"https://colab.research.google.com/assets/colab-badge.svg\" alt=\"Open In Colab\"/></a>"
      ]
    },
    {
      "cell_type": "markdown",
      "metadata": {
        "id": "gn8TY2zvR9ej",
        "colab_type": "text"
      },
      "source": [
        "# ASSIGNMENT\n",
        "\n",
        "**Train Random Forest and Gradient Boosting models**, on the Bank Marketing dataset. (Or another dataset of your choice, not used during this lesson.) You may use any Python libraries for Gradient Boosting.\n",
        "\n",
        "Then, you have many options!\n",
        "\n",
        "#### Keep improving your model\n",
        "- **Try new categorical encodings.**\n",
        "- Explore and visualize your data. \n",
        "- Wrangle [bad data](https://github.com/Quartz/bad-data-guide), outliers, and missing values.\n",
        "- Try engineering more features. You can transform, bin, and combine features. \n",
        "- Try selecting fewer features.\n",
        "\n",
        "#### Follow the links — learn by reading & doing\n",
        "- Links at the top of this notebook\n",
        "- Links in previous notebooks\n",
        "- Extra notebook for today, about **\"monotonic constraints\"** and \"early stopping\" with xgboost"
      ]
    },
    {
      "cell_type": "code",
      "metadata": {
        "id": "M8xNCHrKWO6t",
        "colab_type": "code",
        "colab": {
          "base_uri": "https://localhost:8080/",
          "height": 146
        },
        "outputId": "f78c7f2d-e5fd-46bb-e3b3-a86f6dd418fe"
      },
      "source": [
        "from google.colab import drive\n",
        "drive.mount('/content/drive')\n",
        "%env KAGGLE_CONFIG_DIR=/content/drive/My Drive/"
      ],
      "execution_count": 4,
      "outputs": [
        {
          "output_type": "stream",
          "text": [
            "Go to this URL in a browser: https://accounts.google.com/o/oauth2/auth?client_id=947318989803-6bn6qk8qdgf4n4g3pfee6491hc0brc4i.apps.googleusercontent.com&redirect_uri=urn%3Aietf%3Awg%3Aoauth%3A2.0%3Aoob&scope=email%20https%3A%2F%2Fwww.googleapis.com%2Fauth%2Fdocs.test%20https%3A%2F%2Fwww.googleapis.com%2Fauth%2Fdrive%20https%3A%2F%2Fwww.googleapis.com%2Fauth%2Fdrive.photos.readonly%20https%3A%2F%2Fwww.googleapis.com%2Fauth%2Fpeopleapi.readonly&response_type=code\n",
            "\n",
            "Enter your authorization code:\n",
            "··········\n",
            "Mounted at /content/drive\n",
            "env: KAGGLE_CONFIG_DIR=/content/drive/My Drive/\n"
          ],
          "name": "stdout"
        }
      ]
    },
    {
      "cell_type": "code",
      "metadata": {
        "id": "E_CT0gp1WRgF",
        "colab_type": "code",
        "colab": {
          "base_uri": "https://localhost:8080/",
          "height": 217
        },
        "outputId": "d1cd231a-0fa0-47b9-d19d-e94e9a63ce46"
      },
      "source": [
        "!pip install kaggle"
      ],
      "execution_count": 5,
      "outputs": [
        {
          "output_type": "stream",
          "text": [
            "Requirement already satisfied: kaggle in /usr/local/lib/python3.6/dist-packages (1.5.3)\n",
            "Requirement already satisfied: certifi in /usr/local/lib/python3.6/dist-packages (from kaggle) (2019.3.9)\n",
            "Requirement already satisfied: python-slugify in /usr/local/lib/python3.6/dist-packages (from kaggle) (3.0.2)\n",
            "Requirement already satisfied: python-dateutil in /usr/local/lib/python3.6/dist-packages (from kaggle) (2.5.3)\n",
            "Requirement already satisfied: tqdm in /usr/local/lib/python3.6/dist-packages (from kaggle) (4.28.1)\n",
            "Requirement already satisfied: six>=1.10 in /usr/local/lib/python3.6/dist-packages (from kaggle) (1.12.0)\n",
            "Requirement already satisfied: urllib3<1.25,>=1.21.1 in /usr/local/lib/python3.6/dist-packages (from kaggle) (1.24.2)\n",
            "Requirement already satisfied: requests in /usr/local/lib/python3.6/dist-packages (from kaggle) (2.21.0)\n",
            "Requirement already satisfied: text-unidecode==1.2 in /usr/local/lib/python3.6/dist-packages (from python-slugify->kaggle) (1.2)\n",
            "Requirement already satisfied: idna<2.9,>=2.5 in /usr/local/lib/python3.6/dist-packages (from requests->kaggle) (2.8)\n",
            "Requirement already satisfied: chardet<3.1.0,>=3.0.2 in /usr/local/lib/python3.6/dist-packages (from requests->kaggle) (3.0.4)\n"
          ],
          "name": "stdout"
        }
      ]
    },
    {
      "cell_type": "code",
      "metadata": {
        "id": "KqTCFB2FWUUF",
        "colab_type": "code",
        "colab": {
          "base_uri": "https://localhost:8080/",
          "height": 181
        },
        "outputId": "4c2f176e-dc26-4207-deba-48396369004f"
      },
      "source": [
        "!kaggle competitions download -c titanic"
      ],
      "execution_count": 6,
      "outputs": [
        {
          "output_type": "stream",
          "text": [
            "Downloading train.csv to /content\n",
            "\r  0% 0.00/59.8k [00:00<?, ?B/s]\n",
            "100% 59.8k/59.8k [00:00<00:00, 45.4MB/s]\n",
            "Downloading test.csv to /content\n",
            "  0% 0.00/28.0k [00:00<?, ?B/s]\n",
            "100% 28.0k/28.0k [00:00<00:00, 6.96MB/s]\n",
            "Downloading gender_submission.csv to /content\n",
            "  0% 0.00/3.18k [00:00<?, ?B/s]\n",
            "100% 3.18k/3.18k [00:00<00:00, 2.77MB/s]\n"
          ],
          "name": "stdout"
        }
      ]
    },
    {
      "cell_type": "code",
      "metadata": {
        "id": "pER2GHfz1BK_",
        "colab_type": "code",
        "colab": {
          "base_uri": "https://localhost:8080/",
          "height": 292
        },
        "outputId": "231d9729-0313-4b05-9817-e81f5f331a81"
      },
      "source": [
        "!pip install category_encoders"
      ],
      "execution_count": 58,
      "outputs": [
        {
          "output_type": "stream",
          "text": [
            "Collecting category_encoders\n",
            "\u001b[?25l  Downloading https://files.pythonhosted.org/packages/6e/a1/f7a22f144f33be78afeb06bfa78478e8284a64263a3c09b1ef54e673841e/category_encoders-2.0.0-py2.py3-none-any.whl (87kB)\n",
            "\r\u001b[K     |███▊                            | 10kB 13.9MB/s eta 0:00:01\r\u001b[K     |███████▌                        | 20kB 1.8MB/s eta 0:00:01\r\u001b[K     |███████████▏                    | 30kB 2.7MB/s eta 0:00:01\r\u001b[K     |███████████████                 | 40kB 1.8MB/s eta 0:00:01\r\u001b[K     |██████████████████▋             | 51kB 2.2MB/s eta 0:00:01\r\u001b[K     |██████████████████████▍         | 61kB 2.6MB/s eta 0:00:01\r\u001b[K     |██████████████████████████▏     | 71kB 3.0MB/s eta 0:00:01\r\u001b[K     |█████████████████████████████▉  | 81kB 3.3MB/s eta 0:00:01\r\u001b[K     |████████████████████████████████| 92kB 3.5MB/s \n",
            "\u001b[?25hRequirement already satisfied: numpy>=1.11.3 in /usr/local/lib/python3.6/dist-packages (from category_encoders) (1.16.3)\n",
            "Requirement already satisfied: scikit-learn>=0.20.0 in /usr/local/lib/python3.6/dist-packages (from category_encoders) (0.20.3)\n",
            "Requirement already satisfied: patsy>=0.4.1 in /usr/local/lib/python3.6/dist-packages (from category_encoders) (0.5.1)\n",
            "Requirement already satisfied: pandas>=0.21.1 in /usr/local/lib/python3.6/dist-packages (from category_encoders) (0.24.2)\n",
            "Requirement already satisfied: statsmodels>=0.6.1 in /usr/local/lib/python3.6/dist-packages (from category_encoders) (0.9.0)\n",
            "Requirement already satisfied: scipy>=0.19.0 in /usr/local/lib/python3.6/dist-packages (from category_encoders) (1.2.1)\n",
            "Requirement already satisfied: six in /usr/local/lib/python3.6/dist-packages (from patsy>=0.4.1->category_encoders) (1.12.0)\n",
            "Requirement already satisfied: python-dateutil>=2.5.0 in /usr/local/lib/python3.6/dist-packages (from pandas>=0.21.1->category_encoders) (2.5.3)\n",
            "Requirement already satisfied: pytz>=2011k in /usr/local/lib/python3.6/dist-packages (from pandas>=0.21.1->category_encoders) (2018.9)\n",
            "Installing collected packages: category-encoders\n",
            "Successfully installed category-encoders-2.0.0\n"
          ],
          "name": "stdout"
        }
      ]
    },
    {
      "cell_type": "code",
      "metadata": {
        "id": "uFutdviQWmhy",
        "colab_type": "code",
        "colab": {}
      },
      "source": [
        "# Imports\n",
        "%matplotlib inline\n",
        "import warnings\n",
        "import category_encoders as ce\n",
        "import matplotlib.pyplot as plt\n",
        "import seaborn as sns\n",
        "import pandas as pd\n",
        "import numpy as np\n",
        "import graphviz\n",
        "from xgboost import XGBClassifier\n",
        "from sklearn.ensemble import RandomForestClassifier\n",
        "from sklearn.impute import SimpleImputer\n",
        "from sklearn.tree import DecisionTreeClassifier, export_graphviz\n",
        "from sklearn.linear_model import LinearRegression, LogisticRegression\n",
        "from sklearn.model_selection import cross_val_score, train_test_split\n",
        "from sklearn.pipeline import make_pipeline\n",
        "from sklearn.metrics import roc_auc_score, accuracy_score\n",
        "from sklearn.preprocessing import StandardScaler\n",
        "from sklearn.exceptions import DataConversionWarning\n",
        "warnings.filterwarnings(action='ignore', category=DataConversionWarning)"
      ],
      "execution_count": 0,
      "outputs": []
    },
    {
      "cell_type": "code",
      "metadata": {
        "id": "BMOaySihTwnl",
        "colab_type": "code",
        "colab": {}
      },
      "source": [
        "drop_cols = ['PassengerId', 'Ticket']\n",
        "train = pd.read_csv('train.csv').drop(columns=drop_cols)\n",
        "#test = pd.read_csv('test.csv').drop(columns=drop_cols)\n",
        "\n",
        "#fillna for 2 missing rows of embarked, using most frequent embarkation:#fillna \n",
        "train['Embarked'] = train['Embarked'].fillna(train['Embarked'].mode()[0])\n",
        "\n",
        "#impute missing values for Age and 1 missing fare (in test):\n",
        "mean_age = train.Age.mean()\n",
        "mean_fare = train.Fare.mean()\n",
        "train['Age'].fillna(mean_age, inplace=True)\n",
        "#test['Fare'].fillna(mean_fare, inplace=True)"
      ],
      "execution_count": 0,
      "outputs": []
    },
    {
      "cell_type": "code",
      "metadata": {
        "id": "z2_COXeWmJjL",
        "colab_type": "code",
        "colab": {}
      },
      "source": [
        "#extract the deck from the Cabin feature, then drop Cabin: (copy pasted from a TDS article)\n",
        "\n",
        "import re\n",
        "deck = {\"A\": 1, \"B\": 2, \"C\": 3, \"D\": 4, \"E\": 5, \"F\": 6, \"G\": 7, \"U\": 8}\n",
        "data = [train]#, test]\n",
        "\n",
        "for dataset in data:\n",
        "    dataset['Cabin'] = dataset['Cabin'].fillna(\"U0\")\n",
        "    dataset['deck'] = dataset['Cabin'].map(lambda x: re.compile(\"([a-zA-Z]+)\").search(x).group())\n",
        "    #dataset['deck'] = dataset['deck'].map(deck)\n",
        "    dataset['deck'] = dataset['deck'].fillna(0)\n",
        "    #dataset['deck'] = dataset['deck'].astype(int)\n",
        "# we can now drop the cabin feature\n",
        "train = train.drop(['Cabin'], axis=1)\n",
        "#test = test.drop(['Cabin'], axis=1)"
      ],
      "execution_count": 0,
      "outputs": []
    },
    {
      "cell_type": "code",
      "metadata": {
        "id": "sFHCEWjtZKel",
        "colab_type": "code",
        "colab": {}
      },
      "source": [
        "def make_features(X):\n",
        "    X = X.copy()\n",
        "    X['adult_male'] = (X['Sex'] == 'male') & (X['Age'] >= 16)\n",
        "    X['adult_female'] = (X['Sex'] == 'female') & (X['Age'] >= 16)\n",
        "    X['child'] = (X['Age'] < 16)\n",
        "    X['alone'] = (X['SibSp'] == 0) & (X['Parch'] == 0)\n",
        "    X['title'] = X['Name'].str.split(',').str[1].str.split('.').str[0].str.lstrip()\n",
        "    X['age_times_class'] = X['Age']*(X['Pclass'])\n",
        "    X['num_companions'] = X['SibSp'] + X['Parch']\n",
        "    X['group_fare'] = X['Fare']*(X['num_companions']+1)\n",
        "    X['mother_w_child'] = (X['Sex'] == 'female') & (X['Age'] >= 18) & (X['Parch'] > 0)\n",
        "    X.drop(columns='Name', inplace=True)\n",
        "    return X\n",
        "  \n",
        "train = make_features(train)\n",
        "#test  = make_features(test)"
      ],
      "execution_count": 0,
      "outputs": []
    },
    {
      "cell_type": "code",
      "metadata": {
        "id": "4_6fmh_lcusq",
        "colab_type": "code",
        "colab": {}
      },
      "source": [
        "def bin_cols(X):\n",
        "  X = X.copy()\n",
        "  for i in range(len(X)): \n",
        "    if (X.at[i, 'title'] == 'Mr') or (X.at[i, 'title'] == 'Miss') or (X.at[i, 'title'] == 'Mrs'):\n",
        "      pass\n",
        "    else:\n",
        "      X.at[i, 'title'] = 'Other'\n",
        "    if X.at[i, 'num_companions'] > 3:\n",
        "      X.at[i, 'num_companions'] = 4\n",
        "  return X\n",
        "\n",
        "train = bin_cols(train)\n",
        "#test = bin_cols(test)"
      ],
      "execution_count": 0,
      "outputs": []
    },
    {
      "cell_type": "code",
      "metadata": {
        "id": "pyJ6i2sufIUz",
        "colab_type": "code",
        "colab": {}
      },
      "source": [
        "target = 'Survived'\n",
        "features = ['Pclass', 'Sex', 'Age', 'SibSp', 'Fare',\n",
        "       'Embarked', 'deck', 'adult_male', 'adult_female', 'child', 'alone',\n",
        "       'title', 'age_times_class', 'num_companions', 'group_fare', 'Parch', 'mother_w_child']\n",
        "\n",
        "preprocessor = make_pipeline(ce.OrdinalEncoder())\n",
        "X = preprocessor.fit_transform(train[features])\n",
        "X = pd.DataFrame(X, columns=features)\n",
        "y = train[target]"
      ],
      "execution_count": 0,
      "outputs": []
    },
    {
      "cell_type": "code",
      "metadata": {
        "id": "cl2a4sxvzyeA",
        "colab_type": "code",
        "colab": {}
      },
      "source": [
        "X_train, X_test, y_train, y_test = train_test_split(X, y, test_size=0.2, random_state=42)"
      ],
      "execution_count": 0,
      "outputs": []
    },
    {
      "cell_type": "code",
      "metadata": {
        "id": "r9jiS1kDxTul",
        "colab_type": "code",
        "colab": {
          "base_uri": "https://localhost:8080/",
          "height": 72
        },
        "outputId": "8ef9db5a-8802-4b08-9900-26d5a1d9fbba"
      },
      "source": [
        "forest = RandomForestClassifier(max_depth=5, n_estimators=10)\n",
        "forest.fit(X_train, y_train)\n",
        "\n",
        "y_pred = forest.predict(X_test)\n",
        "\n",
        "y_pred_proba = forest.predict_proba(X_test)[:,1]\n",
        "\n",
        "\n",
        "r2_test = forest.score(X_test, y_test)\n",
        "print('Test R2 score: ' + str(r2_test))\n",
        "accuracy = accuracy_score(y_pred, y_test)\n",
        "print('Accuracy ' + str(accuracy))\n",
        "roc_auc = roc_auc_score(y_test, y_pred_proba)\n",
        "print('Roc_Auc score: ' + str(roc_auc))"
      ],
      "execution_count": 85,
      "outputs": [
        {
          "output_type": "stream",
          "text": [
            "Test R2 score: 0.8268156424581006\n",
            "Accuracy 0.8268156424581006\n",
            "Roc_Auc score: 0.9042471042471043\n"
          ],
          "name": "stdout"
        }
      ]
    },
    {
      "cell_type": "code",
      "metadata": {
        "id": "ttyh5rtM2tMR",
        "colab_type": "code",
        "colab": {
          "base_uri": "https://localhost:8080/",
          "height": 269
        },
        "outputId": "6eee2f56-e970-4690-c07a-e5ddfd37e71b"
      },
      "source": [
        "importances = pd.Series(forest.feature_importances_, X_train.columns)\n",
        "importances.sort_values().plot.barh()\n",
        "plt.show()"
      ],
      "execution_count": 91,
      "outputs": [
        {
          "output_type": "display_data",
          "data": {
            "image/png": "[encoded data removed]",
            "text/plain": [
              "<Figure size 432x288 with 1 Axes>"
            ]
          },
          "metadata": {
            "tags": []
          }
        }
      ]
    },
    {
      "cell_type": "code",
      "metadata": {
        "id": "RWKlH86La-GG",
        "colab_type": "code",
        "colab": {}
      },
      "source": [
        "#try a bunch of max_depths and n_estimators\n",
        "\n",
        "max_depths = [2,3,5,8, None]\n",
        "estimators = [10, 100, 500]\n",
        "min_leaves = [1, 2, 4, 8]\n",
        "min_samples = [2, 5, 10]\n",
        "\n",
        "#function to run a a series of RandomForestClassifiers w/ diff parameters\n",
        "#Output scores to pandas dataframe:\n",
        "\n",
        "def test_forest(X, y, max_depths, estimators, min_leaves, min_samples):\n",
        "  X_train, X_test, y_train, y_test = train_test_split(X, y, test_size=0.2, random_state=42)\n",
        "  cols = ['max_depth', 'n_estimators', 'min_samples_leaf', 'min_samples_split', \n",
        "          'test_R2', 'test_accuracy', 'ROC-AUC']\n",
        "  rows = []\n",
        "  for md in max_depths:\n",
        "    for ne in estimators:\n",
        "      for msl in min_leaves:\n",
        "        for mss in min_samples:\n",
        "          forest = RandomForestClassifier(max_depth=md, n_estimators=ne, \n",
        "                                          min_samples_leaf = msl, \n",
        "                                          min_samples_split = mss, \n",
        "                                          n_jobs=-1, random_state=42)\n",
        "          forest.fit(X_train, y_train)\n",
        "          y_pred = forest.predict(X_test)\n",
        "          y_pred_proba = forest.predict_proba(X_test)[:,1]\n",
        "          r2_test = forest.score(X_test, y_test)\n",
        "          accuracy = accuracy_score(y_pred, y_test)\n",
        "          roc_auc = roc_auc_score(y_test, y_pred_proba)\n",
        "          row = [md, ne, msl, mss, r2_test, accuracy, roc_auc]\n",
        "          rows.append(row)\n",
        "  df = pd.DataFrame(data=rows, columns=cols)\n",
        "  return df"
      ],
      "execution_count": 0,
      "outputs": []
    },
    {
      "cell_type": "code",
      "metadata": {
        "id": "wq2cHCq_602h",
        "colab_type": "code",
        "colab": {}
      },
      "source": [
        "target = 'Survived'\n",
        "features = ['Pclass', 'Sex', 'Age', 'SibSp', 'Fare',\n",
        "       'Embarked', 'deck', 'adult_male', 'adult_female', 'child', 'alone',\n",
        "       'title', 'age_times_class', 'num_companions', 'group_fare']\n",
        "\n",
        "preprocessor = make_pipeline(ce.OrdinalEncoder())\n",
        "X = preprocessor.fit_transform(train[features])\n",
        "X = pd.DataFrame(X, columns=features)\n",
        "y = train[target]\n",
        "\n",
        "rf_df = test_forest(X, y, max_depths, estimators)"
      ],
      "execution_count": 0,
      "outputs": []
    },
    {
      "cell_type": "code",
      "metadata": {
        "id": "MX--tQ9-8cYn",
        "colab_type": "code",
        "colab": {
          "base_uri": "https://localhost:8080/",
          "height": 348
        },
        "outputId": "5af948f7-c9a3-40b5-eb9b-dc1863261726"
      },
      "source": [
        "rf_df.head(10)"
      ],
      "execution_count": 114,
      "outputs": [
        {
          "output_type": "execute_result",
          "data": {
            "text/html": [
              "<div>\n",
              "<style scoped>\n",
              "    .dataframe tbody tr th:only-of-type {\n",
              "        vertical-align: middle;\n",
              "    }\n",
              "\n",
              "    .dataframe tbody tr th {\n",
              "        vertical-align: top;\n",
              "    }\n",
              "\n",
              "    .dataframe thead th {\n",
              "        text-align: right;\n",
              "    }\n",
              "</style>\n",
              "<table border=\"1\" class=\"dataframe\">\n",
              "  <thead>\n",
              "    <tr style=\"text-align: right;\">\n",
              "      <th></th>\n",
              "      <th>max_depth</th>\n",
              "      <th>n_estimators</th>\n",
              "      <th>min_samples_leaf</th>\n",
              "      <th>min_samples_split</th>\n",
              "      <th>test_R2</th>\n",
              "      <th>test_accuracy</th>\n",
              "      <th>ROC-AUC</th>\n",
              "    </tr>\n",
              "  </thead>\n",
              "  <tbody>\n",
              "    <tr>\n",
              "      <th>0</th>\n",
              "      <td>2.0</td>\n",
              "      <td>10</td>\n",
              "      <td>2</td>\n",
              "      <td>2</td>\n",
              "      <td>0.798883</td>\n",
              "      <td>0.798883</td>\n",
              "      <td>0.876448</td>\n",
              "    </tr>\n",
              "    <tr>\n",
              "      <th>1</th>\n",
              "      <td>2.0</td>\n",
              "      <td>10</td>\n",
              "      <td>2</td>\n",
              "      <td>5</td>\n",
              "      <td>0.815642</td>\n",
              "      <td>0.815642</td>\n",
              "      <td>0.888546</td>\n",
              "    </tr>\n",
              "    <tr>\n",
              "      <th>2</th>\n",
              "      <td>2.0</td>\n",
              "      <td>10</td>\n",
              "      <td>2</td>\n",
              "      <td>10</td>\n",
              "      <td>0.798883</td>\n",
              "      <td>0.798883</td>\n",
              "      <td>0.876577</td>\n",
              "    </tr>\n",
              "    <tr>\n",
              "      <th>3</th>\n",
              "      <td>2.0</td>\n",
              "      <td>10</td>\n",
              "      <td>4</td>\n",
              "      <td>2</td>\n",
              "      <td>0.798883</td>\n",
              "      <td>0.798883</td>\n",
              "      <td>0.870849</td>\n",
              "    </tr>\n",
              "    <tr>\n",
              "      <th>4</th>\n",
              "      <td>2.0</td>\n",
              "      <td>10</td>\n",
              "      <td>4</td>\n",
              "      <td>5</td>\n",
              "      <td>0.798883</td>\n",
              "      <td>0.798883</td>\n",
              "      <td>0.878378</td>\n",
              "    </tr>\n",
              "    <tr>\n",
              "      <th>5</th>\n",
              "      <td>2.0</td>\n",
              "      <td>10</td>\n",
              "      <td>4</td>\n",
              "      <td>10</td>\n",
              "      <td>0.787709</td>\n",
              "      <td>0.787709</td>\n",
              "      <td>0.880051</td>\n",
              "    </tr>\n",
              "    <tr>\n",
              "      <th>6</th>\n",
              "      <td>2.0</td>\n",
              "      <td>10</td>\n",
              "      <td>8</td>\n",
              "      <td>2</td>\n",
              "      <td>0.832402</td>\n",
              "      <td>0.832402</td>\n",
              "      <td>0.882239</td>\n",
              "    </tr>\n",
              "    <tr>\n",
              "      <th>7</th>\n",
              "      <td>2.0</td>\n",
              "      <td>10</td>\n",
              "      <td>8</td>\n",
              "      <td>5</td>\n",
              "      <td>0.770950</td>\n",
              "      <td>0.770950</td>\n",
              "      <td>0.864479</td>\n",
              "    </tr>\n",
              "    <tr>\n",
              "      <th>8</th>\n",
              "      <td>2.0</td>\n",
              "      <td>10</td>\n",
              "      <td>8</td>\n",
              "      <td>10</td>\n",
              "      <td>0.787709</td>\n",
              "      <td>0.787709</td>\n",
              "      <td>0.862806</td>\n",
              "    </tr>\n",
              "    <tr>\n",
              "      <th>9</th>\n",
              "      <td>2.0</td>\n",
              "      <td>100</td>\n",
              "      <td>2</td>\n",
              "      <td>2</td>\n",
              "      <td>0.798883</td>\n",
              "      <td>0.798883</td>\n",
              "      <td>0.877413</td>\n",
              "    </tr>\n",
              "  </tbody>\n",
              "</table>\n",
              "</div>"
            ],
            "text/plain": [
              "   max_depth  n_estimators  min_samples_leaf  min_samples_split   test_R2  \\\n",
              "0        2.0            10                 2                  2  0.798883   \n",
              "1        2.0            10                 2                  5  0.815642   \n",
              "2        2.0            10                 2                 10  0.798883   \n",
              "3        2.0            10                 4                  2  0.798883   \n",
              "4        2.0            10                 4                  5  0.798883   \n",
              "5        2.0            10                 4                 10  0.787709   \n",
              "6        2.0            10                 8                  2  0.832402   \n",
              "7        2.0            10                 8                  5  0.770950   \n",
              "8        2.0            10                 8                 10  0.787709   \n",
              "9        2.0           100                 2                  2  0.798883   \n",
              "\n",
              "   test_accuracy   ROC-AUC  \n",
              "0       0.798883  0.876448  \n",
              "1       0.815642  0.888546  \n",
              "2       0.798883  0.876577  \n",
              "3       0.798883  0.870849  \n",
              "4       0.798883  0.878378  \n",
              "5       0.787709  0.880051  \n",
              "6       0.832402  0.882239  \n",
              "7       0.770950  0.864479  \n",
              "8       0.787709  0.862806  \n",
              "9       0.798883  0.877413  "
            ]
          },
          "metadata": {
            "tags": []
          },
          "execution_count": 114
        }
      ]
    },
    {
      "cell_type": "code",
      "metadata": {
        "id": "9tTgkVEE8ac-",
        "colab_type": "code",
        "colab": {
          "base_uri": "https://localhost:8080/",
          "height": 288
        },
        "outputId": "d50a266f-b5c8-474b-a4b1-45abca20a5b5"
      },
      "source": [
        "rf_df.describe()"
      ],
      "execution_count": 115,
      "outputs": [
        {
          "output_type": "execute_result",
          "data": {
            "text/html": [
              "<div>\n",
              "<style scoped>\n",
              "    .dataframe tbody tr th:only-of-type {\n",
              "        vertical-align: middle;\n",
              "    }\n",
              "\n",
              "    .dataframe tbody tr th {\n",
              "        vertical-align: top;\n",
              "    }\n",
              "\n",
              "    .dataframe thead th {\n",
              "        text-align: right;\n",
              "    }\n",
              "</style>\n",
              "<table border=\"1\" class=\"dataframe\">\n",
              "  <thead>\n",
              "    <tr style=\"text-align: right;\">\n",
              "      <th></th>\n",
              "      <th>max_depth</th>\n",
              "      <th>n_estimators</th>\n",
              "      <th>min_samples_leaf</th>\n",
              "      <th>min_samples_split</th>\n",
              "      <th>test_R2</th>\n",
              "      <th>test_accuracy</th>\n",
              "      <th>ROC-AUC</th>\n",
              "    </tr>\n",
              "  </thead>\n",
              "  <tbody>\n",
              "    <tr>\n",
              "      <th>count</th>\n",
              "      <td>108.00000</td>\n",
              "      <td>135.000000</td>\n",
              "      <td>135.000000</td>\n",
              "      <td>135.000000</td>\n",
              "      <td>135.000000</td>\n",
              "      <td>135.000000</td>\n",
              "      <td>135.000000</td>\n",
              "    </tr>\n",
              "    <tr>\n",
              "      <th>mean</th>\n",
              "      <td>4.50000</td>\n",
              "      <td>203.333333</td>\n",
              "      <td>4.666667</td>\n",
              "      <td>5.666667</td>\n",
              "      <td>0.815229</td>\n",
              "      <td>0.815229</td>\n",
              "      <td>0.891855</td>\n",
              "    </tr>\n",
              "    <tr>\n",
              "      <th>std</th>\n",
              "      <td>2.30197</td>\n",
              "      <td>213.761619</td>\n",
              "      <td>2.503729</td>\n",
              "      <td>3.312122</td>\n",
              "      <td>0.013541</td>\n",
              "      <td>0.013541</td>\n",
              "      <td>0.011366</td>\n",
              "    </tr>\n",
              "    <tr>\n",
              "      <th>min</th>\n",
              "      <td>2.00000</td>\n",
              "      <td>10.000000</td>\n",
              "      <td>2.000000</td>\n",
              "      <td>2.000000</td>\n",
              "      <td>0.770950</td>\n",
              "      <td>0.770950</td>\n",
              "      <td>0.862806</td>\n",
              "    </tr>\n",
              "    <tr>\n",
              "      <th>25%</th>\n",
              "      <td>2.75000</td>\n",
              "      <td>10.000000</td>\n",
              "      <td>2.000000</td>\n",
              "      <td>2.000000</td>\n",
              "      <td>0.810056</td>\n",
              "      <td>0.810056</td>\n",
              "      <td>0.882625</td>\n",
              "    </tr>\n",
              "    <tr>\n",
              "      <th>50%</th>\n",
              "      <td>4.00000</td>\n",
              "      <td>100.000000</td>\n",
              "      <td>4.000000</td>\n",
              "      <td>5.000000</td>\n",
              "      <td>0.815642</td>\n",
              "      <td>0.815642</td>\n",
              "      <td>0.892793</td>\n",
              "    </tr>\n",
              "    <tr>\n",
              "      <th>75%</th>\n",
              "      <td>5.75000</td>\n",
              "      <td>500.000000</td>\n",
              "      <td>8.000000</td>\n",
              "      <td>10.000000</td>\n",
              "      <td>0.821229</td>\n",
              "      <td>0.821229</td>\n",
              "      <td>0.901737</td>\n",
              "    </tr>\n",
              "    <tr>\n",
              "      <th>max</th>\n",
              "      <td>8.00000</td>\n",
              "      <td>500.000000</td>\n",
              "      <td>8.000000</td>\n",
              "      <td>10.000000</td>\n",
              "      <td>0.854749</td>\n",
              "      <td>0.854749</td>\n",
              "      <td>0.911969</td>\n",
              "    </tr>\n",
              "  </tbody>\n",
              "</table>\n",
              "</div>"
            ],
            "text/plain": [
              "       max_depth  n_estimators  min_samples_leaf  min_samples_split  \\\n",
              "count  108.00000    135.000000        135.000000         135.000000   \n",
              "mean     4.50000    203.333333          4.666667           5.666667   \n",
              "std      2.30197    213.761619          2.503729           3.312122   \n",
              "min      2.00000     10.000000          2.000000           2.000000   \n",
              "25%      2.75000     10.000000          2.000000           2.000000   \n",
              "50%      4.00000    100.000000          4.000000           5.000000   \n",
              "75%      5.75000    500.000000          8.000000          10.000000   \n",
              "max      8.00000    500.000000          8.000000          10.000000   \n",
              "\n",
              "          test_R2  test_accuracy     ROC-AUC  \n",
              "count  135.000000     135.000000  135.000000  \n",
              "mean     0.815229       0.815229    0.891855  \n",
              "std      0.013541       0.013541    0.011366  \n",
              "min      0.770950       0.770950    0.862806  \n",
              "25%      0.810056       0.810056    0.882625  \n",
              "50%      0.815642       0.815642    0.892793  \n",
              "75%      0.821229       0.821229    0.901737  \n",
              "max      0.854749       0.854749    0.911969  "
            ]
          },
          "metadata": {
            "tags": []
          },
          "execution_count": 115
        }
      ]
    },
    {
      "cell_type": "code",
      "metadata": {
        "id": "DW_-K6UyD1M7",
        "colab_type": "code",
        "colab": {
          "base_uri": "https://localhost:8080/",
          "height": 138
        },
        "outputId": "055ba1f4-a59a-4ebf-f14c-c9a151e4c55b"
      },
      "source": [
        "rf_df[rf_df.test_accuracy > .84]"
      ],
      "execution_count": 117,
      "outputs": [
        {
          "output_type": "execute_result",
          "data": {
            "text/html": [
              "<div>\n",
              "<style scoped>\n",
              "    .dataframe tbody tr th:only-of-type {\n",
              "        vertical-align: middle;\n",
              "    }\n",
              "\n",
              "    .dataframe tbody tr th {\n",
              "        vertical-align: top;\n",
              "    }\n",
              "\n",
              "    .dataframe thead th {\n",
              "        text-align: right;\n",
              "    }\n",
              "</style>\n",
              "<table border=\"1\" class=\"dataframe\">\n",
              "  <thead>\n",
              "    <tr style=\"text-align: right;\">\n",
              "      <th></th>\n",
              "      <th>max_depth</th>\n",
              "      <th>n_estimators</th>\n",
              "      <th>min_samples_leaf</th>\n",
              "      <th>min_samples_split</th>\n",
              "      <th>test_R2</th>\n",
              "      <th>test_accuracy</th>\n",
              "      <th>ROC-AUC</th>\n",
              "    </tr>\n",
              "  </thead>\n",
              "  <tbody>\n",
              "    <tr>\n",
              "      <th>108</th>\n",
              "      <td>NaN</td>\n",
              "      <td>10</td>\n",
              "      <td>2</td>\n",
              "      <td>2</td>\n",
              "      <td>0.854749</td>\n",
              "      <td>0.854749</td>\n",
              "      <td>0.899807</td>\n",
              "    </tr>\n",
              "    <tr>\n",
              "      <th>109</th>\n",
              "      <td>NaN</td>\n",
              "      <td>10</td>\n",
              "      <td>2</td>\n",
              "      <td>5</td>\n",
              "      <td>0.854749</td>\n",
              "      <td>0.854749</td>\n",
              "      <td>0.909588</td>\n",
              "    </tr>\n",
              "    <tr>\n",
              "      <th>117</th>\n",
              "      <td>NaN</td>\n",
              "      <td>100</td>\n",
              "      <td>2</td>\n",
              "      <td>2</td>\n",
              "      <td>0.843575</td>\n",
              "      <td>0.843575</td>\n",
              "      <td>0.905727</td>\n",
              "    </tr>\n",
              "  </tbody>\n",
              "</table>\n",
              "</div>"
            ],
            "text/plain": [
              "     max_depth  n_estimators  min_samples_leaf  min_samples_split   test_R2  \\\n",
              "108        NaN            10                 2                  2  0.854749   \n",
              "109        NaN            10                 2                  5  0.854749   \n",
              "117        NaN           100                 2                  2  0.843575   \n",
              "\n",
              "     test_accuracy   ROC-AUC  \n",
              "108       0.854749  0.899807  \n",
              "109       0.854749  0.909588  \n",
              "117       0.843575  0.905727  "
            ]
          },
          "metadata": {
            "tags": []
          },
          "execution_count": 117
        }
      ]
    },
    {
      "cell_type": "code",
      "metadata": {
        "id": "jhiVl0CXF-I0",
        "colab_type": "code",
        "colab": {}
      },
      "source": [
        "#similar function to test w/ XGB:\n",
        "\n",
        "def test_XGB(X, y, max_depths, estimators):\n",
        "  X_train, X_test, y_train, y_test = train_test_split(X, y, test_size=0.2, random_state=42)\n",
        "  cols = ['max_depth', 'n_estimators', 'test_R2', 'test_accuracy', 'ROC-AUC']\n",
        "  rows = []\n",
        "  for md in max_depths:\n",
        "    for ne in estimators:\n",
        "      xgb = XGBClassifier(max_depth=md, n_estimators=ne,  \n",
        "                                          n_jobs=-1, random_state=42)\n",
        "      forest.fit(X_train, y_train)\n",
        "      y_pred = forest.predict(X_test)\n",
        "      y_pred_proba = forest.predict_proba(X_test)[:,1]\n",
        "      r2_test = forest.score(X_test, y_test)\n",
        "      accuracy = accuracy_score(y_pred, y_test)\n",
        "      roc_auc = roc_auc_score(y_test, y_pred_proba)\n",
        "      row = [md, ne, r2_test, accuracy, roc_auc]\n",
        "      rows.append(row)\n",
        "  df = pd.DataFrame(data=rows, columns=cols)\n",
        "  return df"
      ],
      "execution_count": 0,
      "outputs": []
    },
    {
      "cell_type": "code",
      "metadata": {
        "id": "P80OrB16HDJl",
        "colab_type": "code",
        "colab": {}
      },
      "source": [
        "max_depths = [2,3,5,10]\n",
        "estimators = [10,100,500]\n",
        "\n",
        "xgb_df = test_XGB(X,y,max_depths, estimators)"
      ],
      "execution_count": 0,
      "outputs": []
    },
    {
      "cell_type": "code",
      "metadata": {
        "id": "TyyrMR6WHcX0",
        "colab_type": "code",
        "colab": {
          "base_uri": "https://localhost:8080/",
          "height": 348
        },
        "outputId": "3a675dfc-3c0d-4454-85f3-ad85efd4669c"
      },
      "source": [
        "xgb_df.head(10)"
      ],
      "execution_count": 124,
      "outputs": [
        {
          "output_type": "execute_result",
          "data": {
            "text/html": [
              "<div>\n",
              "<style scoped>\n",
              "    .dataframe tbody tr th:only-of-type {\n",
              "        vertical-align: middle;\n",
              "    }\n",
              "\n",
              "    .dataframe tbody tr th {\n",
              "        vertical-align: top;\n",
              "    }\n",
              "\n",
              "    .dataframe thead th {\n",
              "        text-align: right;\n",
              "    }\n",
              "</style>\n",
              "<table border=\"1\" class=\"dataframe\">\n",
              "  <thead>\n",
              "    <tr style=\"text-align: right;\">\n",
              "      <th></th>\n",
              "      <th>max_depth</th>\n",
              "      <th>n_estimators</th>\n",
              "      <th>test_R2</th>\n",
              "      <th>test_accuracy</th>\n",
              "      <th>ROC-AUC</th>\n",
              "    </tr>\n",
              "  </thead>\n",
              "  <tbody>\n",
              "    <tr>\n",
              "      <th>0</th>\n",
              "      <td>2</td>\n",
              "      <td>10</td>\n",
              "      <td>0.815642</td>\n",
              "      <td>0.815642</td>\n",
              "      <td>0.891313</td>\n",
              "    </tr>\n",
              "    <tr>\n",
              "      <th>1</th>\n",
              "      <td>2</td>\n",
              "      <td>100</td>\n",
              "      <td>0.804469</td>\n",
              "      <td>0.804469</td>\n",
              "      <td>0.901673</td>\n",
              "    </tr>\n",
              "    <tr>\n",
              "      <th>2</th>\n",
              "      <td>2</td>\n",
              "      <td>500</td>\n",
              "      <td>0.832402</td>\n",
              "      <td>0.832402</td>\n",
              "      <td>0.886680</td>\n",
              "    </tr>\n",
              "    <tr>\n",
              "      <th>3</th>\n",
              "      <td>3</td>\n",
              "      <td>10</td>\n",
              "      <td>0.821229</td>\n",
              "      <td>0.821229</td>\n",
              "      <td>0.885586</td>\n",
              "    </tr>\n",
              "    <tr>\n",
              "      <th>4</th>\n",
              "      <td>3</td>\n",
              "      <td>100</td>\n",
              "      <td>0.810056</td>\n",
              "      <td>0.810056</td>\n",
              "      <td>0.869048</td>\n",
              "    </tr>\n",
              "    <tr>\n",
              "      <th>5</th>\n",
              "      <td>3</td>\n",
              "      <td>500</td>\n",
              "      <td>0.810056</td>\n",
              "      <td>0.810056</td>\n",
              "      <td>0.879408</td>\n",
              "    </tr>\n",
              "    <tr>\n",
              "      <th>6</th>\n",
              "      <td>5</td>\n",
              "      <td>10</td>\n",
              "      <td>0.810056</td>\n",
              "      <td>0.810056</td>\n",
              "      <td>0.891892</td>\n",
              "    </tr>\n",
              "    <tr>\n",
              "      <th>7</th>\n",
              "      <td>5</td>\n",
              "      <td>100</td>\n",
              "      <td>0.798883</td>\n",
              "      <td>0.798883</td>\n",
              "      <td>0.895817</td>\n",
              "    </tr>\n",
              "    <tr>\n",
              "      <th>8</th>\n",
              "      <td>5</td>\n",
              "      <td>500</td>\n",
              "      <td>0.815642</td>\n",
              "      <td>0.815642</td>\n",
              "      <td>0.892664</td>\n",
              "    </tr>\n",
              "    <tr>\n",
              "      <th>9</th>\n",
              "      <td>10</td>\n",
              "      <td>10</td>\n",
              "      <td>0.826816</td>\n",
              "      <td>0.826816</td>\n",
              "      <td>0.890154</td>\n",
              "    </tr>\n",
              "  </tbody>\n",
              "</table>\n",
              "</div>"
            ],
            "text/plain": [
              "   max_depth  n_estimators   test_R2  test_accuracy   ROC-AUC\n",
              "0          2            10  0.815642       0.815642  0.891313\n",
              "1          2           100  0.804469       0.804469  0.901673\n",
              "2          2           500  0.832402       0.832402  0.886680\n",
              "3          3            10  0.821229       0.821229  0.885586\n",
              "4          3           100  0.810056       0.810056  0.869048\n",
              "5          3           500  0.810056       0.810056  0.879408\n",
              "6          5            10  0.810056       0.810056  0.891892\n",
              "7          5           100  0.798883       0.798883  0.895817\n",
              "8          5           500  0.815642       0.815642  0.892664\n",
              "9         10            10  0.826816       0.826816  0.890154"
            ]
          },
          "metadata": {
            "tags": []
          },
          "execution_count": 124
        }
      ]
    },
    {
      "cell_type": "code",
      "metadata": {
        "id": "DcMsAi4vHdcm",
        "colab_type": "code",
        "colab": {
          "base_uri": "https://localhost:8080/",
          "height": 288
        },
        "outputId": "8c1dc552-28d2-4a98-b830-5659cee8c360"
      },
      "source": [
        "xgb_df.describe()"
      ],
      "execution_count": 125,
      "outputs": [
        {
          "output_type": "execute_result",
          "data": {
            "text/html": [
              "<div>\n",
              "<style scoped>\n",
              "    .dataframe tbody tr th:only-of-type {\n",
              "        vertical-align: middle;\n",
              "    }\n",
              "\n",
              "    .dataframe tbody tr th {\n",
              "        vertical-align: top;\n",
              "    }\n",
              "\n",
              "    .dataframe thead th {\n",
              "        text-align: right;\n",
              "    }\n",
              "</style>\n",
              "<table border=\"1\" class=\"dataframe\">\n",
              "  <thead>\n",
              "    <tr style=\"text-align: right;\">\n",
              "      <th></th>\n",
              "      <th>max_depth</th>\n",
              "      <th>n_estimators</th>\n",
              "      <th>test_R2</th>\n",
              "      <th>test_accuracy</th>\n",
              "      <th>ROC-AUC</th>\n",
              "    </tr>\n",
              "  </thead>\n",
              "  <tbody>\n",
              "    <tr>\n",
              "      <th>count</th>\n",
              "      <td>12.00000</td>\n",
              "      <td>12.000000</td>\n",
              "      <td>12.000000</td>\n",
              "      <td>12.000000</td>\n",
              "      <td>12.000000</td>\n",
              "    </tr>\n",
              "    <tr>\n",
              "      <th>mean</th>\n",
              "      <td>5.00000</td>\n",
              "      <td>203.333333</td>\n",
              "      <td>0.813780</td>\n",
              "      <td>0.813780</td>\n",
              "      <td>0.888723</td>\n",
              "    </tr>\n",
              "    <tr>\n",
              "      <th>std</th>\n",
              "      <td>3.21926</td>\n",
              "      <td>222.438279</td>\n",
              "      <td>0.009328</td>\n",
              "      <td>0.009328</td>\n",
              "      <td>0.008278</td>\n",
              "    </tr>\n",
              "    <tr>\n",
              "      <th>min</th>\n",
              "      <td>2.00000</td>\n",
              "      <td>10.000000</td>\n",
              "      <td>0.798883</td>\n",
              "      <td>0.798883</td>\n",
              "      <td>0.869048</td>\n",
              "    </tr>\n",
              "    <tr>\n",
              "      <th>25%</th>\n",
              "      <td>2.75000</td>\n",
              "      <td>10.000000</td>\n",
              "      <td>0.810056</td>\n",
              "      <td>0.810056</td>\n",
              "      <td>0.886406</td>\n",
              "    </tr>\n",
              "    <tr>\n",
              "      <th>50%</th>\n",
              "      <td>4.00000</td>\n",
              "      <td>100.000000</td>\n",
              "      <td>0.810056</td>\n",
              "      <td>0.810056</td>\n",
              "      <td>0.890734</td>\n",
              "    </tr>\n",
              "    <tr>\n",
              "      <th>75%</th>\n",
              "      <td>6.25000</td>\n",
              "      <td>500.000000</td>\n",
              "      <td>0.817039</td>\n",
              "      <td>0.817039</td>\n",
              "      <td>0.892423</td>\n",
              "    </tr>\n",
              "    <tr>\n",
              "      <th>max</th>\n",
              "      <td>10.00000</td>\n",
              "      <td>500.000000</td>\n",
              "      <td>0.832402</td>\n",
              "      <td>0.832402</td>\n",
              "      <td>0.901673</td>\n",
              "    </tr>\n",
              "  </tbody>\n",
              "</table>\n",
              "</div>"
            ],
            "text/plain": [
              "       max_depth  n_estimators    test_R2  test_accuracy    ROC-AUC\n",
              "count   12.00000     12.000000  12.000000      12.000000  12.000000\n",
              "mean     5.00000    203.333333   0.813780       0.813780   0.888723\n",
              "std      3.21926    222.438279   0.009328       0.009328   0.008278\n",
              "min      2.00000     10.000000   0.798883       0.798883   0.869048\n",
              "25%      2.75000     10.000000   0.810056       0.810056   0.886406\n",
              "50%      4.00000    100.000000   0.810056       0.810056   0.890734\n",
              "75%      6.25000    500.000000   0.817039       0.817039   0.892423\n",
              "max     10.00000    500.000000   0.832402       0.832402   0.901673"
            ]
          },
          "metadata": {
            "tags": []
          },
          "execution_count": 125
        }
      ]
    },
    {
      "cell_type": "code",
      "metadata": {
        "id": "DZld3OKrHf-V",
        "colab_type": "code",
        "colab": {
          "base_uri": "https://localhost:8080/",
          "height": 138
        },
        "outputId": "828c63fb-516b-40ad-a774-bafdb96974ad"
      },
      "source": [
        "xgb_df[xgb_df.test_accuracy>.82]"
      ],
      "execution_count": 127,
      "outputs": [
        {
          "output_type": "execute_result",
          "data": {
            "text/html": [
              "<div>\n",
              "<style scoped>\n",
              "    .dataframe tbody tr th:only-of-type {\n",
              "        vertical-align: middle;\n",
              "    }\n",
              "\n",
              "    .dataframe tbody tr th {\n",
              "        vertical-align: top;\n",
              "    }\n",
              "\n",
              "    .dataframe thead th {\n",
              "        text-align: right;\n",
              "    }\n",
              "</style>\n",
              "<table border=\"1\" class=\"dataframe\">\n",
              "  <thead>\n",
              "    <tr style=\"text-align: right;\">\n",
              "      <th></th>\n",
              "      <th>max_depth</th>\n",
              "      <th>n_estimators</th>\n",
              "      <th>test_R2</th>\n",
              "      <th>test_accuracy</th>\n",
              "      <th>ROC-AUC</th>\n",
              "    </tr>\n",
              "  </thead>\n",
              "  <tbody>\n",
              "    <tr>\n",
              "      <th>2</th>\n",
              "      <td>2</td>\n",
              "      <td>500</td>\n",
              "      <td>0.832402</td>\n",
              "      <td>0.832402</td>\n",
              "      <td>0.886680</td>\n",
              "    </tr>\n",
              "    <tr>\n",
              "      <th>3</th>\n",
              "      <td>3</td>\n",
              "      <td>10</td>\n",
              "      <td>0.821229</td>\n",
              "      <td>0.821229</td>\n",
              "      <td>0.885586</td>\n",
              "    </tr>\n",
              "    <tr>\n",
              "      <th>9</th>\n",
              "      <td>10</td>\n",
              "      <td>10</td>\n",
              "      <td>0.826816</td>\n",
              "      <td>0.826816</td>\n",
              "      <td>0.890154</td>\n",
              "    </tr>\n",
              "  </tbody>\n",
              "</table>\n",
              "</div>"
            ],
            "text/plain": [
              "   max_depth  n_estimators   test_R2  test_accuracy   ROC-AUC\n",
              "2          2           500  0.832402       0.832402  0.886680\n",
              "3          3            10  0.821229       0.821229  0.885586\n",
              "9         10            10  0.826816       0.826816  0.890154"
            ]
          },
          "metadata": {
            "tags": []
          },
          "execution_count": 127
        }
      ]
    }
  ]
}