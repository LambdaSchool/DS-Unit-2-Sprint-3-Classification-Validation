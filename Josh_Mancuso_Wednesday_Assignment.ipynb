{
  "nbformat": 4,
  "nbformat_minor": 0,
  "metadata": {
    "colab": {
      "name": "Josh Mancuso - Wednesday Assignment",
      "version": "0.3.2",
      "provenance": [],
      "include_colab_link": true
    },
    "kernelspec": {
      "name": "python3",
      "display_name": "Python 3"
    }
  },
  "cells": [
    {
      "cell_type": "markdown",
      "metadata": {
        "id": "view-in-github",
        "colab_type": "text"
      },
      "source": [
        "<a href=\"https://colab.research.google.com/github/Nolanole/DS-Unit-2-Sprint-3-Classification-Validation/blob/master/Josh_Mancuso_Wednesday_Assignment.ipynb\" target=\"_parent\"><img src=\"https://colab.research.google.com/assets/colab-badge.svg\" alt=\"Open In Colab\"/></a>"
      ]
    },
    {
      "cell_type": "markdown",
      "metadata": {
        "colab_type": "text",
        "id": "P_XjBTW5SBwZ"
      },
      "source": [
        "# ASSIGNMENT\n",
        "\n",
        "#### Bank Marketing\n",
        "- Try the `class_weight` parameter.\n",
        "- Explore and visualize your data. \n",
        "- Wrangle [bad data](https://github.com/Quartz/bad-data-guide), outliers, and missing values.\n",
        "- Try engineering more features. You can transform, bin, and combine features. \n",
        "- Try selecting fewer features.\n",
        "\n",
        "\n",
        "#### Imbalanced Classes demo with synthetic data\n",
        "- Play around with the demo. Change parameter values.\n",
        "- Be able to calculate precision, recall, F1, and accuracy \"by hand\", given a confusion matrix and access to Wikipedia.\n",
        "\n",
        "# STRETCH\n",
        "- Read the blog post, [Visualizing Machine Learning Thresholds to Make Better Business Decisions](https://blog.insightdatascience.com/visualizing-machine-learning-thresholds-to-make-better-business-decisions-4ab07f823415). You can replicate the code as-is,  [\"the hard way\"](https://docs.google.com/document/d/1ubOw9B3Hfip27hF2ZFnW3a3z9xAgrUDRReOEo-FHCVs/edit). Or you can apply it to the Bank Marketing dataset.\n",
        "- Try the [imbalance-learn](https://github.com/scikit-learn-contrib/imbalanced-learn) library.\n",
        "- Try other [scikit-learn classifiers](https://scikit-learn.org/stable/supervised_learning.html), beyond Logistic Regression."
      ]
    },
    {
      "cell_type": "code",
      "metadata": {
        "id": "2YKn_B2E_At1",
        "colab_type": "code",
        "colab": {}
      },
      "source": [
        "# Imports\n",
        "%matplotlib inline\n",
        "import warnings\n",
        "import category_encoders as ce\n",
        "import matplotlib.pyplot as plt\n",
        "import seaborn as sns\n",
        "import pandas as pd\n",
        "import numpy as np\n",
        "import graphviz\n",
        "from sklearn.impute import SimpleImputer\n",
        "from sklearn.tree import DecisionTreeClassifier, export_graphviz\n",
        "from sklearn.linear_model import LinearRegression, LogisticRegression\n",
        "from sklearn.model_selection import cross_val_score, train_test_split, cross_val_predict\n",
        "from sklearn.pipeline import make_pipeline\n",
        "from sklearn.metrics import roc_auc_score, accuracy_score\n",
        "from sklearn.preprocessing import StandardScaler\n",
        "from sklearn.exceptions import DataConversionWarning\n",
        "from sklearn.metrics import classification_report, confusion_matrix\n",
        "warnings.filterwarnings(action='ignore', category=DataConversionWarning)\n",
        "\n",
        "pd.options.display.max_columns = None\n",
        "pd.options.display.max_rows = None\n"
      ],
      "execution_count": 0,
      "outputs": []
    },
    {
      "cell_type": "code",
      "metadata": {
        "id": "eweW4-9TnM4V",
        "colab_type": "code",
        "colab": {}
      },
      "source": [
        "#!wget https://archive.ics.uci.edu/ml/machine-learning-databases/00222/bank-additional.zip"
      ],
      "execution_count": 0,
      "outputs": []
    },
    {
      "cell_type": "code",
      "metadata": {
        "id": "XzA1ONDA-u2p",
        "colab_type": "code",
        "colab": {}
      },
      "source": [
        "#!unzip bank-additional.zip"
      ],
      "execution_count": 0,
      "outputs": []
    },
    {
      "cell_type": "code",
      "metadata": {
        "id": "trIFmVoY-yxJ",
        "colab_type": "code",
        "colab": {}
      },
      "source": [
        "#read in the data into pandas df, and remove duration column:\n",
        "\n",
        "bank = pd.read_csv('bank-additional/bank-additional-full.csv', sep=';').drop(columns='duration')"
      ],
      "execution_count": 0,
      "outputs": []
    },
    {
      "cell_type": "code",
      "metadata": {
        "id": "46eRcZaxCpIf",
        "colab_type": "code",
        "colab": {
          "base_uri": "https://localhost:8080/",
          "height": 72
        },
        "outputId": "a1056ba4-8ede-49c9-e3d0-e81149856f40"
      },
      "source": [
        "#Baseline - predict no with 88.7% accuracy\n",
        "bank.y.value_counts(normalize=True)"
      ],
      "execution_count": 5,
      "outputs": [
        {
          "output_type": "execute_result",
          "data": {
            "text/plain": [
              "no     0.887346\n",
              "yes    0.112654\n",
              "Name: y, dtype: float64"
            ]
          },
          "metadata": {
            "tags": []
          },
          "execution_count": 5
        }
      ]
    },
    {
      "cell_type": "code",
      "metadata": {
        "id": "TP_nMJc1Hfo9",
        "colab_type": "code",
        "colab": {}
      },
      "source": [
        "#Bin the pdays column to categorical:\n",
        "\n",
        "bins = pd.IntervalIndex.from_tuples([(-1, 3.1), (3.1, 5.1), (5.1, 7.1), (7.1, 14.1), (14.1, 30.1), (30.1, 1000)])\n",
        "  \n",
        "bank['pdays'] = pd.cut(bank.pdays, bins)\n",
        "#bank['pdays'] = bank['pdays'].cat.codes"
      ],
      "execution_count": 0,
      "outputs": []
    },
    {
      "cell_type": "code",
      "metadata": {
        "id": "VP67tVzYC923",
        "colab_type": "code",
        "colab": {}
      },
      "source": [
        "def convert_categoricals(df, cat_cols):\n",
        "  copy = df.copy()\n",
        "  for col in cat_cols:\n",
        "    copy[col] = pd.Categorical(copy[col])\n",
        "    copy[col] = copy[col].cat.codes\n",
        "  return copy\n",
        "  "
      ],
      "execution_count": 0,
      "outputs": []
    },
    {
      "cell_type": "code",
      "metadata": {
        "id": "9j1i4US5F6b6",
        "colab_type": "code",
        "colab": {}
      },
      "source": [
        "cat_cols = ['job', 'marital', 'education', 'default', 'housing', 'loan',\n",
        "       'contact', 'month', 'day_of_week', 'poutcome', 'pdays', 'y']\n",
        "\n",
        "bank = convert_categoricals(bank, cat_cols)"
      ],
      "execution_count": 0,
      "outputs": []
    },
    {
      "cell_type": "code",
      "metadata": {
        "id": "YOvABypNMzQZ",
        "colab_type": "code",
        "colab": {}
      },
      "source": [
        "scaler = StandardScaler()\n",
        "numeric_cols = ['age', 'campaign', 'previous', 'emp.var.rate', 'cons.price.idx',\n",
        "                'cons.conf.idx', 'euribor3m', 'nr.employed']\n",
        "scaled = pd.DataFrame(scaler.fit_transform(bank[numeric_cols]), columns=numeric_cols)\n",
        "cat_bank = bank[cat_cols]\n",
        "\n",
        "scaled_bank = pd.concat([scaled, cat_bank], axis=1)"
      ],
      "execution_count": 0,
      "outputs": []
    },
    {
      "cell_type": "code",
      "metadata": {
        "id": "YQ414FHwSG_a",
        "colab_type": "code",
        "colab": {}
      },
      "source": [
        "scaled_bank = convert_categoricals(scaled_bank, cat_cols)"
      ],
      "execution_count": 0,
      "outputs": []
    },
    {
      "cell_type": "code",
      "metadata": {
        "id": "uBesWt57g0K7",
        "colab_type": "code",
        "colab": {
          "base_uri": "https://localhost:8080/",
          "height": 472
        },
        "outputId": "54428a61-bc24-4858-a9fb-da1862d128f7"
      },
      "source": [
        "scaled_bank.info()"
      ],
      "execution_count": 11,
      "outputs": [
        {
          "output_type": "stream",
          "text": [
            "<class 'pandas.core.frame.DataFrame'>\n",
            "RangeIndex: 41188 entries, 0 to 41187\n",
            "Data columns (total 20 columns):\n",
            "age               41188 non-null float64\n",
            "campaign          41188 non-null float64\n",
            "previous          41188 non-null float64\n",
            "emp.var.rate      41188 non-null float64\n",
            "cons.price.idx    41188 non-null float64\n",
            "cons.conf.idx     41188 non-null float64\n",
            "euribor3m         41188 non-null float64\n",
            "nr.employed       41188 non-null float64\n",
            "job               41188 non-null int8\n",
            "marital           41188 non-null int8\n",
            "education         41188 non-null int8\n",
            "default           41188 non-null int8\n",
            "housing           41188 non-null int8\n",
            "loan              41188 non-null int8\n",
            "contact           41188 non-null int8\n",
            "month             41188 non-null int8\n",
            "day_of_week       41188 non-null int8\n",
            "poutcome          41188 non-null int8\n",
            "pdays             41188 non-null int8\n",
            "y                 41188 non-null int8\n",
            "dtypes: float64(8), int8(12)\n",
            "memory usage: 3.0 MB\n"
          ],
          "name": "stdout"
        }
      ]
    },
    {
      "cell_type": "code",
      "metadata": {
        "id": "OTmb65QT-9UJ",
        "colab_type": "code",
        "colab": {
          "base_uri": "https://localhost:8080/",
          "height": 35
        },
        "outputId": "675bd4f1-01ec-4baf-8eb1-01b81597b8bb"
      },
      "source": [
        "X = scaled_bank.drop(columns='y')\n",
        "y = scaled_bank['y']\n",
        "\n",
        "X_train, X_test, y_train, y_test = train_test_split(X, y, test_size=0.2, random_state=42, stratify=y)\n",
        "\n",
        "log_reg = LogisticRegression(solver='lbfgs', max_iter=1000)\n",
        "log_reg.fit(X_train, y_train)\n",
        "y_pred = log_reg.predict(X_test)\n",
        "y_pred_proba = log_reg.predict_proba(X_test)[:,1]\n",
        "\n",
        "roc_auc_score(y_test, y_pred_proba)"
      ],
      "execution_count": 12,
      "outputs": [
        {
          "output_type": "execute_result",
          "data": {
            "text/plain": [
              "0.7955460752865701"
            ]
          },
          "metadata": {
            "tags": []
          },
          "execution_count": 12
        }
      ]
    },
    {
      "cell_type": "code",
      "metadata": {
        "id": "yRVyzoWKWV75",
        "colab_type": "code",
        "colab": {
          "base_uri": "https://localhost:8080/",
          "height": 35
        },
        "outputId": "6178e901-88bd-46e0-f900-369ee067b5de"
      },
      "source": [
        "accuracy_score(y_pred, y_test)"
      ],
      "execution_count": 13,
      "outputs": [
        {
          "output_type": "execute_result",
          "data": {
            "text/plain": [
              "0.9002184996358339"
            ]
          },
          "metadata": {
            "tags": []
          },
          "execution_count": 13
        }
      ]
    },
    {
      "cell_type": "code",
      "metadata": {
        "id": "qxnu7I5CR8qs",
        "colab_type": "code",
        "colab": {}
      },
      "source": [
        "# Make pipeline\n",
        "pipeline = make_pipeline(\n",
        "    ce.OneHotEncoder(use_cat_names=True), \n",
        "    StandardScaler(), \n",
        "    LogisticRegression(solver='lbfgs', max_iter=1000)\n",
        ")\n",
        "\n",
        "#y_pred_proba = cross_val_predict(pipeline, X_train, y_train, cv=3, n_jobs=-1, \n",
        "#                                 method='predict_proba')[:,1]\n",
        "\n",
        "def test_pipeline(pipeline, X, y):\n",
        "  X_train, X_test, y_train, y_test = train_test_split(X, y, test_size=0.2, random_state=42, stratify=y)\n",
        "  \n",
        "  pipeline.fit(X_train, y_train)\n",
        "  y_pred = pipeline.predict(X_test)\n",
        "  print('Accuracy score: ' + str(accuracy_score(y_pred, y_test)))\n",
        "  y_pred_proba = pipeline.predict_proba(X_test)[:,1]\n",
        "  print('Roc_auc_score: ' + str(roc_auc_score(y_test, y_pred_proba)))"
      ],
      "execution_count": 0,
      "outputs": []
    },
    {
      "cell_type": "code",
      "metadata": {
        "id": "H2mI9JJjUaUK",
        "colab_type": "code",
        "colab": {
          "base_uri": "https://localhost:8080/",
          "height": 54
        },
        "outputId": "f96cd35b-b0ef-4fbe-dc3f-66adc2925a6d"
      },
      "source": [
        "test_pipeline(pipeline, X, y)"
      ],
      "execution_count": 15,
      "outputs": [
        {
          "output_type": "stream",
          "text": [
            "Accuracy score: 0.9002184996358339\n",
            "Roc_auc_score: 0.7955491709514599\n"
          ],
          "name": "stdout"
        }
      ]
    },
    {
      "cell_type": "code",
      "metadata": {
        "id": "_gddQC-OioKA",
        "colab_type": "code",
        "colab": {
          "base_uri": "https://localhost:8080/",
          "height": 54
        },
        "outputId": "14410484-525d-4bee-b911-b77ce131585a"
      },
      "source": [
        "tree_pipeline = make_pipeline(\n",
        "    ce.OneHotEncoder(use_cat_names=True), \n",
        "    StandardScaler(), \n",
        "    DecisionTreeClassifier()\n",
        ")\n",
        "\n",
        "test_pipeline(tree_pipeline, X, y)"
      ],
      "execution_count": 19,
      "outputs": [
        {
          "output_type": "stream",
          "text": [
            "Accuracy score: 0.8914785142024764\n",
            "Roc_auc_score: 0.6520068753243077\n"
          ],
          "name": "stdout"
        }
      ]
    },
    {
      "cell_type": "code",
      "metadata": {
        "id": "eylILtW1VE_B",
        "colab_type": "code",
        "colab": {
          "base_uri": "https://localhost:8080/",
          "height": 272
        },
        "outputId": "c5b5bc8c-ba6b-4cef-8271-3ff1cbb373c4"
      },
      "source": [
        "y_pred_proba = cross_val_predict(pipeline, X_train, y_train, cv=3, n_jobs=-1, \n",
        "                                 method='predict_proba')[:,1]\n",
        "\n",
        "threshold = 0.90\n",
        "y_pred = y_pred_proba >= threshold\n",
        "\n",
        "print(classification_report(y_train, y_pred))\n",
        "\n",
        "pd.DataFrame(confusion_matrix(y_train, y_pred), \n",
        "             columns=['Predicted Negative', 'Predicted Positive'], \n",
        "             index=['Actual Negative', 'Actual Positive'])"
      ],
      "execution_count": 16,
      "outputs": [
        {
          "output_type": "stream",
          "text": [
            "              precision    recall  f1-score   support\n",
            "\n",
            "           0       0.89      1.00      0.94     29238\n",
            "           1       1.00      0.00      0.00      3712\n",
            "\n",
            "   micro avg       0.89      0.89      0.89     32950\n",
            "   macro avg       0.94      0.50      0.47     32950\n",
            "weighted avg       0.90      0.89      0.83     32950\n",
            "\n"
          ],
          "name": "stdout"
        },
        {
          "output_type": "execute_result",
          "data": {
            "text/html": [
              "<div>\n",
              "<style scoped>\n",
              "    .dataframe tbody tr th:only-of-type {\n",
              "        vertical-align: middle;\n",
              "    }\n",
              "\n",
              "    .dataframe tbody tr th {\n",
              "        vertical-align: top;\n",
              "    }\n",
              "\n",
              "    .dataframe thead th {\n",
              "        text-align: right;\n",
              "    }\n",
              "</style>\n",
              "<table border=\"1\" class=\"dataframe\">\n",
              "  <thead>\n",
              "    <tr style=\"text-align: right;\">\n",
              "      <th></th>\n",
              "      <th>Predicted Negative</th>\n",
              "      <th>Predicted Positive</th>\n",
              "    </tr>\n",
              "  </thead>\n",
              "  <tbody>\n",
              "    <tr>\n",
              "      <th>Actual Negative</th>\n",
              "      <td>29238</td>\n",
              "      <td>0</td>\n",
              "    </tr>\n",
              "    <tr>\n",
              "      <th>Actual Positive</th>\n",
              "      <td>3711</td>\n",
              "      <td>1</td>\n",
              "    </tr>\n",
              "  </tbody>\n",
              "</table>\n",
              "</div>"
            ],
            "text/plain": [
              "                 Predicted Negative  Predicted Positive\n",
              "Actual Negative               29238                   0\n",
              "Actual Positive                3711                   1"
            ]
          },
          "metadata": {
            "tags": []
          },
          "execution_count": 16
        }
      ]
    },
    {
      "cell_type": "code",
      "metadata": {
        "id": "aTWEVsneY8Rp",
        "colab_type": "code",
        "colab": {
          "base_uri": "https://localhost:8080/",
          "height": 54
        },
        "outputId": "9c6ab77f-bda6-4773-93b3-bab07dfb1ec4"
      },
      "source": [
        "#Try fewer features:\n",
        "features = ['day_of_week', 'month', 'housing', 'loan', 'education', 'poutcome', 'pdays', 'contact']\n",
        "\n",
        "X = scaled_bank[features]\n",
        "y = scaled_bank['y']\n",
        "\n",
        "test_pipeline(pipeline, X, y)\n"
      ],
      "execution_count": 18,
      "outputs": [
        {
          "output_type": "stream",
          "text": [
            "Accuracy score: 0.8953629521728574\n",
            "Roc_auc_score: 0.6938461130241993\n"
          ],
          "name": "stdout"
        }
      ]
    },
    {
      "cell_type": "code",
      "metadata": {
        "id": "a_JmXi9Ni1b5",
        "colab_type": "code",
        "colab": {
          "base_uri": "https://localhost:8080/",
          "height": 54
        },
        "outputId": "11b61b5f-b55e-4277-b2a4-748b0a815a77"
      },
      "source": [
        "test_pipeline(tree_pipeline, X, y)"
      ],
      "execution_count": 20,
      "outputs": [
        {
          "output_type": "stream",
          "text": [
            "Accuracy score: 0.8915999028890508\n",
            "Roc_auc_score: 0.6521327656964951\n"
          ],
          "name": "stdout"
        }
      ]
    }
  ]
}