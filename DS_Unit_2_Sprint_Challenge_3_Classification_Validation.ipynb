{
  "nbformat": 4,
  "nbformat_minor": 0,
  "metadata": {
    "colab": {
      "name": "DS_Unit_2_Sprint_Challenge_3_Classification_Validation.ipynb",
      "version": "0.3.2",
      "provenance": [],
      "collapsed_sections": [],
      "include_colab_link": true
    },
    "language_info": {
      "codemirror_mode": {
        "name": "ipython",
        "version": 3
      },
      "file_extension": ".py",
      "mimetype": "text/x-python",
      "name": "python",
      "nbconvert_exporter": "python",
      "pygments_lexer": "ipython3",
      "version": "3.7.1"
    },
    "kernelspec": {
      "display_name": "Python 3",
      "language": "python",
      "name": "python3"
    }
  },
  "cells": [
    {
      "cell_type": "markdown",
      "metadata": {
        "id": "view-in-github",
        "colab_type": "text"
      },
      "source": [
        "<a href=\"https://colab.research.google.com/github/danhorsley/DS-Unit-2-Sprint-3-Classification-Validation/blob/master/DS_Unit_2_Sprint_Challenge_3_Classification_Validation.ipynb\" target=\"_parent\"><img src=\"https://colab.research.google.com/assets/colab-badge.svg\" alt=\"Open In Colab\"/></a>"
      ]
    },
    {
      "cell_type": "code",
      "metadata": {
        "id": "ByxMKGv2X-dh",
        "colab_type": "code",
        "colab": {
          "base_uri": "https://localhost:8080/",
          "height": 271
        },
        "outputId": "b77057c1-5929-4b13-c694-896758fbc40c"
      },
      "source": [
        "!pip install category_encoders"
      ],
      "execution_count": 41,
      "outputs": [
        {
          "output_type": "stream",
          "text": [
            "Collecting category_encoders\n",
            "\u001b[?25l  Downloading https://files.pythonhosted.org/packages/6e/a1/f7a22f144f33be78afeb06bfa78478e8284a64263a3c09b1ef54e673841e/category_encoders-2.0.0-py2.py3-none-any.whl (87kB)\n",
            "\u001b[K     |████████████████████████████████| 92kB 3.4MB/s \n",
            "\u001b[?25hRequirement already satisfied: scipy>=0.19.0 in /usr/local/lib/python3.6/dist-packages (from category_encoders) (1.2.1)\n",
            "Requirement already satisfied: patsy>=0.4.1 in /usr/local/lib/python3.6/dist-packages (from category_encoders) (0.5.1)\n",
            "Requirement already satisfied: scikit-learn>=0.20.0 in /usr/local/lib/python3.6/dist-packages (from category_encoders) (0.20.3)\n",
            "Requirement already satisfied: numpy>=1.11.3 in /usr/local/lib/python3.6/dist-packages (from category_encoders) (1.16.3)\n",
            "Requirement already satisfied: pandas>=0.21.1 in /usr/local/lib/python3.6/dist-packages (from category_encoders) (0.24.2)\n",
            "Requirement already satisfied: statsmodels>=0.6.1 in /usr/local/lib/python3.6/dist-packages (from category_encoders) (0.9.0)\n",
            "Requirement already satisfied: six in /usr/local/lib/python3.6/dist-packages (from patsy>=0.4.1->category_encoders) (1.12.0)\n",
            "Requirement already satisfied: pytz>=2011k in /usr/local/lib/python3.6/dist-packages (from pandas>=0.21.1->category_encoders) (2018.9)\n",
            "Requirement already satisfied: python-dateutil>=2.5.0 in /usr/local/lib/python3.6/dist-packages (from pandas>=0.21.1->category_encoders) (2.5.3)\n",
            "Installing collected packages: category-encoders\n",
            "Successfully installed category-encoders-2.0.0\n"
          ],
          "name": "stdout"
        }
      ]
    },
    {
      "cell_type": "markdown",
      "metadata": {
        "colab_type": "text",
        "id": "PC9RfopIWrc9"
      },
      "source": [
        " _Lambda School Data Science Unit 2_\n",
        " \n",
        " # Classification & Validation Sprint Challenge"
      ]
    },
    {
      "cell_type": "markdown",
      "metadata": {
        "colab_type": "text",
        "id": "UV7ArLFQN84W"
      },
      "source": [
        "Follow the instructions for each numbered part to earn a score of 2. See the bottom of the notebook for a list of ways you can earn a score of 3."
      ]
    },
    {
      "cell_type": "markdown",
      "metadata": {
        "colab_type": "text",
        "id": "bAZcbTtiUlkI"
      },
      "source": [
        "#### For this Sprint Challenge, you'll predict whether a person's income exceeds $50k/yr, based on census data.\n",
        "\n",
        "You can read more about the Adult Census Income dataset at the UCI Machine Learning Repository: https://archive.ics.uci.edu/ml/datasets/adult"
      ]
    },
    {
      "cell_type": "markdown",
      "metadata": {
        "id": "dERF_tHPRSpR",
        "colab_type": "text"
      },
      "source": [
        "#### Run this cell to load the data:"
      ]
    },
    {
      "cell_type": "code",
      "metadata": {
        "colab_type": "code",
        "id": "gvV9VORbxyvu",
        "colab": {}
      },
      "source": [
        "import pandas as pd\n",
        "\n",
        "columns = ['age', \n",
        "           'workclass', \n",
        "           'fnlwgt', \n",
        "           'education', \n",
        "           'education-num', \n",
        "           'marital-status', \n",
        "           'occupation', \n",
        "           'relationship', \n",
        "           'race', \n",
        "           'sex', \n",
        "           'capital-gain', \n",
        "           'capital-loss', \n",
        "           'hours-per-week', \n",
        "           'native-country', \n",
        "           'income']\n",
        "\n",
        "df = pd.read_csv('https://archive.ics.uci.edu/ml/machine-learning-databases/adult/adult.data', \n",
        "                 header=None, names=columns)\n",
        "\n",
        "df['income'] = df['income'].str.strip()"
      ],
      "execution_count": 0,
      "outputs": []
    },
    {
      "cell_type": "markdown",
      "metadata": {
        "id": "vlYYuy1FRSpy",
        "colab_type": "text"
      },
      "source": [
        "## Part 1 — Begin with baselines\n",
        "\n",
        "Split the data into an **X matrix** (all the features) and **y vector** (the target).\n",
        "\n",
        "(You _don't_ need to split the data into train and test sets here. You'll be asked to do that at the _end_ of Part 1.)"
      ]
    },
    {
      "cell_type": "code",
      "metadata": {
        "id": "K1_17xUhRSp7",
        "colab_type": "code",
        "colab": {
          "base_uri": "https://localhost:8080/",
          "height": 100
        },
        "outputId": "01a4806c-6231-41bf-8215-26e6149aa56e"
      },
      "source": [
        "df.columns"
      ],
      "execution_count": 3,
      "outputs": [
        {
          "output_type": "execute_result",
          "data": {
            "text/plain": [
              "Index(['age', 'workclass', 'fnlwgt', 'education', 'education-num',\n",
              "       'marital-status', 'occupation', 'relationship', 'race', 'sex',\n",
              "       'capital-gain', 'capital-loss', 'hours-per-week', 'native-country',\n",
              "       'income'],\n",
              "      dtype='object')"
            ]
          },
          "metadata": {
            "tags": []
          },
          "execution_count": 3
        }
      ]
    },
    {
      "cell_type": "code",
      "metadata": {
        "id": "RO8A9g7bRfY5",
        "colab_type": "code",
        "colab": {}
      },
      "source": [
        "features=['age', 'workclass', 'fnlwgt', 'education', 'education-num',\n",
        "       'marital-status', 'occupation', 'relationship', 'race', 'sex',\n",
        "       'capital-gain', 'capital-loss', 'hours-per-week', 'native-country']\n",
        "target='income'"
      ],
      "execution_count": 0,
      "outputs": []
    },
    {
      "cell_type": "markdown",
      "metadata": {
        "colab_type": "text",
        "id": "IxKfgx4ycb3c"
      },
      "source": [
        "What **accuracy score** would you get here with a **\"majority class baseline\"?** \n",
        " \n",
        "(You can answer this question either with a scikit-learn function or with a pandas function.)"
      ]
    },
    {
      "cell_type": "code",
      "metadata": {
        "colab_type": "code",
        "id": "3oo31Remcq-x",
        "colab": {
          "base_uri": "https://localhost:8080/",
          "height": 67
        },
        "outputId": "92fe59dc-c600-4169-c47a-9e7e914658a9"
      },
      "source": [
        "#it will either be the percentage of the majority class....\n",
        "from sklearn.metrics import accuracy_score\n",
        "df['income'].value_counts(normalize=True)"
      ],
      "execution_count": 16,
      "outputs": [
        {
          "output_type": "execute_result",
          "data": {
            "text/plain": [
              "<=50K    0.75919\n",
              ">50K     0.24081\n",
              "Name: income, dtype: float64"
            ]
          },
          "metadata": {
            "tags": []
          },
          "execution_count": 16
        }
      ]
    },
    {
      "cell_type": "code",
      "metadata": {
        "id": "bC7m-d2hSuSZ",
        "colab_type": "code",
        "colab": {}
      },
      "source": [
        "import numpy as np\n",
        "df['income_binary']=np.where(df['income']=='<=50K',0,1)"
      ],
      "execution_count": 0,
      "outputs": []
    },
    {
      "cell_type": "code",
      "metadata": {
        "id": "dKho95KASJRT",
        "colab_type": "code",
        "colab": {}
      },
      "source": [
        "df['majority_class_baseline']=0"
      ],
      "execution_count": 0,
      "outputs": []
    },
    {
      "cell_type": "code",
      "metadata": {
        "id": "aOO2BWsFSsML",
        "colab_type": "code",
        "colab": {
          "base_uri": "https://localhost:8080/",
          "height": 33
        },
        "outputId": "c0d6bf62-d836-4343-8600-4cb5ba37212e"
      },
      "source": [
        "#or you use sklearn function to calculate same number\n",
        "accuracy_score(df['income_binary'],df['majority_class_baseline'])"
      ],
      "execution_count": 22,
      "outputs": [
        {
          "output_type": "execute_result",
          "data": {
            "text/plain": [
              "0.7591904425539756"
            ]
          },
          "metadata": {
            "tags": []
          },
          "execution_count": 22
        }
      ]
    },
    {
      "cell_type": "markdown",
      "metadata": {
        "colab_type": "text",
        "id": "_KdxE1TrcriI"
      },
      "source": [
        "What **ROC AUC score** would you get here with a **majority class baseline?**\n",
        "\n",
        "(You can answer this question either with a scikit-learn function or with no code, just your understanding of ROC AUC.)"
      ]
    },
    {
      "cell_type": "code",
      "metadata": {
        "id": "5GOt32uDUQXF",
        "colab_type": "code",
        "colab": {}
      },
      "source": [
        "# this will be 0.5 as roc curve will be a straight line going from (0,0) to (1,1) so area under the curve is 0.5"
      ],
      "execution_count": 0,
      "outputs": []
    },
    {
      "cell_type": "code",
      "metadata": {
        "colab_type": "code",
        "id": "ILS0fN0Cctyc",
        "colab": {
          "base_uri": "https://localhost:8080/",
          "height": 33
        },
        "outputId": "a24673f5-a118-469a-b35c-e7bd3af471cb"
      },
      "source": [
        "#using sklearn\n",
        "from sklearn.metrics import roc_auc_score\n",
        "roc_auc_score(df['income_binary'], df['majority_class_baseline'])"
      ],
      "execution_count": 24,
      "outputs": [
        {
          "output_type": "execute_result",
          "data": {
            "text/plain": [
              "0.5"
            ]
          },
          "metadata": {
            "tags": []
          },
          "execution_count": 24
        }
      ]
    },
    {
      "cell_type": "markdown",
      "metadata": {
        "colab_type": "text",
        "id": "QqYNDtwKYhji"
      },
      "source": [
        "In this Sprint Challenge, you will use **\"Cross-Validation with Independent Test Set\"** for your model validaton method.\n",
        "\n",
        "First, **split the data into `X_train, X_test, y_train, y_test`**. You can include 80% of the data in the train set, and hold out 20% for the test set."
      ]
    },
    {
      "cell_type": "code",
      "metadata": {
        "colab_type": "code",
        "id": "mPKf86yDYf0t",
        "colab": {}
      },
      "source": [
        "target='income_binary'\n",
        "X=df[features].copy()\n",
        "y=df[target].copy()\n",
        "from sklearn.model_selection import train_test_split\n",
        "X_train, X_test, y_train, y_test = train_test_split(X, y, test_size=0.2, random_state=42)"
      ],
      "execution_count": 0,
      "outputs": []
    },
    {
      "cell_type": "markdown",
      "metadata": {
        "id": "zw2GNZzvRSrW",
        "colab_type": "text"
      },
      "source": [
        "## Part 2 — Modeling with Logistic Regression!"
      ]
    },
    {
      "cell_type": "markdown",
      "metadata": {
        "colab_type": "text",
        "id": "E_ATNJdqTCuZ"
      },
      "source": [
        "- You may do exploratory data analysis and visualization, but it is not required.\n",
        "- You may **use all the features, or select any features** of your choice, as long as you select at least one numeric feature and one categorical feature.\n",
        "- **Scale your numeric features**, using any scikit-learn [Scaler](https://scikit-learn.org/stable/modules/classes.html#module-sklearn.preprocessing) of your choice.\n",
        "- **Encode your categorical features**. You may use any encoding (One-Hot, Ordinal, etc) and any library (category_encoders, scikit-learn, pandas, etc) of your choice.\n",
        "- You may choose to use a pipeline, but it is not required.\n",
        "- Use a **Logistic Regression** model.\n",
        "- Use scikit-learn's [**cross_val_score**](https://scikit-learn.org/stable/modules/generated/sklearn.model_selection.cross_val_score.html) function. For [scoring](https://scikit-learn.org/stable/modules/model_evaluation.html#the-scoring-parameter-defining-model-evaluation-rules), use **accuracy**.\n",
        "- **Print your model's cross-validation accuracy score.**"
      ]
    },
    {
      "cell_type": "code",
      "metadata": {
        "id": "ew_WQB7kVtvn",
        "colab_type": "code",
        "colab": {
          "base_uri": "https://localhost:8080/",
          "height": 100
        },
        "outputId": "4b8608c4-448a-4cb7-a6d6-4baa318dcd30"
      },
      "source": [
        "#i've checked for missing data so no need to use imputer\n",
        "X_train.isna().sum()[:4]"
      ],
      "execution_count": 34,
      "outputs": [
        {
          "output_type": "execute_result",
          "data": {
            "text/plain": [
              "age          0\n",
              "workclass    0\n",
              "fnlwgt       0\n",
              "education    0\n",
              "dtype: int64"
            ]
          },
          "metadata": {
            "tags": []
          },
          "execution_count": 34
        }
      ]
    },
    {
      "cell_type": "code",
      "metadata": {
        "id": "-ipIBuiEV9NU",
        "colab_type": "code",
        "colab": {
          "base_uri": "https://localhost:8080/",
          "height": 284
        },
        "outputId": "e5be3f8d-2bf2-4ec8-a80d-669098263ec3"
      },
      "source": [
        "#there doesn't seem to be overly many categories in each categorical column so will just set them to categoricals\n",
        "#X_train['occupation'].value_counts()#X_train['marital-status'].value_counts()#X_train['education'].value_counts()#X_train['workclass'].value_counts()\n",
        "\n"
      ],
      "execution_count": 39,
      "outputs": [
        {
          "output_type": "execute_result",
          "data": {
            "text/plain": [
              " Prof-specialty       3312\n",
              " Craft-repair         3278\n",
              " Exec-managerial      3228\n",
              " Adm-clerical         3044\n",
              " Sales                2921\n",
              " Other-service        2628\n",
              " Machine-op-inspct    1624\n",
              " ?                    1454\n",
              " Transport-moving     1280\n",
              " Handlers-cleaners    1097\n",
              " Farming-fishing       801\n",
              " Tech-support          739\n",
              " Protective-serv       513\n",
              " Priv-house-serv       123\n",
              " Armed-Forces            6\n",
              "Name: occupation, dtype: int64"
            ]
          },
          "metadata": {
            "tags": []
          },
          "execution_count": 39
        }
      ]
    },
    {
      "cell_type": "code",
      "metadata": {
        "id": "mW5XWQVLYnrg",
        "colab_type": "code",
        "colab": {}
      },
      "source": [
        "#getting rid of warnings\n",
        "def warn(*args, **kwargs):\n",
        "    pass\n",
        "import warnings\n",
        "warnings.warn = warn"
      ],
      "execution_count": 0,
      "outputs": []
    },
    {
      "cell_type": "code",
      "metadata": {
        "id": "EgYzi1IfRSrh",
        "colab_type": "code",
        "colab": {
          "base_uri": "https://localhost:8080/",
          "height": 33
        },
        "outputId": "c50a8cc5-e41b-4bf0-c5ca-cd8829568e8e"
      },
      "source": [
        "import category_encoders as ce\n",
        "from sklearn.linear_model import LogisticRegression\n",
        "from sklearn.preprocessing import StandardScaler\n",
        "from sklearn.pipeline import make_pipeline\n",
        "from sklearn.model_selection import cross_val_score\n",
        "\n",
        "preprocessor=make_pipeline(ce.OrdinalEncoder(),StandardScaler())\n",
        "\n",
        "processed_Xtrain= preprocessor.fit_transform(X_train)\n",
        "#just checking it was looking ok!  pd.DataFrame(processed_Xtrain).head()\n",
        "LogReg=LogisticRegression(solver='lbfgs', max_iter=1000)\n",
        "LogReg.fit(processed_Xtrain,y_train)\n",
        "scores_array=cross_val_score(LogReg, processed_Xtrain, y_train, scoring='accuracy', cv=5)\n",
        "scores_array"
      ],
      "execution_count": 48,
      "outputs": [
        {
          "output_type": "execute_result",
          "data": {
            "text/plain": [
              "array([0.82207294, 0.82975048, 0.82015355, 0.8187752 , 0.83086965])"
            ]
          },
          "metadata": {
            "tags": []
          },
          "execution_count": 48
        }
      ]
    },
    {
      "cell_type": "code",
      "metadata": {
        "id": "0CA2JshBY9BP",
        "colab_type": "code",
        "colab": {
          "base_uri": "https://localhost:8080/",
          "height": 33
        },
        "outputId": "0c216614-50af-4582-aa4d-1ee7294806a0"
      },
      "source": [
        "#printing mean score for final cv score\n",
        "scores_array.mean()"
      ],
      "execution_count": 49,
      "outputs": [
        {
          "output_type": "execute_result",
          "data": {
            "text/plain": [
              "0.8243243625660446"
            ]
          },
          "metadata": {
            "tags": []
          },
          "execution_count": 49
        }
      ]
    },
    {
      "cell_type": "markdown",
      "metadata": {
        "id": "Av65DbF6RSr0",
        "colab_type": "text"
      },
      "source": [
        "## Part 3 — Modeling with Tree Ensembles!\n",
        "\n",
        "Part 3 is the same as Part 2, except this time, use a **Random Forest** or **Gradient Boosting** classifier. You may use scikit-learn, xgboost, or any other library. Then, print your model's cross-validation accuracy score."
      ]
    },
    {
      "cell_type": "code",
      "metadata": {
        "colab_type": "code",
        "id": "qAxxkjG7gACP",
        "colab": {
          "base_uri": "https://localhost:8080/",
          "height": 33
        },
        "outputId": "a8aec45d-3569-4ac3-9610-65c6865257cc"
      },
      "source": [
        "from sklearn.ensemble import RandomForestClassifier\n",
        "\n",
        "rand_for=RandomForestClassifier(max_depth=3, n_estimators=100,n_jobs=-1, random_state=42)\n",
        "\n",
        "RF_scores = cross_val_score(rand_for, processed_Xtrain, y_train, scoring='accuracy', cv=5)\n",
        "RF_scores"
      ],
      "execution_count": 50,
      "outputs": [
        {
          "output_type": "execute_result",
          "data": {
            "text/plain": [
              "array([0.82341651, 0.82975048, 0.82495202, 0.82472644, 0.83163755])"
            ]
          },
          "metadata": {
            "tags": []
          },
          "execution_count": 50
        }
      ]
    },
    {
      "cell_type": "code",
      "metadata": {
        "id": "mj4S-yGZZmRH",
        "colab_type": "code",
        "colab": {
          "base_uri": "https://localhost:8080/",
          "height": 33
        },
        "outputId": "cb49144e-8045-4834-9683-599e7a6f99f1"
      },
      "source": [
        "#final accuracy score for random forest is slightly higher\n",
        "RF_scores.mean()"
      ],
      "execution_count": 51,
      "outputs": [
        {
          "output_type": "execute_result",
          "data": {
            "text/plain": [
              "0.8268965974658506"
            ]
          },
          "metadata": {
            "tags": []
          },
          "execution_count": 51
        }
      ]
    },
    {
      "cell_type": "markdown",
      "metadata": {
        "id": "FiV30F_Kda-A",
        "colab_type": "text"
      },
      "source": [
        "#Feature engineering"
      ]
    },
    {
      "cell_type": "code",
      "metadata": {
        "id": "kH1sPR76cjP4",
        "colab_type": "code",
        "colab": {
          "base_uri": "https://localhost:8080/",
          "height": 281
        },
        "outputId": "e5fd36d9-4dcc-483d-b878-53466ffb970e"
      },
      "source": [
        "\n",
        "#now let's look at feature importance when we used teh random forest classifier\n",
        "import matplotlib.pyplot as plt\n",
        "rand_for.fit(processed_Xtrain,y_train)\n",
        "importances = pd.Series(rand_for.feature_importances_, X_train.columns)\n",
        "title='random forest clf feature importances'\n",
        "importances.sort_values().plot.barh(color='#FF6347', title=title)\n",
        "plt.grid()\n",
        "plt.show()"
      ],
      "execution_count": 69,
      "outputs": [
        {
          "output_type": "display_data",
          "data": {
            "image/png": "[encoded data removed]",
            "text/plain": [
              "<Figure size 432x288 with 1 Axes>"
            ]
          },
          "metadata": {
            "tags": []
          }
        }
      ]
    },
    {
      "cell_type": "code",
      "metadata": {
        "id": "nI98b-m_eSAq",
        "colab_type": "code",
        "colab": {}
      },
      "source": [
        "#we can see capital gain is by far teh most important followed by marital status\n",
        "#native country, fnlwgt, race and worlclass have 0 or almost 0 importance so we can eliminate those"
      ],
      "execution_count": 0,
      "outputs": []
    },
    {
      "cell_type": "code",
      "metadata": {
        "id": "ZQjlYdXfcWvw",
        "colab_type": "code",
        "colab": {}
      },
      "source": [
        "#first of all columns education and education-num are one and the same - \n",
        "#jsut a number code for each entry so we can eliminate 'education column'\n",
        "new_features=['age', 'workclass', 'education-num',\n",
        "       'marital-status', 'occupation', 'relationship', 'race', 'sex',\n",
        "       'capital-gain', 'capital-loss', 'hours-per-week']\n",
        "target='income_binary'"
      ],
      "execution_count": 0,
      "outputs": []
    },
    {
      "cell_type": "markdown",
      "metadata": {
        "id": "Qmz984dro3rV",
        "colab_type": "text"
      },
      "source": [
        "#model selection\n"
      ]
    },
    {
      "cell_type": "code",
      "metadata": {
        "id": "zSNZqvpmggDF",
        "colab_type": "code",
        "colab": {}
      },
      "source": [
        "from xgboost import XGBClassifier\n",
        "from sklearn.preprocessing import MinMaxScaler\n",
        "from sklearn.tree import DecisionTreeClassifier\n",
        "from sklearn.model_selection import cross_val_predict\n",
        "from sklearn.metrics import classification_report, confusion_matrix"
      ],
      "execution_count": 0,
      "outputs": []
    },
    {
      "cell_type": "code",
      "metadata": {
        "id": "7LxR3dCvedna",
        "colab_type": "code",
        "colab": {
          "base_uri": "https://localhost:8080/",
          "height": 1756
        },
        "outputId": "fbcd39b1-5b7f-4378-e5a6-30a61f4ee1cc"
      },
      "source": [
        "models = [LogisticRegression(solver='lbfgs', max_iter=1000), \n",
        "          DecisionTreeClassifier(max_depth=3),  \n",
        "          RandomForestClassifier(max_depth=3, n_estimators=100, n_jobs=-1, random_state=42), \n",
        "          XGBClassifier(max_depth=3, n_estimators=100, n_jobs=-1, random_state=42)]\n",
        "\n",
        "X_cut=X.copy()[new_features]\n",
        "X_train, X_test, y_train, y_test = train_test_split(X_cut, y, test_size=0.2, random_state=42)\n",
        "processors=[make_pipeline(ce.OrdinalEncoder(),StandardScaler()),make_pipeline(ce.OrdinalEncoder(),MinMaxScaler())]\n",
        "\n",
        "for model in models:\n",
        "  for processor in processors:\n",
        "            processed_Xtrain= processor.fit_transform(X_train)\n",
        "            print('{} '.format(model)[:15],' and ',processor, '\\n')\n",
        "            threshold = 0.5\n",
        "            score = cross_val_score(model, processed_Xtrain, y_train, scoring='accuracy', cv=5).mean()\n",
        "            print('Cross-Validation Accuracy:', score, '\\n', '\\n')\n",
        "            y_pred_proba=cross_val_predict(model, processed_Xtrain, y_train, cv=5, n_jobs=-1, \n",
        "                                 method='predict_proba')[:,1]\n",
        "            y_pred=y_pred_proba>threshold\n",
        "            cm=pd.DataFrame(confusion_matrix(y_train, y_pred), \n",
        "            columns=['Predicted Negative', 'Predicted Positive'], \n",
        "            index=['Actual Negative', 'Actual Positive'])\n",
        "            print(cm)"
      ],
      "execution_count": 89,
      "outputs": [
        {
          "output_type": "stream",
          "text": [
            "LogisticRegress  and  Pipeline(memory=None,\n",
            "     steps=[('ordinalencoder', OrdinalEncoder(cols=['workclass', 'marital-status', 'occupation', 'relationship', 'race', 'sex'],\n",
            "        drop_invariant=False, handle_missing='value',\n",
            "        handle_unknown='value',\n",
            "        mapping=[{'col': 'workclass', 'mapping':  Local-gov           1\n",
            " Private          ..._df=True, verbose=0)), ('standardscaler', StandardScaler(copy=True, with_mean=True, with_std=True))]) \n",
            "\n",
            "Cross-Validation Accuracy: 0.8244011379979064 \n",
            " \n",
            "\n",
            "                 Predicted Negative  Predicted Positive\n",
            "Actual Negative               18675                1103\n",
            "Actual Positive                3471                2799\n",
            "LogisticRegress  and  Pipeline(memory=None,\n",
            "     steps=[('ordinalencoder', OrdinalEncoder(cols=['workclass', 'marital-status', 'occupation', 'relationship', 'race', 'sex'],\n",
            "        drop_invariant=False, handle_missing='value',\n",
            "        handle_unknown='value',\n",
            "        mapping=[{'col': 'workclass', 'mapping':  Local-gov           1\n",
            " Private          ...       return_df=True, verbose=0)), ('minmaxscaler', MinMaxScaler(copy=True, feature_range=(0, 1)))]) \n",
            "\n",
            "Cross-Validation Accuracy: 0.8206388470567514 \n",
            " \n",
            "\n",
            "                 Predicted Negative  Predicted Positive\n",
            "Actual Negative               18690                1088\n",
            "Actual Positive                3584                2686\n",
            "DecisionTreeCla  and  Pipeline(memory=None,\n",
            "     steps=[('ordinalencoder', OrdinalEncoder(cols=['workclass', 'marital-status', 'occupation', 'relationship', 'race', 'sex'],\n",
            "        drop_invariant=False, handle_missing='value',\n",
            "        handle_unknown='value',\n",
            "        mapping=[{'col': 'workclass', 'mapping':  Local-gov           1\n",
            " Private          ..._df=True, verbose=0)), ('standardscaler', StandardScaler(copy=True, with_mean=True, with_std=True))]) \n",
            "\n",
            "Cross-Validation Accuracy: 0.8063957442622008 \n",
            " \n",
            "\n",
            "                 Predicted Negative  Predicted Positive\n",
            "Actual Negative               19416                 362\n",
            "Actual Positive                4681                1589\n",
            "DecisionTreeCla  and  Pipeline(memory=None,\n",
            "     steps=[('ordinalencoder', OrdinalEncoder(cols=['workclass', 'marital-status', 'occupation', 'relationship', 'race', 'sex'],\n",
            "        drop_invariant=False, handle_missing='value',\n",
            "        handle_unknown='value',\n",
            "        mapping=[{'col': 'workclass', 'mapping':  Local-gov           1\n",
            " Private          ...       return_df=True, verbose=0)), ('minmaxscaler', MinMaxScaler(copy=True, feature_range=(0, 1)))]) \n",
            "\n",
            "Cross-Validation Accuracy: 0.8063957442622008 \n",
            " \n",
            "\n",
            "                 Predicted Negative  Predicted Positive\n",
            "Actual Negative               19416                 362\n",
            "Actual Positive                4681                1589\n",
            "RandomForestCla  and  Pipeline(memory=None,\n",
            "     steps=[('ordinalencoder', OrdinalEncoder(cols=['workclass', 'marital-status', 'occupation', 'relationship', 'race', 'sex'],\n",
            "        drop_invariant=False, handle_missing='value',\n",
            "        handle_unknown='value',\n",
            "        mapping=[{'col': 'workclass', 'mapping':  Local-gov           1\n",
            " Private          ..._df=True, verbose=0)), ('standardscaler', StandardScaler(copy=True, with_mean=True, with_std=True))]) \n",
            "\n",
            "Cross-Validation Accuracy: 0.8341908972695642 \n",
            " \n",
            "\n",
            "                 Predicted Negative  Predicted Positive\n",
            "Actual Negative               19456                 322\n",
            "Actual Positive                3997                2273\n",
            "RandomForestCla  and  Pipeline(memory=None,\n",
            "     steps=[('ordinalencoder', OrdinalEncoder(cols=['workclass', 'marital-status', 'occupation', 'relationship', 'race', 'sex'],\n",
            "        drop_invariant=False, handle_missing='value',\n",
            "        handle_unknown='value',\n",
            "        mapping=[{'col': 'workclass', 'mapping':  Local-gov           1\n",
            " Private          ...       return_df=True, verbose=0)), ('minmaxscaler', MinMaxScaler(copy=True, feature_range=(0, 1)))]) \n",
            "\n",
            "Cross-Validation Accuracy: 0.8341908972695642 \n",
            " \n",
            "\n",
            "                 Predicted Negative  Predicted Positive\n",
            "Actual Negative               19456                 322\n",
            "Actual Positive                3997                2273\n",
            "XGBClassifier(b  and  Pipeline(memory=None,\n",
            "     steps=[('ordinalencoder', OrdinalEncoder(cols=['workclass', 'marital-status', 'occupation', 'relationship', 'race', 'sex'],\n",
            "        drop_invariant=False, handle_missing='value',\n",
            "        handle_unknown='value',\n",
            "        mapping=[{'col': 'workclass', 'mapping':  Local-gov           1\n",
            " Private          ..._df=True, verbose=0)), ('standardscaler', StandardScaler(copy=True, with_mean=True, with_std=True))]) \n",
            "\n",
            "Cross-Validation Accuracy: 0.8627536572055821 \n",
            " \n",
            "\n",
            "                 Predicted Negative  Predicted Positive\n",
            "Actual Negative               18814                 964\n",
            "Actual Positive                2611                3659\n",
            "XGBClassifier(b  and  Pipeline(memory=None,\n",
            "     steps=[('ordinalencoder', OrdinalEncoder(cols=['workclass', 'marital-status', 'occupation', 'relationship', 'race', 'sex'],\n",
            "        drop_invariant=False, handle_missing='value',\n",
            "        handle_unknown='value',\n",
            "        mapping=[{'col': 'workclass', 'mapping':  Local-gov           1\n",
            " Private          ...       return_df=True, verbose=0)), ('minmaxscaler', MinMaxScaler(copy=True, feature_range=(0, 1)))]) \n",
            "\n",
            "Cross-Validation Accuracy: 0.8627536572055821 \n",
            " \n",
            "\n",
            "                 Predicted Negative  Predicted Positive\n",
            "Actual Negative               18814                 964\n",
            "Actual Positive                2611                3659\n"
          ],
          "name": "stdout"
        }
      ]
    },
    {
      "cell_type": "code",
      "metadata": {
        "id": "GoACoj0rgy5h",
        "colab_type": "code",
        "colab": {
          "base_uri": "https://localhost:8080/",
          "height": 67
        },
        "outputId": "77ab1ed3-601d-4213-920c-7ce91da85bec"
      },
      "source": [
        "#so it looks like XGB classifier was way out in front on >86% accuracy and minmax/standard made no difference\n",
        "#let's use grid search to determine the best parameters\n",
        "\n",
        "from sklearn.model_selection import ParameterGrid\n",
        "from sklearn.model_selection import GridSearchCV\n",
        "\n",
        "process=make_pipeline(ce.OrdinalEncoder(),StandardScaler())\n",
        "processed_Xtrain= process.fit_transform(X_train)\n",
        "\n",
        "depths=[2,3] \n",
        "n_estimator=[75,100,150]\n",
        "booster=['gbtree', 'gblinear', 'dart']\n",
        "#thresholds=[0.5,0.6,0.7]\n",
        "param_grid = [{'max_depth': [2,3] , 'n_estimators': [75,100,150],'booster': ['gbtree', 'gblinear', 'dart']}]\n",
        "scores = ['accuracy']\n",
        " \n",
        "for score in scores:\n",
        "  xgb=GridSearchCV(XGBClassifier(n_jobs=-1,random_state=42),param_grid,scoring=score)\n",
        "  xgb.fit(processed_Xtrain,y_train)\n",
        "  print(\"Best parameters set found on grid:\")\n",
        "  print()\n",
        "  print(xgb.best_params_)"
      ],
      "execution_count": 91,
      "outputs": [
        {
          "output_type": "stream",
          "text": [
            "Best parameters set found on grid:\n",
            "\n",
            "{'booster': 'gbtree', 'max_depth': 3, 'n_estimators': 150}\n"
          ],
          "name": "stdout"
        }
      ]
    },
    {
      "cell_type": "code",
      "metadata": {
        "id": "IdpFXs1zg1CK",
        "colab_type": "code",
        "colab": {
          "base_uri": "https://localhost:8080/",
          "height": 117
        },
        "outputId": "0a5f9637-c624-4b37-9314-7ce4ce712b08"
      },
      "source": [
        "final_model=XGBClassifier(max_depth=3,booster='gbtree',n_estimators=150,n_jobs=-1,random_state=42)\n",
        "#so best params were gbtree, 150 estimators and max_depth 3\n",
        "#let's run that for a confusion matrix\n",
        "threshold = 0.5\n",
        "score = cross_val_score(final_model, processed_Xtrain, y_train, scoring='accuracy', cv=5).mean()\n",
        "print('Cross-Validation Accuracy:', score, '\\n', '\\n')\n",
        "y_pred_proba=cross_val_predict(model, processed_Xtrain, y_train, cv=5, n_jobs=-1, \n",
        "                                 method='predict_proba')[:,1]\n",
        "y_pred=y_pred_proba>threshold\n",
        "cm=pd.DataFrame(confusion_matrix(y_train, y_pred), \n",
        "columns=['Predicted Negative', 'Predicted Positive'], \n",
        "            index=['Actual Negative', 'Actual Positive'])\n",
        "print(cm)"
      ],
      "execution_count": 93,
      "outputs": [
        {
          "output_type": "stream",
          "text": [
            "Cross-Validation Accuracy: 0.8664007186734608 \n",
            " \n",
            "\n",
            "                 Predicted Negative  Predicted Positive\n",
            "Actual Negative               18814                 964\n",
            "Actual Positive                2611                3659\n"
          ],
          "name": "stdout"
        }
      ]
    },
    {
      "cell_type": "markdown",
      "metadata": {
        "id": "TXOBOWYTphFu",
        "colab_type": "text"
      },
      "source": [
        "final score was slightly above after fine tuning parameters\n",
        "Cross-Validation Accuracy: 0.8664007186734608 \n"
      ]
    },
    {
      "cell_type": "markdown",
      "metadata": {
        "colab_type": "text",
        "id": "jkyHoRIbEgRR"
      },
      "source": [
        "# Part 4 — Calculate classification metrics from a confusion matrix\n",
        "\n",
        "Suppose this is the confusion matrix for your binary classification model:\n",
        "\n",
        "<table>\n",
        "  <tr>\n",
        "    <td colspan=\"2\" rowspan=\"2\"></td>\n",
        "    <td colspan=\"2\">Predicted</td>\n",
        "  </tr>\n",
        "  <tr>\n",
        "    <td>Negative</td>\n",
        "    <td>Positive</td>\n",
        "  </tr>\n",
        "  <tr>\n",
        "    <td rowspan=\"2\">Actual</td>\n",
        "    <td>Negative</td>\n",
        "    <td style=\"border: solid\">85</td>\n",
        "    <td style=\"border: solid\">58</td>\n",
        "  </tr>\n",
        "  <tr>\n",
        "    <td>Positive</td>\n",
        "    <td style=\"border: solid\">8</td>\n",
        "    <td style=\"border: solid\"> 36</td>\n",
        "  </tr>\n",
        "</table>"
      ]
    },
    {
      "cell_type": "markdown",
      "metadata": {
        "colab_type": "text",
        "id": "LhyMM5H-JpVB"
      },
      "source": [
        "Calculate accuracy"
      ]
    },
    {
      "cell_type": "code",
      "metadata": {
        "id": "eFcIEmjLZvhq",
        "colab_type": "code",
        "colab": {}
      },
      "source": [
        "#first i split the numbers into tru/false positives/negatives\n",
        "true_positives=36  #predicted positive and WAS positive\n",
        "true_negatives=85  #predicted negative and WAS negative\n",
        "false_positives=58 #predicted positive BUT was negative\n",
        "false_negatives=8 #predicted negative BUT was positive\n",
        "\n",
        "total=36+85+58+8"
      ],
      "execution_count": 0,
      "outputs": []
    },
    {
      "cell_type": "code",
      "metadata": {
        "colab_type": "code",
        "id": "TZPwqdh2KUcB",
        "colab": {
          "base_uri": "https://localhost:8080/",
          "height": 33
        },
        "outputId": "c6b6c435-a1aa-472d-c83c-c71e87635612"
      },
      "source": [
        "accuracy=(true_positives+true_negatives)/total\n",
        "accuracy"
      ],
      "execution_count": 55,
      "outputs": [
        {
          "output_type": "execute_result",
          "data": {
            "text/plain": [
              "0.6470588235294118"
            ]
          },
          "metadata": {
            "tags": []
          },
          "execution_count": 55
        }
      ]
    },
    {
      "cell_type": "markdown",
      "metadata": {
        "colab_type": "text",
        "id": "BRWLfGcGKeQw"
      },
      "source": [
        "Calculate precision"
      ]
    },
    {
      "cell_type": "code",
      "metadata": {
        "colab_type": "code",
        "id": "A-FEZ4i_Kf_n",
        "colab": {
          "base_uri": "https://localhost:8080/",
          "height": 33
        },
        "outputId": "2a345026-668f-45d8-9053-2d743231f837"
      },
      "source": [
        "precision=true_positives/(true_positives+false_positives)\n",
        "precision"
      ],
      "execution_count": 58,
      "outputs": [
        {
          "output_type": "execute_result",
          "data": {
            "text/plain": [
              "0.3829787234042553"
            ]
          },
          "metadata": {
            "tags": []
          },
          "execution_count": 58
        }
      ]
    },
    {
      "cell_type": "markdown",
      "metadata": {
        "colab_type": "text",
        "id": "h_mH2NYDKi2C"
      },
      "source": [
        "Calculate recall"
      ]
    },
    {
      "cell_type": "code",
      "metadata": {
        "colab_type": "code",
        "id": "U4_wJGyjKkXJ",
        "colab": {
          "base_uri": "https://localhost:8080/",
          "height": 33
        },
        "outputId": "657ddeb3-707b-4e1e-8606-17cea0328ecb"
      },
      "source": [
        "recall=true_positives/(true_positives+false_negatives)\n",
        "recall"
      ],
      "execution_count": 61,
      "outputs": [
        {
          "output_type": "execute_result",
          "data": {
            "text/plain": [
              "0.8181818181818182"
            ]
          },
          "metadata": {
            "tags": []
          },
          "execution_count": 61
        }
      ]
    },
    {
      "cell_type": "code",
      "metadata": {
        "id": "S5am1gLcnnyD",
        "colab_type": "code",
        "colab": {
          "base_uri": "https://localhost:8080/",
          "height": 33
        },
        "outputId": "1497fbbe-2994-4268-d976-5920ddf5d06d"
      },
      "source": [
        "#F1 = 2 * (precision * recall) / (precision + recall)\n",
        "2*(precision*recall)/(precision+recall)"
      ],
      "execution_count": 96,
      "outputs": [
        {
          "output_type": "execute_result",
          "data": {
            "text/plain": [
              "0.5217391304347826"
            ]
          },
          "metadata": {
            "tags": []
          },
          "execution_count": 96
        }
      ]
    },
    {
      "cell_type": "code",
      "metadata": {
        "id": "D36eh0qOnyX_",
        "colab_type": "code",
        "colab": {
          "base_uri": "https://localhost:8080/",
          "height": 33
        },
        "outputId": "c64b0bdc-6c80-4743-d937-6c6df6f8ed62"
      },
      "source": [
        "#falsepositives rate is false positives/total number of negatives\n",
        "58/(85+58)"
      ],
      "execution_count": 97,
      "outputs": [
        {
          "output_type": "execute_result",
          "data": {
            "text/plain": [
              "0.40559440559440557"
            ]
          },
          "metadata": {
            "tags": []
          },
          "execution_count": 97
        }
      ]
    },
    {
      "cell_type": "markdown",
      "metadata": {
        "colab_type": "text",
        "id": "9KEaWsk5Kk9W"
      },
      "source": [
        "# BONUS — How you can earn a score of 3\n",
        "\n",
        "### Part 1\n",
        "Do feature engineering, to try improving your cross-validation score.\n",
        "\n",
        "### Part 2\n",
        "Experiment with feature selection, preprocessing, categorical encoding, and hyperparameter optimization, to try improving your cross-validation score.\n",
        "\n",
        "### Part 3\n",
        "Which model had the best cross-validation score? Refit this model on the train set and do a final evaluation on the held out test set — what is the test score? \n",
        "\n",
        "### Part 4\n",
        "Calculate F1 score and False Positive Rate. "
      ]
    }
  ]
}