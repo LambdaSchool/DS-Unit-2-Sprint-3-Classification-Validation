{
  "nbformat": 4,
  "nbformat_minor": 0,
  "metadata": {
    "colab": {
      "name": "DS_Unit_2_Sprint_Challenge_3_Classification_Validation.ipynb",
      "version": "0.3.2",
      "provenance": [],
      "collapsed_sections": [],
      "include_colab_link": true
    },
    "language_info": {
      "codemirror_mode": {
        "name": "ipython",
        "version": 3
      },
      "file_extension": ".py",
      "mimetype": "text/x-python",
      "name": "python",
      "nbconvert_exporter": "python",
      "pygments_lexer": "ipython3",
      "version": "3.7.1"
    },
    "kernelspec": {
      "display_name": "Python 3",
      "language": "python",
      "name": "python3"
    }
  },
  "cells": [
    {
      "cell_type": "markdown",
      "metadata": {
        "id": "view-in-github",
        "colab_type": "text"
      },
      "source": [
        "<a href=\"https://colab.research.google.com/github/bundickm/DS-Unit-2-Sprint-3-Classification-Validation/blob/master/DS_Unit_2_Sprint_Challenge_3_Classification_Validation.ipynb\" target=\"_parent\"><img src=\"https://colab.research.google.com/assets/colab-badge.svg\" alt=\"Open In Colab\"/></a>"
      ]
    },
    {
      "cell_type": "markdown",
      "metadata": {
        "colab_type": "text",
        "id": "PC9RfopIWrc9"
      },
      "source": [
        " _Lambda School Data Science Unit 2_\n",
        " \n",
        " # Classification & Validation Sprint Challenge"
      ]
    },
    {
      "cell_type": "markdown",
      "metadata": {
        "colab_type": "text",
        "id": "UV7ArLFQN84W"
      },
      "source": [
        "Follow the instructions for each numbered part to earn a score of 2. See the bottom of the notebook for a list of ways you can earn a score of 3."
      ]
    },
    {
      "cell_type": "markdown",
      "metadata": {
        "colab_type": "text",
        "id": "bAZcbTtiUlkI"
      },
      "source": [
        "#### For this Sprint Challenge, you'll predict whether a person's income exceeds $50k/yr, based on census data.\n",
        "\n",
        "You can read more about the Adult Census Income dataset at the UCI Machine Learning Repository: https://archive.ics.uci.edu/ml/datasets/adult"
      ]
    },
    {
      "cell_type": "markdown",
      "metadata": {
        "id": "DCnjLfEPQ6L9",
        "colab_type": "text"
      },
      "source": [
        "#### Run this cell to load the data:"
      ]
    },
    {
      "cell_type": "code",
      "metadata": {
        "colab_type": "code",
        "id": "gvV9VORbxyvu",
        "colab": {}
      },
      "source": [
        "#given code block\n",
        "import pandas as pd\n",
        "\n",
        "columns = ['age', \n",
        "           'workclass', \n",
        "           'fnlwgt', \n",
        "           'education', \n",
        "           'education-num', \n",
        "           'marital-status', \n",
        "           'occupation', \n",
        "           'relationship', \n",
        "           'race', \n",
        "           'sex', \n",
        "           'capital-gain', \n",
        "           'capital-loss', \n",
        "           'hours-per-week', \n",
        "           'native-country', \n",
        "           'income']\n",
        "\n",
        "df = pd.read_csv('https://archive.ics.uci.edu/ml/machine-learning-databases/adult/adult.data', \n",
        "                 header=None, names=columns)\n",
        "\n",
        "df['income'] = df['income'].str.strip()"
      ],
      "execution_count": 0,
      "outputs": []
    },
    {
      "cell_type": "markdown",
      "metadata": {
        "id": "EjF612BBQ6ML",
        "colab_type": "text"
      },
      "source": [
        "## Part 1 — Begin with baselines\n",
        "\n",
        "Split the data into an **X matrix** (all the features) and **y vector** (the target).\n",
        "\n",
        "(You _don't_ need to split the data into train and test sets here. You'll be asked to do that at the _end_ of Part 1.)"
      ]
    },
    {
      "cell_type": "code",
      "metadata": {
        "id": "cOpwWHvaQ6MN",
        "colab_type": "code",
        "colab": {
          "base_uri": "https://localhost:8080/",
          "height": 55
        },
        "outputId": "f175913a-7e2a-4d07-dfaa-c4c90dde9285"
      },
      "source": [
        "print('Starting Shape:', df.shape)\n",
        "\n",
        "#split into features and target\n",
        "X = df.drop('income',axis='columns')\n",
        "y = df['income']\n",
        "\n",
        "#Check it worked\n",
        "print('Ending Shapes:', X.shape,y.shape)"
      ],
      "execution_count": 121,
      "outputs": [
        {
          "output_type": "stream",
          "text": [
            "Starting Shape: (32561, 15)\n",
            "Ending Shapes: (32561, 14) (32561,)\n"
          ],
          "name": "stdout"
        }
      ]
    },
    {
      "cell_type": "markdown",
      "metadata": {
        "colab_type": "text",
        "id": "IxKfgx4ycb3c"
      },
      "source": [
        "What **accuracy score** would you get here with a **\"majority class baseline\"?** \n",
        " \n",
        "(You can answer this question either with a scikit-learn function or with a pandas function.)"
      ]
    },
    {
      "cell_type": "code",
      "metadata": {
        "colab_type": "code",
        "id": "3oo31Remcq-x",
        "colab": {
          "base_uri": "https://localhost:8080/",
          "height": 73
        },
        "outputId": "b5bd5819-02a1-4b81-9808-a157570d49f5"
      },
      "source": [
        "#75.919% Accuracy just guessing the majority class\n",
        "y.value_counts(normalize=True)"
      ],
      "execution_count": 122,
      "outputs": [
        {
          "output_type": "execute_result",
          "data": {
            "text/plain": [
              "<=50K    0.75919\n",
              ">50K     0.24081\n",
              "Name: income, dtype: float64"
            ]
          },
          "metadata": {
            "tags": []
          },
          "execution_count": 122
        }
      ]
    },
    {
      "cell_type": "markdown",
      "metadata": {
        "colab_type": "text",
        "id": "_KdxE1TrcriI"
      },
      "source": [
        "What **ROC AUC score** would you get here with a **majority class baseline?**\n",
        "\n",
        "(You can answer this question either with a scikit-learn function or with no code, just your understanding of ROC AUC.)"
      ]
    },
    {
      "cell_type": "markdown",
      "metadata": {
        "id": "JEScP767SSGt",
        "colab_type": "text"
      },
      "source": [
        " **Answer**: A naive majority class baseline (like above) will have an ROC-AUC score of 0.5."
      ]
    },
    {
      "cell_type": "markdown",
      "metadata": {
        "colab_type": "text",
        "id": "QqYNDtwKYhji"
      },
      "source": [
        "In this Sprint Challenge, you will use **\"Cross-Validation with Independent Test Set\"** for your model validaton method.\n",
        "\n",
        "First, **split the data into `X_train, X_test, y_train, y_test`**. You can include 80% of the data in the train set, and hold out 20% for the test set."
      ]
    },
    {
      "cell_type": "code",
      "metadata": {
        "colab_type": "code",
        "id": "mPKf86yDYf0t",
        "colab": {
          "base_uri": "https://localhost:8080/",
          "height": 36
        },
        "outputId": "8c4fad01-3a24-47fb-f5bc-fdabaf5843d7"
      },
      "source": [
        "from sklearn.model_selection import train_test_split\n",
        "\n",
        "X_train, X_test, y_train, y_test = train_test_split(X, y,\n",
        "                                    test_size=0.2, random_state=42, stratify=y)\n",
        "\n",
        "#prove the split worked\n",
        "X_train.shape, X_test.shape, y_train.shape, y_test.shape"
      ],
      "execution_count": 124,
      "outputs": [
        {
          "output_type": "execute_result",
          "data": {
            "text/plain": [
              "((26048, 14), (6513, 14), (26048,), (6513,))"
            ]
          },
          "metadata": {
            "tags": []
          },
          "execution_count": 124
        }
      ]
    },
    {
      "cell_type": "markdown",
      "metadata": {
        "id": "0VioL6CjQ6My",
        "colab_type": "text"
      },
      "source": [
        "## Part 2 — Modeling with Logistic Regression!"
      ]
    },
    {
      "cell_type": "markdown",
      "metadata": {
        "colab_type": "text",
        "id": "E_ATNJdqTCuZ"
      },
      "source": [
        "- You may do exploratory data analysis and visualization, but it is not required.\n",
        "- You may **use all the features, or select any features** of your choice, as long as you select at least one numeric feature and one categorical feature.\n",
        "- **Scale your numeric features**, using any scikit-learn [Scaler](https://scikit-learn.org/stable/modules/classes.html#module-sklearn.preprocessing) of your choice.\n",
        "- **Encode your categorical features**. You may use any encoding (One-Hot, Ordinal, etc) and any library (category_encoders, scikit-learn, pandas, etc) of your choice.\n",
        "- You may choose to use a pipeline, but it is not required.\n",
        "- Use a **Logistic Regression** model.\n",
        "- Use scikit-learn's [**cross_val_score**](https://scikit-learn.org/stable/modules/generated/sklearn.model_selection.cross_val_score.html) function. For [scoring](https://scikit-learn.org/stable/modules/model_evaluation.html#the-scoring-parameter-defining-model-evaluation-rules), use **accuracy**.\n",
        "- **Print your model's cross-validation accuracy score.**"
      ]
    },
    {
      "cell_type": "code",
      "metadata": {
        "id": "5I5dsEX8Q6M3",
        "colab_type": "code",
        "colab": {
          "base_uri": "https://localhost:8080/",
          "height": 310
        },
        "outputId": "1130d0e2-cc37-485f-93aa-b4ba460614ce"
      },
      "source": [
        "#some quick exploring\n",
        "X.head()"
      ],
      "execution_count": 10,
      "outputs": [
        {
          "output_type": "execute_result",
          "data": {
            "text/html": [
              "<div>\n",
              "<style scoped>\n",
              "    .dataframe tbody tr th:only-of-type {\n",
              "        vertical-align: middle;\n",
              "    }\n",
              "\n",
              "    .dataframe tbody tr th {\n",
              "        vertical-align: top;\n",
              "    }\n",
              "\n",
              "    .dataframe thead th {\n",
              "        text-align: right;\n",
              "    }\n",
              "</style>\n",
              "<table border=\"1\" class=\"dataframe\">\n",
              "  <thead>\n",
              "    <tr style=\"text-align: right;\">\n",
              "      <th></th>\n",
              "      <th>age</th>\n",
              "      <th>workclass</th>\n",
              "      <th>fnlwgt</th>\n",
              "      <th>education</th>\n",
              "      <th>education-num</th>\n",
              "      <th>marital-status</th>\n",
              "      <th>occupation</th>\n",
              "      <th>relationship</th>\n",
              "      <th>race</th>\n",
              "      <th>sex</th>\n",
              "      <th>capital-gain</th>\n",
              "      <th>capital-loss</th>\n",
              "      <th>hours-per-week</th>\n",
              "      <th>native-country</th>\n",
              "    </tr>\n",
              "  </thead>\n",
              "  <tbody>\n",
              "    <tr>\n",
              "      <th>0</th>\n",
              "      <td>39</td>\n",
              "      <td>State-gov</td>\n",
              "      <td>77516</td>\n",
              "      <td>Bachelors</td>\n",
              "      <td>13</td>\n",
              "      <td>Never-married</td>\n",
              "      <td>Adm-clerical</td>\n",
              "      <td>Not-in-family</td>\n",
              "      <td>White</td>\n",
              "      <td>Male</td>\n",
              "      <td>2174</td>\n",
              "      <td>0</td>\n",
              "      <td>40</td>\n",
              "      <td>United-States</td>\n",
              "    </tr>\n",
              "    <tr>\n",
              "      <th>1</th>\n",
              "      <td>50</td>\n",
              "      <td>Self-emp-not-inc</td>\n",
              "      <td>83311</td>\n",
              "      <td>Bachelors</td>\n",
              "      <td>13</td>\n",
              "      <td>Married-civ-spouse</td>\n",
              "      <td>Exec-managerial</td>\n",
              "      <td>Husband</td>\n",
              "      <td>White</td>\n",
              "      <td>Male</td>\n",
              "      <td>0</td>\n",
              "      <td>0</td>\n",
              "      <td>13</td>\n",
              "      <td>United-States</td>\n",
              "    </tr>\n",
              "    <tr>\n",
              "      <th>2</th>\n",
              "      <td>38</td>\n",
              "      <td>Private</td>\n",
              "      <td>215646</td>\n",
              "      <td>HS-grad</td>\n",
              "      <td>9</td>\n",
              "      <td>Divorced</td>\n",
              "      <td>Handlers-cleaners</td>\n",
              "      <td>Not-in-family</td>\n",
              "      <td>White</td>\n",
              "      <td>Male</td>\n",
              "      <td>0</td>\n",
              "      <td>0</td>\n",
              "      <td>40</td>\n",
              "      <td>United-States</td>\n",
              "    </tr>\n",
              "    <tr>\n",
              "      <th>3</th>\n",
              "      <td>53</td>\n",
              "      <td>Private</td>\n",
              "      <td>234721</td>\n",
              "      <td>11th</td>\n",
              "      <td>7</td>\n",
              "      <td>Married-civ-spouse</td>\n",
              "      <td>Handlers-cleaners</td>\n",
              "      <td>Husband</td>\n",
              "      <td>Black</td>\n",
              "      <td>Male</td>\n",
              "      <td>0</td>\n",
              "      <td>0</td>\n",
              "      <td>40</td>\n",
              "      <td>United-States</td>\n",
              "    </tr>\n",
              "    <tr>\n",
              "      <th>4</th>\n",
              "      <td>28</td>\n",
              "      <td>Private</td>\n",
              "      <td>338409</td>\n",
              "      <td>Bachelors</td>\n",
              "      <td>13</td>\n",
              "      <td>Married-civ-spouse</td>\n",
              "      <td>Prof-specialty</td>\n",
              "      <td>Wife</td>\n",
              "      <td>Black</td>\n",
              "      <td>Female</td>\n",
              "      <td>0</td>\n",
              "      <td>0</td>\n",
              "      <td>40</td>\n",
              "      <td>Cuba</td>\n",
              "    </tr>\n",
              "  </tbody>\n",
              "</table>\n",
              "</div>"
            ],
            "text/plain": [
              "   age          workclass  fnlwgt   education  education-num  \\\n",
              "0   39          State-gov   77516   Bachelors             13   \n",
              "1   50   Self-emp-not-inc   83311   Bachelors             13   \n",
              "2   38            Private  215646     HS-grad              9   \n",
              "3   53            Private  234721        11th              7   \n",
              "4   28            Private  338409   Bachelors             13   \n",
              "\n",
              "        marital-status          occupation    relationship    race      sex  \\\n",
              "0        Never-married        Adm-clerical   Not-in-family   White     Male   \n",
              "1   Married-civ-spouse     Exec-managerial         Husband   White     Male   \n",
              "2             Divorced   Handlers-cleaners   Not-in-family   White     Male   \n",
              "3   Married-civ-spouse   Handlers-cleaners         Husband   Black     Male   \n",
              "4   Married-civ-spouse      Prof-specialty            Wife   Black   Female   \n",
              "\n",
              "   capital-gain  capital-loss  hours-per-week  native-country  \n",
              "0          2174             0              40   United-States  \n",
              "1             0             0              13   United-States  \n",
              "2             0             0              40   United-States  \n",
              "3             0             0              40   United-States  \n",
              "4             0             0              40            Cuba  "
            ]
          },
          "metadata": {
            "tags": []
          },
          "execution_count": 10
        }
      ]
    },
    {
      "cell_type": "code",
      "metadata": {
        "id": "F-6hxea8VNNm",
        "colab_type": "code",
        "colab": {
          "base_uri": "https://localhost:8080/",
          "height": 300
        },
        "outputId": "d1a7cfc4-ac35-4b36-c60d-1efc66d6cb0e"
      },
      "source": [
        "#some quick exploring\n",
        "X.describe()"
      ],
      "execution_count": 11,
      "outputs": [
        {
          "output_type": "execute_result",
          "data": {
            "text/html": [
              "<div>\n",
              "<style scoped>\n",
              "    .dataframe tbody tr th:only-of-type {\n",
              "        vertical-align: middle;\n",
              "    }\n",
              "\n",
              "    .dataframe tbody tr th {\n",
              "        vertical-align: top;\n",
              "    }\n",
              "\n",
              "    .dataframe thead th {\n",
              "        text-align: right;\n",
              "    }\n",
              "</style>\n",
              "<table border=\"1\" class=\"dataframe\">\n",
              "  <thead>\n",
              "    <tr style=\"text-align: right;\">\n",
              "      <th></th>\n",
              "      <th>age</th>\n",
              "      <th>fnlwgt</th>\n",
              "      <th>education-num</th>\n",
              "      <th>capital-gain</th>\n",
              "      <th>capital-loss</th>\n",
              "      <th>hours-per-week</th>\n",
              "    </tr>\n",
              "  </thead>\n",
              "  <tbody>\n",
              "    <tr>\n",
              "      <th>count</th>\n",
              "      <td>32561.000000</td>\n",
              "      <td>3.256100e+04</td>\n",
              "      <td>32561.000000</td>\n",
              "      <td>32561.000000</td>\n",
              "      <td>32561.000000</td>\n",
              "      <td>32561.000000</td>\n",
              "    </tr>\n",
              "    <tr>\n",
              "      <th>mean</th>\n",
              "      <td>38.581647</td>\n",
              "      <td>1.897784e+05</td>\n",
              "      <td>10.080679</td>\n",
              "      <td>1077.648844</td>\n",
              "      <td>87.303830</td>\n",
              "      <td>40.437456</td>\n",
              "    </tr>\n",
              "    <tr>\n",
              "      <th>std</th>\n",
              "      <td>13.640433</td>\n",
              "      <td>1.055500e+05</td>\n",
              "      <td>2.572720</td>\n",
              "      <td>7385.292085</td>\n",
              "      <td>402.960219</td>\n",
              "      <td>12.347429</td>\n",
              "    </tr>\n",
              "    <tr>\n",
              "      <th>min</th>\n",
              "      <td>17.000000</td>\n",
              "      <td>1.228500e+04</td>\n",
              "      <td>1.000000</td>\n",
              "      <td>0.000000</td>\n",
              "      <td>0.000000</td>\n",
              "      <td>1.000000</td>\n",
              "    </tr>\n",
              "    <tr>\n",
              "      <th>25%</th>\n",
              "      <td>28.000000</td>\n",
              "      <td>1.178270e+05</td>\n",
              "      <td>9.000000</td>\n",
              "      <td>0.000000</td>\n",
              "      <td>0.000000</td>\n",
              "      <td>40.000000</td>\n",
              "    </tr>\n",
              "    <tr>\n",
              "      <th>50%</th>\n",
              "      <td>37.000000</td>\n",
              "      <td>1.783560e+05</td>\n",
              "      <td>10.000000</td>\n",
              "      <td>0.000000</td>\n",
              "      <td>0.000000</td>\n",
              "      <td>40.000000</td>\n",
              "    </tr>\n",
              "    <tr>\n",
              "      <th>75%</th>\n",
              "      <td>48.000000</td>\n",
              "      <td>2.370510e+05</td>\n",
              "      <td>12.000000</td>\n",
              "      <td>0.000000</td>\n",
              "      <td>0.000000</td>\n",
              "      <td>45.000000</td>\n",
              "    </tr>\n",
              "    <tr>\n",
              "      <th>max</th>\n",
              "      <td>90.000000</td>\n",
              "      <td>1.484705e+06</td>\n",
              "      <td>16.000000</td>\n",
              "      <td>99999.000000</td>\n",
              "      <td>4356.000000</td>\n",
              "      <td>99.000000</td>\n",
              "    </tr>\n",
              "  </tbody>\n",
              "</table>\n",
              "</div>"
            ],
            "text/plain": [
              "                age        fnlwgt  education-num  capital-gain  capital-loss  \\\n",
              "count  32561.000000  3.256100e+04   32561.000000  32561.000000  32561.000000   \n",
              "mean      38.581647  1.897784e+05      10.080679   1077.648844     87.303830   \n",
              "std       13.640433  1.055500e+05       2.572720   7385.292085    402.960219   \n",
              "min       17.000000  1.228500e+04       1.000000      0.000000      0.000000   \n",
              "25%       28.000000  1.178270e+05       9.000000      0.000000      0.000000   \n",
              "50%       37.000000  1.783560e+05      10.000000      0.000000      0.000000   \n",
              "75%       48.000000  2.370510e+05      12.000000      0.000000      0.000000   \n",
              "max       90.000000  1.484705e+06      16.000000  99999.000000   4356.000000   \n",
              "\n",
              "       hours-per-week  \n",
              "count    32561.000000  \n",
              "mean        40.437456  \n",
              "std         12.347429  \n",
              "min          1.000000  \n",
              "25%         40.000000  \n",
              "50%         40.000000  \n",
              "75%         45.000000  \n",
              "max         99.000000  "
            ]
          },
          "metadata": {
            "tags": []
          },
          "execution_count": 11
        }
      ]
    },
    {
      "cell_type": "code",
      "metadata": {
        "id": "eZVcywoyVPPE",
        "colab_type": "code",
        "colab": {
          "base_uri": "https://localhost:8080/",
          "height": 175
        },
        "outputId": "bbdc0daa-bab4-4d81-f567-621a819beaa7"
      },
      "source": [
        "#some quick exploring\n",
        "X.describe(exclude='number')"
      ],
      "execution_count": 14,
      "outputs": [
        {
          "output_type": "execute_result",
          "data": {
            "text/html": [
              "<div>\n",
              "<style scoped>\n",
              "    .dataframe tbody tr th:only-of-type {\n",
              "        vertical-align: middle;\n",
              "    }\n",
              "\n",
              "    .dataframe tbody tr th {\n",
              "        vertical-align: top;\n",
              "    }\n",
              "\n",
              "    .dataframe thead th {\n",
              "        text-align: right;\n",
              "    }\n",
              "</style>\n",
              "<table border=\"1\" class=\"dataframe\">\n",
              "  <thead>\n",
              "    <tr style=\"text-align: right;\">\n",
              "      <th></th>\n",
              "      <th>workclass</th>\n",
              "      <th>education</th>\n",
              "      <th>marital-status</th>\n",
              "      <th>occupation</th>\n",
              "      <th>relationship</th>\n",
              "      <th>race</th>\n",
              "      <th>sex</th>\n",
              "      <th>native-country</th>\n",
              "    </tr>\n",
              "  </thead>\n",
              "  <tbody>\n",
              "    <tr>\n",
              "      <th>count</th>\n",
              "      <td>32561</td>\n",
              "      <td>32561</td>\n",
              "      <td>32561</td>\n",
              "      <td>32561</td>\n",
              "      <td>32561</td>\n",
              "      <td>32561</td>\n",
              "      <td>32561</td>\n",
              "      <td>32561</td>\n",
              "    </tr>\n",
              "    <tr>\n",
              "      <th>unique</th>\n",
              "      <td>9</td>\n",
              "      <td>16</td>\n",
              "      <td>7</td>\n",
              "      <td>15</td>\n",
              "      <td>6</td>\n",
              "      <td>5</td>\n",
              "      <td>2</td>\n",
              "      <td>42</td>\n",
              "    </tr>\n",
              "    <tr>\n",
              "      <th>top</th>\n",
              "      <td>Private</td>\n",
              "      <td>HS-grad</td>\n",
              "      <td>Married-civ-spouse</td>\n",
              "      <td>Prof-specialty</td>\n",
              "      <td>Husband</td>\n",
              "      <td>White</td>\n",
              "      <td>Male</td>\n",
              "      <td>United-States</td>\n",
              "    </tr>\n",
              "    <tr>\n",
              "      <th>freq</th>\n",
              "      <td>22696</td>\n",
              "      <td>10501</td>\n",
              "      <td>14976</td>\n",
              "      <td>4140</td>\n",
              "      <td>13193</td>\n",
              "      <td>27816</td>\n",
              "      <td>21790</td>\n",
              "      <td>29170</td>\n",
              "    </tr>\n",
              "  </tbody>\n",
              "</table>\n",
              "</div>"
            ],
            "text/plain": [
              "       workclass education       marital-status       occupation relationship  \\\n",
              "count      32561     32561                32561            32561        32561   \n",
              "unique         9        16                    7               15            6   \n",
              "top      Private   HS-grad   Married-civ-spouse   Prof-specialty      Husband   \n",
              "freq       22696     10501                14976             4140        13193   \n",
              "\n",
              "          race    sex  native-country  \n",
              "count    32561  32561           32561  \n",
              "unique       5      2              42  \n",
              "top      White   Male   United-States  \n",
              "freq     27816  21790           29170  "
            ]
          },
          "metadata": {
            "tags": []
          },
          "execution_count": 14
        }
      ]
    },
    {
      "cell_type": "code",
      "metadata": {
        "id": "GrX0vRb6Zloz",
        "colab_type": "code",
        "colab": {
          "base_uri": "https://localhost:8080/",
          "height": 299
        },
        "outputId": "0c453a8b-5317-4af8-cf2c-9978d1233c5d"
      },
      "source": [
        "#confirming no nulls\n",
        "X.isnull().sum()"
      ],
      "execution_count": 19,
      "outputs": [
        {
          "output_type": "execute_result",
          "data": {
            "text/plain": [
              "age               0\n",
              "workclass         0\n",
              "fnlwgt            0\n",
              "education         0\n",
              "education-num     0\n",
              "marital-status    0\n",
              "occupation        0\n",
              "relationship      0\n",
              "race              0\n",
              "sex               0\n",
              "capital-gain      0\n",
              "capital-loss      0\n",
              "hours-per-week    0\n",
              "native-country    0\n",
              "dtype: int64"
            ]
          },
          "metadata": {
            "tags": []
          },
          "execution_count": 19
        }
      ]
    },
    {
      "cell_type": "code",
      "metadata": {
        "id": "_jlpYYAzaAAb",
        "colab_type": "code",
        "colab": {}
      },
      "source": [
        "#all of the necessary imports\n",
        "\n",
        "# !pip install category_encoders\n",
        "\n",
        "import category_encoders as ce\n",
        "from sklearn.preprocessing import MinMaxScaler\n",
        "from sklearn.pipeline import make_pipeline\n",
        "from sklearn.model_selection import cross_val_score\n",
        "from sklearn.linear_model import LogisticRegression\n",
        "from sklearn.ensemble import RandomForestClassifier"
      ],
      "execution_count": 0,
      "outputs": []
    },
    {
      "cell_type": "code",
      "metadata": {
        "id": "znXNx60ZV68I",
        "colab_type": "code",
        "colab": {}
      },
      "source": [
        "#bring down the reading in of the csv, makes it easier in case of mess up or \n",
        "#restart of the environment\n",
        "def prep_csv():\n",
        "  columns = ['age', \n",
        "             'workclass', \n",
        "             'fnlwgt', \n",
        "             'education', \n",
        "             'education-num', \n",
        "             'marital-status', \n",
        "             'occupation', \n",
        "             'relationship', \n",
        "             'race', \n",
        "             'sex', \n",
        "             'capital-gain', \n",
        "             'capital-loss', \n",
        "             'hours-per-week', \n",
        "             'native-country', \n",
        "             'income']\n",
        "  df = pd.read_csv('https://archive.ics.uci.edu/ml/machine-learning-databases/adult/adult.data', \n",
        "                 header=None, names=columns)\n",
        "\n",
        "  df['income'] = df['income'].str.strip()\n",
        "  return df"
      ],
      "execution_count": 0,
      "outputs": []
    },
    {
      "cell_type": "code",
      "metadata": {
        "id": "VeY33zHAVmHL",
        "colab_type": "code",
        "colab": {}
      },
      "source": [
        "def feature_engineer(df):\n",
        "  #prepping for stretch goals\n",
        "  return df"
      ],
      "execution_count": 0,
      "outputs": []
    },
    {
      "cell_type": "code",
      "metadata": {
        "id": "kO7E7TNtVuS5",
        "colab_type": "code",
        "colab": {
          "base_uri": "https://localhost:8080/",
          "height": 36
        },
        "outputId": "41834f0f-1d08-4d51-dcc9-d55e1fc90058"
      },
      "source": [
        "#get our csv\n",
        "df = prep_csv()\n",
        "\n",
        "#prep our train and test variables\n",
        "X = df.drop('income',axis='columns')\n",
        "y = (df['income'] == '<=50K') #50k or less is True\n",
        "X_train, X_test, y_train, y_test = train_test_split(X, y,\n",
        "                                    test_size=0.2, random_state=42, stratify=y)\n",
        "\n",
        "#feature engineer #prepping for stretch goals\n",
        "# X_train = feature_engineer(X_train)\n",
        "\n",
        "#make a pipeline\n",
        "pipe = make_pipeline(\n",
        "  #one-hot the low cardinality categoricals, ordinal for the rest\n",
        "  ce.OneHotEncoder(use_cat_names=True, \n",
        "                   cols=['workclass','marital-status',\n",
        "                         'relationship','race','sex']),\n",
        "  ce.OrdinalEncoder(cols=['education','occupation','native-country']),\n",
        "  MinMaxScaler(),\n",
        "  LogisticRegression(solver='lbfgs'))\n",
        "\n",
        "score = cross_val_score(pipe, X_train, y_train, cv=10,\n",
        "                        scoring='accuracy', n_jobs=-1).mean()\n",
        "\n",
        "#print accuracy score, it should beat 0.75919 or something went wrong\n",
        "print('Accuracy:', score)"
      ],
      "execution_count": 108,
      "outputs": [
        {
          "output_type": "stream",
          "text": [
            "Accuracy: 0.843481032687589\n"
          ],
          "name": "stdout"
        }
      ]
    },
    {
      "cell_type": "markdown",
      "metadata": {
        "id": "Fbq2rQREQ6M_",
        "colab_type": "text"
      },
      "source": [
        "## Part 3 — Modeling with Tree Ensembles!\n",
        "\n",
        "Part 3 is the same as Part 2, except this time, use a **Random Forest** or **Gradient Boosting** classifier. You may use scikit-learn, xgboost, or any other library. Then, print your model's cross-validation accuracy score."
      ]
    },
    {
      "cell_type": "code",
      "metadata": {
        "colab_type": "code",
        "id": "qAxxkjG7gACP",
        "colab": {
          "base_uri": "https://localhost:8080/",
          "height": 36
        },
        "outputId": "80e3663e-277f-46ce-ad5b-236601e644f2"
      },
      "source": [
        "#get our csv\n",
        "df = prep_csv()\n",
        "\n",
        "#prep our train and test variables\n",
        "X = df.drop('income',axis='columns')\n",
        "y = (df['income'] == '<=50K') #50k or less is True\n",
        "X_train, X_test, y_train, y_test = train_test_split(X, y,\n",
        "                                    test_size=0.2, random_state=42, stratify=y)\n",
        "\n",
        "#feature engineer #prepping for stretch goals\n",
        "# X_train = feature_engineer(X_train)\n",
        "\n",
        "#make a pipeline\n",
        "pipe = make_pipeline(\n",
        "  #one-hot the low cardinality categoricals, ordinal for the rest\n",
        "  ce.OneHotEncoder(use_cat_names=True, \n",
        "                   cols=['workclass','marital-status',\n",
        "                         'relationship','race','sex']),\n",
        "  ce.OrdinalEncoder(cols=['education','occupation','native-country']),\n",
        "  MinMaxScaler(),\n",
        "  RandomForestClassifier(n_estimators=100, max_depth=5))\n",
        "\n",
        "score = cross_val_score(pipe, X_train, y_train, cv=10,\n",
        "                        scoring='accuracy', n_jobs=-1).mean()\n",
        "\n",
        "#print accuracy score, it should beat 0.75919 or something went wrong\n",
        "print('Accuracy:', score)"
      ],
      "execution_count": 107,
      "outputs": [
        {
          "output_type": "stream",
          "text": [
            "Accuracy: 0.8487796727085097\n"
          ],
          "name": "stdout"
        }
      ]
    },
    {
      "cell_type": "markdown",
      "metadata": {
        "colab_type": "text",
        "id": "jkyHoRIbEgRR"
      },
      "source": [
        "## Part 4 — Calculate classification metrics from a confusion matrix\n",
        "\n",
        "Suppose this is the confusion matrix for your binary classification model:\n",
        "\n",
        "<table>\n",
        "  <tr>\n",
        "    <td colspan=\"2\" rowspan=\"2\"></td>\n",
        "    <td colspan=\"2\">Predicted</td>\n",
        "  </tr>\n",
        "  <tr>\n",
        "    <td>Negative</td>\n",
        "    <td>Positive</td>\n",
        "  </tr>\n",
        "  <tr>\n",
        "    <td rowspan=\"2\">Actual</td>\n",
        "    <td>Negative</td>\n",
        "    <td style=\"border: solid\">85</td>\n",
        "    <td style=\"border: solid\">58</td>\n",
        "  </tr>\n",
        "  <tr>\n",
        "    <td>Positive</td>\n",
        "    <td style=\"border: solid\">8</td>\n",
        "    <td style=\"border: solid\"> 36</td>\n",
        "  </tr>\n",
        "</table>"
      ]
    },
    {
      "cell_type": "markdown",
      "metadata": {
        "colab_type": "text",
        "id": "LhyMM5H-JpVB"
      },
      "source": [
        "Calculate accuracy\n",
        "\\begin{align}Accuracy = \\frac{\\text{True Positives + True Negatives}}{\\text{Total Number of Predictions}}\\end{align}"
      ]
    },
    {
      "cell_type": "code",
      "metadata": {
        "colab_type": "code",
        "id": "TZPwqdh2KUcB",
        "colab": {
          "base_uri": "https://localhost:8080/",
          "height": 36
        },
        "outputId": "90c051d0-16e6-477c-b35f-2c6eb50dc210"
      },
      "source": [
        "true_pos = 36\n",
        "true_neg = 85\n",
        "total_pred = 85+58+8+36\n",
        "\n",
        "accuracy = (true_pos + true_neg)/total_pred\n",
        "\n",
        "print('Accuracy:',accuracy)"
      ],
      "execution_count": 7,
      "outputs": [
        {
          "output_type": "stream",
          "text": [
            "Accuracy: 0.6470588235294118\n"
          ],
          "name": "stdout"
        }
      ]
    },
    {
      "cell_type": "markdown",
      "metadata": {
        "colab_type": "text",
        "id": "BRWLfGcGKeQw"
      },
      "source": [
        "Calculate precision\n",
        "\\begin{align}Precision = \\frac{\\text{True Positives}}{\\text{True Positives + False Positives}}\\end{align}"
      ]
    },
    {
      "cell_type": "code",
      "metadata": {
        "colab_type": "code",
        "id": "A-FEZ4i_Kf_n",
        "colab": {
          "base_uri": "https://localhost:8080/",
          "height": 36
        },
        "outputId": "6726c8d0-c621-4444-ae05-0c67d62d030e"
      },
      "source": [
        "false_pos = 58\n",
        "\n",
        "precision = true_pos/(true_pos + false_pos)\n",
        "\n",
        "print('Precision:',precision)"
      ],
      "execution_count": 8,
      "outputs": [
        {
          "output_type": "stream",
          "text": [
            "Precision: 0.3829787234042553\n"
          ],
          "name": "stdout"
        }
      ]
    },
    {
      "cell_type": "markdown",
      "metadata": {
        "colab_type": "text",
        "id": "h_mH2NYDKi2C"
      },
      "source": [
        "Calculate recall\n",
        "\\begin{align}Recall = \\frac{\\text{True Positives}}{\\text{True Positives + False Negatives}}\\end{align}"
      ]
    },
    {
      "cell_type": "code",
      "metadata": {
        "colab_type": "code",
        "id": "U4_wJGyjKkXJ",
        "colab": {
          "base_uri": "https://localhost:8080/",
          "height": 36
        },
        "outputId": "87ed072c-c124-46f1-c24d-cc047c1650b9"
      },
      "source": [
        "false_neg = 8\n",
        "\n",
        "recall = true_pos/(true_pos + false_neg)\n",
        "\n",
        "print('Recall:', recall)"
      ],
      "execution_count": 9,
      "outputs": [
        {
          "output_type": "stream",
          "text": [
            "Recall: 0.8181818181818182\n"
          ],
          "name": "stdout"
        }
      ]
    },
    {
      "cell_type": "markdown",
      "metadata": {
        "colab_type": "text",
        "id": "9KEaWsk5Kk9W"
      },
      "source": [
        "## BONUS — How you can earn a score of 3\n",
        "\n",
        "### Part 1\n",
        "Do feature engineering, to try improving your cross-validation score.\n",
        "\n",
        "### Part 2\n",
        "Experiment with feature selection, preprocessing, categorical encoding, and hyperparameter optimization, to try improving your cross-validation score.\n",
        "\n",
        "### Part 3\n",
        "Which model had the best cross-validation score? Refit this model on the train set and do a final evaluation on the held out test set — what is the test score? \n",
        "\n",
        "### Part 4\n",
        "Calculate F1 score and False Positive Rate. "
      ]
    },
    {
      "cell_type": "code",
      "metadata": {
        "colab_type": "code",
        "id": "1yXoUKQqfabP",
        "colab": {}
      },
      "source": [
        "#all of the necessary imports\n",
        "\n",
        "# !pip install category_encoders\n",
        "\n",
        "import category_encoders as ce\n",
        "from sklearn.preprocessing import MinMaxScaler\n",
        "from sklearn.pipeline import make_pipeline\n",
        "from sklearn.model_selection import cross_val_score\n",
        "from sklearn.linear_model import LogisticRegression\n",
        "from sklearn.ensemble import RandomForestClassifier\n",
        "from xgboost import XGBClassifier"
      ],
      "execution_count": 0,
      "outputs": []
    },
    {
      "cell_type": "code",
      "metadata": {
        "colab_type": "code",
        "id": "PGNlfUQUfdGd",
        "colab": {}
      },
      "source": [
        "#bring down the reading in of the csv, makes it easier in case of mess up or \n",
        "#restart of the environment\n",
        "def prep_csv():\n",
        "  columns = ['age', \n",
        "             'workclass', \n",
        "             'fnlwgt', \n",
        "             'education', \n",
        "             'education-num', \n",
        "             'marital-status', \n",
        "             'occupation', \n",
        "             'relationship', \n",
        "             'race', \n",
        "             'sex', \n",
        "             'capital-gain', \n",
        "             'capital-loss', \n",
        "             'hours-per-week', \n",
        "             'native-country', \n",
        "             'income']\n",
        "  df = pd.read_csv('https://archive.ics.uci.edu/ml/machine-learning-databases/adult/adult.data', \n",
        "                 header=None, names=columns)\n",
        "\n",
        "  df['income'] = df['income'].str.strip()\n",
        "  return df"
      ],
      "execution_count": 0,
      "outputs": []
    },
    {
      "cell_type": "code",
      "metadata": {
        "colab_type": "code",
        "id": "XxfmyOWFff3d",
        "colab": {}
      },
      "source": [
        "def feature_engineer(df):\n",
        "  df['busi_prof'] = ((df['occupation'].str.contains('Exec-managerial')) |\n",
        "                     (df['occupation'].str.contains('Prof-specialty')))\n",
        "  df['workclass'] = df['workclass'].str.strip().replace({'Without-pay':'No_income',\n",
        "                                                         'Never-worked':'No_income'})\n",
        "  df['net_gain'] = df['capital-gain'] - df['capital-loss']\n",
        "  return df"
      ],
      "execution_count": 0,
      "outputs": []
    },
    {
      "cell_type": "code",
      "metadata": {
        "colab_type": "code",
        "outputId": "ff3c54d5-a512-49ac-de96-fc676c5d79f9",
        "id": "gZ0LwHTpfh3V",
        "colab": {
          "base_uri": "https://localhost:8080/",
          "height": 393
        }
      },
      "source": [
        "#get our csv\n",
        "df = prep_csv()\n",
        "\n",
        "#prep our train and test variables\n",
        "X = df.drop(['income', 'fnlwgt'],axis='columns')\n",
        "y = (df['income'] == '<=50K') #50k or less is True\n",
        "X_train, X_test, y_train, y_test = train_test_split(X, y,\n",
        "                                    test_size=0.2, random_state=42, stratify=y)\n",
        "\n",
        "#feature engineer\n",
        "X_train = feature_engineer(X_train)\n",
        "\n",
        "#make a pipeline\n",
        "pipe = make_pipeline(\n",
        "  #one-hot the low cardinality categoricals, ordinal for the rest\n",
        "  ce.OneHotEncoder(use_cat_names=True, \n",
        "                   cols=['workclass','marital-status',\n",
        "                         'relationship','race','sex','busi_prof']),\n",
        "  ce.OrdinalEncoder(cols=['education','occupation','native-country']),\n",
        "  MinMaxScaler(),\n",
        "  XGBClassifier(n_estimators=100, max_depth=5,       #boosting was best model\n",
        "                         class_weight={1:1,0:1.1}))  #by small margin\n",
        "\n",
        "accuracy = cross_val_score(pipe, X_train, y_train, cv=10,\n",
        "                        scoring='accuracy', n_jobs=-1).mean()\n",
        "f1 = cross_val_score(pipe, X_train, y_train, cv=10,\n",
        "                        scoring='f1', n_jobs=-1).mean()\n",
        "\n",
        "#print accuracy score, it should beat 0.75919 or something went wrong\n",
        "print('Accuracy:', accuracy)\n",
        "print('F1 Score:', f1)"
      ],
      "execution_count": 127,
      "outputs": [
        {
          "output_type": "stream",
          "text": [
            "/usr/local/lib/python3.6/dist-packages/ipykernel_launcher.py:3: SettingWithCopyWarning: \n",
            "A value is trying to be set on a copy of a slice from a DataFrame.\n",
            "Try using .loc[row_indexer,col_indexer] = value instead\n",
            "\n",
            "See the caveats in the documentation: http://pandas.pydata.org/pandas-docs/stable/indexing.html#indexing-view-versus-copy\n",
            "  This is separate from the ipykernel package so we can avoid doing imports until\n",
            "/usr/local/lib/python3.6/dist-packages/ipykernel_launcher.py:5: SettingWithCopyWarning: \n",
            "A value is trying to be set on a copy of a slice from a DataFrame.\n",
            "Try using .loc[row_indexer,col_indexer] = value instead\n",
            "\n",
            "See the caveats in the documentation: http://pandas.pydata.org/pandas-docs/stable/indexing.html#indexing-view-versus-copy\n",
            "  \"\"\"\n",
            "/usr/local/lib/python3.6/dist-packages/ipykernel_launcher.py:6: SettingWithCopyWarning: \n",
            "A value is trying to be set on a copy of a slice from a DataFrame.\n",
            "Try using .loc[row_indexer,col_indexer] = value instead\n",
            "\n",
            "See the caveats in the documentation: http://pandas.pydata.org/pandas-docs/stable/indexing.html#indexing-view-versus-copy\n",
            "  \n"
          ],
          "name": "stderr"
        },
        {
          "output_type": "stream",
          "text": [
            "Accuracy: 0.8713918821339594\n",
            "F1 Score: 0.917883371098607\n"
          ],
          "name": "stdout"
        }
      ]
    },
    {
      "cell_type": "markdown",
      "metadata": {
        "id": "ZV2Oc3mHwYUG",
        "colab_type": "text"
      },
      "source": [
        "##With the Test Data"
      ]
    },
    {
      "cell_type": "code",
      "metadata": {
        "id": "NB9cxdlDwIe5",
        "colab_type": "code",
        "colab": {
          "base_uri": "https://localhost:8080/",
          "height": 393
        },
        "outputId": "58dcfbfe-4025-446a-87f5-7e14f7d52c16"
      },
      "source": [
        "#get our csv\n",
        "df = prep_csv()\n",
        "\n",
        "#prep our train and test variables\n",
        "X = df.drop(['income', 'fnlwgt'],axis='columns')\n",
        "y = (df['income'] == '<=50K') #50k or less is True\n",
        "X_train, X_test, y_train, y_test = train_test_split(X, y,\n",
        "                                    test_size=0.2, random_state=42, stratify=y)\n",
        "\n",
        "#feature engineer\n",
        "X_test = feature_engineer(X_test)\n",
        "\n",
        "#make a pipeline\n",
        "pipe = make_pipeline(\n",
        "  #one-hot the low cardinality categoricals, ordinal for the rest\n",
        "  ce.OneHotEncoder(use_cat_names=True, \n",
        "                   cols=['workclass','marital-status',\n",
        "                         'relationship','race','sex','busi_prof']),\n",
        "  ce.OrdinalEncoder(cols=['education','occupation','native-country']),\n",
        "  MinMaxScaler(),\n",
        "  XGBClassifier(n_estimators=100, max_depth=5,\n",
        "                         class_weight={1:1,0:1.1}))\n",
        "\n",
        "accuracy = cross_val_score(pipe, X_test, y_test, cv=10,\n",
        "                        scoring='accuracy', n_jobs=-1).mean()\n",
        "f1 = cross_val_score(pipe, X_test, y_test, cv=10,\n",
        "                        scoring='f1', n_jobs=-1).mean()\n",
        "\n",
        "#print accuracy score, it should beat 0.75919 or something went wrong\n",
        "print('Accuracy:', accuracy)\n",
        "print('F1 Score:', f1)"
      ],
      "execution_count": 116,
      "outputs": [
        {
          "output_type": "stream",
          "text": [
            "/usr/local/lib/python3.6/dist-packages/ipykernel_launcher.py:3: SettingWithCopyWarning: \n",
            "A value is trying to be set on a copy of a slice from a DataFrame.\n",
            "Try using .loc[row_indexer,col_indexer] = value instead\n",
            "\n",
            "See the caveats in the documentation: http://pandas.pydata.org/pandas-docs/stable/indexing.html#indexing-view-versus-copy\n",
            "  This is separate from the ipykernel package so we can avoid doing imports until\n",
            "/usr/local/lib/python3.6/dist-packages/ipykernel_launcher.py:5: SettingWithCopyWarning: \n",
            "A value is trying to be set on a copy of a slice from a DataFrame.\n",
            "Try using .loc[row_indexer,col_indexer] = value instead\n",
            "\n",
            "See the caveats in the documentation: http://pandas.pydata.org/pandas-docs/stable/indexing.html#indexing-view-versus-copy\n",
            "  \"\"\"\n",
            "/usr/local/lib/python3.6/dist-packages/ipykernel_launcher.py:6: SettingWithCopyWarning: \n",
            "A value is trying to be set on a copy of a slice from a DataFrame.\n",
            "Try using .loc[row_indexer,col_indexer] = value instead\n",
            "\n",
            "See the caveats in the documentation: http://pandas.pydata.org/pandas-docs/stable/indexing.html#indexing-view-versus-copy\n",
            "  \n"
          ],
          "name": "stderr"
        },
        {
          "output_type": "stream",
          "text": [
            "Accuracy: 0.8661138242323677\n",
            "F1 Score: 0.9145301015362666\n"
          ],
          "name": "stdout"
        }
      ]
    },
    {
      "cell_type": "markdown",
      "metadata": {
        "id": "OX7WtQEigiwR",
        "colab_type": "text"
      },
      "source": [
        "##Feature Engineering Work\n",
        "Everything below here is basically just a digital scratch pad"
      ]
    },
    {
      "cell_type": "code",
      "metadata": {
        "id": "gdxFTtU0foSe",
        "colab_type": "code",
        "colab": {
          "base_uri": "https://localhost:8080/",
          "height": 310
        },
        "outputId": "6bdb1398-89ad-48eb-ceed-922540cd4a1b"
      },
      "source": [
        "X.head()"
      ],
      "execution_count": 55,
      "outputs": [
        {
          "output_type": "execute_result",
          "data": {
            "text/html": [
              "<div>\n",
              "<style scoped>\n",
              "    .dataframe tbody tr th:only-of-type {\n",
              "        vertical-align: middle;\n",
              "    }\n",
              "\n",
              "    .dataframe tbody tr th {\n",
              "        vertical-align: top;\n",
              "    }\n",
              "\n",
              "    .dataframe thead th {\n",
              "        text-align: right;\n",
              "    }\n",
              "</style>\n",
              "<table border=\"1\" class=\"dataframe\">\n",
              "  <thead>\n",
              "    <tr style=\"text-align: right;\">\n",
              "      <th></th>\n",
              "      <th>age</th>\n",
              "      <th>workclass</th>\n",
              "      <th>fnlwgt</th>\n",
              "      <th>education</th>\n",
              "      <th>education-num</th>\n",
              "      <th>marital-status</th>\n",
              "      <th>occupation</th>\n",
              "      <th>relationship</th>\n",
              "      <th>race</th>\n",
              "      <th>sex</th>\n",
              "      <th>capital-gain</th>\n",
              "      <th>capital-loss</th>\n",
              "      <th>hours-per-week</th>\n",
              "      <th>native-country</th>\n",
              "    </tr>\n",
              "  </thead>\n",
              "  <tbody>\n",
              "    <tr>\n",
              "      <th>0</th>\n",
              "      <td>39</td>\n",
              "      <td>State-gov</td>\n",
              "      <td>77516</td>\n",
              "      <td>Bachelors</td>\n",
              "      <td>13</td>\n",
              "      <td>Never-married</td>\n",
              "      <td>Adm-clerical</td>\n",
              "      <td>Not-in-family</td>\n",
              "      <td>White</td>\n",
              "      <td>Male</td>\n",
              "      <td>2174</td>\n",
              "      <td>0</td>\n",
              "      <td>40</td>\n",
              "      <td>United-States</td>\n",
              "    </tr>\n",
              "    <tr>\n",
              "      <th>1</th>\n",
              "      <td>50</td>\n",
              "      <td>Self-emp-not-inc</td>\n",
              "      <td>83311</td>\n",
              "      <td>Bachelors</td>\n",
              "      <td>13</td>\n",
              "      <td>Married-civ-spouse</td>\n",
              "      <td>Exec-managerial</td>\n",
              "      <td>Husband</td>\n",
              "      <td>White</td>\n",
              "      <td>Male</td>\n",
              "      <td>0</td>\n",
              "      <td>0</td>\n",
              "      <td>13</td>\n",
              "      <td>United-States</td>\n",
              "    </tr>\n",
              "    <tr>\n",
              "      <th>2</th>\n",
              "      <td>38</td>\n",
              "      <td>Private</td>\n",
              "      <td>215646</td>\n",
              "      <td>HS-grad</td>\n",
              "      <td>9</td>\n",
              "      <td>Divorced</td>\n",
              "      <td>Handlers-cleaners</td>\n",
              "      <td>Not-in-family</td>\n",
              "      <td>White</td>\n",
              "      <td>Male</td>\n",
              "      <td>0</td>\n",
              "      <td>0</td>\n",
              "      <td>40</td>\n",
              "      <td>United-States</td>\n",
              "    </tr>\n",
              "    <tr>\n",
              "      <th>3</th>\n",
              "      <td>53</td>\n",
              "      <td>Private</td>\n",
              "      <td>234721</td>\n",
              "      <td>11th</td>\n",
              "      <td>7</td>\n",
              "      <td>Married-civ-spouse</td>\n",
              "      <td>Handlers-cleaners</td>\n",
              "      <td>Husband</td>\n",
              "      <td>Black</td>\n",
              "      <td>Male</td>\n",
              "      <td>0</td>\n",
              "      <td>0</td>\n",
              "      <td>40</td>\n",
              "      <td>United-States</td>\n",
              "    </tr>\n",
              "    <tr>\n",
              "      <th>4</th>\n",
              "      <td>28</td>\n",
              "      <td>Private</td>\n",
              "      <td>338409</td>\n",
              "      <td>Bachelors</td>\n",
              "      <td>13</td>\n",
              "      <td>Married-civ-spouse</td>\n",
              "      <td>Prof-specialty</td>\n",
              "      <td>Wife</td>\n",
              "      <td>Black</td>\n",
              "      <td>Female</td>\n",
              "      <td>0</td>\n",
              "      <td>0</td>\n",
              "      <td>40</td>\n",
              "      <td>Cuba</td>\n",
              "    </tr>\n",
              "  </tbody>\n",
              "</table>\n",
              "</div>"
            ],
            "text/plain": [
              "   age          workclass  fnlwgt   education  education-num  \\\n",
              "0   39          State-gov   77516   Bachelors             13   \n",
              "1   50   Self-emp-not-inc   83311   Bachelors             13   \n",
              "2   38            Private  215646     HS-grad              9   \n",
              "3   53            Private  234721        11th              7   \n",
              "4   28            Private  338409   Bachelors             13   \n",
              "\n",
              "        marital-status          occupation    relationship    race      sex  \\\n",
              "0        Never-married        Adm-clerical   Not-in-family   White     Male   \n",
              "1   Married-civ-spouse     Exec-managerial         Husband   White     Male   \n",
              "2             Divorced   Handlers-cleaners   Not-in-family   White     Male   \n",
              "3   Married-civ-spouse   Handlers-cleaners         Husband   Black     Male   \n",
              "4   Married-civ-spouse      Prof-specialty            Wife   Black   Female   \n",
              "\n",
              "   capital-gain  capital-loss  hours-per-week  native-country  \n",
              "0          2174             0              40   United-States  \n",
              "1             0             0              13   United-States  \n",
              "2             0             0              40   United-States  \n",
              "3             0             0              40   United-States  \n",
              "4             0             0              40            Cuba  "
            ]
          },
          "metadata": {
            "tags": []
          },
          "execution_count": 55
        }
      ]
    },
    {
      "cell_type": "code",
      "metadata": {
        "id": "Z5zSgwtnfoHg",
        "colab_type": "code",
        "colab": {
          "base_uri": "https://localhost:8080/",
          "height": 619
        },
        "outputId": "a0b18cc4-dfca-4cc9-91e8-7b60df16c484"
      },
      "source": [
        "df.groupby('occupation')['income'].value_counts(normalize=True)"
      ],
      "execution_count": 62,
      "outputs": [
        {
          "output_type": "execute_result",
          "data": {
            "text/plain": [
              "occupation          income\n",
              " ?                  <=50K     0.896365\n",
              "                    >50K      0.103635\n",
              " Adm-clerical       <=50K     0.865517\n",
              "                    >50K      0.134483\n",
              " Armed-Forces       <=50K     0.888889\n",
              "                    >50K      0.111111\n",
              " Craft-repair       <=50K     0.773359\n",
              "                    >50K      0.226641\n",
              " Exec-managerial    <=50K     0.515986\n",
              "                    >50K      0.484014\n",
              " Farming-fishing    <=50K     0.884306\n",
              "                    >50K      0.115694\n",
              " Handlers-cleaners  <=50K     0.937226\n",
              "                    >50K      0.062774\n",
              " Machine-op-inspct  <=50K     0.875125\n",
              "                    >50K      0.124875\n",
              " Other-service      <=50K     0.958422\n",
              "                    >50K      0.041578\n",
              " Priv-house-serv    <=50K     0.993289\n",
              "                    >50K      0.006711\n",
              " Prof-specialty     <=50K     0.550966\n",
              "                    >50K      0.449034\n",
              " Protective-serv    <=50K     0.674884\n",
              "                    >50K      0.325116\n",
              " Sales              <=50K     0.730685\n",
              "                    >50K      0.269315\n",
              " Tech-support       <=50K     0.695043\n",
              "                    >50K      0.304957\n",
              " Transport-moving   <=50K     0.799624\n",
              "                    >50K      0.200376\n",
              "Name: income, dtype: float64"
            ]
          },
          "metadata": {
            "tags": []
          },
          "execution_count": 62
        }
      ]
    },
    {
      "cell_type": "code",
      "metadata": {
        "id": "YT9e04yWfq11",
        "colab_type": "code",
        "colab": {}
      },
      "source": [
        "df = prep_csv()\n",
        "df['busi_prof'] = ((df['occupation'].str.contains('Exec-managerial')) |\n",
        "                   (df['occupation'].str.contains('Prof-specialty')))"
      ],
      "execution_count": 0,
      "outputs": []
    },
    {
      "cell_type": "code",
      "metadata": {
        "id": "pG707rgohGfa",
        "colab_type": "code",
        "colab": {
          "base_uri": "https://localhost:8080/",
          "height": 300
        },
        "outputId": "e5b4fa97-1d9d-4121-ac33-f2e2740eb01f"
      },
      "source": [
        "df['income'] = (df['income'] == '<=50K')\n",
        "df.corr()"
      ],
      "execution_count": 73,
      "outputs": [
        {
          "output_type": "execute_result",
          "data": {
            "text/html": [
              "<div>\n",
              "<style scoped>\n",
              "    .dataframe tbody tr th:only-of-type {\n",
              "        vertical-align: middle;\n",
              "    }\n",
              "\n",
              "    .dataframe tbody tr th {\n",
              "        vertical-align: top;\n",
              "    }\n",
              "\n",
              "    .dataframe thead th {\n",
              "        text-align: right;\n",
              "    }\n",
              "</style>\n",
              "<table border=\"1\" class=\"dataframe\">\n",
              "  <thead>\n",
              "    <tr style=\"text-align: right;\">\n",
              "      <th></th>\n",
              "      <th>age</th>\n",
              "      <th>fnlwgt</th>\n",
              "      <th>education-num</th>\n",
              "      <th>capital-gain</th>\n",
              "      <th>capital-loss</th>\n",
              "      <th>hours-per-week</th>\n",
              "      <th>income</th>\n",
              "      <th>busi_prof</th>\n",
              "    </tr>\n",
              "  </thead>\n",
              "  <tbody>\n",
              "    <tr>\n",
              "      <th>age</th>\n",
              "      <td>1.000000</td>\n",
              "      <td>-0.076646</td>\n",
              "      <td>0.036527</td>\n",
              "      <td>0.077674</td>\n",
              "      <td>0.057775</td>\n",
              "      <td>0.068756</td>\n",
              "      <td>-0.234037</td>\n",
              "      <td>0.117210</td>\n",
              "    </tr>\n",
              "    <tr>\n",
              "      <th>fnlwgt</th>\n",
              "      <td>-0.076646</td>\n",
              "      <td>1.000000</td>\n",
              "      <td>-0.043195</td>\n",
              "      <td>0.000432</td>\n",
              "      <td>-0.010252</td>\n",
              "      <td>-0.018768</td>\n",
              "      <td>0.009463</td>\n",
              "      <td>-0.027052</td>\n",
              "    </tr>\n",
              "    <tr>\n",
              "      <th>education-num</th>\n",
              "      <td>0.036527</td>\n",
              "      <td>-0.043195</td>\n",
              "      <td>1.000000</td>\n",
              "      <td>0.122630</td>\n",
              "      <td>0.079923</td>\n",
              "      <td>0.148123</td>\n",
              "      <td>-0.335154</td>\n",
              "      <td>0.474480</td>\n",
              "    </tr>\n",
              "    <tr>\n",
              "      <th>capital-gain</th>\n",
              "      <td>0.077674</td>\n",
              "      <td>0.000432</td>\n",
              "      <td>0.122630</td>\n",
              "      <td>1.000000</td>\n",
              "      <td>-0.031615</td>\n",
              "      <td>0.078409</td>\n",
              "      <td>-0.223329</td>\n",
              "      <td>0.111544</td>\n",
              "    </tr>\n",
              "    <tr>\n",
              "      <th>capital-loss</th>\n",
              "      <td>0.057775</td>\n",
              "      <td>-0.010252</td>\n",
              "      <td>0.079923</td>\n",
              "      <td>-0.031615</td>\n",
              "      <td>1.000000</td>\n",
              "      <td>0.054256</td>\n",
              "      <td>-0.150526</td>\n",
              "      <td>0.072275</td>\n",
              "    </tr>\n",
              "    <tr>\n",
              "      <th>hours-per-week</th>\n",
              "      <td>0.068756</td>\n",
              "      <td>-0.018768</td>\n",
              "      <td>0.148123</td>\n",
              "      <td>0.078409</td>\n",
              "      <td>0.054256</td>\n",
              "      <td>1.000000</td>\n",
              "      <td>-0.229689</td>\n",
              "      <td>0.152224</td>\n",
              "    </tr>\n",
              "    <tr>\n",
              "      <th>income</th>\n",
              "      <td>-0.234037</td>\n",
              "      <td>0.009463</td>\n",
              "      <td>-0.335154</td>\n",
              "      <td>-0.223329</td>\n",
              "      <td>-0.150526</td>\n",
              "      <td>-0.229689</td>\n",
              "      <td>1.000000</td>\n",
              "      <td>-0.306207</td>\n",
              "    </tr>\n",
              "    <tr>\n",
              "      <th>busi_prof</th>\n",
              "      <td>0.117210</td>\n",
              "      <td>-0.027052</td>\n",
              "      <td>0.474480</td>\n",
              "      <td>0.111544</td>\n",
              "      <td>0.072275</td>\n",
              "      <td>0.152224</td>\n",
              "      <td>-0.306207</td>\n",
              "      <td>1.000000</td>\n",
              "    </tr>\n",
              "  </tbody>\n",
              "</table>\n",
              "</div>"
            ],
            "text/plain": [
              "                     age    fnlwgt  education-num  capital-gain  capital-loss  \\\n",
              "age             1.000000 -0.076646       0.036527      0.077674      0.057775   \n",
              "fnlwgt         -0.076646  1.000000      -0.043195      0.000432     -0.010252   \n",
              "education-num   0.036527 -0.043195       1.000000      0.122630      0.079923   \n",
              "capital-gain    0.077674  0.000432       0.122630      1.000000     -0.031615   \n",
              "capital-loss    0.057775 -0.010252       0.079923     -0.031615      1.000000   \n",
              "hours-per-week  0.068756 -0.018768       0.148123      0.078409      0.054256   \n",
              "income         -0.234037  0.009463      -0.335154     -0.223329     -0.150526   \n",
              "busi_prof       0.117210 -0.027052       0.474480      0.111544      0.072275   \n",
              "\n",
              "                hours-per-week    income  busi_prof  \n",
              "age                   0.068756 -0.234037   0.117210  \n",
              "fnlwgt               -0.018768  0.009463  -0.027052  \n",
              "education-num         0.148123 -0.335154   0.474480  \n",
              "capital-gain          0.078409 -0.223329   0.111544  \n",
              "capital-loss          0.054256 -0.150526   0.072275  \n",
              "hours-per-week        1.000000 -0.229689   0.152224  \n",
              "income               -0.229689  1.000000  -0.306207  \n",
              "busi_prof             0.152224 -0.306207   1.000000  "
            ]
          },
          "metadata": {
            "tags": []
          },
          "execution_count": 73
        }
      ]
    },
    {
      "cell_type": "code",
      "metadata": {
        "id": "CcAo3rDrhee6",
        "colab_type": "code",
        "colab": {
          "base_uri": "https://localhost:8080/",
          "height": 73
        },
        "outputId": "0bc665f3-bf06-47ee-a9e5-a5d634fb16ce"
      },
      "source": [
        "df['busi_prof'].value_counts()"
      ],
      "execution_count": 68,
      "outputs": [
        {
          "output_type": "execute_result",
          "data": {
            "text/plain": [
              "False    24355\n",
              "True      8206\n",
              "Name: busi_prof, dtype: int64"
            ]
          },
          "metadata": {
            "tags": []
          },
          "execution_count": 68
        }
      ]
    },
    {
      "cell_type": "code",
      "metadata": {
        "id": "UvcPY3ptiFB4",
        "colab_type": "code",
        "colab": {
          "base_uri": "https://localhost:8080/",
          "height": 355
        },
        "outputId": "98912076-6101-4f2c-c3e7-721902cd6886"
      },
      "source": [
        "df.groupby('workclass')['income'].value_counts(normalize=True)"
      ],
      "execution_count": 77,
      "outputs": [
        {
          "output_type": "execute_result",
          "data": {
            "text/plain": [
              "workclass          income\n",
              " ?                 True      0.895969\n",
              "                   False     0.104031\n",
              " Federal-gov       True      0.613542\n",
              "                   False     0.386458\n",
              " Local-gov         True      0.705208\n",
              "                   False     0.294792\n",
              " Never-worked      True      1.000000\n",
              " Private           True      0.781327\n",
              "                   False     0.218673\n",
              " Self-emp-inc      False     0.557348\n",
              "                   True      0.442652\n",
              " Self-emp-not-inc  True      0.715073\n",
              "                   False     0.284927\n",
              " State-gov         True      0.728043\n",
              "                   False     0.271957\n",
              " Without-pay       True      1.000000\n",
              "Name: income, dtype: float64"
            ]
          },
          "metadata": {
            "tags": []
          },
          "execution_count": 77
        }
      ]
    },
    {
      "cell_type": "code",
      "metadata": {
        "id": "NadanxiBi_1L",
        "colab_type": "code",
        "colab": {
          "base_uri": "https://localhost:8080/",
          "height": 186
        },
        "outputId": "c09efcc8-7509-4998-f244-d3759095a865"
      },
      "source": [
        "df['workclass'] = df['workclass'].str.strip().replace({'Without-pay':'No_income',\n",
        "                                                      'Never-worked':'No_income'})\n",
        "df['workclass'].value_counts()"
      ],
      "execution_count": 82,
      "outputs": [
        {
          "output_type": "execute_result",
          "data": {
            "text/plain": [
              "Private             22696\n",
              "Self-emp-not-inc     2541\n",
              "Local-gov            2093\n",
              "?                    1836\n",
              "State-gov            1298\n",
              "Self-emp-inc         1116\n",
              "Federal-gov           960\n",
              "No_income              21\n",
              "Name: workclass, dtype: int64"
            ]
          },
          "metadata": {
            "tags": []
          },
          "execution_count": 82
        }
      ]
    },
    {
      "cell_type": "code",
      "metadata": {
        "id": "TprVaOZsjlxP",
        "colab_type": "code",
        "colab": {
          "base_uri": "https://localhost:8080/",
          "height": 1201
        },
        "outputId": "6d4edad4-0cd9-40f7-de9e-1bf0ecd5c9d8"
      },
      "source": [
        "df.groupby(['education','marital-status'])['income'].value_counts(normalize=True)"
      ],
      "execution_count": 93,
      "outputs": [
        {
          "output_type": "execute_result",
          "data": {
            "text/plain": [
              "education      marital-status          income\n",
              " 10th           Divorced               <=50K     0.983333\n",
              "                                       >50K      0.016667\n",
              "                Married-civ-spouse     <=50K     0.842407\n",
              "                                       >50K      0.157593\n",
              "                Married-spouse-absent  <=50K     1.000000\n",
              "                Never-married          <=50K     0.991690\n",
              "                                       >50K      0.008310\n",
              "                Separated              <=50K     0.979592\n",
              "                                       >50K      0.020408\n",
              "                Widowed                <=50K     0.974359\n",
              "                                       >50K      0.025641\n",
              " 11th           Divorced               <=50K     0.938462\n",
              "                                       >50K      0.061538\n",
              "                Married-civ-spouse     <=50K     0.875706\n",
              "                                       >50K      0.124294\n",
              "                Married-spouse-absent  <=50K     1.000000\n",
              "                Never-married          <=50K     0.989761\n",
              "                                       >50K      0.010239\n",
              "                Separated              <=50K     1.000000\n",
              "                Widowed                <=50K     0.947368\n",
              "                                       >50K      0.052632\n",
              " 12th           Divorced               <=50K     0.948718\n",
              "                                       >50K      0.051282\n",
              "                Married-civ-spouse     <=50K     0.776923\n",
              "                                       >50K      0.223077\n",
              "                Married-spouse-absent  <=50K     1.000000\n",
              "                Never-married          <=50K     0.995690\n",
              "                                       >50K      0.004310\n",
              "                Separated              <=50K     1.000000\n",
              "                Widowed                <=50K     0.900000\n",
              "                                                   ...   \n",
              " Preschool      Married-spouse-absent  <=50K     1.000000\n",
              "                Never-married          <=50K     1.000000\n",
              "                Separated              <=50K     1.000000\n",
              "                Widowed                <=50K     1.000000\n",
              " Prof-school    Divorced               <=50K     0.509091\n",
              "                                       >50K      0.490909\n",
              "                Married-civ-spouse     >50K      0.839806\n",
              "                                       <=50K     0.160194\n",
              "                Married-spouse-absent  <=50K     0.666667\n",
              "                                       >50K      0.333333\n",
              "                Never-married          <=50K     0.548387\n",
              "                                       >50K      0.451613\n",
              "                Separated              >50K      0.750000\n",
              "                                       <=50K     0.250000\n",
              "                Widowed                <=50K     0.800000\n",
              "                                       >50K      0.200000\n",
              " Some-college   Divorced               <=50K     0.929841\n",
              "                                       >50K      0.070159\n",
              "                Married-AF-spouse      >50K      0.666667\n",
              "                                       <=50K     0.333333\n",
              "                Married-civ-spouse     <=50K     0.566004\n",
              "                                       >50K      0.433996\n",
              "                Married-spouse-absent  <=50K     0.921053\n",
              "                                       >50K      0.078947\n",
              "                Never-married          <=50K     0.981930\n",
              "                                       >50K      0.018070\n",
              "                Separated              <=50K     0.927273\n",
              "                                       >50K      0.072727\n",
              "                Widowed                <=50K     0.930233\n",
              "                                       >50K      0.069767\n",
              "Name: income, Length: 173, dtype: float64"
            ]
          },
          "metadata": {
            "tags": []
          },
          "execution_count": 93
        }
      ]
    },
    {
      "cell_type": "code",
      "metadata": {
        "id": "no4RHUV_mzZS",
        "colab_type": "code",
        "colab": {
          "base_uri": "https://localhost:8080/",
          "height": 73
        },
        "outputId": "9b99cfab-b11d-455d-8e96-a015afe91255"
      },
      "source": [
        "df['high_val_ed_and_home'] = ((df['education'].str.contains('Some-college') & df['marital-status'].str.contains('Married-civ-spouse')) |\n",
        "                              (df['education'].str.contains('Prof-school') & df['marital-status'].str.contains('Divorced')) |\n",
        "                              (df['education'].str.contains('Prof-school') & df['marital-status'].str.contains('Never-married')))\n",
        "df['high_val_ed_and_home'].value_counts()"
      ],
      "execution_count": 94,
      "outputs": [
        {
          "output_type": "execute_result",
          "data": {
            "text/plain": [
              "False    29595\n",
              "True      2966\n",
              "Name: high_val_ed_and_home, dtype: int64"
            ]
          },
          "metadata": {
            "tags": []
          },
          "execution_count": 94
        }
      ]
    },
    {
      "cell_type": "code",
      "metadata": {
        "id": "_H-vDzbBo607",
        "colab_type": "code",
        "colab": {
          "base_uri": "https://localhost:8080/",
          "height": 1201
        },
        "outputId": "b397f1bf-3459-47fc-a6f6-fcf2054afc35"
      },
      "source": [
        "df.groupby(['race','occupation'])['income'].value_counts()"
      ],
      "execution_count": 106,
      "outputs": [
        {
          "output_type": "execute_result",
          "data": {
            "text/plain": [
              "race                 occupation          income\n",
              " Amer-Indian-Eskimo   ?                  <=50K       23\n",
              "                                         >50K         2\n",
              "                      Adm-clerical       <=50K       28\n",
              "                                         >50K         3\n",
              "                      Armed-Forces       <=50K        1\n",
              "                      Craft-repair       <=50K       38\n",
              "                                         >50K         6\n",
              "                      Exec-managerial    <=50K       27\n",
              "                                         >50K         3\n",
              "                      Farming-fishing    <=50K       10\n",
              "                      Handlers-cleaners  <=50K       22\n",
              "                      Machine-op-inspct  <=50K       19\n",
              "                      Other-service      <=50K       31\n",
              "                                         >50K         2\n",
              "                      Prof-specialty     <=50K       22\n",
              "                                         >50K        11\n",
              "                      Protective-serv    <=50K        6\n",
              "                                         >50K         2\n",
              "                      Sales              <=50K       22\n",
              "                                         >50K         4\n",
              "                      Tech-support       <=50K        4\n",
              "                      Transport-moving   <=50K       22\n",
              "                                         >50K         3\n",
              " Asian-Pac-Islander   ?                  <=50K       60\n",
              "                                         >50K         5\n",
              "                      Adm-clerical       <=50K      117\n",
              "                                         >50K        22\n",
              "                      Craft-repair       <=50K       64\n",
              "                                         >50K        25\n",
              "                      Exec-managerial    <=50K       74\n",
              "                                                   ... \n",
              " White                ?                  <=50K     1342\n",
              "                                         >50K       173\n",
              "                      Adm-clerical       <=50K     2645\n",
              "                                         >50K       439\n",
              "                      Armed-Forces       <=50K        6\n",
              "                                         >50K         1\n",
              "                      Craft-repair       <=50K     2850\n",
              "                                         >50K       844\n",
              "                      Exec-managerial    <=50K     1828\n",
              "                                         >50K      1818\n",
              "                      Farming-fishing    <=50K      802\n",
              "                                         >50K       113\n",
              "                      Handlers-cleaners  <=50K     1060\n",
              "                                         >50K        74\n",
              "                      Machine-op-inspct  <=50K     1394\n",
              "                                         >50K       217\n",
              "                      Other-service      <=50K     2422\n",
              "                                         >50K       101\n",
              "                      Priv-house-serv    <=50K      113\n",
              "                                         >50K         1\n",
              "                      Prof-specialty     <=50K     1969\n",
              "                                         >50K      1682\n",
              "                      Protective-serv    <=50K      341\n",
              "                                         >50K       178\n",
              "                      Sales              <=50K     2313\n",
              "                                         >50K       924\n",
              "                      Tech-support       <=50K      548\n",
              "                                         >50K       258\n",
              "                      Transport-moving   <=50K     1066\n",
              "                                         >50K       294\n",
              "Name: income, Length: 130, dtype: int64"
            ]
          },
          "metadata": {
            "tags": []
          },
          "execution_count": 106
        }
      ]
    },
    {
      "cell_type": "code",
      "metadata": {
        "id": "AJ3vIdz9qnQA",
        "colab_type": "code",
        "colab": {}
      },
      "source": [
        "df['net_gain'] = df['capital-gain'] - df['capital-loss']"
      ],
      "execution_count": 0,
      "outputs": []
    },
    {
      "cell_type": "code",
      "metadata": {
        "id": "V2wNvevZvdRT",
        "colab_type": "code",
        "colab": {}
      },
      "source": [
        ""
      ],
      "execution_count": 0,
      "outputs": []
    }
  ]
}