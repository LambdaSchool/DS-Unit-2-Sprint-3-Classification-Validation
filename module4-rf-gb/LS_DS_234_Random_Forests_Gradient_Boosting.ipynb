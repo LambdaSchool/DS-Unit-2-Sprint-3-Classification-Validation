{
  "nbformat": 4,
  "nbformat_minor": 0,
  "metadata": {
    "colab": {
      "name": "LS_DS_234_Random_Forests_Gradient_Boosting.ipynb",
      "version": "0.3.2",
      "provenance": []
    },
    "language_info": {
      "codemirror_mode": {
        "name": "ipython",
        "version": 3
      },
      "file_extension": ".py",
      "mimetype": "text/x-python",
      "name": "python",
      "nbconvert_exporter": "python",
      "pygments_lexer": "ipython3",
      "version": "3.7.1"
    },
    "kernelspec": {
      "display_name": "Python 3",
      "language": "python",
      "name": "python3"
    }
  },
  "cells": [
    {
      "cell_type": "markdown",
      "metadata": {
        "id": "TTTvCXI-UU9t",
        "colab_type": "text"
      },
      "source": [
        "_Lambda School Data Science — Classification & Validation_ \n",
        "\n",
        "# Random Forests & Gradient Boosting"
      ]
    },
    {
      "cell_type": "markdown",
      "metadata": {
        "id": "y8QA5dy3UU9x",
        "colab_type": "text"
      },
      "source": [
        "#### Gradient Boosting and Random Forest are often the best choice for “Spreadsheet Machine Learning.”\n",
        "- Meaning, [Tree Ensembles often have the best predictive accuracy](https://arxiv.org/abs/1708.05070) for supervised learning with structured, tabular data.\n",
        "- Because trees can fit non-linear, non-monotonic relationships, and interactions between features.\n",
        "- A single decision tree, grown to unlimited depth, will overfit. We solve this problem by ensembling trees, with bagging or boosting.\n",
        "- One-hot encoding isn’t the only way, and may not be the best way, of categorical encoding for tree ensembles.\n",
        "\n"
      ]
    },
    {
      "cell_type": "markdown",
      "metadata": {
        "id": "zDHiASB-UU91",
        "colab_type": "text"
      },
      "source": [
        "### Links\n",
        "\n",
        "#### Decision Trees\n",
        "- A Visual Introduction to Machine Learning, [Part 1: A Decision Tree](http://www.r2d3.us/visual-intro-to-machine-learning-part-1/),  and [Part 2: Bias and Variance](http://www.r2d3.us/visual-intro-to-machine-learning-part-2/)\n",
        "- [Decision Trees: Advantages & Disadvantages](https://christophm.github.io/interpretable-ml-book/tree.html#advantages-2)\n",
        "- [How decision trees work](https://brohrer.github.io/how_decision_trees_work.html)\n",
        "- [How a Russian mathematician constructed a decision tree - by hand - to solve a medical problem](http://fastml.com/how-a-russian-mathematician-constructed-a-decision-tree-by-hand-to-solve-a-medical-problem/)\n",
        "- [Let’s Write a Decision Tree Classifier from Scratch](https://www.youtube.com/watch?v=LDRbO9a6XPU)\n",
        "\n",
        "#### Random Forests\n",
        "- [Random Forests for Complete Beginners: The definitive guide to Random Forests and Decision Trees](https://victorzhou.com/blog/intro-to-random-forests/)\n",
        "- [Coloring with Random Forests](http://structuringtheunstructured.blogspot.com/2017/11/coloring-with-random-forests.html)\n",
        "- [Beware Default Random Forest Importances](https://explained.ai/rf-importance/index.html)\n",
        "\n",
        "#### Gradient Boosting\n",
        "- [A Gentle Introduction to the Gradient Boosting Algorithm for Machine Learning](https://machinelearningmastery.com/gentle-introduction-gradient-boosting-algorithm-machine-learning/)\n",
        "- [A Kaggle Master Explains Gradient Boosting](http://blog.kaggle.com/2017/01/23/a-kaggle-master-explains-gradient-boosting/)\n",
        "- [How to explain gradient boosting](https://explained.ai/gradient-boosting/index.html)\n",
        "\n",
        "#### Python libraries for Gradient Boosting\n",
        "- [scikit-learn Gradient Tree Boosting](https://scikit-learn.org/stable/modules/ensemble.html#gradient-boosting) — slower than other libraries, but [the next version may be better](https://twitter.com/amuellerml/status/1123613520426426368)\n",
        "  - Anaconda: already installed\n",
        "  - Google Colab: already installed\n",
        "- [xgboost](https://xgboost.readthedocs.io/en/latest/) — can accept missing values and enforce [monotonic constraints](https://xiaoxiaowang87.github.io/monotonicity_constraint/)\n",
        "  - Anaconda, Mac/Linux: `conda install -c conda-forge xgboost`\n",
        "  - Windows: `pip install xgboost`\n",
        "  - Google Colab: already installed\n",
        "- [LightGBM](https://lightgbm.readthedocs.io/en/latest/) — can accept missing values and enforce [monotonic constraints](https://blog.datadive.net/monotonicity-constraints-in-machine-learning/)\n",
        "  - Anaconda: `conda install -c conda-forge lightgbm`\n",
        "  - Google Colab: already installed\n",
        "- [CatBoost](https://catboost.ai/) — can accept missing values and use [categorical features](https://catboost.ai/docs/concepts/algorithm-main-stages_cat-to-numberic.html) without preprocessing\n",
        "  - Anaconda: `conda install -c conda-forge catboost`\n",
        "  - Google Colab: `pip install catboost`\n",
        "\n",
        "#### Categorical encoding for trees\n",
        "- [Are categorical variables getting lost in your random forests?](https://roamanalytics.com/2016/10/28/are-categorical-variables-getting-lost-in-your-random-forests/)\n",
        "- [Beyond One-Hot: An Exploration of Categorical Variables](http://www.willmcginnis.com/2015/11/29/beyond-one-hot-an-exploration-of-categorical-variables/)\n",
        "- [Categorical Features and Encoding in Decision Trees](https://medium.com/data-design/visiting-categorical-features-and-encoding-in-decision-trees-53400fa65931)\n",
        "- [Coursera — How to Win a Data Science Competition: Learn from Top Kagglers — Concept of mean encoding](https://www.coursera.org/lecture/competitive-data-science/concept-of-mean-encoding-b5Gxv)\n",
        "- [Mean (likelihood) encodings: a comprehensive study](https://www.kaggle.com/vprokopev/mean-likelihood-encodings-a-comprehensive-study)\n",
        "- [The Mechanics of Machine Learning, Chapter 6: Categorically Speaking](https://mlbook.explained.ai/catvars.html)"
      ]
    },
    {
      "cell_type": "code",
      "metadata": {
        "id": "nJY8JxgjXHdU",
        "colab_type": "code",
        "colab": {
          "base_uri": "https://localhost:8080/",
          "height": 440
        },
        "outputId": "ad742930-c98d-4e3b-cc26-6a6a554e1705"
      },
      "source": [
        "!pip install catboost"
      ],
      "execution_count": 3,
      "outputs": [
        {
          "output_type": "stream",
          "text": [
            "Collecting catboost\n",
            "\u001b[?25l  Downloading https://files.pythonhosted.org/packages/2f/c4/f130237b24efd1941cb685da12496675a90045129b66774751f1bf629dfd/catboost-0.14.2-cp36-none-manylinux1_x86_64.whl (60.6MB)\n",
            "\u001b[K     |████████████████████████████████| 60.6MB 564kB/s \n",
            "\u001b[?25hRequirement already satisfied: enum34 in /usr/local/lib/python3.6/dist-packages (from catboost) (1.1.6)\n",
            "Requirement already satisfied: numpy>=1.11.1 in /usr/local/lib/python3.6/dist-packages (from catboost) (1.16.3)\n",
            "Requirement already satisfied: pandas>=0.19.1 in /usr/local/lib/python3.6/dist-packages (from catboost) (0.24.2)\n",
            "Requirement already satisfied: graphviz in /usr/local/lib/python3.6/dist-packages (from catboost) (0.10.1)\n",
            "Requirement already satisfied: six in /usr/local/lib/python3.6/dist-packages (from catboost) (1.12.0)\n",
            "Requirement already satisfied: python-dateutil>=2.5.0 in /usr/local/lib/python3.6/dist-packages (from pandas>=0.19.1->catboost) (2.5.3)\n",
            "Requirement already satisfied: pytz>=2011k in /usr/local/lib/python3.6/dist-packages (from pandas>=0.19.1->catboost) (2018.9)\n",
            "Installing collected packages: catboost\n",
            "Successfully installed catboost-0.14.2\n"
          ],
          "name": "stdout"
        }
      ]
    },
    {
      "cell_type": "markdown",
      "metadata": {
        "id": "CxicF0WoUU97",
        "colab_type": "text"
      },
      "source": [
        "# Golf Putts (regression, 1 feature, non-linear)\n",
        "\n",
        "https://statmodeling.stat.columbia.edu/2008/12/04/the_golf_puttin/"
      ]
    },
    {
      "cell_type": "code",
      "metadata": {
        "id": "RqulogSHUU9_",
        "colab_type": "code",
        "colab": {}
      },
      "source": [
        "%matplotlib inline\n",
        "from ipywidgets import interact\n",
        "import matplotlib.pyplot as plt\n",
        "import numpy as np\n",
        "import pandas as pd\n",
        "\n",
        "putts = pd.DataFrame(\n",
        "    columns=['distance', 'tries', 'successes'], \n",
        "    data = [[2, 1443, 1346],\n",
        "            [3, 694, 577],\n",
        "            [4, 455, 337],\n",
        "            [5, 353, 208],\n",
        "            [6, 272, 149],\n",
        "            [7, 256, 136],\n",
        "            [8, 240, 111],\n",
        "            [9, 217, 69],\n",
        "            [10, 200, 67],\n",
        "            [11, 237, 75],\n",
        "            [12, 202, 52],\n",
        "            [13, 192, 46],\n",
        "            [14, 174, 54],\n",
        "            [15, 167, 28],\n",
        "            [16, 201, 27],\n",
        "            [17, 195, 31],\n",
        "            [18, 191, 33],\n",
        "            [19, 147, 20],\n",
        "            [20, 152, 24]]\n",
        ")\n",
        "\n",
        "putts['rate of success'] = putts['successes'] / putts['tries']\n",
        "putts_X = putts[['distance']]\n",
        "putts_y = putts['rate of success']"
      ],
      "execution_count": 0,
      "outputs": []
    },
    {
      "cell_type": "markdown",
      "metadata": {
        "id": "-PbNywZvUU-K",
        "colab_type": "text"
      },
      "source": [
        "#### Docs\n",
        "- [Scikit-Learn User Guide: Random Forests](https://scikit-learn.org/stable/modules/ensemble.html#random-forests) (`from sklearn.ensemble import RandomForestRegressor, RandomForestClassifier`)\n",
        "- [XGBoost Python API Reference: Scikit-Learn API](https://xgboost.readthedocs.io/en/latest/python/python_api.html#module-xgboost.sklearn) (`from xgboost import XGBRegressor, XGBClassifier`)"
      ]
    },
    {
      "cell_type": "code",
      "metadata": {
        "id": "QEAv5jojUU-M",
        "colab_type": "code",
        "colab": {
          "base_uri": "https://localhost:8080/",
          "height": 939
        },
        "outputId": "33bf8376-63f3-4c7d-d37b-925a60b9ce61"
      },
      "source": [
        "from sklearn.ensemble import RandomForestRegressor\n",
        "from sklearn.tree import DecisionTreeRegressor\n",
        "from xgboost import XGBRegressor\n",
        "\n",
        "def putt_trees(max_depth=1, n_estimators=1):\n",
        "    models = [DecisionTreeRegressor(max_depth=max_depth), \n",
        "              RandomForestRegressor(max_depth=max_depth, n_estimators=n_estimators), \n",
        "              XGBRegressor(max_depth=max_depth, n_estimators=n_estimators)]\n",
        "    \n",
        "    for model in models:\n",
        "        name = model.__class__.__name__\n",
        "        model.fit(putts_X, putts_y)\n",
        "        ax = putts.plot('distance', 'rate of success', kind='scatter', title=name)\n",
        "        ax.step(putts_X, model.predict(putts_X), where='mid')\n",
        "        plt.show()\n",
        "        \n",
        "putt_trees(max_depth=2, n_estimators=40)"
      ],
      "execution_count": 19,
      "outputs": [
        {
          "output_type": "display_data",
          "data": {
            "image/png": "[encoded data removed]",
            "text/plain": [
              "<Figure size 432x288 with 1 Axes>"
            ]
          },
          "metadata": {
            "tags": []
          }
        },
        {
          "output_type": "display_data",
          "data": {
            "image/png": "[encoded data removed]",
            "text/plain": [
              "<Figure size 432x288 with 1 Axes>"
            ]
          },
          "metadata": {
            "tags": []
          }
        },
        {
          "output_type": "stream",
          "text": [
            "/usr/local/lib/python3.6/dist-packages/xgboost/core.py:587: FutureWarning: Series.base is deprecated and will be removed in a future version\n",
            "  if getattr(data, 'base', None) is not None and \\\n",
            "/usr/local/lib/python3.6/dist-packages/xgboost/core.py:588: FutureWarning: Series.base is deprecated and will be removed in a future version\n",
            "  data.base is not None and isinstance(data, np.ndarray) \\\n"
          ],
          "name": "stderr"
        },
        {
          "output_type": "display_data",
          "data": {
            "image/png": "[encoded data removed]",
            "text/plain": [
              "<Figure size 432x288 with 1 Axes>"
            ]
          },
          "metadata": {
            "tags": []
          }
        }
      ]
    },
    {
      "cell_type": "markdown",
      "metadata": {
        "id": "EhJaEU4EUU-T",
        "colab_type": "text"
      },
      "source": [
        "### Bagging\n",
        "https://pandas.pydata.org/pandas-docs/stable/reference/api/pandas.DataFrame.sample.html"
      ]
    },
    {
      "cell_type": "code",
      "metadata": {
        "scrolled": false,
        "id": "MJk73_teUU-W",
        "colab_type": "code",
        "colab": {
          "base_uri": "https://localhost:8080/",
          "height": 851
        },
        "outputId": "e7ed088d-63a1-4b20-e454-50dbb1c38488"
      },
      "source": [
        "# Do-it-yourself Bagging Ensemble of Decision Trees (like a Random Forest)\n",
        "def diy_bagging(max_depth=1, n_estimators=1):\n",
        "    y_preds = []\n",
        "    for i in range(n_estimators):\n",
        "        title = f'Tree {i+1}'\n",
        "        bootstrap_sample = putts.sample(n=len(putts), replace=True).sort_values(by='distance')\n",
        "        bootstrap_X = bootstrap_sample[['distance']]\n",
        "        bootstrap_y = bootstrap_sample['rate of success']\n",
        "        tree = DecisionTreeRegressor(max_depth=max_depth)\n",
        "        tree.fit(bootstrap_X, bootstrap_y)\n",
        "        y_pred = tree.predict(bootstrap_X)\n",
        "        y_preds.append(y_pred)\n",
        "        ax = bootstrap_sample.plot('distance', 'rate of success', kind='scatter', title=title)\n",
        "        ax.step(bootstrap_X, y_pred, where='mid')\n",
        "        plt.show()\n",
        "        \n",
        "    ensembled = np.vstack(y_preds).mean(axis=0)\n",
        "    title = f'Ensemble of {n_estimators} trees, with max_depth={max_depth}'\n",
        "    ax = putts.plot('distance', 'rate of success', kind='scatter', title=title)\n",
        "    ax.step(putts_X, ensembled, where='mid')\n",
        "    plt.show()\n",
        "    \n",
        "diy_bagging(max_depth=(1), n_estimators=(2))"
      ],
      "execution_count": 24,
      "outputs": [
        {
          "output_type": "display_data",
          "data": {
            "image/png": "[encoded data removed]",
            "text/plain": [
              "<Figure size 432x288 with 1 Axes>"
            ]
          },
          "metadata": {
            "tags": []
          }
        },
        {
          "output_type": "display_data",
          "data": {
            "image/png": "[encoded data removed]",
            "text/plain": [
              "<Figure size 432x288 with 1 Axes>"
            ]
          },
          "metadata": {
            "tags": []
          }
        },
        {
          "output_type": "display_data",
          "data": {
            "image/png": "[encoded data removed]",
            "text/plain": [
              "<Figure size 432x288 with 1 Axes>"
            ]
          },
          "metadata": {
            "tags": []
          }
        }
      ]
    },
    {
      "cell_type": "markdown",
      "metadata": {
        "id": "_pTGV89uUU-f",
        "colab_type": "text"
      },
      "source": [
        "### What's \"random\" about random forests?\n",
        "1. Each tree trains on a random bootstrap sample of the data. (In scikit-learn, for `RandomForestRegressor` and `RandomForestClassifier`, the `bootstrap` parameter's default is `True`.) This type of ensembling is called Bagging.\n",
        "2. Each split considers a random subset of the features. (In scikit-learn, when the `max_features` parameter is not `None`.) \n",
        "\n",
        "For extra randomness, you can try [\"extremely randomized trees\"](https://scikit-learn.org/stable/modules/ensemble.html#extremely-randomized-trees)!\n",
        "\n",
        ">In extremely randomized trees (see [ExtraTreesClassifier](https://scikit-learn.org/stable/modules/generated/sklearn.ensemble.ExtraTreesClassifier.html) and [ExtraTreesRegressor](https://scikit-learn.org/stable/modules/generated/sklearn.ensemble.ExtraTreesRegressor.html) classes), randomness goes one step further in the way splits are computed. As in random forests, a random subset of candidate features is used, but instead of looking for the most discriminative thresholds, thresholds are drawn at random for each candidate feature and the best of these randomly-generated thresholds is picked as the splitting rule. This usually allows to reduce the variance of the model a bit more, at the expense of a slightly greater increase in bias"
      ]
    },
    {
      "cell_type": "markdown",
      "metadata": {
        "id": "OLQ5Bb1TUU-h",
        "colab_type": "text"
      },
      "source": [
        "### Boosting \n",
        "\n",
        "Boosting (used by Gradient Boosting) is different than Bagging (used by Random Forests). \n",
        "\n",
        "[_An Introduction to Statistical Learning_](http://www-bcf.usc.edu/~gareth/ISL/ISLR%20Seventh%20Printing.pdf) Chapter 8.2.3, Boosting:\n",
        "\n",
        ">Recall that bagging involves creating multiple copies of the original training data set using the bootstrap, fitting a separate decision tree to each copy, and then combining all of the trees in order to create a single predictive model.\n",
        "\n",
        ">**Boosting works in a similar way, except that the trees are grown _sequentially_: each tree is grown using information from previously grown trees.**\n",
        "\n",
        ">Unlike fitting a single large decision tree to the data, which amounts to _fitting the data hard_ and potentially overfitting, the boosting approach instead _learns slowly._ Given the current model, we fit a decision tree to the residuals from the model.\n",
        "\n",
        ">We then add this new decision tree into the fitted function in order to update the residuals. Each of these trees can be rather small, with just a few terminal nodes. **By fitting small trees to the residuals, we slowly improve fˆ in areas where it does not perform well.**\n",
        "\n",
        ">Note that in boosting, unlike in bagging, the construction of each tree depends strongly on the trees that have already been grown."
      ]
    },
    {
      "cell_type": "markdown",
      "metadata": {
        "id": "qkFrsXhaUU-k",
        "colab_type": "text"
      },
      "source": [
        "# Wave (regression, 1 feature, non-monotonic, train/test split)\n",
        "\n",
        "http://scikit-learn.org/stable/auto_examples/tree/plot_tree_regression.html"
      ]
    },
    {
      "cell_type": "code",
      "metadata": {
        "id": "6v7HWr_fUU-l",
        "colab_type": "code",
        "colab": {}
      },
      "source": [
        "from sklearn.model_selection import train_test_split\n",
        "\n",
        "def make_data():\n",
        "    import numpy as np\n",
        "    rng = np.random.RandomState(1)\n",
        "    X = np.sort(5 * rng.rand(80, 1), axis=0)\n",
        "    y = np.sin(X).ravel()\n",
        "    y[::5] += 2 * (0.5 - rng.rand(16))\n",
        "    return X, y\n",
        "\n",
        "wave_X, wave_y = make_data()\n",
        "wave_X_train, wave_X_test, wave_y_train, wave_y_test = train_test_split(\n",
        "    wave_X, wave_y, test_size=0.25, random_state=42)"
      ],
      "execution_count": 0,
      "outputs": []
    },
    {
      "cell_type": "code",
      "metadata": {
        "id": "HvePF0dCUU-y",
        "colab_type": "code",
        "colab": {
          "base_uri": "https://localhost:8080/",
          "height": 875
        },
        "outputId": "05cabfca-96a4-4811-ed90-66a5386fd9b6"
      },
      "source": [
        "def wave_trees(max_depth=1, n_estimators=10):\n",
        "    models = [DecisionTreeRegressor(max_depth=max_depth), \n",
        "              RandomForestRegressor(max_depth=max_depth, n_estimators=n_estimators), \n",
        "              XGBRegressor(max_depth=max_depth, n_estimators=n_estimators)]\n",
        "    \n",
        "    for model in models:\n",
        "        name = model.__class__.__name__\n",
        "        model.fit(wave_X_train, wave_y_train)\n",
        "        print(f'{name} Train R^2 score:', model.score(wave_X_train, wave_y_train))\n",
        "        print(f'{name} Test R^2 score:', model.score(wave_X_test, wave_y_test))\n",
        "        plt.scatter(wave_X_train, wave_y_train)\n",
        "        plt.scatter(wave_X_test, wave_y_test)\n",
        "        plt.step(wave_X, model.predict(wave_X), where='mid')\n",
        "        plt.show()\n",
        "        \n",
        "wave_trees(max_depth=1, n_estimators=10)"
      ],
      "execution_count": 27,
      "outputs": [
        {
          "output_type": "stream",
          "text": [
            "DecisionTreeRegressor Train R^2 score: 0.792997651222868\n",
            "DecisionTreeRegressor Test R^2 score: 0.5800650423498697\n"
          ],
          "name": "stdout"
        },
        {
          "output_type": "display_data",
          "data": {
            "image/png": "[encoded data removed]",
            "text/plain": [
              "<Figure size 432x288 with 1 Axes>"
            ]
          },
          "metadata": {
            "tags": []
          }
        },
        {
          "output_type": "stream",
          "text": [
            "RandomForestRegressor Train R^2 score: 0.7928887779054836\n",
            "RandomForestRegressor Test R^2 score: 0.5777580520593167\n"
          ],
          "name": "stdout"
        },
        {
          "output_type": "display_data",
          "data": {
            "image/png": "[encoded data removed]",
            "text/plain": [
              "<Figure size 432x288 with 1 Axes>"
            ]
          },
          "metadata": {
            "tags": []
          }
        },
        {
          "output_type": "stream",
          "text": [
            "XGBRegressor Train R^2 score: 0.6682551998118342\n",
            "XGBRegressor Test R^2 score: 0.4119790470419732\n"
          ],
          "name": "stdout"
        },
        {
          "output_type": "display_data",
          "data": {
            "image/png": "[encoded data removed]",
            "text/plain": [
              "<Figure size 432x288 with 1 Axes>"
            ]
          },
          "metadata": {
            "tags": []
          }
        }
      ]
    },
    {
      "cell_type": "markdown",
      "metadata": {
        "id": "d862oSENUU-4",
        "colab_type": "text"
      },
      "source": [
        "# Titanic (classification, 2 features, interactions, non-linear / non-monotonic)\n",
        "\n",
        "#### viz2D helper function"
      ]
    },
    {
      "cell_type": "code",
      "metadata": {
        "id": "QeVTWuaHUU-6",
        "colab_type": "code",
        "colab": {}
      },
      "source": [
        "def viz2D(fitted_model, X, feature1, feature2, num=100, title=''):\n",
        "    \"\"\"\n",
        "    Visualize model predictions as a 2D heatmap\n",
        "    For regression or binary classification models, fitted on 2 features\n",
        "    \n",
        "    Parameters\n",
        "    ----------\n",
        "    fitted_model : scikit-learn model, already fitted\n",
        "    df : pandas dataframe, which was used to fit model\n",
        "    feature1 : string, name of feature 1\n",
        "    feature2 : string, name of feature 2\n",
        "    target : string, name of target\n",
        "    num : int, number of grid points for each feature\n",
        "    \n",
        "    Returns\n",
        "    -------\n",
        "    predictions: numpy array, predictions/predicted probabilities at each grid point\n",
        "    \n",
        "    References\n",
        "    ----------\n",
        "    https://scikit-learn.org/stable/auto_examples/classification/plot_classification_probability.html\n",
        "    https://jakevdp.github.io/PythonDataScienceHandbook/04.04-density-and-contour-plots.html\n",
        "    \"\"\"\n",
        "    x1 = np.linspace(X[feature1].min(), X[feature1].max(), num)\n",
        "    x2 = np.linspace(X[feature2].min(), X[feature2].max(), num)\n",
        "    X1, X2 = np.meshgrid(x1, x2)\n",
        "    X = np.c_[X1.flatten(), X2.flatten()]\n",
        "    if hasattr(fitted_model, 'predict_proba'):\n",
        "        predicted = fitted_model.predict_proba(X)[:,1]\n",
        "    else:\n",
        "        predicted = fitted_model.predict(X)\n",
        "    \n",
        "    plt.imshow(predicted.reshape(num, num), cmap='viridis')\n",
        "    plt.title(title)\n",
        "    plt.xlabel(feature1)\n",
        "    plt.ylabel(feature2)\n",
        "    plt.xticks([])\n",
        "    plt.yticks([])\n",
        "    plt.colorbar()\n",
        "    plt.show()\n",
        "    return predicted"
      ],
      "execution_count": 0,
      "outputs": []
    },
    {
      "cell_type": "code",
      "metadata": {
        "id": "80bzUgh7n2ge",
        "colab_type": "code",
        "colab": {
          "base_uri": "https://localhost:8080/",
          "height": 350
        },
        "outputId": "54f31930-ff51-4f33-fcc0-4ccdd2417248"
      },
      "source": [
        "!pip install category_encoders"
      ],
      "execution_count": 30,
      "outputs": [
        {
          "output_type": "stream",
          "text": [
            "Collecting category_encoders\n",
            "\u001b[?25l  Downloading https://files.pythonhosted.org/packages/6e/a1/f7a22f144f33be78afeb06bfa78478e8284a64263a3c09b1ef54e673841e/category_encoders-2.0.0-py2.py3-none-any.whl (87kB)\n",
            "\u001b[K     |████████████████████████████████| 92kB 5.9MB/s \n",
            "\u001b[?25hRequirement already satisfied: patsy>=0.4.1 in /usr/local/lib/python3.6/dist-packages (from category_encoders) (0.5.1)\n",
            "Requirement already satisfied: scipy>=0.19.0 in /usr/local/lib/python3.6/dist-packages (from category_encoders) (1.2.1)\n",
            "Requirement already satisfied: numpy>=1.11.3 in /usr/local/lib/python3.6/dist-packages (from category_encoders) (1.16.3)\n",
            "Requirement already satisfied: statsmodels>=0.6.1 in /usr/local/lib/python3.6/dist-packages (from category_encoders) (0.9.0)\n",
            "Requirement already satisfied: scikit-learn>=0.20.0 in /usr/local/lib/python3.6/dist-packages (from category_encoders) (0.20.3)\n",
            "Requirement already satisfied: pandas>=0.21.1 in /usr/local/lib/python3.6/dist-packages (from category_encoders) (0.24.2)\n",
            "Requirement already satisfied: six in /usr/local/lib/python3.6/dist-packages (from patsy>=0.4.1->category_encoders) (1.12.0)\n",
            "Requirement already satisfied: pytz>=2011k in /usr/local/lib/python3.6/dist-packages (from pandas>=0.21.1->category_encoders) (2018.9)\n",
            "Requirement already satisfied: python-dateutil>=2.5.0 in /usr/local/lib/python3.6/dist-packages (from pandas>=0.21.1->category_encoders) (2.5.3)\n",
            "Installing collected packages: category-encoders\n",
            "Successfully installed category-encoders-2.0.0\n"
          ],
          "name": "stdout"
        }
      ]
    },
    {
      "cell_type": "markdown",
      "metadata": {
        "id": "31hudbdSUU--",
        "colab_type": "text"
      },
      "source": [
        "### Read data, encode categorical feature, impute missing values"
      ]
    },
    {
      "cell_type": "code",
      "metadata": {
        "id": "s4uLhiYQUU_A",
        "colab_type": "code",
        "colab": {
          "base_uri": "https://localhost:8080/",
          "height": 204
        },
        "outputId": "879e7be3-5d6c-465a-f583-f155e7f76dee"
      },
      "source": [
        "import category_encoders as ce\n",
        "import seaborn as sns\n",
        "from sklearn.impute import SimpleImputer\n",
        "from sklearn.pipeline import make_pipeline\n",
        "\n",
        "titanic = sns.load_dataset('titanic')\n",
        "features = ['age', 'sex']\n",
        "target = 'survived'\n",
        "\n",
        "preprocessor = make_pipeline(ce.OrdinalEncoder(), SimpleImputer())\n",
        "X = preprocessor.fit_transform(titanic[features])\n",
        "X = pd.DataFrame(X, columns=features)\n",
        "y = titanic[target]\n",
        "\n",
        "X.head()"
      ],
      "execution_count": 31,
      "outputs": [
        {
          "output_type": "execute_result",
          "data": {
            "text/html": [
              "<div>\n",
              "<style scoped>\n",
              "    .dataframe tbody tr th:only-of-type {\n",
              "        vertical-align: middle;\n",
              "    }\n",
              "\n",
              "    .dataframe tbody tr th {\n",
              "        vertical-align: top;\n",
              "    }\n",
              "\n",
              "    .dataframe thead th {\n",
              "        text-align: right;\n",
              "    }\n",
              "</style>\n",
              "<table border=\"1\" class=\"dataframe\">\n",
              "  <thead>\n",
              "    <tr style=\"text-align: right;\">\n",
              "      <th></th>\n",
              "      <th>age</th>\n",
              "      <th>sex</th>\n",
              "    </tr>\n",
              "  </thead>\n",
              "  <tbody>\n",
              "    <tr>\n",
              "      <th>0</th>\n",
              "      <td>22.0</td>\n",
              "      <td>1.0</td>\n",
              "    </tr>\n",
              "    <tr>\n",
              "      <th>1</th>\n",
              "      <td>38.0</td>\n",
              "      <td>2.0</td>\n",
              "    </tr>\n",
              "    <tr>\n",
              "      <th>2</th>\n",
              "      <td>26.0</td>\n",
              "      <td>2.0</td>\n",
              "    </tr>\n",
              "    <tr>\n",
              "      <th>3</th>\n",
              "      <td>35.0</td>\n",
              "      <td>2.0</td>\n",
              "    </tr>\n",
              "    <tr>\n",
              "      <th>4</th>\n",
              "      <td>35.0</td>\n",
              "      <td>1.0</td>\n",
              "    </tr>\n",
              "  </tbody>\n",
              "</table>\n",
              "</div>"
            ],
            "text/plain": [
              "    age  sex\n",
              "0  22.0  1.0\n",
              "1  38.0  2.0\n",
              "2  26.0  2.0\n",
              "3  35.0  2.0\n",
              "4  35.0  1.0"
            ]
          },
          "metadata": {
            "tags": []
          },
          "execution_count": 31
        }
      ]
    },
    {
      "cell_type": "markdown",
      "metadata": {
        "id": "08spYERxUU_F",
        "colab_type": "text"
      },
      "source": [
        "### Logistic Regression"
      ]
    },
    {
      "cell_type": "code",
      "metadata": {
        "id": "sbqd593kUU_G",
        "colab_type": "code",
        "colab": {
          "base_uri": "https://localhost:8080/",
          "height": 278
        },
        "outputId": "b199bae4-5ef2-4dcf-c0bf-b22634dde316"
      },
      "source": [
        "from sklearn.linear_model import LogisticRegression\n",
        "lr = LogisticRegression(solver='lbfgs')\n",
        "lr.fit(X, y)\n",
        "viz2D(lr, X, feature1='age', feature2='sex', title='Logistic Regression');"
      ],
      "execution_count": 32,
      "outputs": [
        {
          "output_type": "display_data",
          "data": {
            "image/png": "[encoded data removed]",
            "text/plain": [
              "<Figure size 432x288 with 2 Axes>"
            ]
          },
          "metadata": {
            "tags": []
          }
        }
      ]
    },
    {
      "cell_type": "markdown",
      "metadata": {
        "id": "slyiPONaUU_M",
        "colab_type": "text"
      },
      "source": [
        "### Decision Tree, Random Forest, Gradient Boosting\n",
        "\n",
        "#### Docs\n",
        "- [Scikit-Learn User Guide: Random Forests](https://scikit-learn.org/stable/modules/ensemble.html#random-forests) (`from sklearn.ensemble import RandomForestRegressor, RandomForestClassifier`)\n",
        "- [XGBoost Python API Reference: Scikit-Learn API](https://xgboost.readthedocs.io/en/latest/python/python_api.html#module-xgboost.sklearn) (`from xgboost import XGBRegressor, XGBClassifier`)"
      ]
    },
    {
      "cell_type": "code",
      "metadata": {
        "id": "sbhZ7qYiUU_N",
        "colab_type": "code",
        "colab": {
          "base_uri": "https://localhost:8080/",
          "height": 800
        },
        "outputId": "9254972f-f7ee-4e2a-98e4-d6f90f95bda0"
      },
      "source": [
        "from sklearn.ensemble import RandomForestClassifier\n",
        "from sklearn.tree import DecisionTreeClassifier\n",
        "from xgboost import XGBClassifier\n",
        "\n",
        "def titanic_trees(max_depth=1, n_estimators=1):\n",
        "    models = [DecisionTreeClassifier(max_depth=max_depth), \n",
        "              RandomForestClassifier(max_depth=max_depth, n_estimators=n_estimators), \n",
        "              XGBClassifier(max_depth=max_depth, n_estimators=n_estimators)]\n",
        "    \n",
        "    for model in models:\n",
        "        name = model.__class__.__name__\n",
        "        model.fit(X.values, y.values)\n",
        "        viz2D(model, X, feature1='age', feature2='sex', title=name)\n",
        "        \n",
        "titanic_trees(max_depth=2, n_estimators=10)"
      ],
      "execution_count": 43,
      "outputs": [
        {
          "output_type": "display_data",
          "data": {
            "image/png": "[encoded data removed]",
            "text/plain": [
              "<Figure size 432x288 with 2 Axes>"
            ]
          },
          "metadata": {
            "tags": []
          }
        },
        {
          "output_type": "display_data",
          "data": {
            "image/png": "[encoded data removed]",
            "text/plain": [
              "<Figure size 432x288 with 2 Axes>"
            ]
          },
          "metadata": {
            "tags": []
          }
        },
        {
          "output_type": "display_data",
          "data": {
            "image/png": "[encoded data removed]",
            "text/plain": [
              "<Figure size 432x288 with 2 Axes>"
            ]
          },
          "metadata": {
            "tags": []
          }
        }
      ]
    },
    {
      "cell_type": "markdown",
      "metadata": {
        "id": "EB0N9ZuhUU_Q",
        "colab_type": "text"
      },
      "source": [
        "### Bagging"
      ]
    },
    {
      "cell_type": "code",
      "metadata": {
        "id": "ro3YRwbeUU_R",
        "colab_type": "code",
        "colab": {
          "base_uri": "https://localhost:8080/",
          "height": 2888
        },
        "outputId": "9d23b07d-5a7c-453c-dcd9-f550fcaf3edb"
      },
      "source": [
        "# Do-it-yourself Bagging Ensemble of Decision Trees (like a Random Forest)\n",
        "\n",
        "def titanic_bagging(max_depth=1, n_estimators=1):\n",
        "    predicteds = []\n",
        "    for i in range(n_estimators):\n",
        "        title = f'Tree {i+1}'\n",
        "        bootstrap_sample = titanic.sample(n=len(titanic), replace=True)\n",
        "        preprocessor = make_pipeline(ce.OrdinalEncoder(), SimpleImputer())\n",
        "        bootstrap_X = preprocessor.fit_transform(bootstrap_sample[['age', 'sex']])\n",
        "        bootstrap_y = bootstrap_sample['survived']\n",
        "        tree = DecisionTreeClassifier(max_depth=max_depth)\n",
        "        tree.fit(bootstrap_X, bootstrap_y)\n",
        "        predicted = viz2D(tree, X, feature1='age', feature2='sex', title=title)\n",
        "        predicteds.append(predicted)\n",
        "    \n",
        "    ensembled = np.vstack(predicteds).mean(axis=0)\n",
        "    title = f'Ensemble of {n_estimators} trees, with max_depth={max_depth}'\n",
        "    plt.imshow(ensembled.reshape(100, 100), cmap='viridis')\n",
        "    plt.title(title)\n",
        "    plt.xlabel('age')\n",
        "    plt.ylabel('sex')\n",
        "    plt.xticks([])\n",
        "    plt.yticks([])\n",
        "    plt.colorbar()\n",
        "    plt.show()\n",
        "        \n",
        "titanic_bagging(max_depth=2, n_estimators=10)"
      ],
      "execution_count": 42,
      "outputs": [
        {
          "output_type": "display_data",
          "data": {
            "image/png": "[encoded data removed]",
            "text/plain": [
              "<Figure size 432x288 with 2 Axes>"
            ]
          },
          "metadata": {
            "tags": []
          }
        },
        {
          "output_type": "display_data",
          "data": {
            "image/png": "[encoded data removed]",
            "text/plain": [
              "<Figure size 432x288 with 2 Axes>"
            ]
          },
          "metadata": {
            "tags": []
          }
        },
        {
          "output_type": "display_data",
          "data": {
            "image/png": "[encoded data removed]",
            "text/plain": [
              "<Figure size 432x288 with 2 Axes>"
            ]
          },
          "metadata": {
            "tags": []
          }
        },
        {
          "output_type": "display_data",
          "data": {
            "image/png": "[encoded data removed]",
            "text/plain": [
              "<Figure size 432x288 with 2 Axes>"
            ]
          },
          "metadata": {
            "tags": []
          }
        },
        {
          "output_type": "display_data",
          "data": {
            "image/png": "[encoded data removed]",
            "text/plain": [
              "<Figure size 432x288 with 2 Axes>"
            ]
          },
          "metadata": {
            "tags": []
          }
        },
        {
          "output_type": "display_data",
          "data": {
            "image/png": "[encoded data removed]",
            "text/plain": [
              "<Figure size 432x288 with 2 Axes>"
            ]
          },
          "metadata": {
            "tags": []
          }
        },
        {
          "output_type": "display_data",
          "data": {
            "image/png": "[encoded data removed]",
            "text/plain": [
              "<Figure size 432x288 with 2 Axes>"
            ]
          },
          "metadata": {
            "tags": []
          }
        },
        {
          "output_type": "display_data",
          "data": {
            "image/png": "[encoded data removed]",
            "text/plain": [
              "<Figure size 432x288 with 2 Axes>"
            ]
          },
          "metadata": {
            "tags": []
          }
        },
        {
          "output_type": "display_data",
          "data": {
            "image/png": "[encoded data removed]",
            "text/plain": [
              "<Figure size 432x288 with 2 Axes>"
            ]
          },
          "metadata": {
            "tags": []
          }
        },
        {
          "output_type": "display_data",
          "data": {
            "image/png": "[encoded data removed]",
            "text/plain": [
              "<Figure size 432x288 with 2 Axes>"
            ]
          },
          "metadata": {
            "tags": []
          }
        },
        {
          "output_type": "display_data",
          "data": {
            "image/png": "[encoded data removed]",
            "text/plain": [
              "<Figure size 432x288 with 2 Axes>"
            ]
          },
          "metadata": {
            "tags": []
          }
        }
      ]
    },
    {
      "cell_type": "markdown",
      "metadata": {
        "id": "HfoHoMp9UU_U",
        "colab_type": "text"
      },
      "source": [
        "### Select more features, compare models"
      ]
    },
    {
      "cell_type": "code",
      "metadata": {
        "id": "K_0dqfhYUU_V",
        "colab_type": "code",
        "colab": {
          "base_uri": "https://localhost:8080/",
          "height": 297
        },
        "outputId": "a61fe691-0ce3-46a2-9a3b-ff5cb9fdb40a"
      },
      "source": [
        "from sklearn.preprocessing import MinMaxScaler\n",
        "\n",
        "titanic['deck'] = titanic['deck'].astype(str)\n",
        "features = ['age', 'sex', 'pclass', 'sibsp', 'parch', 'fare', 'deck', 'embark_town']\n",
        "target = 'survived'\n",
        "\n",
        "preprocessor = make_pipeline(ce.OrdinalEncoder(), SimpleImputer(), MinMaxScaler())\n",
        "titanic_X = preprocessor.fit_transform(titanic[features])\n",
        "titanic_X = pd.DataFrame(titanic_X, columns=features)\n",
        "titanic_y = titanic[target]\n",
        "\n",
        "titanic_X.describe()"
      ],
      "execution_count": 71,
      "outputs": [
        {
          "output_type": "execute_result",
          "data": {
            "text/html": [
              "<div>\n",
              "<style scoped>\n",
              "    .dataframe tbody tr th:only-of-type {\n",
              "        vertical-align: middle;\n",
              "    }\n",
              "\n",
              "    .dataframe tbody tr th {\n",
              "        vertical-align: top;\n",
              "    }\n",
              "\n",
              "    .dataframe thead th {\n",
              "        text-align: right;\n",
              "    }\n",
              "</style>\n",
              "<table border=\"1\" class=\"dataframe\">\n",
              "  <thead>\n",
              "    <tr style=\"text-align: right;\">\n",
              "      <th></th>\n",
              "      <th>age</th>\n",
              "      <th>sex</th>\n",
              "      <th>pclass</th>\n",
              "      <th>sibsp</th>\n",
              "      <th>parch</th>\n",
              "      <th>fare</th>\n",
              "      <th>deck</th>\n",
              "      <th>embark_town</th>\n",
              "    </tr>\n",
              "  </thead>\n",
              "  <tbody>\n",
              "    <tr>\n",
              "      <th>count</th>\n",
              "      <td>891.000000</td>\n",
              "      <td>891.000000</td>\n",
              "      <td>891.000000</td>\n",
              "      <td>891.000000</td>\n",
              "      <td>891.000000</td>\n",
              "      <td>891.000000</td>\n",
              "      <td>891.000000</td>\n",
              "      <td>891.000000</td>\n",
              "    </tr>\n",
              "    <tr>\n",
              "      <th>mean</th>\n",
              "      <td>0.367921</td>\n",
              "      <td>0.352413</td>\n",
              "      <td>0.654321</td>\n",
              "      <td>0.065376</td>\n",
              "      <td>0.063599</td>\n",
              "      <td>0.062858</td>\n",
              "      <td>0.114638</td>\n",
              "      <td>0.122709</td>\n",
              "    </tr>\n",
              "    <tr>\n",
              "      <th>std</th>\n",
              "      <td>0.163383</td>\n",
              "      <td>0.477990</td>\n",
              "      <td>0.418036</td>\n",
              "      <td>0.137843</td>\n",
              "      <td>0.134343</td>\n",
              "      <td>0.096995</td>\n",
              "      <td>0.257037</td>\n",
              "      <td>0.215867</td>\n",
              "    </tr>\n",
              "    <tr>\n",
              "      <th>min</th>\n",
              "      <td>0.000000</td>\n",
              "      <td>0.000000</td>\n",
              "      <td>0.000000</td>\n",
              "      <td>0.000000</td>\n",
              "      <td>0.000000</td>\n",
              "      <td>0.000000</td>\n",
              "      <td>0.000000</td>\n",
              "      <td>0.000000</td>\n",
              "    </tr>\n",
              "    <tr>\n",
              "      <th>25%</th>\n",
              "      <td>0.271174</td>\n",
              "      <td>0.000000</td>\n",
              "      <td>0.500000</td>\n",
              "      <td>0.000000</td>\n",
              "      <td>0.000000</td>\n",
              "      <td>0.015440</td>\n",
              "      <td>0.000000</td>\n",
              "      <td>0.000000</td>\n",
              "    </tr>\n",
              "    <tr>\n",
              "      <th>50%</th>\n",
              "      <td>0.367921</td>\n",
              "      <td>0.000000</td>\n",
              "      <td>1.000000</td>\n",
              "      <td>0.000000</td>\n",
              "      <td>0.000000</td>\n",
              "      <td>0.028213</td>\n",
              "      <td>0.000000</td>\n",
              "      <td>0.000000</td>\n",
              "    </tr>\n",
              "    <tr>\n",
              "      <th>75%</th>\n",
              "      <td>0.434531</td>\n",
              "      <td>1.000000</td>\n",
              "      <td>1.000000</td>\n",
              "      <td>0.125000</td>\n",
              "      <td>0.000000</td>\n",
              "      <td>0.060508</td>\n",
              "      <td>0.000000</td>\n",
              "      <td>0.333333</td>\n",
              "    </tr>\n",
              "    <tr>\n",
              "      <th>max</th>\n",
              "      <td>1.000000</td>\n",
              "      <td>1.000000</td>\n",
              "      <td>1.000000</td>\n",
              "      <td>1.000000</td>\n",
              "      <td>1.000000</td>\n",
              "      <td>1.000000</td>\n",
              "      <td>1.000000</td>\n",
              "      <td>1.000000</td>\n",
              "    </tr>\n",
              "  </tbody>\n",
              "</table>\n",
              "</div>"
            ],
            "text/plain": [
              "              age         sex      pclass       sibsp       parch        fare  \\\n",
              "count  891.000000  891.000000  891.000000  891.000000  891.000000  891.000000   \n",
              "mean     0.367921    0.352413    0.654321    0.065376    0.063599    0.062858   \n",
              "std      0.163383    0.477990    0.418036    0.137843    0.134343    0.096995   \n",
              "min      0.000000    0.000000    0.000000    0.000000    0.000000    0.000000   \n",
              "25%      0.271174    0.000000    0.500000    0.000000    0.000000    0.015440   \n",
              "50%      0.367921    0.000000    1.000000    0.000000    0.000000    0.028213   \n",
              "75%      0.434531    1.000000    1.000000    0.125000    0.000000    0.060508   \n",
              "max      1.000000    1.000000    1.000000    1.000000    1.000000    1.000000   \n",
              "\n",
              "             deck  embark_town  \n",
              "count  891.000000   891.000000  \n",
              "mean     0.114638     0.122709  \n",
              "std      0.257037     0.215867  \n",
              "min      0.000000     0.000000  \n",
              "25%      0.000000     0.000000  \n",
              "50%      0.000000     0.000000  \n",
              "75%      0.000000     0.333333  \n",
              "max      1.000000     1.000000  "
            ]
          },
          "metadata": {
            "tags": []
          },
          "execution_count": 71
        }
      ]
    },
    {
      "cell_type": "code",
      "metadata": {
        "id": "sf1UHejgUU_a",
        "colab_type": "code",
        "colab": {
          "base_uri": "https://localhost:8080/",
          "height": 1003
        },
        "outputId": "e911ea0b-38a4-4c22-b0a9-4a717d426ab8"
      },
      "source": [
        "from sklearn.model_selection import cross_val_score\n",
        "\n",
        "models = [LogisticRegression(solver='lbfgs', max_iter=1000), \n",
        "          DecisionTreeClassifier(max_depth=3), \n",
        "          DecisionTreeClassifier(max_depth=None), \n",
        "          RandomForestClassifier(max_depth=3, n_estimators=100, n_jobs=-1, random_state=42), \n",
        "          RandomForestClassifier(max_depth=None, n_estimators=100, n_jobs=-1, random_state=42), \n",
        "          XGBClassifier(max_depth=3, n_estimators=100, n_jobs=-1, random_state=42)]\n",
        "\n",
        "for model in models:\n",
        "    print(model, '\\n')\n",
        "    score = cross_val_score(model, titanic_X, titanic_y, scoring='accuracy', cv=5).mean()\n",
        "    print('Cross-Validation Accuracy:', score, '\\n', '\\n')"
      ],
      "execution_count": 45,
      "outputs": [
        {
          "output_type": "stream",
          "text": [
            "LogisticRegression(C=1.0, class_weight=None, dual=False, fit_intercept=True,\n",
            "          intercept_scaling=1, max_iter=1000, multi_class='warn',\n",
            "          n_jobs=None, penalty='l2', random_state=None, solver='lbfgs',\n",
            "          tol=0.0001, verbose=0, warm_start=False) \n",
            "\n",
            "Cross-Validation Accuracy: 0.7911905757420685 \n",
            " \n",
            "\n",
            "DecisionTreeClassifier(class_weight=None, criterion='gini', max_depth=3,\n",
            "            max_features=None, max_leaf_nodes=None,\n",
            "            min_impurity_decrease=0.0, min_impurity_split=None,\n",
            "            min_samples_leaf=1, min_samples_split=2,\n",
            "            min_weight_fraction_leaf=0.0, presort=False, random_state=None,\n",
            "            splitter='best') \n",
            "\n",
            "Cross-Validation Accuracy: 0.8047054617955187 \n",
            " \n",
            "\n",
            "DecisionTreeClassifier(class_weight=None, criterion='gini', max_depth=None,\n",
            "            max_features=None, max_leaf_nodes=None,\n",
            "            min_impurity_decrease=0.0, min_impurity_split=None,\n",
            "            min_samples_leaf=1, min_samples_split=2,\n",
            "            min_weight_fraction_leaf=0.0, presort=False, random_state=None,\n",
            "            splitter='best') \n",
            "\n",
            "Cross-Validation Accuracy: 0.780099135147442 \n",
            " \n",
            "\n",
            "RandomForestClassifier(bootstrap=True, class_weight=None, criterion='gini',\n",
            "            max_depth=3, max_features='auto', max_leaf_nodes=None,\n",
            "            min_impurity_decrease=0.0, min_impurity_split=None,\n",
            "            min_samples_leaf=1, min_samples_split=2,\n",
            "            min_weight_fraction_leaf=0.0, n_estimators=100, n_jobs=-1,\n",
            "            oob_score=False, random_state=42, verbose=0, warm_start=False) \n",
            "\n",
            "Cross-Validation Accuracy: 0.7969220370191081 \n",
            " \n",
            "\n",
            "RandomForestClassifier(bootstrap=True, class_weight=None, criterion='gini',\n",
            "            max_depth=None, max_features='auto', max_leaf_nodes=None,\n",
            "            min_impurity_decrease=0.0, min_impurity_split=None,\n",
            "            min_samples_leaf=1, min_samples_split=2,\n",
            "            min_weight_fraction_leaf=0.0, n_estimators=100, n_jobs=-1,\n",
            "            oob_score=False, random_state=42, verbose=0, warm_start=False) \n",
            "\n",
            "Cross-Validation Accuracy: 0.8092754523657284 \n",
            " \n",
            "\n",
            "XGBClassifier(base_score=0.5, booster='gbtree', colsample_bylevel=1,\n",
            "       colsample_bytree=1, gamma=0, learning_rate=0.1, max_delta_step=0,\n",
            "       max_depth=3, min_child_weight=1, missing=None, n_estimators=100,\n",
            "       n_jobs=-1, nthread=None, objective='binary:logistic',\n",
            "       random_state=42, reg_alpha=0, reg_lambda=1, scale_pos_weight=1,\n",
            "       seed=None, silent=True, subsample=1) \n",
            "\n",
            "Cross-Validation Accuracy: 0.8339822830589686 \n",
            " \n",
            "\n"
          ],
          "name": "stdout"
        }
      ]
    },
    {
      "cell_type": "markdown",
      "metadata": {
        "id": "UT1f0z4RUU_d",
        "colab_type": "text"
      },
      "source": [
        "### Feature importances"
      ]
    },
    {
      "cell_type": "code",
      "metadata": {
        "id": "ejriMbTMUU_f",
        "colab_type": "code",
        "colab": {
          "base_uri": "https://localhost:8080/",
          "height": 1601
        },
        "outputId": "6d32da14-7476-497f-e45f-5288598c315b"
      },
      "source": [
        "for model in models:\n",
        "    name = model.__class__.__name__\n",
        "    model.fit(titanic_X, titanic_y)\n",
        "    if name == 'LogisticRegression':\n",
        "        coefficients = pd.Series(model.coef_[0], titanic_X.columns)\n",
        "        coefficients.sort_values().plot.barh(color='grey', title=name)\n",
        "        plt.show()\n",
        "    else:\n",
        "        importances = pd.Series(model.feature_importances_, titanic_X.columns)\n",
        "        title = f'{name}, max_depth={model.max_depth}'\n",
        "        importances.sort_values().plot.barh(color='grey', title=title)\n",
        "        plt.show()"
      ],
      "execution_count": 46,
      "outputs": [
        {
          "output_type": "display_data",
          "data": {
            "image/png": "[encoded data removed]",
            "text/plain": [
              "<Figure size 432x288 with 1 Axes>"
            ]
          },
          "metadata": {
            "tags": []
          }
        },
        {
          "output_type": "display_data",
          "data": {
            "image/png": "[encoded data removed]",
            "text/plain": [
              "<Figure size 432x288 with 1 Axes>"
            ]
          },
          "metadata": {
            "tags": []
          }
        },
        {
          "output_type": "display_data",
          "data": {
            "image/png": "[encoded data removed]",
            "text/plain": [
              "<Figure size 432x288 with 1 Axes>"
            ]
          },
          "metadata": {
            "tags": []
          }
        },
        {
          "output_type": "display_data",
          "data": {
            "image/png": "[encoded data removed]",
            "text/plain": [
              "<Figure size 432x288 with 1 Axes>"
            ]
          },
          "metadata": {
            "tags": []
          }
        },
        {
          "output_type": "display_data",
          "data": {
            "image/png": "[encoded data removed]",
            "text/plain": [
              "<Figure size 432x288 with 1 Axes>"
            ]
          },
          "metadata": {
            "tags": []
          }
        },
        {
          "output_type": "display_data",
          "data": {
            "image/png": "[encoded data removed]",
            "text/plain": [
              "<Figure size 432x288 with 1 Axes>"
            ]
          },
          "metadata": {
            "tags": []
          }
        }
      ]
    },
    {
      "cell_type": "markdown",
      "metadata": {
        "id": "bOKK3NzwUU_i",
        "colab_type": "text"
      },
      "source": [
        "# ASSIGNMENT\n",
        "\n",
        "**Train Random Forest and Gradient Boosting models**, on the Bank Marketing dataset. (Or another dataset of your choice, not used during this lesson.) You may use any Python libraries for Gradient Boosting.\n",
        "\n",
        "Then, you have many options!\n",
        "\n",
        "#### Keep improving your model\n",
        "- **Try new categorical encodings.**\n",
        "- Explore and visualize your data. \n",
        "- Wrangle [bad data](https://github.com/Quartz/bad-data-guide), outliers, and missing values.\n",
        "- Try engineering more features. You can transform, bin, and combine features. \n",
        "- Try selecting fewer features.\n",
        "\n",
        "#### Follow the links — learn by reading & doing\n",
        "- Links at the top of this notebook\n",
        "- Links in previous notebooks\n",
        "- Extra notebook for today, about **\"monotonic constraints\"** and \"early stopping\" with xgboost"
      ]
    },
    {
      "cell_type": "markdown",
      "metadata": {
        "id": "bEm8-H23GNiS",
        "colab_type": "text"
      },
      "source": [
        "# Random Forest Gradient Boosting with Bank Marketing dataset"
      ]
    },
    {
      "cell_type": "code",
      "metadata": {
        "id": "BOanozNpGM3A",
        "colab_type": "code",
        "colab": {
          "base_uri": "https://localhost:8080/",
          "height": 233
        },
        "outputId": "26422f31-dd31-4634-8a1a-0155e3cc11d0"
      },
      "source": [
        "!wget https://archive.ics.uci.edu/ml/machine-learning-databases/00222/bank-additional.zip"
      ],
      "execution_count": 47,
      "outputs": [
        {
          "output_type": "stream",
          "text": [
            "--2019-05-09 19:37:03--  https://archive.ics.uci.edu/ml/machine-learning-databases/00222/bank-additional.zip\n",
            "Resolving archive.ics.uci.edu (archive.ics.uci.edu)... 128.195.10.252\n",
            "Connecting to archive.ics.uci.edu (archive.ics.uci.edu)|128.195.10.252|:443... connected.\n",
            "HTTP request sent, awaiting response... 200 OK\n",
            "Length: 444572 (434K) [application/x-httpd-php]\n",
            "Saving to: ‘bank-additional.zip’\n",
            "\n",
            "\rbank-additional.zip   0%[                    ]       0  --.-KB/s               \rbank-additional.zip 100%[===================>] 434.15K  --.-KB/s    in 0.1s    \n",
            "\n",
            "2019-05-09 19:37:03 (2.91 MB/s) - ‘bank-additional.zip’ saved [444572/444572]\n",
            "\n"
          ],
          "name": "stdout"
        }
      ]
    },
    {
      "cell_type": "code",
      "metadata": {
        "id": "4oc3gUXSGTdE",
        "colab_type": "code",
        "colab": {
          "base_uri": "https://localhost:8080/",
          "height": 233
        },
        "outputId": "cfa8e1ae-424a-4bf1-ab45-2b45be4d46f4"
      },
      "source": [
        "!unzip bank-additional.zip"
      ],
      "execution_count": 48,
      "outputs": [
        {
          "output_type": "stream",
          "text": [
            "Archive:  bank-additional.zip\n",
            "   creating: bank-additional/\n",
            "  inflating: bank-additional/.DS_Store  \n",
            "   creating: __MACOSX/\n",
            "   creating: __MACOSX/bank-additional/\n",
            "  inflating: __MACOSX/bank-additional/._.DS_Store  \n",
            "  inflating: bank-additional/.Rhistory  \n",
            "  inflating: bank-additional/bank-additional-full.csv  \n",
            "  inflating: bank-additional/bank-additional-names.txt  \n",
            "  inflating: bank-additional/bank-additional.csv  \n",
            "  inflating: __MACOSX/._bank-additional  \n"
          ],
          "name": "stdout"
        }
      ]
    },
    {
      "cell_type": "code",
      "metadata": {
        "id": "R4As9_h-Garg",
        "colab_type": "code",
        "colab": {
          "base_uri": "https://localhost:8080/",
          "height": 244
        },
        "outputId": "f00c8ab4-6e0f-40b4-8fb3-6315400f6b41"
      },
      "source": [
        "bank_df = pd.read_csv('bank-additional/bank-additional-full.csv', sep=';')\n",
        "pd.set_option('display.max_columns', 500)\n",
        "\n",
        "bank_df.head()"
      ],
      "execution_count": 69,
      "outputs": [
        {
          "output_type": "execute_result",
          "data": {
            "text/html": [
              "<div>\n",
              "<style scoped>\n",
              "    .dataframe tbody tr th:only-of-type {\n",
              "        vertical-align: middle;\n",
              "    }\n",
              "\n",
              "    .dataframe tbody tr th {\n",
              "        vertical-align: top;\n",
              "    }\n",
              "\n",
              "    .dataframe thead th {\n",
              "        text-align: right;\n",
              "    }\n",
              "</style>\n",
              "<table border=\"1\" class=\"dataframe\">\n",
              "  <thead>\n",
              "    <tr style=\"text-align: right;\">\n",
              "      <th></th>\n",
              "      <th>age</th>\n",
              "      <th>job</th>\n",
              "      <th>marital</th>\n",
              "      <th>education</th>\n",
              "      <th>default</th>\n",
              "      <th>housing</th>\n",
              "      <th>loan</th>\n",
              "      <th>contact</th>\n",
              "      <th>month</th>\n",
              "      <th>day_of_week</th>\n",
              "      <th>duration</th>\n",
              "      <th>campaign</th>\n",
              "      <th>pdays</th>\n",
              "      <th>previous</th>\n",
              "      <th>poutcome</th>\n",
              "      <th>emp.var.rate</th>\n",
              "      <th>cons.price.idx</th>\n",
              "      <th>cons.conf.idx</th>\n",
              "      <th>euribor3m</th>\n",
              "      <th>nr.employed</th>\n",
              "      <th>y</th>\n",
              "    </tr>\n",
              "  </thead>\n",
              "  <tbody>\n",
              "    <tr>\n",
              "      <th>0</th>\n",
              "      <td>56</td>\n",
              "      <td>housemaid</td>\n",
              "      <td>married</td>\n",
              "      <td>basic.4y</td>\n",
              "      <td>no</td>\n",
              "      <td>no</td>\n",
              "      <td>no</td>\n",
              "      <td>telephone</td>\n",
              "      <td>may</td>\n",
              "      <td>mon</td>\n",
              "      <td>261</td>\n",
              "      <td>1</td>\n",
              "      <td>999</td>\n",
              "      <td>0</td>\n",
              "      <td>nonexistent</td>\n",
              "      <td>1.1</td>\n",
              "      <td>93.994</td>\n",
              "      <td>-36.4</td>\n",
              "      <td>4.857</td>\n",
              "      <td>5191.0</td>\n",
              "      <td>no</td>\n",
              "    </tr>\n",
              "    <tr>\n",
              "      <th>1</th>\n",
              "      <td>57</td>\n",
              "      <td>services</td>\n",
              "      <td>married</td>\n",
              "      <td>high.school</td>\n",
              "      <td>unknown</td>\n",
              "      <td>no</td>\n",
              "      <td>no</td>\n",
              "      <td>telephone</td>\n",
              "      <td>may</td>\n",
              "      <td>mon</td>\n",
              "      <td>149</td>\n",
              "      <td>1</td>\n",
              "      <td>999</td>\n",
              "      <td>0</td>\n",
              "      <td>nonexistent</td>\n",
              "      <td>1.1</td>\n",
              "      <td>93.994</td>\n",
              "      <td>-36.4</td>\n",
              "      <td>4.857</td>\n",
              "      <td>5191.0</td>\n",
              "      <td>no</td>\n",
              "    </tr>\n",
              "    <tr>\n",
              "      <th>2</th>\n",
              "      <td>37</td>\n",
              "      <td>services</td>\n",
              "      <td>married</td>\n",
              "      <td>high.school</td>\n",
              "      <td>no</td>\n",
              "      <td>yes</td>\n",
              "      <td>no</td>\n",
              "      <td>telephone</td>\n",
              "      <td>may</td>\n",
              "      <td>mon</td>\n",
              "      <td>226</td>\n",
              "      <td>1</td>\n",
              "      <td>999</td>\n",
              "      <td>0</td>\n",
              "      <td>nonexistent</td>\n",
              "      <td>1.1</td>\n",
              "      <td>93.994</td>\n",
              "      <td>-36.4</td>\n",
              "      <td>4.857</td>\n",
              "      <td>5191.0</td>\n",
              "      <td>no</td>\n",
              "    </tr>\n",
              "    <tr>\n",
              "      <th>3</th>\n",
              "      <td>40</td>\n",
              "      <td>admin.</td>\n",
              "      <td>married</td>\n",
              "      <td>basic.6y</td>\n",
              "      <td>no</td>\n",
              "      <td>no</td>\n",
              "      <td>no</td>\n",
              "      <td>telephone</td>\n",
              "      <td>may</td>\n",
              "      <td>mon</td>\n",
              "      <td>151</td>\n",
              "      <td>1</td>\n",
              "      <td>999</td>\n",
              "      <td>0</td>\n",
              "      <td>nonexistent</td>\n",
              "      <td>1.1</td>\n",
              "      <td>93.994</td>\n",
              "      <td>-36.4</td>\n",
              "      <td>4.857</td>\n",
              "      <td>5191.0</td>\n",
              "      <td>no</td>\n",
              "    </tr>\n",
              "    <tr>\n",
              "      <th>4</th>\n",
              "      <td>56</td>\n",
              "      <td>services</td>\n",
              "      <td>married</td>\n",
              "      <td>high.school</td>\n",
              "      <td>no</td>\n",
              "      <td>no</td>\n",
              "      <td>yes</td>\n",
              "      <td>telephone</td>\n",
              "      <td>may</td>\n",
              "      <td>mon</td>\n",
              "      <td>307</td>\n",
              "      <td>1</td>\n",
              "      <td>999</td>\n",
              "      <td>0</td>\n",
              "      <td>nonexistent</td>\n",
              "      <td>1.1</td>\n",
              "      <td>93.994</td>\n",
              "      <td>-36.4</td>\n",
              "      <td>4.857</td>\n",
              "      <td>5191.0</td>\n",
              "      <td>no</td>\n",
              "    </tr>\n",
              "  </tbody>\n",
              "</table>\n",
              "</div>"
            ],
            "text/plain": [
              "   age        job  marital    education  default housing loan    contact  \\\n",
              "0   56  housemaid  married     basic.4y       no      no   no  telephone   \n",
              "1   57   services  married  high.school  unknown      no   no  telephone   \n",
              "2   37   services  married  high.school       no     yes   no  telephone   \n",
              "3   40     admin.  married     basic.6y       no      no   no  telephone   \n",
              "4   56   services  married  high.school       no      no  yes  telephone   \n",
              "\n",
              "  month day_of_week  duration  campaign  pdays  previous     poutcome  \\\n",
              "0   may         mon       261         1    999         0  nonexistent   \n",
              "1   may         mon       149         1    999         0  nonexistent   \n",
              "2   may         mon       226         1    999         0  nonexistent   \n",
              "3   may         mon       151         1    999         0  nonexistent   \n",
              "4   may         mon       307         1    999         0  nonexistent   \n",
              "\n",
              "   emp.var.rate  cons.price.idx  cons.conf.idx  euribor3m  nr.employed   y  \n",
              "0           1.1          93.994          -36.4      4.857       5191.0  no  \n",
              "1           1.1          93.994          -36.4      4.857       5191.0  no  \n",
              "2           1.1          93.994          -36.4      4.857       5191.0  no  \n",
              "3           1.1          93.994          -36.4      4.857       5191.0  no  \n",
              "4           1.1          93.994          -36.4      4.857       5191.0  no  "
            ]
          },
          "metadata": {
            "tags": []
          },
          "execution_count": 69
        }
      ]
    },
    {
      "cell_type": "code",
      "metadata": {
        "id": "lHlgxhaKNpjU",
        "colab_type": "code",
        "colab": {}
      },
      "source": [
        "bank_df['age_round_10'] = bank_df['age'].round(-1)"
      ],
      "execution_count": 0,
      "outputs": []
    },
    {
      "cell_type": "code",
      "metadata": {
        "id": "u2fLlYBrH7KZ",
        "colab_type": "code",
        "colab": {
          "base_uri": "https://localhost:8080/",
          "height": 405
        },
        "outputId": "9d751dd6-7d57-49a5-d017-8bbf25ae7dda"
      },
      "source": [
        "from sklearn.preprocessing import StandardScaler\n",
        "\n",
        "features = ['age_round_10', 'duration', 'marital', 'pdays']\n",
        "target = 'y'\n",
        "\n",
        "preprocessor = make_pipeline(ce.OrdinalEncoder(), StandardScaler())\n",
        "bank_X = preprocessor.fit_transform(bank_df[features])\n",
        "bank_X = pd.DataFrame(bank_X, columns=features)\n",
        "bank_y = bank_df[target]\n",
        "\n",
        "bank_X.describe()"
      ],
      "execution_count": 98,
      "outputs": [
        {
          "output_type": "stream",
          "text": [
            "/usr/local/lib/python3.6/dist-packages/sklearn/preprocessing/data.py:645: DataConversionWarning: Data with input dtype int64 were all converted to float64 by StandardScaler.\n",
            "  return self.partial_fit(X, y)\n",
            "/usr/local/lib/python3.6/dist-packages/sklearn/base.py:464: DataConversionWarning: Data with input dtype int64 were all converted to float64 by StandardScaler.\n",
            "  return self.fit(X, **fit_params).transform(X)\n"
          ],
          "name": "stderr"
        },
        {
          "output_type": "execute_result",
          "data": {
            "text/html": [
              "<div>\n",
              "<style scoped>\n",
              "    .dataframe tbody tr th:only-of-type {\n",
              "        vertical-align: middle;\n",
              "    }\n",
              "\n",
              "    .dataframe tbody tr th {\n",
              "        vertical-align: top;\n",
              "    }\n",
              "\n",
              "    .dataframe thead th {\n",
              "        text-align: right;\n",
              "    }\n",
              "</style>\n",
              "<table border=\"1\" class=\"dataframe\">\n",
              "  <thead>\n",
              "    <tr style=\"text-align: right;\">\n",
              "      <th></th>\n",
              "      <th>age_round_10</th>\n",
              "      <th>duration</th>\n",
              "      <th>marital</th>\n",
              "      <th>pdays</th>\n",
              "    </tr>\n",
              "  </thead>\n",
              "  <tbody>\n",
              "    <tr>\n",
              "      <th>count</th>\n",
              "      <td>4.118800e+04</td>\n",
              "      <td>4.118800e+04</td>\n",
              "      <td>4.118800e+04</td>\n",
              "      <td>4.118800e+04</td>\n",
              "    </tr>\n",
              "    <tr>\n",
              "      <th>mean</th>\n",
              "      <td>7.206185e-15</td>\n",
              "      <td>-3.170967e-16</td>\n",
              "      <td>-2.890950e-14</td>\n",
              "      <td>9.515119e-14</td>\n",
              "    </tr>\n",
              "    <tr>\n",
              "      <th>std</th>\n",
              "      <td>1.000012e+00</td>\n",
              "      <td>1.000012e+00</td>\n",
              "      <td>1.000012e+00</td>\n",
              "      <td>1.000012e+00</td>\n",
              "    </tr>\n",
              "    <tr>\n",
              "      <th>min</th>\n",
              "      <td>-1.834087e+00</td>\n",
              "      <td>-9.961775e-01</td>\n",
              "      <td>-7.328582e-01</td>\n",
              "      <td>-5.149443e+00</td>\n",
              "    </tr>\n",
              "    <tr>\n",
              "      <th>25%</th>\n",
              "      <td>-9.234002e-01</td>\n",
              "      <td>-6.027745e-01</td>\n",
              "      <td>-7.328582e-01</td>\n",
              "      <td>1.954139e-01</td>\n",
              "    </tr>\n",
              "    <tr>\n",
              "      <th>50%</th>\n",
              "      <td>-1.271353e-02</td>\n",
              "      <td>-3.019369e-01</td>\n",
              "      <td>-7.328582e-01</td>\n",
              "      <td>1.954139e-01</td>\n",
              "    </tr>\n",
              "    <tr>\n",
              "      <th>75%</th>\n",
              "      <td>8.979732e-01</td>\n",
              "      <td>2.341712e-01</td>\n",
              "      <td>7.023340e-01</td>\n",
              "      <td>1.954139e-01</td>\n",
              "    </tr>\n",
              "    <tr>\n",
              "      <th>max</th>\n",
              "      <td>5.451407e+00</td>\n",
              "      <td>1.797202e+01</td>\n",
              "      <td>3.572718e+00</td>\n",
              "      <td>1.954139e-01</td>\n",
              "    </tr>\n",
              "  </tbody>\n",
              "</table>\n",
              "</div>"
            ],
            "text/plain": [
              "       age_round_10      duration       marital         pdays\n",
              "count  4.118800e+04  4.118800e+04  4.118800e+04  4.118800e+04\n",
              "mean   7.206185e-15 -3.170967e-16 -2.890950e-14  9.515119e-14\n",
              "std    1.000012e+00  1.000012e+00  1.000012e+00  1.000012e+00\n",
              "min   -1.834087e+00 -9.961775e-01 -7.328582e-01 -5.149443e+00\n",
              "25%   -9.234002e-01 -6.027745e-01 -7.328582e-01  1.954139e-01\n",
              "50%   -1.271353e-02 -3.019369e-01 -7.328582e-01  1.954139e-01\n",
              "75%    8.979732e-01  2.341712e-01  7.023340e-01  1.954139e-01\n",
              "max    5.451407e+00  1.797202e+01  3.572718e+00  1.954139e-01"
            ]
          },
          "metadata": {
            "tags": []
          },
          "execution_count": 98
        }
      ]
    },
    {
      "cell_type": "code",
      "metadata": {
        "id": "GB9TzQG-Ir_b",
        "colab_type": "code",
        "colab": {}
      },
      "source": [
        "models = [LogisticRegression(solver='lbfgs', max_iter=1000),\n",
        "          DecisionTreeClassifier(max_depth=3),\n",
        "          DecisionTreeClassifier(max_depth=None),\n",
        "          RandomForestClassifier(max_depth=3, n_estimators=100, n_jobs=-1, random_state=42),\n",
        "          RandomForestClassifier(max_depth=None, n_estimators=100, n_jobs=-1, random_state=42),\n",
        "          XGBClassifier(max_depth=3, n_estimators=100, n_jobs=-1, random_state=42)]\n",
        "\n"
      ],
      "execution_count": 0,
      "outputs": []
    },
    {
      "cell_type": "code",
      "metadata": {
        "id": "NzRKXgPdJ0Ty",
        "colab_type": "code",
        "colab": {
          "base_uri": "https://localhost:8080/",
          "height": 1003
        },
        "outputId": "91423d70-1f5b-4970-f471-881593f5661e"
      },
      "source": [
        "   \n",
        "for model in models:\n",
        "  print(model, '\\n')\n",
        "  score = cross_val_score(model, bank_X, bank_y, scoring='accuracy', cv=5).mean()\n",
        "  print('Cross_Validation Accuracy:', score, '\\n', '\\n')"
      ],
      "execution_count": 101,
      "outputs": [
        {
          "output_type": "stream",
          "text": [
            "LogisticRegression(C=1.0, class_weight=None, dual=False, fit_intercept=True,\n",
            "          intercept_scaling=1, max_iter=1000, multi_class='warn',\n",
            "          n_jobs=None, penalty='l2', random_state=None, solver='lbfgs',\n",
            "          tol=0.0001, verbose=0, warm_start=False) \n",
            "\n",
            "Cross_Validation Accuracy: 0.9101723719349356 \n",
            " \n",
            "\n",
            "DecisionTreeClassifier(class_weight=None, criterion='gini', max_depth=3,\n",
            "            max_features=None, max_leaf_nodes=None,\n",
            "            min_impurity_decrease=0.0, min_impurity_split=None,\n",
            "            min_samples_leaf=1, min_samples_split=2,\n",
            "            min_weight_fraction_leaf=0.0, presort=False, random_state=None,\n",
            "            splitter='best') \n",
            "\n",
            "Cross_Validation Accuracy: 0.9025248846807478 \n",
            " \n",
            "\n",
            "DecisionTreeClassifier(class_weight=None, criterion='gini', max_depth=None,\n",
            "            max_features=None, max_leaf_nodes=None,\n",
            "            min_impurity_decrease=0.0, min_impurity_split=None,\n",
            "            min_samples_leaf=1, min_samples_split=2,\n",
            "            min_weight_fraction_leaf=0.0, presort=False, random_state=None,\n",
            "            splitter='best') \n",
            "\n",
            "Cross_Validation Accuracy: 0.8926924010682205 \n",
            " \n",
            "\n",
            "RandomForestClassifier(bootstrap=True, class_weight=None, criterion='gini',\n",
            "            max_depth=3, max_features='auto', max_leaf_nodes=None,\n",
            "            min_impurity_decrease=0.0, min_impurity_split=None,\n",
            "            min_samples_leaf=1, min_samples_split=2,\n",
            "            min_weight_fraction_leaf=0.0, n_estimators=100, n_jobs=-1,\n",
            "            oob_score=False, random_state=42, verbose=0, warm_start=False) \n",
            "\n",
            "Cross_Validation Accuracy: 0.8969410050983249 \n",
            " \n",
            "\n",
            "RandomForestClassifier(bootstrap=True, class_weight=None, criterion='gini',\n",
            "            max_depth=None, max_features='auto', max_leaf_nodes=None,\n",
            "            min_impurity_decrease=0.0, min_impurity_split=None,\n",
            "            min_samples_leaf=1, min_samples_split=2,\n",
            "            min_weight_fraction_leaf=0.0, n_estimators=100, n_jobs=-1,\n",
            "            oob_score=False, random_state=42, verbose=0, warm_start=False) \n",
            "\n",
            "Cross_Validation Accuracy: 0.8902646273367322 \n",
            " \n",
            "\n",
            "XGBClassifier(base_score=0.5, booster='gbtree', colsample_bylevel=1,\n",
            "       colsample_bytree=1, gamma=0, learning_rate=0.1, max_delta_step=0,\n",
            "       max_depth=3, min_child_weight=1, missing=None, n_estimators=100,\n",
            "       n_jobs=-1, nthread=None, objective='binary:logistic',\n",
            "       random_state=42, reg_alpha=0, reg_lambda=1, scale_pos_weight=1,\n",
            "       seed=None, silent=True, subsample=1) \n",
            "\n",
            "Cross_Validation Accuracy: 0.9031318281136198 \n",
            " \n",
            "\n"
          ],
          "name": "stdout"
        }
      ]
    },
    {
      "cell_type": "code",
      "metadata": {
        "id": "n6-7PJxfQMdb",
        "colab_type": "code",
        "colab": {
          "base_uri": "https://localhost:8080/",
          "height": 1601
        },
        "outputId": "aedbd84f-7a4e-46a8-c4de-a32a636cfb21"
      },
      "source": [
        "for model in models:\n",
        "    name = model.__class__.__name__\n",
        "    model.fit(bank_X, bank_y)\n",
        "    if name == 'LogisticRegression':\n",
        "        coefficients = pd.Series(model.coef_[0], bank_X.columns)\n",
        "        coefficients.sort_values().plot.barh(color='grey', title=name)\n",
        "        plt.show()\n",
        "    else:\n",
        "        importances = pd.Series(model.feature_importances_, bank_X.columns)\n",
        "        title = f'{name}, max_depth={model.max_depth}'\n",
        "        importances.sort_values().plot.barh(color='grey', title=title)\n",
        "        plt.show()"
      ],
      "execution_count": 102,
      "outputs": [
        {
          "output_type": "display_data",
          "data": {
            "image/png": "[encoded data removed]",
            "text/plain": [
              "<Figure size 432x288 with 1 Axes>"
            ]
          },
          "metadata": {
            "tags": []
          }
        },
        {
          "output_type": "display_data",
          "data": {
            "image/png": "[encoded data removed]",
            "text/plain": [
              "<Figure size 432x288 with 1 Axes>"
            ]
          },
          "metadata": {
            "tags": []
          }
        },
        {
          "output_type": "display_data",
          "data": {
            "image/png": "[encoded data removed]",
            "text/plain": [
              "<Figure size 432x288 with 1 Axes>"
            ]
          },
          "metadata": {
            "tags": []
          }
        },
        {
          "output_type": "display_data",
          "data": {
            "image/png": "[encoded data removed]",
            "text/plain": [
              "<Figure size 432x288 with 1 Axes>"
            ]
          },
          "metadata": {
            "tags": []
          }
        },
        {
          "output_type": "display_data",
          "data": {
            "image/png": "[encoded data removed]",
            "text/plain": [
              "<Figure size 432x288 with 1 Axes>"
            ]
          },
          "metadata": {
            "tags": []
          }
        },
        {
          "output_type": "display_data",
          "data": {
            "image/png": "[encoded data removed]",
            "text/plain": [
              "<Figure size 432x288 with 1 Axes>"
            ]
          },
          "metadata": {
            "tags": []
          }
        }
      ]
    }
  ]
}