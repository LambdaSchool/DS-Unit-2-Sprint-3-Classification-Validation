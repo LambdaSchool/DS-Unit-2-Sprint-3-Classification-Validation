{
  "nbformat": 4,
  "nbformat_minor": 0,
  "metadata": {
    "colab": {
      "name": "unit2 sprint 3  assignment 1 try 2.ipynb",
      "version": "0.3.2",
      "provenance": [],
      "collapsed_sections": [],
      "include_colab_link": true
    },
    "kernelspec": {
      "name": "python3",
      "display_name": "Python 3"
    }
  },
  "cells": [
    {
      "cell_type": "markdown",
      "metadata": {
        "id": "view-in-github",
        "colab_type": "text"
      },
      "source": [
        "<a href=\"https://colab.research.google.com/github/danhorsley/DS-Unit-2-Sprint-3-Classification-Validation/blob/master/unit2_sprint_3_assignment_1_try_2.ipynb\" target=\"_parent\"><img src=\"https://colab.research.google.com/assets/colab-badge.svg\" alt=\"Open In Colab\"/></a>"
      ]
    },
    {
      "cell_type": "code",
      "metadata": {
        "id": "VLWCKW6bNUw5",
        "colab_type": "code",
        "colab": {
          "base_uri": "https://localhost:8080/",
          "height": 418
        },
        "outputId": "0bef7adb-a29f-4684-9af7-b7941dcbbd0e"
      },
      "source": [
        "!wget https://os.unil.cloud.switch.ch/fma/fma_metadata.zip\n",
        "!unzip fma_metadata.zip"
      ],
      "execution_count": 1,
      "outputs": [
        {
          "output_type": "stream",
          "text": [
            "--2019-05-07 07:35:11--  https://os.unil.cloud.switch.ch/fma/fma_metadata.zip\n",
            "Resolving os.unil.cloud.switch.ch (os.unil.cloud.switch.ch)... 86.119.28.13, 2001:620:5ca1:2ff::ce53\n",
            "Connecting to os.unil.cloud.switch.ch (os.unil.cloud.switch.ch)|86.119.28.13|:443... connected.\n",
            "HTTP request sent, awaiting response... 200 OK\n",
            "Length: 358412441 (342M) [application/zip]\n",
            "Saving to: ‘fma_metadata.zip’\n",
            "\n",
            "fma_metadata.zip    100%[===================>] 341.81M  25.5MB/s    in 14s     \n",
            "\n",
            "2019-05-07 07:35:25 (24.5 MB/s) - ‘fma_metadata.zip’ saved [358412441/358412441]\n",
            "\n",
            "Archive:  fma_metadata.zip\n",
            " bunzipping: fma_metadata/README.txt  \n",
            " bunzipping: fma_metadata/checksums  \n",
            " bunzipping: fma_metadata/not_found.pickle  \n",
            " bunzipping: fma_metadata/raw_genres.csv  \n",
            " bunzipping: fma_metadata/raw_albums.csv  \n",
            " bunzipping: fma_metadata/raw_artists.csv  \n",
            " bunzipping: fma_metadata/raw_tracks.csv  \n",
            " bunzipping: fma_metadata/tracks.csv  \n",
            " bunzipping: fma_metadata/genres.csv  \n",
            " bunzipping: fma_metadata/raw_echonest.csv  \n",
            " bunzipping: fma_metadata/echonest.csv  \n",
            " bunzipping: fma_metadata/features.csv  \n"
          ],
          "name": "stdout"
        }
      ]
    },
    {
      "cell_type": "code",
      "metadata": {
        "id": "hEyDYa0CN5bX",
        "colab_type": "code",
        "colab": {
          "base_uri": "https://localhost:8080/",
          "height": 556
        },
        "outputId": "bc5fce3c-7991-449d-ce36-aae89136deb3"
      },
      "source": [
        "#first import as multi-index\n",
        "import pandas as pd\n",
        "df=pd.read_csv('fma_metadata/tracks.csv',header=[0,1],index_col=0)\n",
        "#df=df.drop(0,axis=0)\n",
        "df.head()"
      ],
      "execution_count": 16,
      "outputs": [
        {
          "output_type": "execute_result",
          "data": {
            "text/html": [
              "<div>\n",
              "<style scoped>\n",
              "    .dataframe tbody tr th:only-of-type {\n",
              "        vertical-align: middle;\n",
              "    }\n",
              "\n",
              "    .dataframe tbody tr th {\n",
              "        vertical-align: top;\n",
              "    }\n",
              "\n",
              "    .dataframe thead tr th {\n",
              "        text-align: left;\n",
              "    }\n",
              "\n",
              "    .dataframe thead tr:last-of-type th {\n",
              "        text-align: right;\n",
              "    }\n",
              "</style>\n",
              "<table border=\"1\" class=\"dataframe\">\n",
              "  <thead>\n",
              "    <tr>\n",
              "      <th></th>\n",
              "      <th colspan=\"10\" halign=\"left\">album</th>\n",
              "      <th>...</th>\n",
              "      <th colspan=\"10\" halign=\"left\">track</th>\n",
              "    </tr>\n",
              "    <tr>\n",
              "      <th></th>\n",
              "      <th>comments</th>\n",
              "      <th>date_created</th>\n",
              "      <th>date_released</th>\n",
              "      <th>engineer</th>\n",
              "      <th>favorites</th>\n",
              "      <th>id</th>\n",
              "      <th>information</th>\n",
              "      <th>listens</th>\n",
              "      <th>producer</th>\n",
              "      <th>tags</th>\n",
              "      <th>...</th>\n",
              "      <th>information</th>\n",
              "      <th>interest</th>\n",
              "      <th>language_code</th>\n",
              "      <th>license</th>\n",
              "      <th>listens</th>\n",
              "      <th>lyricist</th>\n",
              "      <th>number</th>\n",
              "      <th>publisher</th>\n",
              "      <th>tags</th>\n",
              "      <th>title</th>\n",
              "    </tr>\n",
              "    <tr>\n",
              "      <th>track_id</th>\n",
              "      <th></th>\n",
              "      <th></th>\n",
              "      <th></th>\n",
              "      <th></th>\n",
              "      <th></th>\n",
              "      <th></th>\n",
              "      <th></th>\n",
              "      <th></th>\n",
              "      <th></th>\n",
              "      <th></th>\n",
              "      <th></th>\n",
              "      <th></th>\n",
              "      <th></th>\n",
              "      <th></th>\n",
              "      <th></th>\n",
              "      <th></th>\n",
              "      <th></th>\n",
              "      <th></th>\n",
              "      <th></th>\n",
              "      <th></th>\n",
              "      <th></th>\n",
              "    </tr>\n",
              "  </thead>\n",
              "  <tbody>\n",
              "    <tr>\n",
              "      <th>2</th>\n",
              "      <td>0</td>\n",
              "      <td>2008-11-26 01:44:45</td>\n",
              "      <td>2009-01-05 00:00:00</td>\n",
              "      <td>NaN</td>\n",
              "      <td>4</td>\n",
              "      <td>1</td>\n",
              "      <td>&lt;p&gt;&lt;/p&gt;</td>\n",
              "      <td>6073</td>\n",
              "      <td>NaN</td>\n",
              "      <td>[]</td>\n",
              "      <td>...</td>\n",
              "      <td>NaN</td>\n",
              "      <td>4656</td>\n",
              "      <td>en</td>\n",
              "      <td>Attribution-NonCommercial-ShareAlike 3.0 Inter...</td>\n",
              "      <td>1293</td>\n",
              "      <td>NaN</td>\n",
              "      <td>3</td>\n",
              "      <td>NaN</td>\n",
              "      <td>[]</td>\n",
              "      <td>Food</td>\n",
              "    </tr>\n",
              "    <tr>\n",
              "      <th>3</th>\n",
              "      <td>0</td>\n",
              "      <td>2008-11-26 01:44:45</td>\n",
              "      <td>2009-01-05 00:00:00</td>\n",
              "      <td>NaN</td>\n",
              "      <td>4</td>\n",
              "      <td>1</td>\n",
              "      <td>&lt;p&gt;&lt;/p&gt;</td>\n",
              "      <td>6073</td>\n",
              "      <td>NaN</td>\n",
              "      <td>[]</td>\n",
              "      <td>...</td>\n",
              "      <td>NaN</td>\n",
              "      <td>1470</td>\n",
              "      <td>en</td>\n",
              "      <td>Attribution-NonCommercial-ShareAlike 3.0 Inter...</td>\n",
              "      <td>514</td>\n",
              "      <td>NaN</td>\n",
              "      <td>4</td>\n",
              "      <td>NaN</td>\n",
              "      <td>[]</td>\n",
              "      <td>Electric Ave</td>\n",
              "    </tr>\n",
              "    <tr>\n",
              "      <th>5</th>\n",
              "      <td>0</td>\n",
              "      <td>2008-11-26 01:44:45</td>\n",
              "      <td>2009-01-05 00:00:00</td>\n",
              "      <td>NaN</td>\n",
              "      <td>4</td>\n",
              "      <td>1</td>\n",
              "      <td>&lt;p&gt;&lt;/p&gt;</td>\n",
              "      <td>6073</td>\n",
              "      <td>NaN</td>\n",
              "      <td>[]</td>\n",
              "      <td>...</td>\n",
              "      <td>NaN</td>\n",
              "      <td>1933</td>\n",
              "      <td>en</td>\n",
              "      <td>Attribution-NonCommercial-ShareAlike 3.0 Inter...</td>\n",
              "      <td>1151</td>\n",
              "      <td>NaN</td>\n",
              "      <td>6</td>\n",
              "      <td>NaN</td>\n",
              "      <td>[]</td>\n",
              "      <td>This World</td>\n",
              "    </tr>\n",
              "    <tr>\n",
              "      <th>10</th>\n",
              "      <td>0</td>\n",
              "      <td>2008-11-26 01:45:08</td>\n",
              "      <td>2008-02-06 00:00:00</td>\n",
              "      <td>NaN</td>\n",
              "      <td>4</td>\n",
              "      <td>6</td>\n",
              "      <td>NaN</td>\n",
              "      <td>47632</td>\n",
              "      <td>NaN</td>\n",
              "      <td>[]</td>\n",
              "      <td>...</td>\n",
              "      <td>NaN</td>\n",
              "      <td>54881</td>\n",
              "      <td>en</td>\n",
              "      <td>Attribution-NonCommercial-NoDerivatives (aka M...</td>\n",
              "      <td>50135</td>\n",
              "      <td>NaN</td>\n",
              "      <td>1</td>\n",
              "      <td>NaN</td>\n",
              "      <td>[]</td>\n",
              "      <td>Freeway</td>\n",
              "    </tr>\n",
              "    <tr>\n",
              "      <th>20</th>\n",
              "      <td>0</td>\n",
              "      <td>2008-11-26 01:45:05</td>\n",
              "      <td>2009-01-06 00:00:00</td>\n",
              "      <td>NaN</td>\n",
              "      <td>2</td>\n",
              "      <td>4</td>\n",
              "      <td>&lt;p&gt; \"spiritual songs\" from Nicky Cook&lt;/p&gt;</td>\n",
              "      <td>2710</td>\n",
              "      <td>NaN</td>\n",
              "      <td>[]</td>\n",
              "      <td>...</td>\n",
              "      <td>NaN</td>\n",
              "      <td>978</td>\n",
              "      <td>en</td>\n",
              "      <td>Attribution-NonCommercial-NoDerivatives (aka M...</td>\n",
              "      <td>361</td>\n",
              "      <td>NaN</td>\n",
              "      <td>3</td>\n",
              "      <td>NaN</td>\n",
              "      <td>[]</td>\n",
              "      <td>Spiritual Level</td>\n",
              "    </tr>\n",
              "  </tbody>\n",
              "</table>\n",
              "<p>5 rows × 52 columns</p>\n",
              "</div>"
            ],
            "text/plain": [
              "            album                                                     \\\n",
              "         comments         date_created        date_released engineer   \n",
              "track_id                                                               \n",
              "2               0  2008-11-26 01:44:45  2009-01-05 00:00:00      NaN   \n",
              "3               0  2008-11-26 01:44:45  2009-01-05 00:00:00      NaN   \n",
              "5               0  2008-11-26 01:44:45  2009-01-05 00:00:00      NaN   \n",
              "10              0  2008-11-26 01:45:08  2008-02-06 00:00:00      NaN   \n",
              "20              0  2008-11-26 01:45:05  2009-01-06 00:00:00      NaN   \n",
              "\n",
              "                                                                          \\\n",
              "         favorites id                                information listens   \n",
              "track_id                                                                   \n",
              "2                4  1                                    <p></p>    6073   \n",
              "3                4  1                                    <p></p>    6073   \n",
              "5                4  1                                    <p></p>    6073   \n",
              "10               4  6                                        NaN   47632   \n",
              "20               2  4  <p> \"spiritual songs\" from Nicky Cook</p>    2710   \n",
              "\n",
              "                        ...       track                         \\\n",
              "         producer tags  ... information interest language_code   \n",
              "track_id                ...                                      \n",
              "2             NaN   []  ...         NaN     4656            en   \n",
              "3             NaN   []  ...         NaN     1470            en   \n",
              "5             NaN   []  ...         NaN     1933            en   \n",
              "10            NaN   []  ...         NaN    54881            en   \n",
              "20            NaN   []  ...         NaN      978            en   \n",
              "\n",
              "                                                                              \\\n",
              "                                                    license listens lyricist   \n",
              "track_id                                                                       \n",
              "2         Attribution-NonCommercial-ShareAlike 3.0 Inter...    1293      NaN   \n",
              "3         Attribution-NonCommercial-ShareAlike 3.0 Inter...     514      NaN   \n",
              "5         Attribution-NonCommercial-ShareAlike 3.0 Inter...    1151      NaN   \n",
              "10        Attribution-NonCommercial-NoDerivatives (aka M...   50135      NaN   \n",
              "20        Attribution-NonCommercial-NoDerivatives (aka M...     361      NaN   \n",
              "\n",
              "                                                 \n",
              "         number publisher tags            title  \n",
              "track_id                                         \n",
              "2             3       NaN   []             Food  \n",
              "3             4       NaN   []     Electric Ave  \n",
              "5             6       NaN   []       This World  \n",
              "10            1       NaN   []          Freeway  \n",
              "20            3       NaN   []  Spiritual Level  \n",
              "\n",
              "[5 rows x 52 columns]"
            ]
          },
          "metadata": {
            "tags": []
          },
          "execution_count": 16
        }
      ]
    },
    {
      "cell_type": "code",
      "metadata": {
        "id": "ld7tEVK-P1pv",
        "colab_type": "code",
        "colab": {
          "base_uri": "https://localhost:8080/",
          "height": 70
        },
        "outputId": "a72a05eb-9713-4eb7-ab4e-c515c2f7126e"
      },
      "source": [
        "df.columns"
      ],
      "execution_count": 17,
      "outputs": [
        {
          "output_type": "execute_result",
          "data": {
            "text/plain": [
              "MultiIndex(levels=[['album', 'artist', 'set', 'track'], ['active_year_begin', 'active_year_end', 'associated_labels', 'bio', 'bit_rate', 'comments', 'composer', 'date_created', 'date_recorded', 'date_released', 'duration', 'engineer', 'favorites', 'genre_top', 'genres', 'genres_all', 'id', 'information', 'interest', 'language_code', 'latitude', 'license', 'listens', 'location', 'longitude', 'lyricist', 'members', 'name', 'number', 'producer', 'publisher', 'related_projects', 'split', 'subset', 'tags', 'title', 'tracks', 'type', 'website', 'wikipedia_page']],\n",
              "           codes=[[0, 0, 0, 0, 0, 0, 0, 0, 0, 0, 0, 0, 0, 1, 1, 1, 1, 1, 1, 1, 1, 1, 1, 1, 1, 1, 1, 1, 1, 1, 2, 2, 3, 3, 3, 3, 3, 3, 3, 3, 3, 3, 3, 3, 3, 3, 3, 3, 3, 3, 3, 3], [5, 7, 9, 11, 12, 16, 17, 22, 29, 34, 35, 36, 37, 0, 1, 2, 3, 5, 7, 12, 16, 20, 23, 24, 26, 27, 31, 34, 38, 39, 32, 33, 4, 5, 6, 7, 8, 10, 12, 13, 14, 15, 17, 18, 19, 21, 22, 25, 28, 30, 34, 35]])"
            ]
          },
          "metadata": {
            "tags": []
          },
          "execution_count": 17
        }
      ]
    },
    {
      "cell_type": "code",
      "metadata": {
        "id": "2TuxXCbLX43V",
        "colab_type": "code",
        "colab": {}
      },
      "source": [
        "#make a genre dictionary mapping string names to values\n",
        "#json loads just turns the list elements in genres and genres all to actual lists when you call them\n",
        "import json\n",
        "genre_dict={}\n",
        "for i in genre_nonans.index:\n",
        "  if genre_nonans['genre_top'][i] in genre_dict:\n",
        "    continue\n",
        "  else:\n",
        "    genre_dict[genre_nonans['genre_top'][i]]=json.loads(genre_nonans['genres'][i])[0]\n",
        "    \n",
        "  "
      ],
      "execution_count": 0,
      "outputs": []
    },
    {
      "cell_type": "code",
      "metadata": {
        "id": "Lr0zxvlsQbl_",
        "colab_type": "code",
        "colab": {}
      },
      "source": [
        "#there seems to be some kind of ordering on 'genres all' so just take the first elemenent where genre top is nan originally\n",
        "targets=['genre_top',\t'genres',\t'genres_all']\n",
        "genre_map=df['track'][['genre_top',\t'genres',\t'genres_all']].copy()\n",
        "\n",
        "final_list=[]\n",
        "for i in genre_map.index:\n",
        "  key=genre_map['genre_top'][i]\n",
        "  if pd.isnull(key)==False:\n",
        "    temp_val=genre_dict[key]\n",
        "    final_list.append(temp_val)\n",
        "  else:\n",
        "    code_list=json.loads(genre_map['genres_all'][i])\n",
        "    temp_list=[]\n",
        "    for code in code_list:\n",
        "      if int(code) in genre_dict.values():\n",
        "        temp_list.append(code)\n",
        "      else:\n",
        "        continue\n",
        "    temp_list.append(0)\n",
        "    final_list.append(temp_list[0])\n",
        "\n",
        "\n",
        "genre_map['genre_final']=final_list"
      ],
      "execution_count": 0,
      "outputs": []
    },
    {
      "cell_type": "code",
      "metadata": {
        "id": "vKhU5pbmmg7B",
        "colab_type": "code",
        "colab": {
          "base_uri": "https://localhost:8080/",
          "height": 201
        },
        "outputId": "6437bdaf-8f3e-48bf-ba47-d509ebc1813d"
      },
      "source": [
        "#there are only 9,400 0 values now which is much better than the 50,000.  there is a futher genre dictionary to download\n",
        "#but on several numbers you have to do multiple look ups to get the final parent so probably not worth it so we can drop all teh zeros\n",
        "#and all the categories with less than 2,000 value count\n",
        "#genre_map[genre_map['genre_final']==0].tail(20)\n",
        "count_dict=genre_map['genre_final'].value_counts().to_dict()\n",
        "genre_map['count']=genre_map['genre_final'].map(count_dict)\n",
        "genre_map['genre_final']=np.where(genre_map['count']<2000,0,genre_map['genre_final'])\n",
        "genre_map['genre_final'].value_counts()"
      ],
      "execution_count": 106,
      "outputs": [
        {
          "output_type": "execute_result",
          "data": {
            "text/plain": [
              "15     25765\n",
              "1      15255\n",
              "45     14828\n",
              "0      14770\n",
              "10     11527\n",
              "17      9713\n",
              "21      6617\n",
              "4       3138\n",
              "5       2818\n",
              "538     2143\n",
              "Name: genre_final, dtype: int64"
            ]
          },
          "metadata": {
            "tags": []
          },
          "execution_count": 106
        }
      ]
    },
    {
      "cell_type": "code",
      "metadata": {
        "id": "bbuW5qxZw2By",
        "colab_type": "code",
        "colab": {
          "base_uri": "https://localhost:8080/",
          "height": 117
        },
        "outputId": "9f56d49e-02a0-4acc-a98b-247bf9b16863"
      },
      "source": [
        "genre_map.isna().sum()"
      ],
      "execution_count": 126,
      "outputs": [
        {
          "output_type": "execute_result",
          "data": {
            "text/plain": [
              "genre_top      56976\n",
              "genres             0\n",
              "genres_all         0\n",
              "genre_final        0\n",
              "count              0\n",
              "dtype: int64"
            ]
          },
          "metadata": {
            "tags": []
          },
          "execution_count": 126
        }
      ]
    },
    {
      "cell_type": "code",
      "metadata": {
        "id": "XObWZs1NxRUC",
        "colab_type": "code",
        "colab": {
          "base_uri": "https://localhost:8080/",
          "height": 87
        },
        "outputId": "ca9a5568-549e-4151-980b-d0a8d5caca87"
      },
      "source": [
        "#flatten dataframe at put categories to codes\n",
        "df=pd.read_csv('fma_metadata/tracks.csv',skiprows=1)\n",
        "df.rename(columns={'Unnamed: 0':'track_id',\n",
        "                        }, \n",
        "                 inplace=True)\n",
        "df=df.drop(0,axis=0)\n",
        "len(df)"
      ],
      "execution_count": 130,
      "outputs": [
        {
          "output_type": "stream",
          "text": [
            "/usr/local/lib/python3.6/dist-packages/IPython/core/interactiveshell.py:2718: DtypeWarning: Columns (0) have mixed types. Specify dtype option on import or set low_memory=False.\n",
            "  interactivity=interactivity, compiler=compiler, result=result)\n"
          ],
          "name": "stderr"
        },
        {
          "output_type": "execute_result",
          "data": {
            "text/plain": [
              "106574"
            ]
          },
          "metadata": {
            "tags": []
          },
          "execution_count": 130
        }
      ]
    },
    {
      "cell_type": "code",
      "metadata": {
        "id": "bdflqKoTRs36",
        "colab_type": "code",
        "colab": {}
      },
      "source": [
        "df['genre_final']=list(genre_map['genre_final'])\n",
        "import datetime as dt\n",
        "col_dates = ['date_created', 'date_released','active_year_begin','active_year_end','date_created.1','date_created.2','date_recorded']\n",
        "cols_cat=[ 'engineer', 'information',\n",
        "       'producer', 'tags', 'title', 'type', \n",
        "        'associated_labels', 'bio', \n",
        "       'location', 'members', 'name', 'related_projects', 'tags.1', 'website',\n",
        "       'wikipedia_page', 'split', 'subset', 'composer', \n",
        "         'information.1',\n",
        "       'language_code', 'license', 'lyricist', 'publisher', 'tags.2',\n",
        "       'title.1']\n",
        "for col in cols_cat:\n",
        "    df[col] = pd.Categorical(df[col])\n",
        "    df[col] = df[col].cat.codes\n",
        "    \n",
        "#taking just the year and month for all the dates\n",
        "for cold in col_dates:\n",
        "    name='{}_month'.format(cold)\n",
        "    df[cold]=pd.to_datetime(df[cold]).dt.year\n",
        "    df[name]=pd.to_datetime(df[cold]).dt.month"
      ],
      "execution_count": 0,
      "outputs": []
    },
    {
      "cell_type": "code",
      "metadata": {
        "id": "wEbr0q6tuoJM",
        "colab_type": "code",
        "colab": {
          "base_uri": "https://localhost:8080/",
          "height": 184
        },
        "outputId": "bea2293e-77ef-4e73-8f28-c165a44fea46"
      },
      "source": [
        "#take out 0 values for genre\n",
        "df=df[df['genre_final']!=0]\n",
        "df['genre_final'].value_counts()"
      ],
      "execution_count": 133,
      "outputs": [
        {
          "output_type": "execute_result",
          "data": {
            "text/plain": [
              "15     25765\n",
              "1      15255\n",
              "45     14828\n",
              "10     11527\n",
              "17      9713\n",
              "21      6617\n",
              "4       3138\n",
              "5       2818\n",
              "538     2143\n",
              "Name: genre_final, dtype: int64"
            ]
          },
          "metadata": {
            "tags": []
          },
          "execution_count": 133
        }
      ]
    },
    {
      "cell_type": "code",
      "metadata": {
        "id": "3K302lIZY7Fh",
        "colab_type": "code",
        "colab": {
          "base_uri": "https://localhost:8080/",
          "height": 137
        },
        "outputId": "b9c06c57-20e0-4236-de15-42c43c792962"
      },
      "source": [
        "#here we choose features split into train test set then impute missing values and scale it to mean 0, std 1\n",
        "from sklearn.impute import SimpleImputer\n",
        "from sklearn.model_selection import train_test_split\n",
        "from sklearn.preprocessing import StandardScaler\n",
        "from sklearn.linear_model import LogisticRegression\n",
        "targets=['genre_top','genres','genres_all','genre_final']\n",
        "features=['date_released', 'engineer',\n",
        "       'favorites','listens', 'producer', 'tags',\n",
        "        'tracks', 'type','associated_labels','latitude', \n",
        "    'longitude','composer','duration', \n",
        "       'language_code', 'license', 'publisher','date_released_month']\n",
        "\n",
        "y=df.copy()[targets[3]]\n",
        "X=df.copy()[features]\n",
        "\n",
        "X_train, X_test, y_train, y_test = train_test_split(X, y, test_size=0.2, random_state=42)\n",
        "\n",
        "imputer2=SimpleImputer()\n",
        "X_train_imputed=imputer2.fit_transform(X_train)\n",
        "X_test_imputed = imputer2.transform(X_test)\n",
        "scaler = StandardScaler()\n",
        "X_train_scaled=scaler.fit_transform(X_train_imputed)\n",
        "mylogreg = LogisticRegression(solver='lbfgs')#,max_iter=1000,multi_class='ovr')\n",
        "mylogreg.fit(X_train_scaled,y_train)"
      ],
      "execution_count": 135,
      "outputs": [
        {
          "output_type": "stream",
          "text": [
            "/usr/local/lib/python3.6/dist-packages/sklearn/linear_model/logistic.py:460: FutureWarning: Default multi_class will be changed to 'auto' in 0.22. Specify the multi_class option to silence this warning.\n",
            "  \"this warning.\", FutureWarning)\n"
          ],
          "name": "stderr"
        },
        {
          "output_type": "execute_result",
          "data": {
            "text/plain": [
              "LogisticRegression(C=1.0, class_weight=None, dual=False, fit_intercept=True,\n",
              "          intercept_scaling=1, max_iter=100, multi_class='warn',\n",
              "          n_jobs=None, penalty='l2', random_state=None, solver='lbfgs',\n",
              "          tol=0.0001, verbose=0, warm_start=False)"
            ]
          },
          "metadata": {
            "tags": []
          },
          "execution_count": 135
        }
      ]
    },
    {
      "cell_type": "code",
      "metadata": {
        "id": "2JctoowBaNlt",
        "colab_type": "code",
        "colab": {
          "base_uri": "https://localhost:8080/",
          "height": 33
        },
        "outputId": "84314049-59da-4715-cf91-bb3fdeff34a2"
      },
      "source": [
        "#accuracy score seems ok. would be surprised with much higher\n",
        "my_score=mylogreg.score(X_train_scaled, y_train)\n",
        "print('train accuracy score',my_score)"
      ],
      "execution_count": 136,
      "outputs": [
        {
          "output_type": "stream",
          "text": [
            "train accuracy score 0.36196778454039186\n"
          ],
          "name": "stdout"
        }
      ]
    },
    {
      "cell_type": "code",
      "metadata": {
        "id": "Y7_AUBNfyBMM",
        "colab_type": "code",
        "colab": {
          "base_uri": "https://localhost:8080/",
          "height": 33
        },
        "outputId": "6447d26b-50b4-4e41-e34e-e03c1d8d6bb5"
      },
      "source": [
        "X_test_scaled=scaler.transform(X_test_imputed)\n",
        "score_test=mylogreg.score(X_test_scaled, y_test)\n",
        "print('test accuracy score',score_test)"
      ],
      "execution_count": 138,
      "outputs": [
        {
          "output_type": "stream",
          "text": [
            "test accuracy score 0.367082402919231\n"
          ],
          "name": "stdout"
        }
      ]
    },
    {
      "cell_type": "code",
      "metadata": {
        "id": "Rid929Zly1xt",
        "colab_type": "code",
        "colab": {
          "base_uri": "https://localhost:8080/",
          "height": 33
        },
        "outputId": "f5bce54f-693e-445a-8750-21b9b877ac3d"
      },
      "source": [
        "len(features)"
      ],
      "execution_count": 140,
      "outputs": [
        {
          "output_type": "execute_result",
          "data": {
            "text/plain": [
              "17"
            ]
          },
          "metadata": {
            "tags": []
          },
          "execution_count": 140
        }
      ]
    },
    {
      "cell_type": "code",
      "metadata": {
        "id": "9QMj377HyoNT",
        "colab_type": "code",
        "colab": {
          "base_uri": "https://localhost:8080/",
          "height": 318
        },
        "outputId": "176ac4a3-d6fa-46e3-a430-eed3b4f97270"
      },
      "source": [
        "#see the importance of coefficients by summing absolute values\n",
        "#we can do this as data is scaled \n",
        "coeffs=pd.DataFrame(mylogreg.coef_)\n",
        "coeffs.columns=features\n",
        "coeffs.abs().sum()"
      ],
      "execution_count": 144,
      "outputs": [
        {
          "output_type": "execute_result",
          "data": {
            "text/plain": [
              "date_released          0.795723\n",
              "engineer               1.004941\n",
              "favorites              0.968917\n",
              "listens                4.690555\n",
              "producer               0.721325\n",
              "tags                   1.364323\n",
              "tracks                 2.902000\n",
              "type                   1.691798\n",
              "associated_labels      1.315510\n",
              "latitude               0.712207\n",
              "longitude              0.765599\n",
              "composer               2.025792\n",
              "duration               2.485333\n",
              "language_code          0.696206\n",
              "license                0.958314\n",
              "publisher              1.132953\n",
              "date_released_month    0.000000\n",
              "dtype: float64"
            ]
          },
          "metadata": {
            "tags": []
          },
          "execution_count": 144
        }
      ]
    },
    {
      "cell_type": "code",
      "metadata": {
        "id": "3P8-8Tirz7oQ",
        "colab_type": "code",
        "colab": {}
      },
      "source": [
        "#tracks, listens, composer and duration, \n",
        "#i would have expected location to have more of an effect\n",
        "#i would have expected month to have some predictive value, as music is realeased seasonally, but apparently not"
      ],
      "execution_count": 0,
      "outputs": []
    },
    {
      "cell_type": "code",
      "metadata": {
        "id": "WUFskPZQ2djB",
        "colab_type": "code",
        "colab": {}
      },
      "source": [
        "proba_list=mylogreg.predict_proba(X_test_scaled)\n",
        "proba_max=[proba_list[i].max() for i in range(0,len(proba_list))]"
      ],
      "execution_count": 0,
      "outputs": []
    },
    {
      "cell_type": "code",
      "metadata": {
        "id": "sHwOg2hg3elX",
        "colab_type": "code",
        "colab": {
          "base_uri": "https://localhost:8080/",
          "height": 33
        },
        "outputId": "ae9b18b7-1f35-47ac-ec10-ff42a56b18b5"
      },
      "source": [
        "max(proba_max),min(proba_max)"
      ],
      "execution_count": 156,
      "outputs": [
        {
          "output_type": "execute_result",
          "data": {
            "text/plain": [
              "(0.7849920022223265, 0.16734645132197248)"
            ]
          },
          "metadata": {
            "tags": []
          },
          "execution_count": 156
        }
      ]
    },
    {
      "cell_type": "code",
      "metadata": {
        "id": "0tBc63De33KX",
        "colab_type": "code",
        "colab": {
          "base_uri": "https://localhost:8080/",
          "height": 294
        },
        "outputId": "e5f62f0f-3362-4c35-8edf-f148a415765f"
      },
      "source": [
        "import matplotlib.pyplot as plt\n",
        "plt.hist(proba_max,bins=10)\n",
        "plt.title('histogram of probability of top pick being right')\n",
        "plt.xlabel('probability')\n",
        "plt.ylabel('count');"
      ],
      "execution_count": 161,
      "outputs": [
        {
          "output_type": "display_data",
          "data": {
            "image/png": "[encoded data removed]",
            "text/plain": [
              "<Figure size 432x288 with 1 Axes>"
            ]
          },
          "metadata": {
            "tags": []
          }
        }
      ]
    },
    {
      "cell_type": "code",
      "metadata": {
        "id": "vLfj-6OKXWrw",
        "colab_type": "code",
        "colab": {}
      },
      "source": [
        "#takign a look at raw genre data\n",
        "import numpy as np\n",
        "rg=pd.read_csv('fma_metadata/raw_genres.csv')#,header=[0,1],index_col=0)\n",
        "parent_id_list=list(rg[rg['genre_parent_id'].isna()==False]['genre_parent_id'])\n",
        "pid_unique=[]\n",
        "for x in  parent_id_list:\n",
        "  if x in pid_unique:\n",
        "    continue\n",
        "  else:\n",
        "    pid_unique.append(x)\n",
        "rg['is_parent']=np.where((rg['genre_id'].isin(pid_unique)) & (rg['genre_parent_id'].isna()),1,0)"
      ],
      "execution_count": 0,
      "outputs": []
    },
    {
      "cell_type": "code",
      "metadata": {
        "id": "Wsno5LZfbPgu",
        "colab_type": "code",
        "colab": {
          "base_uri": "https://localhost:8080/",
          "height": 196
        },
        "outputId": "94990213-ce46-4440-d481-495a3755e886"
      },
      "source": [
        "rg.head()"
      ],
      "execution_count": 145,
      "outputs": [
        {
          "output_type": "execute_result",
          "data": {
            "text/html": [
              "<div>\n",
              "<style scoped>\n",
              "    .dataframe tbody tr th:only-of-type {\n",
              "        vertical-align: middle;\n",
              "    }\n",
              "\n",
              "    .dataframe tbody tr th {\n",
              "        vertical-align: top;\n",
              "    }\n",
              "\n",
              "    .dataframe thead th {\n",
              "        text-align: right;\n",
              "    }\n",
              "</style>\n",
              "<table border=\"1\" class=\"dataframe\">\n",
              "  <thead>\n",
              "    <tr style=\"text-align: right;\">\n",
              "      <th></th>\n",
              "      <th>genre_id</th>\n",
              "      <th>genre_color</th>\n",
              "      <th>genre_handle</th>\n",
              "      <th>genre_parent_id</th>\n",
              "      <th>genre_title</th>\n",
              "      <th>is_parent</th>\n",
              "    </tr>\n",
              "  </thead>\n",
              "  <tbody>\n",
              "    <tr>\n",
              "      <th>0</th>\n",
              "      <td>1</td>\n",
              "      <td>#006666</td>\n",
              "      <td>Avant-Garde</td>\n",
              "      <td>38.0</td>\n",
              "      <td>Avant-Garde</td>\n",
              "      <td>0</td>\n",
              "    </tr>\n",
              "    <tr>\n",
              "      <th>1</th>\n",
              "      <td>2</td>\n",
              "      <td>#CC3300</td>\n",
              "      <td>International</td>\n",
              "      <td>NaN</td>\n",
              "      <td>International</td>\n",
              "      <td>1</td>\n",
              "    </tr>\n",
              "    <tr>\n",
              "      <th>2</th>\n",
              "      <td>3</td>\n",
              "      <td>#000099</td>\n",
              "      <td>Blues</td>\n",
              "      <td>NaN</td>\n",
              "      <td>Blues</td>\n",
              "      <td>1</td>\n",
              "    </tr>\n",
              "    <tr>\n",
              "      <th>3</th>\n",
              "      <td>4</td>\n",
              "      <td>#990099</td>\n",
              "      <td>Jazz</td>\n",
              "      <td>NaN</td>\n",
              "      <td>Jazz</td>\n",
              "      <td>1</td>\n",
              "    </tr>\n",
              "    <tr>\n",
              "      <th>4</th>\n",
              "      <td>5</td>\n",
              "      <td>#8A8A65</td>\n",
              "      <td>Classical</td>\n",
              "      <td>NaN</td>\n",
              "      <td>Classical</td>\n",
              "      <td>1</td>\n",
              "    </tr>\n",
              "  </tbody>\n",
              "</table>\n",
              "</div>"
            ],
            "text/plain": [
              "   genre_id genre_color   genre_handle  genre_parent_id    genre_title  \\\n",
              "0         1     #006666    Avant-Garde             38.0    Avant-Garde   \n",
              "1         2     #CC3300  International              NaN  International   \n",
              "2         3     #000099          Blues              NaN          Blues   \n",
              "3         4     #990099           Jazz              NaN           Jazz   \n",
              "4         5     #8A8A65      Classical              NaN      Classical   \n",
              "\n",
              "   is_parent  \n",
              "0          0  \n",
              "1          1  \n",
              "2          1  \n",
              "3          1  \n",
              "4          1  "
            ]
          },
          "metadata": {
            "tags": []
          },
          "execution_count": 145
        }
      ]
    },
    {
      "cell_type": "code",
      "metadata": {
        "id": "nNbblEmSeiGE",
        "colab_type": "code",
        "colab": {}
      },
      "source": [
        ""
      ],
      "execution_count": 0,
      "outputs": []
    }
  ]
}