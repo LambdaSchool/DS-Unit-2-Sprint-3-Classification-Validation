{
  "nbformat": 4,
  "nbformat_minor": 0,
  "metadata": {
    "colab": {
      "name": "LS_DS_242_Validate_classification_problems.ipynb",
      "version": "0.3.2",
      "provenance": [],
      "collapsed_sections": [],
      "include_colab_link": true
    },
    "language_info": {
      "codemirror_mode": {
        "name": "ipython",
        "version": 3
      },
      "file_extension": ".py",
      "mimetype": "text/x-python",
      "name": "python",
      "nbconvert_exporter": "python",
      "pygments_lexer": "ipython3",
      "version": "3.7.1"
    },
    "kernelspec": {
      "display_name": "Python 3",
      "language": "python",
      "name": "python3"
    }
  },
  "cells": [
    {
      "cell_type": "markdown",
      "metadata": {
        "id": "view-in-github",
        "colab_type": "text"
      },
      "source": [
        "<a href=\"https://colab.research.google.com/github/LilySu/DS-Unit-2-Sprint-3-Classification-Validation/blob/master/LS_DS_242_Validate_classification_problems.ipynb\" target=\"_parent\"><img src=\"https://colab.research.google.com/assets/colab-badge.svg\" alt=\"Open In Colab\"/></a>"
      ]
    },
    {
      "cell_type": "markdown",
      "metadata": {
        "colab_type": "text",
        "id": "KMI2k-oBsS08"
      },
      "source": [
        "_Lambda School Data Science — Model Validation_ \n",
        "\n",
        "# Classification Metrics & Imbalanced Classes\n",
        "\n",
        "#### Objectives\n",
        "- Classification Metrics: Accuracy, Precision, Recall, F1, ROC AUC\n",
        "- Confusion Matrix\n",
        "- Imbalanced Classes\n",
        "\n",
        "#### Pre-reads\n",
        "- [Precision and Recall](https://en.wikipedia.org/wiki/Precision_and_recall)\n",
        "- [Simple guide to confusion matrix terminology](https://www.dataschool.io/simple-guide-to-confusion-matrix-terminology/)\n",
        "- [ROC curves and Area Under the Curve explained](https://www.dataschool.io/roc-curves-and-auc-explained/)\n"
      ]
    },
    {
      "cell_type": "markdown",
      "metadata": {
        "colab_type": "text",
        "id": "rU7RuVcjWdcp"
      },
      "source": [
        "## Preliminary setup"
      ]
    },
    {
      "cell_type": "markdown",
      "metadata": {
        "colab_type": "text",
        "id": "WIqp4yzdUsf2"
      },
      "source": [
        "#### Install [category_encoders](https://github.com/scikit-learn-contrib/categorical-encoding)\n",
        "- Google Colab: `pip install category_encoders`\n",
        "- Local, Anaconda: `conda install -c conda-forge category_encoders`\n",
        "\n",
        "#### Install  [mlxtend](http://rasbt.github.io/mlxtend/) to plot decision regions\n",
        "- Google Colab: Already installed\n",
        "- Local, Anaconda: `conda install -c conda-forge mlxtend`\n",
        "\n",
        "#### Get the Bank Marketing dataset\n",
        "- Download from [UCI](https://archive.ics.uci.edu/ml/datasets/Bank+Marketing)\n",
        "- Or run this cell:"
      ]
    },
    {
      "cell_type": "code",
      "metadata": {
        "id": "jt--ykI-hVb_",
        "colab_type": "code",
        "colab": {}
      },
      "source": [
        "import sys\n",
        "import numpy\n",
        "numpy.set_printoptions(threshold=sys.maxsize)\n"
      ],
      "execution_count": 0,
      "outputs": []
    },
    {
      "cell_type": "code",
      "metadata": {
        "id": "kn7C-19bL3bc",
        "colab_type": "code",
        "colab": {}
      },
      "source": [
        "# pip install category_encoders"
      ],
      "execution_count": 0,
      "outputs": []
    },
    {
      "cell_type": "markdown",
      "metadata": {
        "colab_type": "text",
        "id": "exZrRRC2WObS"
      },
      "source": [
        "# Classification Metrics & Confusion Matrix — with Bank Marketing dataset"
      ]
    },
    {
      "cell_type": "code",
      "metadata": {
        "id": "0HVFZmh_LStM",
        "colab_type": "code",
        "colab": {}
      },
      "source": [
        "import requests, zipfile, io\n",
        "r = requests.get('https://archive.ics.uci.edu/ml/machine-learning-databases/00222/bank-additional.zip')\n",
        "z = zipfile.ZipFile(io.BytesIO(r.content))\n",
        "z.extractall()\n"
      ],
      "execution_count": 0,
      "outputs": []
    },
    {
      "cell_type": "code",
      "metadata": {
        "id": "LvBUfXA_MZ0B",
        "colab_type": "code",
        "colab": {}
      },
      "source": [
        "#    # bank client data:\n",
        "#    1 - age (numeric)\n",
        "#    2 - job : type of job (categorical: \"admin.\",\"unknown\",\"unemployed\",\"management\",\"housemaid\",\"entrepreneur\",\"student\",\n",
        "#                                        \"blue-collar\",\"self-employed\",\"retired\",\"technician\",\"services\") \n",
        "#    3 - marital : marital status (categorical: \"married\",\"divorced\",\"single\"; note: \"divorced\" means divorced or widowed)\n",
        "#    4 - education (categorical: \"unknown\",\"secondary\",\"primary\",\"tertiary\")\n",
        "#    5 - default: has credit in default? (binary: \"yes\",\"no\")\n",
        "#    6 - balance: average yearly balance, in euros (numeric) \n",
        "#    7 - housing: has housing loan? (binary: \"yes\",\"no\")\n",
        "#    8 - loan: has personal loan? (binary: \"yes\",\"no\")\n",
        "#    # related with the last contact of the current campaign:\n",
        "#    9 - contact: contact communication type (categorical: \"unknown\",\"telephone\",\"cellular\") \n",
        "#   10 - day: last contact day of the month (numeric)\n",
        "#   11 - month: last contact month of year (categorical: \"jan\", \"feb\", \"mar\", ..., \"nov\", \"dec\")\n",
        "#   12 - duration: last contact duration, in seconds (numeric)\n",
        "#    # other attributes:\n",
        "#   13 - campaign: number of contacts performed during this campaign and for this client (numeric, includes last contact)\n",
        "#   14 - pdays: number of days that passed by after the client was last contacted from a previous campaign (numeric, -1 means client was not previously contacted)\n",
        "#   15 - previous: number of contacts performed before this campaign and for this client (numeric)\n",
        "#   16 - poutcome: outcome of the previous marketing campaign (categorical: \"unknown\",\"other\",\"failure\",\"success\")\n",
        "\n",
        "#   Output variable (desired target):\n",
        "#   17 - y - has the client subscribed a term deposit? (binary: \"yes\",\"no\")"
      ],
      "execution_count": 0,
      "outputs": []
    },
    {
      "cell_type": "code",
      "metadata": {
        "id": "AVXynYJdowXp",
        "colab_type": "code",
        "colab": {}
      },
      "source": [
        "# This code comes from our previous notebook\n",
        "\n",
        "# Imports\n",
        "%matplotlib inline\n",
        "import warnings\n",
        "import category_encoders as ce\n",
        "import matplotlib.pyplot as plt\n",
        "import pandas as pd\n",
        "from sklearn.linear_model import LogisticRegression\n",
        "from sklearn.model_selection import cross_val_score, train_test_split\n",
        "from sklearn.pipeline import make_pipeline\n",
        "from sklearn.exceptions import DataConversionWarning\n",
        "from sklearn.preprocessing import StandardScaler\n",
        "warnings.filterwarnings(action='ignore', category=DataConversionWarning)\n",
        "\n",
        "# Load data\n",
        "bank = pd.read_csv('bank-additional/bank-additional-full.csv', sep=';')"
      ],
      "execution_count": 0,
      "outputs": []
    },
    {
      "cell_type": "code",
      "metadata": {
        "id": "RKy0zvDjo4RI",
        "colab_type": "code",
        "outputId": "06588892-910f-4eee-b124-b408dfd21ef6",
        "colab": {
          "base_uri": "https://localhost:8080/",
          "height": 372
        }
      },
      "source": [
        "bank.columns.tolist()"
      ],
      "execution_count": 0,
      "outputs": [
        {
          "output_type": "execute_result",
          "data": {
            "text/plain": [
              "['age',\n",
              " 'job',\n",
              " 'marital',\n",
              " 'education',\n",
              " 'default',\n",
              " 'housing',\n",
              " 'loan',\n",
              " 'contact',\n",
              " 'month',\n",
              " 'day_of_week',\n",
              " 'duration',\n",
              " 'campaign',\n",
              " 'pdays',\n",
              " 'previous',\n",
              " 'poutcome',\n",
              " 'emp.var.rate',\n",
              " 'cons.price.idx',\n",
              " 'cons.conf.idx',\n",
              " 'euribor3m',\n",
              " 'nr.employed',\n",
              " 'y']"
            ]
          },
          "metadata": {
            "tags": []
          },
          "execution_count": 309
        }
      ]
    },
    {
      "cell_type": "code",
      "metadata": {
        "id": "URCMVpnCo6yn",
        "colab_type": "code",
        "colab": {}
      },
      "source": [
        "bank = bank.drop(['pdays', 'day_of_week', 'month'], axis=1)"
      ],
      "execution_count": 0,
      "outputs": []
    },
    {
      "cell_type": "code",
      "metadata": {
        "colab_type": "code",
        "id": "1FnLW0DjWKaW",
        "colab": {}
      },
      "source": [
        "# Assign to X, y\n",
        "X = bank.drop(columns='y')\n",
        "y = bank['y'] == 'yes'\n",
        "\n",
        "# Drop leaky feature\n",
        "X = X.drop(columns='duration')\n",
        "\n",
        "# Split Train, Test\n",
        "X_train, X_test, y_train, y_test = train_test_split(\n",
        "    X, y, test_size=0.2, random_state=42, stratify=y)#only makes sense for categorical variables, using class labels, only for classification, not regression\n",
        "\n",
        "# Make pipeline\n",
        "pipeline = make_pipeline(\n",
        "    ce.OneHotEncoder(use_cat_names=True), \n",
        "    StandardScaler(), \n",
        "    LogisticRegression(solver='lbfgs', max_iter=1000)\n",
        ")"
      ],
      "execution_count": 0,
      "outputs": []
    },
    {
      "cell_type": "markdown",
      "metadata": {
        "colab_type": "text",
        "id": "ktgWzULWW2Z0"
      },
      "source": [
        "#### scikit-learn documentation\n",
        "- [sklearn.linear_model.LogisticRegression.predict_proba](https://scikit-learn.org/stable/modules/generated/sklearn.linear_model.LogisticRegression.html#sklearn.linear_model.LogisticRegression.predict_proba)\n",
        "- [sklearn.metrics.classification_report](https://scikit-learn.org/stable/modules/generated/sklearn.metrics.classification_report.html)\n",
        "- [sklearn.metrics.confusion_matrix](https://scikit-learn.org/stable/modules/generated/sklearn.metrics.confusion_matrix.html)\n",
        "- [sklearn.model_selection.cross_val_predict](https://scikit-learn.org/stable/modules/generated/sklearn.model_selection.cross_val_predict.html)"
      ]
    },
    {
      "cell_type": "code",
      "metadata": {
        "colab_type": "code",
        "id": "bXN_sDXYWkj4",
        "colab": {}
      },
      "source": [
        "from sklearn.model_selection import cross_val_predict\n",
        "\n",
        "y_pred_proba = cross_val_predict(pipeline, X_train, y_train, cv=3, n_jobs=-1, \n",
        "                                 method='predict_proba')[:,1]\n",
        "#we want to generate predictions for cross validation\n",
        "#for each datapoint\n",
        "#when we generated predictive probabilities"
      ],
      "execution_count": 0,
      "outputs": []
    },
    {
      "cell_type": "markdown",
      "metadata": {
        "id": "j-aDDXBEJsQy",
        "colab_type": "text"
      },
      "source": [
        "#### Change the threshold and re-run this cell"
      ]
    },
    {
      "cell_type": "code",
      "metadata": {
        "id": "ZW8q4V67JsQz",
        "colab_type": "code",
        "outputId": "78d3078f-bd3c-4231-b44d-aa2f5be304b3",
        "colab": {
          "base_uri": "https://localhost:8080/",
          "height": 663
        }
      },
      "source": [
        "threshold = 0.5#% confidence people will sign up\n",
        "#how many positive predictions we want\n",
        "y_pred = y_pred_proba >= threshold\n",
        "correct = y_pred == y_train\n",
        "\n",
        "labels = pd.DataFrame({'Ground Truth': y_train, \n",
        "                       'Predicted Probability': y_pred_proba, \n",
        "                       'Discrete Prediction': y_pred, \n",
        "                       'Correct Prediction?': correct})\n",
        "\n",
        "labels.head(20)\n",
        "#we look at the first 20 predictions that we make"
      ],
      "execution_count": 0,
      "outputs": [
        {
          "output_type": "execute_result",
          "data": {
            "text/html": [
              "<div>\n",
              "<style scoped>\n",
              "    .dataframe tbody tr th:only-of-type {\n",
              "        vertical-align: middle;\n",
              "    }\n",
              "\n",
              "    .dataframe tbody tr th {\n",
              "        vertical-align: top;\n",
              "    }\n",
              "\n",
              "    .dataframe thead th {\n",
              "        text-align: right;\n",
              "    }\n",
              "</style>\n",
              "<table border=\"1\" class=\"dataframe\">\n",
              "  <thead>\n",
              "    <tr style=\"text-align: right;\">\n",
              "      <th></th>\n",
              "      <th>Ground Truth</th>\n",
              "      <th>Predicted Probability</th>\n",
              "      <th>Discrete Prediction</th>\n",
              "      <th>Correct Prediction?</th>\n",
              "    </tr>\n",
              "  </thead>\n",
              "  <tbody>\n",
              "    <tr>\n",
              "      <th>25611</th>\n",
              "      <td>False</td>\n",
              "      <td>0.046487</td>\n",
              "      <td>False</td>\n",
              "      <td>True</td>\n",
              "    </tr>\n",
              "    <tr>\n",
              "      <th>26010</th>\n",
              "      <td>False</td>\n",
              "      <td>0.021993</td>\n",
              "      <td>False</td>\n",
              "      <td>True</td>\n",
              "    </tr>\n",
              "    <tr>\n",
              "      <th>40194</th>\n",
              "      <td>True</td>\n",
              "      <td>0.637568</td>\n",
              "      <td>True</td>\n",
              "      <td>True</td>\n",
              "    </tr>\n",
              "    <tr>\n",
              "      <th>297</th>\n",
              "      <td>False</td>\n",
              "      <td>0.050329</td>\n",
              "      <td>False</td>\n",
              "      <td>True</td>\n",
              "    </tr>\n",
              "    <tr>\n",
              "      <th>36344</th>\n",
              "      <td>False</td>\n",
              "      <td>0.464055</td>\n",
              "      <td>False</td>\n",
              "      <td>True</td>\n",
              "    </tr>\n",
              "    <tr>\n",
              "      <th>21806</th>\n",
              "      <td>False</td>\n",
              "      <td>0.056445</td>\n",
              "      <td>False</td>\n",
              "      <td>True</td>\n",
              "    </tr>\n",
              "    <tr>\n",
              "      <th>37395</th>\n",
              "      <td>True</td>\n",
              "      <td>0.155261</td>\n",
              "      <td>False</td>\n",
              "      <td>False</td>\n",
              "    </tr>\n",
              "    <tr>\n",
              "      <th>25863</th>\n",
              "      <td>False</td>\n",
              "      <td>0.068147</td>\n",
              "      <td>False</td>\n",
              "      <td>True</td>\n",
              "    </tr>\n",
              "    <tr>\n",
              "      <th>7393</th>\n",
              "      <td>False</td>\n",
              "      <td>0.032568</td>\n",
              "      <td>False</td>\n",
              "      <td>True</td>\n",
              "    </tr>\n",
              "    <tr>\n",
              "      <th>14697</th>\n",
              "      <td>False</td>\n",
              "      <td>0.060655</td>\n",
              "      <td>False</td>\n",
              "      <td>True</td>\n",
              "    </tr>\n",
              "    <tr>\n",
              "      <th>17537</th>\n",
              "      <td>False</td>\n",
              "      <td>0.045613</td>\n",
              "      <td>False</td>\n",
              "      <td>True</td>\n",
              "    </tr>\n",
              "    <tr>\n",
              "      <th>1595</th>\n",
              "      <td>False</td>\n",
              "      <td>0.046436</td>\n",
              "      <td>False</td>\n",
              "      <td>True</td>\n",
              "    </tr>\n",
              "    <tr>\n",
              "      <th>13720</th>\n",
              "      <td>False</td>\n",
              "      <td>0.062736</td>\n",
              "      <td>False</td>\n",
              "      <td>True</td>\n",
              "    </tr>\n",
              "    <tr>\n",
              "      <th>12258</th>\n",
              "      <td>False</td>\n",
              "      <td>0.030725</td>\n",
              "      <td>False</td>\n",
              "      <td>True</td>\n",
              "    </tr>\n",
              "    <tr>\n",
              "      <th>32042</th>\n",
              "      <td>False</td>\n",
              "      <td>0.128906</td>\n",
              "      <td>False</td>\n",
              "      <td>True</td>\n",
              "    </tr>\n",
              "    <tr>\n",
              "      <th>31118</th>\n",
              "      <td>True</td>\n",
              "      <td>0.121394</td>\n",
              "      <td>False</td>\n",
              "      <td>False</td>\n",
              "    </tr>\n",
              "    <tr>\n",
              "      <th>20444</th>\n",
              "      <td>False</td>\n",
              "      <td>0.052469</td>\n",
              "      <td>False</td>\n",
              "      <td>True</td>\n",
              "    </tr>\n",
              "    <tr>\n",
              "      <th>4216</th>\n",
              "      <td>False</td>\n",
              "      <td>0.034313</td>\n",
              "      <td>False</td>\n",
              "      <td>True</td>\n",
              "    </tr>\n",
              "    <tr>\n",
              "      <th>6347</th>\n",
              "      <td>False</td>\n",
              "      <td>0.031914</td>\n",
              "      <td>False</td>\n",
              "      <td>True</td>\n",
              "    </tr>\n",
              "    <tr>\n",
              "      <th>39226</th>\n",
              "      <td>True</td>\n",
              "      <td>0.685474</td>\n",
              "      <td>True</td>\n",
              "      <td>True</td>\n",
              "    </tr>\n",
              "  </tbody>\n",
              "</table>\n",
              "</div>"
            ],
            "text/plain": [
              "       Ground Truth  Predicted Probability  Discrete Prediction  \\\n",
              "25611         False               0.046487                False   \n",
              "26010         False               0.021993                False   \n",
              "40194          True               0.637568                 True   \n",
              "297           False               0.050329                False   \n",
              "36344         False               0.464055                False   \n",
              "21806         False               0.056445                False   \n",
              "37395          True               0.155261                False   \n",
              "25863         False               0.068147                False   \n",
              "7393          False               0.032568                False   \n",
              "14697         False               0.060655                False   \n",
              "17537         False               0.045613                False   \n",
              "1595          False               0.046436                False   \n",
              "13720         False               0.062736                False   \n",
              "12258         False               0.030725                False   \n",
              "32042         False               0.128906                False   \n",
              "31118          True               0.121394                False   \n",
              "20444         False               0.052469                False   \n",
              "4216          False               0.034313                False   \n",
              "6347          False               0.031914                False   \n",
              "39226          True               0.685474                 True   \n",
              "\n",
              "       Correct Prediction?  \n",
              "25611                 True  \n",
              "26010                 True  \n",
              "40194                 True  \n",
              "297                   True  \n",
              "36344                 True  \n",
              "21806                 True  \n",
              "37395                False  \n",
              "25863                 True  \n",
              "7393                  True  \n",
              "14697                 True  \n",
              "17537                 True  \n",
              "1595                  True  \n",
              "13720                 True  \n",
              "12258                 True  \n",
              "32042                 True  \n",
              "31118                False  \n",
              "20444                 True  \n",
              "4216                  True  \n",
              "6347                  True  \n",
              "39226                 True  "
            ]
          },
          "metadata": {
            "tags": []
          },
          "execution_count": 315
        }
      ]
    },
    {
      "cell_type": "code",
      "metadata": {
        "id": "Zc16DH9WPCDk",
        "colab_type": "code",
        "outputId": "cd2de928-9c63-43c2-d1f2-e163fad728a0",
        "colab": {
          "base_uri": "https://localhost:8080/",
          "height": 101
        }
      },
      "source": [
        "threshold = 0.5#% confidence people will sign up\n",
        "y_pred = y_pred_proba >= threshold\n",
        "correct = y_pred == y_train\n",
        "\n",
        "labels = pd.DataFrame({'Ground Truth': y_train, \n",
        "                       'Predicted Probability': y_pred_proba, \n",
        "                       'Discrete Prediction': y_pred, \n",
        "                       'Correct Prediction?': correct})\n",
        "\n",
        "labels.loc[8]"
      ],
      "execution_count": 0,
      "outputs": [
        {
          "output_type": "execute_result",
          "data": {
            "text/plain": [
              "Ground Truth                 False\n",
              "Predicted Probability    0.0592172\n",
              "Discrete Prediction          False\n",
              "Correct Prediction?           True\n",
              "Name: 8, dtype: object"
            ]
          },
          "metadata": {
            "tags": []
          },
          "execution_count": 316
        }
      ]
    },
    {
      "cell_type": "markdown",
      "metadata": {
        "colab_type": "text",
        "id": "h01_ZZxcX0hf"
      },
      "source": [
        "#### Change the threshold and re-run this cell"
      ]
    },
    {
      "cell_type": "code",
      "metadata": {
        "id": "Nnq4Ew7vOeJo",
        "colab_type": "code",
        "outputId": "547444dc-9ea8-4a34-f905-d33ef58fd797",
        "colab": {
          "base_uri": "https://localhost:8080/",
          "height": 269
        }
      },
      "source": [
        "labels['Discrete Prediction'].value_counts(normalize=True).plot.barh(color='grey');"
      ],
      "execution_count": 0,
      "outputs": [
        {
          "output_type": "display_data",
          "data": {
            "image/png": "[encoded data removed]",
            "text/plain": [
              "<Figure size 432x288 with 1 Axes>"
            ]
          },
          "metadata": {
            "tags": []
          }
        }
      ]
    },
    {
      "cell_type": "code",
      "metadata": {
        "id": "AUWY9xAIOpTb",
        "colab_type": "code",
        "outputId": "010b5f81-1786-4fe5-df9a-3c880b13bbb7",
        "colab": {
          "base_uri": "https://localhost:8080/",
          "height": 269
        }
      },
      "source": [
        "labels['Ground Truth'].value_counts(normalize=True).plot.barh(color='grey');"
      ],
      "execution_count": 0,
      "outputs": [
        {
          "output_type": "display_data",
          "data": {
            "image/png": "[encoded data removed]",
            "text/plain": [
              "<Figure size 432x288 with 1 Axes>"
            ]
          },
          "metadata": {
            "tags": []
          }
        }
      ]
    },
    {
      "cell_type": "code",
      "metadata": {
        "id": "qorlNlosOQK6",
        "colab_type": "code",
        "outputId": "fd214776-4126-443d-d8ad-004560c646c5",
        "colab": {
          "base_uri": "https://localhost:8080/",
          "height": 283
        }
      },
      "source": [
        "import seaborn as sns\n",
        "sns.distplot(labels['Predicted Probability']);"
      ],
      "execution_count": 0,
      "outputs": [
        {
          "output_type": "display_data",
          "data": {
            "image/png": "[encoded data removed]",
            "text/plain": [
              "<Figure size 432x288 with 1 Axes>"
            ]
          },
          "metadata": {
            "tags": []
          }
        }
      ]
    },
    {
      "cell_type": "code",
      "metadata": {
        "colab_type": "code",
        "id": "4xRbAMxmXrXw",
        "outputId": "378942b4-ecb5-43df-e5ce-22ca30fb203d",
        "colab": {
          "base_uri": "https://localhost:8080/",
          "height": 262
        }
      },
      "source": [
        "from sklearn.metrics import classification_report, confusion_matrix\n",
        "\n",
        "threshold = 0.1\n",
        "y_pred = y_pred_proba >= threshold\n",
        "\n",
        "print(classification_report(y_train, y_pred))\n",
        "\n",
        "pd.DataFrame(confusion_matrix(y_train, y_pred), \n",
        "             columns=['Predicted Negative', 'Predicted Positive'], \n",
        "             index=['Actual Negative', 'Actual Positive'])\n",
        "#make a dataframe out of the output\n",
        "#where our models is confused\n",
        "# model is not confused at actual negative, predicted negative\n",
        "#actual positive and predicted positive are also correct\n",
        "#the opposite diagonal is where the model is confused\n",
        "#wasted time or money in actual negative and predicted positive - false positives\n",
        "# missed opportunities in actual positive and predicted negative - false negatives\n",
        "\n",
        "# 31% make the sale, we are reaching 65% of the people who are willing to sign up\n",
        "#in entire dataset, we're calling 2418 people"
      ],
      "execution_count": 0,
      "outputs": [
        {
          "output_type": "stream",
          "text": [
            "              precision    recall  f1-score   support\n",
            "\n",
            "       False       0.95      0.77      0.85     29238\n",
            "        True       0.28      0.67      0.39      3712\n",
            "\n",
            "   micro avg       0.76      0.76      0.76     32950\n",
            "   macro avg       0.61      0.72      0.62     32950\n",
            "weighted avg       0.87      0.76      0.80     32950\n",
            "\n"
          ],
          "name": "stdout"
        },
        {
          "output_type": "execute_result",
          "data": {
            "text/html": [
              "<div>\n",
              "<style scoped>\n",
              "    .dataframe tbody tr th:only-of-type {\n",
              "        vertical-align: middle;\n",
              "    }\n",
              "\n",
              "    .dataframe tbody tr th {\n",
              "        vertical-align: top;\n",
              "    }\n",
              "\n",
              "    .dataframe thead th {\n",
              "        text-align: right;\n",
              "    }\n",
              "</style>\n",
              "<table border=\"1\" class=\"dataframe\">\n",
              "  <thead>\n",
              "    <tr style=\"text-align: right;\">\n",
              "      <th></th>\n",
              "      <th>Predicted Negative</th>\n",
              "      <th>Predicted Positive</th>\n",
              "    </tr>\n",
              "  </thead>\n",
              "  <tbody>\n",
              "    <tr>\n",
              "      <th>Actual Negative</th>\n",
              "      <td>22650</td>\n",
              "      <td>6588</td>\n",
              "    </tr>\n",
              "    <tr>\n",
              "      <th>Actual Positive</th>\n",
              "      <td>1212</td>\n",
              "      <td>2500</td>\n",
              "    </tr>\n",
              "  </tbody>\n",
              "</table>\n",
              "</div>"
            ],
            "text/plain": [
              "                 Predicted Negative  Predicted Positive\n",
              "Actual Negative               22650                6588\n",
              "Actual Positive                1212                2500"
            ]
          },
          "metadata": {
            "tags": []
          },
          "execution_count": 320
        }
      ]
    },
    {
      "cell_type": "code",
      "metadata": {
        "id": "W2GUIvr_YOo2",
        "colab_type": "code",
        "outputId": "4a903424-be66-4fb0-cf9f-9f63c8a33b6a",
        "colab": {
          "base_uri": "https://localhost:8080/",
          "height": 383
        }
      },
      "source": [
        "#how these metrics are gamable, threshold high: very few positive predictions, so precision is good, but recall is terrible\n",
        "threshold = 0.9\n",
        "y_pred = y_pred_proba >= threshold\n",
        "\n",
        "print(classification_report(y_train, y_pred))\n",
        "\n",
        "pd.DataFrame(confusion_matrix(y_train, y_pred), \n",
        "             columns=['Predicted Negative', 'Predicted Positive'], \n",
        "             index=['Actual Negative', 'Actual Positive'])"
      ],
      "execution_count": 0,
      "outputs": [
        {
          "output_type": "stream",
          "text": [
            "              precision    recall  f1-score   support\n",
            "\n",
            "       False       0.89      1.00      0.94     29238\n",
            "        True       0.00      0.00      0.00      3712\n",
            "\n",
            "   micro avg       0.89      0.89      0.89     32950\n",
            "   macro avg       0.44      0.50      0.47     32950\n",
            "weighted avg       0.79      0.89      0.83     32950\n",
            "\n"
          ],
          "name": "stdout"
        },
        {
          "output_type": "stream",
          "text": [
            "/usr/local/lib/python3.6/dist-packages/sklearn/metrics/classification.py:1143: UndefinedMetricWarning: Precision and F-score are ill-defined and being set to 0.0 in labels with no predicted samples.\n",
            "  'precision', 'predicted', average, warn_for)\n",
            "/usr/local/lib/python3.6/dist-packages/sklearn/metrics/classification.py:1143: UndefinedMetricWarning: Precision and F-score are ill-defined and being set to 0.0 in labels with no predicted samples.\n",
            "  'precision', 'predicted', average, warn_for)\n",
            "/usr/local/lib/python3.6/dist-packages/sklearn/metrics/classification.py:1143: UndefinedMetricWarning: Precision and F-score are ill-defined and being set to 0.0 in labels with no predicted samples.\n",
            "  'precision', 'predicted', average, warn_for)\n"
          ],
          "name": "stderr"
        },
        {
          "output_type": "execute_result",
          "data": {
            "text/html": [
              "<div>\n",
              "<style scoped>\n",
              "    .dataframe tbody tr th:only-of-type {\n",
              "        vertical-align: middle;\n",
              "    }\n",
              "\n",
              "    .dataframe tbody tr th {\n",
              "        vertical-align: top;\n",
              "    }\n",
              "\n",
              "    .dataframe thead th {\n",
              "        text-align: right;\n",
              "    }\n",
              "</style>\n",
              "<table border=\"1\" class=\"dataframe\">\n",
              "  <thead>\n",
              "    <tr style=\"text-align: right;\">\n",
              "      <th></th>\n",
              "      <th>Predicted Negative</th>\n",
              "      <th>Predicted Positive</th>\n",
              "    </tr>\n",
              "  </thead>\n",
              "  <tbody>\n",
              "    <tr>\n",
              "      <th>Actual Negative</th>\n",
              "      <td>29238</td>\n",
              "      <td>0</td>\n",
              "    </tr>\n",
              "    <tr>\n",
              "      <th>Actual Positive</th>\n",
              "      <td>3712</td>\n",
              "      <td>0</td>\n",
              "    </tr>\n",
              "  </tbody>\n",
              "</table>\n",
              "</div>"
            ],
            "text/plain": [
              "                 Predicted Negative  Predicted Positive\n",
              "Actual Negative               29238                   0\n",
              "Actual Positive                3712                   0"
            ]
          },
          "metadata": {
            "tags": []
          },
          "execution_count": 321
        }
      ]
    },
    {
      "cell_type": "code",
      "metadata": {
        "id": "ZphB1qB4Yodx",
        "colab_type": "code",
        "outputId": "3c04c2f6-ea06-4072-e34b-d47dbc1abf9d",
        "colab": {
          "base_uri": "https://localhost:8080/",
          "height": 262
        }
      },
      "source": [
        "threshold = 0.05\n",
        "y_pred = y_pred_proba >= threshold\n",
        "\n",
        "print(classification_report(y_train, y_pred))\n",
        "\n",
        "pd.DataFrame(confusion_matrix(y_train, y_pred), \n",
        "             columns=['Predicted Negative', 'Predicted Positive'], \n",
        "             index=['Actual Negative', 'Actual Positive'])\n",
        "#this could be a lot better than calling people at random"
      ],
      "execution_count": 0,
      "outputs": [
        {
          "output_type": "stream",
          "text": [
            "              precision    recall  f1-score   support\n",
            "\n",
            "       False       0.96      0.40      0.57     29238\n",
            "        True       0.16      0.86      0.26      3712\n",
            "\n",
            "   micro avg       0.45      0.45      0.45     32950\n",
            "   macro avg       0.56      0.63      0.42     32950\n",
            "weighted avg       0.87      0.45      0.53     32950\n",
            "\n"
          ],
          "name": "stdout"
        },
        {
          "output_type": "execute_result",
          "data": {
            "text/html": [
              "<div>\n",
              "<style scoped>\n",
              "    .dataframe tbody tr th:only-of-type {\n",
              "        vertical-align: middle;\n",
              "    }\n",
              "\n",
              "    .dataframe tbody tr th {\n",
              "        vertical-align: top;\n",
              "    }\n",
              "\n",
              "    .dataframe thead th {\n",
              "        text-align: right;\n",
              "    }\n",
              "</style>\n",
              "<table border=\"1\" class=\"dataframe\">\n",
              "  <thead>\n",
              "    <tr style=\"text-align: right;\">\n",
              "      <th></th>\n",
              "      <th>Predicted Negative</th>\n",
              "      <th>Predicted Positive</th>\n",
              "    </tr>\n",
              "  </thead>\n",
              "  <tbody>\n",
              "    <tr>\n",
              "      <th>Actual Negative</th>\n",
              "      <td>11788</td>\n",
              "      <td>17450</td>\n",
              "    </tr>\n",
              "    <tr>\n",
              "      <th>Actual Positive</th>\n",
              "      <td>510</td>\n",
              "      <td>3202</td>\n",
              "    </tr>\n",
              "  </tbody>\n",
              "</table>\n",
              "</div>"
            ],
            "text/plain": [
              "                 Predicted Negative  Predicted Positive\n",
              "Actual Negative               11788               17450\n",
              "Actual Positive                 510                3202"
            ]
          },
          "metadata": {
            "tags": []
          },
          "execution_count": 322
        }
      ]
    },
    {
      "cell_type": "code",
      "metadata": {
        "id": "EIvAPuYOZoJH",
        "colab_type": "code",
        "outputId": "1f813719-dc70-4bfd-c034-cab0c34cdc6f",
        "colab": {
          "base_uri": "https://localhost:8080/",
          "height": 262
        }
      },
      "source": [
        "threshold = 0.005\n",
        "y_pred = y_pred_proba >= threshold\n",
        "\n",
        "print(classification_report(y_train, y_pred))\n",
        "\n",
        "pd.DataFrame(confusion_matrix(y_train, y_pred), \n",
        "             columns=['Predicted Negative', 'Predicted Positive'], \n",
        "             index=['Actual Negative', 'Actual Positive'])\n",
        "#calling everybody except 184 people"
      ],
      "execution_count": 0,
      "outputs": [
        {
          "output_type": "stream",
          "text": [
            "              precision    recall  f1-score   support\n",
            "\n",
            "       False       0.75      0.00      0.00     29238\n",
            "        True       0.11      1.00      0.20      3712\n",
            "\n",
            "   micro avg       0.11      0.11      0.11     32950\n",
            "   macro avg       0.43      0.50      0.10     32950\n",
            "weighted avg       0.68      0.11      0.02     32950\n",
            "\n"
          ],
          "name": "stdout"
        },
        {
          "output_type": "execute_result",
          "data": {
            "text/html": [
              "<div>\n",
              "<style scoped>\n",
              "    .dataframe tbody tr th:only-of-type {\n",
              "        vertical-align: middle;\n",
              "    }\n",
              "\n",
              "    .dataframe tbody tr th {\n",
              "        vertical-align: top;\n",
              "    }\n",
              "\n",
              "    .dataframe thead th {\n",
              "        text-align: right;\n",
              "    }\n",
              "</style>\n",
              "<table border=\"1\" class=\"dataframe\">\n",
              "  <thead>\n",
              "    <tr style=\"text-align: right;\">\n",
              "      <th></th>\n",
              "      <th>Predicted Negative</th>\n",
              "      <th>Predicted Positive</th>\n",
              "    </tr>\n",
              "  </thead>\n",
              "  <tbody>\n",
              "    <tr>\n",
              "      <th>Actual Negative</th>\n",
              "      <td>9</td>\n",
              "      <td>29229</td>\n",
              "    </tr>\n",
              "    <tr>\n",
              "      <th>Actual Positive</th>\n",
              "      <td>3</td>\n",
              "      <td>3709</td>\n",
              "    </tr>\n",
              "  </tbody>\n",
              "</table>\n",
              "</div>"
            ],
            "text/plain": [
              "                 Predicted Negative  Predicted Positive\n",
              "Actual Negative                   9               29229\n",
              "Actual Positive                   3                3709"
            ]
          },
          "metadata": {
            "tags": []
          },
          "execution_count": 323
        }
      ]
    },
    {
      "cell_type": "code",
      "metadata": {
        "id": "jOC3ULMhY7HD",
        "colab_type": "code",
        "outputId": "75c9064c-1059-4099-e4ff-d928a9a3bcbc",
        "colab": {
          "base_uri": "https://localhost:8080/",
          "height": 34
        }
      },
      "source": [
        "(140 + 32) / (140 + 32 + 617 + 515)"
      ],
      "execution_count": 0,
      "outputs": [
        {
          "output_type": "execute_result",
          "data": {
            "text/plain": [
              "0.13190184049079753"
            ]
          },
          "metadata": {
            "tags": []
          },
          "execution_count": 324
        }
      ]
    },
    {
      "cell_type": "code",
      "metadata": {
        "id": "7RrdGy3qUEOT",
        "colab_type": "code",
        "outputId": "c527f9f0-f93f-466b-b84c-c458ffa24d6a",
        "colab": {
          "base_uri": "https://localhost:8080/",
          "height": 34
        }
      },
      "source": [
        "from sklearn.metrics import accuracy_score\n",
        "accuracy_score(y_train, y_pred)"
      ],
      "execution_count": 0,
      "outputs": [
        {
          "output_type": "execute_result",
          "data": {
            "text/plain": [
              "0.11283763277693475"
            ]
          },
          "metadata": {
            "tags": []
          },
          "execution_count": 325
        }
      ]
    },
    {
      "cell_type": "code",
      "metadata": {
        "colab_type": "code",
        "id": "InBb016HcSef",
        "outputId": "14709008-1596-4f1c-eddb-277390efb419",
        "colab": {
          "base_uri": "https://localhost:8080/",
          "height": 34
        }
      },
      "source": [
        "#TODO \n",
        "\n",
        "true_negative  = 23971 #actual negative, predicted negative\n",
        "false_positive = 5267 #actual negative, predicted positive\n",
        "false_negative = 1294 #actual positive, predicted negative\n",
        "true_positive  = 2418 #actual positive, predicted positive\n",
        "\n",
        "actual_negative = 28766 + 452\n",
        "actual_positive =1294 + 2418\n",
        "\n",
        "predicted_negative = 23971 + 1294\n",
        "predicted_positive = 5267 + 2418\n",
        "\n",
        "accuracy = (true_positive + true_negative) / (predicted_negative + predicted_positive)\n",
        "#correct predictions / total predictions % , (true positives + true negatives)/(sum of all 4 numbers) \n",
        "precision = true_positive / predicted_positive\n",
        "#precision and recall are based on relevance\n",
        "#precision, based on how many selected, which are relevant?\n",
        "#any search result on google - precision - search with eral scruggs / total search results\n",
        "recall = true_positive / actual_positive\n",
        "#recall, based on how many relevant, how many are selected?\n",
        "#what was your recall for the most relevant things?\n",
        "#of all the people who would sign up, how many did you actually select to call?\n",
        "f1 = 2*precision * recall / (precision+recall)\n",
        "print('Accuracy:',accuracy,'Precision:', precision, 'Recall:', recall,'F1', f1)"
      ],
      "execution_count": 0,
      "outputs": [
        {
          "output_type": "stream",
          "text": [
            "Accuracy: 0.8008801213960546 Precision: 0.3146389069616135 Recall: 0.6514008620689655 F1 0.42432219005001315\n"
          ],
          "name": "stdout"
        }
      ]
    },
    {
      "cell_type": "markdown",
      "metadata": {
        "id": "Q3_OogSbJsQ9",
        "colab_type": "text"
      },
      "source": [
        "#### F1 Score\n",
        "\"[The F1 score](https://en.wikipedia.org/wiki/F1_score) is the harmonic average of the precision and recall, where an F1 score reaches its best value at 1 (perfect precision and recall) and worst at 0.\""
      ]
    },
    {
      "cell_type": "code",
      "metadata": {
        "id": "OQV9BWGqdSE2",
        "colab_type": "code",
        "colab": {}
      },
      "source": [
        "#(2 * precision * recall)/precision + recall\n",
        "#if you can assign dollars that align with cost or benefit, if not a budget\n",
        "#a real world problem that translates to a quantitative problem, then translate back to real world solution"
      ],
      "execution_count": 0,
      "outputs": []
    },
    {
      "cell_type": "markdown",
      "metadata": {
        "colab_type": "text",
        "id": "d50kghfPYk1D"
      },
      "source": [
        "### ROC AUC (Receiver Operating Characteristic, Area Under the Curve)\n",
        "\n",
        "#### Scikit-Learn docs\n",
        "- [User Guide: Receiver operating characteristic (ROC)](https://scikit-learn.org/stable/modules/model_evaluation.html#receiver-operating-characteristic-roc)\n",
        "- [sklearn.metrics.roc_curve](https://scikit-learn.org/stable/modules/generated/sklearn.metrics.roc_curve.html)\n",
        "- [sklearn.metrics.roc_auc_score](https://scikit-learn.org/stable/modules/generated/sklearn.metrics.roc_auc_score.html)\n",
        "\n",
        "#### More links\n",
        "- [ROC curves and Area Under the Curve explained](https://www.dataschool.io/roc-curves-and-auc-explained/)\n",
        "- [The philosophical argument for using ROC curves](https://lukeoakdenrayner.wordpress.com/2018/01/07/the-philosophical-argument-for-using-roc-curves/)\n",
        "\n",
        "[Wikipedia explains,](https://en.wikipedia.org/wiki/Receiver_operating_characteristic) \"A receiver operating characteristic curve, or ROC curve, is a graphical plot that illustrates the diagnostic ability of a binary classifier system as its discrimination threshold is varied. The ROC curve is created by plotting the true positive rate (TPR) against the false positive rate (FPR) at various threshold settings.\"\n",
        "\n",
        "ROC AUC is the area under the ROC curve. [It can be interpreted](https://stats.stackexchange.com/questions/132777/what-does-auc-stand-for-and-what-is-it) as \"the expectation that a uniformly drawn random positive is ranked before a uniformly drawn random negative.\" \n",
        "\n",
        "ROC AUC measures how well a classifier ranks predicted probabilities. It ranges from 0 to 1. A naive majority class baseline will have an ROC AUC score of 0.5. "
      ]
    },
    {
      "cell_type": "code",
      "metadata": {
        "id": "Y2TBunwef7rz",
        "colab_type": "code",
        "colab": {}
      },
      "source": [
        "#true positive rate = precision\n",
        "#false positive rate = recall\n",
        "#roc curve represents the different kinds of tradeoffs you can make"
      ],
      "execution_count": 0,
      "outputs": []
    },
    {
      "cell_type": "code",
      "metadata": {
        "colab_type": "code",
        "id": "yx5WEweMYBYY",
        "outputId": "112c81cc-f780-4427-eb81-f2672bf99e83",
        "colab": {
          "base_uri": "https://localhost:8080/",
          "height": 312
        }
      },
      "source": [
        "from sklearn.metrics import roc_auc_score, roc_curve\n",
        "fpr, tpr, thresholds = roc_curve(y_train, y_pred_proba)\n",
        "plt.plot(fpr, tpr)\n",
        "plt.title('ROC curve')\n",
        "plt.xlabel('False Positive Rate')\n",
        "plt.ylabel('True Positive Rate')\n",
        "print('Area under the Receiver Operating Characteristic curve:', \n",
        "      roc_auc_score(y_train, y_pred_proba))\n",
        "    \n",
        "# When threshold = 0.5\n",
        "false_positives = 452\n",
        "true_positives = 860\n",
        "false_positive_rate = false_positives/actual_negative\n",
        "true_positive_rate = true_positives/actual_positive\n",
        "plt.scatter(false_positive_rate, true_positive_rate)\n",
        "\n",
        "# When threshold = 0.1\n",
        "false_positives = 5267\n",
        "true_positives = 2418\n",
        "false_positive_rate = false_positives/actual_negative\n",
        "true_positive_rate = true_positives/actual_positive\n",
        "plt.scatter(false_positive_rate, true_positive_rate);"
      ],
      "execution_count": 0,
      "outputs": [
        {
          "output_type": "stream",
          "text": [
            "Area under the Receiver Operating Characteristic curve: 0.7779360529356576\n"
          ],
          "name": "stdout"
        },
        {
          "output_type": "display_data",
          "data": {
            "image/png": "[encoded data removed]",
            "text/plain": [
              "<Figure size 432x288 with 1 Axes>"
            ]
          },
          "metadata": {
            "tags": []
          }
        }
      ]
    },
    {
      "cell_type": "code",
      "metadata": {
        "id": "CnSaWz5Ah3uV",
        "colab_type": "code",
        "colab": {}
      },
      "source": [
        "#any part of the curve that is higher than a diagon"
      ],
      "execution_count": 0,
      "outputs": []
    },
    {
      "cell_type": "code",
      "metadata": {
        "id": "PVCnxpDphIuk",
        "colab_type": "code",
        "colab": {}
      },
      "source": [
        "#the more the curve goes to the top left, the better the model is doing\n",
        "# we want false positives to be low and true positives to be high"
      ],
      "execution_count": 0,
      "outputs": []
    },
    {
      "cell_type": "code",
      "metadata": {
        "id": "pgSMpuJwgVWm",
        "colab_type": "code",
        "outputId": "0d26c804-8d89-4b0c-feec-bd8ec4b6b7b2",
        "colab": {
          "base_uri": "https://localhost:8080/",
          "height": 1951
        }
      },
      "source": [
        "#putting the roc curve into a dataframe\n",
        "pd.DataFrame(dict(fpr=fpr, tpr=tpr,thresholds=thresholds))"
      ],
      "execution_count": 0,
      "outputs": [
        {
          "output_type": "execute_result",
          "data": {
            "text/html": [
              "<div>\n",
              "<style scoped>\n",
              "    .dataframe tbody tr th:only-of-type {\n",
              "        vertical-align: middle;\n",
              "    }\n",
              "\n",
              "    .dataframe tbody tr th {\n",
              "        vertical-align: top;\n",
              "    }\n",
              "\n",
              "    .dataframe thead th {\n",
              "        text-align: right;\n",
              "    }\n",
              "</style>\n",
              "<table border=\"1\" class=\"dataframe\">\n",
              "  <thead>\n",
              "    <tr style=\"text-align: right;\">\n",
              "      <th></th>\n",
              "      <th>fpr</th>\n",
              "      <th>tpr</th>\n",
              "      <th>thresholds</th>\n",
              "    </tr>\n",
              "  </thead>\n",
              "  <tbody>\n",
              "    <tr>\n",
              "      <th>0</th>\n",
              "      <td>0.000000</td>\n",
              "      <td>0.000000</td>\n",
              "      <td>1.869237</td>\n",
              "    </tr>\n",
              "    <tr>\n",
              "      <th>1</th>\n",
              "      <td>0.000000</td>\n",
              "      <td>0.000269</td>\n",
              "      <td>0.869237</td>\n",
              "    </tr>\n",
              "    <tr>\n",
              "      <th>2</th>\n",
              "      <td>0.000000</td>\n",
              "      <td>0.001616</td>\n",
              "      <td>0.857528</td>\n",
              "    </tr>\n",
              "    <tr>\n",
              "      <th>3</th>\n",
              "      <td>0.000034</td>\n",
              "      <td>0.001616</td>\n",
              "      <td>0.854821</td>\n",
              "    </tr>\n",
              "    <tr>\n",
              "      <th>4</th>\n",
              "      <td>0.000034</td>\n",
              "      <td>0.002963</td>\n",
              "      <td>0.848614</td>\n",
              "    </tr>\n",
              "    <tr>\n",
              "      <th>5</th>\n",
              "      <td>0.000068</td>\n",
              "      <td>0.002963</td>\n",
              "      <td>0.845325</td>\n",
              "    </tr>\n",
              "    <tr>\n",
              "      <th>6</th>\n",
              "      <td>0.000068</td>\n",
              "      <td>0.004580</td>\n",
              "      <td>0.840627</td>\n",
              "    </tr>\n",
              "    <tr>\n",
              "      <th>7</th>\n",
              "      <td>0.000103</td>\n",
              "      <td>0.004580</td>\n",
              "      <td>0.839258</td>\n",
              "    </tr>\n",
              "    <tr>\n",
              "      <th>8</th>\n",
              "      <td>0.000103</td>\n",
              "      <td>0.005119</td>\n",
              "      <td>0.839219</td>\n",
              "    </tr>\n",
              "    <tr>\n",
              "      <th>9</th>\n",
              "      <td>0.000171</td>\n",
              "      <td>0.005119</td>\n",
              "      <td>0.839153</td>\n",
              "    </tr>\n",
              "    <tr>\n",
              "      <th>10</th>\n",
              "      <td>0.000171</td>\n",
              "      <td>0.007812</td>\n",
              "      <td>0.834277</td>\n",
              "    </tr>\n",
              "    <tr>\n",
              "      <th>11</th>\n",
              "      <td>0.000205</td>\n",
              "      <td>0.007812</td>\n",
              "      <td>0.834114</td>\n",
              "    </tr>\n",
              "    <tr>\n",
              "      <th>12</th>\n",
              "      <td>0.000205</td>\n",
              "      <td>0.008890</td>\n",
              "      <td>0.830970</td>\n",
              "    </tr>\n",
              "    <tr>\n",
              "      <th>13</th>\n",
              "      <td>0.000239</td>\n",
              "      <td>0.008890</td>\n",
              "      <td>0.830923</td>\n",
              "    </tr>\n",
              "    <tr>\n",
              "      <th>14</th>\n",
              "      <td>0.000239</td>\n",
              "      <td>0.009698</td>\n",
              "      <td>0.829928</td>\n",
              "    </tr>\n",
              "    <tr>\n",
              "      <th>15</th>\n",
              "      <td>0.000308</td>\n",
              "      <td>0.009698</td>\n",
              "      <td>0.829324</td>\n",
              "    </tr>\n",
              "    <tr>\n",
              "      <th>16</th>\n",
              "      <td>0.000308</td>\n",
              "      <td>0.009968</td>\n",
              "      <td>0.829172</td>\n",
              "    </tr>\n",
              "    <tr>\n",
              "      <th>17</th>\n",
              "      <td>0.000376</td>\n",
              "      <td>0.009968</td>\n",
              "      <td>0.828320</td>\n",
              "    </tr>\n",
              "    <tr>\n",
              "      <th>18</th>\n",
              "      <td>0.000376</td>\n",
              "      <td>0.015894</td>\n",
              "      <td>0.822267</td>\n",
              "    </tr>\n",
              "    <tr>\n",
              "      <th>19</th>\n",
              "      <td>0.000410</td>\n",
              "      <td>0.015894</td>\n",
              "      <td>0.822103</td>\n",
              "    </tr>\n",
              "    <tr>\n",
              "      <th>20</th>\n",
              "      <td>0.000410</td>\n",
              "      <td>0.018050</td>\n",
              "      <td>0.818598</td>\n",
              "    </tr>\n",
              "    <tr>\n",
              "      <th>21</th>\n",
              "      <td>0.000445</td>\n",
              "      <td>0.018050</td>\n",
              "      <td>0.817936</td>\n",
              "    </tr>\n",
              "    <tr>\n",
              "      <th>22</th>\n",
              "      <td>0.000445</td>\n",
              "      <td>0.018319</td>\n",
              "      <td>0.817797</td>\n",
              "    </tr>\n",
              "    <tr>\n",
              "      <th>23</th>\n",
              "      <td>0.000479</td>\n",
              "      <td>0.018319</td>\n",
              "      <td>0.817763</td>\n",
              "    </tr>\n",
              "    <tr>\n",
              "      <th>24</th>\n",
              "      <td>0.000479</td>\n",
              "      <td>0.019127</td>\n",
              "      <td>0.817580</td>\n",
              "    </tr>\n",
              "    <tr>\n",
              "      <th>25</th>\n",
              "      <td>0.000513</td>\n",
              "      <td>0.019127</td>\n",
              "      <td>0.817172</td>\n",
              "    </tr>\n",
              "    <tr>\n",
              "      <th>26</th>\n",
              "      <td>0.000513</td>\n",
              "      <td>0.019935</td>\n",
              "      <td>0.816811</td>\n",
              "    </tr>\n",
              "    <tr>\n",
              "      <th>27</th>\n",
              "      <td>0.000616</td>\n",
              "      <td>0.019935</td>\n",
              "      <td>0.815191</td>\n",
              "    </tr>\n",
              "    <tr>\n",
              "      <th>28</th>\n",
              "      <td>0.000616</td>\n",
              "      <td>0.020205</td>\n",
              "      <td>0.814593</td>\n",
              "    </tr>\n",
              "    <tr>\n",
              "      <th>29</th>\n",
              "      <td>0.000650</td>\n",
              "      <td>0.020205</td>\n",
              "      <td>0.814284</td>\n",
              "    </tr>\n",
              "    <tr>\n",
              "      <th>...</th>\n",
              "      <td>...</td>\n",
              "      <td>...</td>\n",
              "      <td>...</td>\n",
              "    </tr>\n",
              "    <tr>\n",
              "      <th>6246</th>\n",
              "      <td>0.991278</td>\n",
              "      <td>0.995690</td>\n",
              "      <td>0.017777</td>\n",
              "    </tr>\n",
              "    <tr>\n",
              "      <th>6247</th>\n",
              "      <td>0.992373</td>\n",
              "      <td>0.995690</td>\n",
              "      <td>0.017288</td>\n",
              "    </tr>\n",
              "    <tr>\n",
              "      <th>6248</th>\n",
              "      <td>0.992373</td>\n",
              "      <td>0.995959</td>\n",
              "      <td>0.017236</td>\n",
              "    </tr>\n",
              "    <tr>\n",
              "      <th>6249</th>\n",
              "      <td>0.992441</td>\n",
              "      <td>0.995959</td>\n",
              "      <td>0.017199</td>\n",
              "    </tr>\n",
              "    <tr>\n",
              "      <th>6250</th>\n",
              "      <td>0.992441</td>\n",
              "      <td>0.996228</td>\n",
              "      <td>0.017194</td>\n",
              "    </tr>\n",
              "    <tr>\n",
              "      <th>6251</th>\n",
              "      <td>0.992886</td>\n",
              "      <td>0.996228</td>\n",
              "      <td>0.016966</td>\n",
              "    </tr>\n",
              "    <tr>\n",
              "      <th>6252</th>\n",
              "      <td>0.992886</td>\n",
              "      <td>0.996498</td>\n",
              "      <td>0.016957</td>\n",
              "    </tr>\n",
              "    <tr>\n",
              "      <th>6253</th>\n",
              "      <td>0.993604</td>\n",
              "      <td>0.996498</td>\n",
              "      <td>0.016511</td>\n",
              "    </tr>\n",
              "    <tr>\n",
              "      <th>6254</th>\n",
              "      <td>0.993604</td>\n",
              "      <td>0.997037</td>\n",
              "      <td>0.016478</td>\n",
              "    </tr>\n",
              "    <tr>\n",
              "      <th>6255</th>\n",
              "      <td>0.993638</td>\n",
              "      <td>0.997037</td>\n",
              "      <td>0.016478</td>\n",
              "    </tr>\n",
              "    <tr>\n",
              "      <th>6256</th>\n",
              "      <td>0.993638</td>\n",
              "      <td>0.997306</td>\n",
              "      <td>0.016471</td>\n",
              "    </tr>\n",
              "    <tr>\n",
              "      <th>6257</th>\n",
              "      <td>0.993912</td>\n",
              "      <td>0.997306</td>\n",
              "      <td>0.016279</td>\n",
              "    </tr>\n",
              "    <tr>\n",
              "      <th>6258</th>\n",
              "      <td>0.993912</td>\n",
              "      <td>0.997575</td>\n",
              "      <td>0.016270</td>\n",
              "    </tr>\n",
              "    <tr>\n",
              "      <th>6259</th>\n",
              "      <td>0.994664</td>\n",
              "      <td>0.997575</td>\n",
              "      <td>0.015927</td>\n",
              "    </tr>\n",
              "    <tr>\n",
              "      <th>6260</th>\n",
              "      <td>0.994664</td>\n",
              "      <td>0.997845</td>\n",
              "      <td>0.015923</td>\n",
              "    </tr>\n",
              "    <tr>\n",
              "      <th>6261</th>\n",
              "      <td>0.994972</td>\n",
              "      <td>0.997845</td>\n",
              "      <td>0.015645</td>\n",
              "    </tr>\n",
              "    <tr>\n",
              "      <th>6262</th>\n",
              "      <td>0.994972</td>\n",
              "      <td>0.998114</td>\n",
              "      <td>0.015641</td>\n",
              "    </tr>\n",
              "    <tr>\n",
              "      <th>6263</th>\n",
              "      <td>0.996614</td>\n",
              "      <td>0.998114</td>\n",
              "      <td>0.014339</td>\n",
              "    </tr>\n",
              "    <tr>\n",
              "      <th>6264</th>\n",
              "      <td>0.996614</td>\n",
              "      <td>0.998384</td>\n",
              "      <td>0.014335</td>\n",
              "    </tr>\n",
              "    <tr>\n",
              "      <th>6265</th>\n",
              "      <td>0.998324</td>\n",
              "      <td>0.998384</td>\n",
              "      <td>0.012366</td>\n",
              "    </tr>\n",
              "    <tr>\n",
              "      <th>6266</th>\n",
              "      <td>0.998324</td>\n",
              "      <td>0.998653</td>\n",
              "      <td>0.012097</td>\n",
              "    </tr>\n",
              "    <tr>\n",
              "      <th>6267</th>\n",
              "      <td>0.998871</td>\n",
              "      <td>0.998653</td>\n",
              "      <td>0.010926</td>\n",
              "    </tr>\n",
              "    <tr>\n",
              "      <th>6268</th>\n",
              "      <td>0.998871</td>\n",
              "      <td>0.998922</td>\n",
              "      <td>0.010912</td>\n",
              "    </tr>\n",
              "    <tr>\n",
              "      <th>6269</th>\n",
              "      <td>0.999213</td>\n",
              "      <td>0.998922</td>\n",
              "      <td>0.009263</td>\n",
              "    </tr>\n",
              "    <tr>\n",
              "      <th>6270</th>\n",
              "      <td>0.999213</td>\n",
              "      <td>0.999192</td>\n",
              "      <td>0.009218</td>\n",
              "    </tr>\n",
              "    <tr>\n",
              "      <th>6271</th>\n",
              "      <td>0.999829</td>\n",
              "      <td>0.999192</td>\n",
              "      <td>0.000334</td>\n",
              "    </tr>\n",
              "    <tr>\n",
              "      <th>6272</th>\n",
              "      <td>0.999829</td>\n",
              "      <td>0.999731</td>\n",
              "      <td>0.000273</td>\n",
              "    </tr>\n",
              "    <tr>\n",
              "      <th>6273</th>\n",
              "      <td>0.999897</td>\n",
              "      <td>0.999731</td>\n",
              "      <td>0.000227</td>\n",
              "    </tr>\n",
              "    <tr>\n",
              "      <th>6274</th>\n",
              "      <td>0.999897</td>\n",
              "      <td>1.000000</td>\n",
              "      <td>0.000134</td>\n",
              "    </tr>\n",
              "    <tr>\n",
              "      <th>6275</th>\n",
              "      <td>1.000000</td>\n",
              "      <td>1.000000</td>\n",
              "      <td>0.000024</td>\n",
              "    </tr>\n",
              "  </tbody>\n",
              "</table>\n",
              "<p>6276 rows × 3 columns</p>\n",
              "</div>"
            ],
            "text/plain": [
              "           fpr       tpr  thresholds\n",
              "0     0.000000  0.000000    1.869237\n",
              "1     0.000000  0.000269    0.869237\n",
              "2     0.000000  0.001616    0.857528\n",
              "3     0.000034  0.001616    0.854821\n",
              "4     0.000034  0.002963    0.848614\n",
              "5     0.000068  0.002963    0.845325\n",
              "6     0.000068  0.004580    0.840627\n",
              "7     0.000103  0.004580    0.839258\n",
              "8     0.000103  0.005119    0.839219\n",
              "9     0.000171  0.005119    0.839153\n",
              "10    0.000171  0.007812    0.834277\n",
              "11    0.000205  0.007812    0.834114\n",
              "12    0.000205  0.008890    0.830970\n",
              "13    0.000239  0.008890    0.830923\n",
              "14    0.000239  0.009698    0.829928\n",
              "15    0.000308  0.009698    0.829324\n",
              "16    0.000308  0.009968    0.829172\n",
              "17    0.000376  0.009968    0.828320\n",
              "18    0.000376  0.015894    0.822267\n",
              "19    0.000410  0.015894    0.822103\n",
              "20    0.000410  0.018050    0.818598\n",
              "21    0.000445  0.018050    0.817936\n",
              "22    0.000445  0.018319    0.817797\n",
              "23    0.000479  0.018319    0.817763\n",
              "24    0.000479  0.019127    0.817580\n",
              "25    0.000513  0.019127    0.817172\n",
              "26    0.000513  0.019935    0.816811\n",
              "27    0.000616  0.019935    0.815191\n",
              "28    0.000616  0.020205    0.814593\n",
              "29    0.000650  0.020205    0.814284\n",
              "...        ...       ...         ...\n",
              "6246  0.991278  0.995690    0.017777\n",
              "6247  0.992373  0.995690    0.017288\n",
              "6248  0.992373  0.995959    0.017236\n",
              "6249  0.992441  0.995959    0.017199\n",
              "6250  0.992441  0.996228    0.017194\n",
              "6251  0.992886  0.996228    0.016966\n",
              "6252  0.992886  0.996498    0.016957\n",
              "6253  0.993604  0.996498    0.016511\n",
              "6254  0.993604  0.997037    0.016478\n",
              "6255  0.993638  0.997037    0.016478\n",
              "6256  0.993638  0.997306    0.016471\n",
              "6257  0.993912  0.997306    0.016279\n",
              "6258  0.993912  0.997575    0.016270\n",
              "6259  0.994664  0.997575    0.015927\n",
              "6260  0.994664  0.997845    0.015923\n",
              "6261  0.994972  0.997845    0.015645\n",
              "6262  0.994972  0.998114    0.015641\n",
              "6263  0.996614  0.998114    0.014339\n",
              "6264  0.996614  0.998384    0.014335\n",
              "6265  0.998324  0.998384    0.012366\n",
              "6266  0.998324  0.998653    0.012097\n",
              "6267  0.998871  0.998653    0.010926\n",
              "6268  0.998871  0.998922    0.010912\n",
              "6269  0.999213  0.998922    0.009263\n",
              "6270  0.999213  0.999192    0.009218\n",
              "6271  0.999829  0.999192    0.000334\n",
              "6272  0.999829  0.999731    0.000273\n",
              "6273  0.999897  0.999731    0.000227\n",
              "6274  0.999897  1.000000    0.000134\n",
              "6275  1.000000  1.000000    0.000024\n",
              "\n",
              "[6276 rows x 3 columns]"
            ]
          },
          "metadata": {
            "tags": []
          },
          "execution_count": 332
        }
      ]
    },
    {
      "cell_type": "markdown",
      "metadata": {
        "colab_type": "text",
        "id": "DMiqiAB_WVPK"
      },
      "source": [
        "# Imbalanced Classes — with synthetic data"
      ]
    },
    {
      "cell_type": "markdown",
      "metadata": {
        "colab_type": "text",
        "id": "OWLBlu5K5kJR"
      },
      "source": [
        "## Fun demo!\n",
        "\n",
        "The next code cell does five things:\n",
        "\n",
        "#### 1. Generate data\n",
        "\n",
        "We use scikit-learn's [make_classification](https://scikit-learn.org/stable/modules/generated/sklearn.datasets.make_classification.html) function to generate fake data for a binary classification problem, based on several parameters, including:\n",
        "- Number of samples\n",
        "- Weights, meaning \"the proportions of samples assigned to each class.\"\n",
        "- Class separation: \"Larger values spread out the clusters/classes and make the classification task easier.\"\n",
        "\n",
        "(We are generating fake data so it is easy to visualize.)\n",
        "\n",
        "#### 2. Split data\n",
        "\n",
        "We split the data three ways, into train, validation, and test sets. (For this toy example, it's not really necessary to do a three-way split. A two-way split, or even no split, would be ok. But I'm trying to demonstrate good habits, even in toy examples, to avoid confusion.)\n",
        "\n",
        "#### 3. Fit model\n",
        "\n",
        "We use scikit-learn to fit a [Logistic Regression](https://scikit-learn.org/stable/modules/generated/sklearn.linear_model.LogisticRegression.html) on the training data.\n",
        "\n",
        "We use this model parameter:\n",
        "\n",
        "> **class_weight : _dict or ‘balanced’, default: None_**\n",
        "\n",
        "> Weights associated with classes in the form `{class_label: weight}`. If not given, all classes are supposed to have weight one.\n",
        "\n",
        "> The “balanced” mode uses the values of y to automatically adjust weights inversely proportional to class frequencies in the input data as `n_samples / (n_classes * np.bincount(y))`.\n",
        "\n",
        "\n",
        "#### 4. Evaluate model\n",
        "\n",
        "We use our Logistic Regression model, which was fit on the training data, to generate predictions for the validation data.\n",
        "\n",
        "Then we print [scikit-learn's Classification Report](https://scikit-learn.org/stable/modules/model_evaluation.html#classification-report), with many metrics, and also the accuracy score. We are comparing the correct labels to the Logistic Regression's predicted labels, for the validation set. \n",
        "\n",
        "#### 5. Visualize decision function\n",
        "\n",
        "Based on these examples\n",
        "- https://imbalanced-learn.readthedocs.io/en/stable/auto_examples/combine/plot_comparison_combine.html\n",
        "- http://rasbt.github.io/mlxtend/user_guide/plotting/plot_decision_regions/#example-1-decision-regions-in-2d"
      ]
    },
    {
      "cell_type": "code",
      "metadata": {
        "id": "75Muc7tWjZ9T",
        "colab_type": "code",
        "colab": {}
      },
      "source": [
        ""
      ],
      "execution_count": 0,
      "outputs": []
    },
    {
      "cell_type": "code",
      "metadata": {
        "colab_type": "code",
        "id": "PMTjC3vQ7ZNV",
        "colab": {}
      },
      "source": [
        "from sklearn.model_selection import train_test_split\n",
        "\n",
        "def train_validation_test_split(\n",
        "    X, y, train_size=0.8, val_size=0.1, test_size=0.1, \n",
        "    random_state=None, shuffle=True):\n",
        "        \n",
        "    assert train_size + val_size + test_size == 1\n",
        "    \n",
        "    X_train_val, X_test, y_train_val, y_test = train_test_split(\n",
        "        X, y, test_size=test_size, random_state=random_state, shuffle=shuffle)\n",
        "    \n",
        "    X_train, X_val, y_train, y_val = train_test_split(\n",
        "        X_train_val, y_train_val, test_size=val_size/(train_size+val_size), \n",
        "        random_state=random_state, shuffle=shuffle)\n",
        "    \n",
        "    return X_train, X_val, X_test, y_train, y_val, y_test"
      ],
      "execution_count": 0,
      "outputs": []
    },
    {
      "cell_type": "code",
      "metadata": {
        "colab_type": "code",
        "id": "TcpoWCUq5xNV",
        "outputId": "2816d989-7332-43ea-c340-9a4fc983beb8",
        "colab": {
          "base_uri": "https://localhost:8080/",
          "height": 640
        }
      },
      "source": [
        "%matplotlib inline\n",
        "from IPython.display import display\n",
        "import matplotlib.pyplot as plt\n",
        "from sklearn.datasets import make_classification\n",
        "from sklearn.metrics import accuracy_score, classification_report\n",
        "from sklearn.linear_model import LogisticRegression\n",
        "from mlxtend.plotting import plot_decision_regions\n",
        "\n",
        "\n",
        "#1. Generate data\n",
        "\n",
        "# Try re-running the cell with different values for these parameters\n",
        "n_samples = 1000\n",
        "weights = (0.95, 0.05)#we are generating data that is 95% one class, 5% another class\n",
        "class_sep = 0.8\n",
        "\n",
        "X, y = make_classification(n_samples=n_samples, n_features=2, n_informative=2, \n",
        "                           n_redundant=0, n_repeated=0, n_classes=2, \n",
        "                           n_clusters_per_class=1, weights=weights, \n",
        "                           class_sep=class_sep, random_state=0)\n",
        "\n",
        "\n",
        "# 2. Split data\n",
        "\n",
        "# Uses our custom train_validation_test_split function\n",
        "X_train, X_val, X_test, y_train, y_val, y_test = train_validation_test_split(\n",
        "    X, y, train_size=0.8, val_size=0.1, test_size=0.1, random_state=1)\n",
        "\n",
        "\n",
        "# 3. Fit model\n",
        "\n",
        "# Try re-running the cell with different values for this parameter\n",
        "class_weight = None\n",
        "#default parameter for Logistic Regression, we rebalance in next cell\n",
        "\n",
        "model = LogisticRegression(solver='lbfgs', class_weight=class_weight)\n",
        "model.fit(X_train, y_train)\n",
        "\n",
        "\n",
        "# 4. Evaluate model\n",
        "\n",
        "y_pred = model.predict(X_val)\n",
        "print(classification_report(y_val, y_pred))\n",
        "print('accuracy', accuracy_score(y_val, y_pred))\n",
        "display(pd.DataFrame(\n",
        "    confusion_matrix(y_val, y_pred), \n",
        "    columns=['Predicted Negative', 'Predicted Positive'], \n",
        "    index=['Actual Negative', 'Actual Positive']))\n",
        "\n",
        "\n",
        "# 5. Visualize decision regions\n",
        "\n",
        "plt.figure(figsize=(10, 6))\n",
        "plot_decision_regions(X_val, y_val, model, legend=0);"
      ],
      "execution_count": 0,
      "outputs": [
        {
          "output_type": "stream",
          "text": [
            "              precision    recall  f1-score   support\n",
            "\n",
            "           0       0.98      1.00      0.99        96\n",
            "           1       1.00      0.50      0.67         4\n",
            "\n",
            "   micro avg       0.98      0.98      0.98       100\n",
            "   macro avg       0.99      0.75      0.83       100\n",
            "weighted avg       0.98      0.98      0.98       100\n",
            "\n",
            "accuracy 0.98\n"
          ],
          "name": "stdout"
        },
        {
          "output_type": "display_data",
          "data": {
            "text/html": [
              "<div>\n",
              "<style scoped>\n",
              "    .dataframe tbody tr th:only-of-type {\n",
              "        vertical-align: middle;\n",
              "    }\n",
              "\n",
              "    .dataframe tbody tr th {\n",
              "        vertical-align: top;\n",
              "    }\n",
              "\n",
              "    .dataframe thead th {\n",
              "        text-align: right;\n",
              "    }\n",
              "</style>\n",
              "<table border=\"1\" class=\"dataframe\">\n",
              "  <thead>\n",
              "    <tr style=\"text-align: right;\">\n",
              "      <th></th>\n",
              "      <th>Predicted Negative</th>\n",
              "      <th>Predicted Positive</th>\n",
              "    </tr>\n",
              "  </thead>\n",
              "  <tbody>\n",
              "    <tr>\n",
              "      <th>Actual Negative</th>\n",
              "      <td>96</td>\n",
              "      <td>0</td>\n",
              "    </tr>\n",
              "    <tr>\n",
              "      <th>Actual Positive</th>\n",
              "      <td>2</td>\n",
              "      <td>2</td>\n",
              "    </tr>\n",
              "  </tbody>\n",
              "</table>\n",
              "</div>"
            ],
            "text/plain": [
              "                 Predicted Negative  Predicted Positive\n",
              "Actual Negative                  96                   0\n",
              "Actual Positive                   2                   2"
            ]
          },
          "metadata": {
            "tags": []
          }
        },
        {
          "output_type": "display_data",
          "data": {
            "image/png": "[encoded data removed]",
            "text/plain": [
              "<Figure size 720x432 with 1 Axes>"
            ]
          },
          "metadata": {
            "tags": []
          }
        }
      ]
    },
    {
      "cell_type": "code",
      "metadata": {
        "id": "IC1PFXOUk1Es",
        "colab_type": "code",
        "colab": {}
      },
      "source": [
        "#orange triangle is positive class\n",
        "#4 triangles but I only predicted correctly 2 of them. \n",
        "#my recall is 2 out of 4 so 50% \n",
        "#easier to do classification when balananced "
      ],
      "execution_count": 0,
      "outputs": []
    },
    {
      "cell_type": "code",
      "metadata": {
        "id": "fQmxNnSckt-A",
        "colab_type": "code",
        "outputId": "0a721cf8-6f58-4ac5-ba85-92a5ad812f11",
        "colab": {
          "base_uri": "https://localhost:8080/",
          "height": 640
        }
      },
      "source": [
        "%matplotlib inline\n",
        "from IPython.display import display\n",
        "import matplotlib.pyplot as plt\n",
        "from sklearn.datasets import make_classification\n",
        "from sklearn.metrics import accuracy_score, classification_report\n",
        "from sklearn.linear_model import LogisticRegression\n",
        "from mlxtend.plotting import plot_decision_regions\n",
        "\n",
        "\n",
        "#1. Generate data\n",
        "\n",
        "# Try re-running the cell with different values for these parameters\n",
        "n_samples = 1000\n",
        "weights = (0.95, 0.05)#we are generating data that is 95% one class, 5% another class\n",
        "class_sep = 0.8\n",
        "\n",
        "X, y = make_classification(n_samples=n_samples, n_features=2, n_informative=2, \n",
        "                           n_redundant=0, n_repeated=0, n_classes=2, \n",
        "                           n_clusters_per_class=1, weights=weights, \n",
        "                           class_sep=class_sep, random_state=0)\n",
        "\n",
        "\n",
        "# 2. Split data\n",
        "\n",
        "# Uses our custom train_validation_test_split function\n",
        "X_train, X_val, X_test, y_train, y_val, y_test = train_validation_test_split(\n",
        "    X, y, train_size=0.8, val_size=0.1, test_size=0.1, random_state=1)\n",
        "\n",
        "\n",
        "# 3. Fit model\n",
        "\n",
        "# Try re-running the cell with different values for this parameter\n",
        "class_weight = 'balanaced'\n",
        "#default parameter for Logistic Regression, we rebalance in next cell\n",
        "\n",
        "model = LogisticRegression(solver='lbfgs', class_weight=class_weight)\n",
        "model.fit(X_train, y_train)\n",
        "\n",
        "\n",
        "# 4. Evaluate model\n",
        "\n",
        "y_pred = model.predict(X_val)\n",
        "print(classification_report(y_val, y_pred))\n",
        "print('accuracy', accuracy_score(y_val, y_pred))\n",
        "display(pd.DataFrame(\n",
        "    confusion_matrix(y_val, y_pred), \n",
        "    columns=['Predicted Negative', 'Predicted Positive'], \n",
        "    index=['Actual Negative', 'Actual Positive']))\n",
        "\n",
        "\n",
        "# 5. Visualize decision regions\n",
        "\n",
        "plt.figure(figsize=(10, 6))\n",
        "plot_decision_regions(X_val, y_val, model, legend=0);"
      ],
      "execution_count": 0,
      "outputs": [
        {
          "output_type": "stream",
          "text": [
            "              precision    recall  f1-score   support\n",
            "\n",
            "           0       0.98      1.00      0.99        96\n",
            "           1       1.00      0.50      0.67         4\n",
            "\n",
            "   micro avg       0.98      0.98      0.98       100\n",
            "   macro avg       0.99      0.75      0.83       100\n",
            "weighted avg       0.98      0.98      0.98       100\n",
            "\n",
            "accuracy 0.98\n"
          ],
          "name": "stdout"
        },
        {
          "output_type": "display_data",
          "data": {
            "text/html": [
              "<div>\n",
              "<style scoped>\n",
              "    .dataframe tbody tr th:only-of-type {\n",
              "        vertical-align: middle;\n",
              "    }\n",
              "\n",
              "    .dataframe tbody tr th {\n",
              "        vertical-align: top;\n",
              "    }\n",
              "\n",
              "    .dataframe thead th {\n",
              "        text-align: right;\n",
              "    }\n",
              "</style>\n",
              "<table border=\"1\" class=\"dataframe\">\n",
              "  <thead>\n",
              "    <tr style=\"text-align: right;\">\n",
              "      <th></th>\n",
              "      <th>Predicted Negative</th>\n",
              "      <th>Predicted Positive</th>\n",
              "    </tr>\n",
              "  </thead>\n",
              "  <tbody>\n",
              "    <tr>\n",
              "      <th>Actual Negative</th>\n",
              "      <td>96</td>\n",
              "      <td>0</td>\n",
              "    </tr>\n",
              "    <tr>\n",
              "      <th>Actual Positive</th>\n",
              "      <td>2</td>\n",
              "      <td>2</td>\n",
              "    </tr>\n",
              "  </tbody>\n",
              "</table>\n",
              "</div>"
            ],
            "text/plain": [
              "                 Predicted Negative  Predicted Positive\n",
              "Actual Negative                  96                   0\n",
              "Actual Positive                   2                   2"
            ]
          },
          "metadata": {
            "tags": []
          }
        },
        {
          "output_type": "display_data",
          "data": {
            "image/png": "[encoded data removed]",
            "text/plain": [
              "<Figure size 720x432 with 1 Axes>"
            ]
          },
          "metadata": {
            "tags": []
          }
        }
      ]
    },
    {
      "cell_type": "code",
      "metadata": {
        "id": "PO4yD8Lck7wk",
        "colab_type": "code",
        "colab": {}
      },
      "source": [
        "#convenient way to predict the positive class more often"
      ],
      "execution_count": 0,
      "outputs": []
    },
    {
      "cell_type": "code",
      "metadata": {
        "id": "I5c-9k92lH_6",
        "colab_type": "code",
        "colab": {}
      },
      "source": [
        "#https://scikit-learn.org/stable/modules/generated/sklearn.utils.class_weight.compute_class_weight.html\n",
        "#automatically adjusts weights inversely proportional to class frequencies in the input data\n",
        "\n",
        "#in the default case of class_weight = None, an error is weighted equally \n",
        "#we might want to priortize classifying positives \n",
        "#total error for 4 points, as same as the rest of the 96 points \n",
        "#like making new copies for orange triangles, so classes are weighted equally\n",
        "#default is each obervation is weighted equally, balanced as "
      ],
      "execution_count": 0,
      "outputs": []
    },
    {
      "cell_type": "code",
      "metadata": {
        "id": "zZGdyTkLmPZa",
        "colab_type": "code",
        "outputId": "afcdfe8e-9384-4ca8-89df-dcc7b9cd46e9",
        "colab": {
          "base_uri": "https://localhost:8080/",
          "height": 657
        }
      },
      "source": [
        "%matplotlib inline\n",
        "from IPython.display import display\n",
        "import matplotlib.pyplot as plt\n",
        "from sklearn.datasets import make_classification\n",
        "from sklearn.metrics import accuracy_score, classification_report\n",
        "from sklearn.linear_model import LogisticRegression\n",
        "from mlxtend.plotting import plot_decision_regions\n",
        "\n",
        "\n",
        "#1. Generate data\n",
        "\n",
        "# Try re-running the cell with different values for these parameters\n",
        "n_samples = 1000\n",
        "weights = (0.95, 0.05)#we are generating data that is 95% one class, 5% another class\n",
        "class_sep = 0.8\n",
        "\n",
        "X, y = make_classification(n_samples=n_samples, n_features=2, n_informative=2, \n",
        "                           n_redundant=0, n_repeated=0, n_classes=2, \n",
        "                           n_clusters_per_class=1, weights=weights, \n",
        "                           class_sep=class_sep, random_state=0)\n",
        "\n",
        "\n",
        "# 2. Split data\n",
        "\n",
        "# Uses our custom train_validation_test_split function\n",
        "X_train, X_val, X_test, y_train, y_val, y_test = train_validation_test_split(\n",
        "    X, y, train_size=0.8, val_size=0.1, test_size=0.1, random_state=1)\n",
        "\n",
        "\n",
        "# 3. Fit model\n",
        "\n",
        "# Try re-running the cell with different values for this parameter\n",
        "class_weight = 'balanced'#{0: 1, 1:10000}means make the positive 10,000 times more weight\n",
        "#default parameter for Logistic Regression, we rebalance in next cell\n",
        "\n",
        "model = LogisticRegression(solver='lbfgs', class_weight=class_weight)\n",
        "model.fit(X_train, y_train)\n",
        "\n",
        "\n",
        "# 4. Evaluate model\n",
        "\n",
        "y_pred = model.predict(X_val)\n",
        "print(classification_report(y_val, y_pred))\n",
        "print('accuracy', accuracy_score(y_val, y_pred))\n",
        "display(pd.DataFrame(\n",
        "    confusion_matrix(y_val, y_pred), \n",
        "    columns=['Predicted Negative', 'Predicted Positive'], \n",
        "    index=['Actual Negative', 'Actual Positive']))\n",
        "\n",
        "\n",
        "# 5. Visualize decision regions\n",
        "\n",
        "plt.figure(figsize=(10, 6))\n",
        "plot_decision_regions(X_val, y_val, model, legend=0)\n",
        "\n",
        "y_pred_proba = model.predict_proba(X_val)[:,1]\n",
        "print('ROC AUC', roc_auc_score(y_val, y_pred_proba))"
      ],
      "execution_count": 0,
      "outputs": [
        {
          "output_type": "stream",
          "text": [
            "              precision    recall  f1-score   support\n",
            "\n",
            "           0       1.00      0.90      0.95        96\n",
            "           1       0.29      1.00      0.44         4\n",
            "\n",
            "   micro avg       0.90      0.90      0.90       100\n",
            "   macro avg       0.64      0.95      0.69       100\n",
            "weighted avg       0.97      0.90      0.93       100\n",
            "\n",
            "accuracy 0.9\n"
          ],
          "name": "stdout"
        },
        {
          "output_type": "display_data",
          "data": {
            "text/html": [
              "<div>\n",
              "<style scoped>\n",
              "    .dataframe tbody tr th:only-of-type {\n",
              "        vertical-align: middle;\n",
              "    }\n",
              "\n",
              "    .dataframe tbody tr th {\n",
              "        vertical-align: top;\n",
              "    }\n",
              "\n",
              "    .dataframe thead th {\n",
              "        text-align: right;\n",
              "    }\n",
              "</style>\n",
              "<table border=\"1\" class=\"dataframe\">\n",
              "  <thead>\n",
              "    <tr style=\"text-align: right;\">\n",
              "      <th></th>\n",
              "      <th>Predicted Negative</th>\n",
              "      <th>Predicted Positive</th>\n",
              "    </tr>\n",
              "  </thead>\n",
              "  <tbody>\n",
              "    <tr>\n",
              "      <th>Actual Negative</th>\n",
              "      <td>86</td>\n",
              "      <td>10</td>\n",
              "    </tr>\n",
              "    <tr>\n",
              "      <th>Actual Positive</th>\n",
              "      <td>0</td>\n",
              "      <td>4</td>\n",
              "    </tr>\n",
              "  </tbody>\n",
              "</table>\n",
              "</div>"
            ],
            "text/plain": [
              "                 Predicted Negative  Predicted Positive\n",
              "Actual Negative                  86                  10\n",
              "Actual Positive                   0                   4"
            ]
          },
          "metadata": {
            "tags": []
          }
        },
        {
          "output_type": "stream",
          "text": [
            "ROC AUC 0.9895833333333334\n"
          ],
          "name": "stdout"
        },
        {
          "output_type": "display_data",
          "data": {
            "image/png": "[encoded data removed]",
            "text/plain": [
              "<Figure size 720x432 with 1 Axes>"
            ]
          },
          "metadata": {
            "tags": []
          }
        }
      ]
    },
    {
      "cell_type": "code",
      "metadata": {
        "id": "NCSSKWgRnmlj",
        "colab_type": "code",
        "colab": {}
      },
      "source": [
        "# you can try scikit-learn imbalanced-learn ie. smoked\n",
        "#calculating scores by hand is on sprint\n",
        "#if you were given the 4 number in confusion matrix, to calculate accuracy and precision"
      ],
      "execution_count": 0,
      "outputs": []
    },
    {
      "cell_type": "code",
      "metadata": {
        "id": "1Fj5c6vp9nb9",
        "colab_type": "code",
        "outputId": "e17eda39-b658-4c3b-c6f1-400d72652a8b",
        "colab": {
          "base_uri": "https://localhost:8080/",
          "height": 657
        }
      },
      "source": [
        "#1. Generate data\n",
        "\n",
        "# Try re-running the cell with different values for these parameters\n",
        "n_samples = 1000\n",
        "weights = (0.5, 0.5)#we are generating data that is 95% one class, 5% another class\n",
        "class_sep = 0.8\n",
        "\n",
        "X, y = make_classification(n_samples=n_samples, n_features=2, n_informative=2, \n",
        "                           n_redundant=0, n_repeated=0, n_classes=2, \n",
        "                           n_clusters_per_class=1, weights=weights, \n",
        "                           class_sep=class_sep, random_state=0)\n",
        "\n",
        "\n",
        "# 2. Split data\n",
        "\n",
        "# Uses our custom train_validation_test_split function\n",
        "X_train, X_val, X_test, y_train, y_val, y_test = train_validation_test_split(\n",
        "    X, y, train_size=0.8, val_size=0.1, test_size=0.1, random_state=1)\n",
        "\n",
        "\n",
        "# 3. Fit model\n",
        "\n",
        "# Try re-running the cell with different values for this parameter\n",
        "class_weight = None #{0: 1, 1:10000}means make the positive 10,000 times more weight\n",
        "#default parameter for Logistic Regression, we rebalance in next cell\n",
        "\n",
        "model = LogisticRegression(solver='lbfgs', class_weight=class_weight)\n",
        "model.fit(X_train, y_train)\n",
        "\n",
        "\n",
        "# 4. Evaluate model\n",
        "\n",
        "y_pred = model.predict(X_val)\n",
        "print(classification_report(y_val, y_pred))\n",
        "print('accuracy', accuracy_score(y_val, y_pred))\n",
        "display(pd.DataFrame(\n",
        "    confusion_matrix(y_val, y_pred), \n",
        "    columns=['Predicted Negative', 'Predicted Positive'], \n",
        "    index=['Actual Negative', 'Actual Positive']))\n",
        "\n",
        "\n",
        "# 5. Visualize decision regions\n",
        "\n",
        "plt.figure(figsize=(10, 6))\n",
        "plot_decision_regions(X_val, y_val, model, legend=0)\n",
        "\n",
        "y_pred_proba = model.predict_proba(X_val)[:,1]\n",
        "print('ROC AUC', roc_auc_score(y_val, y_pred_proba))"
      ],
      "execution_count": 0,
      "outputs": [
        {
          "output_type": "stream",
          "text": [
            "              precision    recall  f1-score   support\n",
            "\n",
            "           0       0.96      0.92      0.94        48\n",
            "           1       0.93      0.96      0.94        52\n",
            "\n",
            "   micro avg       0.94      0.94      0.94       100\n",
            "   macro avg       0.94      0.94      0.94       100\n",
            "weighted avg       0.94      0.94      0.94       100\n",
            "\n",
            "accuracy 0.94\n"
          ],
          "name": "stdout"
        },
        {
          "output_type": "display_data",
          "data": {
            "text/html": [
              "<div>\n",
              "<style scoped>\n",
              "    .dataframe tbody tr th:only-of-type {\n",
              "        vertical-align: middle;\n",
              "    }\n",
              "\n",
              "    .dataframe tbody tr th {\n",
              "        vertical-align: top;\n",
              "    }\n",
              "\n",
              "    .dataframe thead th {\n",
              "        text-align: right;\n",
              "    }\n",
              "</style>\n",
              "<table border=\"1\" class=\"dataframe\">\n",
              "  <thead>\n",
              "    <tr style=\"text-align: right;\">\n",
              "      <th></th>\n",
              "      <th>Predicted Negative</th>\n",
              "      <th>Predicted Positive</th>\n",
              "    </tr>\n",
              "  </thead>\n",
              "  <tbody>\n",
              "    <tr>\n",
              "      <th>Actual Negative</th>\n",
              "      <td>44</td>\n",
              "      <td>4</td>\n",
              "    </tr>\n",
              "    <tr>\n",
              "      <th>Actual Positive</th>\n",
              "      <td>2</td>\n",
              "      <td>50</td>\n",
              "    </tr>\n",
              "  </tbody>\n",
              "</table>\n",
              "</div>"
            ],
            "text/plain": [
              "                 Predicted Negative  Predicted Positive\n",
              "Actual Negative                  44                   4\n",
              "Actual Positive                   2                  50"
            ]
          },
          "metadata": {
            "tags": []
          }
        },
        {
          "output_type": "stream",
          "text": [
            "ROC AUC 0.9671474358974359\n"
          ],
          "name": "stdout"
        },
        {
          "output_type": "display_data",
          "data": {
            "image/png": "[encoded data removed]",
            "text/plain": [
              "<Figure size 720x432 with 1 Axes>"
            ]
          },
          "metadata": {
            "tags": []
          }
        }
      ]
    },
    {
      "cell_type": "code",
      "metadata": {
        "id": "iftvoi7399vJ",
        "colab_type": "code",
        "outputId": "d659407d-074e-48fc-ca60-83cd9bb2db3b",
        "colab": {
          "base_uri": "https://localhost:8080/",
          "height": 657
        }
      },
      "source": [
        "#1. Generate data\n",
        "\n",
        "# Try re-running the cell with different values for these parameters\n",
        "n_samples = 1000\n",
        "weights = (0.95, 0.05)#we are generating data that is 95% one class, 5% another class\n",
        "class_sep = 0.8\n",
        "\n",
        "X, y = make_classification(n_samples=n_samples, n_features=2, n_informative=2, \n",
        "                           n_redundant=0, n_repeated=0, n_classes=2, \n",
        "                           n_clusters_per_class=1, weights=weights, \n",
        "                           class_sep=class_sep, random_state=0)\n",
        "\n",
        "\n",
        "# 2. Split data\n",
        "\n",
        "# Uses our custom train_validation_test_split function\n",
        "X_train, X_val, X_test, y_train, y_val, y_test = train_validation_test_split(\n",
        "    X, y, train_size=0.8, val_size=0.1, test_size=0.1, random_state=1)\n",
        "\n",
        "\n",
        "# 3. Fit model\n",
        "\n",
        "# Try re-running the cell with different values for this parameter\n",
        "class_weight = None #{0: 1, 1:10000}means make the positive 10,000 times more weight\n",
        "#default parameter for Logistic Regression, we rebalance in next cell\n",
        "\n",
        "model = LogisticRegression(solver='lbfgs', class_weight=class_weight)\n",
        "model.fit(X_train, y_train)\n",
        "\n",
        "\n",
        "# 4. Evaluate model\n",
        "\n",
        "y_pred = model.predict(X_val)\n",
        "print(classification_report(y_val, y_pred))\n",
        "print('accuracy', accuracy_score(y_val, y_pred))\n",
        "display(pd.DataFrame(\n",
        "    confusion_matrix(y_val, y_pred), \n",
        "    columns=['Predicted Negative', 'Predicted Positive'], \n",
        "    index=['Actual Negative', 'Actual Positive']))\n",
        "\n",
        "\n",
        "# 5. Visualize decision regions\n",
        "\n",
        "plt.figure(figsize=(10, 6))\n",
        "plot_decision_regions(X_val, y_val, model, legend=0)\n",
        "\n",
        "y_pred_proba = model.predict_proba(X_val)[:,1]\n",
        "print('ROC AUC', roc_auc_score(y_val, y_pred_proba))"
      ],
      "execution_count": 0,
      "outputs": [
        {
          "output_type": "stream",
          "text": [
            "              precision    recall  f1-score   support\n",
            "\n",
            "           0       0.98      1.00      0.99        96\n",
            "           1       1.00      0.50      0.67         4\n",
            "\n",
            "   micro avg       0.98      0.98      0.98       100\n",
            "   macro avg       0.99      0.75      0.83       100\n",
            "weighted avg       0.98      0.98      0.98       100\n",
            "\n",
            "accuracy 0.98\n"
          ],
          "name": "stdout"
        },
        {
          "output_type": "display_data",
          "data": {
            "text/html": [
              "<div>\n",
              "<style scoped>\n",
              "    .dataframe tbody tr th:only-of-type {\n",
              "        vertical-align: middle;\n",
              "    }\n",
              "\n",
              "    .dataframe tbody tr th {\n",
              "        vertical-align: top;\n",
              "    }\n",
              "\n",
              "    .dataframe thead th {\n",
              "        text-align: right;\n",
              "    }\n",
              "</style>\n",
              "<table border=\"1\" class=\"dataframe\">\n",
              "  <thead>\n",
              "    <tr style=\"text-align: right;\">\n",
              "      <th></th>\n",
              "      <th>Predicted Negative</th>\n",
              "      <th>Predicted Positive</th>\n",
              "    </tr>\n",
              "  </thead>\n",
              "  <tbody>\n",
              "    <tr>\n",
              "      <th>Actual Negative</th>\n",
              "      <td>96</td>\n",
              "      <td>0</td>\n",
              "    </tr>\n",
              "    <tr>\n",
              "      <th>Actual Positive</th>\n",
              "      <td>2</td>\n",
              "      <td>2</td>\n",
              "    </tr>\n",
              "  </tbody>\n",
              "</table>\n",
              "</div>"
            ],
            "text/plain": [
              "                 Predicted Negative  Predicted Positive\n",
              "Actual Negative                  96                   0\n",
              "Actual Positive                   2                   2"
            ]
          },
          "metadata": {
            "tags": []
          }
        },
        {
          "output_type": "stream",
          "text": [
            "ROC AUC 0.9973958333333334\n"
          ],
          "name": "stdout"
        },
        {
          "output_type": "display_data",
          "data": {
            "image/png": "[encoded data removed]",
            "text/plain": [
              "<Figure size 720x432 with 1 Axes>"
            ]
          },
          "metadata": {
            "tags": []
          }
        }
      ]
    },
    {
      "cell_type": "code",
      "metadata": {
        "id": "wU0YrqB2-YT5",
        "colab_type": "code",
        "outputId": "5085697e-79b8-4f0e-e29e-332b57401f92",
        "colab": {
          "base_uri": "https://localhost:8080/",
          "height": 657
        }
      },
      "source": [
        "#1. Generate data\n",
        "\n",
        "# Try re-running the cell with different values for these parameters\n",
        "n_samples = 1000\n",
        "weights = (0.95, 0.05)#we are generating data that is 95% one class, 5% another class\n",
        "class_sep = 0.8\n",
        "\n",
        "X, y = make_classification(n_samples=n_samples, n_features=2, n_informative=2, \n",
        "                           n_redundant=0, n_repeated=0, n_classes=2, \n",
        "                           n_clusters_per_class=1, weights=weights, \n",
        "                           class_sep=class_sep, random_state=0)\n",
        "\n",
        "\n",
        "# 2. Split data\n",
        "\n",
        "# Uses our custom train_validation_test_split function\n",
        "X_train, X_val, X_test, y_train, y_val, y_test = train_validation_test_split(\n",
        "    X, y, train_size=0.8, val_size=0.1, test_size=0.1, random_state=1)\n",
        "\n",
        "\n",
        "# 3. Fit model\n",
        "\n",
        "# Try re-running the cell with different values for this parameter\n",
        "class_weight = 'balanced' #{0: 1, 1:10000}means make the positive 10,000 times more weight\n",
        "#default parameter for Logistic Regression, we rebalance in next cell\n",
        "\n",
        "model = LogisticRegression(solver='lbfgs', class_weight=class_weight)\n",
        "model.fit(X_train, y_train)\n",
        "\n",
        "\n",
        "# 4. Evaluate model\n",
        "\n",
        "y_pred = model.predict(X_val)\n",
        "print(classification_report(y_val, y_pred))\n",
        "print('accuracy', accuracy_score(y_val, y_pred))\n",
        "display(pd.DataFrame(\n",
        "    confusion_matrix(y_val, y_pred), \n",
        "    columns=['Predicted Negative', 'Predicted Positive'], \n",
        "    index=['Actual Negative', 'Actual Positive']))\n",
        "\n",
        "\n",
        "# 5. Visualize decision regions\n",
        "\n",
        "plt.figure(figsize=(10, 6))\n",
        "plot_decision_regions(X_val, y_val, model, legend=0)\n",
        "\n",
        "y_pred_proba = model.predict_proba(X_val)[:,1]\n",
        "print('ROC AUC', roc_auc_score(y_val, y_pred_proba))"
      ],
      "execution_count": 0,
      "outputs": [
        {
          "output_type": "stream",
          "text": [
            "              precision    recall  f1-score   support\n",
            "\n",
            "           0       1.00      0.90      0.95        96\n",
            "           1       0.29      1.00      0.44         4\n",
            "\n",
            "   micro avg       0.90      0.90      0.90       100\n",
            "   macro avg       0.64      0.95      0.69       100\n",
            "weighted avg       0.97      0.90      0.93       100\n",
            "\n",
            "accuracy 0.9\n"
          ],
          "name": "stdout"
        },
        {
          "output_type": "display_data",
          "data": {
            "text/html": [
              "<div>\n",
              "<style scoped>\n",
              "    .dataframe tbody tr th:only-of-type {\n",
              "        vertical-align: middle;\n",
              "    }\n",
              "\n",
              "    .dataframe tbody tr th {\n",
              "        vertical-align: top;\n",
              "    }\n",
              "\n",
              "    .dataframe thead th {\n",
              "        text-align: right;\n",
              "    }\n",
              "</style>\n",
              "<table border=\"1\" class=\"dataframe\">\n",
              "  <thead>\n",
              "    <tr style=\"text-align: right;\">\n",
              "      <th></th>\n",
              "      <th>Predicted Negative</th>\n",
              "      <th>Predicted Positive</th>\n",
              "    </tr>\n",
              "  </thead>\n",
              "  <tbody>\n",
              "    <tr>\n",
              "      <th>Actual Negative</th>\n",
              "      <td>86</td>\n",
              "      <td>10</td>\n",
              "    </tr>\n",
              "    <tr>\n",
              "      <th>Actual Positive</th>\n",
              "      <td>0</td>\n",
              "      <td>4</td>\n",
              "    </tr>\n",
              "  </tbody>\n",
              "</table>\n",
              "</div>"
            ],
            "text/plain": [
              "                 Predicted Negative  Predicted Positive\n",
              "Actual Negative                  86                  10\n",
              "Actual Positive                   0                   4"
            ]
          },
          "metadata": {
            "tags": []
          }
        },
        {
          "output_type": "stream",
          "text": [
            "ROC AUC 0.9895833333333334\n"
          ],
          "name": "stdout"
        },
        {
          "output_type": "display_data",
          "data": {
            "image/png": "[encoded data removed]",
            "text/plain": [
              "<Figure size 720x432 with 1 Axes>"
            ]
          },
          "metadata": {
            "tags": []
          }
        }
      ]
    },
    {
      "cell_type": "code",
      "metadata": {
        "id": "IwhqEaa8-lqo",
        "colab_type": "code",
        "outputId": "1aeb18e3-395e-42a1-badf-58308fb7c48c",
        "colab": {
          "base_uri": "https://localhost:8080/",
          "height": 657
        }
      },
      "source": [
        "#1. Generate data\n",
        "\n",
        "# Try re-running the cell with different values for these parameters\n",
        "n_samples = 1000\n",
        "weights = (0.95, 0.05)#we are generating data that is 95% one class, 5% another class\n",
        "class_sep = 0.8\n",
        "\n",
        "X, y = make_classification(n_samples=n_samples, n_features=2, n_informative=2, \n",
        "                           n_redundant=0, n_repeated=0, n_classes=2, \n",
        "                           n_clusters_per_class=1, weights=weights, \n",
        "                           class_sep=class_sep, random_state=0)\n",
        "\n",
        "\n",
        "# 2. Split data\n",
        "\n",
        "# Uses our custom train_validation_test_split function\n",
        "X_train, X_val, X_test, y_train, y_val, y_test = train_validation_test_split(\n",
        "    X, y, train_size=0.8, val_size=0.1, test_size=0.1, random_state=1)\n",
        "\n",
        "\n",
        "# 3. Fit model\n",
        "\n",
        "# Try re-running the cell with different values for this parameter\n",
        "class_weight = {0: 1, 1: 2} #{0: 1, 1:10000}means make the positive 10,000 times more weight\n",
        "#default parameter for Logistic Regression, we rebalance in next cell\n",
        "\n",
        "model = LogisticRegression(solver='lbfgs', class_weight=class_weight)\n",
        "model.fit(X_train, y_train)\n",
        "\n",
        "\n",
        "# 4. Evaluate model\n",
        "\n",
        "y_pred = model.predict(X_val)\n",
        "print(classification_report(y_val, y_pred))\n",
        "print('accuracy', accuracy_score(y_val, y_pred))\n",
        "display(pd.DataFrame(\n",
        "    confusion_matrix(y_val, y_pred), \n",
        "    columns=['Predicted Negative', 'Predicted Positive'], \n",
        "    index=['Actual Negative', 'Actual Positive']))\n",
        "\n",
        "\n",
        "# 5. Visualize decision regions\n",
        "\n",
        "plt.figure(figsize=(10, 6))\n",
        "plot_decision_regions(X_val, y_val, model, legend=0)\n",
        "\n",
        "y_pred_proba = model.predict_proba(X_val)[:,1]\n",
        "print('ROC AUC', roc_auc_score(y_val, y_pred_proba))"
      ],
      "execution_count": 0,
      "outputs": [
        {
          "output_type": "stream",
          "text": [
            "              precision    recall  f1-score   support\n",
            "\n",
            "           0       0.99      0.99      0.99        96\n",
            "           1       0.75      0.75      0.75         4\n",
            "\n",
            "   micro avg       0.98      0.98      0.98       100\n",
            "   macro avg       0.87      0.87      0.87       100\n",
            "weighted avg       0.98      0.98      0.98       100\n",
            "\n",
            "accuracy 0.98\n"
          ],
          "name": "stdout"
        },
        {
          "output_type": "display_data",
          "data": {
            "text/html": [
              "<div>\n",
              "<style scoped>\n",
              "    .dataframe tbody tr th:only-of-type {\n",
              "        vertical-align: middle;\n",
              "    }\n",
              "\n",
              "    .dataframe tbody tr th {\n",
              "        vertical-align: top;\n",
              "    }\n",
              "\n",
              "    .dataframe thead th {\n",
              "        text-align: right;\n",
              "    }\n",
              "</style>\n",
              "<table border=\"1\" class=\"dataframe\">\n",
              "  <thead>\n",
              "    <tr style=\"text-align: right;\">\n",
              "      <th></th>\n",
              "      <th>Predicted Negative</th>\n",
              "      <th>Predicted Positive</th>\n",
              "    </tr>\n",
              "  </thead>\n",
              "  <tbody>\n",
              "    <tr>\n",
              "      <th>Actual Negative</th>\n",
              "      <td>95</td>\n",
              "      <td>1</td>\n",
              "    </tr>\n",
              "    <tr>\n",
              "      <th>Actual Positive</th>\n",
              "      <td>1</td>\n",
              "      <td>3</td>\n",
              "    </tr>\n",
              "  </tbody>\n",
              "</table>\n",
              "</div>"
            ],
            "text/plain": [
              "                 Predicted Negative  Predicted Positive\n",
              "Actual Negative                  95                   1\n",
              "Actual Positive                   1                   3"
            ]
          },
          "metadata": {
            "tags": []
          }
        },
        {
          "output_type": "stream",
          "text": [
            "ROC AUC 0.9973958333333334\n"
          ],
          "name": "stdout"
        },
        {
          "output_type": "display_data",
          "data": {
            "image/png": "[encoded data removed]",
            "text/plain": [
              "<Figure size 720x432 with 1 Axes>"
            ]
          },
          "metadata": {
            "tags": []
          }
        }
      ]
    },
    {
      "cell_type": "code",
      "metadata": {
        "id": "EUAnbTto-xli",
        "colab_type": "code",
        "outputId": "1b4d09b7-fa5d-4f54-deec-8f6fb1359982",
        "colab": {
          "base_uri": "https://localhost:8080/",
          "height": 657
        }
      },
      "source": [
        "#1. Generate data\n",
        "\n",
        "# Try re-running the cell with different values for these parameters\n",
        "n_samples = 1000\n",
        "weights = (0.95, 0.05)#we are generating data that is 95% one class, 5% another class\n",
        "class_sep = 0.8\n",
        "\n",
        "X, y = make_classification(n_samples=n_samples, n_features=2, n_informative=2, \n",
        "                           n_redundant=0, n_repeated=0, n_classes=2, \n",
        "                           n_clusters_per_class=1, weights=weights, \n",
        "                           class_sep=class_sep, random_state=0)\n",
        "\n",
        "\n",
        "# 2. Split data\n",
        "\n",
        "# Uses our custom train_validation_test_split function\n",
        "X_train, X_val, X_test, y_train, y_val, y_test = train_validation_test_split(\n",
        "    X, y, train_size=0.8, val_size=0.1, test_size=0.1, random_state=1)\n",
        "\n",
        "\n",
        "# 3. Fit model\n",
        "\n",
        "# Try re-running the cell with different values for this parameter\n",
        "class_weight = {0: 1, 1: 100} #{0: 1, 1:10000}means make the positive 10,000 times more weight\n",
        "#default parameter for Logistic Regression, we rebalance in next cell\n",
        "\n",
        "model = LogisticRegression(solver='lbfgs', class_weight=class_weight)\n",
        "model.fit(X_train, y_train)\n",
        "\n",
        "\n",
        "# 4. Evaluate model\n",
        "\n",
        "y_pred = model.predict(X_val)\n",
        "print(classification_report(y_val, y_pred))\n",
        "print('accuracy', accuracy_score(y_val, y_pred))\n",
        "display(pd.DataFrame(\n",
        "    confusion_matrix(y_val, y_pred), \n",
        "    columns=['Predicted Negative', 'Predicted Positive'], \n",
        "    index=['Actual Negative', 'Actual Positive']))\n",
        "\n",
        "\n",
        "# 5. Visualize decision regions\n",
        "\n",
        "plt.figure(figsize=(10, 6))\n",
        "plot_decision_regions(X_val, y_val, model, legend=0)\n",
        "\n",
        "y_pred_proba = model.predict_proba(X_val)[:,1]\n",
        "print('ROC AUC', roc_auc_score(y_val, y_pred_proba))"
      ],
      "execution_count": 0,
      "outputs": [
        {
          "output_type": "stream",
          "text": [
            "              precision    recall  f1-score   support\n",
            "\n",
            "           0       1.00      0.52      0.68        96\n",
            "           1       0.08      1.00      0.15         4\n",
            "\n",
            "   micro avg       0.54      0.54      0.54       100\n",
            "   macro avg       0.54      0.76      0.42       100\n",
            "weighted avg       0.96      0.54      0.66       100\n",
            "\n",
            "accuracy 0.54\n"
          ],
          "name": "stdout"
        },
        {
          "output_type": "display_data",
          "data": {
            "text/html": [
              "<div>\n",
              "<style scoped>\n",
              "    .dataframe tbody tr th:only-of-type {\n",
              "        vertical-align: middle;\n",
              "    }\n",
              "\n",
              "    .dataframe tbody tr th {\n",
              "        vertical-align: top;\n",
              "    }\n",
              "\n",
              "    .dataframe thead th {\n",
              "        text-align: right;\n",
              "    }\n",
              "</style>\n",
              "<table border=\"1\" class=\"dataframe\">\n",
              "  <thead>\n",
              "    <tr style=\"text-align: right;\">\n",
              "      <th></th>\n",
              "      <th>Predicted Negative</th>\n",
              "      <th>Predicted Positive</th>\n",
              "    </tr>\n",
              "  </thead>\n",
              "  <tbody>\n",
              "    <tr>\n",
              "      <th>Actual Negative</th>\n",
              "      <td>50</td>\n",
              "      <td>46</td>\n",
              "    </tr>\n",
              "    <tr>\n",
              "      <th>Actual Positive</th>\n",
              "      <td>0</td>\n",
              "      <td>4</td>\n",
              "    </tr>\n",
              "  </tbody>\n",
              "</table>\n",
              "</div>"
            ],
            "text/plain": [
              "                 Predicted Negative  Predicted Positive\n",
              "Actual Negative                  50                  46\n",
              "Actual Positive                   0                   4"
            ]
          },
          "metadata": {
            "tags": []
          }
        },
        {
          "output_type": "stream",
          "text": [
            "ROC AUC 0.9739583333333334\n"
          ],
          "name": "stdout"
        },
        {
          "output_type": "display_data",
          "data": {
            "image/png": "[encoded data removed]",
            "text/plain": [
              "<Figure size 720x432 with 1 Axes>"
            ]
          },
          "metadata": {
            "tags": []
          }
        }
      ]
    },
    {
      "cell_type": "code",
      "metadata": {
        "id": "26rhumdX-3iC",
        "colab_type": "code",
        "outputId": "9b09cf8d-cea1-47e2-b7b9-64dc3e02ad2c",
        "colab": {
          "base_uri": "https://localhost:8080/",
          "height": 657
        }
      },
      "source": [
        "#1. Generate data\n",
        "\n",
        "# Try re-running the cell with different values for these parameters\n",
        "n_samples = 1000\n",
        "weights = (0.95, 0.05)#we are generating data that is 95% one class, 5% another class\n",
        "class_sep = 0.8\n",
        "\n",
        "X, y = make_classification(n_samples=n_samples, n_features=2, n_informative=2, \n",
        "                           n_redundant=0, n_repeated=0, n_classes=2, \n",
        "                           n_clusters_per_class=1, weights=weights, \n",
        "                           class_sep=class_sep, random_state=0)\n",
        "\n",
        "\n",
        "# 2. Split data\n",
        "\n",
        "# Uses our custom train_validation_test_split function\n",
        "X_train, X_val, X_test, y_train, y_val, y_test = train_validation_test_split(\n",
        "    X, y, train_size=0.8, val_size=0.1, test_size=0.1, random_state=1)\n",
        "\n",
        "\n",
        "# 3. Fit model\n",
        "\n",
        "# Try re-running the cell with different values for this parameter\n",
        "class_weight = {0: 1, 1: 10000} #{0: 1, 1:10000}means make the positive 10,000 times more weight\n",
        "#default parameter for Logistic Regression, we rebalance in next cell\n",
        "\n",
        "model = LogisticRegression(solver='lbfgs', class_weight=class_weight)\n",
        "model.fit(X_train, y_train)\n",
        "\n",
        "\n",
        "# 4. Evaluate model\n",
        "\n",
        "y_pred = model.predict(X_val)\n",
        "print(classification_report(y_val, y_pred))\n",
        "print('accuracy', accuracy_score(y_val, y_pred))\n",
        "display(pd.DataFrame(\n",
        "    confusion_matrix(y_val, y_pred), \n",
        "    columns=['Predicted Negative', 'Predicted Positive'], \n",
        "    index=['Actual Negative', 'Actual Positive']))\n",
        "\n",
        "\n",
        "# 5. Visualize decision regions\n",
        "\n",
        "plt.figure(figsize=(10, 6))\n",
        "plot_decision_regions(X_val, y_val, model, legend=0)\n",
        "\n",
        "y_pred_proba = model.predict_proba(X_val)[:,1]\n",
        "print('ROC AUC', roc_auc_score(y_val, y_pred_proba))"
      ],
      "execution_count": 0,
      "outputs": [
        {
          "output_type": "stream",
          "text": [
            "              precision    recall  f1-score   support\n",
            "\n",
            "           0       1.00      0.15      0.25        96\n",
            "           1       0.05      1.00      0.09         4\n",
            "\n",
            "   micro avg       0.18      0.18      0.18       100\n",
            "   macro avg       0.52      0.57      0.17       100\n",
            "weighted avg       0.96      0.18      0.25       100\n",
            "\n",
            "accuracy 0.18\n"
          ],
          "name": "stdout"
        },
        {
          "output_type": "display_data",
          "data": {
            "text/html": [
              "<div>\n",
              "<style scoped>\n",
              "    .dataframe tbody tr th:only-of-type {\n",
              "        vertical-align: middle;\n",
              "    }\n",
              "\n",
              "    .dataframe tbody tr th {\n",
              "        vertical-align: top;\n",
              "    }\n",
              "\n",
              "    .dataframe thead th {\n",
              "        text-align: right;\n",
              "    }\n",
              "</style>\n",
              "<table border=\"1\" class=\"dataframe\">\n",
              "  <thead>\n",
              "    <tr style=\"text-align: right;\">\n",
              "      <th></th>\n",
              "      <th>Predicted Negative</th>\n",
              "      <th>Predicted Positive</th>\n",
              "    </tr>\n",
              "  </thead>\n",
              "  <tbody>\n",
              "    <tr>\n",
              "      <th>Actual Negative</th>\n",
              "      <td>14</td>\n",
              "      <td>82</td>\n",
              "    </tr>\n",
              "    <tr>\n",
              "      <th>Actual Positive</th>\n",
              "      <td>0</td>\n",
              "      <td>4</td>\n",
              "    </tr>\n",
              "  </tbody>\n",
              "</table>\n",
              "</div>"
            ],
            "text/plain": [
              "                 Predicted Negative  Predicted Positive\n",
              "Actual Negative                  14                  82\n",
              "Actual Positive                   0                   4"
            ]
          },
          "metadata": {
            "tags": []
          }
        },
        {
          "output_type": "stream",
          "text": [
            "ROC AUC 0.9635416666666666\n"
          ],
          "name": "stdout"
        },
        {
          "output_type": "display_data",
          "data": {
            "image/png": "[encoded data removed]",
            "text/plain": [
              "<Figure size 720x432 with 1 Axes>"
            ]
          },
          "metadata": {
            "tags": []
          }
        }
      ]
    },
    {
      "cell_type": "markdown",
      "metadata": {
        "id": "3qfhXXI2mzfy",
        "colab_type": "text"
      },
      "source": [
        "# usually higher roc auc better f1 score"
      ]
    },
    {
      "cell_type": "markdown",
      "metadata": {
        "colab_type": "text",
        "id": "zrllN3yECsEN"
      },
      "source": [
        "Try re-running the cell above with different values for these four parameters:\n",
        "- `n_samples`\n",
        "- `weights`\n",
        "- `class_sep`\n",
        "- `class_balance`\n",
        "\n",
        "For example, with a 50% / 50% class distribution:\n",
        "```\n",
        "n_samples = 1000\n",
        "weights = (0.50, 0.50)\n",
        "class_sep = 0.8\n",
        "class_balance = None\n",
        "```\n",
        "\n",
        "With a 95% / 5% class distribution:\n",
        "```\n",
        "n_samples = 1000\n",
        "weights = (0.95, 0.05)\n",
        "class_sep = 0.8\n",
        "class_balance = None\n",
        "```\n",
        "\n",
        "With the same 95% / 5% class distribution, but changing the Logistic Regression's `class_balance` parameter to `'balanced'` (instead of its default `None`)\n",
        "```\n",
        "n_samples = 1000\n",
        "weights = (0.95, 0.05)\n",
        "class_sep = 0.8\n",
        "class_balance = 'balanced'\n",
        "```\n",
        "\n",
        "With the same 95% / 5% class distribution, but with different values for `class_balance`:\n",
        "- `{0: 1, 1: 1}` _(equivalent to `None`)_\n",
        "- `{0: 1, 1: 2}`\n",
        "- `{0: 1, 1: 10}` _(roughly equivalent to `'balanced'` for this dataset)_\n",
        "- `{0: 1, 1: 100}`\n",
        "- `{0: 1, 1: 10000}`\n",
        "\n",
        "How do the evaluation metrics and decision region plots change?"
      ]
    },
    {
      "cell_type": "markdown",
      "metadata": {
        "id": "Du0JsCcI9Wmz",
        "colab_type": "text"
      },
      "source": [
        ""
      ]
    },
    {
      "cell_type": "markdown",
      "metadata": {
        "colab_type": "text",
        "id": "5-3MS-jANssN"
      },
      "source": [
        "## What you can do about imbalanced classes"
      ]
    },
    {
      "cell_type": "markdown",
      "metadata": {
        "colab_type": "text",
        "id": "2KwgStd-yUUr"
      },
      "source": [
        "[Learning from Imbalanced Classes](https://www.svds.com/tbt-learning-imbalanced-classes/) gives \"a rough outline of useful approaches\" : \n",
        "\n",
        "- Do nothing. Sometimes you get lucky and nothing needs to be done. You can train on the so-called natural (or stratified) distribution and sometimes it works without need for modification.\n",
        "- Balance the training set in some way:\n",
        "  - Oversample the minority class.\n",
        "  - Undersample the majority class.\n",
        "  - Synthesize new minority classes.\n",
        "- Throw away minority examples and switch to an anomaly detection framework.\n",
        "- At the algorithm level, or after it:\n",
        "  - Adjust the class weight (misclassification costs).\n",
        "  - Adjust the decision threshold.\n",
        "  - Modify an existing algorithm to be more sensitive to rare classes.\n",
        "- Construct an entirely new algorithm to perform well on imbalanced data.\n"
      ]
    },
    {
      "cell_type": "markdown",
      "metadata": {
        "colab_type": "text",
        "id": "iO7kOZ2HN0EA"
      },
      "source": [
        "#### We demonstrated two of these options: \n",
        "\n",
        "- \"Adjust the class weight (misclassification costs)\" — many scikit-learn classifiers have a `class_balance` parameter\n",
        "- \"Adjust the decision threshold\" — you can lean more about this in a great blog post, [Visualizing Machine Learning Thresholds to Make Better Business Decisions](https://blog.insightdatascience.com/visualizing-machine-learning-thresholds-to-make-better-business-decisions-4ab07f823415).\n",
        "\n",
        "#### Another option to be aware of:\n",
        "- The [imbalance-learn](https://github.com/scikit-learn-contrib/imbalanced-learn) library can be used to \"oversample the minority class, undersample the majority class, or synthesize new minority classes.\""
      ]
    },
    {
      "cell_type": "markdown",
      "metadata": {
        "colab_type": "text",
        "id": "P_XjBTW5SBwZ"
      },
      "source": [
        "# ASSIGNMENT\n",
        "\n",
        "#### Bank Marketing\n",
        "- Try the `class_weight` parameter.\n",
        "- Explore and visualize your data. \n",
        "- Wrangle [bad data](https://github.com/Quartz/bad-data-guide), outliers, and missing values.\n",
        "- Try engineering more features. You can transform, bin, and combine features. \n",
        "- Try selecting fewer features.\n",
        "-Try class weight roc_auc\n",
        "\n",
        "\n",
        "#### Imbalanced Classes demo with synthetic data\n",
        "- Play around with the demo. Change parameter values.\n",
        "- Be able to calculate precision, recall, F1, and accuracy \"by hand\", given a confusion matrix and access to Wikipedia.\n",
        "\n",
        "# STRETCH\n",
        "- Read the blog post, [Visualizing Machine Learning Thresholds to Make Better Business Decisions](https://blog.insightdatascience.com/visualizing-machine-learning-thresholds-to-make-better-business-decisions-4ab07f823415). You can replicate the code as-is,  [\"the hard way\"](https://docs.google.com/document/d/1ubOw9B3Hfip27hF2ZFnW3a3z9xAgrUDRReOEo-FHCVs/edit). Or you can apply it to the Bank Marketing dataset.\n",
        "- Try the [imbalance-learn](https://github.com/scikit-learn-contrib/imbalanced-learn) library.\n",
        "- Try other [scikit-learn classifiers](https://scikit-learn.org/stable/supervised_learning.html), beyond Logistic Regression."
      ]
    },
    {
      "cell_type": "code",
      "metadata": {
        "id": "BQDvSE2kjqWD",
        "colab_type": "code",
        "colab": {}
      },
      "source": [
        "# Values are missing\n",
        "# Zeros replace missing values\n",
        "# Spelling is inconsistent\n",
        "# Units are not specified\n",
        "# Categories are badly chosen\n",
        "# Field names are ambiguous\n",
        "# Spreadsheet has 65536 rows, 255 columns being trunkated excel data\n",
        "# Spreadsheet has dates in 1900, 1904, 1969, or 1970"
      ],
      "execution_count": 0,
      "outputs": []
    },
    {
      "cell_type": "code",
      "metadata": {
        "id": "rvnC0NwKALFl",
        "colab_type": "code",
        "outputId": "f565153b-57b6-4b47-dee0-f047c8e89590",
        "colab": {
          "base_uri": "https://localhost:8080/",
          "height": 601
        }
      },
      "source": [
        "bank.head().T"
      ],
      "execution_count": 0,
      "outputs": [
        {
          "output_type": "execute_result",
          "data": {
            "text/html": [
              "<div>\n",
              "<style scoped>\n",
              "    .dataframe tbody tr th:only-of-type {\n",
              "        vertical-align: middle;\n",
              "    }\n",
              "\n",
              "    .dataframe tbody tr th {\n",
              "        vertical-align: top;\n",
              "    }\n",
              "\n",
              "    .dataframe thead th {\n",
              "        text-align: right;\n",
              "    }\n",
              "</style>\n",
              "<table border=\"1\" class=\"dataframe\">\n",
              "  <thead>\n",
              "    <tr style=\"text-align: right;\">\n",
              "      <th></th>\n",
              "      <th>0</th>\n",
              "      <th>1</th>\n",
              "      <th>2</th>\n",
              "      <th>3</th>\n",
              "      <th>4</th>\n",
              "    </tr>\n",
              "  </thead>\n",
              "  <tbody>\n",
              "    <tr>\n",
              "      <th>age</th>\n",
              "      <td>56</td>\n",
              "      <td>57</td>\n",
              "      <td>37</td>\n",
              "      <td>40</td>\n",
              "      <td>56</td>\n",
              "    </tr>\n",
              "    <tr>\n",
              "      <th>job</th>\n",
              "      <td>housemaid</td>\n",
              "      <td>services</td>\n",
              "      <td>services</td>\n",
              "      <td>admin.</td>\n",
              "      <td>services</td>\n",
              "    </tr>\n",
              "    <tr>\n",
              "      <th>marital</th>\n",
              "      <td>married</td>\n",
              "      <td>married</td>\n",
              "      <td>married</td>\n",
              "      <td>married</td>\n",
              "      <td>married</td>\n",
              "    </tr>\n",
              "    <tr>\n",
              "      <th>education</th>\n",
              "      <td>basic.4y</td>\n",
              "      <td>high.school</td>\n",
              "      <td>high.school</td>\n",
              "      <td>basic.6y</td>\n",
              "      <td>high.school</td>\n",
              "    </tr>\n",
              "    <tr>\n",
              "      <th>default</th>\n",
              "      <td>no</td>\n",
              "      <td>unknown</td>\n",
              "      <td>no</td>\n",
              "      <td>no</td>\n",
              "      <td>no</td>\n",
              "    </tr>\n",
              "    <tr>\n",
              "      <th>housing</th>\n",
              "      <td>no</td>\n",
              "      <td>no</td>\n",
              "      <td>yes</td>\n",
              "      <td>no</td>\n",
              "      <td>no</td>\n",
              "    </tr>\n",
              "    <tr>\n",
              "      <th>loan</th>\n",
              "      <td>no</td>\n",
              "      <td>no</td>\n",
              "      <td>no</td>\n",
              "      <td>no</td>\n",
              "      <td>yes</td>\n",
              "    </tr>\n",
              "    <tr>\n",
              "      <th>contact</th>\n",
              "      <td>telephone</td>\n",
              "      <td>telephone</td>\n",
              "      <td>telephone</td>\n",
              "      <td>telephone</td>\n",
              "      <td>telephone</td>\n",
              "    </tr>\n",
              "    <tr>\n",
              "      <th>duration</th>\n",
              "      <td>261</td>\n",
              "      <td>149</td>\n",
              "      <td>226</td>\n",
              "      <td>151</td>\n",
              "      <td>307</td>\n",
              "    </tr>\n",
              "    <tr>\n",
              "      <th>campaign</th>\n",
              "      <td>1</td>\n",
              "      <td>1</td>\n",
              "      <td>1</td>\n",
              "      <td>1</td>\n",
              "      <td>1</td>\n",
              "    </tr>\n",
              "    <tr>\n",
              "      <th>previous</th>\n",
              "      <td>0</td>\n",
              "      <td>0</td>\n",
              "      <td>0</td>\n",
              "      <td>0</td>\n",
              "      <td>0</td>\n",
              "    </tr>\n",
              "    <tr>\n",
              "      <th>poutcome</th>\n",
              "      <td>nonexistent</td>\n",
              "      <td>nonexistent</td>\n",
              "      <td>nonexistent</td>\n",
              "      <td>nonexistent</td>\n",
              "      <td>nonexistent</td>\n",
              "    </tr>\n",
              "    <tr>\n",
              "      <th>emp.var.rate</th>\n",
              "      <td>1.1</td>\n",
              "      <td>1.1</td>\n",
              "      <td>1.1</td>\n",
              "      <td>1.1</td>\n",
              "      <td>1.1</td>\n",
              "    </tr>\n",
              "    <tr>\n",
              "      <th>cons.price.idx</th>\n",
              "      <td>93.994</td>\n",
              "      <td>93.994</td>\n",
              "      <td>93.994</td>\n",
              "      <td>93.994</td>\n",
              "      <td>93.994</td>\n",
              "    </tr>\n",
              "    <tr>\n",
              "      <th>cons.conf.idx</th>\n",
              "      <td>-36.4</td>\n",
              "      <td>-36.4</td>\n",
              "      <td>-36.4</td>\n",
              "      <td>-36.4</td>\n",
              "      <td>-36.4</td>\n",
              "    </tr>\n",
              "    <tr>\n",
              "      <th>euribor3m</th>\n",
              "      <td>4.857</td>\n",
              "      <td>4.857</td>\n",
              "      <td>4.857</td>\n",
              "      <td>4.857</td>\n",
              "      <td>4.857</td>\n",
              "    </tr>\n",
              "    <tr>\n",
              "      <th>nr.employed</th>\n",
              "      <td>5191</td>\n",
              "      <td>5191</td>\n",
              "      <td>5191</td>\n",
              "      <td>5191</td>\n",
              "      <td>5191</td>\n",
              "    </tr>\n",
              "    <tr>\n",
              "      <th>y</th>\n",
              "      <td>no</td>\n",
              "      <td>no</td>\n",
              "      <td>no</td>\n",
              "      <td>no</td>\n",
              "      <td>no</td>\n",
              "    </tr>\n",
              "  </tbody>\n",
              "</table>\n",
              "</div>"
            ],
            "text/plain": [
              "                          0            1            2            3  \\\n",
              "age                      56           57           37           40   \n",
              "job               housemaid     services     services       admin.   \n",
              "marital             married      married      married      married   \n",
              "education          basic.4y  high.school  high.school     basic.6y   \n",
              "default                  no      unknown           no           no   \n",
              "housing                  no           no          yes           no   \n",
              "loan                     no           no           no           no   \n",
              "contact           telephone    telephone    telephone    telephone   \n",
              "duration                261          149          226          151   \n",
              "campaign                  1            1            1            1   \n",
              "previous                  0            0            0            0   \n",
              "poutcome        nonexistent  nonexistent  nonexistent  nonexistent   \n",
              "emp.var.rate            1.1          1.1          1.1          1.1   \n",
              "cons.price.idx       93.994       93.994       93.994       93.994   \n",
              "cons.conf.idx         -36.4        -36.4        -36.4        -36.4   \n",
              "euribor3m             4.857        4.857        4.857        4.857   \n",
              "nr.employed            5191         5191         5191         5191   \n",
              "y                        no           no           no           no   \n",
              "\n",
              "                          4  \n",
              "age                      56  \n",
              "job                services  \n",
              "marital             married  \n",
              "education       high.school  \n",
              "default                  no  \n",
              "housing                  no  \n",
              "loan                    yes  \n",
              "contact           telephone  \n",
              "duration                307  \n",
              "campaign                  1  \n",
              "previous                  0  \n",
              "poutcome        nonexistent  \n",
              "emp.var.rate            1.1  \n",
              "cons.price.idx       93.994  \n",
              "cons.conf.idx         -36.4  \n",
              "euribor3m             4.857  \n",
              "nr.employed            5191  \n",
              "y                        no  "
            ]
          },
          "metadata": {
            "tags": []
          },
          "execution_count": 348
        }
      ]
    },
    {
      "cell_type": "code",
      "metadata": {
        "id": "J-SzOlQnA56T",
        "colab_type": "code",
        "outputId": "5c988e58-395d-4891-fd4d-287bcf1fe35e",
        "colab": {
          "base_uri": "https://localhost:8080/",
          "height": 186
        }
      },
      "source": [
        "bank.select_dtypes(exclude='number').nunique()"
      ],
      "execution_count": 0,
      "outputs": [
        {
          "output_type": "execute_result",
          "data": {
            "text/plain": [
              "job          12\n",
              "marital       4\n",
              "education     8\n",
              "default       3\n",
              "housing       3\n",
              "loan          3\n",
              "contact       2\n",
              "poutcome      3\n",
              "y             2\n",
              "dtype: int64"
            ]
          },
          "metadata": {
            "tags": []
          },
          "execution_count": 349
        }
      ]
    },
    {
      "cell_type": "code",
      "metadata": {
        "id": "Q3elS4URAMKZ",
        "colab_type": "code",
        "outputId": "d9907c40-f03e-462c-906b-75787847f4d3",
        "colab": {
          "base_uri": "https://localhost:8080/",
          "height": 84
        }
      },
      "source": [
        "bank['poutcome'].value_counts()"
      ],
      "execution_count": 0,
      "outputs": [
        {
          "output_type": "execute_result",
          "data": {
            "text/plain": [
              "nonexistent    35563\n",
              "failure         4252\n",
              "success         1373\n",
              "Name: poutcome, dtype: int64"
            ]
          },
          "metadata": {
            "tags": []
          },
          "execution_count": 350
        }
      ]
    },
    {
      "cell_type": "code",
      "metadata": {
        "id": "gFilBxddAQ1h",
        "colab_type": "code",
        "outputId": "d960d0c2-e57b-4a59-ecc4-db4f0f92d750",
        "colab": {
          "base_uri": "https://localhost:8080/",
          "height": 236
        }
      },
      "source": [
        "bank['job'].value_counts()"
      ],
      "execution_count": 0,
      "outputs": [
        {
          "output_type": "execute_result",
          "data": {
            "text/plain": [
              "admin.           10422\n",
              "blue-collar       9254\n",
              "technician        6743\n",
              "services          3969\n",
              "management        2924\n",
              "retired           1720\n",
              "entrepreneur      1456\n",
              "self-employed     1421\n",
              "housemaid         1060\n",
              "unemployed        1014\n",
              "student            875\n",
              "unknown            330\n",
              "Name: job, dtype: int64"
            ]
          },
          "metadata": {
            "tags": []
          },
          "execution_count": 351
        }
      ]
    },
    {
      "cell_type": "code",
      "metadata": {
        "id": "dFks-eqdBFG4",
        "colab_type": "code",
        "colab": {}
      },
      "source": [
        "import category_encoders as ce\n",
        "\n",
        "pipeline = make_pipeline(\n",
        "    ce.OneHotEncoder(use_cat_names=True))"
      ],
      "execution_count": 0,
      "outputs": []
    },
    {
      "cell_type": "code",
      "metadata": {
        "id": "x-GMPcPBBRaQ",
        "colab_type": "code",
        "outputId": "6d8e219f-aa9c-44af-f061-1824df23a599",
        "colab": {
          "base_uri": "https://localhost:8080/",
          "height": 84
        }
      },
      "source": [
        "pipeline"
      ],
      "execution_count": 0,
      "outputs": [
        {
          "output_type": "execute_result",
          "data": {
            "text/plain": [
              "Pipeline(memory=None,\n",
              "     steps=[('onehotencoder', OneHotEncoder(cols=None, drop_invariant=False, handle_missing='value',\n",
              "       handle_unknown='value', return_df=True, use_cat_names=True,\n",
              "       verbose=0))])"
            ]
          },
          "metadata": {
            "tags": []
          },
          "execution_count": 353
        }
      ]
    },
    {
      "cell_type": "code",
      "metadata": {
        "id": "HcQJ8fzZBTDB",
        "colab_type": "code",
        "outputId": "9e7cbd77-dab2-485d-816e-02d3ecc02e91",
        "colab": {
          "base_uri": "https://localhost:8080/",
          "height": 601
        }
      },
      "source": [
        "bank.head().T"
      ],
      "execution_count": 0,
      "outputs": [
        {
          "output_type": "execute_result",
          "data": {
            "text/html": [
              "<div>\n",
              "<style scoped>\n",
              "    .dataframe tbody tr th:only-of-type {\n",
              "        vertical-align: middle;\n",
              "    }\n",
              "\n",
              "    .dataframe tbody tr th {\n",
              "        vertical-align: top;\n",
              "    }\n",
              "\n",
              "    .dataframe thead th {\n",
              "        text-align: right;\n",
              "    }\n",
              "</style>\n",
              "<table border=\"1\" class=\"dataframe\">\n",
              "  <thead>\n",
              "    <tr style=\"text-align: right;\">\n",
              "      <th></th>\n",
              "      <th>0</th>\n",
              "      <th>1</th>\n",
              "      <th>2</th>\n",
              "      <th>3</th>\n",
              "      <th>4</th>\n",
              "    </tr>\n",
              "  </thead>\n",
              "  <tbody>\n",
              "    <tr>\n",
              "      <th>age</th>\n",
              "      <td>56</td>\n",
              "      <td>57</td>\n",
              "      <td>37</td>\n",
              "      <td>40</td>\n",
              "      <td>56</td>\n",
              "    </tr>\n",
              "    <tr>\n",
              "      <th>job</th>\n",
              "      <td>housemaid</td>\n",
              "      <td>services</td>\n",
              "      <td>services</td>\n",
              "      <td>admin.</td>\n",
              "      <td>services</td>\n",
              "    </tr>\n",
              "    <tr>\n",
              "      <th>marital</th>\n",
              "      <td>married</td>\n",
              "      <td>married</td>\n",
              "      <td>married</td>\n",
              "      <td>married</td>\n",
              "      <td>married</td>\n",
              "    </tr>\n",
              "    <tr>\n",
              "      <th>education</th>\n",
              "      <td>basic.4y</td>\n",
              "      <td>high.school</td>\n",
              "      <td>high.school</td>\n",
              "      <td>basic.6y</td>\n",
              "      <td>high.school</td>\n",
              "    </tr>\n",
              "    <tr>\n",
              "      <th>default</th>\n",
              "      <td>no</td>\n",
              "      <td>unknown</td>\n",
              "      <td>no</td>\n",
              "      <td>no</td>\n",
              "      <td>no</td>\n",
              "    </tr>\n",
              "    <tr>\n",
              "      <th>housing</th>\n",
              "      <td>no</td>\n",
              "      <td>no</td>\n",
              "      <td>yes</td>\n",
              "      <td>no</td>\n",
              "      <td>no</td>\n",
              "    </tr>\n",
              "    <tr>\n",
              "      <th>loan</th>\n",
              "      <td>no</td>\n",
              "      <td>no</td>\n",
              "      <td>no</td>\n",
              "      <td>no</td>\n",
              "      <td>yes</td>\n",
              "    </tr>\n",
              "    <tr>\n",
              "      <th>contact</th>\n",
              "      <td>telephone</td>\n",
              "      <td>telephone</td>\n",
              "      <td>telephone</td>\n",
              "      <td>telephone</td>\n",
              "      <td>telephone</td>\n",
              "    </tr>\n",
              "    <tr>\n",
              "      <th>duration</th>\n",
              "      <td>261</td>\n",
              "      <td>149</td>\n",
              "      <td>226</td>\n",
              "      <td>151</td>\n",
              "      <td>307</td>\n",
              "    </tr>\n",
              "    <tr>\n",
              "      <th>campaign</th>\n",
              "      <td>1</td>\n",
              "      <td>1</td>\n",
              "      <td>1</td>\n",
              "      <td>1</td>\n",
              "      <td>1</td>\n",
              "    </tr>\n",
              "    <tr>\n",
              "      <th>previous</th>\n",
              "      <td>0</td>\n",
              "      <td>0</td>\n",
              "      <td>0</td>\n",
              "      <td>0</td>\n",
              "      <td>0</td>\n",
              "    </tr>\n",
              "    <tr>\n",
              "      <th>poutcome</th>\n",
              "      <td>nonexistent</td>\n",
              "      <td>nonexistent</td>\n",
              "      <td>nonexistent</td>\n",
              "      <td>nonexistent</td>\n",
              "      <td>nonexistent</td>\n",
              "    </tr>\n",
              "    <tr>\n",
              "      <th>emp.var.rate</th>\n",
              "      <td>1.1</td>\n",
              "      <td>1.1</td>\n",
              "      <td>1.1</td>\n",
              "      <td>1.1</td>\n",
              "      <td>1.1</td>\n",
              "    </tr>\n",
              "    <tr>\n",
              "      <th>cons.price.idx</th>\n",
              "      <td>93.994</td>\n",
              "      <td>93.994</td>\n",
              "      <td>93.994</td>\n",
              "      <td>93.994</td>\n",
              "      <td>93.994</td>\n",
              "    </tr>\n",
              "    <tr>\n",
              "      <th>cons.conf.idx</th>\n",
              "      <td>-36.4</td>\n",
              "      <td>-36.4</td>\n",
              "      <td>-36.4</td>\n",
              "      <td>-36.4</td>\n",
              "      <td>-36.4</td>\n",
              "    </tr>\n",
              "    <tr>\n",
              "      <th>euribor3m</th>\n",
              "      <td>4.857</td>\n",
              "      <td>4.857</td>\n",
              "      <td>4.857</td>\n",
              "      <td>4.857</td>\n",
              "      <td>4.857</td>\n",
              "    </tr>\n",
              "    <tr>\n",
              "      <th>nr.employed</th>\n",
              "      <td>5191</td>\n",
              "      <td>5191</td>\n",
              "      <td>5191</td>\n",
              "      <td>5191</td>\n",
              "      <td>5191</td>\n",
              "    </tr>\n",
              "    <tr>\n",
              "      <th>y</th>\n",
              "      <td>no</td>\n",
              "      <td>no</td>\n",
              "      <td>no</td>\n",
              "      <td>no</td>\n",
              "      <td>no</td>\n",
              "    </tr>\n",
              "  </tbody>\n",
              "</table>\n",
              "</div>"
            ],
            "text/plain": [
              "                          0            1            2            3  \\\n",
              "age                      56           57           37           40   \n",
              "job               housemaid     services     services       admin.   \n",
              "marital             married      married      married      married   \n",
              "education          basic.4y  high.school  high.school     basic.6y   \n",
              "default                  no      unknown           no           no   \n",
              "housing                  no           no          yes           no   \n",
              "loan                     no           no           no           no   \n",
              "contact           telephone    telephone    telephone    telephone   \n",
              "duration                261          149          226          151   \n",
              "campaign                  1            1            1            1   \n",
              "previous                  0            0            0            0   \n",
              "poutcome        nonexistent  nonexistent  nonexistent  nonexistent   \n",
              "emp.var.rate            1.1          1.1          1.1          1.1   \n",
              "cons.price.idx       93.994       93.994       93.994       93.994   \n",
              "cons.conf.idx         -36.4        -36.4        -36.4        -36.4   \n",
              "euribor3m             4.857        4.857        4.857        4.857   \n",
              "nr.employed            5191         5191         5191         5191   \n",
              "y                        no           no           no           no   \n",
              "\n",
              "                          4  \n",
              "age                      56  \n",
              "job                services  \n",
              "marital             married  \n",
              "education       high.school  \n",
              "default                  no  \n",
              "housing                  no  \n",
              "loan                    yes  \n",
              "contact           telephone  \n",
              "duration                307  \n",
              "campaign                  1  \n",
              "previous                  0  \n",
              "poutcome        nonexistent  \n",
              "emp.var.rate            1.1  \n",
              "cons.price.idx       93.994  \n",
              "cons.conf.idx         -36.4  \n",
              "euribor3m             4.857  \n",
              "nr.employed            5191  \n",
              "y                        no  "
            ]
          },
          "metadata": {
            "tags": []
          },
          "execution_count": 354
        }
      ]
    },
    {
      "cell_type": "code",
      "metadata": {
        "id": "GTIjNWTrKK59",
        "colab_type": "code",
        "outputId": "56908080-3d3e-46bc-b34c-32fdb119169e",
        "colab": {
          "base_uri": "https://localhost:8080/",
          "height": 34
        }
      },
      "source": [
        "from numpy import array\n",
        "data = ['cold', 'cold', 'warm', 'cold', 'hot', 'hot', 'warm', 'cold', 'warm', 'hot']\n",
        "values = array(data)\n",
        "print(values)"
      ],
      "execution_count": 0,
      "outputs": [
        {
          "output_type": "stream",
          "text": [
            "['cold' 'cold' 'warm' 'cold' 'hot' 'hot' 'warm' 'cold' 'warm' 'hot']\n"
          ],
          "name": "stdout"
        }
      ]
    },
    {
      "cell_type": "code",
      "metadata": {
        "id": "6crvBBoTBZII",
        "colab_type": "code",
        "outputId": "fbb94648-6795-461e-970a-5ddfec26eee4",
        "colab": {
          "base_uri": "https://localhost:8080/",
          "height": 29027
        }
      },
      "source": [
        "from sklearn.metrics import accuracy_score, confusion_matrix\n",
        "from sklearn.preprocessing import LabelEncoder\n",
        "from sklearn.preprocessing import OneHotEncoder\n",
        "\n",
        "values = bank['job']\n",
        "\n",
        "label_encoder = LabelEncoder()\n",
        "integer_encoded = label_encoder.fit_transform(values)\n",
        "print(integer_encoded)\n",
        "\n",
        "\n",
        "# onehot_encoder = OneHotEncoder(sparse=False)\n",
        "# onehot_encoded = onehot_encoder.fit_transform(integer_encoded)\n",
        "# print(onehot_encoded)\n",
        "\n",
        "# X_enc = pd.get_dummies(X_enc, columns=['sex','region','smoker'])\n",
        "# mergedata = mergedata.drop(['job', 'marital','education', 'default', 'housing', 'loan', 'contact', 'month', 'day_of_week', 'poutcome'],axis=1)\n",
        "\n",
        "# X_enc = pd.get_dummies(X_enc, columns=['sex','region','smoker'])\n",
        "\n",
        "# inverted = label_encoder.inverse_transform([argmax(onehot_encoded[0, :])])\n",
        "# print(inverted)"
      ],
      "execution_count": 0,
      "outputs": [
        {
          "output_type": "stream",
          "text": [
            "[ 3  7  7  0  7  7  0  1  9  7  1  7  1  3  1  5  1  1  1  4 10  1  5  9\n",
            "  0  9  9  6  9 11  0  9  1  4  1 11  7  9  0  9  4  2  0  0  0  9  0  1\n",
            "  0  1  0  3  0  0  1  9  4  7 10  9  2  1  1  1  0  0  1  0  0  1  4  4\n",
            "  0 11  0  1  9  7  4  1  1  1  0  2  9  0  4  0  9  0  0 11  0 10  1  7\n",
            "  4  0  9  1  7  1  7  0  0  7  3  0  2  9  5 10  7  1  4  1  0  1  0  1\n",
            "  1  1  7  9  0  0  0  9  5  9  1  9  1  1  4  4  3  1  7  1 10  4  4  1\n",
            " 11  1  1  0  0  1  1  2  7  2  1  1  1  1  9  7  4  1  1  1  7  2  7  0\n",
            "  1  4  1  7  9  0  7  4  7  0  7  1  9  1  1  0  1  4  9  5  1  0  9  1\n",
            "  4  9  1  1  0  1  0  1  7  7  1  0  1  8  8 10  7  8  8  3  0  5  1  3\n",
            "  1  1  3  7  0  9  7  9  9  5  9  0  5  1  0  7  4  0  6  0  1  0  7  4\n",
            "  5  9  4  7  9  7  9  9  1  7  9  1  7  9  7  7  1  4  9  0  0  1  9  0\n",
            "  0  1  6  8  4  6 10  4  3  0  3  1  7  1  9  5  1  9  0  1  1  1  3  0\n",
            "  1  7  4  0  9  1  9  6  1  0  7 11  7  1  5 11  0  0  1  3  0  1  4  0\n",
            "  0  1  4  0  0  5  1  7  4  0  9  7  9  3  0  0  1  0  7  1  4  6  7  2\n",
            "  9  1  1  4  4  7  0 11  1  9  7  1  2  1  1  9  4  7  0 10  1  1  7  2\n",
            " 10  4  9  1  0  9  6  0  1  4  1  1  0  1  7  1  9  0  0  0  1  0  4  8\n",
            "  4  4  6  3 11  7  5  4  0  0  0  9  7  1  6  1  7  7  1 10  1  2  7  0\n",
            "  7  1  0  9  1  5  2  1  6  0  7  9  1  2  1  4  1  1  4  9 11  7  6  6\n",
            "  6  7  7  9  3  1  0  4  9  3  1  4  0  1  9  9  9  1  9  8  4  0  9  0\n",
            "  4 10  3  1  0  9  6  1  7  0  4  4  0  4  9  4  0  0  1  1 11  1  5  4\n",
            "  9  7  5 11  4  0  0  9  3  9  9 10  7  1  0  7  9  0  0  0  2  0  0  7\n",
            "  7  2  9 11  9  1  1  2  4  7  2  9  3  1  1  0  4  1  1  1  0  0  7  0\n",
            "  9  0  0  7  1  1  9  7  0  1  0  6  6  1  9  2  6  0  0  0  0  1  0  1\n",
            "  2  5  1  9  1  9  1  1  1  1  1  0  0  0  1  9  0 10  2  9  1  5  3  0\n",
            "  0  7  4  1  4  1 11  9 11  0  4  1  1  1  9  9  0  7  4  9  9  0  0  7\n",
            "  0  1  1  7  0  0  7  1  1  7  1  0  1  4  0  9  7  1  9  0  0  9  9  7\n",
            "  1  1  9  7  0  9  9  0  7  4  4  9  0  0  9  4  3  0  1  5  9  4  3  1\n",
            "  9  1  3  3  1  1  1  7  7  4  4  6  5  0  7  0  1  9  0  0  1  0  4  7\n",
            "  0  0  7  0  0  4  2  4  9  3  6  4  7  1  3  0  9  4  0  4  5  1  0  7\n",
            "  1  3  2  0  6  3  6  6 10  0  0  1  0  5  1  4  8  0  7  9  9  5  7  1\n",
            "  0  1  2  1  7  9  0  2  1  9  0  1  0  6  9  1  5  0 10  1  0  3  4  9\n",
            "  1  1 10  7  0  9  7  1  1  0  7  1  7  1  1  1  1 10  7  9  9  9  0  6\n",
            "  9  8  1  3  4  9  3  1  1  1  0  7  9  7  9  1  1  6  1  0  9  1  1  4\n",
            "  4  2 11  7  1  1  1  1  1  7  2  0  0  9  7  2  0  0  6  7  1  0  1  1\n",
            "  9  3  4  0  0  0  1  4  4  9  9  7  1  9  2  0  8  9  1  1  0  1  9  0\n",
            "  0  9  2  0  0  1  7  0  9  4  1  1  7  1  3  0  2  1  1  1  4  1  9  0\n",
            "  1  1  9  9  0  0  1  1  1  2  9  1  1  0 11  7  0  1  9  5  1 11  9  0\n",
            "  9  0  7  1  1  5  9  0  1  1  4  9  9  9  1  4  9  9  1  0  7  1  1  1\n",
            "  0  0  1  7  1  5  1  7  5  2  1  1  0  9  9  1  1  7  5  0  1  0  1  4\n",
            "  0  4  0  9  9  1  7  1  7  0  1  1  9  1  7  9  7  4  3  9  7  1  1  1\n",
            "  7 11  1  1  1  7  0  1 10  0  1  4  6  0  1  0  1  2  1  2  0  1  2  4\n",
            "  1  0  1 10  0  3  7  7  1  9  7  2  7  3  9  7  2  9  1  1  0  6  1  7\n",
            " 10  7  4  0  9  2  1  1  0  0  0  1  0  9  9  4  6  9  1  7  0  9  1  7\n",
            "  0  1  4  7  7  9  3  1  1  5  0  9  7  1  1  4  1  5  9  7  3  1  7  0\n",
            "  0  0  4  4  1  4  1  6  9  3  7  1  1  5  1  0  4  1  9  0  7  0  2  9\n",
            "  1  1  0  0  1  4  5  9  5  0  1  9  0  0  9  1  9  1  7  9  1  7  2  1\n",
            "  7  4  1  4  1  9  0  1  1  4  0  6  7  2  1  0  1  1  1  5  9  4  4  7\n",
            "  0  1  4 11  1  1  1  1  7  1  0  5  0  1  2  9  1  0  0  9  1  5  1  0\n",
            "  0  1  0  7  0  1  6  7  0  5  0  0  0 11  7  1  3  1  0  0  1  0  9  1\n",
            "  3  7 10  9  0 11  9  9  9  1  6  1  0  1  3  1  1  0  1  7  1  0  1  9\n",
            "  9  1  1  4  1 11  1 11  4  0  1  0  7 10  1  4  5 10  7  9  2  3  1  3\n",
            "  2  1 10  1  7 11  1  9  1  1  0  0  8  1  1  7  1  9  0  1  4  1  9  9\n",
            "  8  1  8  1  0  7  9  1  9  0  0  1  9  3  1  0  7  1  1  0  1  0  9 11\n",
            "  5  5  2  1  7  8  2  9  1  7  0  1  0  3  1  7  7  2  7  1 10 10  7  1\n",
            "  7  0  1  0  1  7 10  0  1  4  1  1  7  1  9  9  7  4  0  1  2  0  7  0\n",
            "  1  1  1  9  9  2  1  1  7  0  1  1 10  1  1  1  1  1  0  1  4  1  7  1\n",
            "  0  2  1  2  9  1 10  2  4  2  1  4  3  1  0  1  1  1  1  9  4  1  1  1\n",
            "  4  1  9  1  0  7  1  0 11  0  0  0  1  1  0  9  7  1  9  1  7  1  0  0\n",
            "  1  6  4 10  7  1  0  1  1  9  0  9  1  7  1  4  6  1  2  0  9  1  3  3\n",
            "  5 10  0  6  7  1  1  1  6  1  1 10  1  0  1  7  0  1  7  7  1  1  9  9\n",
            "  5  4  1  7  2  2  1  0  6  9  4  1  1  1  0  1  1  7  1  0  8  4  0  6\n",
            "  7  2  1  0  1  9  7  1  7  2  1  6  1  9  2  9  9  4  7  0  1  7  7  6\n",
            "  9  5  1  1  7  7  9  9  1  1  7  1  0  7  7  1  1  0  9  1  0  0  1  7\n",
            "  1  0  1  9  0  7  4  7  0  7  9  9  0  1  6  7  4  0  0  9  0  7 10  7\n",
            "  1  7  7  1  0  1  4  0  7  2  4  1  0  2  2  6  2  1  1  9  2  9  1  1\n",
            "  1  1  4  7  4  0  0  9  1  1  0  9  5  0  4  3  0  9  0  1  0  0  9  1\n",
            "  0  1  1  9  0  9  1  7  4  0  7  9  3  0  6  0 10 10 10  0  1  1  9  1\n",
            " 11  1  1  1  1  7  0  7  1  1  7  0  6  1  4  4  4  9  1  7  7  9  3  0\n",
            "  4  7  1  4  3  8 10  7  1  2  1  0  9  0  0  0  0 10  9  1  7  1  1  1\n",
            "  1  0  1  0  1  1 10 10  1  5  0  7  0  2 10 11  7  9  7  5  5  7  1  7\n",
            " 11  0  0  2  9  4  4  1  4  0  9  1  1  1  0  0  1  1  2  4  4  1  1  1\n",
            "  9  4  4  5  7  1  0  9  4  1  0 10  1  9  7  7  7  1  7  0  7  1  0  9\n",
            " 10  7  1  0  9  0  9 10  2 10 10  9  6  0  1  7  0  0  0  0  4  9  4  0\n",
            "  0  0  1  7  0  0  3  7  1  4  2  7  2  1  0  3  2  0  4  9  1  0  9  9\n",
            "  9  5  3  1  9  2  1  9  1  1 10  1  3  9  1  0  1  1  9  0  1  0  6  1\n",
            "  1  9  0  0  0  0  1  4  1  0  1  0  0  9  4  1  0  9  7  1  9  7  0  0\n",
            "  4  0  1  4  9  0  0  1  0  6  0  4  4  1  0 10  4  9  7  1  4  1  1  1\n",
            "  9  7  0  9  0  0  1  2  9  3 10  9 11  7  0  1  0  2  4  0  7  1  1  0\n",
            "  1  1  0  0  0  1  0  3  1  6  2  1  1  9  4  9  4  1  1  4  4  7  0  6\n",
            "  1  7  9  0  1  5  0  9  1  0  0  6  4  3  9  1  2  0  7 11  7  7  3  0\n",
            "  7  3  7  0  1  1  7  9  0  1  1  5  9  1  7  0  0  7  1  6  2  1  4  7\n",
            "  9  1  6  7  1  1  7  0  3  2  1  8  7  1  2  3  0 10  7  9  9  1  0  7\n",
            "  0  4  7  3  9  1  1  4  9  9  0  0  9  9  0  1  1  1  1  1  1  1  5  1\n",
            "  1  0  0  1  9  9  7  1  6  4  4 10  2  9  1  7  7  1 11  0  1  0  5  0\n",
            "  1  7  6  9  0  1  1  4  4  0  0  1  2  0  9  7  3  9  7 10  0  4  0  7\n",
            "  4  4  5  1  4  1 10  9  2  2  1  1  4  1  4  0  8  4  7  4  7  1  1  1\n",
            "  0  1  0  9  9  6  1  2  1  1  1  3  9  9  1  0  3  9  2  1  7  4  4  7\n",
            "  1  1  7  1  1  9  0  6 10  9  2 10  9  0  4  3  0  0  1  9  7  1  2  0\n",
            "  9  1  9  9  9  8  8  9  4  4  1  0  1  1  1  5  1  5  1  1  5  9  7  1\n",
            "  2 10  9  1  1  1  4  1  4  5  9  0  1 10  0  1  6  6  1  0  0  1  7  1\n",
            "  0  1  1  1  1  7  0  9  9  0  5  7  1  4  1  0  0  6  5  0  9  7  1  4\n",
            "  1  4  0  1  1  0  7  1  4  9  4  7  1  0  1  7  1  1  4  0  7  1  1  1\n",
            "  1  1  0  0 10  0  7  9  1  9  1  1  0  7  1  0  0  7 11  0  9  3  0  9\n",
            "  1  2  4  0  0  0  1  1  4  1  1  1  0  0  1 10  1  2  1  7  3  7  4  1\n",
            "  1  1  9  1  0  9  9  1  0  0  1 10  3  1  1  7  1  0  0  0  0  1 10  0\n",
            "  5  7  4  0  0  3  0 11  6  0 11  1  0  4 10  0  1  1  1  1  2  1  0  1\n",
            "  9  4  1  0  9  7  9  0  9  6  9  4  0  1  9  0  3  7  0  9  1  1  1  5\n",
            "  5  4  1  9  0  1  0  9  7  0  9  7  6  9  9  9  9  1 11  0  9  0  7  9\n",
            "  1  9  1  1  6  1  9  1  0  2  7  7  1  9  0  0 11  0  6  0  2  2  9  9\n",
            "  1  7  7  7  9  9  9  1  6  9  9  1  0  0  1  7  9  7  0  0  1  9  9  1\n",
            "  0  7  0  9  7  1  1  1  1  0  7  5  0  1  0  1  7  9  9  1  1  9  1  0\n",
            "  0  3  1  7  1  5  5  4  1  7  1  2 10  5  1  4  0  0  5  1  7  9  6  6\n",
            "  0  9  4  1  9  0  1  5  1  0  0  1  5  7  6 11  1  5  0  8  1  1  1  1\n",
            "  1  0  9  1  1  1  0  0  1  0  4  0  1  3  4  0  4  5  1  0  4  5  0  6\n",
            "  1  3  7  3  1  7  9  0  5  9  0  6 11  1  0  7  9  0  0  9  9  9  4  1\n",
            "  9  7  9  0  1  1  9  1  1  5  7  9  7  1  0  1  7  1  5  0  0  1  1 10\n",
            "  7  0  0  9  7 11  3  7  1  5  0  1  4  1  0  2  9  4  7  1  9  3  1  4\n",
            "  0  9  4  1  1  7  9  0  7  9  1  0  0  1  4  5  4  2  1  3  9  7  1  2\n",
            "  6  1  0  1  1  7  4  5  7  6  2  9  7  1  7  9  1  9  1  7  0  1  1  2\n",
            "  1  7  0  1  9  1  7  7  1  7  1  9  9  0  1  9  0  5  1  7  4  1  1  2\n",
            "  1  0  0  7  0  2  9  0  9  1  9  1  0  1  2  1  9  1  9  0  1  1  4  4\n",
            "  9  1  9  4  1  4  4  8  0  6  4 11  0 10  1  4  7  4  0  0  0  0  0  7\n",
            "  1 10  0  0  4  3  0  1  1  1  1  1  0  7  2  9  9  1  1  1  1  1  4  9\n",
            "  9  9  1  0  9  1  1  1  1  1  1 11  4  1  1  1  4 10  1  4  0  1  0  1\n",
            "  6  9  7  1  7  7  3  1  0  0  7  4  0  5  1  3 10  7  7  1  0  1  9  1\n",
            "  4  3  4 10  1 11  7  0  1  7  0  1  1  7  1  1  1  1  2  8  1  9 10  5\n",
            "  0  0  7  4  7  4  2  0  7  1  0  1  1  9  7  0  9  7  7  1  3  1  1  3\n",
            "  9  0  1  1  1  2  7  3 10  0  0  1  4  9  0  7  4  0  1  1  1 10  1  9\n",
            "  1  1 11  0  1  1  1  0  1  1  0  1  9  0  0  0  0  1  1  2  4  1 11  7\n",
            "  7  7  8  1  4  0  7  1  9  1  1  0  9  9  0  0  1  9  2  7  2  9  4  1\n",
            "  1  2  7  0  0  9 11  7  6  9  9  1  1  4  0  7  9  1  1  0  1  7  1  7\n",
            "  0  1  1  4  4  7  4  4  1  8  3  9  1  1  0  2  3  1  7  0 10  0  8  7\n",
            "  7  0  7  1  0  1  3  2  1  0  7  1  0  2  6  0  2  9  1  1  1  1  9  1\n",
            "  9  9  9  1  1  0  1  6  6  0  9  1  0  9  1  0  9  1  1  1  7  0  7  7\n",
            "  1  1  1  5  9  7  9  1  1  2  1  7  7  0  7  9 10  0  9  6  9  1  9  1\n",
            "  9  6  1  8  1  1  7  5  1  1  0  8  0  6  0  0  1  4  1  0  7  1  1  1\n",
            "  7  1  1  9  7  1  8  1  3  1  1  1  6  4  7  0  9  1  0  1  5  4  9  9\n",
            "  1  7  5  2  1  1  0  0  0  5  9  7  0  0  6  0  7 10  0  9  1  6  5  9\n",
            "  7  1  1  4  1  0  7  0  7  1  0  0  1  1  1  0  0  0  3  1  0  4  0  1\n",
            "  1 11  7  9  0  9  0  2 10  1  6  0  1  9  2  9  4  7  9  7  1  7  0  1\n",
            "  0  0  9  3 11  3  2  1  9  0 10  3  1  7  1  0  1  1  1  9  7  9  0  7\n",
            "  1  1  1  9  0  1  2  1  1  3  1  9  9  7  1  1 11  7  9  0  0  1  1  5\n",
            "  4 11  0  1  9  5  7  9  4  1  0  6  1  1  6  0  9  1  1  9  5  0  0  7\n",
            "  1  1  9  2  0  1  1  2  7  1  0  7  0  0  1 11  3  0  7  1  6  7  1  1\n",
            "  1  1  1  1  0  9  1  6  7 10  1  9  0  1  4  0  1  0  9  0  1  7 10  0\n",
            "  1  4  2  0  4  7  7  1 11  7  5  1  1  9  4  9  7  1  1  1  6 11  0  0\n",
            "  1  5  1  9  0 11  1  9 10  0 11  1  4  3  0  3  1  7  7  1  1  1  6  0\n",
            " 11  1  1  1  7  2  1  6  7  3  9  0  1  0  1  0  0  9  1  0  1  0  3  0\n",
            " 10  3  4  0  0  8  2  2  1  1  4  0  9  5  1  7  7  0  0  1  0  1  1  0\n",
            "  2  4  0  9  0  4  0  1  9  7  1  1  5  0 10  1  7  0  1  4  1  1  6  1\n",
            " 10  1  1  1  1  1 11  1  1  1  0  1  0  0  4  8  1  1  5  7  7  9  9  9\n",
            "  9  7  1  1  9  1  3  0  1  4  7  4  2  1  0  1  1  1  1  0  9  2  0  1\n",
            "  8  4  9  4  0  0  0 10  0  4  1  1  0  9  1  9  0 10  0  1  9  9  0  9\n",
            "  1  1  0  9  7  4 10  1  0  6  8  1  9  1  7  0  0  0  9  9  6  1  4  6\n",
            "  9  1  2  2  0  5  1  0 10  0  7  4  0  0  1  9  9  0  1  1  1  1  4  1\n",
            "  5  0  1  9  9  1  0  4  5  7  1  9  7  0  9  1  1  0  1  2  8 10  1  5\n",
            "  9  0  0  1  9  1  1  4  7  1  7  1  0  1  7 10  6  1  1  6 10  7  2  2\n",
            "  0  1  9  2  1  1  0  1  0  9  7 10  7  2  6  4  7  0  9  7  9 10  0  7\n",
            "  4  1  0  9  1  0  4  4  7  0  9  4  1  0  4  0  5  0  1  0  1  0  1  1\n",
            "  9  0  5  6  9  1  3  0  3  4  7  0  0  0  0  1  1  8  0  0  1  0  9  1\n",
            "  1  0  4  9  1  1  2  9  1  1  3  9  3  1  1  1  7  1  1  5  8  9  0  4\n",
            "  1  9  9  1  2  1  1  4  7  0  4  9  9  1  9  1  0  7  1  0  2  9  1  7\n",
            "  1  1  0  7  6  2  0  1  4  7  1  1  4  0  4  7 10  0  1  1  0  7  4  2\n",
            "  1  0  7  0  3  0  1  5  0  0  0  1  5  1  1  7  1  9  1  7  6  0  1  1\n",
            "  3  1  0  1  9  0  9  0  6  9  7  1  1  1  1  1  4  5  4  0  1  7  8  1\n",
            "  7  0  1  9  1  0  7 11  1  0  9  0  9  7  7  9  7  0  7  1  0  0  1  0\n",
            "  4  0  3  3  6  3  7  4  1  4  7  9  1  0  4  0 10  7  3  1  9  1  9  0\n",
            "  0  1  9  1  4  0  8  4  9  1  5  9  7  7  3  1  0  0  0  0  4  0  1  1\n",
            "  1  0  9  5  9  0  7  7  1  1  1  2  1  7  9  0  1 11  4  1  0  1  2  7\n",
            "  6  0  5  1  9  1  9  9  9  6  0  1  7  1  1  7  1  7  1  1  9  9  4  0\n",
            "  1  6  2  6  0  1  4  4  0  2  5  0  2  6  7  7  0  1  9  1  4  1  4  0\n",
            "  7  0  9  0  1  0  1  1  5  8  1  0  0  0  7  1  1  6  7  0  6  8  0  1\n",
            "  1  9  1  9  1  4  9  9  1  7  6  1  0  6  9  1  0  9  6  7  4  3  0  1\n",
            "  2  4 11  5  1  1  6  9  1  1  7  0  7  0  0  8  6  9  1  0  4  1  4  0\n",
            "  9  9  2  4  1  1  0  7  5  7  9  0  1  1  9  4  7  1  0  9  0  1  5  7\n",
            "  1  0  1  7  7  4  7  9  1  6  4  9  1  9  7  4  1  4  8  9  0  3  0  4\n",
            "  1  8  1  9  1  1  1  1  1  7  7 11  1  1  4  3  1  0  6  3  1  6  1  4\n",
            "  1  0  7  0  1  9  9  5 10  1  7  4  1  0  6  1  9  1  0  0  1  1  0 10\n",
            "  7  0  1  9  1  1  0  1  0  6  1  0  7  5  0  0  6  3  7  0  6  0  1  9\n",
            "  0  4  5  1  1  9  6  0  3  2  1  3  1  1  7  7  9  1  7  1  0  0  0  0\n",
            "  0  0  7  1  0  1  1  7  1  0  8  7  1  3 10 10  1  1  1  2  1  1  1  1\n",
            "  9  1  1  0  1  9  7  7  1  1  2  7  7  0  0  0  2  1  9  9  9  9  9  9\n",
            "  9  9  1  1 10  1  4  0  1  1  4  4  0  1  1  7  7  0  1  1  0  9  0  0\n",
            "  1  0  1  1  0  2  0  1  7  9  9  1  7  7  1  7  9  7  1  0  7  4  9  1\n",
            "  4  1  3  7  1  9  9  6  9  1  9  4  1  1  3  0  1  1  2  1  0  1  1  0\n",
            "  7  0  7  1  1  1  7  7  6  9  1  0  7  4  0  9  9  7  0  3  4  0  9  1\n",
            "  9  3  1  9  0  9  7  0 10  9  1  0  0  2  0  8  0  1  0  1 10  9  5  9\n",
            "  1  9  9  7  7  1  1  1  0  0  4  1  1  4  1  0  1  4  7  6  1  9  0  0\n",
            "  7  9  0  1  1  7  1 10  9  9  7  1  1  1  3  9  0  6  9  0  7  7  1  1\n",
            "  7  1  0  9  9  1  1  1  9  7  9  9  7  4  1  0  7  0  0  0  0  4  1  1\n",
            "  0  0  2  1  1  1  1  1  1  0  0  1  0  1  0  0  0  9  1  9  0  0  1  1\n",
            " 11  9  7  0  1  0  7  7  4  7  0  7  1  9  0  0 10  9  0  5 11  6  0  4\n",
            "  7  1  1  1  0  9  4  5  1  1  1  0  9  1  2  1  1  7  1  2  1  4  5  4\n",
            "  1  0  7  2  0  7  0  1  1  2  3  1  1  2  7  1  7  4  1  1  9  9  1  1\n",
            "  1  7  7  3  0  1  7  0  3  1  9  0  2  4  9  2  7  0 10  0  2  6  1  5\n",
            "  0  6  5  7  7  1 10  9  0  6  0  7  9  0  1  9  8  7  4  8  1  1  9  4\n",
            "  7  7  1  5  1  0  5  9  0  4  0  5  1  4  0  5  1  1  3  6  4  1  9  1\n",
            "  1  0  4  1  4  1  5  1  1  6  1 10  0  1  1  5  1  1  9  7  0  4  7  3\n",
            "  1  3  0  7  9  0  9  7  9  0  1  2  3  9  1  1  0  1  1  0  1  9  0 10\n",
            "  9  1  0  0  9  6  8  7  0  1  9  6  0  9  0  1  5  0  0  0  2  1  0  9\n",
            "  2  1  4  1 10  7  9  9  7  0  9  9  1  7  1  0  9  1  0  1  1  0  9  7\n",
            "  1  0  7  0  1  3  0  9  3  3  7  0  7  1  9  1  1  4  0  1  0  9  0  3\n",
            "  7  0  7  9  0  9  7  5  7  1  0  7  5  0  0  9  0  0  1 10  0  3  9  0\n",
            "  1 10  4  3  3  4  1  1  9  1  9  1  3  0  7  0  1  1  1  1  0  1  6  0\n",
            "  9  0  4  6  4  6  1  1  0  3  7  6  1  1  0  7  0  9  0  7  9  5  7  7\n",
            "  1  1  2  0 10  9  9  1  2  3  1  7  1  9  1  5  7  9  4  1  9  1  0  0\n",
            "  1  1  0  1  0  4  7  0  4  9  7  7  0  4  1  7  9  1  1  6  0  4  1  1\n",
            "  6  1  1  9  1  5  9  1  2  0  1  1  9  4  7  5  4  1  4  4  3  2  8  1\n",
            "  9  0  9  1  9  0  5  1  4  5  7  1  1  0  1  5  3  1  9  1  4  1  4  2\n",
            "  1  4  1  0  1  0  2  1  1  1  0  1  9  7  1  5  0  0  1  7  0  7  0  1\n",
            "  7  0  3  1  9  1  9  0  7  4  1  0  0  1  0  4  1  0 11  4  7  7  3  9\n",
            "  0  1  1  6  4  9  0  7  9  0  3 10  7  9  0  4  1  1  1  5  9  1  2  1\n",
            "  1 11  9  3  9  0  9  1  0  9  0  1  1  0  0  1  1  1  7  1  9  9  1  1\n",
            "  9  7  0  4  9 10  9 11  1  9  6  5  9  0  1  1  0  0  2  9 10  1  4  0\n",
            "  1  4  1  0  9  1  2  1  0  3  9  5  0  9  9  0  9  4  6  9  1  7  9  1\n",
            "  7  0  9  0  7  7  1  1  7  4  0 10  6  7  1  0  9  7  0  1  1  0  0  1\n",
            "  9  0  0  1  0  9  1  0  6  6  7  1  7  7  4  1 10  1  6  6  7  0  0  9\n",
            "  9  1  1  1  4  6  1  0  0  1  7  7  7  7  1  1  7  7  4  1  1  2  0  0\n",
            "  1  6  7  7  3  7  7  2 11  1  0  1  1  0  0  1  9  7  2  0  7  9  0  1\n",
            "  0  0  6  1  9  1  2  1  1  0  1  7  9  0  9  1  0  9  7 10  1  1  9  0\n",
            "  1  1  1  1  7  1  1  9  1  3  0  1  9  0  2  1  0  1  0  7  9  1  1  7\n",
            "  4  1  4  0  7  1  4  0  1  7  1  0  9  5  1  0  0  1  1  4  9 10  0  1\n",
            "  3  0  7  1  1  9  0  1  6  7  1  1  1  2  7  9  1  1  7  9  9  6  1  0\n",
            "  1  1  0  1  1  4  0  0  0  7  1  1  9  4  1  1  5  9  1  9  9  1  0  7\n",
            "  9  1  0  4  9  7  9  1  1 10  1  0  9  0  4  2  0  4  1  2  7  3  1  1\n",
            "  2  3  1  3  5  1  9  1  1  1  6  9  7  9  5  1  4  0  9  1  0  7  1  9\n",
            "  1  7  2 10  9  0  9  0  1  9  0  1  5  0  4  7  6  7  1  3 10  2  7  1\n",
            "  1  9  7  1  0  1  0  1  0  1  9  0  1  0  5  4  8  4  7  9 10  1  1  9\n",
            "  9  1  0  1  4  1  2  1  2  1  9  1  1  4  2  7  0  7  7  1  0  9  2  3\n",
            "  1  4  7  7  1  0  1  0  9  1  0  1  1  1  0  2  0  9  0  0  0  0  4  5\n",
            "  4  9  9  4  6  9  0  4  1  9  1  1  7  1  1  6  7  0  1  7  1  3  1  1\n",
            "  5  0  1  0  0  0  1  7  4  1  1  4  1  7  1  0  9  1  1  7  1  1  9  0\n",
            "  0  9  0  1  1  1  1  1  7  1  9  1  1  1  0  1  3  1  9  0  6  1  9  0\n",
            "  9  2  1  1  1  0  1  3  1  1  1  7  0  1  0  2  0  4  9  1  7  8  0  9\n",
            "  6  4  7  7  0  2  7  6  5  8  9  4  0  4  1  1  0  1  4  5  2  1  4  7\n",
            "  1  1  2  7  1  1  0  0  3  7  1  9  3  1  1  1  7  1 10  4  5  0  1  3\n",
            "  1  5  0  1  0  1  0  9  0  7  1  9  1  7  4  9  0  1  7  9  1  0  9  1\n",
            "  0  1  0  3  1 11  0  4  1  7  1  7  9  7  0  0  4  0  7  7  7  9  6  0\n",
            "  1  9  1  6  4  9  4  0  1  0  0  3  1  9  0  6  0  1  9  0  1  0  0  1\n",
            "  7  9  6  6  9  1  1  7  5  1  0  0  1  0  0  1  7  2  6  6  6  7  2  0\n",
            "  7  5  1  1  9  1  7  2  1  1 10  1  0  7 10  0  2  0  9  1  2  7  0  9\n",
            "  4  1 10  1  7  9  1  9  0  2  0  0  1  4  4  0  0  0  1  1  0  0  9  0\n",
            "  3  0  0  4  3  9  5  3  0  0  1  9  0  1  3  4  1  1  9  9  1  0  7  0\n",
            "  7  7  0 11  9  0  1  0  0  1  0  1  0  9  7  1  9  7  0  7  7  1  0  7\n",
            "  0  0  0  0  1  1  0  7  7  1  7  2  9  7  0  7  1  9  7  9  4  9  8  0\n",
            "  0  1  0  0  1  1  1  3  7  9  9  8  7  3 11  0  9  0  7  0  5  7  5  9\n",
            "  1  6  7  5  1  1  5  4  0  1  1  5  4  0  0  2  9  0  1  0 11  7  4  0\n",
            "  0 10  1  9  1  7  0  2  9  4  1  0  1  0  0  0  2  0  0  2  1  0  9  7\n",
            "  1  1  9  1  0 10  0  0  2  9  9  0  0  9  4  4  1  5  0 10  1  0  1  9\n",
            "  9  3  0  1  9  1  4  0  4  0  2  9  1  7  0  0  0  4  0  9  0  1  7  7\n",
            " 11  1  1  4  0  3  9  1  6  1  0  1  1  0  6  9  5  5  1  1  4  1  6  0\n",
            "  1  1  1  7 10  9  6  7  1  0  0  0  4  7  1 10  4  4  0 10  9  0  0  7\n",
            "  8  7  6  2  7  4  5 10  9  7  6  0  1  1  9  9  2  1  7  0  1  0  1  1\n",
            "  9  0  6  1  0  9  2  0  0  3  7  0  0  9  6  0  0  4  1  1  2  1  0  0\n",
            "  1  1  0  1  9  0  4  0  4  1  4  1  9  0  1  1  4  1  0  1  9  9  0  7\n",
            "  7  9  2  7  0  1  1  7  1  1  3  9  9  1  4  8  1  1 11  1 11  2  5  1\n",
            "  4  7  1  9  9  0  1  1  9  1  0  1  7  3  1  1  7  4  0  2  1  1  9  1\n",
            "  9  2  0  4  1  2  0  4  1  1  4  1  0  7  4  1  1  1  1  0  7  0  1  4\n",
            "  0  9  3  9  9  0  7  1  4  1  0  7 11  9  1  2  1  1  9  0  8  1  2  3\n",
            "  2  9  7  4  1  1  6  5  7  7  1 10  9  1  0  1  9  7  7  1  7  3  9  0\n",
            "  1  9  1  1  3  0  1  4  1  9 10  7  1  9  1  2  7  0  1  9  0  4  0  1\n",
            "  7  1  1  3  9  9  7  9  4 10  7  9  2  1  7  3  1  1  9  1 11  1  9  2\n",
            "  7  3  0  0  0  2  0  1  9  6  9  7  1  1  1  0  4  1  0  0  1  6  1  2\n",
            "  1  7  1  1  0  0  1  1  7  1  8  1  1  9  0  1  1 11  0  1 11  1  9  7\n",
            "  9  7  1  7  9  4  7 11  0  0  5  2  1  6  1  9  6  0  1  1  9  6  1  1\n",
            "  7  5  9  0  7  9 10  9  1  0  0  1  0  4  2  6  1  6  1  1  4  7  4  1\n",
            "  9  9  9  1  4  0  0  7  1  0  1  1  9  0  1  9  5 11  1 10  4  0  7  1\n",
            "  1  4  0  4  1  3  4  1  9  1  0  7  0  1  0  7  7  7  4  9  0  1  3  1\n",
            "  7  0  2  1  6  9  1  9  0  7  1  7  1  4  6  1  1  7  4  0  1  4  1  1\n",
            "  1  1  1  0  0  6  7  4  2  1  5  0  7  7  7  9  7  7  0  1  1 11  5  0\n",
            "  9  0  9  7  1  0  9  9  4  1  1  0  1  1  7  7  9  1  9  0  1  0  1  1\n",
            "  9  5  1 10  7  2  1  9  0  1  1  1  9 10  7  0  6  9  9  4  4  0  1  9\n",
            "  1  0  1  6  1  5  7  0  0  4  1  9  0  9  9  9  0  4  9  1  0  0  0  4\n",
            "  3  2  5  1  1  0  0  1  0  0  1  1  1  2  4 11  0  0  4  1  0  1  0  1\n",
            "  4  6  0  0  2  9  9  1  0  0  1  7  1  9  9 10  0  1  3  1  0  7  0  1\n",
            "  7  0  1 10  5  9  0  0  5  9  7  3  0  7  1  7  6  4  7  2  0  0  1  6\n",
            "  7  9  0  7  1  1  9  0  1  2  1  1  7  1  1  0  5  5  1  0  0  4  7 11\n",
            "  1  5  3  9  0  0  1  7  7  7  4  1  7  1  7  7  0  4 11  9  9  0  9  1\n",
            "  0  0  0  0  1  0  1  4  1  1  9  9  1  1  1  4  1  3  7  9  2  1  0  4\n",
            "  1  0  0  1  6  7  7  5  1  5  1  1  0  2  0  1  9  0  9  7  1  1  1  1\n",
            "  9  1  0  1  1  7  1  7  9  9  3  4  9  4  1  5  6  0  1  9  9  6  9  9\n",
            "  4  0  1 11  1  1  2  6  7  9  0  9  0  0  0  0  1  1  7  9  1  1  0  7\n",
            " 10  0  9  1  9  0  1  0  1  0  0  0  1  1  0  1  0  7  7  0  4  6  7  1\n",
            "  7  7  1  1  9  1  1  0  1  6  0  9  0  0  1  1  9  7  1  1  1  9  1  2\n",
            "  9  1  1  3  7  7  9  0  1  0  1  0  0  1  1  0  0  0  3  9  1  0  0  1\n",
            "  1  9  2  1  7  7  1  5  4  2  1  3  9  4  2  2  9  1  4  1  1  9  1  4\n",
            "  2  5  5  4  0 10  1  1  0  3  1  7  1  1  0  9  9  5  1  7  1  5  0  1\n",
            "  9  1  0  1  9  9  9  1  1  7  1  1  0  0  0  7  9 10  0  7  2  4  1  1\n",
            "  1  0  7  4  3  7  4  5  3  0  7  4  9  0  4  9  1  7  1  1  0  5  1  9\n",
            "  0  5  9  0  1  9  0  1  0  1  0  1  7 10  1  7  1  7  9  1  1  1  0  0\n",
            "  7  1  4  4  7  1 10  1  5  0  9  1  5  7  0  7  1  1  5 10  1  0  0  9\n",
            "  1  1  6  7  7  7  2  3  1  1  4  9  7  7  1  1  7  0  4  3  2  1  1  9\n",
            "  2  1  1  0  7  9  1  0  9  9  9  1  3  1  1  2  0  0  1  9  2  1  5  0\n",
            "  0  9  4  1  0  9  1  1  1  0  4  0  2  1  1  0  1  1  1  1  0  2  9  7\n",
            "  1 10  7  1  4  1  7  4  1  7  1  6  1  0  0  9  1  1  5  1  6  9  4  4\n",
            "  1  7  1  7  2  6  4  1  0  1  9  9  1  1  6  0  0  0  1  9  5  0  0  4\n",
            "  1  5  0  2  0  9  1 10  1  0  0  7  1  7 11  0  0  1 10  1  1  9  1  0\n",
            "  9  1  2  0  5  1  4  1  1  4  1  0  5  0  8  7  0  0  0  4  6  7  0  3\n",
            "  1  1  1  9  8  0  1  9  1  1  7  7  6  0  1  6  1  0  1  0  0 10  0  9\n",
            "  1  9  1  0  1  2  7  1  9  1  0  9  0  1  1  2  7  9  6  1  1  0  9  2\n",
            "  7  0  4  0  0  6  1  9  9  1  0  4  9  9  7  1  9  0 10  1  0  5  7  2\n",
            " 10  7  1  9  2 11  0  8  4  1  0  0  7  0  1  4  9  1  1  7  0  0  9  0\n",
            "  9 10  9 11  4  2  9  4  0  9  6  0  4  4  5  0  7  9  7  7  1  0  1  1\n",
            "  2  0  6  7  1  9 10  7  2  0  8  7  2  9  9  1  7  1  1  4  7  9  6  0\n",
            "  7  1  9  7  0  9  1  6  4  1  7  0  1  0  7  7  9  6  9  9  0  4  7  1\n",
            "  0  1  7  1  6  7  4  0  1  1 10  0  9 10  4  1  1  1  7  6  0  9  7 10\n",
            "  0  7  0  1  2  1  0  9  1  1  7  9  9  0  2  1  7  1  3  7  7  0  7  3\n",
            "  0  6  4  5  0  1  7  0  1  0  9  0  2  7  7  1  6 11  9  9  2  1  9  4\n",
            "  4  1  4  1  9  5  7  6  3  1  0  0  4  7  3  1  9  1  1  5  0  1  6  9\n",
            "  1  0  9 11  1  4  6  0  0  1  3  1  0  1  0  0  7  0  6 10  9  1  7  6\n",
            "  7  0  9  1  1  6  1  1  9  0  6  7  1  6  9  1  8  0  7  1 10  9  9  7\n",
            "  7  1  0  2  6  9  4  0  9  0  9  1  1  0  1  7  1  3  0  1  8  9  1  0\n",
            "  0  4  0  1  1 10  1  1  1  9  0  1  1  7  0  1  1  5  0  7  7  4  9  9\n",
            "  9  1  1  4  0  6  1  7  1  2  1  0  0  9  0  6  9  5  0  1  9  1  1  7\n",
            "  1  7  5  1  9  4  5  3  4  9  1  7 11  1  7  7  2  3  7  9  7  1  0  1\n",
            "  7  1  0  1  1  1  1  1  1  1  9  3  1  6  4  2  1  7  7  1  1  4  1  1\n",
            "  7  0  6  9  0  1  7  1  9  1  1  0  0  1  0  3  0  1  9  1  0  0  0  0\n",
            "  1  1  2  1  0  1  0  0  1  3  0  6  7  8  0  1  0 10  0  1  0  6  2  1\n",
            " 10  1  7 11  7  7  1 11  0  6  7  0  1  9  7  2  3  6  3  9  9  7  1  7\n",
            "  7  9  1  0  9  0  8  9  0  4  9  0  0  0  0  1  4  4  3  1  9  1  9  9\n",
            "  1  9  3  1  1  0  0  3  7  1  0  1  1  1  9  1  1  4  1  0 10  1  0  1\n",
            "  0  0  1  9  7  1  1  0  1  0  9  7  1  7  9  1  7  1  7  9  9  7  7  0\n",
            "  9  0  9  9  1  1  0 10  0  1  0  1  0  0  1  9  0  0 11  9  1  0  9  0\n",
            "  1  4  0  9  6  7  7  9 10  1  2  1  1  1  1  6  0  6  0  0  0  7  9  0\n",
            "  0  0  0  0  3  7  2  0  1  7  0  0  0  1  1  7  1  1  9  1  1  9  1  0\n",
            "  6  9  1  9  9  9  0  9  1  3  7  9  5  9  9  7  0  1  1  4  0  7  1  0\n",
            "  9  5  0  1  2  1 11  4  1  0  0  0  7  7  2  1  0  7  1  6  4  0  1  4\n",
            "  1  1  9  2  0  1  7  4  1  9  6  4  9  1  7  0  9  1  4  3  6  1  1  1\n",
            "  9  0  1  9  1  9  7  7  9  9  1  1  1  9  9  6  1  1  0  1  7  9  4  3\n",
            "  0  4  0  3  7  7  3  9 11  6  1  0  9  1  1  9  0  0  0  2  4  0  0  6\n",
            "  1  1  0  7  0  7  5  1 11  0  6  9  9  1  6  0  2  1  7  1  0  7  7  0\n",
            "  0  0  4  1  0  1  7  1  1  9  0  9  3  0  9  1  2  9  4  7  1  0  1 10\n",
            "  1  1  6  7  4  2  9  0 11  1  0  7  1  9  0  1 10  7  3  1  1  6  3  7\n",
            "  6 10  4  0  9  0 10  1  2  1  9  4  9  0  9  1  1  0  3  7  9 10  9  7\n",
            "  1  9  7  5  6  7  9  5 11  1  0  4  1  5  9  2  1  0  6  7  9  1  9  4\n",
            "  9  0  0  9  0  0  7  2 10  7  6  0  9 10  4  5  2  7  9  7  0  7  0  7\n",
            "  5  4  1  0  1  7  1  9  1  0  2  1  1  1  9  1  1  6  9  7  6  4  1  1\n",
            "  1  1  7  1  1 10  1  1  0  1  4  0  1 10  1  0  1  9  1  9  7  2  2  1\n",
            "  2  1  1  1  7  6  9  9  0  7  7  6  0  9  7  3  1  1  0  9  4  2  0  9\n",
            "  3  0  0  1  1  0  7  4  1  0  3  7  0  0  4  5  9  9  9  9  1  1  0  1\n",
            "  1  7  0  9  1  7  9  9  1  7  0  0  0  0  1  1  0  4 11  1  0  0  1  1\n",
            "  1  0  4  4  7  0  7  0  1  6  4  2  9  4  0  1  9  4  1  4  0  6 11  1\n",
            "  6  1  1  0  1  3  0  0  9  9  1  7  1  0  0  7  1  7  9  1  2  0  7  0\n",
            "  0  0  1 10  7  0  7  1  1  5  7  1  7  1 11  0  5  2  0  9  4  0  9  9\n",
            "  0  5  0  7  1  0  9  7  4  0  4  0  3  1  5  0  7  9  0  1  2  1  1  0\n",
            "  3  3  1  1  0  1  9  1  1  5  1  4  0  9  9  9  9  0  9  0  9  9  1  0\n",
            "  1  7  0  9  1  0  1  9  0  1  9  5  2  1  2 10  1  3  7  7  1  1  0  7\n",
            "  1  9  1  0  7  2  3  9  0  4  0  7  1  9  1 10  0  2  7  7  1  7  4  3\n",
            "  8  0 10  1  9  9  1  7  1  4  1  9  8  1  1  9  0  7  5  6  4  7  2  9\n",
            "  7 11  1  7  0  0  1  1  1  7  9  4  3  2  1  9  1  9 10  7  0  1  9  2\n",
            "  4  7  1  1  2  1  1  1  7  5 10  4  9  4  1  1  9  0  1  1  1  1  1  3\n",
            "  9  9  1  0  1  7  0  1  1  9  5  0  1  0  9 10  0  8  1 10  6  7  1  4\n",
            "  1 11  2  1  3  9  5  7  1  4  9  1  4  4  1  1  7  1  9  5  6  1  1  1\n",
            "  9  4  1  5  0  1  0  0  1  6  8  1  0  7  4  1  2  2  0  1  1  1  9  1\n",
            "  0  1  0  6  7  1  0  0  1  1  1  7  0  1  9  0  1  6  6  9  0  4  4  1\n",
            "  7  9  1  0  1  9 10  2 11  6 10  1  1  1  9  1  5  0  0  0  1  0  6  4\n",
            "  1  0  2  0  4  7  1  7  7  3  9  1  1  1  9  0  7  0  0  1  4  0  1  0\n",
            "  0  3  2  0  0  0  9  4  1  7  0 10  0  0  1 10  0  6  9  1  0  1  0 10\n",
            "  0  7  1 10  1  1  4  1  1  0  1  8  7  1  1  6  0  9  7  9  6  1  1 10\n",
            "  9  0  0  1  1  0  1  1  7  0  1  1  0  1  1  9  0  9  1  0  1  0  0  0\n",
            "  1  1  0  7  1  4  0  7  7  1  0  9  7  3  7  1  0  1  6  4  5  1  1  9\n",
            "  1  7  5  1  7  1  7  1  1  1  1  0  0  1  0  0  3  0  4  2  3  6  1  5\n",
            "  9  6  1  1  7  6  7  6  1  1  7  0  4  1  4  7  1 10  1  9  1  9  0  0\n",
            "  7  0  0  0  1  2 10  1  1  0  2  0 10  1  1  7  0  9  7  1  1  9  0  5\n",
            "  0  7  1  1  0  2  5  0  9  1  1  1  0  7  9  4  1  1  8  9 11  0  0  1\n",
            "  6  1  1 11  0  1  1  0 11  0  2  1  1 10  0  0  0  0  9  1  0  0  0  0\n",
            "  0  1  0  7  1  0  0  8  7  5  2  4  1  1  9  0  9  1  0  9  0  0  0  9\n",
            "  0  7  4  7  1  1  4  6  1  0  5  6  5  1  0  1  0  0  6  1  1  8  7  1\n",
            "  1  1  9  0  1  7  1  1  3  9  8  0  7  1  0 10  0  8  3  0  0  0  4  1\n",
            "  8  3  0  1  4  1  0  1  7  9  0  0  1  3  9  0  0  0  7  1  1  1  0  1\n",
            "  1  1  3 11  4  5 10  0  0  1  0 10  1  0 10  0  2  1  0  0  1  1  7  9\n",
            "  7  0  1  0  1  0  6  1  9  1 10  0  0  1  9  7 10  5  1  0  1  1  4  2\n",
            "  7  0  1  1  1  7  0  0  1  1  1  4  0  1  1  1  1  0  1  9  1  9  2  2\n",
            "  1  1  9  5  9  9  7  9  4  1  0  1  9  1  0  0  9  1  1  1  1  1  9  7\n",
            "  9  1  1  7  7  9  0 10  7  0  1  9  7  6  1  0  2  1  1  1  6  1  4 11\n",
            "  9  4  1  7  0  6  6  1  0  7  7  0  1  9  0  7  0  3  1  1  1  1  1  5\n",
            "  1  1  0  0  0  1  3  3  0  7  0  9  0  0  7  3  1  9  1  9  1  4  0  9\n",
            "  7 11  6  1  7  4  9  1  5  1  1  0  0  1  0  6  4  0  1  5  1  9  0  1\n",
            "  7  2  6  3 10  0  7  9  7  1  0  1  0  1  1  1  4  7  6  1  1  1  1  1\n",
            "  7  9  1  9  1  4  1  1  2  1  9  4  1  1  2  9  2  1 10  7  3  4  7  1\n",
            "  9  5  7  1  3  9  0  2  0  7  5  1  1  5  5  0  0  4  5  1  1  1  1  1\n",
            "  0  9 11  9  3  7  0  1  1  2  9  1  7  9  7  2  0  6  0  0  1  1  0  1\n",
            "  3  1  0  1  6  1  7  1  7  7  7  1  0  9  0  9  4  4  7  4  0  1  7  5\n",
            "  9  9  3  4  1  1  9  0  0  9  2  2  1  0  1  1  1  2  0  3  0  0  7 11\n",
            "  0  9  4  1  0  3  1  6  9  0  1  1  1  9  1  1  2  0  0  1  0  1  0  7\n",
            "  3  0  1  7  4  7  9  9  2  1  0  1  0  1  7  0  9  2  7  2  1  0  9  4\n",
            "  1  4  9  2  1 10  2  0  0  0  0  4  7  1  0  7  9  0  1  0  9  0  1  9\n",
            "  1  6  7  4  0  0  0  1  1 10  9  9  1  7  1 10  7  1  9  0  9  9  1  7\n",
            "  9  4  7  3  1  1  3  3  3  0  7  7  7  7  2  1  0  1  1  2  5  0  4  7\n",
            "  1  4  1  1  1  7  1  0  9  9  9  4  1  7  2  0  3  4  9  1  9  7  1  9\n",
            "  6  9  1  1  1  1  0  9  4  9  9  1  9  0 10  4  1  7  0  6  4  6  0  7\n",
            "  7  0  1  1  9  1  1  0  1  9  7  1  1  6  9  1  9  1  9  7  1  0  7  9\n",
            "  1  9  5  0  7  6  1 10  1  9  0  7  7  7  7  1  4  1  0  5  0 11  0 10\n",
            "  7  2  0  1  1  0  1  1  2  1  0  0  4  1  9  2  4  3  1  9  1 10 11  1\n",
            "  0  0  2  1  5  9  0  0  0  0  6  1  1  7  1  1  0  0  2  2  1  1  4  1\n",
            "  7  7  1  1  6  0  1  0  1  3  1  6  0  9  9  0  6  7  9  0  9  1  4  9\n",
            "  1 10 10  1  0  9  1  1 10  1  2  9  0  3  1  4  2  1  1  3  0  4  0  0\n",
            "  1  0  2  5  0  9  4  1  0  6 10  0  1  0  9  7  1  7  5  7  3  1  1  1\n",
            "  9  9  3  9  1  9  1  9  4  1  9  1  1  1  9 10  0  3  6  0  1  1  1  0\n",
            "  9  0  1  0  8 11  0  4  9  1  0  0  9  9  7  4  1  1  4  7  0  9  6  1\n",
            "  4  0  0  0  1  9  0  0 10  9  0  6  6  1  2  6  9  0  1  1  0  1  0  0\n",
            "  1 10  0  1  1  1  9  5  1  1 10  7  7  1  9 10  9  0  2  0  1  9  9  1\n",
            "  9  0  1  7  9  4  1  9  1  0  0  1  0  9  9  0  6  9  9  1  6  2  9  6\n",
            "  0  5  9  3  1  0  0  9  1  9  9  3  0  9  1  7  2 10  1  4  1  0  0  7\n",
            "  4  9  7  7  1  1  6  5  7  0 10  0  2  2  1  3  6  1  3  7  2  0  7  1\n",
            "  9  1  6  1  1  7  1  1  6  3  6  0  1  1  7  7 11  1  1  9  2  9  1  0\n",
            "  9  7  4  1  1  9  0  3  1  1  0  1  9  0  4  1  9  2  5  1  0  5  0  9\n",
            "  7  6  7  7  1  1  0 11  0  9  9  7  9  0  5  9  0  9  7  1  1  0  1  0\n",
            "  1  0  1  0  7  9  7  0 10  1  9  0  0  0  1  0  6  4  0  1  8  9  1  1\n",
            "  1  9  1  1  1  1  6  1  5  7  9  0  9  1  9  9  4  1  1  0  0  9  8  9\n",
            "  9  3  0  1  2  9  2  4  1  0  1  9  3  1  0  0  6  6  9  1  9  6  2  1\n",
            "  5 10  1  9  4 10  7  9  7 10  4  9  0  7  0  1  3  6  9  9  9  4  9  1\n",
            "  9  7  9  1 10 10  0  1  0  1  9  0  0  9  0  7  1  1  0  7  0  9  1  1\n",
            "  4  1  9  7  1  0  4  7  1  0  6  2 11  1  0  9  1  2  9  1  1  1  4  0\n",
            "  1  0  2  0  0  0  1 11  1  9  7  0  2  1  3  1  1  6  1  1  4  1  1  1\n",
            "  0  5  1  1  0  1  0  9  0  9  1  1  0  9  1  0  6  4  2  6  1  7  3  1\n",
            "  1  1  1  7  7  0  4  6  1  0  1  1  7  7  1  7  9  1  0  7  5  9  1  6\n",
            "  1  3  1  1  9  1  1  3  0  1 10  1  7  0  3  1  2  1  0  9  9  7  4  0\n",
            " 11  9  4  1  0  7  1  0  0  1  7  1  9  7  9 11  3  0  0  4  1  0  1  1\n",
            "  1  7  7  0  0  7 10  1  7  0  1 10  0  1  1  4  0  1  4  1  1  2  7  1\n",
            "  0  6  9  0  4  0  0  1  7  6  9  1  1  1  0  0  1  1  0  7  1  2  1  9\n",
            "  0  4  0  1  1  1  1  0  9  9  1  0  9  1  1  1 11  7  9  9  9  6  0  3\n",
            "  1  1  7  1  0  0  0  0  9  7  1  0  0  2  5  4  1  1  1  1  9  9  1  0\n",
            " 10  0  1  1  1  7  6 10  2  1  2  9  0  1  3 10  4  0 11  2  9  9  7  7\n",
            "  1  0  1  0  0  1  0  9  0  1  3  7  1  1  1  1  0  0  1  0  2  0  1  7\n",
            " 10  1  1  4  6  1  6  1  1  0  9  6  1  2  1  1 10  1  2  0  0  1  1  7\n",
            "  0  9  0  5  7  7  1  9  1  3  5  1  9  7  9  7  0  7  1  1  0  0  1  1\n",
            "  1  0  1  1  1  4 11  6  2  1  0  1  3  9  1  0  8  5  0  9  4  0  7  8\n",
            "  2  2  1  0  9  1  0  9  0  0  9  8  5  0  9  0  0  9  9  1  1  9  1  2\n",
            "  1  0  0  0  2  1  9  7  0  4  6  1  3  1  7  0  9  0  7  0  4  9  7  1\n",
            "  1  9  7  7  0  2  2  9  9  6  9  9  0  1  3  1  9  0  7  2  1  0  7  2\n",
            "  9  1  7  1  0  3  7  1  0  0  3  1  4  7  1  9  0  9  7 10  9  1  9  0\n",
            "  1  9  0  1  1  0  1  3  7  7  7  9  4  4  1  1  1  2  7  1  9  9  2  1\n",
            "  9  4  1  9  9  2  2  7  7  6  0  4  1  1  4  1  1  9  4  1  1  1  1  0\n",
            "  1  7  9  4  0  1  2  0  0  1  1  7  2  9  9  9  9  0  0  1 10  1  1  0\n",
            "  0  9  0  1  1  7  0  1  0  6  0  0  0  0  0  1 10  9  1 10  1  0  1  4\n",
            "  1  1  0  2  1  0  9  9  1  0  9  0  9  9  7  0  1  1  7  2  7  9  1  3\n",
            "  0  0  7  1  2  1  4  1  0  2  7 11  1  1  1  5  0  9  0  1  0  9  1  0\n",
            "  4  1  1  1  0  9  1  3  0  0  1  2  1  1  1  9  1  4  7  2  9  1  2  4\n",
            "  1  9  0  1  8  7  1  1  0  2 10  2  1  9  1  7  1  1  0  0  7  0 11  0\n",
            "  1  7  4  0  1  0  1  8  9  0  1  9  6  4  0  6  2  0 11  1  4  9  9  1\n",
            "  9  1  9  0  9 11  3  0  1  2  0  1  1  1  1  1  0  2  4  8  1  9  9  3\n",
            "  1 10  9  9  7  1  7  1  0  4  0  1  1  0  2  1  1  1  0 11  1  1  9  0\n",
            "  0  1  1  1  1  0  1  9  2  7  4  4  7  7  9  0  2  5  6  0  7  0 10  9\n",
            "  1  7  1  9 11  0  0  7  7 10  9  1  1  5  5  1  1  1  9  4  9  7  9  0\n",
            "  9  7  9  0 10  7  0  9  1  0  1  0  1  3  4  1  1  4  1  1  1  2  1  9\n",
            "  1  1  0  4  0  9  8  1  2  0  9  9  1  7  0  9  7  9  1  0  7  4  1  1\n",
            "  1  1  1  9  7  9  7  9  1  1  1  0  0  9  7  1  1  5  9  0  1  6  2  0\n",
            "  9  0  4  3  0  1  7  8  1  0  9  1  1  0  0  1  1  9  7  7  1  9  1  0\n",
            "  2  9  1  1  1  7  0  0  0  0  0  7  1  1  1  1  0  6  9  0  6  1  7  7\n",
            " 10  6  9  1  0  1  4  1  3  6  9  0  0  0  0  9  1 10  1  9  4  9  9  1\n",
            "  1  0  9 10  9  1  1  4  0  4  1  1  9  4  5  1  1  0  4  7  1  9  0  1\n",
            "  1  7  1  9  9  6  2  1  1  9  9  1  2 11  1  9  1  4  0 10  1  9 10  1\n",
            "  9  3  0  1  0  4  7  8  9  0  0  1  9  1  0  1  3  6  0  1  5  4  9  0\n",
            " 10  9  0  2  6  4  7  1  3  7  8  1  9 10  0  4  1  0  6  9  7  5  1  9\n",
            " 10  9  1  0  8  1  7  9  9  1  7  1  9  9  0  9  7  6  1  1  0  2  2  0\n",
            "  2  6  1  6  0  0  7  7  7  0  4  0  9  6 10  9  7  9  0  9  7  7  0  5\n",
            "  1  0  6  0  1  1  0  4  0  3  0  0  0  0  8  9  1  2  7  0  6  1  1  2\n",
            "  4  0  1  0  0  9  0  9  1  0  1  2  7  9 10  0  1  4 10  0  7  4  7  1\n",
            "  1 11  2  1  4  1 10  9  0  9  1  9  0  0  1  4  9  1  1  3  1  0  6  1\n",
            "  1  1 10  1  7  0  0  9  0  9  3  1  1  7  7  9  4  9  0  0  0  2  1 10\n",
            "  2  8 10  0  1  1  0  1  1  1  5  1  7  1  7  2  9  4  1  9  0  0  9  0\n",
            "  9  0  1  3  0  1  7 10  1  0  7  9  1  9  7  1  7  9  4  7  1  1  1  7\n",
            "  1  5  7  0  9  7  5  1  1  6  1  0  0  1  1  7  1  9  1  7  7  6  5  0\n",
            "  0  0  0  2  4  0  0  0  7  1  1  1  1  7  0  0  7  3  1  3  4  1  1  0\n",
            "  1  9  0  1  0  4  1  7  9  1  0  9  4  4  4  1  1  1  1  7  1  1  6  1\n",
            "  6  1  1  0  1  1  9  1  4  0  1  7  7  1  1  0  7  2  4  0 10  3  7  1\n",
            "  1  9  7  9  3  7  0  8  9  7  2  4  1  9  9  4  4 10  1  1  2  5  9  6\n",
            "  4  9  1  0  0  1 10  1  4  1  1  5  7  7  1  1  7  2  4  0  5  9  0  1\n",
            "  1  9  1  0  4  0  2  1  9  1  2  4  9  4  1  9  1  1  7  3  2  1  1  4\n",
            "  1  0  7  9  1  4  4  1  1 11  9  5  7  0  1  4  0  2  0  1  1  9  0  0\n",
            "  1  1  6  0  1  1  1  4  0  0  7  5  4  9  5  0  8  0  0  1  4  0  2  0\n",
            "  0  2  1  1  9  0  7  0  9  8  9  1  8  5  4  1  6  1  0  1  0  1  9  7\n",
            "  9  0  1  1  0  1  4  0  6  1  6  0  1  7  6  3  7  7  1  0 10  7  5  7\n",
            "  0  9 10  9  4  0  7  9  6  0  9  6  1  0  7  0  4  0  0  9  0  5  0  9\n",
            "  0  1  0  9  7  0  0  0  9  0  1  0  1  3  7  9  7  0  1  1  0  4  1  1\n",
            "  1  2  0  2  4  1  7  9 11  7  1  1  1  9  7  1  1  0  2 11 10  0  0  9\n",
            "  7  1  1  0  1  1  4  0  4 10  0  9  5 10  9  1  8  9  7  1  9  0  1  7\n",
            "  4  1  9  5  0  9  1  0  1  0  7  7  0  1  1  1  9  0  4  7  9  4 10  0\n",
            "  1  0  0  1  5  1  9  1  4  0  0  1  1  1  5  5  4  1  1  1  6  9  1  1\n",
            "  9  1  7  2  4  0  2  1  9  0  1  5  1  0  1  1  9  1  1  7  3  6  4  4\n",
            "  1  9 11  4  0  7  4  9  0  9  1  1  1  3  3  4  5  1  2  1  4  1  1  1\n",
            "  1  7  7  1  3  6  1  0 10  9  0  1  1  6  0  9  0  7  9  1  5  9  9  0\n",
            "  7 10  1 11  1  9  9  0  9  0  9  1  7  7  9  1  3  1  0  1  1  9  9  4\n",
            "  0  0  5  7  7  9  6  3  2  5  7  0  1  0  7  7 10  4  7  7  1  1  1  3\n",
            "  7  9  7  2  7  1  1  7 10  0  4  2  0  1  1  2  4  0  4  1  9  0  9  7\n",
            "  7  0  9  0  1  1  1  1  4  3  1  0  1  4  1  0  1  1  0  1  0  0  4  6\n",
            "  1  1  6  2  9  1  1  2  1  2  7  4  2  1  1  5  0  9  0  1  5  0  3  1\n",
            "  4  4  9  1  9 11  1  7  0  1  1  1 11  1  6  9  7  2  7  7  1  0  2 10\n",
            "  2  5  7  7  7  1  1 10  1  7  1  4  7  2  0  5  4  1  2  0  0  9  1  0\n",
            "  1 10  1  9  8  3  5  0  7  9  1  5  1  5  1  9  4  6  1  0  1  1  0  4\n",
            "  1  4  1  1  1  1  1  4  1  4  1 10  9  9  9  1  1  0  7  1  1  0  4  1\n",
            "  0  0 10  0  9  6  1  0  1  7  1  1  1  7  1  1  5  1  9  1  0 10  4  1\n",
            "  1  9  7  1  0  9  0  1  0 10  1  0  0  1  2  1  0  1  7  4  0  0  1  4\n",
            "  7  7  6  1  9  4  6  0  5  9  1  7  1  0  0  7  9  1  3  0  9  0  0 10\n",
            "  1  1  1  5  0  0  2  1  0  1  5  7  5  4  2  9  0  7  7  2  7  1  9  7\n",
            "  9  5  0  5  0  0  0  0  4  8  1  0  1  9  0  7  4  7  0  1  3  1  4  0\n",
            "  4  7  0  3  9  1  1  5  5  9  7  1  0  6  0  1  4  2  9  0  1  2  6  0\n",
            "  7  0  6  1  9  1  0  3  1  0  1  0  7  0  2  0  1  1  6 10  1  6  7  1\n",
            "  1  0  9  2  0  3  9  4 11  7  5  9  1  0  9  1  2  4  1  9  1  0  1  0\n",
            "  4  0  2  0  4  9  5  7  0  6  4  5  0  0  2 10  9  2  5  7  7 10  7  7\n",
            "  0  5  7  2  0  1  5  1  4  0  0  9 10  1  4  4  1  5  1  1  4  0  1  1\n",
            "  9  4  3  1  6  0  1  9  5  0  7  1  8  7  7  0  4  2  1  1  0  2  7  5\n",
            "  6  0  7  2  2  0  0  1  7  2  9  0  6  6  9  0  9  1  7  1  0  1  6  6\n",
            "  0  0  5  0  1  9  0  4  1  0  9 10  1  1  0  0  1  1  0  6  0 11  1  4\n",
            "  0  9  0  7  2  0  0  0  0  4  0  0  0  9  7  0  0  1  9  0  0 10  1  4\n",
            "  3  1  1  0  0  1  1  1  8  7  9  1  7  9  0  1  1 11  9  9  4  1  1  7\n",
            "  1  9 10  1  7  9  7  0  0  4  1  1  4  1  1  1  4  6  9  1  4  0  4  1\n",
            "  7  0  7  6  1  1  0  6  7  0  7  0  1  1  2  1  1  1  6  1  1  9  1  1\n",
            "  9 11  7  0  7  7  1  9  0  2  0  3  7  0  7  4  1  1  1  0  0  7  5  7\n",
            "  7  7  1 10  1  9  1  6  0  0  0  1  0  1  9  4  6  7  1  9  1  1  0  1\n",
            "  0  0  5  7  9  5  0  1 11  1  9  6  5  1  1  7  1  1  7  7  0  4  0  1\n",
            "  0  3  0  7  0  6  9  1  0  6  9  7  7  7  1  4  9  7  0  0  0  6  1  0\n",
            "  7  1  1  9  1  9  1  1  9  0  1  1  2  1  1  0  1  1  1  3  3  9  0  7\n",
            "  2  1  9  1  9  1  1  1  6  7  2  1  0  1  0  0  0  1  6  4  1  0  5 10\n",
            "  6  1  0  0  0  9  6  9  0  1  6  9  9  9  1  3  1  2  1  7  1  4  1  5\n",
            "  7  1  0  0  1  6  1  1  1  9  9  1  1  1  1 10  1  1  0 10  7  9 10  1\n",
            "  9  4  3  9  0  1  1  1  7  1  0  7  1  1  5  0  1  5  6  5  7  0  2  1\n",
            "  0  9  7  4  1  1  0  1  3  1  9  1  9  1  1  1  9  9 10  7  7  7  4  0\n",
            "  7  6  7  0  7  4  5  0  2  3  1  4  0  1  9  1  9  5  9  1  1  1  1  1\n",
            "  1  1  1  1  0  9  0 10  1  9  9  0  0  1  3  0  0  0  4  0  5  5  0  9\n",
            "  0  4  1  3  0  7  9  1  7  3  7  9  1  2  4  1  1  7  7  1  9  1  2  9\n",
            "  1  4  6  9  1  9  1  0  7  6  9  1  0  4  4  1  7  9  1  4  3  0  0  0\n",
            "  1  9  1 10  2  1  0  0  0  0  7  1  0  0  2  1  0  1  1  0  0  1  0 10\n",
            "  0  7  9  0  3  2  0  9  1  9  0  1  2  7  9  5  0  1  0  1  1  1  2  7\n",
            "  9  4  9  7  5  1  0  1  7  1  0  1  1  5  5  9  1 10  0  0  1  0  0  0\n",
            "  4  5  6  0  0  0  9  6  9 10  1  7  1  0  9  1  1  0 10  7  1  1  0  1\n",
            "  4  1  6  4  1  9  9  9  7  0  4  1  7  9  6  1  9  2  4  0  1  0  4  1\n",
            "  0  4  0  0  7  1  6  1  1  1  3  0  3  3  1  9  4  9  6  1  1  7 10  7\n",
            "  0  9  5  7  1  1  1  1  2  4  9  1  7  7  0 10  1  3  1  0 10  1  0  3\n",
            "  1  7  1  7  7 10  3  0  2  2  9  1  0  1  7  9  2  7  1  7  0  1  0  1\n",
            "  0  0  7  1  1  9  1  2  4  0  6  0  7  9  6  1  2  5  9  9  0  1  0  1\n",
            "  5  9  0  0  2  1  4  0  3  7  2  9  0  7  1  9  7  0  0  7  2  1  1  9\n",
            "  0  2  1  4  1  2  2  7  7  0  1  5  9  4  4  1  0  1  9  1  7  0  1  2\n",
            "  7  1  0  2  0  2  0  1  9  6  2  5  0  9  7  6 11  0  0  9  2  7  7  1\n",
            "  7  0  7  0  7  9  9  5  9  0  1  3  6  9 11  0  0  0  1  0  1  4  0  9\n",
            "  0  1  1  7  2 10  1  0  0  7  9  1  4  1  0  9  2  0  7  1  7  1  3  1\n",
            "  1  9  0  9  1  1  0  1  9  1 10  7 10  1  1  1  1  4  0  0  7  0 10  4\n",
            "  0  9  1  0  0  0  0  1  0  1  1  0  1  1  1  1  1  1  7  0  9  1  0  7\n",
            "  0  4  0  9  2 10  9  1  3  3  7  0  7  7  9  1  4  7  7  0  4  2  1  0\n",
            "  9  0  0  9  9  0  2  0  9  3  1  9  0  0  3  0  1  7  7  7  7  2  7  7\n",
            "  0  1 10  1  0  0  7  0  0  7  7  9  0  7  7 10  7  0  1  1  0  0  9  7\n",
            "  0  0  7  0  0  2  0  9  7  9  0  1  1  0  0  0  0  4  0  0  6  0  0  7\n",
            "  4  1  0  9  9  4  1  0  0  1  1  1  4  5  1  1  0  9  2  7  9  9  4  9\n",
            "  9  7  7  7  7  1  4  4  9  9  0  9  0  0  4  1  4  4  0  3  0  0  8  7\n",
            "  0  0  4  0  1  1  0  2  2  0  9  1  1  1  9  7  0  7  0  9  9  7  9  9\n",
            "  1  1  0 10  0  0  7  0  1  9  9  7  9  9  1  7  6  9  9  1  1  9  4  0\n",
            "  7  9  9  9  1  1  1  0  1  7  9  7  6  9  1  0  0  5  5  4  9  5  0  1\n",
            "  9  9  8  1  1  0  7  1  1  7  0  0  0  1  0  0  7  5  2  0  2  2  0  4\n",
            "  1  7  2  0  2  4  2  1  9  0  1  0  4  0  1  1  1  0  0  9  1  1  5  1\n",
            "  9  1  1  5  0  5  0  0  0  1  1  0  1  9  4  7  1  1  1  5  1  0  0  1\n",
            "  9  1  9  0  4  1  7  7  7  0  1  2  1  1  3  7  7  9  4  7  7  7  7  0\n",
            "  6  0  1  1  9  9  7  1  0  2  1  7  7  7  1  0  0  1  0  7  0  1  7  0\n",
            "  0  9  7  1  0  7  0  2  1  7  7  9  0  0  9  4  9  1  5  1  4  2  1  0\n",
            "  1  0  9  1  7  0  7  9  7  6  1  7  9  9  8  0  9  1  9  2  8  1  7  0\n",
            "  7  7  9 10  8  9  0  2  0  7  9  0  0  4  1  0  0  9  0  0  0  9  1  1\n",
            "  0  1  6  0  9  5  9  5  1  2  9  9  9  7  7  4  0  4  1  0  5  7  0  9\n",
            "  1  0  0  7  9  1  7  1  9  6  0  3  1  3  3  7  3  3  3  1  0  3  1  3\n",
            "  1  4  0  6  0  4  4  4  3  4  1  4  7  1  4  7  0  7  7  1  7 10 10  7\n",
            "  0  9  1  9  1  0  0  0  0  9  9  2  1  1  7  4  1  1  0  9  1  1  9  0\n",
            "  9  0  1  1  1  7  7  1  4  2  1 10  0  1  1  0  0  4  1  9  9  1 10  9\n",
            "  9  9 10  1  9  9  1  1  0  0  9  1  1  0  0  5  1  1  1  1  1  0  9  9\n",
            "  4  9  0  1  0  1  0  3  1  1  0  9  1  1  1  1  3  0  1  0  8  1  9  0\n",
            "  0  1 10 10  1  0  5  0 10  1  0  7  3  4  0  7  9  0  0  0  7  0  7  2\n",
            "  2  9  7  9  0  1  9  0  4  0  0  9  6  0  4  7  3  1  1  1  7  1  4  1\n",
            "  1  1  9  3  6  7  9  6  0  9  1  1  2  1  2  4  0  4  1  0  9  0  0  1\n",
            "  3  3  7  1  1  6  7  9  7  3  7  0  0  0  0  2  7  0  9  9 11  1 10  7\n",
            "  1  1  2  1  1  9  0  1  6  4  7  7  1  1  1  1  3  1  1  1  3  0  1  9\n",
            "  1  1  1  9  0  1  1  1  1  1  9  0  0  0  0  0  1  0 10  4 10 10  0  9\n",
            "  0  1  9  0  9  9  9  5  9  1  9  0  1  9  2  5  7  0  9  1  1  9  1  4\n",
            "  4  0  0  9 10  1  1  9  9  9  0  0  1  0  9  0  9  1  0  9  0  9  1  9\n",
            "  7  7  7  1  1  3  7  7  5  1  0  0  1  1  0  1  1  1  5  1  1  1  1  1\n",
            "  1  0  0  9  7  0 10  3  9  4  1  1  9  5  9  9  9  9  0  1  4  0  0  0\n",
            "  7  7  9  1  1  9  9  7  9  0  1  1  1  1  1  1  1  1  1  1  7  1  1  1\n",
            "  0  0  9  1  1  1  9  1  0  0  0  1  7  1  7  0  9  1  9  3  0  1  3  9\n",
            "  0  1  8  1  0  8  8  0  0  0  5  4  1  1  1 10  0  9  1  6  0  7  9  9\n",
            "  7  9  9  0  4  4  9  4  4  0  0  1  0  9  8  0  1  7  9  0  0  1  0  1\n",
            "  9  0  9  9  9  9  0  0  8  1  1  0  4  9  1  0  4  9 10  1  1  0  0  9\n",
            "  9  1  1  1  0  1  9  9  0  0  9  1  1  6  1  0  1  1  7  0  6  1  5  1\n",
            "  1  7  1  9  1  1  1  1  0  6  9  6  1  9  6  6  1  6  6  9  7  7  1  1\n",
            "  0  1  1  1  1  0  9  2  0  0  3 11  1  0  9  0  1  0  1  9  1  4  9  1\n",
            "  0  0  0  9  0  4  0  0  0  0  0  1  1  1  0  1  6  1  0  1  0  6  0  1\n",
            "  0  1 11  1  1  9  1  1  1 11  1  3  1  1  0  1  1  9  2  2  1  9  1  0\n",
            "  2  5  7  1  1  9  2  1  2  0  1  1  7  4  4  1  1  0  6  3  9  9  2  1\n",
            "  1  1  1  1  3  9  3  1  7  4  6  0  1  1  1  1  1  3  9  9  9  0  9  9\n",
            "  0  2  7  2  7  6  1  7  4  6  0  1  0  6  1  0  9  9  4  4  9  2  0  1\n",
            "  1  0  0  1  0  1  1  9  1  7  7  0  0  9  0  8  1  1  1  1  1  1  1  7\n",
            "  7  8  1  8  8  7  8  4  8  8  1  0  0  1  1  5  9  1  1  7  5  1  2  7\n",
            "  1  0  1  7  9  3  7  3  4  3  5  1  2  1  5  0  9  5  0  1  1  1  1  0\n",
            "  1  8  9  0  9  0  0  9  1  0  2  1  8  0  0  1  0  0  0  3  0  0  7  2\n",
            "  1  7  0  1  1  7  7  0  7  5  0  2  1  9  1  9  4  7  0 10  7  1  0  9\n",
            "  1  7  0  0  0  1  1  5  7  0  1  9  5 10  1  9  9  2  7  2  0  0  7  0\n",
            "  0  1  1  1  7  1  1  7  2  1  1  5  9  1  1  0  2  7  9  9  7  1  9  9\n",
            "  1  1  9  8  7  8 10  1  4  1  7  0 10  0  4  1  7  1  9  9  0  0  1  9\n",
            "  0  0  0  9  3  1  7 10  3  0  6  1  9  0  0  1  7  1  1 10  1  1  4  3\n",
            "  1  1  0  0  1  0  1  4  7  9  6  1  0  1  0  0  9  1  0 10  1  1  1  1\n",
            "  1  9  1  1  0  9  0  1  1  1  3  0  9  1  7  9  0 10  1  4  1  1  1  4\n",
            "  1  0  4  2  1  0  1  0  9  1  2  6  9  0  9  1  0 11  0  0  0  2  1  9\n",
            "  4  1 10  1  2  0 11  1  7  0  9  2  9  0  0  6  0  1  2  0  2  6  7  1\n",
            "  1  7  1  3  4  1  9  0  9  3  2  3 11  0  1  1  1  4  2  9  0  7  9  1\n",
            "  4  0  1  2  1 10  0  0  0  7  1  0  0  9  4  0  1  1  7  2  0  1  7  9\n",
            "  0  0  1  0  1  0  1  1  0  7  1  0  0  7  1  0  4  1  1  9  1  1  1  1\n",
            "  0  0  1  0  1  4  9  1  0  4  1  1  0  9  2  4  0  1  7  7  1  0  0  7\n",
            "  6  1  9  8  1  1  0  5  1  6  4  2  1  7  9  0  6  1  3  1 10  7  1  1\n",
            "  4  0  5  9  7  4  1  1  0  1  6  0  0  0  1  1  3  1  7  2  1  9  5  1\n",
            "  0  0  1  1  9  1  5  0  0  0  6  9  3 10  1  0  1  7  1  1  4  0  7  9\n",
            "  1  0  4  5  1  1  0  0  1  9  1  1  0  5  9  9  3  1  1  3  1  7  9  1\n",
            "  0  1  1  1 10  4  0  0  0  1  1  9  9  7  1  7  1  0  1  0  7  1  3  1\n",
            "  3  1  1  9  7  0  1  4  1  1  1  0  7  3  1  0  4 10  0  1  9  0  8  2\n",
            "  1  2  9  1  7  0  9  1  7  0  0  1  9  1  2  1  0  0  6  1  0  1  1  1\n",
            "  0  1  1  1  1  4  0  1  9  0  4  1  1  1  1  9  1  7  1  1  1  1  0  1\n",
            "  7  1  1  1  5  9  4  1  1  1  0  1  0  0  9  0  9  4  0  9  1  1  9  7\n",
            "  1  5  3  0  1  1  1  4  1  1  1  6  1  1  1  7  0  9  0  1  1  9  9  7\n",
            "  3  9  1  7  1  1  1  5  2  1  6  1  0  7  1  0  6  2  0  4  9  1  1  1\n",
            "  5  1  1  1  2  0  9  1  9  7  2  0  0  0  0  2  1  1  0  7  7  1  1  4\n",
            "  2  0  0  7  1  1  0  0  1  7  0 10  1  7  9  1  0  4  9  0  1  0 10  7\n",
            "  9  0  1  1  1  7  9  5  0  1  3  0  1  0  4  3  0  8  0  1  1  1  7  0\n",
            "  1  9  9  0  1  1  0  1  1  9  9  4  4  3  0  3  0  1  9  7  9  1  0  7\n",
            "  7  1  0  4  7  0  9  9  1  9  4  1  2  7  0  0  4  0  1  4  3  9  1  9\n",
            " 10  3  0  9  1  1  0  3  0  0  1  1  0  3  2  4 10  9  7  0  0  1  1  9\n",
            "  2  0  4  7  7  0  0  1  2  9  1  0  1  1  1  0  7  4  2  1  1  0  1  4\n",
            "  1  1  4  7  1  4  1  9  1  4  1  0  1  1  1  1  0  1 10  9  9  1  1 11\n",
            "  3  9  0  1  1  5  0  4  5  0  9  0  0  0  1  1  0  1  1 10  1  1  0  1\n",
            "  0 10  1  9  7  1  1  7  1  0  1  7  0  2  4  1  0  5  4  0  6  1  7  0\n",
            "  8  1  0  1  6  0  0  9  1  3  9  6  2  1  1  9  0  1  1  1  0  9  1  3\n",
            "  1  1  1  1  1  1  1  9  7  1  1  2  1  6  1  9  1  4  0  7  7 10  9  0\n",
            "  0  9  4  9 11 11  1  4  4  1  7  1  4  9  5  0  5  1  0  5  9  0  9  0\n",
            "  9  9  1  1  1  0  7  1  6  0  1  7  1  1  7  1  1  9  1  0  0  1  0  0\n",
            "  9  1  9  1  1  1  0  7  7  1  0  0 10  7 10  4  7  5  1  5  0  1  5  0\n",
            "  9  9  3  0  1  1  6  9  3  0  0  0  1  7  0  0  7  5  7  4  1  7  1  9\n",
            "  4  1  7  1  1  1  9  0  1  6  7  1  1  7  7  2  7  1  1  0  9  5  1  3\n",
            "  1  0  1  7 10  0  9  7  3  9  1  0  1  0  1  1  1  0  9  4  9  9  8  0\n",
            "  1  1  2  0  1  4  9  0  0  1  9  0  1  0  9  4  0  0  9  9  9  1  0  9\n",
            "  0  4  7  9  0  4  0  4  9  7  1  1  0  2  6  0  0  0  1  9  0  7  1  0\n",
            "  4  5  9  9  4  0  0  0  1  6  0  1  1  4  0  0  1  0  1  8  1  0  9  1\n",
            "  2  0  1  1  0  9  1  2  9  1  7  1  7  7  9  1  1  2 10  1  1  1  1  1\n",
            "  6  3  9  7  7  6  7  7  6  1  1  0  1  1  7  0  0  0  0  0  9  7  1  7\n",
            "  8  0  8  1  9  8  1  1  1  1  9  2  9  9  9  9  6  6  0  1  9  9  9  1\n",
            "  0  0  1  2  0  1  2  4  1  1  1  0  1  4 10  1  0 10  9  1  3  9  1  2\n",
            "  1  1  1  0  1  1  1  0  5  0  0  9  0  0  1  0  0  0  9 10  3  3 10  4\n",
            "  4 10  2  2  1  4  4  1  3  2  5  5  5  9  0  0  6  8  8  8  0  7  0  7\n",
            "  0  1  9  7  0  1  7  8  9  9  9  0  6  7  2  0  0  7  9  1  1  9  7  1\n",
            "  4  7  1  1  0  1  3  0  1  2 10  9  1  1  9  4  9  0  2  4  1  3  1 10\n",
            "  3  3  0  9  4  3  3  0  0  7  6  7  0  1  9  0  9  1  4  1  1  0 10  1\n",
            "  1  0  1  9  0  2  7  1  6  1  0 10  1  1  1  1  1  0  1  0  9  1  9  1\n",
            "  1 11  1  1  0  0  0  6  1  1  5  1  0  1  4  0  9  2  6  9  0  9  7  7\n",
            "  9  9  7  9  0  0  1  1  1  2  0  9  2  7  9  9  0 10 10  0  0  0  0  1\n",
            "  9  6  0  0  9  9  7  0  1  1  1  3  0  0  1  7  1  0  7  7  7  0  1  9\n",
            "  7  7  1  6  1  9  3  1  1  4  1  9  0  9  4  2  2  6  3  0  7  0  0  9\n",
            "  0  9  9  0  7  0  9  1  1  1  0  0  0  0  1  0  0  0  1  1  1  0  1  7\n",
            "  0  4  4  1  4  5  0  0  0  9  0  6  1  9  2  9  7  1  4  1  1  1  1  1\n",
            "  9  1  0  1  0  9  1  1  1  6  0  0  7  1  1  7  1  0 10  7  1  9  7  1\n",
            "  1  1  1  1  0  0  0  7  7  0  6  7  7  5  7  0  1  0  7  1  1  1  0  4\n",
            "  0  0  1  1  1  1  1  0  0 10  1  1  9  4  7  9  3  9  7  0  3  2  2  2\n",
            "  2  0  1  1  3  1 10  7  7  0  0  7  7  1  1  9  0  7  5  4  9  1  1  1\n",
            "  0  0  7  0  9  1  0  1  9  4  0  0  0  0  1  9  6  9  0  0  1  2  7  0\n",
            "  9  4  4  2  2  1  0  0  8  2  1  9  2  9  0  0  9  4  0  9  9  6  9  1\n",
            "  1  3  0  9  6  9  1  0  0  6  9  7  0  5  1  7  3  1  0  1  7  0  0  7\n",
            "  2  7  9  7  9  9  1  3  7  1  7  0  7  0  1  1  1  2  0  6  1  1  9  2\n",
            "  0  0  0  0  1  1  9  9  9  8  0  1  1  0  1  1  1  1  0  6  9  4  9  1\n",
            "  1  0  1  1  9  0  9  1  1  1  7  1  7  0  7  7  1  3  0  5  8  2  1  7\n",
            "  1  1  5  1  0  7  1  9  1  9  8  1  1  1  4  1  1  0  4  0  7  1  9  6\n",
            "  0  0  0  6  1  9  9  1  2  9  1  7  9  0  9  0  6  9  1  1  0  4  1  9\n",
            "  4  9  1  1  1  6  1  4  4  1  9  0  1  1  0  0  4  1  7  1  1  1  0  9\n",
            "  1  1  0  0  1  4  2  1  2  2  0  1  0  1  0  6  1  1  0  1  1  0  4  1\n",
            "  7  1  1  0  0  9  1  7  0  0  2  7  1  1  1  7  9  0  0  0  7  7  7  0\n",
            "  9  4  3  1  0  0  1  1  9  1  1  0  0  1  1  1  0  1  0  7  0  8  9  0\n",
            "  9  9  9  0  6  1  9  1  1  2  1  0  9  0  0  6  0  6  1  9  0  0  1  9\n",
            "  1  7  1  0  7  2  8  0  6  1  1  9  7  1  7  3  2  3  7  1  3  7  1  2\n",
            "  1  0  1  9  1  1  7  0  1  2  1  0  0  0  1  0  1  1  1  4  1  1  1  0\n",
            "  1  0  0  1  9  7  7  0  9  9  1  0  9  1  7  0  0  7  1  5  3  1  3  1\n",
            "  1  1  1  7  1  1  7  4  7  0  0  9  0  0  4  4  9  1  9  0  0  1  2  7\n",
            "  0  7  0  0  7  7  0  7  9  7  0  7  2  0  2  0  1  7  0  0  7  0  1  1\n",
            "  9  4  9  7 10  0  0  0  1  7  8  4  1  1  0  0  1  1  0  1  1  0  1  0\n",
            "  1  0  9  1  4  1  0  1  3  1  0  1  0  1  9  4  2  0  3  7  1  9  0  0\n",
            "  0  7  3  0  1  0  9  1  9  0  0  1  4  0  0  1  1  5  7  1  1  1  0  0\n",
            "  7  9  1  0  5  4  7  5  0  0  0  1  1  1 10  9  7  5  3  0  0  1  9  7\n",
            "  0  0  1  1  1  3  0  9  1  2  0  9  6  5  1  1  0  7  1  4  7  0  7  1\n",
            "  1  0  0  0  5  1  1  0  0  5  0  1  3  7  1  3  1  9  0  3  7  1  1  1\n",
            "  1  9  1  1  0  1  1  1  0  0  7  0  0  9  5  5  7  5  9  0  0  5  1  7\n",
            "  7  7  7  9  7  1  7  1  1  1  8  6  1  1  0  1  1  1  7  1  1  0  0  0\n",
            "  1  1  1  0  4  1  0  0  0  1  1  3  5  1  1  0  0 10 10 10 10  1  4  6\n",
            "  9  9  1  0  0  7  0  4  1  7  7  9  0  1  9  0  0  5  1  5  5  1  7  5\n",
            "  5  7  1  9  1  0  0  1  9  6  2  1  9  7  0  7  2  5  1  6  6  2  1  0\n",
            "  9  0  1  0  2  0  7  1  4  4 10  2  9  0  1  5  2  9  0  1  0  6  1  1\n",
            "  9  5  7 10  0  1  2 10  9  0  1  0  0  1  1  1  0  3  3  9  1  0  0  0\n",
            "  0  0  0  8  9  0  9  4  2  1  9  7  1  0  0  1  7  0  7  0  3  1  2  2\n",
            "  7  1  1  1  1  7  1  0  5  4  5  4  4  3  0  1  9  1  1  0  1  3  9  0\n",
            "  7  7  7  9  2  6  0  1  1  1  1  1  5  9  5  7  1  4  1  1  1  7  1  2\n",
            "  1  6  1  7  7  1  1  4 11  4  1  0  1  1  1  3  0  1  7  0  0  0  7  6\n",
            "  1  7  1  0  0  4  9  1  1  7  1  7  8  9  2  3  3  1  1  1  1  2  9  1\n",
            "  1  1  7  1  0  1  0  4  1  9  1  4  7  0  1  1  7  1  1  7  5  2  2  0\n",
            "  1  7  7  1  1  3  1  0  1  0  1  4  1  7  3  9  1  7  2  2  2  6  5  0\n",
            "  1  7  7  1  0  0  0  0  0  0  5  0  4  0  1  1  0  0  7  9  0  7  1  1\n",
            "  1  9  1  9  0  0  0  5  0  1  1  2  0  1  5  7  9  1  4  1  9  0  0  1\n",
            "  0  1  1  9  0  0  1  1  9  1  7 10  7  4  9  4  1  7  7  1  0 10  1  7\n",
            "  7  7  7  9  1  1  3  9  7  1  0 11  0  1  1  1  1  7  4  1  1  0  0  2\n",
            "  1  9  0  3  7  1  7  0  7  1  1  0  4  7  9  1  1  9  2  1  0  1  6  1\n",
            "  7  7  1  0  1 10  1  4  1  0  0  7  7  4  8  0  9  2  2  0  0  7  5  0\n",
            "  2  0 10  5  1  7  0  5  0  9  4  0  6  4  0  0  9  1  3  4  1  4  7  1\n",
            "  1  1  6  6  1  9  0 11  1  9  1  0  1  9  2  7  1  1  1  0  6  1  1  5\n",
            "  0  9  7  7  0  1  0  0  0  0  1  7  9  7  9  7  9  7  9  4  9  2 11  9\n",
            "  1  5  0  9  1  7  4  6  1  2  7  0  9  0  1  4  1  7  1  0  4  9  0  1\n",
            "  2  9  0  1  1  7  9  9  0  0  1  1  9  4  1  1  9  1 11  0  6  1  6  6\n",
            "  0  9  9  0  9  0  3  4  7  0  0  2  0  7  0  7  1  4  1  5  1  0  9  7\n",
            "  1  1  0  7  7  1  9  0  7  1  7  0  1  4  3  7  3  2  0  1  1  0  7  1\n",
            "  6  0  6  9  0  1  2  7  7  1  4  1  0  1  1  9  9  1  6  0  9  0  1  7\n",
            "  0  7  1  9  0  5  1  1  7  2  9  9  0  1  5  1  7  9  2  2  7  9  7  7\n",
            "  3  1  1  1  7  9  7  7  0  4  0  0  7  1  7  0  1  9  0  9  9  0  2  4\n",
            "  9  2  2  1  2  2  1  1  3  9  9  1  1  0  7  1  8  4  2  1  2  1  7  7\n",
            "  9  9  4  9  6  7  6  7  9  9  7  7  1  1  0  9  2  9  1  9  9  1  9  0\n",
            "  9  2  1  0  0  7  9  5  9  7  7  6  9  9  9  7  9  1  0  9  4  1  7  0\n",
            "  9  9  4  1  7  0  6  1  9  1  1  3  7  1  7  0  9  0  6  0  1  1  2  3\n",
            "  7  1  0  7  1  1  9  9  9  1  1  2  1  1 11  7  1  5  9  0  1  1  1  1\n",
            " 10  0  4  1  9  1  1  1  4  2  7  2  1  4  0  4  0  0  7  0  6  0  5  0\n",
            "  0  1 11  2  4  9 10  9  9 11  1  5  1  1  0  4  7  9 11  9  1  9  1  4\n",
            "  9  1  7  4  1  9  1  1  1 10  1  1  9  0 10  2  4  2  9  1  9  1 10  1\n",
            "  4  0  1  9  0  1  0  1  7  2  7  1  1  5  7  2  0  5  0  0  1  1  4  9\n",
            "  4  2  1  1  4  3  1  9  1  9  1  4  9  9  9  7  0  1  0  0 10  2  0 10\n",
            "  7  9 10  9  5  9  9 11  6  9  1  4 10  1  9  9  6  3 10  0  1  9  9  0\n",
            "  0  1  0  1  1  0  9  2  5  0  0  1  9  4  9  9  1  0  2  9  2  7  7  9\n",
            "  7  9  0  0  0  5  0  0  1  2  7  0  0  4  1  9  4  9  1  9  0  1  6  0\n",
            "  1  0  5  1  0  0  1 10  1  0  9  1  1  9  1  1  1  0  9  1  9  7  9  0\n",
            "  1  0  0  0  5  1  9  0  0  5  0  7  6  5  9  9  0  0  1  0  6  1  7  9\n",
            "  1  0  9  9  1  1  9  0  4  0  0  9  1  0  1  0  1  5  5  5  1  0  9  1\n",
            "  0  0  1  1  1  2 10  1  9  5  0  9  0  0  5  9  1  6  9  5  9  5  1  3\n",
            "  1  9  0  0  0  7  9  9  1  0  0  9  5  4  1  0  9  5  1  1  0  5  0  1\n",
            "  5  1  0 10  9  9  7  1  0  5  5  1  0  6  4  1  7  4  9  0 10  1  9  0\n",
            "  9  1  0  7  2  2  3  9  0  0  0  2  5  9  7  0  9 11  7  9  7  7  7  1\n",
            "  0  9  2  5  6  9  0  0  9  7  8  5  1  0  0 10  4  0  7  7  2  9  0  0\n",
            "  2  1  5  5  5  1  0 10  6  7  0  8  1  0  0  9  0  0  0 10  1  4  4  9\n",
            "  1  1  1  0  0  9  9  0  1  0  5  1  1  9  9  1  0  0  0  4  9 11  1  7\n",
            "  1  0 11  3  9  1  2  2  0  6  1  4  9  0  8  9 11  0  9  7  7  0  4  4\n",
            "  7  5  0  1  0  0  0  1  0  0  0  1  4  9  6  1  9  7  1  1  5  1  9  7\n",
            "  4  1  0  7  7  4  0  0  4  7  7  0  4  5  7  7  4  0  9  9  5  4  5  0\n",
            "  0  0  9  5  9  9  1  4  9  6  1  3  7  1  1  0  1  0  4  7  6 11  0  3\n",
            "  5  4  0  1  3  4  3  4  6  0  4  4  0  0  6  7  4 11  1  4  7  5  0 10\n",
            "  3  7  0  1 11  7  0  6  0  7  1  0  7  0  3  0  7  7 11  7  0  0  2  0\n",
            "  1  0  0  1  9  0  0  1  0  1  0  0  7  4  5  9  6  0  4  7  0  9  1  1\n",
            "  0  7  1  0  0  9  6  0  7 10  0  4  1  9  7 10  0  1  1  1  6  1  1  7\n",
            "  0  9  1  1  0  9  1  3  0  7  9  1  0  6  0  6  4  7  9  6  4  9 10  3\n",
            "  1  7  0  4  7  1  0  0 10 11  7  0  4  6  0  0  6  0  3  4  1  7  0  0\n",
            "  9  0  0  0  6  0  9  5  0  0  9  0  1  7  4  3  6  9  0  0  0  0  0  8\n",
            " 10  7  1  7  4  9  3  0  7 10  5  3  1  0  0  1  7  0  0  1  1  3  6  4\n",
            "  4  1  6  9  5  5  0  5  8  5  2  9  3  3  7 10  9  0  5  2  0  9  0  6\n",
            "  7  6  9  7  0  6  0  9  5  1  3  0 11  1  0  0  6  9  3  4 10  5  1  0\n",
            "  1  7  5  1  3  0  3  0  9  5  0  9  3  0  9  1  3  5  1  1  5  6  2  9\n",
            "  9  0  1  6  1  9  0  0  9 10  0  7  0  9  0  0  9  9  4  1  7  1  0  7\n",
            "  0  0  4  0  3  2 11  5  0  7  5  1  4  9  0  1  4  0  4  1  9  0  6  2\n",
            "  0  3  4  1  5  7  5  7  7  1  7  0  3  2  1  9  5  9  3  3  7  5  0  5\n",
            "  0  9  2  7  0 11  7  0  7  0 11  9  7  1  0  0  0  7  0  0  0  3  3  0\n",
            "  0  0  7  0  9  0  0  0  9  4  1  7  0  1  1  1  9  1  9  0  9  3  7  7\n",
            "  0  3  5  0  7  6  0  3  0  3  0  0  7  9  0  9  5 10  9  0  5  5  9  7\n",
            "  0  0  1  0  0  3  5  9  3  3  1  7  0  8  1 11  3  0  8  2  2  0  0  0\n",
            "  9  0  9  1  0  5  1 10 10  1  1  0  8  9  0 10  2  0  6 10  1  0  3  1\n",
            "  0  1  0  3  0  0  3  7  7  0  9  5  1  9  0  0  3  0  9  4  1  9  7  9\n",
            "  3  3  5  5  0  7  0  1  0  1  3  0  7  0  9  0  0  2  0  0  9  3 10  7\n",
            "  5  9  7  1  0  0  9  0  2  9  7  7  2  1  0  9  1  3  5  4  5  0  0  3\n",
            " 10  1  3  7  0  0  3  5  0  3  3  1  0  4 11  3  0  0  0  9  1  9  0  0\n",
            "  1  7  1  0  5  4  0  0  3  0  7  1  2  0  0  9  2  7  7  7  4  0  3  3\n",
            "  1  1  3  4  0  3  7  0  1 10  9  0  7  0  5  0  0  7  0  7  0  0  0  7\n",
            "  8  5  5  7  0  9  7  7  9  0  9  9  7  0  7  3  2  7  7  0  9  7  0  7\n",
            "  1  7  2  1  2  7 11  1  0  7  4  6  0 11  2  4  0  6  1  0  0  2  0  2\n",
            "  7  6  0  9  0  0  9  0  9  3  9  0  0  9  9  1  1  9  1  7 10  1  4  1\n",
            "  1  1  1 10 10  0  7 10 11  3  0  4  6  0  6  0  1  0  0  3  1  0  7  8\n",
            "  9  1  0  7  7  9  1  9  7  0  1  9  4  1  1  8  7  3  1  8  0  9  1  7\n",
            "  8  9  3  0  7  2  1  0  6  9  7  0  9  1  7  0  0  0  0  7  6  6  0  6\n",
            "  7  1  1  0  9  9  6  1  4  0  3  1  0  1  1  0  1  2  6  8  7  0  9  9\n",
            "  0  7  0  9  7  0 10  0  0  1  9  0  4  0  0  0  0  9  9 10  1  0  3  5\n",
            "  0  5 10  0  7  1  0  1  6  9  4  4  6  9  6  0  6  7  7  0  9  4  0  5\n",
            "  1  4  7  9  2  0  8  0  7  0  9  0  3  1  9  0  0  0  7  0  0  7  7  6\n",
            " 10  6  0  9 11  9  4  0  9  9  9  9  3  0  1  1  7 11  0  7  0  7  9  0\n",
            "  4  4  1  7  0  7  0  9 10  3  1  4  1  0  0  6  1  7  0  9  0  0  4  5\n",
            "  6  3  9  1  9  4  0  7  0  9  1 10  4  9  1  7  7  0  1  0  4  0  9  0\n",
            "  9  0  0  2  1  7  0  6  0  5  0  1  0  7 11  1  6  0  9  0  0  0  7 10\n",
            "  1  0  9  9  0  1  0  0  5  7  9  1  9  9  2  1  9  0  7  1  9  1  4  9\n",
            "  1  0  7  0  9  0  7  9  9  0  6  1  9  9  0  9  9  0  0  1  9  0  1  1\n",
            "  0  1 10  2  1  0  0  2  9  7  8  0  0  2  0  7  0  0  3  1  0  1  9  9\n",
            "  0  1  6  7  4  4  4  4  6  2  9  9  7  3  2  9  7  7  1  7  0  7  0  0\n",
            "  1  9  0  0  9  9  0  9  9  9  9  9  1  9  2 10  0  9  1  1  0  9  0  0\n",
            "  7  7  7  9  0  0  9  7  4  4  0  9  4  4  4  9  9  9  1  1  7  1  1  9\n",
            "  1  9  4  0  9 10  4 10  9  9  0  0  9  1  0  9  9  9  9  9  9  0  9  1\n",
            "  9  0  2  9  6  7  6  9  7  6  0  5  0  6  1  9  9  1 10  4  6  1  4  7\n",
            "  9  7  3  7  3  3  7  4  0  2  6  0  7  0  0  0  0  1  7  9  7 10  0  0\n",
            "  9  9  4  1  0  6  1  0  1  0  9  9  0  6  7  7  4 11  6  9  9  0  0  6\n",
            " 10 11 10  0  1  0  0  9  7  7  0  0  4  9  4  1  4  1  4  1  1  0  0 10\n",
            "  0  4  7  0  7  9  1  1  0  0  7  1  0  7  0  4  9  6  1  1  7  1  0  9\n",
            "  4  0  9  9  0  0  0  1  9  9  0  0  9  0  9  7  9  6  0  3  1  9  7  7\n",
            "  9  9  5  9  0  0  9 10  9  0  1  0  7  0  9  9  0  0  9  0  6  9  9  1\n",
            "  5  5  0  9  9  0 10  0  1  0  7  0  0  0  0  0  0  0  5  1  9  7  1  0\n",
            "  0  5  9  9  0  0  9  3  0  9  1  9  0  7  2  1  1  0  9  0  0  0  0  0\n",
            "  0  0  9  7  7  0  7  1  7  9  0  0  4  9  0  0  9  0  9  7  7  0  0  0\n",
            "  4  0  0  9  0  7  9  0  0  0  6  7  1  1  1  9  1  9  1  7  0  8  5  1\n",
            "  6  9  9  7  7  9  0  1  7  7  0  9  9  5  0  9  9  1  0  7  4  7  0  6\n",
            "  0  9  3  0  1  1  3  4  9  9  9  1  0  0  4  0  6  6  0  9  9  9  9 11\n",
            "  0  1  0  1  0  1  1  7  0  0  1  4  0  7  7  1  8  1  7  9  1  1  9  5\n",
            "  9  5  9  9  0  7  3  3  0  5  5  0  9  0  3  2  0  4  9  0  9  0  9  9\n",
            "  9 11  7  7  9  9  5  0 11  9  5  9  9  1  1  0  5  1  9  9  0  9  0  9\n",
            "  8  9  9 11 11  1  1  1  1  1  9  9 11  4  4  9  9  0  0  9  9  3  9  0\n",
            " 11  7  1  0  0  0  4  1  1  1  9  1  3  1  5  0  0 11  0 11  9  9  9  9\n",
            "  1  7  4  9  9  0  1  5  5  9  5  0  0  9  9  1  3  0  0  9  7  5  5  3\n",
            "  5 10  9  0 11  4  2  7  9  9  9  9  1  0  9  5  2  2  9  0  1  0  5 11\n",
            "  7  0  0  0  9  9  9  0  0  0  9  0  9  1  9  9  7  9  0  3  3  3  0  9\n",
            "  1  0  1  0  0  0  4  9  5  9  9  9  9  0  0  4  4  9  0  0  0  9  9  9\n",
            "  9  4  9  9  1  7  1  1  9  0  9  9  5  0  9  1  1  6  0  9  9  0  7  9\n",
            "  9  1  0  9  9  0  1  0 11 11  0  9  0  0  3  9  9  1  9  0  1  9  0  0\n",
            "  9  7  9  1  9  9  9  7  0  9  7  0  9  0  0  0  0  0  9  0 11  0  1  4\n",
            "  4  1  0  0  9  9  9  3 10  9 10  0  3  0  0  9  1  6  1  7  7  7  6  9\n",
            "  0  9  0  0  0  9  0  9  9  2  9 11  0  0  0  9  1  0  0  3  4  0  1  9\n",
            "  0  0  0  3  0  0  3  9  1  0  1  0  1  1  5  9  6  0  0  3  1  0  0  9\n",
            "  0  9  9  1  5  7  9  3  1  4  0  4  4  9  6  9  0  0  0  1  7  0  9  0\n",
            "  9  4  0  9  9  9  1  0  1  7  1  0  3  0  3  9 10  9  1  0  9  9  0  9\n",
            "  9  1  0  0  0 10  6  9  9  0  9  6  9  9  9  0  0  9  0  9  0  0  9  9\n",
            "  1  9  9  9  9  9  0  9  0  4  0  1  9  0  0  9  0  0  9  9  0 10  0  9\n",
            "  1  9  0  0  0  9  0  1  3 11  9  0  9  1  9  0  0  0  5  9  9  0  1  5\n",
            "  3  1 10  1  9  9  9  9  9  9  1  9  0  9  0  0  9  9  9  5  9  0  1  9\n",
            "  0  2  2  5  0  5  0  9  1  5  1  0  1  1  1  4  1  1  9  0  0  5  9  9\n",
            "  3  9  1  1  0  9  9  6  0  9  1  9  0  0  4 11  0  9  0  4  0  0  0  9\n",
            "  1  9  0  0  4  2  4  0  0  0  0  4  9  5  9  0  0  1  0  5  0  0  9  5\n",
            "  9  9  1  6  0  0  7  0  9  9  0  4  0  0  4  2  6  9  4  3  9  1  9  0\n",
            "  4  9  9  9 10  0  9  9  9  9  0  0  9  9  1  9  9  9  9  1  9  9  9  9\n",
            "  9  9  9  9  0  9  9  9  0  0  9  0  3  8  0  1  9  1  0  1  1  9  7  1\n",
            "  8  6  1  0  1  1  9  1  9  9  9  9  6  9  0  9  9  1  9  9  0  9  9  0\n",
            "  0  1  0  1  3  0  5  0  0  0  0  7  0  0  5  5  9  9  1  9  9  9  3  0\n",
            "  0  9  4  9  9  0  9  7  7  0  0  0  0  1  0  4  9  0  0  0  7  1  0  1\n",
            "  0  9  9  9  0 10  0 10  9  0  1  0  0  1  6  0  0  5  9  9  0  3  9  0\n",
            "  5  0  7  1  1  1  0  7  6  0  7  9  9  0  9  0  4  0  0  4  4  6  0  4\n",
            "  0  0  7  0  0  9  1  0  1  2  0  0  0  4  6  0  1  7 10  9  8  8  0  0\n",
            "  4  9 11  0  4  4  6  9  7  1  1  0  9  9  0  9  0  0  0  0  1  0  3  3\n",
            "  9  6  0  0  1  1  2  0  9  0  0  4  0  0  0  0  9  1  0  3  3  9  1  0\n",
            "  0  5  0  9  9  0  9  0  9  4  1  5  0  1  0  0  9  0  6  1  9 10  0  0\n",
            "  1  0  1  1 10  2  6  3  9  3 10  0  0  9  0  9  0  1  9  4  0  0  9  9\n",
            " 10  0  0  0  0  0  7  0  9  0  4  9  6  1  9  1  1  1  0  1  9  2  2  0\n",
            "  2  9  0  9  0  9  0  9  0  9  7  0  9 10  9 10  5  9  0  6  3  9  9  0\n",
            "  9  1  2  1  1  4  0  9  0  5  7  0  1  7  9  9  4  4  9  0  0  9  0  1\n",
            "  0  3  1  4  9  1  7  9  9  6  1  9  0  0  0  0  4  0  9  9  1  9  0  0\n",
            "  6  0  9  0  3  0  0  1  0  0  1  0  0  0  0  9  0  9  9  0  0  3  0  0\n",
            "  0  2  7  7  7  0  0  0  0  0  9  0  1  1  1  0  9  9  0  0  1  4  9  4\n",
            "  6  0  0  0  1  9  9  9  9  0  0  0  9  9  9  0  9  0  3  0  9  9  9  9\n",
            "  1  0  0  0  9  9  7  0  9  0  0  9  9  7  0  9  9  1  0  0  9  0  0  1\n",
            "  7  9  0  0  1  5  9  9  9  9  9  0  0  9  9  0  0  0  0  9  1  1  6  0\n",
            "  4  7  9  0  0  9  6  0  0  0  9  9  0  9  0  0  9  2  0  9  3  0  1  1\n",
            "  1  9  9  9  9  0  9  6  0  9  1  6  2  7 10  9  0  3  5  1  9  0  6  6\n",
            "  9  5  1  9  0  4  9  6  6  9  2  1  9  0  6  0  0  0  9  6  4  9  0  1\n",
            "  9  0  9  0  6  9  9  5  9  0  9  9  9  2  9  5  9  0  0  9  0  1  1  0\n",
            "  0  0  4  4  9  9  4  0  9  9  0  0  9  0  9  0  9  1  4 11  0  9  9  9\n",
            "  0  0  0  0  0  5  0  0  7  7  0  7  0  9  3  9 10  9  0  0  0  9  4  9\n",
            "  1  0  0  0  0  1  7  0  0  0  0  9  6  6  0  7  0  5  9  9  0  5  0  9\n",
            "  7  0  0  0  0  9  7  9  9  0  1  3  9  9  0  9  5  0  5  9  0  0  9  0\n",
            "  9  9  0  0  0  0  0  5  9  0  0  0  0  0  4  0  9  4  5  9  9  9  9  9\n",
            "  9  9  9  9  0  9  9  9  9  9  9  0  9  0  9  9  4  9  4  1  9  9  4  3\n",
            "  9  4  9  1  9  7  6  0  3  3  9  4  9  9  1  0  0  0  9  9  0  9  4  9\n",
            "  0  9  6  7  9  0  9  0  7  2  0  4  9  9  1  0  9  9  1  9  0  4  0  9\n",
            "  0  9  4  5  1  9  0  0  0 10  1  1  9  4  0  9  9  0  9  9  1  0 10  9\n",
            "  0  3  9  0  3  5  0  9  0  9  9  9  1  0  9  0  9  5  1  0  9  0  5  0\n",
            "  4  3  0  9  0  0  0  2  9  9  0  9  9  9  9  2  9  9  1  9  9  9  0  4\n",
            "  9  9  9  9  9  4  9  9  9  1  3  4  0  0  3  6  0  0  9  0  1  0  5  1\n",
            "  6  4  0  9  9  9  4  1  1  0  0  5  0  9  0  0  3  0  0  0  6  1  0  4\n",
            "  5  9  5  4  3  3  3  3  9  3  1  9  9  0  1  0  9  4  0  3  9  7  0  9\n",
            "  9  9 10  5  9  2  9  9  9  9  9  9  9  9  7  9  7  0  0  9  4  0  9  0\n",
            "  9  0  3  7  7  7  9 10  0  9  0  0  0  9  0  1  9  9  0  4  1  9  0  0\n",
            "  9  2  9  4 10  9  9  9  0  9  0  6  6  0  0  6 10  7  0  9  0  7  0  9\n",
            "  0  0  9  9  9  1  9  9  0  7  9  9  9  9  0  9  9  9  0  0  1  1  1  1\n",
            "  7  0  4  0  9  6  3  0  9  0  0  4  9  6  9  9  9  4  9  9  0  1  0  9\n",
            " 10  0  9  0  9  0  6  9  6  0  4  6  0  4  9  4  9  4  0  9  0  9  4  5\n",
            "  0  0  9  7  9  0  9  9  4  9  9  9  5  0  9  9  1  7  0  9  3  1  1  1\n",
            "  0  9  3  1  7  9  4  0  0  1  9  4  1  9  0  9  6  0  0  1  3  0  7  9\n",
            "  9  9  0  3  4  0  1  9  4  9  0  9  0  9  7  1  0  1  0  0  0  1  7  9\n",
            "  9  9  9  7  0  7  1  0  9  4  6  9  9  0  0  0  0  9  9  9  4  9  0  3\n",
            "  9  9  1  9  0  0  0  0  0  9  1  5  4  0  4  9  0  7  7  0  0  9  9  0\n",
            "  0  9  4  1  0  0  9  4  0  9  7  0  0  7  0  0  0  2  9  9  9  0  0  0\n",
            "  0  0  0  0 10  0 10  9  0  0  4  0  0  0  0  0  0  9  6  0  9  9  9  9\n",
            "  9  9  9  0  1  1  1  9  0  1  0  0  1  1  9  0  1  0  0  9  4  4  4  0\n",
            "  9  0  1  0  9  1  9  0  0  0  0  9  5  9  0  4  0  0  7  5  0  7  9  0\n",
            "  9  9  0  9  9  4  0  9  0  1  1  1  2  2  4  2  1 10  6  1  0  0  0  9\n",
            " 11  9  9  4  3  1  4  3  9  9  4  1  2  4  0  6  9  0  9  0  3  9  1  4\n",
            "  9  0  1  1  9  0  0  0  9  0  1  5  1  1  9  4  9  0  5  0  9  0  2  1\n",
            "  5  0  4  4  9  0  0  5  1  0  9  0  0  9  0  1  9  4  1  9  9  9  9  4\n",
            "  0  1  9  9  9  9  7  0  9  7  4  2  9  9  1  1  9  9  0  0  9  0  9  9\n",
            "  9  0  9  0  0  0 11  9  0  9  9  2  0  7  0  9  0  0  6  7  0  0  9  0\n",
            "  9  9  0  0  9  0  9  0  3  0  9  1  6  1  9  0  3  3  3  9  1  3  0  1\n",
            "  0  9  9  0  9  0  6  6  6  6  6  0  0  0  0  9  9  9  1  1  9  0  0  9\n",
            "  9  9  5  9  9  9  0  0  0  6  7  9  9  0  0  1  0  0  9  1  0  0  0  0\n",
            "  0  0  0  9  4  0  0  2  9  0  9  9  4  0  6  0  0  0  1  0  9  0  1  0\n",
            "  9  9  7  9  0  9  0  9  0  5  0  9  9  9  9  1  9  9  9  7  0  0  3  1\n",
            "  9  9  6  3  3  9  9  1  4  9  0  0  9  9  0  9  9  4  0  0  1  9  9  1\n",
            "  9  9  9  0  0  0  9  1  9  6  9  0  9  9  4  9  9  9  9  6  0  1  9  1\n",
            "  0  1  6  9  9  9  5  9  7  0  9  0  0  0  0  9  9  9  1  6  9  9  1  9\n",
            "  1  3  6  9  4  9  4  3  6  9  9  0  1  0  9  2  1 11  6  9  1  1  9  9\n",
            "  0  0  0  9  0 10  0  9  0  7  4  9  2  0  9  0  9  9  9  0  0  7  1  9\n",
            " 10  9  9  0  5  0  0  0  3  9  0  0  6  9  7  9  0  9  0  3  0  9  7  9\n",
            "  9  0  9  1  7  0  0  0  7  1  9 10  0  0  4  6  9  0  0  0  0  9  4  9\n",
            "  0  9  0  4  0  0  0  4  9  9  2  1 10  9  6  9  9  7  9  0  0  0  0  0\n",
            "  9  0  7  7  9  9  9  9  9  9  0  6  9  7  3  4  0  0  9  3  0  0  0  0\n",
            "  9  0  0  9  9  1  0  9  3  6  9  9  0  9  9  0  4  0  7  0  0  9  9  0\n",
            "  9  0 10  3  0  0  0  1  1  9  0  4  6  9  6  9  9  0  9  9  6  0  0  0\n",
            "  0  9  9  0  1  9  9  1  0  9  1  1  9  1  0  9  0  5  9  9  9  0  0  0\n",
            "  0 10 10  6  0  9  4  0  9  9  9  0  5  9  7  9  9  9  4  0  6  0  9  4\n",
            "  3  0  0  4  1  6  9  0  3  0  0  1  0  1  0  0  9  9  0 11  9  0  0  9\n",
            "  0  0  9  1  0  0  1  7  0  0  0  9  9  1  9  2  9  0  1  9  9  0  0  9\n",
            "  9  9  4  9  6  1  9  9  9  9  0  9  1  9  9  7  9  6  7  0  0  0  0  0\n",
            "  0  9  7  1  0  0  0  4  9  9  0  9 11  1  9  0  0  0  0  9 11  2  1  0\n",
            "  0  9  1  0  0  9  9  9  0  6  5  9  9  9  9  9  0  0  4  9  0  0  0  9\n",
            "  1  0  6  4  4  4  4  4  6  9  7  9  0  9  9  9  0  9  6  0  4  5  4  9\n",
            "  4  0  4  0  0  9  0  7  0  9  0 11  9  9  0  0  3  9  9  0  9  9  9  9\n",
            "  9  0  0  6  0  9  1  6  4  0  0  0  0  1  9  0  3  9  9  9  9  1  0  4\n",
            "  9  1  1  0  0  9  9  9  0  9  0  0  0  9  9  4  9  9  0  9  9  9  6  7\n",
            "  1  6  0  0  1  9  0  9  0  0  0  0  0  2  0  0  9  9  0  0  9  0  9  9\n",
            "  9  0  0  6 11  9  7  0  1  1  9  1  0  0  0  9  5  9  0  0  9  9  0  9\n",
            "  0  7  0  0  9  9  9  0 10  0  1  0  9  0  0  0  0  4  0  1 10 10  1  4\n",
            " 10  9 11  9  1  0  9  9  1  9  9  9  9  9  9  9  4  1  4  0  9  6  9  0\n",
            "  0  1  0  0  0  0  0  0  0  0  9  0  0  0  1  9  9  4  9  9  1  5  4  0\n",
            "  9  4  0  9  9  0  9  0  9  9  0  9 10  9  9  9  1  0  0  0  9 10  9  9\n",
            "  0  1  7  0  7  9  9  0  9  1  9  0  0  1  0  9  9  0  0  9  9  4  9  0\n",
            "  7  0  9  0  9 10  0  5  0  0  1  6  9  5  7  1  9  9  0  9  5  0  7  9\n",
            "  9  0  0  1  0  1  4  9  0  9  0  0  9  0  0  9  0  1  9  3  9  9  7  1\n",
            "  0  9  0  7  7  9  1  1  1  4  7  6  5  0  9  0  0  1  0  9  0  0  9  1\n",
            "  9  9  9  0  0  0  9  5  9  0  0  0  1  0  0  4  0  9  0  9  1  0  4  0\n",
            "  9  5  0  0  3  7  9  0  7  0 10  9  4  0  0  9  0  1  9  7  0  0  7  0\n",
            "  1  9  9  0  0  0  9  0  0  0  0  0  4  1  0  0  0  0  9  0  1  6  9  9\n",
            "  9  4  9  0  0  0  1  0  9  9  2  9  2  9  0  0  9  1  4  2  6  5  0  0\n",
            "  9  0  5  5  0  3  1  0  1  9  0  1  0  9  1  3  9  0  0  1  1  9  0  0\n",
            "  9  9  0  0  1  1  1  0  9  0  4  4  0  4  4  9  9  0  7  0  1  9  0  4\n",
            "  0  5  0  0  9  0  9  9  1  4  7  0  7  4  9  0  9  9  9 10  9  9  9  9\n",
            "  0  9  9  4  0  4  9  9  0  1  0  0  9  9  0  9  9  0  0  9  0  0  9  9\n",
            "  9  9  4  0  4  0  4  4  9  9  0  4  3  0  9  9  0  7  0  0  9  9  9  0\n",
            "  0  9  1  1  9  9  1  0  9  9  0  9  9  9  9  9  9  0  0  9  9  2  0  0\n",
            "  0  0  1  9  0  0  1  0  3  5  1  6  9  6  9  7  0  0  4  3  5  0  0  9\n",
            "  1  9 10  0  9  6  9  0  0  9  5  9  9  5 10  9  7  9  0  7  9  0  3  0\n",
            "  0  0  7  0  7  0  0  7  0  0  6  0  9  9  0  9  0  3  0 10  9  9  0  5\n",
            "  0  6  0  3  7  9  1  9  5  9  9  0  0  1  5  1  0  0  9  9  0  3  9  9\n",
            "  6  9 11  6  7  0  7  0  7  9  1  1  9  1  6  7  9  9  1  9  1  1  1  9\n",
            "  6  9  6  9  0  7  0  0  3  0  3  9  9  9  6  9  0  0  0  0  0  0  0  0\n",
            "  0  0  7  9  0  0  0  5  0  0  9  9  9  9  9  7  7  0  4  9  9  9  9  7\n",
            "  0  1  1  0  3  7  3  6  0  0  0  0  5  0  0  2  1  9  9  9  9  9  9  1\n",
            "  7  9  7  0  0  0  3  3  0  3  4  3 10  6  0  6  1  6  0  5  7  1  1  0\n",
            "  0  3  0  3  5  9  0  4  9  4  0  9  0  9  9  6  0  0  9  9  3  9  1  6\n",
            "  5  1  0  0  0  9  0  7  0  3  6  9  4  9  0  0  3  7  0  9  0  0  0  1\n",
            "  0  1  9  0  7  1  9  9  0  0  0  3  9  9 10  0  0  0  6  0  1  9  9  0\n",
            "  9  9  9  3  9  9  1  1  9  7  9  9  9  0  9  9  9  1  9  1  7  9  3  9\n",
            "  9  9  7  1  0  0  4  9  9  1  1  7  9  1  7  9  1  9  1  4  0  9  9  0\n",
            "  9  9  9  1  9  9  1  6  0  0  5  9  0  0  0  7  4  0  0  1  9  0  3  0\n",
            "  3  3  9  9  1  9  9  5  0  5  0  0  0  9  9  9  9  0  1  9  0  5  9  9\n",
            "  9  0  9  3  5  1  7  7  1  9  1  9  6  1  0  0  0  6  9  0  7  9  0  0\n",
            "  9  0  5  0  0  0  9  9  6  0  7  9  9  0  7  7  7  0  6  3  3  0  0  3\n",
            "  0  0  1  0  1  0  1  0  0  0  0  0  0  0  7  1  7  6  9  9 10  1  0  0\n",
            "  7  0  5  9  1  6  0  6  9  9  9  0  4  5  5  9  1  0  1  0 10 10  7  7\n",
            "  9  0  1  1  1  5  1  5  9  6  1  9  9  9  0  0  0  0  6  9  1  9  1  3\n",
            "  1 10  9  9  0  9  9  0  9  0  9  9  0  9  0  1  0  5  1  9  9  0  9  9\n",
            "  1  9  9  9  9  3  9  9  0  5  7  9 10  1  0  9  0  9  7  0  9  9  0  1\n",
            "  9  0  9  9  7  0  7  1  0  4  6  1  0  0  5  0 10  4  9  1  0  0  9  9\n",
            "  9  0  0  7  9  0  9  9  9  9  9  9  9  1  9  9  9  0  1  0  0  0  0  0\n",
            "  4  4  5  6  0  9  0  0  5  4  9  1  1  9  4  0  0 10  9  4  2  6  0  6\n",
            "  4  9  6  9  9  3  3  4  3  9  1  9  0  4  9  0  0  0  0  9  9  9  0  9\n",
            "  2  9  9  0  0  9  3  9  0  0  1  9  0  9  1  0  0  9  0  4  0  9  9  0\n",
            " 10  9  4  7  6  3  0  1  9  3  3  6  0  0  4  9  1  1  9  9  0  9  9  0\n",
            "  9  0  0  0  0  9  3  7  0  9  4  7  3  9  3  1  1  0  7  9  3  9  1  1\n",
            "  4  0  0  9  0  9  9  4  4  9  0  9  0  0  9  6  1  0  0  0  0  0  0  9\n",
            "  9  6  9  1  0  9  0  0  0  9  9  5  4  3  9  9  0  0  7  0  0  0  1  1\n",
            "  9  4  6  9  0  3  3  5  1  0  6  1  1  0 10  5  9  0  7  9  0  1  4  3\n",
            "  9  0  1  4  4  0  1  4 10  3  7  1  9  9  0  0  4  0  3  0  0  9  0  9\n",
            "  0  5  4  1  1  0  1  0  3  3  7  1  5  9  7  0  9  0  9  3  3  5  9  9\n",
            "  0  7  1  1  1  0  6  0  9  0  1  0  0  0  9  6  7  4  9  0  4  1  7  1\n",
            "  2  3  0  7  3  9  6  5  9  9  1  4  9  1  1  9  0  9  4  1  9  0  3  0\n",
            "  4  9  5  0  1  7  9  6  9  0  9  4  1  3  0  3  0  9  0  7  1  9  7  1\n",
            "  1  1  1  0  7  9  6  1  9  0  4  1  1  1  9  7  9  9  0  9  3  4  0  9\n",
            "  4  0  4  1  1  9  9  9  9  5  9  4  9  1  0  0 11  5  1  5  9  1  4  0\n",
            "  6  0  0  5  0  0  3  5  9  9  5  0  0  0  7  0  9  7  0  9  4  9  1  6\n",
            "  0  0  9  9  3  9  4 11  5  0  0  0  0  0  0  5  4  3  9  3  6  0  7  0\n",
            "  1  7  6  9  0  0  9  0  3  1  7  9  0  0  9  4  5  0  6  0  6  1  0  9\n",
            "  3  9  0  9  1  3  9  9  0  9  9  6  0  9  0  9  9  1  0  4  4  9  9  4\n",
            "  9  9  6  9  6  0  0  0  0  0  0  3  1  4  0  9  9  9  3  6  9  9  4  9\n",
            "  0  0  9  9  9 11  9  0  1 11  9  9  9  9  9  0  9  9  4  9  4  0  9  0\n",
            "  0  0  0  7  3  9  9  9  5  0 10  9  1  1  7  9  7  3  1  6  1  9  9  9\n",
            "  9  0  9  6  0  9  0  7  0  9  9  9  9  7  5  4  0  0  9  1  4  0  5  9\n",
            "  7  9  0  9  9  9  0  9  9 11 10  0  6  1  1  9  0  0  9  3 10  9  7  1\n",
            " 11  9  9  3  1  0  0  0  9  9  4  0  0  0  0  2  0  0  9  1  9  4  9  2\n",
            "  9  9 11  0  4  7  0  1  0  7  9  4  4  1  9  0  0  9  7  1  7  0  0  0\n",
            "  1  0  0  5  0  7  6  0  3  7  0  5  1  9  1  3  9  4  9  9  1  0  0  0\n",
            "  1  0  3  0  0  0  0  0  9  9  9  9  1  9  0  9  5 11 11  9  0  2  5  0\n",
            "  9  9  4  9  0  9  1  1  5  5 11  4  9  0  0  0  5  1  1  0  9  0  9  9\n",
            "  0  9  9  3  5  5  9  0  5  0  7  0  9  0  0  9  9  0  6  9  0  1  1  4\n",
            "  9  0  9  4  9  9  0  9  0  0  9  9  0  1  5 11  0  0  5  1  1  5  1  0\n",
            "  0  0  0  0  9  0  9 11  9  0  6  3  0  4  5  9  9  9  9  9  9  0  0  9\n",
            "  9  0  0  9  9  0  9  0  4  0  9  0  3  9  5  9  9  5  9  0  9  9  9  9\n",
            "  0 11  4  0  9  9  9 10  0  0  0  9  0  0  9  9  9  0  0  9  7  4  9  6\n",
            "  6  0  0  9  9 10  3 10  9  9  9  0  5  9  0  0  9  0  0  0 11  9 10  9\n",
            "  9  4  9  0  0  4  0  0  9 10  3  0  0  9  0  0  0  9  9  9  9  0  0  0\n",
            "  0  9  9  9  7  0  9  9  9  9  6  9  0  0  9  9  9  9  9  9  6  0  0  7\n",
            "  0  9  4  0  9  0  0  9  9  7  0  0  0  9  9 10  9  0  9  9  9  0  0  0\n",
            "  0  9  9  9  0  0  0  9  9  0  0  4  0  4  7  0 10  0  0  9  0  0  0  9\n",
            "  0  5  7  9  0  0  3  9  0  0  7 11  9  7  9  9  0  9  0 10  0  3  0  0\n",
            "  9  9  4  0  0  7  0  0  6  0  0  0  0  9  9  9  9  9  0  9  9  0  9  0\n",
            "  9  4  0  4  9  9  0  0  9  5 11  9  0 10  7  3  9  0  0  0  3 10  9  0\n",
            "  3  0  4  9  4  9  0  0  9  4  6  0  6  0  5  9  0  0  0  5  0  0  0 11\n",
            "  9  0  9  0  3  0  4  4  9  0  9  0  9  1  0  1  9  4  9  9  0  0  0  9\n",
            "  9  0  7  9  1  9  9  9  9 11  9  1  0  7  9  9  9  9  6  6  0  0  4  9\n",
            "  9  0  0  0  0  9  0  4  5  0  9  6  0  0  9  0  0  9  0  7  9  4  0  0\n",
            "  0  9  5  0  0  1  7  0  9  9  0  0  0  0  1  0  4  0  9 10  1  0  1  9\n",
            "  6 11  9  0  0  9  0  9  0  4  4  0  0  0  5  0  7  0  7  7  3  0  7  0\n",
            "  6  9  0  9  4  9  0  0  9  9 10 10  9  0  0  9  0  4  4  9  0  0  0  9\n",
            "  1  0  2  9  0  6  0  9  9  6  1  9  9  0  9  9  1  4  9  0  9  9  6  0\n",
            "  9  0  0  9  7  0  9  9  9  9  7  1  0  9  7  0  0  0  0  0  9  0  9  9\n",
            "  0  4  9  0  5  7  9  9  0 11  0  1  9  9  0 11  9  4  0  7  0  0  0  0\n",
            "  5  0  5  0  9  9  0  0  0  9  0  0  0  0  0  0  0  0  0  0  0  0  9  0\n",
            "  9  9  0  0  9  0  0  9  7  9  9  0  3  4  0  0  7  9  0  9  0  4  1  9\n",
            "  9  0  7  9  0 11  2  9  0  9  0  0  0  4  9 10  9  9  0  9  9 10  0  6\n",
            "  0  0  0  6  1  6  6  0  9  0  0  1  0  5  9  5  9  0  9  0  9  4 10  9\n",
            "  7  0  9  9 11  0  0  0  9  9  4  0  0  1  0  0  0  0  4  4 10  0  9  0\n",
            "  0  9  0  0  0  1  9  0  3  9  5  9  0  9  5  6  0  0  5  5  9  0  0  1\n",
            " 11  2  9  6  0  6  9  4  2  0  9  0  9  1  0  0  3  0  1  7  1  1  8  0\n",
            "  9  9  9  6  0  0  7  7  9  1  5  0  2  0  9  0  0  0  0  1  0  1  9  1\n",
            "  0  0  2  9  1  0  0  1  6  9  9  1  0  2  4  0  0  0  0  0  9  4  5  0\n",
            "  1  2  9 11  0  0  4  4  6  1  0  0  0  9  0  1  0  5  0  9  8  4  8  9\n",
            "  5  4  7  0 10  7  0  4  9  3  0  1  0  0  8  6  8  6  0  0  1  0  0  9\n",
            "  4  4  4  9  9  9  7  7  0  9  6  4  1  1  6  0  7  1  4  4  9  0  4  0\n",
            "  1  1  2  5  7  4  4  4  0  9  0  0  1  5  9 10 10 10 10 10  9  9  2  4\n",
            "  0  0  1  0  4  1  0  4 10  7  9  0  0  4  0  4  0  1  6  0  7  7  9  7\n",
            "  1  1  0  4  0  1  6  4  0 10  4 10  1  0  4  1  4  4  6  1  1  1  1  4\n",
            "  0  9  4  4  1  2  7  0  0  2 10  6 10  2  2  0  9  9  7 11  7  0  0  6\n",
            "  2  4  1  4  9  0  4  5  4  0  3  9  1  5  0  9  2  3  3 10  2  7  1  1\n",
            "  4  0  0  0  5  0  0  2  3  5  0  9  1  0  0  9  7  9  9  9  0 10  4  1\n",
            "  0  0  4  2  1  2  9  9  1  0  1  2  0  9  0  9  7  6  7 10  4  4  7  4\n",
            "  4  1  6  9  9  4 10  4  9  9  1  9  0  1  4  0  4  4  7  4 10  9  2  2\n",
            "  9  4  4  4  6  6  4  0  2  4  5  5  1  7  0  2  0  0  1  1  1  2  4  0\n",
            "  7  2  2  9  9  7  7  4  7  0  1  0  9  0  1  4  1  2  2  0  4  0  1  4\n",
            "  6  0  1  9  1  1  1  4 10  0  1  4  4  2  2  0  2  7  1  1  1 10  9  4\n",
            "  1  1  6  0  0  0  0  2  4  4  4  9  4  0  0  0  0  1  1  9  1  4  0  9\n",
            "  1  0  1  9  0  2  7  7  1  1  0  5  0  0  0  1  0  9  2  4  0  0  0  9\n",
            "  0  0  0  0  5  2  9  0  1  0  0  9  0  9  4  1  1  0  7  7  4  4  0  9\n",
            "  1  0  6  4  1  9  9 10  1  1  0  0  1  0  0 10  1  7  6  6  6  2  1  4\n",
            " 10  0  0  6  0  4  3  9  4  4  7  7  1  0  4  9  0  6  4  1  4 10  7  5\n",
            "  0  6  2  2  9  1  7  6  4  9  0  0  6  3  6  7  0  6  0  0  9  9  4  0\n",
            "  4  1  9  0  7  9  9  1  7  0  9  0  0  2  0  6  0  0  7  1  1  6  3  1\n",
            "  9  6  6  2  9  4  2  2  9  0  0  2  5  0  4  0  2  0  9  6  7  0  0  7\n",
            "  0  2  1  4  9  2  2  2  9  0  1 10  0  1  7  9  1  7  0  2  9  3  2  7\n",
            "  1  1  7  1  2  4  1  0  1  1  4  4  4  4  2  4  0  0  0  9  5  0  9  0\n",
            "  9  9  1  4  9  4  1  0  4  4  1  3  0  0  2  2  1  8  5  4  1  6  6  7\n",
            "  7  4  2  2  0  4  2  1  9  2  1  0  1  7  7  1  0  4  0  2  2  2  2  0\n",
            "  2  2  1  0  0  0  9  0 10  7  0  7  2  7  7  4  6  6  4  1  6  2  2  1\n",
            "  2  0  2  2  2  5  4  5  2 10  9  2 10  9  0  9  0  0  9  0  4  0  9  0\n",
            "  9  0  7  6  4  4  9  1  0  4  5  9  9  0  7 10  6 10  6  4  1  1  0  0\n",
            "  7  2  1  1  0  4  1  4  4  1  9  1  0  1  1  1  2  1  9  2  4  1  0  0\n",
            "  2  0  4  7  9  4  9  2  6  6  9  6  0  0  9  2  0  1  0  0  9  0  9  0\n",
            "  4  1  1 10  1 10  1  0  7  7  3  1  6  1  1  0  9  7  1  0  6  4  1  0\n",
            "  9  1  6  2  0  4  1  1  7  4  0  4  4  3  0  9  2  0  0  7  0  1  0  4\n",
            "  3  2 10  1  1  4  2  4  0  0  4  1  0  7  4  4  9  9  0  1  0  7  7  9\n",
            "  4  3  1  2  0  1  7  1  6  6  0  0  1  1  9 10  7  7  1  9  2  7  0  7\n",
            " 10 10  1  2  0  1  9  1  1  1  1  9  1  9  9  4  1  4 10  0  0  4  4  7\n",
            "  4  0  0  2  3  2  0  9  4  4  0  4  9  9  1  9  9  5  1  0  7  4  0  0\n",
            "  0  9  0  8  0  7  1  5  9  5  4  7  7  6  0 10  7  1  0  6  0  2  0  9\n",
            "  4  2  4  0  9  4  6  2  4  9  4  2  9  2  0  2  0  0  9  4  0  9  4  0\n",
            "  7  4  9  0  7  0  9  9  2  9  0  9  0  6  9  9  6  4  4  7  4  0  9  2\n",
            "  4  3  9  0  9  7  5  0  7  9  9  6  9  4  4  4  4  0  7  5  9  1 10  0\n",
            "  5  0  9  4  7  0  9  4  4  0 10  0  4  7  4  2  7  6  4  5  4  7  5  5\n",
            "  0  5  4  0  1  0 10  0  0  4  9  0  1  4  0  2  1  4  1  1  6 10  4  1\n",
            "  7  1  4  4  4  7  7  1  6  7  7  9  9  4  7  9  0  7  1  6  0  1  7  0\n",
            "  1  6  2  2  9  0 10  1  2  4  2  0  1  2  0  4  6  6  2  7  9  0  9  9\n",
            "  1  7  7  1  4  0  0  4  0  9  9  7  2  1  2  7  9  9  7 10  1  0  1  1\n",
            "  1  0  0  9  2  1  9  0  0  1  0  4  6  4  4  4  0  9  0  1  7  4  1  0\n",
            "  4  2  6  1  4  0  0  1 10  6  0  6  9  3  1  4  2  0  8  9  0  1  0  4\n",
            "  4  4  0  7  0  4  4  0  0  0  1  6  4  4  0  9  4  1  9  6  0  4 10  2\n",
            "  0  7 10  4  0  9  4  9  2  1  9 10  1  9  1  0  6  9  2  3  0  4  6  9\n",
            "  4  4  7  7  4  1  0  9  9  4  0  0  0  9  9  0  9  7  2  0  0  9 10  4\n",
            "  4 10  6  2  4  6  5  1  1  2  1  0  9  1  4  4  2  3  3  3  9  6  2  5\n",
            "  0  9  1  1  9  1  7  1  4  4  0  4  2  6  0  2  4  2  3  2  0  5  0  1\n",
            "  9  9  4  0  0  1  4  9  1  1  1  4  4  0  0  9  7  7  7  9  1  9  7  0\n",
            "  0  1  0  6  9  0  9  0  3  6  0  1  1  7  1  1  1  0  1  1 10  9  1  3\n",
            "  9  6 10  6  9  9 10  9  0 10  0  4  0  9  0  7  2  9  9  9  9  0  1  1\n",
            "  9  9  9  9  9  9  4  1  2  9  1  9  0  1  1  6  4  4  0  2  4  4  1  1\n",
            "  0  0  4  0  4  4  7  9  0  0  1  1  6  0  4  2  1  4  0  7  9  9  1  0\n",
            "  6  6  4  5  4  7  3  0  1  1  3  1  5  0  1  6  0  9  0  4  9  9  1  9\n",
            "  9  4  4  9  0  7 10  0  9 10  0  4  0  6 10  4  6  9  0  2  0  0  9  2\n",
            "  9  9  0  4  4  4  6  4  0  0  1  3  3  9  7  9  0  9  9  9  0  9  9  0\n",
            "  0  9  9  1  4  4  1  9  2  9  0  0  0  0  9  2  2  0  4  0  2  0  1  0\n",
            "  0  9  0  1  1  0  0  3  9  1  6  1  9  1  1  3  7  0  0  1  9  1  3  4\n",
            "  3  9  0  1  6  4  2  2  9  1  0  9  1  0  7  0  0  4  7  0  4  7  7  8\n",
            "  4  4  0  1  4 10  1  4  0  7 10 10  1 10  0  7  0  1  1  1  1  1  4 10\n",
            "  7  9  7  1  7  2  9  1  4  4  4  4  1  9  9  0  0  7  0  0  9  9  7  4\n",
            "  0  3  1  6  9  4  0  7  0  7  7  0  4  0  9  4  1  6  0  2  2  0  9  2\n",
            "  9  0  2  4  7  4  9  2  1  0  0  0  0  7  0  5  1  1  3  1  2  7  2  7\n",
            "  0  9  7  0  6  4  0  9  1  4  0  0  1  4  9  0  1  2  0  0  2  9  1  1\n",
            "  0  6  1  4  1  0  2  4  1  4  5  3  3 10 10  4  5  1  6  4  9  7  8  1\n",
            "  8  2  4  1  1  0  0  2  1  1  9  6  1  6  4  2  2  0  7  9  9  4  7  0\n",
            "  6  9  6  7  1  9  9  9  9  4  0  9  4  0  2  0  0  0  4  2  1  1  2  4\n",
            "  1  0  4  7  6  0  4  9  9  4  0  1  4  0  7  0  7  1  1  4  9  0  9  7\n",
            "  4  7  1  0  9  7  9  4  7  2  7  2  5  7  9  1  9  0  9  7  2  9  0  0\n",
            "  9  1  0  0  1  1  1  1  9  9 11  4  0  0  0  1  7  0  3  6 10  1  0  1\n",
            "  2  0  1  4  4  4  4  9  0  1  4  4 10  1  1  9  4  0  4  0  9  7  1  1\n",
            "  9  0  4  2  7  0  0  2  1  1  1  2  0  4  9  0  4  4  4  9  7  0  7  0\n",
            "  9  2  0  0  0  0  2  9  9  0  0  0  2  9  2  1  0  1  1  4  9  0  6  0\n",
            "  2  0  9  4  4  1  0  3  0  1  1  0  1  2  4  4  1  4  7  1  1  0  1  9\n",
            "  6  1  4  2  0 10  0  6  9  1 10  9  9  4  9  1  7  9  0  0  6  4  6  2\n",
            "  7  3  0  6  4  1  0  0  1  7 10  7  0  2  6  2  0  2  2  0  0  4  0  9\n",
            "  4  0  0  2  0  4  4  4  4  1  1  0  0  2  1  9  4  9  1  1  9  4  7  9\n",
            "  9  9  4  4  0  1  1  2  4  0  9  1  9  0  7  0  1  1  7  1  4  7  3  4\n",
            "  0  4  4  4  3  0  1  1  4  0  4  0  9  7  7  7  0  7  3  1  2  0  0  9\n",
            "  9  1  9  0  0  2  7  2  1  4  7  4  1  4  9  9  1  2  9  4  7  1 10  1\n",
            "  3  1  9  4  0  2  1  0  0  4  4  9  1  2  2  9  1  9  3  1  7  1  1  4\n",
            "  7  1  9  0  4  0 10  2  7 10  2  1  2  1  7  0  9  6  9  0  0  0  1  4\n",
            "  9  1  9  0  4  0  4  0  3  2  0  0  7  7  2  1  1  1  1  9  0  2  1  6\n",
            "  4  4  1  0  9  7  9 10  0  9  0  1  9  0  3  2  1  4  0  7  7  0  9  4\n",
            " 10  9  0  1  0  1  1  9  7 10  6  0  4  4  4  4 10  9  4  1  6  2 10  2\n",
            "  9  0  7  0  5  4  7  2  7  7  9  2  5  0  1  9  3  2  4  7  2  1  0  0\n",
            "  7  9  1  9  1  2  4  0  0  8  0  0  1  7  9  4  4  9  3  6  0  1  4  1\n",
            "  0  6  9  0 10  0  0  0  0  9  0  1  0  0  7  0  4  4  2  9  1  0  9  9\n",
            "  0  1  0  0  4  4  9  0  2  7  9  1  9  1  4  0  9  2  1  2  2  7  0  0\n",
            "  7  9  0 10  3  7  9  2  1  2 10  1 10  9  9  4  0  4  2  9  0  2  5  4\n",
            "  4  0 10  0  0  4  7 10  0  7  1  4  9  4  7  4  0  4  4  0 10  9  0  4\n",
            "  0  1  5  4  1  4 10  0  6 10  9  4  9  0  7  0  4  0  0  0  0  6  7  2\n",
            "  0  2  9  9  9  9  4  0  2  1  2  9  0  9  0  9  1  6  0  4  1  1  0  9\n",
            "  2  0  4  2  1  0  9  1  0  9  0  9  4  4  0  9  0  1  9  4  9  4  9  9\n",
            "  0  4  1  2  6  4  0  9  4  9  0  0  9 10  4  0  7  0  8  6  6  2  9  0\n",
            "  0  7  9  1  3  9  6  0  2  9  5  5  1  0  6  9  4  4  4  6  2  4  2  2\n",
            "  4  7  2  2  7  1  1  0  9  1  4  4  4  6  1  2  0  0  1  1  0  4  0  7\n",
            "  4  4  1  0  0  1  1  7  1 10  5  4  1  7  1  2  0  7  0  4  2  2  7  1\n",
            "  9  6  2  1  1  1  7 10 10  1  9  1  0  4  0  0  9  7  0  2  7  1  0  0\n",
            " 10  0  7  4  4  0  9  5  1  3  2  1  0  7  2  0  9  9  5  0  4  1  1  4\n",
            "  1  1  0  6  7  6  6  1  1  9  6  7  9  4 10  7  7  4  6  1  9  0  0  1\n",
            "  0  1  0  0  6 10  9  0  7 10  0  1  5  3  1  0  2  0  0  9  9  1  9  7\n",
            "  9  0 10  7 10  0  1  1  2  9 10  1  4  9 10  1  1  4  1  7  1  0  1 10\n",
            "  9  0  4  8  1  3  1  9  1  4  3  7  4  1 10  5  6  0  0  1  1  1  4  0\n",
            "  1  6 10  4  1  7  9  0  1  4  1  1  0  0  7  3  7  6  9  0  0  0  0  0\n",
            "  9  1  0  9  1  9 10  0  9  1  4  1  6  4  9  7  8  1  4  6  7  1  9  7\n",
            "  1  4  0  0  1  6  1  1  2  0  9 10  0  7  1 10  0  1  9  0  6  4  9  0\n",
            "  2  9  0  1  0  0 10  1  1  2  4  4  0 10  4  3  9  0  1  1  0  7  0  0\n",
            "  7  0  7  1  4  0  1  2 10  6  2  9  9  2  0  6  2  7  9  9  2 10  6  4\n",
            "  6  9  7  6  7  7 10  1  7  4  9  0  9  9  1  9  4  4  0  1  1  7  9  7\n",
            "  0  2  0  0  4  0  9  1  2  4  9  4  0  0  0  7  0  9  7  6  1  4  1  7\n",
            "  9  0  7  0  4  4  4  1  0  0  9  4  0  4  7  0  4  0  4  2  1  7  9  4\n",
            "  0  5  7  9  0  0  4  0  2  0  9  1  0  0  0  0  0  6  0  9  6  7  0 10\n",
            "  1  1  4  0  1  7  1  7  7  0  0  0 10  4  1  4  7  7  9  7  0  9  0  4\n",
            "  1  7  9  1  1  0  9  9  0  1  4  1  4  0  1  1  4  0  0  0  1  0 10  2\n",
            "  0  0  7  1  7  0  0  6  1  2  0  4  7  9  1  0  7  0 10 10  4  2  7 10\n",
            "  9 10  6  0  7  0  9  7  1  0  7  0  7  0  1  1  0  4  7  6  0  1  2  1\n",
            "  9  4  0  9  7  0  1  9  0  4  0  5  1  1  0  0  9  5  0  4  0 10  0  9\n",
            "  7  9  0  1  0  9  9  0  0  0  4  0  4  0  0  1  6  1  7  4  1  6  0  6\n",
            "  4  5  4  0  3  0  4  0  0  9  4  0  0  0  9  6  0  0  8  5  0  7  0  4\n",
            "  7  7  9  1  9  9  9  7  1  6  0  9  9  7  9  6  0  0  7  4  2  4  1  9\n",
            "  0  4  9  9  0  0  0  0  9  9  6  4  0  4  0  0  0  0  0  7  9 10  1  0\n",
            "  1  9  1  7  0  1  9  4  4  0  0  1  0  4  2  4  0  1  0 10  1  0  0  2\n",
            "  9  3  9  1  0  2  0  4  1  0  9  9  0  6  7  4  9  7  0  1  1  0  4  0\n",
            "  0 10  9  4  9  1  0  9  0  3  4  1  1  1  2  1  0 10  2  9  1  3  0  6\n",
            "  7  1  7  9  0  0 10  5  1  5  9  0  3  9  4  4  9  0  9  9  4  0 10 10\n",
            "  4  0  9  0  9  7  7  0  4  9  9  2  4  6  4  0  1  0  0  0  9  0  1  2\n",
            "  9  4  1  7  4 10  0  7  9 10  0  0  0  4  9  4  2  7  0  9  9  6  0  5\n",
            "  0  6  0  1  0  5  4  9  2  1  0  9  0  0  9  9  1  0  9  0  5  3  1  0\n",
            "  0  3  0  6  0  0  3  0  1  0  1  0  0  8  0  9  1  0  1  0  0  9  0  6\n",
            "  1  7  1 10  9  0  9  4  0  0  0  9  0  7  7  0  0  0  9  1  0  1  1  2\n",
            "  4  7  0  0  7  4  0 10  7  4  0  0  0  7  7  4  9  4  0  9 10  0  0  0\n",
            " 10  0  7  9  0  9  0  0  9  0  4  0  3  0  5  1  4  0  0  9  9  0  4  0\n",
            "  9  0  7  0  0  4  8  9  9  2  9  0  0  4  9  1  7  9  6  1  6  9  0  6\n",
            "  4  9  7  6  0  4  1  0  6  0  9  5  4  0  4  7  4  6  9  0  0 10  0  6\n",
            "  9  9  8  9  9  9  0  4  0  4  0  9  1  0  2  1  0  1  4  9  0  6  9  0\n",
            "  0  4  0  1  9  0  2  0  9  4  8 10  9  0  3  2  0  0  9  0  5  9  9  0\n",
            "  9  4  9  0  9  0  5  4  9  4  4  0  4  9  4  9  4  9  4  0  9  0  9  6\n",
            "  4  9  0  6  0 10  0  9  2  9  4  7  9  0  3 10  0  9  1  0  9  1  9  0\n",
            "  2  0  7  0  4  4  5  6  8  0  4  4  6  0  9  3  9  1  0  7  0  0  7  1\n",
            "  1  0  0  0  4  7  0  9  9  9  0  0  1  4  0  5  0  4 10  1  7  1  0 10\n",
            "  0  0  9  0  9  0  6  1  7  9  9  1  0  0  0  9  0  5  2 10  9  0  1  9\n",
            " 10  0  9  3  1  1  0  0  0  6  0 10  0  6  2  5  1  6 10  9  6  4  4  6\n",
            " 10  0  0  2  7  5  0  0  9  9  6  1  6  0  1  7  2  5  4  9  6  9 10  0\n",
            "  7  6  0  0  9  1  5  7  0  0  0  0  4  0  0  1  1  4  0  4  9  4  6  0\n",
            "  9  0  0  1  9 10  2  0  0  3  9  0  0  1  9  1 10  1  8  0  8  8  4  8\n",
            "  9  0  4  0  0  9  0  0  1  9  4  0  9  8  9  8  0  5  9  0  8  0  8  4\n",
            "  0  0  2  9 11  4  0  4  7  8  8  0  1  7  8  9  7  7  0  9  9  4  9  0\n",
            "  0  4  4  4  9  0  0  9  9  9  9  0  9  5  9  9  9  9  9  9  9  9  9  9\n",
            "  9  4  9  0  9  4  5  4  4  4  9  4  5  4  1  9  4  0  0  9  9  0  9  9\n",
            "  8  4  1  0  8  4  4  6  5  6  5  6  6  5  6  6  5  5  5  5  5  5  5  5\n",
            "  5  5  5  0  0  8  4  5  9  4  5  8  6  8  6  6  8  6 10 10  6  5  5  9\n",
            "  0  5  9  9  5  9  9  0  9  0  8  5 10  0  9  9  0  0  0  0  8  1  1  4\n",
            "  0  1  5  1  4  0  0  4  0  0  0  5  0 10  0  0  8  1  1  9  9  9  1  5\n",
            "  9  1  0  0  4  0  5  0  0  0  0  4  4  8  3  9  8  4  0  8  4  1 10  5\n",
            "  9  0  8  3 10  0  0  0  6  1  0  9  0  0  0  0  1  0  5  0  9  5  3  6\n",
            "  0  0  0  0  1  0  0  0  0  9  0  9  9  0  5  5  0  0  8  0  0  0  0  0\n",
            "  9  1  1  4  1  0  0  0  1  1  1  0  7  1  6  9  6  1  0  2  7  1  0  0\n",
            "  4  4  1  4  1  5  0  0  0  0  5  0  1  2  0  0  9  2  6  8  5  0  9  0\n",
            "  0  1  1  0  0  0  7  7  7  0  1  1  9  7  0  1  1  1  1  1  1  0  7  9\n",
            "  1  9  3  1  1  7  1  9  9  0  9  1  4  0  1  1  0  6  0  1  9  7  1  1\n",
            "  0  1  9  0  7  9  1  1  6  1  0  1  2  2  3  9  0  4  9  9  7  0  9  7\n",
            "  2  7  7  1  1  3  5  6  0  2  0  1  4  3  1  1  0  0  7  4  7  1  7  1\n",
            "  2  0  1  4  4  9  9  7  1  4  0  9  0  7  7  2  1  4 10  4 10  0  4  9\n",
            "  7  9  0  4  1  9  0  5  5  5  0  4  9  1  0  6  9  7 10  9  7  1  1  3\n",
            "  8  3  1  0  3  0  5  9  7  1  1  9  0  7  1  1  9  1  1  9  1  1  1  0\n",
            "  4  5  8  9  1  9  1  1  0  0  9  1  1  0  8  0  0  1  1  0  7  6  1  6\n",
            "  1  0  1  4  0  0  9  9  9  1  9  0  5  9  8  1  9  4  8  0  5  5  7  1\n",
            "  1  9  7  7  7  7  0  1 10 10  5  7  8  6  9  1  7  1  1  7  7  7  7  1\n",
            "  1  0  1  9  5  0  1  2  1  9  9  7  8  8  7  9  9  9  3  9  0  0  0  5\n",
            "  1  9  9  9  1  1  9 10 10  1  9  1  1  9  9  1  1  7  1  1  0  1  4  3\n",
            "  5  5  1  0  1 10  5  0  0  0  0  2  0  9  7  4  5  9  7  7  0  0  0  8\n",
            "  9  0  7  1  9  0  9  9  7  7  0  1  0  1  1  9  7  5  0  9  4  9  1 10\n",
            "  7  7  7  9  0  7  7  1  0  0 10  7  6  0  0  0  8  0  1  0  7  0  0  7\n",
            "  0  7  9  0  9  0  1  4  0  7  6  7  0  9  7  9  9  7  2  9  5  9  6  6\n",
            "  9  1  7  9  1  7  0  0  9  9  6  6  6  6  6  6  6  0  7  0  6  1  9  9\n",
            "  1  6  6  0  2  9  1  6  5  1  9  6  2  7  9  0  0  1  1  0  7  1  7  1\n",
            "  7  0 10  9  1  1  6  0  0  9  0  0  0  0  1  0  5  1  0  1  0  0  0  7\n",
            "  1  1  6  0  1  0 10  7  1  0  7  1  7  7  5  6  6  7  7  0  0  0  6 10\n",
            " 10 10  1  0  1  0  9  9  1  4  0  0  1  1  0  0  5  0  1  6  9  1  1  0\n",
            "  4  5  7  0  0  1  0  5 10  0  9  0  0  1  1  1  0  0  5  5  9  0  8  6\n",
            "  2  9 10  9  5  1  1  4  8  0  5  0  7  4 10  6  5  4  4  4  5  5  9  2\n",
            "  9  9  9  7  0  7  0  2  9  3  1  0  4  0 10 10 10  3  1  9  5  0  5 10\n",
            "  9  0  5  5  9  0  1  0  1  0  9  0  9  9  5  0  4  8  8  8  0  0  0  1\n",
            "  7  1  4  0  2  0  5  4  4  1  1  5  9  1  9  0  7  4  2  2  5  1  1  2\n",
            "  0  1  4  1  7  0  4  9  2  0  1  1  1  5  5  0  1  0  7  7  2  2  2  5\n",
            "  9  1  7  7  7  0  1  1  2  1  1  7  1  1  1  1  2  1  1  1  1  9  4  1\n",
            "  1  9  1  1  0  0  4  1  1  9  4  1  0  2  0  1  7  7  1  4  4  0  1  0\n",
            "  0  9  1  1  2  1  1  9  0  9  0  0  6  0  4  4  0  1  1  6  0  5  1  0\n",
            "  0  1  8  1  5  2  8  1  1  1  0  7  1  6  2  9  1  1  1  1  8  2  0  1\n",
            "  9  9  0  7  1 10  7  0  0  1  7  1  4  1  0  7  0  4  4  9  9  5  1  0\n",
            "  7  0  7  1  2  0  1  0  7  7  0 10  1  1  0  2  9  0  4  1  0  0  0  6\n",
            "  2  7  9  4  7  1  0  1  9  9  0  2  5  7  7  9  1  1  2  1  0  1  2  0\n",
            "  1  9  1  9  1  9  1  0  1  0  0  0  0  2  6  1  8  7  4  2  7  7  4  7\n",
            "  7  9  1  9  9  1  4  9  1  4  9  7  1  8  2  1  1  1  1  1  8  1  1  8\n",
            "  1  8  8  1  1  7  8  1  0  2  4  1  1  0  1  1  0  0  1  9  0  1  1  0\n",
            "  9  1  1  0  1  1  8  4  9  0  1  4  7  2  6  0  1  1  8  2  1  7  7  9\n",
            "  8  7  5  8  0  2  0  0  0  9  1  1  1  0  6  4  4  1  4  0  1  1  1  4\n",
            "  1  1  1  4 10  1  0  0  1  2  0  7  9 10  7  6  0  1  1  7  9  4  9  4\n",
            "  0  4  9  1  1  1  0  9  1  9  9  8  9  0  0  9  2  4  4  1  7  1  0  3\n",
            "  1  1  1  7  4  1  4  1  0  0  4  5  2  1  4  0  2  1  1  1  0  1  1  0\n",
            "  9  0  1  7  1  9  1  5  1  4  0  0  7  0  4  0  9  7  1  0  9  0 10  4\n",
            " 10  9  1  1  9  6  0  1  4  4  9  1  8  7  0  1  9  0  4  1  0  0  0  0\n",
            "  0  7  4  9  0  9  1  4  8  7  1  9  0  1  0  1  0  0  0  4  0  0  0  0\n",
            "  0  1  7  4  1  2  0  1  7  9  1  7  1  7  1  1  1  1  0  9  1  0  9  9\n",
            "  1  6  1  1  9  9  7  9  1  1  0  0  4  0  1  4  1 10  6  0  0  1  4  5\n",
            "  8  4  1  1  1  0 10  1  0  1  4  9  0  1  7  0  2  9  1  5  1  2  1  7\n",
            "  1  1  7  7  1 10  7  1  0  0  6  9  1  9  1  1  1  0  0  0 10  9  0  4\n",
            "  0  7  6  0  1  7  1  4  0  7  1  0  1  0  0 10  1  1  0  2  0  1  7  4\n",
            "  0  0  0  1  1  9  1  9  9  8  0  1  3  4  3  0  1  5  0  9  9  0  0  0\n",
            "  1  0  1  0  1  8  9  0  3  7  9  6  4  9  7  0  0  0  7 10 10  9  9  8\n",
            "  1  0  1  1  0  9  9  3  9  2  7  9  0  0  2  1  7  5  1  1  9  0  7  7\n",
            "  9  0  2  1  4  7  3  0  1  7  4  2  4  0  7  0  0  7  7  1  1  4  0  8\n",
            "  1  9  0  9  0  0  1  0  1  0  0  1  1  2  7  1  1  7  0  2  5  1  1  4\n",
            "  9  7  1  1  2  1  0  2  7 10  7  0  1  1  4  7  1  0  0  8  9  9  0  1\n",
            "  4  0  1  1  0  0  4  7  0  1  1  4  1  4  9  9  0  7  0  5  1  6  8  1\n",
            "  2  0  9  4  1  9  1  0  7  1  7  0  1  0  1  1  9  3  0  7  7  0  9  6\n",
            "  9  8  2  5  9  1  7  8  7  4  2  7  6  9  1  5  2  1  1  1  9  7  1  9\n",
            "  8  7  7  0  4  4  1  2  7  1  1  0  5  1  1 10  9  4  1  7  9  1  0  0\n",
            "  1  1  1  6  6  9  1  2  1  9  2  9  7  1  6  0  1  1  1  1  0  0  7  9\n",
            "  1  1  1  1  9  7  1  0  1  0  0  0  1  6  8  2  1  0  7  7  9  7  0  0\n",
            "  1  0  5  9  9  1  1  5  1  1  4  9  4  9  0  7  9  4  9  7  7  7  9  4\n",
            "  0  0  0  0  1  9  1  9  1  9  2  4  9  7  0  4  0  1  4  9  7  0  0  0\n",
            "  1  2  8  6  7  9  1  1  9  0  7  0  4  0  7  1  1  4  4  7  7  1  5  9\n",
            "  9  9  1  4  1  9  4  5  7  1  4  7  4  1  7  9  0 10  4  2  0  7  4  0\n",
            "  0  9  1  1  2  7  1  1  7  9  7  4  9  9  4  7  6  8  1  4  7  7  7  0\n",
            "  7  1  7  9  9  9  7  7  3  5  8  9  6  9  1  7  7  6  9  9  9  7  6  7\n",
            "  7  0  0  1  4  7  8  1  9  7  5  1  6  1 10  9  0  1  6  0  1  1  0  1\n",
            "  4  1  1  1  5  0  7  7  2  7  7  1  3  2  0  1  1  0  5  0  4  9  0  9\n",
            "  1  1  0  4  9  7  0  1  1  0  9  4  0  0  1  2  7  1  1  8  6  1  0  2\n",
            "  0  7  0  9  9  6  7  6  1  1  7  7  1  0  3  0  6  3  1  1  9  9  1  0\n",
            "  4  7  1  9  1  9  9  0  6  9  4  6  6  0  4  0  4  4  0  8  4  4  1  9\n",
            "  1  7  7  6  7  9  7  6  0  0  2  4  0  1  7  8  7  0  1  9  4  7  0  1\n",
            "  0  0  0  9  9  4  1  1  7  7  0  0  1  0  0  0  9  7  4  8  0  1  9  9\n",
            "  9  1  8  7  4  9  7  4  1  7  6  7  4  0  2  0  7  9  0  1  0  5  1  1\n",
            "  1  5  0  0  1  0  7  0  1  7  1  7  4  1  0  1  1  0  1  2  7  3  0  1\n",
            "  1  1  1  7  0  1  6  5  1  9  3  1  0  1  8  9  7  4  0  1  9  1  0  7\n",
            "  7  9  7  9  9  0  1  4  1  1  9  1  0  9  4  1  0  1  9  1  2  2  0  9\n",
            "  1  0  7  8  2  9  1  1  1  0  1  1  1  0  5  7  1  7  1  0  1  0  1  1\n",
            "  1  0  0  7  1  7  0  1  1  0  1  9  1  0  1  9  4  1  1  1  1  1  0  6\n",
            "  7  9  7  0  2  9  1  1  9  7  9  6  0  0  6  1  0  0  5  9  6  5  5  0\n",
            "  4  5  5  8  9  5 11  9  9  3  5  5  4  4  5  5  9  6  5  8  3  0  0  0\n",
            "  5  0  9  3  5  8  5  5  7  9  0  0  0  0  0  0  0  0 10  0  0  1  6  0\n",
            "  9  0  0  5  0  5  0  7  0  0  9  0  4  9  0  5  5  9  8  0  8  1  5  1\n",
            "  8  0 11  6  5 11 11  0  1  9  0  9  0  8  9  9  6  0 11  1  1  8  9  8\n",
            "  5  0  1  9  0  0  5  1  5  4  8  9  5  5 11  7  5  0  4  4 10  1  1  5\n",
            "  0  4  7  0  0  0  0  5  6  4  9 11  0  1  5  5  0  7  9  4  0  1  0  7\n",
            "  0  9  0  5  7  9  4  9  4  9  0  0  0  5  0  5  5  9  5  9  9  0  8  0\n",
            "  0  0  0  0  0  0  0  4  7  7  0  0  0  0  0  7  4  0  2  5  4  4  0  2\n",
            "  4  0  7  5  9  4  2  4  8  0  0  1  4  0  0  9  0  0  9  0  0  9  4  9\n",
            "  9  0  2  6  3  0  0  9  0  3  0  3  6  8 10  9  0  6  7  0  0  4  5  5\n",
            "  0  2  4  6  1  4  4  9  8  5  0  6  0  9  9  9  9  9  9  9  7  0  9  0\n",
            "  0  5  5  9  1  0  7  9  9  9  7  0  7  9  0  2  9  2  2  2  0  2  2  2\n",
            "  2  2  4  0  0  6  0  0  6  9  1  0  4  9  4 10  8  9  8  2 10  7  7  9\n",
            "  0  1  9  0  1  1  5  5  0  0  0  0  0  9  0  9  0  0  6  0  8  0  0 10\n",
            "  5 10  0  4  9  0  9  1  0  2  8  0  8  0  1  2  5  0  8  4  9  0  5  5\n",
            "  0  9  0  4  5  6  8  0  0  6  0  8  0  8  9  0  8 11  9  2  1  9  0  0\n",
            "  5  9  9  3  8  4  9  4  4  4  0  0  2  7  0  9  1  0  6 10  0  0  5 10\n",
            "  7  4  1  1  2  1  5  9  8  0  8  9  0  0  1  9  0  0  4  0  0  0  5  8\n",
            " 10  0  2  1  7  0  2  8  7  0  6  0  8  8  7  5 11  0  0  8  2 10  5  5\n",
            "  4  2  1  5  8  3  9  2  9  0  7  0  0  0  2  4  7  6  1  4  0  0  7 11\n",
            "  0  5  4  0  5  0  9 10  0  7  0  4  0  1  7 10  1  7  8  0  7  9  1  2\n",
            "  1  7  5  8  4  8  4  0  0  0  0  8  9  9  0  5  0  0  4  7  0 10  5  1\n",
            "  1  0  7  1  7  1  1  1  7  0  7  4  0  0  1 10  9  9  9  0  1  8  5  0\n",
            "  0  7  0  2  0  0  7  9  9  9  0  8  9  0  9  2  0  4  1  6  1  0  6  6\n",
            "  1  9  0  1  0  1  0  0  0  3  9  1  1  0  3  9  6  0  0 10  0  8  0  1\n",
            "  7  9  3  0  6  9  0  6  7  8  0  1  2  5  7  9  5  8  9  1  9  0  1  9\n",
            "  4  0  0  2  4  9  1  7  8  7  4  0  0  6  2 11 10  7 11  2  0  6  9  0\n",
            "  9  0 10  9  6 11  6  4 10  7  3  7  0  9  6  4  7  0 11  0  0  1  7  0\n",
            "  1  7  0  5  1  7  0  7  0  1  4  0  7  5  1  5  1  0  9  1  8  1  0  7\n",
            "  0  0  1  0  3  1  1  1  0  1  1  1  1  1  1  1  1  1  4  0  7  9  7  1\n",
            "  1  1  0  1  7  0  0  0  9  1  1  1  7  0  1  1  0  1  0  1  2  1  2  1\n",
            "  0  0  1  1  1  1  0  1  1  0  1  1  1  1  6  9  9  1  4  0  1  7  1  1\n",
            "  1  0  8  0  7  2  7  1  1  4  7  1  1  1  5  9  1  6  4  1  1  2  1  1\n",
            "  4  9  1  1  9  1  4  1  9  1  1  1  1  7  1  1  9  1  7  7  0  9  1  1\n",
            "  1  0  1  9  1  1  9  1  1  0  9  1  2  1  0  0  2  0  0  0  9  1  1  0\n",
            "  0  7  0  1  0  6  2  7  2  5  7  7  2  5  9  1  2  0  1  1  9  9  1  1\n",
            "  1  1  1  1  0  0  4  4  4  2  1  1  9  2  4  1  0  0 10  0  2  0  1  4\n",
            "  5  4  1  7  4  7  2  1  9  2  7  0  1  1  7  1  1  7  7  7  1  0  7  7\n",
            "  4  7  1  1  7  1  1  1  1  4  1  0  0  0  7  0  0  7  1  1  0  1  1  5\n",
            "  0  0  9  1  6  1  2  2  7  4  9  4  1  7  4  4  4  4  4  1  4  0  0  1\n",
            "  1  1  0  7  2  1  1  1  8  1  1  0  1  0  7  4  7  1  4  7  7  9  4  7\n",
            "  1  0  7  0  9  9  4  8  0  1  4  1  1  2  9  7  8  1  4  1  4  1  6  1\n",
            "  1  1  0  9  1  7  1  1  0  1  1  1 10  1  1  0  9  9  0  0  4  1  1  9\n",
            "  1  6  1  1  1  1  2  0  7  1  9  1  0  1  1  0  0  1  4  9  0  9  0  1\n",
            "  1  7  4  9  0  9  0  0  0  3  3  1  0  9  0  7  0  7  1  1  1  4  9  9\n",
            "  1  1  4  1  4  1  0  0  9  1  7  0  7  1  1  0  0  7  7  1  7  0  9  1\n",
            "  1  1  1  0  0  1  0  2  9  1  0  4  0  0  1  8  1  7  9  1  7  1  2  3\n",
            "  1  1  6  2  1  9  0  7  9  1  1  1  7  1  1  7  1  1  1  1  2  0  0  7\n",
            "  1  1  1  1  1  1  1  1  1  7  1  0  1  0  0  9  4  9  1  1  7  1  7  8\n",
            "  1  1  1  8  1  1  0  0  1  1 10  9  0  1 10  0  1  3  9  1  7  1  1  9\n",
            "  1  1  1  1  9  9  7  7  9  9  2  4  1  4  1  1  7  1  1  2  0  0  1  1\n",
            "  2  1  9  9  0  1  7  9  1  9  1  1  0  1  0  7  5  1  0  9  1  1  1  9\n",
            "  0  0  1  6  0  1  0  0  1  1  0  7  9  4  4  9  0  7  7  6  1  0  4  1\n",
            "  9  0  7  1  1  0  9  1  0  0  1  9  1  9  1  7  1  2  1  4  1  7  0  1\n",
            "  6  1  4  3  9  9  7  0  1  1  1  0  1  1  1  0  9  1  7  5  7  2  1  1\n",
            "  9  1  0  0  1  1  0  0  1  1  1  9  7  0  7  7  1  0 10  0  1  5  1  7\n",
            "  1  1  9  2  0  1  1  0  0  7  9  1  1  1  1  1  0  1  1  1  4  1  0  0\n",
            "  1  0  0  1  1  1  1  1  0  2  0  0  1  0  4  0  7  7  0  0  9  0  0  1\n",
            "  0  1  7  1  1  1  1  9  1  9  0  1  1  1  7  1  0  1  1  1  3  1  9  7\n",
            "  0  0  1  8  0  1  1  1  9  1  1 10  6  1  1  2  6  9  3  3  9  1  0  7\n",
            "  3  4  0  0  2  0  0  1  1  4  1  7  9  0  9  1  1  9  4  9  7  1  0  1\n",
            "  0  7  1  1  1  0  4  7  4  4  9  7  1  2  0  4  4  1  2  7  5  1  1  9\n",
            "  2  7  0  1  0  9  1  6  1  1  1 10  6  2  9  1  7  0  7  9  1  2  0  0\n",
            "  0  7  0  1  0  1  0  1  1  9  1  7  1  8  1  2  1  7  9  7  0  1  1  1\n",
            "  1  7  1 10  0  9  7  3  1  9  9  0  9  0  4  1  1  7  1  7  4  1  0  9\n",
            "  1  4  0  1  9  0  0  3  1  4  1  1  0  1  1  9  0  1  1  1  1  1  0  1\n",
            "  1  0  2  1  0  1  7  1  9  0  0  0  9  9  4  7  7  1  0  0  1  0  2  1\n",
            "  9  7  1  5  9  1  1  0  1  0  0  0  0  2  1  1  0  7  1  0  1  0  1  7\n",
            "  1  0  1  1  4  0  7  1  1  9  6  7  7  9  0  7  7  9  1  6  6  0  0  0\n",
            "  9  7  6  7  7  1  8  1  2  2  7  0  1  1  7  0  0  0  1  7  0 10  1  7\n",
            "  1  9  1  1 10  1  1  1  1  9  1  5  5  5  1  7  7  1  1  6  1  1  1  7\n",
            "  1  1  1  1  1  1  1  1  1  0  4  1  4  9  4  1  7  9  9  7  4  9  1  1\n",
            "  7  0  4 10  9  1  4  0  9  0  9  9  4  9  7  0  1  1  1  9  1  1  6  0\n",
            "  7  1  1  6  0  8  0  1  0  7  9  1  1  9  1  7  1  0  1  1  1  1  7  0\n",
            "  7  4  7  1  0  9  1  1  1  0  4  1  0  9  0  0  0  1  0  9  9  0  1  0\n",
            "  7  7  0  1  1  1  1  8  4  9  4  4  1  1  1  0  4  9  1  1  1  9  7  9\n",
            "  7  4  4  0  4 10  1  7  1  1  9  0  1  1  7  1  1  1  1  1  4  7  7  1\n",
            "  1  9  0  8  4  7  6  9  1  1  4  6  4  4  7  9  7  4  4  9  5  0  7  0\n",
            "  0  1  1  0  1  7  2  0  1  7  1  0 10  9  1  0  0  7  1  9  9  0  0  7\n",
            "  1  1  9  9  7  1  2  0  4  2  0  1  6  0  1  0 10  1  0  1  0  1  4  1\n",
            "  0  1  1  1  7  1  4  4  4  1  9  0  7  7  9  2  0  1  4  1  7  1  1  0\n",
            "  1  1  0  1  0  1  1  9  1  0  7  0  1  1  0  1  1  9  7  0  7  7  1 10\n",
            "  1  0  9  0  1  7  8  8  1  0  1  7  8  9  2  7  0  1  4  1  7  7  7  7\n",
            "  7  1  1  1  7  7  1  1 10  0  9  8  9  1  7  1  1  1  7  4  1  9  9  0\n",
            "  4  4  4  0  0  6  4  1  0  1  1  9  1  0  4  9  7  1  0  0  9  1  0  1\n",
            "  6 10  7  1  1  1  1  0  1  1  7  7  9  0  7  1  4  0  1  0  1  9  7  9\n",
            "  0  9  1  1  1  1  1  7  9  1  9  1  1  1  1  1  7  9  1  5  9  0  1  0\n",
            "  4  1  1  1  0  1  9  0  4  0  0  4  7  0  1  0  0  0  1  0  0  0  0  0\n",
            "  0  0  0  0  7  7  1  1  0  1  0  1  0  7  1  4  9  7  9  9  9  8  8  4\n",
            "  7  7  1  1  7  1  0  9  9  1  0  9  7 10  1  0  1  1  1  1  9  1  9  9\n",
            "  1  4  1  7  0  1  3  7  3  1  1  1  1  1  1  6  1  7  2  7  6  0  0  2\n",
            "  1  1  5  4  0  1  1  9  1  7  6  1  1  7  9  0  7  4  2  7  6  0  1  1\n",
            "  9  9  1  1  1  2  7  6  9  1  6  2  1  0  0  7  6  1  0  8  1  0  1  9\n",
            "  1  4  9  1  1  0  1  4  4  1  8  4  9  9  0  1  1  1  9  1  0  1  9  7\n",
            "  7  7  1  0  7  1  0  0  1  1  1  1  8  1  0  0  1  1  1  1  0  7  0  4\n",
            "  7  1  7  0  1  1  9  0  1  4  9  7  7  8  1  7  6  4  1  4  1  7  0  7\n",
            "  4  4  1  7  0  7  1  1  1  0  1  9  7  1  1  1  1  0  0  1  0  0  1  0\n",
            "  1  9  1  9  1  1  4  1  0  1  1  1  7  0  1  9  1  1  1  1  1  6  7  7\n",
            "  1  0  1  0  9  1  1  1  4  7  0  1  0  0  1  4  1  1  1  0  1  1  1  1\n",
            "  1  0  1  9  7  0  1  9  1  5  1  1  7  9  8  7  7  0  0  1  2  7  0  1\n",
            "  6  7  1  1  6  7  8  7  0  9  1  1  4  4  9  7  1  1  1  1  1  4  1  0\n",
            "  7  0  1  4  4  0  7  1  0  1  4  0  1  9  2  0  1  7  1  1  1  1  4  7\n",
            "  1  9  7  1  1  0  0  0  1  1  1  9  0  4  1  0  1  1  1  0  0  9  1  7\n",
            "  1  4  1  0  7  0  0  1  9  1  7  0  7  0  0  6  1  7  0  7  1  7  1  9\n",
            "  7  1  0  7  1  0  9  1  1  7  1  4  1  0  1  0  4  0  7  1  9  9  2  0\n",
            "  7  1  0  0  0  1  9  1  1  0  2  4  7  9  0  1  1  7  1  1  0  7  0  1\n",
            "  0  1  0  0  0  9  1  9  1 10  0  7  0  7  7  7  7  1  1  1  1  1  1  1\n",
            "  1  1  1  0  1  1 10  0  9  6  6  1  3  1  2  9 10  1  9  4  4  2  1  0\n",
            "  7  7  0  7  9  1  7  7  1  1  4  9  1  0  0  1  7  1  1  1  9  0  1  1\n",
            "  0  1  7  1  0  4  1  0  1  9  1  0  1  7  7  0  0  0  0  0  0  0  0  8\n",
            "  0  6  0  8  6  1  1  4  4  1  1  2  7  1  0  9  7  1  2  1  0  2  1  1\n",
            "  1  2  9  6  1  0  1  1  7  0  1  0  1  0  9  7  0  0  1  9  9  0  1  9\n",
            "  8  9  1  1  9  1  1  1  1  6  0  3  0  4  1  2  2  2  1  1  1  0  0  9\n",
            "  1  0  0  0  1  9  1  9  1  1  1  7  9  7  7  0  7  4  7  1  1  1  2  9\n",
            "  9  2  2  4  9  9  9  9  1  1  1  1  1  1  0  4  9  9  1  0  1  0  7  7\n",
            "  7  1  1  7  1  7  7  0  1  7  1  0  0  7  0  7  1  0  0  1  0  4  9  1\n",
            "  9  1  7  0  0  5  1  9 11  9  9  1  7  1 11  7  0  0  1  1  1  9  7 10\n",
            "  1  7 10  1  9  0  1  1  1  4  4  9  0  9  0  1  1  9  9  1  0  0  9  1\n",
            "  0  0  7  0  8  1  1  0  7  9  0  0  0  9  9  0  1  1  1  0  1  2  1  9\n",
            "  4  7  0  1  0  0  1  1  1  0  2  7  1  0  0  1  0  1  0  1  1  7  1  9\n",
            "  9  7  0  1  9  4  3  0  0  2  9  4  0  1  1  7  1  9  1  0  1  1  0  9\n",
            "  7  4  9  0  9  9  1  4  9  6  0  7  1  1  7  1  2  1  1  1  4  7  4  1\n",
            "  2  9  1  0 11  0  7  0  2  1  0  0  9  9  1  9  9  1  1  1  0  1  1  7\n",
            "  0  7  9  0  0  9  0  4  1  0  1  7  0  8  2  1  7  0  1  9  9  9  1  9\n",
            "  1  1  9  2  7  1  0  4  1  1  0  1  1  9  8  0  7  1  7  1  1  1  9  2\n",
            "  0  7  1  7  1  1  1  0  2  2  7  4  1  7  1  0  1  1  1  1  7  0  7  0\n",
            "  2  1  1  1  9  0  7  1  3  6  1  2  1  1  9  1  0  7  9  1  1  1  1  9\n",
            "  1  1  9  7  0  2  1  7  7  9  9  1  1  0  9  1  1  1  0  7  0 10  1  2\n",
            "  1  1  8  7  7  4  0  7  1  7  0  9  0  0  1  4  9  9  9  7  6  4  2  9\n",
            "  7  9  1  0  1  1  8  6  7  1  1  0  7  7  1  0  9  4  7  7  0  0  1  0\n",
            "  7  1  0  1  7  0  1  3  0  1  1  0  0  1  0  4 11  7  6  1  0  0  7  1\n",
            "  9  0  1  1  1  1  0  9 11  4  1  1  1  0  1  7  1  0  7  9  1  0  0  7\n",
            "  1  1  0  0  0  1  1  7  9  1  7  7  1  1  1  1  7  1  7  1  0  0  1  1\n",
            "  1  7  1  0  9  9  1  7  1  1  1  1  7  0  9  3  3  1  2  1  0  2  0  7\n",
            "  0  2  0  0  2  1  1  8  2  0  0  1  9  4  1  1  7  7  0  8  1  0  0  1\n",
            "  0  1  4  1  4  2  5  4  0  1  0  0  8  0  1  0  1  4  1  1  0  1  1  1\n",
            "  2  1  7  1  1  1  1  9  0  0  9  0  0  4  0  1  1  1  1  1  6  1  7  8\n",
            "  1  0  1  7  7  7  0  7  1 10  7  6  6  9  6  7  1  6  7  1  9  0  7  0\n",
            " 10  0  1  0  7  0  9  9  1  7  1  0  0  1  1  1  1  1  1  1  7  0  1  1\n",
            "  9  1  1  1  1  4  0  1  1  9  1  7  9  9  9  9  9  9  7  9  9  1  0  1\n",
            "  0  1  1  7  0  9  1 10  2  9  0  1  1  3  9  7  1  7  4  1  1  7  9  4\n",
            "  9  9  9  1  1  1  7  1  4  1  1  1  1  0  2  0  1  1  4 10  7  0  1  5\n",
            "  7  0  0  1  1  1  1  4  0  0  1  1  9  1  9  1  7  0  3  1  9  9  1  9\n",
            "  7  6  0 10  1  1  9  1  4  0  1  1  0  3  7  0  1  0  0  5  5  9  7  9\n",
            "  9  9  9  1  0  7  9  0  0  9  9  0  0  0  3  1  1  9  9  1  0  1  4  1\n",
            "  1  2  7  9  9  6  9  9  1  0  1  0  1  0  0  1 10  0  8  9  9  1  1  1\n",
            "  1  4  1  1  7  9  9  4  0  1  9  0  1  9  0  7  7  1  1  0  9  1  1  7\n",
            "  9  9  9  7  0  1  1  7  1  1  1  8  9  7  9  3  0  1  8  3  1  1  2  0\n",
            "  1  7  1  7  5  7  4  7  1  7  8  7  9  1  6  0  9  4  9  9  7  4  9  0\n",
            "  1  9  0  1  0  7  0  4  1  1  0  0  7  2  9  7  1  9  0  9  1  0  6  0\n",
            "  9  1  1  4 10  9  0  7  6  7  1  1  9  0  9  0  0  1  6  1  9  0  0  7\n",
            "  1  1  7  6  8  1  1  1  8  1  0  1  1  0  9  9  0  2  7  0  9  1  1  9\n",
            "  8  0  0  1  0  8  1  4  1  9  6  7  4  7  7  1  1  1  0  3  1  0  1  7\n",
            "  6  1  1  7  1  0  6  0  1  8  1  1  1  1  0  1  7  1  6  1  1  1  9  9\n",
            "  1  1  1  1  1  9  8  1  7  1  1  1  1  0  0  1  0  1  1  0  1  6  9  0\n",
            "  6  7  1  9  1  9  0  1  9  0  4  6  0  1  1  1  1  8  5  1  0 10  0  5\n",
            "  0  1  7  0  7  7  0  6  9  9  1  1  7  0  9  9  6 10  1  1  4  0  0  1\n",
            "  1  9 10  1  1  0  1  7  2  0  1  0  1  4  1  8  1  1  7  7  9  1  4  0\n",
            "  0  4  3  0  4  8  9  3  7  0  0  1  1  7  7  0  0  0  0  1  0  0  1  0\n",
            "  8  7  0  4  1  7  9  7  2  7  9  0  6  1  1  1  0  0  0  9  0  1  1  1\n",
            "  1  9  1  1  5  1  1  2  1  9  6  1  7  9  1  1  0  1  9  0  1  4  7 10\n",
            "  1  1  1  1  1  7  7  1  6  1  7  0  0  7  0  1  1  1  1  7  1  7  0  0\n",
            "  1  0  2  4  0  0  0  9  9  8  1  1  7  7  1  1  9  1  0  1  0  9  1  9\n",
            "  0  1  0  4  1  1  1  1  1  0  7  0  9  0  0  7  7  0  1  0  1  1  1  1\n",
            "  3  7  1  7  1  7  1  0  7  1  4  1  0  1  1  1  0  1  0  1  0  0  0  7\n",
            "  1  7  9  9  1  6  1  1  1  9  0  1  1  1  7  8  0  9  0  0  1  5  8  0\n",
            "  3  1  1  0  1  1  9  0  0  0  1  0  1  9  4  7 10  1  1  1  1  3  1  9\n",
            "  1  0  1  1  9  1  7  0  0  7  9  1  4  0  7  1  5  1  1  1  2  1  9  1\n",
            "  0  9  1  9  4  9  0  7  9  0  7  1  7  1 10  1  1  1  1  0  0  7  1  1\n",
            "  1  5  1  0  0  2  1  0 10  1  1  0  1  0  4 10  1  0  1  1  1  6  8  1\n",
            "  0  1  1  4  4  1  1  9  1  1  7  7  0  1  6  9  1  0  1  0  6  1  1  1\n",
            "  4  0  0  0  1  1  4  1  0  1  7  0  7  7  0  9  9  1  7  1  1  9  7  9\n",
            "  1  7  3  1  0  2  1  3  1  0  1  0  1  1  0  0  1  9  2  2  3  7  1  9\n",
            "  4  7  9  1  1  9  1  1  1  7  1  9  0  1  1  1  7  1  7 10  9  1  5  1\n",
            "  7  1 10  1  1  0  0  7  6  1  1  9  1  9  0  2  1  1  8  1  7 10  0  1\n",
            "  1  3  6  1  9  6  7  1  0  9  4  1  5  8  9  1  7  1  0  0  1  0  1 10\n",
            "  2  3  1  7  3  0  0  9  0  1  1  0  6  0  1  1  0  8  1  1  4  1  1  7\n",
            "  0  0  1  1  1  1  1  1  0  1  1  1  7  9  9  3  7  4  0  0  0  1  1  4\n",
            "  7  1  9  6  9  1  9  1  0  1  1  1  8  0  1  1  7  9  7  0  9  7  0  8\n",
            "  1  1  0  1  0  1  9  7  9  4  1  0  7  6  0  1  1  2  1  1  1  7  9  1\n",
            "  7  1  1  4  7  7  6  4  7  1  1  4  1  1  1  0  1  1  8  1  4  4  2  0\n",
            "  1  1  7  9  6  6  9  0  4  0  4  0  1  0  7  0  4  1  0  7  9  1  1  1\n",
            "  6  1  1  9  0  9  1  1  7  1  1  1  9  0  0  7  0  7  9  1  6  4  0  1\n",
            "  1  6  0  1  6  6  0  9  1  2  1  1  1  2  9  7  0  0  2  0  6  7  0  0\n",
            "  1  4  1  0  9  3  0  1  1  4  9  7  1  7  7  1  7  7  1  9  7  1  8  1\n",
            "  7  9  0  9  0  2  2  8  1  4  1  0  7  7  2  0  7  1  6  7  2  8  6  7\n",
            "  0  9  1  1  7  7  9  2  1  1  7  7  1  0  1  1  7  8  7  7  1  2  1  1\n",
            "  1  1  4  1  6  1  1  0  9  0  7  8  1  9  0  1  1  1  1  1  8  1  4  7\n",
            "  0  0  1  1  0  0  1  0  4  0  0  1  0  9  1  4  1  1  0  9  1  7  7  0\n",
            "  1  1  7  8  1  0  1  0  7  2  0  1  8  7  4  9  0  0  0  1  9  1  4  7\n",
            "  1  9  1  6  9  7  7  7  0  0  0  0  1  0  4  9  0  7  7  9  7  9  0  0\n",
            "  8  4  1  1  7  1  1  1  1  1  7  9  0  1  6  0  9  0  1  0  4  1  4  2\n",
            "  7  0  8  1  9  1  9  1  0  9  9  1  9  1  0  0  9  1  9  9  1  1  7  1\n",
            "  4  9  1  1  9  0  0  1  1  1  1  2  1  8  7  0  1  7  0  7  7  1  9  7\n",
            "  0  8  2  1  1  9  6  8  0  7  1  4  3  1  1  1  9  9  0  7  0  1  1  0\n",
            "  0  0  1  9  9  1  0  1  0  4  9  9  2  7  0  1  1 10  1  0  0  7  1  7\n",
            "  1  2  1  1  0  7  9  0  9  9  1  2  0  0  2  9  1  1  1  2  1  1  1  9\n",
            "  9  0  1  1  9  7  4  6  0  6  1  9  1  0  0  1  1  8  1  7  0  1  1  1\n",
            "  0  1  1  1  9  1  0  0  0  1  9  7  9  0  1  0  1  4  2  0  1  0  0  0\n",
            "  7  9  1  1  1  1  9  5  2  1  7  1  9  9  0  1  2  1  1  4  1  9  1  1\n",
            "  9  6  0  9  1  1  9  1  9  1  4  1  7  0 10  1  1  7  0  1  7  1  7  2\n",
            "  1  7  0  8  0  9  1  7  8  0  0  7  0  1  1  0  7  1  7  2  1  9  0  0\n",
            "  8  5  4  8  4  3  1  4  0  0  0  1  7  1  1  1  9  7  1  9  7  0  0  0\n",
            "  1  7  1  0  0  0  0  9  2  9  1  4  1  0  1  1  1  0  9  6  1  0  9  1\n",
            "  0  4  1  0  5  2  0  2  1  9  0  9  2  2  7  0  1  2  0  0  0  7  0  2\n",
            "  0  4  9  4  1  7  1  1  4  1  9  9  1  1  1  7  0  0  0  2  0  0  1  9\n",
            "  9  1  0  1  4  1  1  7  2  7  2  1  1  1  2  7  5  1  1  7  1  1  9  1\n",
            "  1  1  6  0  0  1  1  7  7  6  6  9  0  7  9  9  7  9  0  0  1  7  1  1\n",
            "  9  7  6  2  1  9  7  0  0  9  0  9  1  7  7  0 10  1  1  4  1  1  9  9\n",
            "  0  1  4  7  0  1  7  1  1  0  6  1  7  1  3  7  0  1  1  1  4  6  4  0\n",
            "  7  2  1  6  1  0  1  1  7  0  9  0  0  0  1  7 10  6  9  0  2  1  4  7\n",
            "  4  0  3  7  7  0  0  0  0  1  0  7  1  1  1  0  0  1  1  5  5  4  9  1\n",
            "  9  9  7  7  1  1  1  9  1  1  4  1  9  1  0  7  0  2  0  7  9  7  0  1\n",
            "  7  9  4  4  0  7  7  7  7  1  0  7  1  7  7 10  4  1  9  2  0 10  9  4\n",
            "  0  2  0  9  1  4  2  7  5  7  1  5  7  7  9  5  0  1  7  1  7  7  0  1\n",
            "  9  9  0  0  7  6  6  0  4  9  0  9  7  1  4  0  1  0  0  9  6  9  1  7\n",
            "  4  7  1  1  9  7  7  1  4  7  1  4  1 10  7  1  1  1  0  1  1 10  1  0\n",
            "  1  0  8  1  0  0  1  7  2  0  0  1  0  0  4  9  7  7  1  0  9  0  5  4\n",
            "  0  0  1  1  1  1  7  0  0  1  1  1  9  1  1  1  7  1  1  9  4  9  1  2\n",
            "  1  8  6  9  7  7  1  1 10  0  0  7  4  1  1  1  1  1  9  1  1  7  7  7\n",
            "  7  4  9  1  0  9  9  1  1  7  1  2  0  1  7  9  0  0  2  5  9  6  1  9\n",
            "  7  0  9  0  0  0  1  1  7  6  4  0  5  1  6  0  9  4  0  0  9  0  1  6\n",
            "  9  1  1  0  9  0  2  1  0  0  7  1  0  8  9  9  0  7  9  0  1  1  1  1\n",
            "  0  1  0  0  0  9  2  6  4  1  2  7  1  9  9  1  1  9  1  6  0  1  6  1\n",
            "  1  0  1  4  1  2  1  1  7  0  1  1  0  0  1  1  1  0  1  1  4  7  9  2\n",
            "  0  0  7  0  1  0  1  1  2  1  0  9  1  2  1  9  1  9  0  2  0  7  1  1\n",
            "  9  7  4  0  7  9  0  1  9  0  0  0  6  0  9  9  1  9  8 10  3  9  9  9\n",
            "  0  1  0  1  0  9  0  0  1  1  0  0  1  9  0  1  7  0  0  9  0  9  4  9\n",
            "  6  1  0  0  1  0  1  0  0  0  7  8  7  1  3  7  5  7  9  3  0  8  9  0\n",
            "  0  0  1  4  8  0  0  9  0  7  9  9  8  1  0  7  0  0  1  0  1  0  0  4\n",
            "  0  0  4  1  1  1  0  0  0  1  0  1  9  9  0  4  1  7  4  1  7  0  0  2\n",
            "  0  1  0  7  1  9  8  1 10  1  0  1  1  1  0  1  1  9  6  4  1  1  1  9\n",
            "  0  4  0  0  9  9  0  9  9  9  0  1  0  1  1  1  9  4  2  4  4  1  0  8\n",
            "  7 10  1  9  7  9  1  7  7  1  0  0  2  6  1  9  0  0  0  0  7  7  6  7\n",
            "  9 10 10  1  6  9  1  1  0  0  0  0  5  9  0  0  0  0  9  9  4  4  9  9\n",
            "  7  7  0  0  0  0  0  4  7  4  4  0  1  1  4  9  9  1  7  0  7  9  1  0\n",
            "  0  0  1 10  7  0  0  1  0  0  9  0  9  8 10  5  1  1  9  1  0  0  0  0\n",
            "  9  8  4  7  4  4  4  0  9  4  9  1  4  3  5  8  9  6  1  1  0  1  8  7\n",
            "  0  6  3  0  7  0  1  7  0  7  1  2  0  0  7  0  0  0  0  0  9  1  1  1\n",
            "  9  1  9  8  6  7  0  1  7  4  1  1  8  9  8  4  9  0  1  9  1  1  1  0\n",
            "  6  9 10  7  7  0  9  2  9  7  9  0  9  0  7  0  9  0  7  0  5  7  0  7\n",
            "  0  9  0  0  0  9  0  0  9  9  0  0  9  0  0  9  8  1  1  1  0  0  2  4\n",
            "  8  9  7  0 10  9  0  9  2  9  9  0  1  1  0  0  0  0  4  0  0  0  0  7\n",
            "  1 10  9  4  7  4  9  2  0  0  0  0  1  9 10  0  1  7  7  1  0  9  9  2\n",
            "  7  5  0  9  9  9  9  0  2  0  0  0  9  9  4  4  3  0  8  0  0  0  5  8\n",
            "  5  0  0  0  0  3  0  9  0  0  9  9  9  0 11  8  8  2  0  9  0  9  5  9\n",
            "  9  0  8  9  7  0  0 10  4  9  0  1  0  9  6  0  3  0  0  7  0  0  0  0\n",
            "  0  0  0  9  0  9  0  6  7  9  0  1  3 10  1  1  4  0  5  0 10  0  2  5\n",
            "  2  1  0  0  0  0  0  0  5  0  0  0  0  1  8  0  0  0 11  0  9  0  0  3\n",
            "  6 10  8  0  0  6  6 10  0  5  0  0  0  0  9  0  9  9  0  4  7  5  6  9\n",
            "  0  0  0  1  0  6  9  9  6  9  4  0  1  6  7  0  0  6  1  0  6  4  1  5\n",
            "  0  5  3  0  0  1  0  0  4  0  1  0  0  8  0  8  5  5  5 11 11  0  0 11\n",
            "  3  0  0  6  9  9  0  0  0  0  9 10  2  9  0  6  4  0  9  1  0  5  8  0\n",
            "  0  7  2  7  0  0  0  0  9  8  0  0  0  0  8  1  7  0  7  7  7  7  0  7\n",
            "  4  1  9  1  1  9  7  3  1  1  0  4  9  0  0  8  7  9  7  9  1  7  0  0\n",
            "  9  0  0  0  0  0  9  0  6  8  6  8  0  1  7  9  0  5  0  0  9  0  7  0\n",
            "  9  0  0 10  0  9  4  0  8  1 10  1  1  4  0  0  7  0  0  1  9  0  0  5\n",
            "  1  0  4  3  4  8  0  6  0  0  1  1  0  1  1  9  6 11  9  8  0  0  4  6\n",
            "  0  5  9  1  8  0  6  0  0  8  1  1 10  9  7  5  6  0  0  0  0  4  9  9\n",
            "  9  4  4 11  1  0  0  9  2  8  8  8  8  4  3  0  0  0  9  9  8 10  9  4\n",
            "  2  0  1  7  7  0  2  9  0  0  9 10  1  1  0  8  0  0  0  2 10  9  0  0\n",
            "  0  9 10  0  0  8  0  9  5  0  0  0  4  7  9  9  7  7  7  9  1  0  0  0\n",
            "  5  9  1  0  0  1  8  5  7  3  9  4  4  4  4  3  0  0  1  1  0  4  1  0\n",
            "  4  0  0  8  0 10  9  5  9  0 10  4 10  6  0  4  5  8  4  7  6  1  3  0\n",
            "  0  7  6  5  1  0  0  0  7  9  4 11  9  0  4  9  0  0  9  0  5  1  0  0\n",
            "  8  5  0  7  0  0  4  9  5 10 10 10  0  0  0  7  0  0  9  0  0 11  0  0\n",
            "  2  8  9  1  9  0  7  8  8  0 11  9  7  6  7  9  7  6 10  4 10  0 10  5\n",
            "  5  0  0  8  0  0  0  0  0  7  0  7  0  4 10 10  0  9  4  0  0  9  9  0\n",
            "  0  0  0  4 11 11 11 11 11  0 11  1  9 10  0  8  0  0  9  6  0  0  0  4\n",
            "  9  7  3  6  0  0  4  0  4  0  4  9  2  0  0  9  7  2  0 10  0  0  9  5\n",
            "  5  1  9  4  5  4  9  0  9  0  9  0  1  1  0  7  0  5  5  1  5  5  1  0\n",
            "  0  9  8  0  7  1  4  1  9  0  6  8  4  8  0  9  0  0  9  9  9  9  1  7\n",
            "  1  0  7  1  1  7  0  1  0  2  0  0  4  0  0  0  5  0  8  0  0  9  9  7\n",
            "  0  0  0  0  8  7  9  0  8  9  9  0  4  0  6  4  4  0  0  0  8  7  4  7\n",
            "  4  9  0  0  2  7  1  3  2  0  2  2  0  9  0  0  0  0  8  0  9  0  9  4\n",
            "  8  4  4  0 10 11 11  1 10 10  0  3  0  9 10  0  0  0  0  8  0  7  0  0\n",
            "  0  7  0  9  9  8  7  4  4  0  9  0  8  0  6  0  0  3  0  0  1 11  9  8\n",
            "  9  6  4  9  9  9  0  0  7  0  7  0  1  8  0  4  0  1  4  0  0  8  4  1\n",
            "  0  0  0  4  1  0  9  1  3  0  0  0  0  0  0  0  0  0  0  2  8  2  0  9\n",
            "  9  8 10  0  6  8  9  0  3  9  9  9  0  9  0  0  8  9  0  8  1  0  0 10\n",
            "  0  0  0  0  0  6  8  9  0  9  0  9  8  9  7  0  0  8  0  0  6  4  4  7\n",
            "  0  9  9  4  9  9  9  0  0  0  9  7  0  1  4  4  4  7  1  5  8  0  0  1\n",
            "  8  1  1  0  4  1  7  0  6  6  0  4  0  7  7  0  9  7 10  2  8  0  6  9\n",
            "  8  1  1  4  5  6  6  6  9  0  1  5  2  5  4  0  0  5  5  4 10  0  9 10\n",
            "  1  9  9  0  7  5  2  0  0  7  7  8  2  0  0  0  0  6  7  0  0  1  3  9\n",
            "  5  6  6  4  7  1 10 10  8  1 10  0  0  0  0  6  7  0  9  0  9  9  0  1\n",
            "  9  4  0  0  8  0  0  9 10  4  3  7  3  0  0  3 10  0  1  4  6  0 10  0\n",
            " 10  0  5  4 10  9  5  9 10  9  0  0  6  6 10  8  0  7  0  8  6  0  6  6\n",
            "  0  2  0  8  9  9  9  8  9  7  7  4  0  0  5  0  5  1  3  1  0  0  0  9\n",
            "  9  9  9  0  0  0  0  8  0  9  8  7  1  6  9  0  9  9  7  2  0  0  2  2\n",
            "  1  4  3  0  5  4  0  4  0  0  6  3  0  0  0  0  0  0  1  1  5  5  9  0\n",
            "  2  9  9  4  2  5  3  9  3  9  6  6 10  9  2  6  0  3  9  0  5  0 10  0\n",
            "  0  1  9 11  0  0  5  0  5  9  0  9  9  0  5  0  0  9  5  0  2  0  8  0\n",
            "  8  0  7  0  4  0  0  0  0  8  0  0  6  7  7  8 10 10  8  7  0  9  7  8\n",
            "  1  9  9  8  0  8  0  0  0  9  0  9  4  0  9  5  9  0  8  0  9  8  0  8\n",
            "  8 10  9  7  6  1  0  1  0  0  8  9  0  0  9  0  9  0  0  8  9  0  1  0\n",
            "  9  9  4  0  4  0  4  7  9  0  4  2  0  8  0  0  6  0  0  9  8  0  8  0\n",
            "  0  0  0  9  0  4  8  0  0  0  0  4 10  0  7  6  4  0  5  0  0  8  0  4\n",
            "  8 10  9  4  8  4  8  9  5  5  9  8  8  9  0  9  0  9  9  0  4 11  7  4\n",
            "  8  5  7  0  1  5 10 10  0  5  7  9  2 10  1  0  0  5  5  9  5 10  9  4\n",
            "  6  3  9  1  5  0  8  5  9  5  5  9  9  8  5  0  5  5 10  5 10  0  9  0\n",
            "  0  2  0  0  9  0  5  5  9  3  0  0  9  5  1  0  9  0  0  5  0  0  0  9\n",
            "  3  3 10  5  8  8  7  7  0 10  9  5  2  5  0  5  8  4  0  0  1  0  0  3\n",
            "  0  7  3  7 10  0  0  6  0  5  1  0  5  0  0  0  0  0 10  2  1  7  4  1\n",
            "  4  0  9  0  8  0  5  0  0  9  5  0  8  1  0  0  6  6  3  0  0  9  1  2\n",
            "  5  0  0  8  1  8  8 11  9  4  4  0  5  2  1  1  9  9  9  7  3  0  5  9\n",
            "  4  0  0  4  0  7  5  0  0  0  9  0  8  6  5  9  1  2  4  4  0  5  0  0\n",
            "  9  0  2  0  8  0  0  0  0  0  0  5  0  5  5  0  4  0  9  0  0  1  0  0\n",
            "  0  0  1  5  1  0  0  9  4 10  4  4  5  4  0  4  7  0  0  5  4  1  0  0\n",
            "  8  8  0  8  0  8  6  1  1  0  1  5  0  4  9  5  4  0  5  0  1  9  9  7\n",
            "  2  0  8  8 10  7  0  3  0  5  0  9  1  0  0  0  0  0  0  1  7  0  0  0\n",
            "  0  8  5  5  9  0  9  9  0  4  9  6  9  0  5  5  0  0  0  9  9  8 10  8\n",
            "  0  0  0  1  0  0  7  0  5  0  4  0  0  3  1  5  0  0  5  3  0 10  4  0\n",
            "  8 10  6  8  9  5  9  8  4  7  7  7  6  9 10  9  0  5 11  0  0  5  1  1\n",
            "  5  6  0  0  8  0 10 10 10 10  7  4  1  5  9  8  7  0  5  8  5  9  0 10\n",
            "  4  0 10  8  8  4  5  9  5  5 10  4  1  4  9  4  8  1  1  4 10 10  8  0\n",
            "  8  8  0  8  1  1  5  0  5  7  5 10  9  9  8  0  0  6 10  8  0  5  1  2\n",
            "  9  5  5 10  2  9  8  4  8  5  4  5  0  5  5  9  4  5  5  5  5  0  9  8\n",
            "  8  0  0 10  5  9  9  0  9  9  0  4  1  7  0  9  9  0  8  9  6  6  0  0\n",
            "  0  0  4  5  2  8 10  5  0  3  0  5  5  0  0  0  0  0  0  9  9  4  4  5\n",
            "  0  0  0  9  7  5  0  9  4  1  8  5  0  5  5  9  0  0  9  5  0  0 10  5\n",
            "  9  9  0  0  3  8  9  0 11  0  5  0  5  5  0  0 10  0  9  0  0  5  0  0\n",
            "  0  0  5  9  0  0  1  8  0  4  7  5  5  0  0  0  0  6  0  8  0  9  9  9\n",
            "  8  9  4  0  5  5  5  5  5  5  5  5  5  0  0  5  8  0  9  8  8  8  8  8\n",
            " 10  0  4  0  3  1  0  5  0  0  5  8  8  5  0  6  0  5  3 10  5  3  5  5\n",
            "  0  5  6  5  5  9  0  5  5  9  7  8  3  0  5  0  0  9  9  9  9 11  5  5\n",
            "  3  5  3  5  5  5  0  7  0  0  5  0  2  5  9  5  9  0  5  5  5  3  5  8\n",
            "  6  5  5  0  3  0  0  0  6  5  0  0  0  3  5  4  7  8  8  8  8  8  8  8\n",
            "  8  8  0  9  8  2  8  5  0  9  8  4  8 11  9  8  9  9  6  9  5  0  5  9\n",
            "  9  5  9  8  0  0  0  0  0  6  4  6  5  0  4  0  0  0  2  0  0  0  2  9\n",
            "  4  0  0  4  4  1  9  0  0  5  2  2  0  8  0  9  0 10  9 10  8  8  0  0\n",
            "  5  4  0  9  5  5  0  0 11 11  9  9  8  8  8  5  7  0  5  4  9  9  9  4\n",
            "  4  9  5  0  0  0  0  4  4  1  5  8  0  8  5  4  0  9  0  0  0  0  0  0\n",
            "  3  0  5  0  3  0  4  9  0  9  9  1  9  0  9  0  0  5  6  0  7  0  1  0\n",
            "  0  5  6  9  0  5  4  5  6  6  6  5  9  5  8  5  6  8  6  7  9  9  0  5\n",
            "  5  5  7 11 11  0  5  5  0  0 10  6  5  0  3  8  5  5  0  2  4  0  4  0\n",
            "  4  9  5  5  4  5  0  0  3  0  0  0  5  0  5 10  0  0  0  5  5  0 10  4\n",
            "  6  5  0  9 10  2  2  5  5  1  0  0  0  9  8  7  0  0  0  9  9  0 11  0\n",
            "  0  0  6  6 10 10  9 10 10  5 10  9  1  5  6  0  0  6 10  0 10  9  7  6\n",
            "  0  9  7  7  9  3  9  5  5  9  1  0  4  5  4  5  5  5  5  9  0  1  6  6\n",
            "  5  5  0  5  7  7  7 10  3  3  4  3  5  9 10  0 11 11  4  0  9  0  0  0\n",
            "  0  5  0  9  9  9  5  0  4  5  0  9  9 10  0  5  9  4  5  5 10  5 10  5\n",
            "  5  1  5  3  4  4  5  5  5  5  5  5  9  0 11 11  3  0  5 10 11  0  5  4\n",
            "  6  9  0  0  4  4  4  9  0  9  0  9  0  5  5  9  0  9  4  4  4  5  4  9\n",
            "  4  9  4 10  9  4  4  9  4  5  0 10  4  1  5  5  9  0  9  0  5  5  5  5\n",
            "  8  4  8  4  5  1 10 10  9  9  9  9  0  0  8  8  9  0  8 10  1  8  0  5\n",
            "  1  5  9  9  0  0  5  0  5  9  0  1  0  0  9  2  4  9  0 10  0  1  0  0\n",
            "  8  9  6  0  0  5  1  1  7  8  5  0  5  1  1  0  0  4  5  0  7  7  3  8\n",
            "  6  0  9  9  0  0  9  0  0  0  6  6  0  9  7  7  0  0  0  9  0  9  4  5\n",
            "  4  1  0  0  0  4  5  0  4  8  5  5  5  0  0  2  5  2  7  7 10  8  4  1\n",
            "  7  2  1  1  2  5  3  5  6  3  8  2  3  9  1  1  4  0  0  0  7  0  9  5\n",
            "  3  2  9  4  0  0  0  0  5  0  5  0  5  0  0  5  0  0  0  1  1  1 10  9\n",
            "  0  0 10 10  9  7  4  5  5  7  0 10  9  0  9  7  0  0 10  8  4  8  0  9\n",
            "  8 11  8  0  5  0  1  5  8  8  0  6  6  0  0  1  1  0  4  0  0  0  9  5\n",
            "  0  4  0  0  0 10  0  0  4  4 10 10  0  9  0  5  5  9  3  5  1  7  7  3\n",
            "  4  5  8  8  9  0  0  9  9  5  3  9  4  5  1  7  4  0  5  8  9  5  3  4\n",
            "  1  5  0  0  0  0  4  5  0 10  1  0 11  9  0  4  5 11  0  5  5  8  9  0\n",
            "  0  9  5  0  5  5  2  0  0  5  9  0  5  5  0  5  6  0  9  5  9  9  9  5\n",
            "  9  5  9  0  1  5  5  5  9  5  9  2  5  0  5  5  8  0  1  5  5  9  9  9\n",
            "  6  0  9  8  5  8  5  0  5  8  0  0  0  0  6  0  4  8  9  3  0  0  0  6\n",
            "  3  1  0  0  0  9  0  0  0  0  8  0  1  0  0  0  9  4  0  5  0  0  6  0\n",
            "  4  0  0  5  3 10 10  1  0  0  0  9  6  0  0  9  5  2  2  2  2  4  1  1\n",
            "  0  0  9  4  0  5  9  0  4  9  1  0  5  1  0  5 10  0  0  9  9  0  4  9\n",
            "  5  0  0  8  0  0 10  3  8 11  4  0 11  1  3  5  0  0  1  3  0  9  4  4\n",
            "  0  9  5  0  0  0  0  8  0  0  5  0  9  4  5  8  0  4  0  4  0  0  7  5\n",
            "  7  0  6  0  5  8  9  4  5  9  0  8  8  8  4  5  7  0  0  8  0  0  3  0\n",
            "  7  8  9  6  8  5  0  5  4  4  0  0 10  0  5  0  0  5  6 10  0  0  0  5\n",
            "  1  1  6  1  3  8  1  5  0  4  9 10  6 10  3  0  0  0  0  9  8  1  0  0\n",
            "  0  0  5  9  8  5  9  5  0  9  1  9  9  9  0  4  5  5  0  7  4  9  1  5\n",
            "  8  9  8  9  8  9  9  0  5  0  0  5  5  0  3  0  4  2  2  2  6  0  0  1\n",
            "  0  4  0  6  7  0  1  4  9  0  5  5  9  1  8  0  0  4  9  9  5  0  5  4\n",
            "  5  9  9  1  5  6  4  0  1  4  0  5  5  4  0  0  3  0  0  5 10  5  4  4\n",
            "  4  0  0  5  0  5  4  4  5  8  8  5 11  0  6  6  0  5  8  9  5  8  4  0\n",
            "  5  5  5  4  0  2  3  9  5  9  9  9  0  4  5  5  5  5  5  1  0  0  0  0\n",
            "  1  3  1  1  1  1  0  9  5 10  9  1  9  9 11  5  5  0  5  4  1  0  0  0\n",
            "  5  8  4  0  5  0  0  0  5  0  8  9  3  0  1  9  9  0  0  0  3  0  0  9\n",
            "  9  5 10  0  7  8  5  4  8  6  0  5  6  0  4  8  8  5  4  4  3  5 10  0\n",
            " 10  5  3  3  3  3  5  3  5  0  0  9  8  9  5  8  9  5  5  5  5  0  1  0\n",
            "  7  5  0  5  5  3  4  5  9  8  5  8  8  5  5 10  0  8  9  1  6  2  0  0\n",
            "  0  8  4  0  9 10  0  9  8  8  8  0  9  8  5  8  0  0  1  0  0  5  1  0\n",
            " 10  0  9  9  5  6  0  0 10 10  0  8 11  5  6  4  6  0  4  5  1  9  9  0\n",
            "  0  0  9  0  5  1  8  0  4  4  0  9  1  5  5  5  0  1  9  9  9  9  0  5\n",
            "  5  9 11  8  0  1  7  9  0  8  1  1  0  1  4  0  8  0  9  4  9  0  9  7\n",
            "  0  9  4  0  0  1  0  1  5  0  0  8  5  1  0 10  5  2  5  9  9  9  5  8\n",
            "  8  9  0  9  0  0  6  4  9  0  7  4  5  0  1  1  7  1  1  6  0  1  7  5\n",
            "  0  1  0  1  0  0  0  0 10  0  0  5  0  0  0  1  1 10  6  9  6  6  9  0\n",
            "  0  0  9  0  0  0  7  0  9  0  0  6  7  6  0  8  3  0  8  7  7  5  9  5\n",
            "  5  9  4  0  9 10  9  9  0  0  9  5  0  0  9  6 10  9 10  0  9  5 10  6\n",
            " 10  9  0 10  0  9  7  0  5  9  5  8  6  9  5  0  9  1  9  0  0  0  0  7\n",
            "  0  0  0  9  9  4  0  5 10  0  9  9  0  8  8  8  9  9  1  5  5  0  8  1\n",
            "  8  0  0  0  8  8  5  1  9  0  0  0  5  3  1  1  3  7  7  1  0  6  0  0\n",
            "  5  0  0  1  7  7  7  7  7  0  4  1  7  7  7  1  9  5  5  0  0  6  4  0\n",
            "  0  9  5 10 10  0  0  0  0  4  3  0  0  8  0  8  0  8  5  0  0  0  9  9\n",
            "  0  0  5  3  5  9  4  5  4  4  3 10  5  9  5  9  0  4  0  0  3  2  3  0\n",
            "  0  0  3  0  3  9  1  0  0  9  4  0  3  0  8  8  2  0  0  0  5  0  0  0\n",
            "  0  7  0  7  7  5  0  5  9  9  5  6  0  6  0  5  5  5  5  3  3  3  5  3\n",
            "  5  4  5  0  5  3  5  5  5  5  3 10  3  5  5  5  5  0  5  0  0  0  3  0\n",
            "  5  8  0  9  5  0  0  4  9  9  0  9  8  8  0  1  5  1  5  9  1  8  4  8\n",
            "  8  0  0  0  8  4  7  9  8  0  0  0  0  0  0  0  7  0  5  6  0  9  0  0\n",
            "  7 10  0  0  0  9  1  4  8  0  1  9  9  8  8  8  0  0  0  0  0  1  1  8\n",
            "  8  5  5  9  0  8  9  8  8  7  8  3  8  8  8  8  0  8  0  0  1  8  8  0\n",
            "  4  5  9  9  7  0  0  0  0  8  8  9  5  8  5  4  9  8  9  8  5  9  5  0\n",
            "  1  5  8  2  0  2  0  9  8  9  9  0  0  0  0  5  1  0  4 10 10  0  9  0\n",
            "  0 10  5  0  4  4  1  5  4  0 10  0  0  7  5  0  0  0  4  0  4  4  0  9\n",
            "  0  0  5  9  5  0  5  9  4  0  0  8  5  0  0  0  1  0  5  9  5  7 10  0\n",
            "  6  8  5  5 11  4  0  0  4 10  0  0  8  7  7  1  4  0  0  7  6  8 10  5\n",
            "  4  9  5 10  5  9  8  8  0  0  5  8  1  5  5  3  9  5  0  0  5  7  5  9\n",
            "  9  0  8  1  1  9  9  0  5  0  8  0  8 10  0 10  7  9  5  9  0 10  5  0\n",
            "  5  0  9 11 10  9  8  0 11 11  9  4  0  0  0  1  7  7  3  7  7  0  7  0\n",
            "  9  5  9  3  9  9  9  1  0  1  0  0  9  0  0  0 10  7  6  1  1  1  7  0\n",
            "  0  0  1  9  9  1  1  8 10  2 10  9  0  0  0  9  9  0  9  7  1  0  0  0\n",
            "  0  0  0  4  4  8  9  5  6  8  4  6  6  9 10  9  0  8  7  0  7  7  0  6\n",
            "  8  8  9  0  4  3  0  9  9 10  4  9  0  2  1  0  8  4  7  4  9  1  1  8\n",
            "  8  4  5  8  5 11  0  0  1  5  2  0  0  9  9  8  8  4  4  0  0  0  0  0\n",
            "  1  9  0  1  9  0  1  8  4  8  9  5  0  6  4  6 10 10  0  9  5  7  4  0\n",
            " 10  0  9  5  9  8  9  9  0  3 10  5 10  5  0  4  7 10  0  0  9  4  1  0\n",
            "  1  1  6 10  1  4  6  5  6  9  4  5 10  1  5  5  5  5 10  0  8  0  8  2\n",
            "  2  0  4  9  0 10  1  9  0 11  0  0  9 11  7  5  9  5  8  0  0  5  9  0\n",
            "  0  0  0  4  0  0  4  0  0  0  1 10  1  7  0  0  0  0  0  7  1  0  0  0\n",
            "  0  9  0  9  0  0  0  0  0  8  0  0  0  3  0  0  0  6  3  8  2  0  0  0\n",
            "  7  0 11  0  5  0  0  8  7  8  8  8  0  9  0  0  0  6  8  7  5  0  5 10\n",
            "  5  5  0  0  2  5  1 10 10  1  5  0  9  5  0  1  9  9  9  9  9  0  8  0\n",
            "  8  5  1  8  9  9  0  0  8  0  5  0  7  5  7  5  5  5  0  0  8 10  9  9\n",
            "  7  5  1  9  0  9  1  8  0  9  1  4  9  9  5  0  7  1  0  7  8  5  1  1\n",
            "  1  9  4  7  7  7  0  6  0  8  5  5  0  1  0  6  0  9  5  5  0  9  0  0\n",
            "  0  0  0  0  9  0  0  0  9  4  0  0  9  3  0  0  9  9  5  5  5  5  9 10\n",
            "  5  5  0  9  9  7  3  9 11  9  8  1  5 10  0  9  3  0  3  5  5 10  8  9\n",
            "  5  0  7  9  0  4  4  0  9  6  0  7  7  4  8  4 11  8  9  9 11  0  0  0\n",
            "  0  1  9  4  0  0  9  0  1  0  5  5  0  9  5  0  0  8  0  9  0  9  0  9\n",
            "  0  5  8  3  5  5  8  6  1  8  5  5  3  0  3  9  5 11  0  5  0  3  2  9\n",
            "  0  4  9  1  5  9  0  0 10  7  4  0  0  4  0  5  5  4 10  0  6  4  5  7\n",
            "  0  7  8  0  8  0  5  9  7  8  0  5  8  0  6  5  5  7  9  9  0  7  9  0\n",
            "  5  0  8  5  9  0 10  8  7  8  0  0  5  8  8  1  0  8  9  9  8  8  5  0\n",
            "  8  0 11  8  8  8  0  1  8  0  8  8  0  0  0  8  7  1  0  0  0 10  9 10\n",
            "  0  1  0  0  0  9  0  8  5  8  2  8  2  5  4  9  5  0  0  0  3  5  3  2\n",
            "  0  0  5  0  0  4  9  9  0  0  0  5 11  9  6  7  6  0  4 10  4  5  1  7\n",
            "  9  0  0  4  3  5  0 10  4  1  5  8  0  9  5  0  4  0  5  9  0  0  5  9\n",
            "  7  0  8  1  5  5  5  0  0  0  0  0  9  0  3  1  4  9  0  9  5  0  1  0\n",
            "  5  0  4  4  1  8  6  2  7  4  7  0  0  6  0  1  9  4  0  5  9  0  9  9\n",
            "  9  5  8  0  2  6  8  4  0  0  0  0  0  7  0  6  0  5  1 10  8  8  9  2\n",
            "  1  0  4  7  0  0  0  8  1  0  5  5  5  5  1  0  0  5  5  0  5  9  0  8\n",
            "  8  0  5  0  1  8  8  0  5  0  6  8  0  8  4  5  9  5  4  7  5  1  0  4\n",
            "  4  4  5  7  9  4  0  9  5  0  5  7  0  4 10  5  0  4  7 10  0  9  9  9\n",
            " 10  0  0  5  9  0  8 10  0  0  1  2  2  5  2  7  5 10  0  0  0  7  0  5\n",
            "  7  9  1  1  5  5  5  5  7  0  5  0  4  4  6  0  0  2  5  5  0  4 10  4\n",
            " 11  4  4  7  1  8  8  4  1 10  0  5  9  5  0  0 10 10  9  9  9  0  9  0\n",
            "  0  9  9  0  0  9  5  7  9  0  5  9  7  7  8  9  4  5  9  8  8  9  5  5\n",
            "  7  1  7  0  3  0  9  8  4  9  5  4  3  9  5 10  0  0  0  4  4  9  8  5\n",
            "  8  0  5  8  4  9  8  5  0  0  2  9  9  8  0  0  8  9  0 10  5  8  0  0\n",
            "  9  0  0  0  5  0  9  8  0  0  8  9  9  9  9  9  9  4  9  9  9  9  7  8\n",
            "  3 10  4  1 10  0  0  9  9  9 10  0  4  1  0  6  1  9  0  6  7  0  0  8\n",
            "  8  9  3  9  9  0  9  0  9  0  7  8  9  0  0  4  9  0  8  0 10  9  9  9\n",
            "  8  5  0  0  0  9  7  0  8  0  0  8  8  8  0 10  0  0  8  8  8  0  8  0\n",
            "  0  0  8  4  0  0  0  0  4  9 10  0  0  5  8  6  0  9  9  9  9  1  9  0\n",
            "  9  0  9  0  0  6  9  5  0 10  0  5  0  0  5  0  1  5  1  9  0  8  3  5\n",
            "  8  7  9  3  5 10  0  9  0  7  7  9  9  0  0  7  7  5  1  5  7  7  9 10\n",
            "  7  5  0  8  1  9  1  9  8  8  8  0  1  5  0  8  9  1  3  8  0  5  5  0\n",
            "  9  0  5  0  4  6  5  5  0  9  9  1  6  0  0  0  0  6  0  6  0  5  5  8\n",
            "  5  5  0  5  8  5  0  9  9  9  0  9  0  5  5  5  7  0  5  5  9  8  0  5\n",
            "  9  2  7  7  5  8  9  3  7  0  8  4  5 11  3  3  8  1  0  3  5  0  9  0\n",
            "  4  0 10  8  8 10  8  6 10  8  5  7  0  4  0  8 10  0  7  9  9  0  8  0\n",
            "  9  0  8  0  0  8  0  0  8  8  4  9  5  8  8  9  5  4  5  7  0  4  7  0\n",
            "  9  9  9  0  0  7  0  5  8  0  1  0  1  1  0  7  8  0  0  9  8  0  1  1\n",
            "  8  1  0  0  0  9  8  0  7  0  8  0  0  5  0  9  0  0  0  0 11  9  9  0\n",
            "  0  9  0  7  1  9  9  1  0  0  9  1  9  9  0  0  0  0  0  4 10  6  8  9\n",
            " 10  0 10  7  4  0  0  9  0  0  0  9  0  0  1  9  4  3  9  3  9  3  9  9\n",
            "  0  0  1  9  0  3  0  0  2  7  4  8  0  5  5  8  3  5  5  5  0  0 10  5\n",
            "  1  5  9  5]\n"
          ],
          "name": "stdout"
        }
      ]
    },
    {
      "cell_type": "code",
      "metadata": {
        "id": "jhmXy3k-KE66",
        "colab_type": "code",
        "outputId": "02622b89-0dad-4aab-99c5-2c8825dc7ad2",
        "colab": {
          "base_uri": "https://localhost:8080/",
          "height": 34
        }
      },
      "source": [
        "len(integer_encoded), bank.shape"
      ],
      "execution_count": 0,
      "outputs": [
        {
          "output_type": "execute_result",
          "data": {
            "text/plain": [
              "(41188, (41188, 18))"
            ]
          },
          "metadata": {
            "tags": []
          },
          "execution_count": 357
        }
      ]
    },
    {
      "cell_type": "code",
      "metadata": {
        "id": "IPimUnq7Krt3",
        "colab_type": "code",
        "outputId": "b0c6a005-fb96-4aa2-d7fc-701d4fbfeb3b",
        "colab": {
          "base_uri": "https://localhost:8080/",
          "height": 34
        }
      },
      "source": [
        "bank.shape"
      ],
      "execution_count": 0,
      "outputs": [
        {
          "output_type": "execute_result",
          "data": {
            "text/plain": [
              "(41188, 18)"
            ]
          },
          "metadata": {
            "tags": []
          },
          "execution_count": 358
        }
      ]
    },
    {
      "cell_type": "code",
      "metadata": {
        "id": "3uV7BvLDKtnf",
        "colab_type": "code",
        "outputId": "9aa25046-d40c-4aef-e211-8a4bbdceff09",
        "colab": {
          "base_uri": "https://localhost:8080/",
          "height": 160
        }
      },
      "source": [
        "bank['job_label'] = integer_encoded\n",
        "bank.head(3)"
      ],
      "execution_count": 0,
      "outputs": [
        {
          "output_type": "execute_result",
          "data": {
            "text/html": [
              "<div>\n",
              "<style scoped>\n",
              "    .dataframe tbody tr th:only-of-type {\n",
              "        vertical-align: middle;\n",
              "    }\n",
              "\n",
              "    .dataframe tbody tr th {\n",
              "        vertical-align: top;\n",
              "    }\n",
              "\n",
              "    .dataframe thead th {\n",
              "        text-align: right;\n",
              "    }\n",
              "</style>\n",
              "<table border=\"1\" class=\"dataframe\">\n",
              "  <thead>\n",
              "    <tr style=\"text-align: right;\">\n",
              "      <th></th>\n",
              "      <th>age</th>\n",
              "      <th>job</th>\n",
              "      <th>marital</th>\n",
              "      <th>education</th>\n",
              "      <th>default</th>\n",
              "      <th>housing</th>\n",
              "      <th>loan</th>\n",
              "      <th>contact</th>\n",
              "      <th>duration</th>\n",
              "      <th>campaign</th>\n",
              "      <th>previous</th>\n",
              "      <th>poutcome</th>\n",
              "      <th>emp.var.rate</th>\n",
              "      <th>cons.price.idx</th>\n",
              "      <th>cons.conf.idx</th>\n",
              "      <th>euribor3m</th>\n",
              "      <th>nr.employed</th>\n",
              "      <th>y</th>\n",
              "      <th>job_label</th>\n",
              "    </tr>\n",
              "  </thead>\n",
              "  <tbody>\n",
              "    <tr>\n",
              "      <th>0</th>\n",
              "      <td>56</td>\n",
              "      <td>housemaid</td>\n",
              "      <td>married</td>\n",
              "      <td>basic.4y</td>\n",
              "      <td>no</td>\n",
              "      <td>no</td>\n",
              "      <td>no</td>\n",
              "      <td>telephone</td>\n",
              "      <td>261</td>\n",
              "      <td>1</td>\n",
              "      <td>0</td>\n",
              "      <td>nonexistent</td>\n",
              "      <td>1.1</td>\n",
              "      <td>93.994</td>\n",
              "      <td>-36.4</td>\n",
              "      <td>4.857</td>\n",
              "      <td>5191.0</td>\n",
              "      <td>no</td>\n",
              "      <td>3</td>\n",
              "    </tr>\n",
              "    <tr>\n",
              "      <th>1</th>\n",
              "      <td>57</td>\n",
              "      <td>services</td>\n",
              "      <td>married</td>\n",
              "      <td>high.school</td>\n",
              "      <td>unknown</td>\n",
              "      <td>no</td>\n",
              "      <td>no</td>\n",
              "      <td>telephone</td>\n",
              "      <td>149</td>\n",
              "      <td>1</td>\n",
              "      <td>0</td>\n",
              "      <td>nonexistent</td>\n",
              "      <td>1.1</td>\n",
              "      <td>93.994</td>\n",
              "      <td>-36.4</td>\n",
              "      <td>4.857</td>\n",
              "      <td>5191.0</td>\n",
              "      <td>no</td>\n",
              "      <td>7</td>\n",
              "    </tr>\n",
              "    <tr>\n",
              "      <th>2</th>\n",
              "      <td>37</td>\n",
              "      <td>services</td>\n",
              "      <td>married</td>\n",
              "      <td>high.school</td>\n",
              "      <td>no</td>\n",
              "      <td>yes</td>\n",
              "      <td>no</td>\n",
              "      <td>telephone</td>\n",
              "      <td>226</td>\n",
              "      <td>1</td>\n",
              "      <td>0</td>\n",
              "      <td>nonexistent</td>\n",
              "      <td>1.1</td>\n",
              "      <td>93.994</td>\n",
              "      <td>-36.4</td>\n",
              "      <td>4.857</td>\n",
              "      <td>5191.0</td>\n",
              "      <td>no</td>\n",
              "      <td>7</td>\n",
              "    </tr>\n",
              "  </tbody>\n",
              "</table>\n",
              "</div>"
            ],
            "text/plain": [
              "   age        job  marital    education  default housing loan    contact  \\\n",
              "0   56  housemaid  married     basic.4y       no      no   no  telephone   \n",
              "1   57   services  married  high.school  unknown      no   no  telephone   \n",
              "2   37   services  married  high.school       no     yes   no  telephone   \n",
              "\n",
              "   duration  campaign  previous     poutcome  emp.var.rate  cons.price.idx  \\\n",
              "0       261         1         0  nonexistent           1.1          93.994   \n",
              "1       149         1         0  nonexistent           1.1          93.994   \n",
              "2       226         1         0  nonexistent           1.1          93.994   \n",
              "\n",
              "   cons.conf.idx  euribor3m  nr.employed   y  job_label  \n",
              "0          -36.4      4.857       5191.0  no          3  \n",
              "1          -36.4      4.857       5191.0  no          7  \n",
              "2          -36.4      4.857       5191.0  no          7  "
            ]
          },
          "metadata": {
            "tags": []
          },
          "execution_count": 359
        }
      ]
    },
    {
      "cell_type": "code",
      "metadata": {
        "id": "Hi7kpJ0LLLtv",
        "colab_type": "code",
        "colab": {}
      },
      "source": [
        "def make_features(X):\n",
        "  get2darray = np.array([])\n",
        "  for i in X:\n",
        "    values = bank[i]\n",
        "\n",
        "    label_encoder = LabelEncoder()\n",
        "    integer_encoded = label_encoder.fit_transform(values)\n",
        "    get2darray = np.append(get2darray, [integer_encoded])\n",
        "  return(get2darray)# you need to return it, print returns a nonetype"
      ],
      "execution_count": 0,
      "outputs": []
    },
    {
      "cell_type": "code",
      "metadata": {
        "id": "gbK0_I8LSK_H",
        "colab_type": "code",
        "colab": {}
      },
      "source": [
        "X =  ['marital','education', 'default', 'housing', 'loan', 'contact', 'poutcome']\n",
        "twodimensionalarray = make_features(X)"
      ],
      "execution_count": 0,
      "outputs": []
    },
    {
      "cell_type": "code",
      "metadata": {
        "id": "x_-M0ZuZYVlf",
        "colab_type": "code",
        "colab": {}
      },
      "source": [
        "newshape = twodimensionalarray.reshape((7,41188))"
      ],
      "execution_count": 0,
      "outputs": []
    },
    {
      "cell_type": "code",
      "metadata": {
        "id": "xO4nMvKxgjhC",
        "colab_type": "code",
        "colab": {}
      },
      "source": [
        "\n",
        "bank['education_labeled'] = newshape[0]\n",
        "bank['default_labeled'] = newshape[1]\n",
        "bank['housing_labeled'] = newshape[2]\n",
        "bank['loan_labeled'] = newshape[3]\n",
        "bank['contact_labeled'] = newshape[4]\n",
        "bank['poutcome_labeled'] = newshape[5]"
      ],
      "execution_count": 0,
      "outputs": []
    },
    {
      "cell_type": "code",
      "metadata": {
        "id": "FUDIU25DfmvZ",
        "colab_type": "code",
        "outputId": "3c461f94-9655-4082-b19e-2059e98e8da8",
        "colab": {
          "base_uri": "https://localhost:8080/",
          "height": 439
        }
      },
      "source": [
        "bank.columns.tolist()"
      ],
      "execution_count": 0,
      "outputs": [
        {
          "output_type": "execute_result",
          "data": {
            "text/plain": [
              "['age',\n",
              " 'job',\n",
              " 'marital',\n",
              " 'education',\n",
              " 'default',\n",
              " 'housing',\n",
              " 'loan',\n",
              " 'contact',\n",
              " 'duration',\n",
              " 'campaign',\n",
              " 'previous',\n",
              " 'poutcome',\n",
              " 'emp.var.rate',\n",
              " 'cons.price.idx',\n",
              " 'cons.conf.idx',\n",
              " 'euribor3m',\n",
              " 'nr.employed',\n",
              " 'y',\n",
              " 'job_label',\n",
              " 'education_labeled',\n",
              " 'default_labeled',\n",
              " 'housing_labeled',\n",
              " 'loan_labeled',\n",
              " 'contact_labeled',\n",
              " 'poutcome_labeled']"
            ]
          },
          "metadata": {
            "tags": []
          },
          "execution_count": 364
        }
      ]
    },
    {
      "cell_type": "code",
      "metadata": {
        "id": "www6oBs4STh1",
        "colab_type": "code",
        "outputId": "84004bd2-a8a1-4549-972f-ddda0b2e4152",
        "colab": {
          "base_uri": "https://localhost:8080/",
          "height": 314
        }
      },
      "source": [
        "bank.describe()"
      ],
      "execution_count": 0,
      "outputs": [
        {
          "output_type": "execute_result",
          "data": {
            "text/html": [
              "<div>\n",
              "<style scoped>\n",
              "    .dataframe tbody tr th:only-of-type {\n",
              "        vertical-align: middle;\n",
              "    }\n",
              "\n",
              "    .dataframe tbody tr th {\n",
              "        vertical-align: top;\n",
              "    }\n",
              "\n",
              "    .dataframe thead th {\n",
              "        text-align: right;\n",
              "    }\n",
              "</style>\n",
              "<table border=\"1\" class=\"dataframe\">\n",
              "  <thead>\n",
              "    <tr style=\"text-align: right;\">\n",
              "      <th></th>\n",
              "      <th>age</th>\n",
              "      <th>duration</th>\n",
              "      <th>campaign</th>\n",
              "      <th>previous</th>\n",
              "      <th>emp.var.rate</th>\n",
              "      <th>cons.price.idx</th>\n",
              "      <th>cons.conf.idx</th>\n",
              "      <th>euribor3m</th>\n",
              "      <th>nr.employed</th>\n",
              "      <th>job_label</th>\n",
              "      <th>education_labeled</th>\n",
              "      <th>default_labeled</th>\n",
              "      <th>housing_labeled</th>\n",
              "      <th>loan_labeled</th>\n",
              "      <th>contact_labeled</th>\n",
              "      <th>poutcome_labeled</th>\n",
              "    </tr>\n",
              "  </thead>\n",
              "  <tbody>\n",
              "    <tr>\n",
              "      <th>count</th>\n",
              "      <td>41188.00000</td>\n",
              "      <td>41188.000000</td>\n",
              "      <td>41188.000000</td>\n",
              "      <td>41188.000000</td>\n",
              "      <td>41188.000000</td>\n",
              "      <td>41188.000000</td>\n",
              "      <td>41188.000000</td>\n",
              "      <td>41188.000000</td>\n",
              "      <td>41188.000000</td>\n",
              "      <td>41188.00000</td>\n",
              "      <td>41188.000000</td>\n",
              "      <td>41188.000000</td>\n",
              "      <td>41188.000000</td>\n",
              "      <td>41188.000000</td>\n",
              "      <td>41188.000000</td>\n",
              "      <td>41188.000000</td>\n",
              "    </tr>\n",
              "    <tr>\n",
              "      <th>mean</th>\n",
              "      <td>40.02406</td>\n",
              "      <td>258.285010</td>\n",
              "      <td>2.567593</td>\n",
              "      <td>0.172963</td>\n",
              "      <td>0.081886</td>\n",
              "      <td>93.575664</td>\n",
              "      <td>-40.502600</td>\n",
              "      <td>3.621291</td>\n",
              "      <td>5167.035911</td>\n",
              "      <td>3.72458</td>\n",
              "      <td>1.172769</td>\n",
              "      <td>3.747184</td>\n",
              "      <td>0.208872</td>\n",
              "      <td>1.071720</td>\n",
              "      <td>0.327425</td>\n",
              "      <td>0.365252</td>\n",
              "    </tr>\n",
              "    <tr>\n",
              "      <th>std</th>\n",
              "      <td>10.42125</td>\n",
              "      <td>259.279249</td>\n",
              "      <td>2.770014</td>\n",
              "      <td>0.494901</td>\n",
              "      <td>1.570960</td>\n",
              "      <td>0.578840</td>\n",
              "      <td>4.628198</td>\n",
              "      <td>1.734447</td>\n",
              "      <td>72.251528</td>\n",
              "      <td>3.59456</td>\n",
              "      <td>0.608902</td>\n",
              "      <td>2.136482</td>\n",
              "      <td>0.406686</td>\n",
              "      <td>0.985314</td>\n",
              "      <td>0.723616</td>\n",
              "      <td>0.481507</td>\n",
              "    </tr>\n",
              "    <tr>\n",
              "      <th>min</th>\n",
              "      <td>17.00000</td>\n",
              "      <td>0.000000</td>\n",
              "      <td>1.000000</td>\n",
              "      <td>0.000000</td>\n",
              "      <td>-3.400000</td>\n",
              "      <td>92.201000</td>\n",
              "      <td>-50.800000</td>\n",
              "      <td>0.634000</td>\n",
              "      <td>4963.600000</td>\n",
              "      <td>0.00000</td>\n",
              "      <td>0.000000</td>\n",
              "      <td>0.000000</td>\n",
              "      <td>0.000000</td>\n",
              "      <td>0.000000</td>\n",
              "      <td>0.000000</td>\n",
              "      <td>0.000000</td>\n",
              "    </tr>\n",
              "    <tr>\n",
              "      <th>25%</th>\n",
              "      <td>32.00000</td>\n",
              "      <td>102.000000</td>\n",
              "      <td>1.000000</td>\n",
              "      <td>0.000000</td>\n",
              "      <td>-1.800000</td>\n",
              "      <td>93.075000</td>\n",
              "      <td>-42.700000</td>\n",
              "      <td>1.344000</td>\n",
              "      <td>5099.100000</td>\n",
              "      <td>0.00000</td>\n",
              "      <td>1.000000</td>\n",
              "      <td>2.000000</td>\n",
              "      <td>0.000000</td>\n",
              "      <td>0.000000</td>\n",
              "      <td>0.000000</td>\n",
              "      <td>0.000000</td>\n",
              "    </tr>\n",
              "    <tr>\n",
              "      <th>50%</th>\n",
              "      <td>38.00000</td>\n",
              "      <td>180.000000</td>\n",
              "      <td>2.000000</td>\n",
              "      <td>0.000000</td>\n",
              "      <td>1.100000</td>\n",
              "      <td>93.749000</td>\n",
              "      <td>-41.800000</td>\n",
              "      <td>4.857000</td>\n",
              "      <td>5191.000000</td>\n",
              "      <td>2.00000</td>\n",
              "      <td>1.000000</td>\n",
              "      <td>3.000000</td>\n",
              "      <td>0.000000</td>\n",
              "      <td>2.000000</td>\n",
              "      <td>0.000000</td>\n",
              "      <td>0.000000</td>\n",
              "    </tr>\n",
              "    <tr>\n",
              "      <th>75%</th>\n",
              "      <td>47.00000</td>\n",
              "      <td>319.000000</td>\n",
              "      <td>3.000000</td>\n",
              "      <td>0.000000</td>\n",
              "      <td>1.400000</td>\n",
              "      <td>93.994000</td>\n",
              "      <td>-36.400000</td>\n",
              "      <td>4.961000</td>\n",
              "      <td>5228.100000</td>\n",
              "      <td>7.00000</td>\n",
              "      <td>2.000000</td>\n",
              "      <td>6.000000</td>\n",
              "      <td>0.000000</td>\n",
              "      <td>2.000000</td>\n",
              "      <td>0.000000</td>\n",
              "      <td>1.000000</td>\n",
              "    </tr>\n",
              "    <tr>\n",
              "      <th>max</th>\n",
              "      <td>98.00000</td>\n",
              "      <td>4918.000000</td>\n",
              "      <td>56.000000</td>\n",
              "      <td>7.000000</td>\n",
              "      <td>1.400000</td>\n",
              "      <td>94.767000</td>\n",
              "      <td>-26.900000</td>\n",
              "      <td>5.045000</td>\n",
              "      <td>5228.100000</td>\n",
              "      <td>11.00000</td>\n",
              "      <td>3.000000</td>\n",
              "      <td>7.000000</td>\n",
              "      <td>2.000000</td>\n",
              "      <td>2.000000</td>\n",
              "      <td>2.000000</td>\n",
              "      <td>1.000000</td>\n",
              "    </tr>\n",
              "  </tbody>\n",
              "</table>\n",
              "</div>"
            ],
            "text/plain": [
              "               age      duration      campaign      previous  emp.var.rate  \\\n",
              "count  41188.00000  41188.000000  41188.000000  41188.000000  41188.000000   \n",
              "mean      40.02406    258.285010      2.567593      0.172963      0.081886   \n",
              "std       10.42125    259.279249      2.770014      0.494901      1.570960   \n",
              "min       17.00000      0.000000      1.000000      0.000000     -3.400000   \n",
              "25%       32.00000    102.000000      1.000000      0.000000     -1.800000   \n",
              "50%       38.00000    180.000000      2.000000      0.000000      1.100000   \n",
              "75%       47.00000    319.000000      3.000000      0.000000      1.400000   \n",
              "max       98.00000   4918.000000     56.000000      7.000000      1.400000   \n",
              "\n",
              "       cons.price.idx  cons.conf.idx     euribor3m   nr.employed    job_label  \\\n",
              "count    41188.000000   41188.000000  41188.000000  41188.000000  41188.00000   \n",
              "mean        93.575664     -40.502600      3.621291   5167.035911      3.72458   \n",
              "std          0.578840       4.628198      1.734447     72.251528      3.59456   \n",
              "min         92.201000     -50.800000      0.634000   4963.600000      0.00000   \n",
              "25%         93.075000     -42.700000      1.344000   5099.100000      0.00000   \n",
              "50%         93.749000     -41.800000      4.857000   5191.000000      2.00000   \n",
              "75%         93.994000     -36.400000      4.961000   5228.100000      7.00000   \n",
              "max         94.767000     -26.900000      5.045000   5228.100000     11.00000   \n",
              "\n",
              "       education_labeled  default_labeled  housing_labeled  loan_labeled  \\\n",
              "count       41188.000000     41188.000000     41188.000000  41188.000000   \n",
              "mean            1.172769         3.747184         0.208872      1.071720   \n",
              "std             0.608902         2.136482         0.406686      0.985314   \n",
              "min             0.000000         0.000000         0.000000      0.000000   \n",
              "25%             1.000000         2.000000         0.000000      0.000000   \n",
              "50%             1.000000         3.000000         0.000000      2.000000   \n",
              "75%             2.000000         6.000000         0.000000      2.000000   \n",
              "max             3.000000         7.000000         2.000000      2.000000   \n",
              "\n",
              "       contact_labeled  poutcome_labeled  \n",
              "count     41188.000000      41188.000000  \n",
              "mean          0.327425          0.365252  \n",
              "std           0.723616          0.481507  \n",
              "min           0.000000          0.000000  \n",
              "25%           0.000000          0.000000  \n",
              "50%           0.000000          0.000000  \n",
              "75%           0.000000          1.000000  \n",
              "max           2.000000          1.000000  "
            ]
          },
          "metadata": {
            "tags": []
          },
          "execution_count": 365
        }
      ]
    },
    {
      "cell_type": "code",
      "metadata": {
        "id": "KYGFihV6M7FO",
        "colab_type": "code",
        "colab": {}
      },
      "source": [
        "# X =  ['marital','education', 'default', 'housing', 'loan', 'contact', 'month', 'day_of_week', 'poutcome']\n",
        "\n",
        "%matplotlib inline\n",
        "import warnings\n",
        "import category_encoders as ce\n",
        "import matplotlib.pyplot as plt\n",
        "import pandas as pd\n",
        "from sklearn.linear_model import LogisticRegression\n",
        "from sklearn.model_selection import cross_val_score, train_test_split\n",
        "from sklearn.pipeline import make_pipeline\n",
        "from sklearn.exceptions import DataConversionWarning\n",
        "from sklearn.preprocessing import StandardScaler\n",
        "warnings.filterwarnings(action='ignore', category=DataConversionWarning)\n",
        "\n",
        "# Assign to X, y\n",
        "# X = bank.drop(columns='y')\n",
        "X = bank.select_dtypes('number')\n",
        "y = bank['y'] == 'yes'\n",
        "\n"
      ],
      "execution_count": 0,
      "outputs": []
    },
    {
      "cell_type": "code",
      "metadata": {
        "id": "ueHsJk0ektGo",
        "colab_type": "code",
        "outputId": "6381f799-1905-47cb-b77d-cb2ff9f18f05",
        "colab": {
          "base_uri": "https://localhost:8080/",
          "height": 287
        }
      },
      "source": [
        "X.columns.tolist()"
      ],
      "execution_count": 0,
      "outputs": [
        {
          "output_type": "execute_result",
          "data": {
            "text/plain": [
              "['age',\n",
              " 'duration',\n",
              " 'campaign',\n",
              " 'previous',\n",
              " 'emp.var.rate',\n",
              " 'cons.price.idx',\n",
              " 'cons.conf.idx',\n",
              " 'euribor3m',\n",
              " 'nr.employed',\n",
              " 'job_label',\n",
              " 'education_labeled',\n",
              " 'default_labeled',\n",
              " 'housing_labeled',\n",
              " 'loan_labeled',\n",
              " 'contact_labeled',\n",
              " 'poutcome_labeled']"
            ]
          },
          "metadata": {
            "tags": []
          },
          "execution_count": 367
        }
      ]
    },
    {
      "cell_type": "code",
      "metadata": {
        "id": "IxkJbA-JkGH6",
        "colab_type": "code",
        "outputId": "837177e1-b6f7-43bb-b765-d23b55848fd9",
        "colab": {
          "base_uri": "https://localhost:8080/",
          "height": 160
        }
      },
      "source": [
        "X.head(3)"
      ],
      "execution_count": 0,
      "outputs": [
        {
          "output_type": "execute_result",
          "data": {
            "text/html": [
              "<div>\n",
              "<style scoped>\n",
              "    .dataframe tbody tr th:only-of-type {\n",
              "        vertical-align: middle;\n",
              "    }\n",
              "\n",
              "    .dataframe tbody tr th {\n",
              "        vertical-align: top;\n",
              "    }\n",
              "\n",
              "    .dataframe thead th {\n",
              "        text-align: right;\n",
              "    }\n",
              "</style>\n",
              "<table border=\"1\" class=\"dataframe\">\n",
              "  <thead>\n",
              "    <tr style=\"text-align: right;\">\n",
              "      <th></th>\n",
              "      <th>age</th>\n",
              "      <th>duration</th>\n",
              "      <th>campaign</th>\n",
              "      <th>previous</th>\n",
              "      <th>emp.var.rate</th>\n",
              "      <th>cons.price.idx</th>\n",
              "      <th>cons.conf.idx</th>\n",
              "      <th>euribor3m</th>\n",
              "      <th>nr.employed</th>\n",
              "      <th>job_label</th>\n",
              "      <th>education_labeled</th>\n",
              "      <th>default_labeled</th>\n",
              "      <th>housing_labeled</th>\n",
              "      <th>loan_labeled</th>\n",
              "      <th>contact_labeled</th>\n",
              "      <th>poutcome_labeled</th>\n",
              "    </tr>\n",
              "  </thead>\n",
              "  <tbody>\n",
              "    <tr>\n",
              "      <th>0</th>\n",
              "      <td>56</td>\n",
              "      <td>261</td>\n",
              "      <td>1</td>\n",
              "      <td>0</td>\n",
              "      <td>1.1</td>\n",
              "      <td>93.994</td>\n",
              "      <td>-36.4</td>\n",
              "      <td>4.857</td>\n",
              "      <td>5191.0</td>\n",
              "      <td>3</td>\n",
              "      <td>1.0</td>\n",
              "      <td>0.0</td>\n",
              "      <td>0.0</td>\n",
              "      <td>0.0</td>\n",
              "      <td>0.0</td>\n",
              "      <td>1.0</td>\n",
              "    </tr>\n",
              "    <tr>\n",
              "      <th>1</th>\n",
              "      <td>57</td>\n",
              "      <td>149</td>\n",
              "      <td>1</td>\n",
              "      <td>0</td>\n",
              "      <td>1.1</td>\n",
              "      <td>93.994</td>\n",
              "      <td>-36.4</td>\n",
              "      <td>4.857</td>\n",
              "      <td>5191.0</td>\n",
              "      <td>7</td>\n",
              "      <td>1.0</td>\n",
              "      <td>3.0</td>\n",
              "      <td>1.0</td>\n",
              "      <td>0.0</td>\n",
              "      <td>0.0</td>\n",
              "      <td>1.0</td>\n",
              "    </tr>\n",
              "    <tr>\n",
              "      <th>2</th>\n",
              "      <td>37</td>\n",
              "      <td>226</td>\n",
              "      <td>1</td>\n",
              "      <td>0</td>\n",
              "      <td>1.1</td>\n",
              "      <td>93.994</td>\n",
              "      <td>-36.4</td>\n",
              "      <td>4.857</td>\n",
              "      <td>5191.0</td>\n",
              "      <td>7</td>\n",
              "      <td>1.0</td>\n",
              "      <td>3.0</td>\n",
              "      <td>0.0</td>\n",
              "      <td>2.0</td>\n",
              "      <td>0.0</td>\n",
              "      <td>1.0</td>\n",
              "    </tr>\n",
              "  </tbody>\n",
              "</table>\n",
              "</div>"
            ],
            "text/plain": [
              "   age  duration  campaign  previous  emp.var.rate  cons.price.idx  \\\n",
              "0   56       261         1         0           1.1          93.994   \n",
              "1   57       149         1         0           1.1          93.994   \n",
              "2   37       226         1         0           1.1          93.994   \n",
              "\n",
              "   cons.conf.idx  euribor3m  nr.employed  job_label  education_labeled  \\\n",
              "0          -36.4      4.857       5191.0          3                1.0   \n",
              "1          -36.4      4.857       5191.0          7                1.0   \n",
              "2          -36.4      4.857       5191.0          7                1.0   \n",
              "\n",
              "   default_labeled  housing_labeled  loan_labeled  contact_labeled  \\\n",
              "0              0.0              0.0           0.0              0.0   \n",
              "1              3.0              1.0           0.0              0.0   \n",
              "2              3.0              0.0           2.0              0.0   \n",
              "\n",
              "   poutcome_labeled  \n",
              "0               1.0  \n",
              "1               1.0  \n",
              "2               1.0  "
            ]
          },
          "metadata": {
            "tags": []
          },
          "execution_count": 368
        }
      ]
    },
    {
      "cell_type": "code",
      "metadata": {
        "id": "7XgtbLwRknG1",
        "colab_type": "code",
        "colab": {}
      },
      "source": [
        "# Drop leaky feature\n",
        "# X = X.drop(columns='duration')\n",
        "\n",
        "# Split Train, Test\n",
        "X_train, X_test, y_train, y_test = train_test_split(\n",
        "    X, y, test_size=0.2, random_state=42, stratify=y)\n",
        "\n",
        "# Make pipeline\n",
        "pipeline = make_pipeline( \n",
        "    StandardScaler(), \n",
        "    LogisticRegression(solver='lbfgs', max_iter=1000)\n",
        ")"
      ],
      "execution_count": 0,
      "outputs": []
    },
    {
      "cell_type": "code",
      "metadata": {
        "id": "i3LAYr9Cjsdo",
        "colab_type": "code",
        "colab": {}
      },
      "source": [
        "from sklearn.model_selection import cross_val_predict\n",
        "\n",
        "y_pred_proba = cross_val_predict(pipeline, X_train, y_train, cv=3, n_jobs=-1, \n",
        "                                 method='predict_proba')[:,1]"
      ],
      "execution_count": 0,
      "outputs": []
    },
    {
      "cell_type": "code",
      "metadata": {
        "id": "YjNROYzJNOvn",
        "colab_type": "code",
        "outputId": "1f1a9a59-12ee-4366-fc64-4b6ddd5c092f",
        "colab": {
          "base_uri": "https://localhost:8080/",
          "height": 663
        }
      },
      "source": [
        "threshold = 0.5#% confidence people will sign up\n",
        "#how many positive predictions we want\n",
        "y_pred = y_pred_proba >= threshold\n",
        "correct = y_pred == y_train\n",
        "\n",
        "labels = pd.DataFrame({'Ground Truth': y_train, \n",
        "                       'Predicted Probability': y_pred_proba, \n",
        "                       'Discrete Prediction': y_pred, \n",
        "                       'Correct Prediction?': correct})\n",
        "\n",
        "labels.head(20)"
      ],
      "execution_count": 0,
      "outputs": [
        {
          "output_type": "execute_result",
          "data": {
            "text/html": [
              "<div>\n",
              "<style scoped>\n",
              "    .dataframe tbody tr th:only-of-type {\n",
              "        vertical-align: middle;\n",
              "    }\n",
              "\n",
              "    .dataframe tbody tr th {\n",
              "        vertical-align: top;\n",
              "    }\n",
              "\n",
              "    .dataframe thead th {\n",
              "        text-align: right;\n",
              "    }\n",
              "</style>\n",
              "<table border=\"1\" class=\"dataframe\">\n",
              "  <thead>\n",
              "    <tr style=\"text-align: right;\">\n",
              "      <th></th>\n",
              "      <th>Ground Truth</th>\n",
              "      <th>Predicted Probability</th>\n",
              "      <th>Discrete Prediction</th>\n",
              "      <th>Correct Prediction?</th>\n",
              "    </tr>\n",
              "  </thead>\n",
              "  <tbody>\n",
              "    <tr>\n",
              "      <th>25611</th>\n",
              "      <td>False</td>\n",
              "      <td>0.022358</td>\n",
              "      <td>False</td>\n",
              "      <td>True</td>\n",
              "    </tr>\n",
              "    <tr>\n",
              "      <th>26010</th>\n",
              "      <td>False</td>\n",
              "      <td>0.014847</td>\n",
              "      <td>False</td>\n",
              "      <td>True</td>\n",
              "    </tr>\n",
              "    <tr>\n",
              "      <th>40194</th>\n",
              "      <td>True</td>\n",
              "      <td>0.986359</td>\n",
              "      <td>True</td>\n",
              "      <td>True</td>\n",
              "    </tr>\n",
              "    <tr>\n",
              "      <th>297</th>\n",
              "      <td>False</td>\n",
              "      <td>0.013778</td>\n",
              "      <td>False</td>\n",
              "      <td>True</td>\n",
              "    </tr>\n",
              "    <tr>\n",
              "      <th>36344</th>\n",
              "      <td>False</td>\n",
              "      <td>0.477016</td>\n",
              "      <td>False</td>\n",
              "      <td>True</td>\n",
              "    </tr>\n",
              "    <tr>\n",
              "      <th>21806</th>\n",
              "      <td>False</td>\n",
              "      <td>0.025366</td>\n",
              "      <td>False</td>\n",
              "      <td>True</td>\n",
              "    </tr>\n",
              "    <tr>\n",
              "      <th>37395</th>\n",
              "      <td>True</td>\n",
              "      <td>0.207256</td>\n",
              "      <td>False</td>\n",
              "      <td>False</td>\n",
              "    </tr>\n",
              "    <tr>\n",
              "      <th>25863</th>\n",
              "      <td>False</td>\n",
              "      <td>0.018127</td>\n",
              "      <td>False</td>\n",
              "      <td>True</td>\n",
              "    </tr>\n",
              "    <tr>\n",
              "      <th>7393</th>\n",
              "      <td>False</td>\n",
              "      <td>0.058993</td>\n",
              "      <td>False</td>\n",
              "      <td>True</td>\n",
              "    </tr>\n",
              "    <tr>\n",
              "      <th>14697</th>\n",
              "      <td>False</td>\n",
              "      <td>0.075833</td>\n",
              "      <td>False</td>\n",
              "      <td>True</td>\n",
              "    </tr>\n",
              "    <tr>\n",
              "      <th>17537</th>\n",
              "      <td>False</td>\n",
              "      <td>0.016179</td>\n",
              "      <td>False</td>\n",
              "      <td>True</td>\n",
              "    </tr>\n",
              "    <tr>\n",
              "      <th>1595</th>\n",
              "      <td>False</td>\n",
              "      <td>0.012001</td>\n",
              "      <td>False</td>\n",
              "      <td>True</td>\n",
              "    </tr>\n",
              "    <tr>\n",
              "      <th>13720</th>\n",
              "      <td>False</td>\n",
              "      <td>0.014384</td>\n",
              "      <td>False</td>\n",
              "      <td>True</td>\n",
              "    </tr>\n",
              "    <tr>\n",
              "      <th>12258</th>\n",
              "      <td>False</td>\n",
              "      <td>0.010575</td>\n",
              "      <td>False</td>\n",
              "      <td>True</td>\n",
              "    </tr>\n",
              "    <tr>\n",
              "      <th>32042</th>\n",
              "      <td>False</td>\n",
              "      <td>0.160990</td>\n",
              "      <td>False</td>\n",
              "      <td>True</td>\n",
              "    </tr>\n",
              "    <tr>\n",
              "      <th>31118</th>\n",
              "      <td>True</td>\n",
              "      <td>0.711015</td>\n",
              "      <td>True</td>\n",
              "      <td>True</td>\n",
              "    </tr>\n",
              "    <tr>\n",
              "      <th>20444</th>\n",
              "      <td>False</td>\n",
              "      <td>0.010971</td>\n",
              "      <td>False</td>\n",
              "      <td>True</td>\n",
              "    </tr>\n",
              "    <tr>\n",
              "      <th>4216</th>\n",
              "      <td>False</td>\n",
              "      <td>0.011987</td>\n",
              "      <td>False</td>\n",
              "      <td>True</td>\n",
              "    </tr>\n",
              "    <tr>\n",
              "      <th>6347</th>\n",
              "      <td>False</td>\n",
              "      <td>0.010446</td>\n",
              "      <td>False</td>\n",
              "      <td>True</td>\n",
              "    </tr>\n",
              "    <tr>\n",
              "      <th>39226</th>\n",
              "      <td>True</td>\n",
              "      <td>0.420405</td>\n",
              "      <td>False</td>\n",
              "      <td>False</td>\n",
              "    </tr>\n",
              "  </tbody>\n",
              "</table>\n",
              "</div>"
            ],
            "text/plain": [
              "       Ground Truth  Predicted Probability  Discrete Prediction  \\\n",
              "25611         False               0.022358                False   \n",
              "26010         False               0.014847                False   \n",
              "40194          True               0.986359                 True   \n",
              "297           False               0.013778                False   \n",
              "36344         False               0.477016                False   \n",
              "21806         False               0.025366                False   \n",
              "37395          True               0.207256                False   \n",
              "25863         False               0.018127                False   \n",
              "7393          False               0.058993                False   \n",
              "14697         False               0.075833                False   \n",
              "17537         False               0.016179                False   \n",
              "1595          False               0.012001                False   \n",
              "13720         False               0.014384                False   \n",
              "12258         False               0.010575                False   \n",
              "32042         False               0.160990                False   \n",
              "31118          True               0.711015                 True   \n",
              "20444         False               0.010971                False   \n",
              "4216          False               0.011987                False   \n",
              "6347          False               0.010446                False   \n",
              "39226          True               0.420405                False   \n",
              "\n",
              "       Correct Prediction?  \n",
              "25611                 True  \n",
              "26010                 True  \n",
              "40194                 True  \n",
              "297                   True  \n",
              "36344                 True  \n",
              "21806                 True  \n",
              "37395                False  \n",
              "25863                 True  \n",
              "7393                  True  \n",
              "14697                 True  \n",
              "17537                 True  \n",
              "1595                  True  \n",
              "13720                 True  \n",
              "12258                 True  \n",
              "32042                 True  \n",
              "31118                 True  \n",
              "20444                 True  \n",
              "4216                  True  \n",
              "6347                  True  \n",
              "39226                False  "
            ]
          },
          "metadata": {
            "tags": []
          },
          "execution_count": 371
        }
      ]
    },
    {
      "cell_type": "code",
      "metadata": {
        "id": "QHTP-n_8RxiP",
        "colab_type": "code",
        "outputId": "c5dcc7d4-e0e4-447c-ac07-d603cae2240c",
        "colab": {
          "base_uri": "https://localhost:8080/",
          "height": 101
        }
      },
      "source": [
        "threshold = 0.5#% confidence people will sign up\n",
        "y_pred = y_pred_proba >= threshold\n",
        "correct = y_pred == y_train\n",
        "\n",
        "labels = pd.DataFrame({'Ground Truth': y_train, \n",
        "                       'Predicted Probability': y_pred_proba, \n",
        "                       'Discrete Prediction': y_pred, \n",
        "                       'Correct Prediction?': correct})\n",
        "\n",
        "labels.loc[8]"
      ],
      "execution_count": 0,
      "outputs": [
        {
          "output_type": "execute_result",
          "data": {
            "text/plain": [
              "Ground Truth                 False\n",
              "Predicted Probability    0.0575679\n",
              "Discrete Prediction          False\n",
              "Correct Prediction?           True\n",
              "Name: 8, dtype: object"
            ]
          },
          "metadata": {
            "tags": []
          },
          "execution_count": 372
        }
      ]
    },
    {
      "cell_type": "code",
      "metadata": {
        "id": "azqRFXopNSNO",
        "colab_type": "code",
        "outputId": "2a3326a5-e038-4405-d6fe-d0a038dc876d",
        "colab": {
          "base_uri": "https://localhost:8080/",
          "height": 269
        }
      },
      "source": [
        "labels['Discrete Prediction'].value_counts(normalize=True).plot.barh(color='grey');"
      ],
      "execution_count": 0,
      "outputs": [
        {
          "output_type": "display_data",
          "data": {
            "image/png": "[encoded data removed]",
            "text/plain": [
              "<Figure size 432x288 with 1 Axes>"
            ]
          },
          "metadata": {
            "tags": []
          }
        }
      ]
    },
    {
      "cell_type": "code",
      "metadata": {
        "id": "whkoRKssO7v-",
        "colab_type": "code",
        "outputId": "9d1ab0d3-b1ad-43c8-b17c-ceacecf05e0e",
        "colab": {
          "base_uri": "https://localhost:8080/",
          "height": 269
        }
      },
      "source": [
        "labels['Ground Truth'].value_counts(normalize=True).plot.barh(color='grey');"
      ],
      "execution_count": 0,
      "outputs": [
        {
          "output_type": "display_data",
          "data": {
            "image/png": "[encoded data removed]",
            "text/plain": [
              "<Figure size 432x288 with 1 Axes>"
            ]
          },
          "metadata": {
            "tags": []
          }
        }
      ]
    },
    {
      "cell_type": "code",
      "metadata": {
        "id": "x3igR6gBldus",
        "colab_type": "code",
        "outputId": "6298ffa1-d3fb-4a38-add5-c8c7ae1a0efc",
        "colab": {
          "base_uri": "https://localhost:8080/",
          "height": 283
        }
      },
      "source": [
        "import seaborn as sns\n",
        "sns.distplot(labels['Predicted Probability']);"
      ],
      "execution_count": 0,
      "outputs": [
        {
          "output_type": "display_data",
          "data": {
            "image/png": "[encoded data removed]",
            "text/plain": [
              "<Figure size 432x288 with 1 Axes>"
            ]
          },
          "metadata": {
            "tags": []
          }
        }
      ]
    },
    {
      "cell_type": "code",
      "metadata": {
        "id": "okmI6t8ulfxU",
        "colab_type": "code",
        "outputId": "037a5264-421e-4b5f-afd0-05c03b7790a9",
        "colab": {
          "base_uri": "https://localhost:8080/",
          "height": 262
        }
      },
      "source": [
        "from sklearn.metrics import classification_report, confusion_matrix\n",
        "\n",
        "threshold = 0.1\n",
        "y_pred = y_pred_proba >= threshold\n",
        "\n",
        "print(classification_report(y_train, y_pred))\n",
        "\n",
        "pd.DataFrame(confusion_matrix(y_train, y_pred), \n",
        "             columns=['Predicted Negative', 'Predicted Positive'], \n",
        "             index=['Actual Negative', 'Actual Positive'])"
      ],
      "execution_count": 0,
      "outputs": [
        {
          "output_type": "stream",
          "text": [
            "              precision    recall  f1-score   support\n",
            "\n",
            "       False       0.98      0.83      0.90     29238\n",
            "        True       0.39      0.87      0.54      3712\n",
            "\n",
            "   micro avg       0.83      0.83      0.83     32950\n",
            "   macro avg       0.68      0.85      0.72     32950\n",
            "weighted avg       0.91      0.83      0.86     32950\n",
            "\n"
          ],
          "name": "stdout"
        },
        {
          "output_type": "execute_result",
          "data": {
            "text/html": [
              "<div>\n",
              "<style scoped>\n",
              "    .dataframe tbody tr th:only-of-type {\n",
              "        vertical-align: middle;\n",
              "    }\n",
              "\n",
              "    .dataframe tbody tr th {\n",
              "        vertical-align: top;\n",
              "    }\n",
              "\n",
              "    .dataframe thead th {\n",
              "        text-align: right;\n",
              "    }\n",
              "</style>\n",
              "<table border=\"1\" class=\"dataframe\">\n",
              "  <thead>\n",
              "    <tr style=\"text-align: right;\">\n",
              "      <th></th>\n",
              "      <th>Predicted Negative</th>\n",
              "      <th>Predicted Positive</th>\n",
              "    </tr>\n",
              "  </thead>\n",
              "  <tbody>\n",
              "    <tr>\n",
              "      <th>Actual Negative</th>\n",
              "      <td>24138</td>\n",
              "      <td>5100</td>\n",
              "    </tr>\n",
              "    <tr>\n",
              "      <th>Actual Positive</th>\n",
              "      <td>471</td>\n",
              "      <td>3241</td>\n",
              "    </tr>\n",
              "  </tbody>\n",
              "</table>\n",
              "</div>"
            ],
            "text/plain": [
              "                 Predicted Negative  Predicted Positive\n",
              "Actual Negative               24138                5100\n",
              "Actual Positive                 471                3241"
            ]
          },
          "metadata": {
            "tags": []
          },
          "execution_count": 376
        }
      ]
    },
    {
      "cell_type": "code",
      "metadata": {
        "id": "7Qn1IaGmliMO",
        "colab_type": "code",
        "outputId": "c4158402-629d-4fb6-a22a-ed0b4cad11c5",
        "colab": {
          "base_uri": "https://localhost:8080/",
          "height": 262
        }
      },
      "source": [
        "threshold = 0.9\n",
        "y_pred = y_pred_proba >= threshold\n",
        "\n",
        "print(classification_report(y_train, y_pred))\n",
        "\n",
        "pd.DataFrame(confusion_matrix(y_train, y_pred), \n",
        "             columns=['Predicted Negative', 'Predicted Positive'], \n",
        "             index=['Actual Negative', 'Actual Positive'])"
      ],
      "execution_count": 0,
      "outputs": [
        {
          "output_type": "stream",
          "text": [
            "              precision    recall  f1-score   support\n",
            "\n",
            "       False       0.89      1.00      0.94     29238\n",
            "        True       0.66      0.06      0.11      3712\n",
            "\n",
            "   micro avg       0.89      0.89      0.89     32950\n",
            "   macro avg       0.78      0.53      0.52     32950\n",
            "weighted avg       0.87      0.89      0.85     32950\n",
            "\n"
          ],
          "name": "stdout"
        },
        {
          "output_type": "execute_result",
          "data": {
            "text/html": [
              "<div>\n",
              "<style scoped>\n",
              "    .dataframe tbody tr th:only-of-type {\n",
              "        vertical-align: middle;\n",
              "    }\n",
              "\n",
              "    .dataframe tbody tr th {\n",
              "        vertical-align: top;\n",
              "    }\n",
              "\n",
              "    .dataframe thead th {\n",
              "        text-align: right;\n",
              "    }\n",
              "</style>\n",
              "<table border=\"1\" class=\"dataframe\">\n",
              "  <thead>\n",
              "    <tr style=\"text-align: right;\">\n",
              "      <th></th>\n",
              "      <th>Predicted Negative</th>\n",
              "      <th>Predicted Positive</th>\n",
              "    </tr>\n",
              "  </thead>\n",
              "  <tbody>\n",
              "    <tr>\n",
              "      <th>Actual Negative</th>\n",
              "      <td>29129</td>\n",
              "      <td>109</td>\n",
              "    </tr>\n",
              "    <tr>\n",
              "      <th>Actual Positive</th>\n",
              "      <td>3498</td>\n",
              "      <td>214</td>\n",
              "    </tr>\n",
              "  </tbody>\n",
              "</table>\n",
              "</div>"
            ],
            "text/plain": [
              "                 Predicted Negative  Predicted Positive\n",
              "Actual Negative               29129                 109\n",
              "Actual Positive                3498                 214"
            ]
          },
          "metadata": {
            "tags": []
          },
          "execution_count": 377
        }
      ]
    },
    {
      "cell_type": "code",
      "metadata": {
        "id": "M-YOQOo0llBF",
        "colab_type": "code",
        "outputId": "05bbca7a-0ce1-4ebb-d375-e34dea64fc44",
        "colab": {
          "base_uri": "https://localhost:8080/",
          "height": 262
        }
      },
      "source": [
        "threshold = 0.05\n",
        "y_pred = y_pred_proba >= threshold\n",
        "\n",
        "print(classification_report(y_train, y_pred))\n",
        "\n",
        "pd.DataFrame(confusion_matrix(y_train, y_pred), \n",
        "             columns=['Predicted Negative', 'Predicted Positive'], \n",
        "             index=['Actual Negative', 'Actual Positive'])"
      ],
      "execution_count": 0,
      "outputs": [
        {
          "output_type": "stream",
          "text": [
            "              precision    recall  f1-score   support\n",
            "\n",
            "       False       0.99      0.69      0.81     29238\n",
            "        True       0.28      0.96      0.43      3712\n",
            "\n",
            "   micro avg       0.72      0.72      0.72     32950\n",
            "   macro avg       0.64      0.82      0.62     32950\n",
            "weighted avg       0.91      0.72      0.77     32950\n",
            "\n"
          ],
          "name": "stdout"
        },
        {
          "output_type": "execute_result",
          "data": {
            "text/html": [
              "<div>\n",
              "<style scoped>\n",
              "    .dataframe tbody tr th:only-of-type {\n",
              "        vertical-align: middle;\n",
              "    }\n",
              "\n",
              "    .dataframe tbody tr th {\n",
              "        vertical-align: top;\n",
              "    }\n",
              "\n",
              "    .dataframe thead th {\n",
              "        text-align: right;\n",
              "    }\n",
              "</style>\n",
              "<table border=\"1\" class=\"dataframe\">\n",
              "  <thead>\n",
              "    <tr style=\"text-align: right;\">\n",
              "      <th></th>\n",
              "      <th>Predicted Negative</th>\n",
              "      <th>Predicted Positive</th>\n",
              "    </tr>\n",
              "  </thead>\n",
              "  <tbody>\n",
              "    <tr>\n",
              "      <th>Actual Negative</th>\n",
              "      <td>20068</td>\n",
              "      <td>9170</td>\n",
              "    </tr>\n",
              "    <tr>\n",
              "      <th>Actual Positive</th>\n",
              "      <td>149</td>\n",
              "      <td>3563</td>\n",
              "    </tr>\n",
              "  </tbody>\n",
              "</table>\n",
              "</div>"
            ],
            "text/plain": [
              "                 Predicted Negative  Predicted Positive\n",
              "Actual Negative               20068                9170\n",
              "Actual Positive                 149                3563"
            ]
          },
          "metadata": {
            "tags": []
          },
          "execution_count": 378
        }
      ]
    },
    {
      "cell_type": "code",
      "metadata": {
        "id": "PK9SLUBalpP2",
        "colab_type": "code",
        "outputId": "3783778c-c53e-4a15-ad55-37188782f1f5",
        "colab": {
          "base_uri": "https://localhost:8080/",
          "height": 262
        }
      },
      "source": [
        "threshold = 0.005\n",
        "y_pred = y_pred_proba >= threshold\n",
        "\n",
        "print(classification_report(y_train, y_pred))\n",
        "\n",
        "pd.DataFrame(confusion_matrix(y_train, y_pred), \n",
        "             columns=['Predicted Negative', 'Predicted Positive'], \n",
        "             index=['Actual Negative', 'Actual Positive'])"
      ],
      "execution_count": 0,
      "outputs": [
        {
          "output_type": "stream",
          "text": [
            "              precision    recall  f1-score   support\n",
            "\n",
            "       False       1.00      0.02      0.04     29238\n",
            "        True       0.11      1.00      0.21      3712\n",
            "\n",
            "   micro avg       0.13      0.13      0.13     32950\n",
            "   macro avg       0.56      0.51      0.12     32950\n",
            "weighted avg       0.90      0.13      0.06     32950\n",
            "\n"
          ],
          "name": "stdout"
        },
        {
          "output_type": "execute_result",
          "data": {
            "text/html": [
              "<div>\n",
              "<style scoped>\n",
              "    .dataframe tbody tr th:only-of-type {\n",
              "        vertical-align: middle;\n",
              "    }\n",
              "\n",
              "    .dataframe tbody tr th {\n",
              "        vertical-align: top;\n",
              "    }\n",
              "\n",
              "    .dataframe thead th {\n",
              "        text-align: right;\n",
              "    }\n",
              "</style>\n",
              "<table border=\"1\" class=\"dataframe\">\n",
              "  <thead>\n",
              "    <tr style=\"text-align: right;\">\n",
              "      <th></th>\n",
              "      <th>Predicted Negative</th>\n",
              "      <th>Predicted Positive</th>\n",
              "    </tr>\n",
              "  </thead>\n",
              "  <tbody>\n",
              "    <tr>\n",
              "      <th>Actual Negative</th>\n",
              "      <td>547</td>\n",
              "      <td>28691</td>\n",
              "    </tr>\n",
              "    <tr>\n",
              "      <th>Actual Positive</th>\n",
              "      <td>1</td>\n",
              "      <td>3711</td>\n",
              "    </tr>\n",
              "  </tbody>\n",
              "</table>\n",
              "</div>"
            ],
            "text/plain": [
              "                 Predicted Negative  Predicted Positive\n",
              "Actual Negative                 547               28691\n",
              "Actual Positive                   1                3711"
            ]
          },
          "metadata": {
            "tags": []
          },
          "execution_count": 379
        }
      ]
    },
    {
      "cell_type": "code",
      "metadata": {
        "id": "98GNHdOulrhW",
        "colab_type": "code",
        "outputId": "811e9c44-411c-4ba6-8029-65d888d612fd",
        "colab": {
          "base_uri": "https://localhost:8080/",
          "height": 34
        }
      },
      "source": [
        "from sklearn.metrics import accuracy_score\n",
        "accuracy_score(y_train, y_pred)"
      ],
      "execution_count": 0,
      "outputs": [
        {
          "output_type": "execute_result",
          "data": {
            "text/plain": [
              "0.12922610015174507"
            ]
          },
          "metadata": {
            "tags": []
          },
          "execution_count": 380
        }
      ]
    },
    {
      "cell_type": "code",
      "metadata": {
        "id": "z41yG-Drlw-N",
        "colab_type": "code",
        "outputId": "8a6b7888-da64-46a4-d467-8c8e9b5d7747",
        "colab": {
          "base_uri": "https://localhost:8080/",
          "height": 34
        }
      },
      "source": [
        "true_negative  = 20945 #actual negative, predicted negative\n",
        "false_positive = 8293 #actual negative, predicted positive\n",
        "false_negative = 129 #actual positive, predicted negative\n",
        "true_positive  = 3583 #actual positive, predicted positive\n",
        "\n",
        "actual_negative = 20945 + 8293\n",
        "actual_positive =129 + 3583\n",
        "\n",
        "predicted_negative = 20945 + 8293\n",
        "predicted_positive = 8293 + 3583\n",
        "\n",
        "accuracy = (true_positive + true_negative) / (predicted_negative + predicted_positive)\n",
        "#correct predictions / total predictions % , (true positives + true negatives)/(sum of all 4 numbers) \n",
        "precision = true_positive / predicted_positive\n",
        "#precision and recall are based on relevance\n",
        "#precision, based on how many selected, which are relevant?\n",
        "#any search result on google - precision - search with eral scruggs / total search results\n",
        "recall = true_positive / actual_positive\n",
        "#recall, based on how many relevant, how many are selected?\n",
        "#what was your recall for the most relevant things?\n",
        "#of all the people who would sign up, how many did you actually select to call?\n",
        "f1 = 2*precision * recall / (precision+recall)\n",
        "print('Accuracy:',accuracy,'Precision:', precision, 'Recall:', recall,'F1', f1)"
      ],
      "execution_count": 0,
      "outputs": [
        {
          "output_type": "stream",
          "text": [
            "Accuracy: 0.5965851048304713 Precision: 0.3017009093971034 Recall: 0.9652478448275862 F1 0.4597125994354632\n"
          ],
          "name": "stdout"
        }
      ]
    },
    {
      "cell_type": "code",
      "metadata": {
        "id": "gjj81_trmxJk",
        "colab_type": "code",
        "outputId": "56bbe4ae-2046-4aea-cf3d-c6a1f9fd488a",
        "colab": {
          "base_uri": "https://localhost:8080/",
          "height": 312
        }
      },
      "source": [
        "from sklearn.metrics import roc_auc_score, roc_curve\n",
        "fpr, tpr, thresholds = roc_curve(y_train, y_pred_proba)\n",
        "plt.plot(fpr, tpr)\n",
        "plt.title('ROC curve')\n",
        "plt.xlabel('False Positive Rate')\n",
        "plt.ylabel('True Positive Rate')\n",
        "print('Area under the Receiver Operating Characteristic curve:', \n",
        "      roc_auc_score(y_train, y_pred_proba))\n",
        "    \n",
        "# When threshold = 0.5\n",
        "false_positives = false_positive\n",
        "true_positives = true_positive\n",
        "false_positive_rate = false_positives/actual_negative\n",
        "true_positive_rate = true_positives/actual_positive\n",
        "plt.scatter(false_positive_rate, true_positive_rate)\n",
        "\n",
        "# When threshold = 0.1\n",
        "false_positives = false_positive\n",
        "true_positives = true_positive\n",
        "false_positive_rate = false_positives/actual_negative\n",
        "true_positive_rate = true_positives/actual_positive\n",
        "plt.scatter(false_positive_rate, true_positive_rate);"
      ],
      "execution_count": 0,
      "outputs": [
        {
          "output_type": "stream",
          "text": [
            "Area under the Receiver Operating Characteristic curve: 0.9192675900339898\n"
          ],
          "name": "stdout"
        },
        {
          "output_type": "display_data",
          "data": {
            "image/png": "[encoded data removed]",
            "text/plain": [
              "<Figure size 432x288 with 1 Axes>"
            ]
          },
          "metadata": {
            "tags": []
          }
        }
      ]
    },
    {
      "cell_type": "code",
      "metadata": {
        "id": "86KlTLGXnCYM",
        "colab_type": "code",
        "outputId": "36a5e91f-63d3-4c45-c8a6-eda596a5b0b1",
        "colab": {
          "base_uri": "https://localhost:8080/",
          "height": 439
        }
      },
      "source": [
        "bank.columns.tolist()"
      ],
      "execution_count": 0,
      "outputs": [
        {
          "output_type": "execute_result",
          "data": {
            "text/plain": [
              "['age',\n",
              " 'job',\n",
              " 'marital',\n",
              " 'education',\n",
              " 'default',\n",
              " 'housing',\n",
              " 'loan',\n",
              " 'contact',\n",
              " 'duration',\n",
              " 'campaign',\n",
              " 'previous',\n",
              " 'poutcome',\n",
              " 'emp.var.rate',\n",
              " 'cons.price.idx',\n",
              " 'cons.conf.idx',\n",
              " 'euribor3m',\n",
              " 'nr.employed',\n",
              " 'y',\n",
              " 'job_label',\n",
              " 'education_labeled',\n",
              " 'default_labeled',\n",
              " 'housing_labeled',\n",
              " 'loan_labeled',\n",
              " 'contact_labeled',\n",
              " 'poutcome_labeled']"
            ]
          },
          "metadata": {
            "tags": []
          },
          "execution_count": 384
        }
      ]
    },
    {
      "cell_type": "code",
      "metadata": {
        "id": "f_tIXhDFrm0M",
        "colab_type": "code",
        "colab": {}
      },
      "source": [
        "bank_reduced = bank[['default_labeled', 'housing_labeled','loan_labeled','contact_labeled','campaign','previous','poutcome_labeled','nr.employed','cons.price.idx','cons.conf.idx']]"
      ],
      "execution_count": 0,
      "outputs": []
    },
    {
      "cell_type": "code",
      "metadata": {
        "id": "l7b7FNYSuiTM",
        "colab_type": "code",
        "outputId": "ece5a7d3-4e02-4a4d-9efc-d8ba55e37a9d",
        "colab": {
          "base_uri": "https://localhost:8080/",
          "height": 138
        }
      },
      "source": [
        "bank_reduced['previous_2'] = bank_reduced['previous'] * bank_reduced['poutcome_labeled']"
      ],
      "execution_count": 0,
      "outputs": [
        {
          "output_type": "stream",
          "text": [
            "/usr/local/lib/python3.6/dist-packages/ipykernel_launcher.py:1: SettingWithCopyWarning: \n",
            "A value is trying to be set on a copy of a slice from a DataFrame.\n",
            "Try using .loc[row_indexer,col_indexer] = value instead\n",
            "\n",
            "See the caveats in the documentation: http://pandas.pydata.org/pandas-docs/stable/indexing.html#indexing-view-versus-copy\n",
            "  \"\"\"Entry point for launching an IPython kernel.\n"
          ],
          "name": "stderr"
        }
      ]
    },
    {
      "cell_type": "code",
      "metadata": {
        "id": "K_W8F0m22WSC",
        "colab_type": "code",
        "outputId": "e35fe392-83d2-4d86-c7f5-9d85ab33aa5c",
        "colab": {
          "base_uri": "https://localhost:8080/",
          "height": 240
        }
      },
      "source": [
        "bank_reduced['jobsxage'] = bank['nr.employed'] * bank['poutcome_labeled']\n",
        "bank_reduced['jobsxxage'] = bank['previous'] * bank['housing_labeled']*bank['poutcome_labeled']"
      ],
      "execution_count": 0,
      "outputs": [
        {
          "output_type": "stream",
          "text": [
            "/usr/local/lib/python3.6/dist-packages/ipykernel_launcher.py:1: SettingWithCopyWarning: \n",
            "A value is trying to be set on a copy of a slice from a DataFrame.\n",
            "Try using .loc[row_indexer,col_indexer] = value instead\n",
            "\n",
            "See the caveats in the documentation: http://pandas.pydata.org/pandas-docs/stable/indexing.html#indexing-view-versus-copy\n",
            "  \"\"\"Entry point for launching an IPython kernel.\n",
            "/usr/local/lib/python3.6/dist-packages/ipykernel_launcher.py:2: SettingWithCopyWarning: \n",
            "A value is trying to be set on a copy of a slice from a DataFrame.\n",
            "Try using .loc[row_indexer,col_indexer] = value instead\n",
            "\n",
            "See the caveats in the documentation: http://pandas.pydata.org/pandas-docs/stable/indexing.html#indexing-view-versus-copy\n",
            "  \n"
          ],
          "name": "stderr"
        }
      ]
    },
    {
      "cell_type": "code",
      "metadata": {
        "id": "TgTUkxYzsmfQ",
        "colab_type": "code",
        "outputId": "e8a5dcf6-cb06-4a01-ff87-5bf655e639f1",
        "colab": {
          "base_uri": "https://localhost:8080/",
          "height": 160
        }
      },
      "source": [
        "bank_reduced.head(3)"
      ],
      "execution_count": 0,
      "outputs": [
        {
          "output_type": "execute_result",
          "data": {
            "text/html": [
              "<div>\n",
              "<style scoped>\n",
              "    .dataframe tbody tr th:only-of-type {\n",
              "        vertical-align: middle;\n",
              "    }\n",
              "\n",
              "    .dataframe tbody tr th {\n",
              "        vertical-align: top;\n",
              "    }\n",
              "\n",
              "    .dataframe thead th {\n",
              "        text-align: right;\n",
              "    }\n",
              "</style>\n",
              "<table border=\"1\" class=\"dataframe\">\n",
              "  <thead>\n",
              "    <tr style=\"text-align: right;\">\n",
              "      <th></th>\n",
              "      <th>default_labeled</th>\n",
              "      <th>housing_labeled</th>\n",
              "      <th>loan_labeled</th>\n",
              "      <th>contact_labeled</th>\n",
              "      <th>campaign</th>\n",
              "      <th>previous</th>\n",
              "      <th>poutcome_labeled</th>\n",
              "      <th>nr.employed</th>\n",
              "      <th>cons.price.idx</th>\n",
              "      <th>cons.conf.idx</th>\n",
              "      <th>previous_2</th>\n",
              "      <th>jobsxage</th>\n",
              "      <th>jobsxxage</th>\n",
              "    </tr>\n",
              "  </thead>\n",
              "  <tbody>\n",
              "    <tr>\n",
              "      <th>0</th>\n",
              "      <td>0.0</td>\n",
              "      <td>0.0</td>\n",
              "      <td>0.0</td>\n",
              "      <td>0.0</td>\n",
              "      <td>1</td>\n",
              "      <td>0</td>\n",
              "      <td>1.0</td>\n",
              "      <td>5191.0</td>\n",
              "      <td>93.994</td>\n",
              "      <td>-36.4</td>\n",
              "      <td>0.0</td>\n",
              "      <td>5191.0</td>\n",
              "      <td>0.0</td>\n",
              "    </tr>\n",
              "    <tr>\n",
              "      <th>1</th>\n",
              "      <td>3.0</td>\n",
              "      <td>1.0</td>\n",
              "      <td>0.0</td>\n",
              "      <td>0.0</td>\n",
              "      <td>1</td>\n",
              "      <td>0</td>\n",
              "      <td>1.0</td>\n",
              "      <td>5191.0</td>\n",
              "      <td>93.994</td>\n",
              "      <td>-36.4</td>\n",
              "      <td>0.0</td>\n",
              "      <td>5191.0</td>\n",
              "      <td>0.0</td>\n",
              "    </tr>\n",
              "    <tr>\n",
              "      <th>2</th>\n",
              "      <td>3.0</td>\n",
              "      <td>0.0</td>\n",
              "      <td>2.0</td>\n",
              "      <td>0.0</td>\n",
              "      <td>1</td>\n",
              "      <td>0</td>\n",
              "      <td>1.0</td>\n",
              "      <td>5191.0</td>\n",
              "      <td>93.994</td>\n",
              "      <td>-36.4</td>\n",
              "      <td>0.0</td>\n",
              "      <td>5191.0</td>\n",
              "      <td>0.0</td>\n",
              "    </tr>\n",
              "  </tbody>\n",
              "</table>\n",
              "</div>"
            ],
            "text/plain": [
              "   default_labeled  housing_labeled  loan_labeled  contact_labeled  campaign  \\\n",
              "0              0.0              0.0           0.0              0.0         1   \n",
              "1              3.0              1.0           0.0              0.0         1   \n",
              "2              3.0              0.0           2.0              0.0         1   \n",
              "\n",
              "   previous  poutcome_labeled  nr.employed  cons.price.idx  cons.conf.idx  \\\n",
              "0         0               1.0       5191.0          93.994          -36.4   \n",
              "1         0               1.0       5191.0          93.994          -36.4   \n",
              "2         0               1.0       5191.0          93.994          -36.4   \n",
              "\n",
              "   previous_2  jobsxage  jobsxxage  \n",
              "0         0.0    5191.0        0.0  \n",
              "1         0.0    5191.0        0.0  \n",
              "2         0.0    5191.0        0.0  "
            ]
          },
          "metadata": {
            "tags": []
          },
          "execution_count": 515
        }
      ]
    },
    {
      "cell_type": "code",
      "metadata": {
        "id": "xTgvfFLGsofD",
        "colab_type": "code",
        "colab": {}
      },
      "source": [
        "# Assign to X, y\n",
        "X = bank_reduced\n",
        "y = bank['y'] == 'yes'\n",
        "\n",
        "# Split Train, Test\n",
        "X_train, X_test, y_train, y_test = train_test_split(\n",
        "    X, y, test_size=0.2, random_state=42, stratify=y)#only makes sense for categorical variables, using class labels, only for classification, not regression\n",
        "\n",
        "# Make pipeline\n",
        "pipeline = make_pipeline(\n",
        "    ce.OneHotEncoder(use_cat_names=True), \n",
        "    StandardScaler(), \n",
        "    LogisticRegression(solver='lbfgs', max_iter=1000)\n",
        ")"
      ],
      "execution_count": 0,
      "outputs": []
    },
    {
      "cell_type": "code",
      "metadata": {
        "id": "AhlUaVyOs_K8",
        "colab_type": "code",
        "colab": {}
      },
      "source": [
        "from sklearn.model_selection import cross_val_predict\n",
        "\n",
        "y_pred_proba = cross_val_predict(pipeline, X_train, y_train, cv=3, n_jobs=-1, \n",
        "                                 method='predict_proba')[:,1]"
      ],
      "execution_count": 0,
      "outputs": []
    },
    {
      "cell_type": "code",
      "metadata": {
        "id": "vdSYGdxHtB3j",
        "colab_type": "code",
        "outputId": "d3b0b855-21a0-4b97-ec32-92762e270cd3",
        "colab": {
          "base_uri": "https://localhost:8080/",
          "height": 663
        }
      },
      "source": [
        "threshold = 0.5#% confidence people will sign up\n",
        "#how many positive predictions we want\n",
        "y_pred = y_pred_proba >= threshold\n",
        "correct = y_pred == y_train\n",
        "\n",
        "labels = pd.DataFrame({'Ground Truth': y_train, \n",
        "                       'Predicted Probability': y_pred_proba, \n",
        "                       'Discrete Prediction': y_pred, \n",
        "                       'Correct Prediction?': correct})\n",
        "\n",
        "labels.head(20)"
      ],
      "execution_count": 0,
      "outputs": [
        {
          "output_type": "execute_result",
          "data": {
            "text/html": [
              "<div>\n",
              "<style scoped>\n",
              "    .dataframe tbody tr th:only-of-type {\n",
              "        vertical-align: middle;\n",
              "    }\n",
              "\n",
              "    .dataframe tbody tr th {\n",
              "        vertical-align: top;\n",
              "    }\n",
              "\n",
              "    .dataframe thead th {\n",
              "        text-align: right;\n",
              "    }\n",
              "</style>\n",
              "<table border=\"1\" class=\"dataframe\">\n",
              "  <thead>\n",
              "    <tr style=\"text-align: right;\">\n",
              "      <th></th>\n",
              "      <th>Ground Truth</th>\n",
              "      <th>Predicted Probability</th>\n",
              "      <th>Discrete Prediction</th>\n",
              "      <th>Correct Prediction?</th>\n",
              "    </tr>\n",
              "  </thead>\n",
              "  <tbody>\n",
              "    <tr>\n",
              "      <th>25611</th>\n",
              "      <td>False</td>\n",
              "      <td>0.046975</td>\n",
              "      <td>False</td>\n",
              "      <td>True</td>\n",
              "    </tr>\n",
              "    <tr>\n",
              "      <th>26010</th>\n",
              "      <td>False</td>\n",
              "      <td>0.047394</td>\n",
              "      <td>False</td>\n",
              "      <td>True</td>\n",
              "    </tr>\n",
              "    <tr>\n",
              "      <th>40194</th>\n",
              "      <td>True</td>\n",
              "      <td>0.496365</td>\n",
              "      <td>False</td>\n",
              "      <td>False</td>\n",
              "    </tr>\n",
              "    <tr>\n",
              "      <th>297</th>\n",
              "      <td>False</td>\n",
              "      <td>0.055192</td>\n",
              "      <td>False</td>\n",
              "      <td>True</td>\n",
              "    </tr>\n",
              "    <tr>\n",
              "      <th>36344</th>\n",
              "      <td>False</td>\n",
              "      <td>0.237408</td>\n",
              "      <td>False</td>\n",
              "      <td>True</td>\n",
              "    </tr>\n",
              "    <tr>\n",
              "      <th>21806</th>\n",
              "      <td>False</td>\n",
              "      <td>0.074210</td>\n",
              "      <td>False</td>\n",
              "      <td>True</td>\n",
              "    </tr>\n",
              "    <tr>\n",
              "      <th>37395</th>\n",
              "      <td>True</td>\n",
              "      <td>0.137224</td>\n",
              "      <td>False</td>\n",
              "      <td>False</td>\n",
              "    </tr>\n",
              "    <tr>\n",
              "      <th>25863</th>\n",
              "      <td>False</td>\n",
              "      <td>0.067178</td>\n",
              "      <td>False</td>\n",
              "      <td>True</td>\n",
              "    </tr>\n",
              "    <tr>\n",
              "      <th>7393</th>\n",
              "      <td>False</td>\n",
              "      <td>0.037002</td>\n",
              "      <td>False</td>\n",
              "      <td>True</td>\n",
              "    </tr>\n",
              "    <tr>\n",
              "      <th>14697</th>\n",
              "      <td>False</td>\n",
              "      <td>0.051333</td>\n",
              "      <td>False</td>\n",
              "      <td>True</td>\n",
              "    </tr>\n",
              "    <tr>\n",
              "      <th>17537</th>\n",
              "      <td>False</td>\n",
              "      <td>0.051333</td>\n",
              "      <td>False</td>\n",
              "      <td>True</td>\n",
              "    </tr>\n",
              "    <tr>\n",
              "      <th>1595</th>\n",
              "      <td>False</td>\n",
              "      <td>0.048426</td>\n",
              "      <td>False</td>\n",
              "      <td>True</td>\n",
              "    </tr>\n",
              "    <tr>\n",
              "      <th>13720</th>\n",
              "      <td>False</td>\n",
              "      <td>0.063659</td>\n",
              "      <td>False</td>\n",
              "      <td>True</td>\n",
              "    </tr>\n",
              "    <tr>\n",
              "      <th>12258</th>\n",
              "      <td>False</td>\n",
              "      <td>0.033798</td>\n",
              "      <td>False</td>\n",
              "      <td>True</td>\n",
              "    </tr>\n",
              "    <tr>\n",
              "      <th>32042</th>\n",
              "      <td>False</td>\n",
              "      <td>0.154524</td>\n",
              "      <td>False</td>\n",
              "      <td>True</td>\n",
              "    </tr>\n",
              "    <tr>\n",
              "      <th>31118</th>\n",
              "      <td>True</td>\n",
              "      <td>0.151006</td>\n",
              "      <td>False</td>\n",
              "      <td>False</td>\n",
              "    </tr>\n",
              "    <tr>\n",
              "      <th>20444</th>\n",
              "      <td>False</td>\n",
              "      <td>0.075511</td>\n",
              "      <td>False</td>\n",
              "      <td>True</td>\n",
              "    </tr>\n",
              "    <tr>\n",
              "      <th>4216</th>\n",
              "      <td>False</td>\n",
              "      <td>0.034492</td>\n",
              "      <td>False</td>\n",
              "      <td>True</td>\n",
              "    </tr>\n",
              "    <tr>\n",
              "      <th>6347</th>\n",
              "      <td>False</td>\n",
              "      <td>0.035736</td>\n",
              "      <td>False</td>\n",
              "      <td>True</td>\n",
              "    </tr>\n",
              "    <tr>\n",
              "      <th>39226</th>\n",
              "      <td>True</td>\n",
              "      <td>0.514844</td>\n",
              "      <td>True</td>\n",
              "      <td>True</td>\n",
              "    </tr>\n",
              "  </tbody>\n",
              "</table>\n",
              "</div>"
            ],
            "text/plain": [
              "       Ground Truth  Predicted Probability  Discrete Prediction  \\\n",
              "25611         False               0.046975                False   \n",
              "26010         False               0.047394                False   \n",
              "40194          True               0.496365                False   \n",
              "297           False               0.055192                False   \n",
              "36344         False               0.237408                False   \n",
              "21806         False               0.074210                False   \n",
              "37395          True               0.137224                False   \n",
              "25863         False               0.067178                False   \n",
              "7393          False               0.037002                False   \n",
              "14697         False               0.051333                False   \n",
              "17537         False               0.051333                False   \n",
              "1595          False               0.048426                False   \n",
              "13720         False               0.063659                False   \n",
              "12258         False               0.033798                False   \n",
              "32042         False               0.154524                False   \n",
              "31118          True               0.151006                False   \n",
              "20444         False               0.075511                False   \n",
              "4216          False               0.034492                False   \n",
              "6347          False               0.035736                False   \n",
              "39226          True               0.514844                 True   \n",
              "\n",
              "       Correct Prediction?  \n",
              "25611                 True  \n",
              "26010                 True  \n",
              "40194                False  \n",
              "297                   True  \n",
              "36344                 True  \n",
              "21806                 True  \n",
              "37395                False  \n",
              "25863                 True  \n",
              "7393                  True  \n",
              "14697                 True  \n",
              "17537                 True  \n",
              "1595                  True  \n",
              "13720                 True  \n",
              "12258                 True  \n",
              "32042                 True  \n",
              "31118                False  \n",
              "20444                 True  \n",
              "4216                  True  \n",
              "6347                  True  \n",
              "39226                 True  "
            ]
          },
          "metadata": {
            "tags": []
          },
          "execution_count": 518
        }
      ]
    },
    {
      "cell_type": "code",
      "metadata": {
        "id": "GdtDZtx6tEPz",
        "colab_type": "code",
        "outputId": "62ba74aa-5870-42bc-f06b-366fbfe0c769",
        "colab": {
          "base_uri": "https://localhost:8080/",
          "height": 101
        }
      },
      "source": [
        "threshold = 0.5#% confidence people will sign up\n",
        "y_pred = y_pred_proba >= threshold\n",
        "correct = y_pred == y_train\n",
        "\n",
        "labels = pd.DataFrame({'Ground Truth': y_train, \n",
        "                       'Predicted Probability': y_pred_proba, \n",
        "                       'Discrete Prediction': y_pred, \n",
        "                       'Correct Prediction?': correct})\n",
        "\n",
        "labels.loc[8]"
      ],
      "execution_count": 0,
      "outputs": [
        {
          "output_type": "execute_result",
          "data": {
            "text/plain": [
              "Ground Truth                 False\n",
              "Predicted Probability    0.0615067\n",
              "Discrete Prediction          False\n",
              "Correct Prediction?           True\n",
              "Name: 8, dtype: object"
            ]
          },
          "metadata": {
            "tags": []
          },
          "execution_count": 519
        }
      ]
    },
    {
      "cell_type": "code",
      "metadata": {
        "id": "W4g-Cep2tG8S",
        "colab_type": "code",
        "outputId": "229adb49-d30c-4521-fe19-08cd73832343",
        "colab": {
          "base_uri": "https://localhost:8080/",
          "height": 269
        }
      },
      "source": [
        "labels['Discrete Prediction'].value_counts(normalize=True).plot.barh(color='grey');"
      ],
      "execution_count": 0,
      "outputs": [
        {
          "output_type": "display_data",
          "data": {
            "image/png": "[encoded data removed]",
            "text/plain": [
              "<Figure size 432x288 with 1 Axes>"
            ]
          },
          "metadata": {
            "tags": []
          }
        }
      ]
    },
    {
      "cell_type": "code",
      "metadata": {
        "id": "FdSr3dqTtJ-7",
        "colab_type": "code",
        "outputId": "9a4be875-9d2a-43d6-a19e-46287d57b56d",
        "colab": {
          "base_uri": "https://localhost:8080/",
          "height": 269
        }
      },
      "source": [
        "labels['Ground Truth'].value_counts(normalize=True).plot.barh(color='grey');"
      ],
      "execution_count": 0,
      "outputs": [
        {
          "output_type": "display_data",
          "data": {
            "image/png": "[encoded data removed]",
            "text/plain": [
              "<Figure size 432x288 with 1 Axes>"
            ]
          },
          "metadata": {
            "tags": []
          }
        }
      ]
    },
    {
      "cell_type": "code",
      "metadata": {
        "id": "0Re_yx8MtL4F",
        "colab_type": "code",
        "outputId": "a5e6890f-0ad8-4e26-db66-b6fbc718809a",
        "colab": {
          "base_uri": "https://localhost:8080/",
          "height": 283
        }
      },
      "source": [
        "import seaborn as sns\n",
        "sns.distplot(labels['Predicted Probability']);"
      ],
      "execution_count": 0,
      "outputs": [
        {
          "output_type": "display_data",
          "data": {
            "image/png": "[encoded data removed]",
            "text/plain": [
              "<Figure size 432x288 with 1 Axes>"
            ]
          },
          "metadata": {
            "tags": []
          }
        }
      ]
    },
    {
      "cell_type": "code",
      "metadata": {
        "id": "Xktl-T8YtNwz",
        "colab_type": "code",
        "outputId": "7f28e6f2-1bb0-4f18-9dad-0b4a39c3a456",
        "colab": {
          "base_uri": "https://localhost:8080/",
          "height": 262
        }
      },
      "source": [
        "from sklearn.metrics import classification_report, confusion_matrix\n",
        "\n",
        "threshold = 0.1\n",
        "y_pred = y_pred_proba >= threshold\n",
        "\n",
        "print(classification_report(y_train, y_pred))\n",
        "\n",
        "pd.DataFrame(confusion_matrix(y_train, y_pred), \n",
        "             columns=['Predicted Negative', 'Predicted Positive'], \n",
        "             index=['Actual Negative', 'Actual Positive'])"
      ],
      "execution_count": 0,
      "outputs": [
        {
          "output_type": "stream",
          "text": [
            "              precision    recall  f1-score   support\n",
            "\n",
            "       False       0.95      0.74      0.83     29238\n",
            "        True       0.25      0.69      0.37      3712\n",
            "\n",
            "   micro avg       0.73      0.73      0.73     32950\n",
            "   macro avg       0.60      0.72      0.60     32950\n",
            "weighted avg       0.87      0.73      0.78     32950\n",
            "\n"
          ],
          "name": "stdout"
        },
        {
          "output_type": "execute_result",
          "data": {
            "text/html": [
              "<div>\n",
              "<style scoped>\n",
              "    .dataframe tbody tr th:only-of-type {\n",
              "        vertical-align: middle;\n",
              "    }\n",
              "\n",
              "    .dataframe tbody tr th {\n",
              "        vertical-align: top;\n",
              "    }\n",
              "\n",
              "    .dataframe thead th {\n",
              "        text-align: right;\n",
              "    }\n",
              "</style>\n",
              "<table border=\"1\" class=\"dataframe\">\n",
              "  <thead>\n",
              "    <tr style=\"text-align: right;\">\n",
              "      <th></th>\n",
              "      <th>Predicted Negative</th>\n",
              "      <th>Predicted Positive</th>\n",
              "    </tr>\n",
              "  </thead>\n",
              "  <tbody>\n",
              "    <tr>\n",
              "      <th>Actual Negative</th>\n",
              "      <td>21640</td>\n",
              "      <td>7598</td>\n",
              "    </tr>\n",
              "    <tr>\n",
              "      <th>Actual Positive</th>\n",
              "      <td>1146</td>\n",
              "      <td>2566</td>\n",
              "    </tr>\n",
              "  </tbody>\n",
              "</table>\n",
              "</div>"
            ],
            "text/plain": [
              "                 Predicted Negative  Predicted Positive\n",
              "Actual Negative               21640                7598\n",
              "Actual Positive                1146                2566"
            ]
          },
          "metadata": {
            "tags": []
          },
          "execution_count": 523
        }
      ]
    },
    {
      "cell_type": "code",
      "metadata": {
        "id": "JAPlAXhytRJE",
        "colab_type": "code",
        "outputId": "82be4dec-4ece-46bb-b839-a2025bc4c4d4",
        "colab": {
          "base_uri": "https://localhost:8080/",
          "height": 34
        }
      },
      "source": [
        "true_negative  = 21640 #actual negative, predicted negative\n",
        "false_positive = 7598 #actual negative, predicted positive\n",
        "false_negative = 1146 #actual positive, predicted negative\n",
        "true_positive  = 2566 #actual positive, predicted positive\n",
        "\n",
        "actual_negative = 21640 + 7598\n",
        "actual_positive =1146 + 2566\n",
        "\n",
        "predicted_negative = 21640 + 1146\n",
        "predicted_positive = 7598 + 2566\n",
        "\n",
        "accuracy = (true_positive + true_negative) / (predicted_negative + predicted_positive)\n",
        "#correct predictions / total predictions % , (true positives + true negatives)/(sum of all 4 numbers) \n",
        "precision = true_positive / predicted_positive\n",
        "#precision and recall are based on relevance\n",
        "#precision, based on how many selected, which are relevant?\n",
        "#any search result on google - precision - search with eral scruggs / total search results\n",
        "recall = true_positive / actual_positive\n",
        "#recall, based on how many relevant, how many are selected?\n",
        "#what was your recall for the most relevant things?\n",
        "#of all the people who would sign up, how many did you actually select to call?\n",
        "f1 = 2*precision * recall / (precision+recall)\n",
        "print('Accuracy:',accuracy,'Precision:', precision, 'Recall:', recall,'F1', f1)"
      ],
      "execution_count": 0,
      "outputs": [
        {
          "output_type": "stream",
          "text": [
            "Accuracy: 0.734628224582701 Precision: 0.25245966155057065 Recall: 0.6912715517241379 F1 0.3698472182185068\n"
          ],
          "name": "stdout"
        }
      ]
    },
    {
      "cell_type": "code",
      "metadata": {
        "id": "sXCH_2G_t7iL",
        "colab_type": "code",
        "outputId": "81b7aec0-fd23-4359-cd68-056d6d50ae83",
        "colab": {
          "base_uri": "https://localhost:8080/",
          "height": 312
        }
      },
      "source": [
        "from sklearn.metrics import roc_auc_score, roc_curve\n",
        "fpr, tpr, thresholds = roc_curve(y_train, y_pred_proba)\n",
        "plt.plot(fpr, tpr)\n",
        "plt.title('ROC curve')\n",
        "plt.xlabel('False Positive Rate')\n",
        "plt.ylabel('True Positive Rate')\n",
        "print('Area under the Receiver Operating Characteristic curve:', \n",
        "      roc_auc_score(y_train, y_pred_proba))\n",
        "    \n",
        "# When threshold = 0.5\n",
        "false_positives = false_positive\n",
        "true_positives = true_positive\n",
        "false_positive_rate = false_positives/actual_negative\n",
        "true_positive_rate = true_positives/actual_positive\n",
        "plt.scatter(false_positive_rate, true_positive_rate)\n",
        "\n",
        "# When threshold = 0.1\n",
        "false_positives = false_positive\n",
        "true_positives = true_positive\n",
        "false_positive_rate = false_positives/actual_negative\n",
        "true_positive_rate = true_positives/actual_positive\n",
        "plt.scatter(false_positive_rate, true_positive_rate);"
      ],
      "execution_count": 0,
      "outputs": [
        {
          "output_type": "stream",
          "text": [
            "Area under the Receiver Operating Characteristic curve: 0.764150206369663\n"
          ],
          "name": "stdout"
        },
        {
          "output_type": "display_data",
          "data": {
            "image/png": "[encoded data removed]",
            "text/plain": [
              "<Figure size 432x288 with 1 Axes>"
            ]
          },
          "metadata": {
            "tags": []
          }
        }
      ]
    },
    {
      "cell_type": "code",
      "metadata": {
        "id": "7A-SuMacuIr8",
        "colab_type": "code",
        "colab": {}
      },
      "source": [
        "bank_reduced_2 = bank[['poutcome','job_label']]"
      ],
      "execution_count": 0,
      "outputs": []
    },
    {
      "cell_type": "code",
      "metadata": {
        "id": "P3SWiizg3WEZ",
        "colab_type": "code",
        "colab": {}
      },
      "source": [
        "# Assign to X, y\n",
        "X = bank_reduced_2\n",
        "y = bank['y'] == 'yes'\n",
        "\n",
        "# Split Train, Test\n",
        "X_train, X_test, y_train, y_test = train_test_split(\n",
        "    X, y, test_size=0.2, random_state=42, stratify=y)#only makes sense for categorical variables, using class labels, only for classification, not regression\n",
        "\n",
        "# Make pipeline\n",
        "pipeline = make_pipeline(\n",
        "    ce.OneHotEncoder(use_cat_names=True), \n",
        "    StandardScaler(), \n",
        "    LogisticRegression(solver='lbfgs', max_iter=1000)\n",
        ")"
      ],
      "execution_count": 0,
      "outputs": []
    },
    {
      "cell_type": "code",
      "metadata": {
        "id": "rDopToBR3bSI",
        "colab_type": "code",
        "colab": {}
      },
      "source": [
        "from sklearn.model_selection import cross_val_predict\n",
        "\n",
        "y_pred_proba = cross_val_predict(pipeline, X_train, y_train, cv=3, n_jobs=-1, \n",
        "                                 method='predict_proba')[:,1]"
      ],
      "execution_count": 0,
      "outputs": []
    },
    {
      "cell_type": "code",
      "metadata": {
        "id": "Mf5VxoPN3iWp",
        "colab_type": "code",
        "outputId": "ee4bc074-8f0c-4ea3-806d-9849b33f98ca",
        "colab": {
          "base_uri": "https://localhost:8080/",
          "height": 663
        }
      },
      "source": [
        "threshold = 0.5#% confidence people will sign up\n",
        "#how many positive predictions we want\n",
        "y_pred = y_pred_proba >= threshold\n",
        "correct = y_pred == y_train\n",
        "\n",
        "labels = pd.DataFrame({'Ground Truth': y_train, \n",
        "                       'Predicted Probability': y_pred_proba, \n",
        "                       'Discrete Prediction': y_pred, \n",
        "                       'Correct Prediction?': correct})\n",
        "\n",
        "labels.head(20)"
      ],
      "execution_count": 0,
      "outputs": [
        {
          "output_type": "execute_result",
          "data": {
            "text/html": [
              "<div>\n",
              "<style scoped>\n",
              "    .dataframe tbody tr th:only-of-type {\n",
              "        vertical-align: middle;\n",
              "    }\n",
              "\n",
              "    .dataframe tbody tr th {\n",
              "        vertical-align: top;\n",
              "    }\n",
              "\n",
              "    .dataframe thead th {\n",
              "        text-align: right;\n",
              "    }\n",
              "</style>\n",
              "<table border=\"1\" class=\"dataframe\">\n",
              "  <thead>\n",
              "    <tr style=\"text-align: right;\">\n",
              "      <th></th>\n",
              "      <th>Ground Truth</th>\n",
              "      <th>Predicted Probability</th>\n",
              "      <th>Discrete Prediction</th>\n",
              "      <th>Correct Prediction?</th>\n",
              "    </tr>\n",
              "  </thead>\n",
              "  <tbody>\n",
              "    <tr>\n",
              "      <th>25611</th>\n",
              "      <td>False</td>\n",
              "      <td>0.085147</td>\n",
              "      <td>False</td>\n",
              "      <td>True</td>\n",
              "    </tr>\n",
              "    <tr>\n",
              "      <th>26010</th>\n",
              "      <td>False</td>\n",
              "      <td>0.135772</td>\n",
              "      <td>False</td>\n",
              "      <td>True</td>\n",
              "    </tr>\n",
              "    <tr>\n",
              "      <th>40194</th>\n",
              "      <td>True</td>\n",
              "      <td>0.090640</td>\n",
              "      <td>False</td>\n",
              "      <td>False</td>\n",
              "    </tr>\n",
              "    <tr>\n",
              "      <th>297</th>\n",
              "      <td>False</td>\n",
              "      <td>0.083822</td>\n",
              "      <td>False</td>\n",
              "      <td>True</td>\n",
              "    </tr>\n",
              "    <tr>\n",
              "      <th>36344</th>\n",
              "      <td>False</td>\n",
              "      <td>0.090640</td>\n",
              "      <td>False</td>\n",
              "      <td>True</td>\n",
              "    </tr>\n",
              "    <tr>\n",
              "      <th>21806</th>\n",
              "      <td>False</td>\n",
              "      <td>0.083822</td>\n",
              "      <td>False</td>\n",
              "      <td>True</td>\n",
              "    </tr>\n",
              "    <tr>\n",
              "      <th>37395</th>\n",
              "      <td>True</td>\n",
              "      <td>0.094967</td>\n",
              "      <td>False</td>\n",
              "      <td>False</td>\n",
              "    </tr>\n",
              "    <tr>\n",
              "      <th>25863</th>\n",
              "      <td>False</td>\n",
              "      <td>0.085147</td>\n",
              "      <td>False</td>\n",
              "      <td>True</td>\n",
              "    </tr>\n",
              "    <tr>\n",
              "      <th>7393</th>\n",
              "      <td>False</td>\n",
              "      <td>0.085147</td>\n",
              "      <td>False</td>\n",
              "      <td>True</td>\n",
              "    </tr>\n",
              "    <tr>\n",
              "      <th>14697</th>\n",
              "      <td>False</td>\n",
              "      <td>0.083822</td>\n",
              "      <td>False</td>\n",
              "      <td>True</td>\n",
              "    </tr>\n",
              "    <tr>\n",
              "      <th>17537</th>\n",
              "      <td>False</td>\n",
              "      <td>0.093505</td>\n",
              "      <td>False</td>\n",
              "      <td>True</td>\n",
              "    </tr>\n",
              "    <tr>\n",
              "      <th>1595</th>\n",
              "      <td>False</td>\n",
              "      <td>0.096450</td>\n",
              "      <td>False</td>\n",
              "      <td>True</td>\n",
              "    </tr>\n",
              "    <tr>\n",
              "      <th>13720</th>\n",
              "      <td>False</td>\n",
              "      <td>0.092062</td>\n",
              "      <td>False</td>\n",
              "      <td>True</td>\n",
              "    </tr>\n",
              "    <tr>\n",
              "      <th>12258</th>\n",
              "      <td>False</td>\n",
              "      <td>0.089238</td>\n",
              "      <td>False</td>\n",
              "      <td>True</td>\n",
              "    </tr>\n",
              "    <tr>\n",
              "      <th>32042</th>\n",
              "      <td>False</td>\n",
              "      <td>0.085147</td>\n",
              "      <td>False</td>\n",
              "      <td>True</td>\n",
              "    </tr>\n",
              "    <tr>\n",
              "      <th>31118</th>\n",
              "      <td>True</td>\n",
              "      <td>0.085147</td>\n",
              "      <td>False</td>\n",
              "      <td>False</td>\n",
              "    </tr>\n",
              "    <tr>\n",
              "      <th>20444</th>\n",
              "      <td>False</td>\n",
              "      <td>0.083822</td>\n",
              "      <td>False</td>\n",
              "      <td>True</td>\n",
              "    </tr>\n",
              "    <tr>\n",
              "      <th>4216</th>\n",
              "      <td>False</td>\n",
              "      <td>0.096450</td>\n",
              "      <td>False</td>\n",
              "      <td>True</td>\n",
              "    </tr>\n",
              "    <tr>\n",
              "      <th>6347</th>\n",
              "      <td>False</td>\n",
              "      <td>0.093505</td>\n",
              "      <td>False</td>\n",
              "      <td>True</td>\n",
              "    </tr>\n",
              "    <tr>\n",
              "      <th>39226</th>\n",
              "      <td>True</td>\n",
              "      <td>0.617176</td>\n",
              "      <td>True</td>\n",
              "      <td>True</td>\n",
              "    </tr>\n",
              "  </tbody>\n",
              "</table>\n",
              "</div>"
            ],
            "text/plain": [
              "       Ground Truth  Predicted Probability  Discrete Prediction  \\\n",
              "25611         False               0.085147                False   \n",
              "26010         False               0.135772                False   \n",
              "40194          True               0.090640                False   \n",
              "297           False               0.083822                False   \n",
              "36344         False               0.090640                False   \n",
              "21806         False               0.083822                False   \n",
              "37395          True               0.094967                False   \n",
              "25863         False               0.085147                False   \n",
              "7393          False               0.085147                False   \n",
              "14697         False               0.083822                False   \n",
              "17537         False               0.093505                False   \n",
              "1595          False               0.096450                False   \n",
              "13720         False               0.092062                False   \n",
              "12258         False               0.089238                False   \n",
              "32042         False               0.085147                False   \n",
              "31118          True               0.085147                False   \n",
              "20444         False               0.083822                False   \n",
              "4216          False               0.096450                False   \n",
              "6347          False               0.093505                False   \n",
              "39226          True               0.617176                 True   \n",
              "\n",
              "       Correct Prediction?  \n",
              "25611                 True  \n",
              "26010                 True  \n",
              "40194                False  \n",
              "297                   True  \n",
              "36344                 True  \n",
              "21806                 True  \n",
              "37395                False  \n",
              "25863                 True  \n",
              "7393                  True  \n",
              "14697                 True  \n",
              "17537                 True  \n",
              "1595                  True  \n",
              "13720                 True  \n",
              "12258                 True  \n",
              "32042                 True  \n",
              "31118                False  \n",
              "20444                 True  \n",
              "4216                  True  \n",
              "6347                  True  \n",
              "39226                 True  "
            ]
          },
          "metadata": {
            "tags": []
          },
          "execution_count": 545
        }
      ]
    },
    {
      "cell_type": "code",
      "metadata": {
        "id": "SDVhLpIF3lqB",
        "colab_type": "code",
        "outputId": "761ad16c-30e3-4bb8-bda1-d40ab792fb8a",
        "colab": {
          "base_uri": "https://localhost:8080/",
          "height": 101
        }
      },
      "source": [
        "threshold = 0.5#% confidence people will sign up\n",
        "y_pred = y_pred_proba >= threshold\n",
        "correct = y_pred == y_train\n",
        "\n",
        "labels = pd.DataFrame({'Ground Truth': y_train, \n",
        "                       'Predicted Probability': y_pred_proba, \n",
        "                       'Discrete Prediction': y_pred, \n",
        "                       'Correct Prediction?': correct})\n",
        "\n",
        "labels.loc[8]"
      ],
      "execution_count": 0,
      "outputs": [
        {
          "output_type": "execute_result",
          "data": {
            "text/plain": [
              "Ground Truth                 False\n",
              "Predicted Probability    0.0950139\n",
              "Discrete Prediction          False\n",
              "Correct Prediction?           True\n",
              "Name: 8, dtype: object"
            ]
          },
          "metadata": {
            "tags": []
          },
          "execution_count": 546
        }
      ]
    },
    {
      "cell_type": "code",
      "metadata": {
        "id": "0emlP3UI3pq4",
        "colab_type": "code",
        "outputId": "4bbe45c7-8a89-4a73-9dd5-77276c7a0d21",
        "colab": {
          "base_uri": "https://localhost:8080/",
          "height": 269
        }
      },
      "source": [
        "labels['Discrete Prediction'].value_counts(normalize=True).plot.barh(color='grey');"
      ],
      "execution_count": 0,
      "outputs": [
        {
          "output_type": "display_data",
          "data": {
            "image/png": "[encoded data removed]",
            "text/plain": [
              "<Figure size 432x288 with 1 Axes>"
            ]
          },
          "metadata": {
            "tags": []
          }
        }
      ]
    },
    {
      "cell_type": "code",
      "metadata": {
        "id": "IMXriFpa3tlQ",
        "colab_type": "code",
        "outputId": "49b522f1-b7f2-4ec0-d729-1a34ff6ae0a0",
        "colab": {
          "base_uri": "https://localhost:8080/",
          "height": 269
        }
      },
      "source": [
        "labels['Ground Truth'].value_counts(normalize=True).plot.barh(color='grey');"
      ],
      "execution_count": 0,
      "outputs": [
        {
          "output_type": "display_data",
          "data": {
            "image/png": "[encoded data removed]",
            "text/plain": [
              "<Figure size 432x288 with 1 Axes>"
            ]
          },
          "metadata": {
            "tags": []
          }
        }
      ]
    },
    {
      "cell_type": "code",
      "metadata": {
        "id": "fjr1A1Ya3yEw",
        "colab_type": "code",
        "outputId": "3478410b-4159-490e-f47a-e9f3479e31e7",
        "colab": {
          "base_uri": "https://localhost:8080/",
          "height": 283
        }
      },
      "source": [
        "import seaborn as sns\n",
        "sns.distplot(labels['Predicted Probability']);"
      ],
      "execution_count": 0,
      "outputs": [
        {
          "output_type": "display_data",
          "data": {
            "image/png": "[encoded data removed]",
            "text/plain": [
              "<Figure size 432x288 with 1 Axes>"
            ]
          },
          "metadata": {
            "tags": []
          }
        }
      ]
    },
    {
      "cell_type": "code",
      "metadata": {
        "id": "d5y-ciee32iQ",
        "colab_type": "code",
        "outputId": "28200e1a-cf1e-4b32-93f0-56715602b56b",
        "colab": {
          "base_uri": "https://localhost:8080/",
          "height": 262
        }
      },
      "source": [
        "from sklearn.metrics import classification_report, confusion_matrix\n",
        "\n",
        "threshold = 0.1\n",
        "y_pred = y_pred_proba >= threshold\n",
        "\n",
        "print(classification_report(y_train, y_pred))\n",
        "\n",
        "pd.DataFrame(confusion_matrix(y_train, y_pred), \n",
        "             columns=['Predicted Negative', 'Predicted Positive'], \n",
        "             index=['Actual Negative', 'Actual Positive'])"
      ],
      "execution_count": 0,
      "outputs": [
        {
          "output_type": "stream",
          "text": [
            "              precision    recall  f1-score   support\n",
            "\n",
            "       False       0.91      0.89      0.90     29238\n",
            "        True       0.27      0.33      0.29      3712\n",
            "\n",
            "   micro avg       0.82      0.82      0.82     32950\n",
            "   macro avg       0.59      0.61      0.60     32950\n",
            "weighted avg       0.84      0.82      0.83     32950\n",
            "\n"
          ],
          "name": "stdout"
        },
        {
          "output_type": "execute_result",
          "data": {
            "text/html": [
              "<div>\n",
              "<style scoped>\n",
              "    .dataframe tbody tr th:only-of-type {\n",
              "        vertical-align: middle;\n",
              "    }\n",
              "\n",
              "    .dataframe tbody tr th {\n",
              "        vertical-align: top;\n",
              "    }\n",
              "\n",
              "    .dataframe thead th {\n",
              "        text-align: right;\n",
              "    }\n",
              "</style>\n",
              "<table border=\"1\" class=\"dataframe\">\n",
              "  <thead>\n",
              "    <tr style=\"text-align: right;\">\n",
              "      <th></th>\n",
              "      <th>Predicted Negative</th>\n",
              "      <th>Predicted Positive</th>\n",
              "    </tr>\n",
              "  </thead>\n",
              "  <tbody>\n",
              "    <tr>\n",
              "      <th>Actual Negative</th>\n",
              "      <td>25915</td>\n",
              "      <td>3323</td>\n",
              "    </tr>\n",
              "    <tr>\n",
              "      <th>Actual Positive</th>\n",
              "      <td>2501</td>\n",
              "      <td>1211</td>\n",
              "    </tr>\n",
              "  </tbody>\n",
              "</table>\n",
              "</div>"
            ],
            "text/plain": [
              "                 Predicted Negative  Predicted Positive\n",
              "Actual Negative               25915                3323\n",
              "Actual Positive                2501                1211"
            ]
          },
          "metadata": {
            "tags": []
          },
          "execution_count": 550
        }
      ]
    },
    {
      "cell_type": "code",
      "metadata": {
        "id": "F8CYJwPD37RY",
        "colab_type": "code",
        "outputId": "d9aa66a8-5f33-43b6-f35f-3c3c4fe3f692",
        "colab": {
          "base_uri": "https://localhost:8080/",
          "height": 34
        }
      },
      "source": [
        "true_negative  = 25915 #actual negative, predicted negative\n",
        "false_positive = 3323 #actual negative, predicted positive\n",
        "false_negative = 2501 #actual positive, predicted negative\n",
        "true_positive  = 1211 #actual positive, predicted positive\n",
        "\n",
        "actual_negative = 25915 + 3323\n",
        "actual_positive = 2501 + 1211\n",
        "\n",
        "predicted_negative = 25915 + 3323\n",
        "predicted_positive = 2501 + 1211\n",
        "\n",
        "accuracy = (true_positive + true_negative) / (predicted_negative + predicted_positive)\n",
        "#correct predictions / total predictions % , (true positives + true negatives)/(sum of all 4 numbers) \n",
        "precision = true_positive / predicted_positive\n",
        "#precision and recall are based on relevance\n",
        "#precision, based on how many selected, which are relevant?\n",
        "#any search result on google - precision - search with eral scruggs / total search results\n",
        "recall = true_positive / actual_positive\n",
        "#recall, based on how many relevant, how many are selected?\n",
        "#what was your recall for the most relevant things?\n",
        "#of all the people who would sign up, how many did you actually select to call?\n",
        "f1 = 2*precision * recall / (precision+recall)\n",
        "print('Accuracy:',accuracy,'Precision:', precision, 'Recall:', recall,'F1', f1)"
      ],
      "execution_count": 0,
      "outputs": [
        {
          "output_type": "stream",
          "text": [
            "Accuracy: 0.823247344461305 Precision: 0.32623922413793105 Recall: 0.32623922413793105 F1 0.32623922413793105\n"
          ],
          "name": "stdout"
        }
      ]
    },
    {
      "cell_type": "code",
      "metadata": {
        "id": "yRRjr4OX4iuX",
        "colab_type": "code",
        "outputId": "47f4304d-c474-44d3-a788-ad864835f7a7",
        "colab": {
          "base_uri": "https://localhost:8080/",
          "height": 312
        }
      },
      "source": [
        "from sklearn.metrics import roc_auc_score, roc_curve\n",
        "fpr, tpr, thresholds = roc_curve(y_train, y_pred_proba)\n",
        "plt.plot(fpr, tpr)\n",
        "plt.title('ROC curve')\n",
        "plt.xlabel('False Positive Rate')\n",
        "plt.ylabel('True Positive Rate')\n",
        "print('Area under the Receiver Operating Characteristic curve:', \n",
        "      roc_auc_score(y_train, y_pred_proba))\n",
        "    \n",
        "# When threshold = 0.5\n",
        "false_positives = false_positive\n",
        "true_positives = true_positive\n",
        "false_positive_rate = false_positives/actual_negative\n",
        "true_positive_rate = true_positives/actual_positive\n",
        "plt.scatter(false_positive_rate, true_positive_rate)\n",
        "\n",
        "# When threshold = 0.1\n",
        "false_positives = false_positive\n",
        "true_positives = true_positive\n",
        "false_positive_rate = false_positives/actual_negative\n",
        "true_positive_rate = true_positives/actual_positive\n",
        "plt.scatter(false_positive_rate, true_positive_rate);"
      ],
      "execution_count": 0,
      "outputs": [
        {
          "output_type": "stream",
          "text": [
            "Area under the Receiver Operating Characteristic curve: 0.6162656796938208\n"
          ],
          "name": "stdout"
        },
        {
          "output_type": "display_data",
          "data": {
            "image/png": "[encoded data removed]",
            "text/plain": [
              "<Figure size 432x288 with 1 Axes>"
            ]
          },
          "metadata": {
            "tags": []
          }
        }
      ]
    },
    {
      "cell_type": "code",
      "metadata": {
        "id": "xVBr2lIF0t9e",
        "colab_type": "code",
        "colab": {}
      },
      "source": [
        "Precision = truepositive / (truepositive + falsepositive)"
      ],
      "execution_count": 0,
      "outputs": []
    },
    {
      "cell_type": "code",
      "metadata": {
        "id": "FXfjO_6_04zD",
        "colab_type": "code",
        "colab": {}
      },
      "source": [
        "Recall = truepositive / (truepositive + falsenegative)"
      ],
      "execution_count": 0,
      "outputs": []
    },
    {
      "cell_type": "code",
      "metadata": {
        "id": "jHO2FvyJ4obn",
        "colab_type": "code",
        "outputId": "e0d489e7-23cf-4823-d86e-b795d15d2c69",
        "colab": {
          "base_uri": "https://localhost:8080/",
          "height": 163
        }
      },
      "source": [
        "precision = the mean, plus or minus the average deviation. "
      ],
      "execution_count": 0,
      "outputs": [
        {
          "output_type": "error",
          "ename": "NameError",
          "evalue": "ignored",
          "traceback": [
            "\u001b[0;31m---------------------------------------------------------------------------\u001b[0m",
            "\u001b[0;31mNameError\u001b[0m                                 Traceback (most recent call last)",
            "\u001b[0;32m<ipython-input-555-55e7a0562ad6>\u001b[0m in \u001b[0;36m<module>\u001b[0;34m()\u001b[0m\n\u001b[0;32m----> 1\u001b[0;31m \u001b[0msklearn\u001b[0m\u001b[0;34m.\u001b[0m\u001b[0mmetrics\u001b[0m\u001b[0;34m\u001b[0m\u001b[0;34m\u001b[0m\u001b[0m\n\u001b[0m",
            "\u001b[0;31mNameError\u001b[0m: name 'sklearn' is not defined"
          ]
        }
      ]
    },
    {
      "cell_type": "code",
      "metadata": {
        "id": "f72MaWXt0tUn",
        "colab_type": "code",
        "colab": {}
      },
      "source": [
        ""
      ],
      "execution_count": 0,
      "outputs": []
    },
    {
      "cell_type": "code",
      "metadata": {
        "id": "RQ2ZeoDv5Kz9",
        "colab_type": "code",
        "colab": {}
      },
      "source": [
        "accuracy = (accepted value - observed)/(accepted value*100)"
      ],
      "execution_count": 0,
      "outputs": []
    },
    {
      "cell_type": "code",
      "metadata": {
        "id": "0ZqV8oyOFFEd",
        "colab_type": "code",
        "colab": {}
      },
      "source": [
        " Recall is defined as the number of relevant documents retrieved by a search divided by the total number of existing relevant documents"
      ],
      "execution_count": 0,
      "outputs": []
    },
    {
      "cell_type": "code",
      "metadata": {
        "id": "a71FRfvIFM0a",
        "colab_type": "code",
        "colab": {}
      },
      "source": [
        "F1 score (also F-score or F-measure) is a measure of a test's accuracy. \n",
        "= 2*(precision*recall)/(precision+recall)"
      ],
      "execution_count": 0,
      "outputs": []
    },
    {
      "cell_type": "code",
      "metadata": {
        "id": "KLbNg2XYFgNr",
        "colab_type": "code",
        "colab": {}
      },
      "source": [
        "https://stats.stackexchange.com/questions/51296/how-do-you-calculate-precision-and-recall-for-multiclass-classification-using-co"
      ],
      "execution_count": 0,
      "outputs": []
    },
    {
      "cell_type": "code",
      "metadata": {
        "id": "fXMAFY7CFtP-",
        "colab_type": "code",
        "colab": {}
      },
      "source": [
        "https://www.youtube.com/watch?v=TtIjAiSojFE"
      ],
      "execution_count": 0,
      "outputs": []
    }
  ]
}